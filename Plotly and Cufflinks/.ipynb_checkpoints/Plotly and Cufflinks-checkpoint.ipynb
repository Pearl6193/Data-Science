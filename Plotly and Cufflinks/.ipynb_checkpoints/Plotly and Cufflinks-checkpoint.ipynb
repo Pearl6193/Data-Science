{
 "cells": [
  {
   "cell_type": "code",
   "execution_count": 2,
   "metadata": {},
   "outputs": [],
   "source": [
    "import numpy as np\n",
    "import pandas as pd\n",
    "%matplotlib inline"
   ]
  },
  {
   "cell_type": "code",
   "execution_count": 3,
   "metadata": {},
   "outputs": [],
   "source": [
    "from plotly import __version__\n",
    "from plotly.offline import download_plotlyjs, init_notebook_mode, plot, iplot"
   ]
  },
  {
   "cell_type": "code",
   "execution_count": 4,
   "metadata": {},
   "outputs": [
    {
     "name": "stdout",
     "output_type": "stream",
     "text": [
      "4.14.3\n"
     ]
    }
   ],
   "source": [
    "print(__version__)"
   ]
  },
  {
   "cell_type": "code",
   "execution_count": 5,
   "metadata": {},
   "outputs": [],
   "source": [
    "import cufflinks as cf"
   ]
  },
  {
   "cell_type": "code",
   "execution_count": 6,
   "metadata": {},
   "outputs": [
    {
     "data": {
      "text/html": [
       "        <script type=\"text/javascript\">\n",
       "        window.PlotlyConfig = {MathJaxConfig: 'local'};\n",
       "        if (window.MathJax) {MathJax.Hub.Config({SVG: {font: \"STIX-Web\"}});}\n",
       "        if (typeof require !== 'undefined') {\n",
       "        require.undef(\"plotly\");\n",
       "        requirejs.config({\n",
       "            paths: {\n",
       "                'plotly': ['https://cdn.plot.ly/plotly-latest.min']\n",
       "            }\n",
       "        });\n",
       "        require(['plotly'], function(Plotly) {\n",
       "            window._Plotly = Plotly;\n",
       "        });\n",
       "        }\n",
       "        </script>\n",
       "        "
      ]
     },
     "metadata": {},
     "output_type": "display_data"
    }
   ],
   "source": [
    "init_notebook_mode(connected=True)"
   ]
  },
  {
   "cell_type": "code",
   "execution_count": 7,
   "metadata": {},
   "outputs": [
    {
     "data": {
      "text/html": [
       "        <script type=\"text/javascript\">\n",
       "        window.PlotlyConfig = {MathJaxConfig: 'local'};\n",
       "        if (window.MathJax) {MathJax.Hub.Config({SVG: {font: \"STIX-Web\"}});}\n",
       "        if (typeof require !== 'undefined') {\n",
       "        require.undef(\"plotly\");\n",
       "        requirejs.config({\n",
       "            paths: {\n",
       "                'plotly': ['https://cdn.plot.ly/plotly-latest.min']\n",
       "            }\n",
       "        });\n",
       "        require(['plotly'], function(Plotly) {\n",
       "            window._Plotly = Plotly;\n",
       "        });\n",
       "        }\n",
       "        </script>\n",
       "        "
      ]
     },
     "metadata": {},
     "output_type": "display_data"
    }
   ],
   "source": [
    "cf.go_offline()"
   ]
  },
  {
   "cell_type": "code",
   "execution_count": 8,
   "metadata": {},
   "outputs": [],
   "source": [
    "df=pd.DataFrame(np.random.randn(100,4),columns=\"A B C D\".split())"
   ]
  },
  {
   "cell_type": "code",
   "execution_count": 9,
   "metadata": {},
   "outputs": [
    {
     "data": {
      "text/html": [
       "<div>\n",
       "<style scoped>\n",
       "    .dataframe tbody tr th:only-of-type {\n",
       "        vertical-align: middle;\n",
       "    }\n",
       "\n",
       "    .dataframe tbody tr th {\n",
       "        vertical-align: top;\n",
       "    }\n",
       "\n",
       "    .dataframe thead th {\n",
       "        text-align: right;\n",
       "    }\n",
       "</style>\n",
       "<table border=\"1\" class=\"dataframe\">\n",
       "  <thead>\n",
       "    <tr style=\"text-align: right;\">\n",
       "      <th></th>\n",
       "      <th>A</th>\n",
       "      <th>B</th>\n",
       "      <th>C</th>\n",
       "      <th>D</th>\n",
       "    </tr>\n",
       "  </thead>\n",
       "  <tbody>\n",
       "    <tr>\n",
       "      <th>0</th>\n",
       "      <td>-1.643754</td>\n",
       "      <td>0.199712</td>\n",
       "      <td>-0.763548</td>\n",
       "      <td>-0.132450</td>\n",
       "    </tr>\n",
       "    <tr>\n",
       "      <th>1</th>\n",
       "      <td>0.623633</td>\n",
       "      <td>0.401483</td>\n",
       "      <td>0.727547</td>\n",
       "      <td>1.309065</td>\n",
       "    </tr>\n",
       "    <tr>\n",
       "      <th>2</th>\n",
       "      <td>0.363231</td>\n",
       "      <td>-0.128017</td>\n",
       "      <td>1.210673</td>\n",
       "      <td>0.594103</td>\n",
       "    </tr>\n",
       "    <tr>\n",
       "      <th>3</th>\n",
       "      <td>0.780394</td>\n",
       "      <td>0.810749</td>\n",
       "      <td>-0.268089</td>\n",
       "      <td>1.338414</td>\n",
       "    </tr>\n",
       "    <tr>\n",
       "      <th>4</th>\n",
       "      <td>0.774285</td>\n",
       "      <td>2.537350</td>\n",
       "      <td>0.611354</td>\n",
       "      <td>-1.053100</td>\n",
       "    </tr>\n",
       "  </tbody>\n",
       "</table>\n",
       "</div>"
      ],
      "text/plain": [
       "          A         B         C         D\n",
       "0 -1.643754  0.199712 -0.763548 -0.132450\n",
       "1  0.623633  0.401483  0.727547  1.309065\n",
       "2  0.363231 -0.128017  1.210673  0.594103\n",
       "3  0.780394  0.810749 -0.268089  1.338414\n",
       "4  0.774285  2.537350  0.611354 -1.053100"
      ]
     },
     "execution_count": 9,
     "metadata": {},
     "output_type": "execute_result"
    }
   ],
   "source": [
    "df.head()"
   ]
  },
  {
   "cell_type": "code",
   "execution_count": 10,
   "metadata": {},
   "outputs": [
    {
     "name": "stdout",
     "output_type": "stream",
     "text": [
      "<class 'pandas.core.frame.DataFrame'>\n",
      "RangeIndex: 100 entries, 0 to 99\n",
      "Data columns (total 4 columns):\n",
      " #   Column  Non-Null Count  Dtype  \n",
      "---  ------  --------------  -----  \n",
      " 0   A       100 non-null    float64\n",
      " 1   B       100 non-null    float64\n",
      " 2   C       100 non-null    float64\n",
      " 3   D       100 non-null    float64\n",
      "dtypes: float64(4)\n",
      "memory usage: 3.2 KB\n"
     ]
    }
   ],
   "source": [
    "df.info()"
   ]
  },
  {
   "cell_type": "code",
   "execution_count": 11,
   "metadata": {},
   "outputs": [],
   "source": [
    "df2=pd.DataFrame({\"category\":[\"A\",\"B\",\"C\"],\"values\":[17,30,61]})"
   ]
  },
  {
   "cell_type": "code",
   "execution_count": 12,
   "metadata": {},
   "outputs": [
    {
     "data": {
      "text/html": [
       "<div>\n",
       "<style scoped>\n",
       "    .dataframe tbody tr th:only-of-type {\n",
       "        vertical-align: middle;\n",
       "    }\n",
       "\n",
       "    .dataframe tbody tr th {\n",
       "        vertical-align: top;\n",
       "    }\n",
       "\n",
       "    .dataframe thead th {\n",
       "        text-align: right;\n",
       "    }\n",
       "</style>\n",
       "<table border=\"1\" class=\"dataframe\">\n",
       "  <thead>\n",
       "    <tr style=\"text-align: right;\">\n",
       "      <th></th>\n",
       "      <th>category</th>\n",
       "      <th>values</th>\n",
       "    </tr>\n",
       "  </thead>\n",
       "  <tbody>\n",
       "    <tr>\n",
       "      <th>0</th>\n",
       "      <td>A</td>\n",
       "      <td>17</td>\n",
       "    </tr>\n",
       "    <tr>\n",
       "      <th>1</th>\n",
       "      <td>B</td>\n",
       "      <td>30</td>\n",
       "    </tr>\n",
       "    <tr>\n",
       "      <th>2</th>\n",
       "      <td>C</td>\n",
       "      <td>61</td>\n",
       "    </tr>\n",
       "  </tbody>\n",
       "</table>\n",
       "</div>"
      ],
      "text/plain": [
       "  category  values\n",
       "0        A      17\n",
       "1        B      30\n",
       "2        C      61"
      ]
     },
     "execution_count": 12,
     "metadata": {},
     "output_type": "execute_result"
    }
   ],
   "source": [
    "df2"
   ]
  },
  {
   "cell_type": "code",
   "execution_count": 13,
   "metadata": {},
   "outputs": [
    {
     "data": {
      "application/vnd.plotly.v1+json": {
       "config": {
        "linkText": "Export to plot.ly",
        "plotlyServerURL": "https://plot.ly",
        "showLink": true
       },
       "data": [
        {
         "line": {
          "color": "rgba(255, 153, 51, 1.0)",
          "dash": "solid",
          "shape": "linear",
          "width": 1.3
         },
         "marker": {
          "size": 10,
          "symbol": "circle"
         },
         "mode": "markers",
         "name": "B",
         "text": "",
         "type": "scatter",
         "x": [
          -1.6437536111521518,
          0.6236334115580212,
          0.3632305334696795,
          0.7803939112591669,
          0.7742854821151604,
          -1.0391624009931515,
          1.0889561004772061,
          -0.8820807905725819,
          -0.09884950690901928,
          -2.5490967634952577,
          -1.4465866453633747,
          -0.4296122350300794,
          0.9907776802326949,
          2.2655549907972725,
          1.1436740283221893,
          0.33666342394404386,
          0.08937447215462413,
          -1.046283324201508,
          -0.3732597314122444,
          1.4268298589473511,
          0.8619658253130911,
          -1.5487963505620657,
          1.6661593485730637,
          0.7491924544143039,
          0.621561413774492,
          0.2915885975878172,
          2.0385417913239405,
          1.4244902846641307,
          -2.159052691440464,
          0.5423476711114913,
          -1.6789323696099687,
          -0.5446205803784033,
          0.387883477755812,
          -0.22903596434654588,
          -1.6505967844835412,
          -0.32881281216744135,
          0.6779154927169985,
          1.3681067471795663,
          0.26225857285756615,
          -1.9011589892879166,
          1.1409349082330473,
          -0.9589009714325152,
          0.03238371011666432,
          -0.10655362520754084,
          0.05927441822569643,
          0.42049964960882447,
          1.329575920257925,
          1.285081393630453,
          0.36005982323576674,
          0.6358536168798995,
          0.2025560884588064,
          0.10886754236829017,
          0.4269229835904177,
          0.14374785684194905,
          -0.020302072847358597,
          -0.4560210194505382,
          1.8347967740322737,
          -0.5006575216944982,
          1.6792441205485138,
          0.44958872515811443,
          0.7598644337110251,
          -1.326566371218351,
          -1.111550193856778,
          1.2756505190831742,
          0.7823229849163477,
          -1.1681639647040756,
          0.5987424260829366,
          1.4530772148308835,
          -0.1540334211090501,
          -0.6605279285668003,
          -0.5120412364212491,
          0.49300018525610345,
          -1.7204737222447415,
          -0.13851095685665482,
          -0.3588646633355994,
          -0.672204763993229,
          -0.14758595118924844,
          -0.7408629549882537,
          -1.2913725572359855,
          1.5473308090202944,
          1.318762193807283,
          0.259797984036728,
          -0.40385400584752457,
          -0.05074138338280163,
          -0.5739011980296671,
          0.43687851240248043,
          1.005132152855596,
          0.15754796130132306,
          0.06280552804167883,
          -0.28111370074712844,
          0.14489460641954385,
          0.5492176924141802,
          -2.1359048816395925,
          -0.2445338170684625,
          0.38474457301952225,
          0.014189266045035662,
          2.148224956400063,
          -0.9306543355294326,
          1.4984469196272776,
          -0.23426698205439314
         ],
         "y": [
          0.1997120436245693,
          0.4014825437710733,
          -0.12801667220114157,
          0.8107491846132913,
          2.537350078887453,
          -0.9788869603880892,
          -1.3378194669617782,
          -0.23426486866532062,
          0.8757742912539805,
          -2.0227454095445996,
          -0.017483907928513998,
          -0.8504064065218876,
          0.8995122342064306,
          -3.1965038729005197,
          -0.04595877243296813,
          1.565774686594166,
          0.27195711823104024,
          2.634779913469022,
          -0.6128501112350614,
          -0.9381204025498604,
          2.2254029657148604,
          0.6617734913093654,
          0.1729274366607718,
          0.6373609822877407,
          0.8180905913547657,
          0.6994384744369971,
          -1.0575377803413366,
          0.22628233151882693,
          2.329320119524522,
          -1.112061440235663,
          0.2515419041896052,
          -0.2696718165056928,
          -0.700689498410336,
          1.2123048002103898,
          -0.9600121886012616,
          -0.22177492689954934,
          0.8970292263888108,
          1.9660366494708446,
          1.2700402043716204,
          -1.3259086935966156,
          -0.1092438311787329,
          -1.3838336167537948,
          1.309337408044333,
          0.7369189504715908,
          0.9793750111708072,
          0.8386959382263741,
          -2.6014199515774523,
          -1.9395491169488337,
          -0.24462832833871673,
          -0.012947003675194895,
          -0.9565473591206575,
          1.5222970935820264,
          1.1786194213689853,
          -0.3165252186143081,
          0.5985585830972404,
          1.8747596870918923,
          0.2419895523466944,
          -0.13521215456938623,
          -0.9040822120120701,
          -1.0667699555127341,
          0.32824617656830496,
          -0.6588345803353914,
          1.0699286027722748,
          -0.13033161196575843,
          0.9141706936213561,
          1.0637960589927955,
          -0.10995148242640611,
          -1.0457235356110008,
          0.027499397592431904,
          -0.8941576216741033,
          -0.9020235485999063,
          0.09023310607670769,
          1.8798418811465476,
          -2.0013537041552185,
          0.5032533708041967,
          -0.2601989552156913,
          -0.6770761470398742,
          -0.3487762448643428,
          0.3153186836920095,
          -0.5414590270345206,
          0.28405741070812984,
          -0.07609106182259144,
          0.11656621405857027,
          0.18821641130543096,
          -2.2009179559698975,
          1.0178362295224403,
          0.5121863442190329,
          0.6981423101951505,
          -1.6899453376912257,
          0.7222069010847146,
          -1.3348502683292458,
          0.004150585252992694,
          0.6635657982770735,
          -0.5646265666014189,
          0.12493662861316242,
          -0.6843670840702347,
          -0.13592666505323378,
          0.18138101579973953,
          0.5838414942921941,
          1.1556173562342535
         ]
        }
       ],
       "layout": {
        "legend": {
         "bgcolor": "#F5F6F9",
         "font": {
          "color": "#4D5663"
         }
        },
        "paper_bgcolor": "#F5F6F9",
        "plot_bgcolor": "#F5F6F9",
        "template": {
         "data": {
          "bar": [
           {
            "error_x": {
             "color": "#2a3f5f"
            },
            "error_y": {
             "color": "#2a3f5f"
            },
            "marker": {
             "line": {
              "color": "#E5ECF6",
              "width": 0.5
             }
            },
            "type": "bar"
           }
          ],
          "barpolar": [
           {
            "marker": {
             "line": {
              "color": "#E5ECF6",
              "width": 0.5
             }
            },
            "type": "barpolar"
           }
          ],
          "carpet": [
           {
            "aaxis": {
             "endlinecolor": "#2a3f5f",
             "gridcolor": "white",
             "linecolor": "white",
             "minorgridcolor": "white",
             "startlinecolor": "#2a3f5f"
            },
            "baxis": {
             "endlinecolor": "#2a3f5f",
             "gridcolor": "white",
             "linecolor": "white",
             "minorgridcolor": "white",
             "startlinecolor": "#2a3f5f"
            },
            "type": "carpet"
           }
          ],
          "choropleth": [
           {
            "colorbar": {
             "outlinewidth": 0,
             "ticks": ""
            },
            "type": "choropleth"
           }
          ],
          "contour": [
           {
            "colorbar": {
             "outlinewidth": 0,
             "ticks": ""
            },
            "colorscale": [
             [
              0,
              "#0d0887"
             ],
             [
              0.1111111111111111,
              "#46039f"
             ],
             [
              0.2222222222222222,
              "#7201a8"
             ],
             [
              0.3333333333333333,
              "#9c179e"
             ],
             [
              0.4444444444444444,
              "#bd3786"
             ],
             [
              0.5555555555555556,
              "#d8576b"
             ],
             [
              0.6666666666666666,
              "#ed7953"
             ],
             [
              0.7777777777777778,
              "#fb9f3a"
             ],
             [
              0.8888888888888888,
              "#fdca26"
             ],
             [
              1,
              "#f0f921"
             ]
            ],
            "type": "contour"
           }
          ],
          "contourcarpet": [
           {
            "colorbar": {
             "outlinewidth": 0,
             "ticks": ""
            },
            "type": "contourcarpet"
           }
          ],
          "heatmap": [
           {
            "colorbar": {
             "outlinewidth": 0,
             "ticks": ""
            },
            "colorscale": [
             [
              0,
              "#0d0887"
             ],
             [
              0.1111111111111111,
              "#46039f"
             ],
             [
              0.2222222222222222,
              "#7201a8"
             ],
             [
              0.3333333333333333,
              "#9c179e"
             ],
             [
              0.4444444444444444,
              "#bd3786"
             ],
             [
              0.5555555555555556,
              "#d8576b"
             ],
             [
              0.6666666666666666,
              "#ed7953"
             ],
             [
              0.7777777777777778,
              "#fb9f3a"
             ],
             [
              0.8888888888888888,
              "#fdca26"
             ],
             [
              1,
              "#f0f921"
             ]
            ],
            "type": "heatmap"
           }
          ],
          "heatmapgl": [
           {
            "colorbar": {
             "outlinewidth": 0,
             "ticks": ""
            },
            "colorscale": [
             [
              0,
              "#0d0887"
             ],
             [
              0.1111111111111111,
              "#46039f"
             ],
             [
              0.2222222222222222,
              "#7201a8"
             ],
             [
              0.3333333333333333,
              "#9c179e"
             ],
             [
              0.4444444444444444,
              "#bd3786"
             ],
             [
              0.5555555555555556,
              "#d8576b"
             ],
             [
              0.6666666666666666,
              "#ed7953"
             ],
             [
              0.7777777777777778,
              "#fb9f3a"
             ],
             [
              0.8888888888888888,
              "#fdca26"
             ],
             [
              1,
              "#f0f921"
             ]
            ],
            "type": "heatmapgl"
           }
          ],
          "histogram": [
           {
            "marker": {
             "colorbar": {
              "outlinewidth": 0,
              "ticks": ""
             }
            },
            "type": "histogram"
           }
          ],
          "histogram2d": [
           {
            "colorbar": {
             "outlinewidth": 0,
             "ticks": ""
            },
            "colorscale": [
             [
              0,
              "#0d0887"
             ],
             [
              0.1111111111111111,
              "#46039f"
             ],
             [
              0.2222222222222222,
              "#7201a8"
             ],
             [
              0.3333333333333333,
              "#9c179e"
             ],
             [
              0.4444444444444444,
              "#bd3786"
             ],
             [
              0.5555555555555556,
              "#d8576b"
             ],
             [
              0.6666666666666666,
              "#ed7953"
             ],
             [
              0.7777777777777778,
              "#fb9f3a"
             ],
             [
              0.8888888888888888,
              "#fdca26"
             ],
             [
              1,
              "#f0f921"
             ]
            ],
            "type": "histogram2d"
           }
          ],
          "histogram2dcontour": [
           {
            "colorbar": {
             "outlinewidth": 0,
             "ticks": ""
            },
            "colorscale": [
             [
              0,
              "#0d0887"
             ],
             [
              0.1111111111111111,
              "#46039f"
             ],
             [
              0.2222222222222222,
              "#7201a8"
             ],
             [
              0.3333333333333333,
              "#9c179e"
             ],
             [
              0.4444444444444444,
              "#bd3786"
             ],
             [
              0.5555555555555556,
              "#d8576b"
             ],
             [
              0.6666666666666666,
              "#ed7953"
             ],
             [
              0.7777777777777778,
              "#fb9f3a"
             ],
             [
              0.8888888888888888,
              "#fdca26"
             ],
             [
              1,
              "#f0f921"
             ]
            ],
            "type": "histogram2dcontour"
           }
          ],
          "mesh3d": [
           {
            "colorbar": {
             "outlinewidth": 0,
             "ticks": ""
            },
            "type": "mesh3d"
           }
          ],
          "parcoords": [
           {
            "line": {
             "colorbar": {
              "outlinewidth": 0,
              "ticks": ""
             }
            },
            "type": "parcoords"
           }
          ],
          "pie": [
           {
            "automargin": true,
            "type": "pie"
           }
          ],
          "scatter": [
           {
            "marker": {
             "colorbar": {
              "outlinewidth": 0,
              "ticks": ""
             }
            },
            "type": "scatter"
           }
          ],
          "scatter3d": [
           {
            "line": {
             "colorbar": {
              "outlinewidth": 0,
              "ticks": ""
             }
            },
            "marker": {
             "colorbar": {
              "outlinewidth": 0,
              "ticks": ""
             }
            },
            "type": "scatter3d"
           }
          ],
          "scattercarpet": [
           {
            "marker": {
             "colorbar": {
              "outlinewidth": 0,
              "ticks": ""
             }
            },
            "type": "scattercarpet"
           }
          ],
          "scattergeo": [
           {
            "marker": {
             "colorbar": {
              "outlinewidth": 0,
              "ticks": ""
             }
            },
            "type": "scattergeo"
           }
          ],
          "scattergl": [
           {
            "marker": {
             "colorbar": {
              "outlinewidth": 0,
              "ticks": ""
             }
            },
            "type": "scattergl"
           }
          ],
          "scattermapbox": [
           {
            "marker": {
             "colorbar": {
              "outlinewidth": 0,
              "ticks": ""
             }
            },
            "type": "scattermapbox"
           }
          ],
          "scatterpolar": [
           {
            "marker": {
             "colorbar": {
              "outlinewidth": 0,
              "ticks": ""
             }
            },
            "type": "scatterpolar"
           }
          ],
          "scatterpolargl": [
           {
            "marker": {
             "colorbar": {
              "outlinewidth": 0,
              "ticks": ""
             }
            },
            "type": "scatterpolargl"
           }
          ],
          "scatterternary": [
           {
            "marker": {
             "colorbar": {
              "outlinewidth": 0,
              "ticks": ""
             }
            },
            "type": "scatterternary"
           }
          ],
          "surface": [
           {
            "colorbar": {
             "outlinewidth": 0,
             "ticks": ""
            },
            "colorscale": [
             [
              0,
              "#0d0887"
             ],
             [
              0.1111111111111111,
              "#46039f"
             ],
             [
              0.2222222222222222,
              "#7201a8"
             ],
             [
              0.3333333333333333,
              "#9c179e"
             ],
             [
              0.4444444444444444,
              "#bd3786"
             ],
             [
              0.5555555555555556,
              "#d8576b"
             ],
             [
              0.6666666666666666,
              "#ed7953"
             ],
             [
              0.7777777777777778,
              "#fb9f3a"
             ],
             [
              0.8888888888888888,
              "#fdca26"
             ],
             [
              1,
              "#f0f921"
             ]
            ],
            "type": "surface"
           }
          ],
          "table": [
           {
            "cells": {
             "fill": {
              "color": "#EBF0F8"
             },
             "line": {
              "color": "white"
             }
            },
            "header": {
             "fill": {
              "color": "#C8D4E3"
             },
             "line": {
              "color": "white"
             }
            },
            "type": "table"
           }
          ]
         },
         "layout": {
          "annotationdefaults": {
           "arrowcolor": "#2a3f5f",
           "arrowhead": 0,
           "arrowwidth": 1
          },
          "autotypenumbers": "strict",
          "coloraxis": {
           "colorbar": {
            "outlinewidth": 0,
            "ticks": ""
           }
          },
          "colorscale": {
           "diverging": [
            [
             0,
             "#8e0152"
            ],
            [
             0.1,
             "#c51b7d"
            ],
            [
             0.2,
             "#de77ae"
            ],
            [
             0.3,
             "#f1b6da"
            ],
            [
             0.4,
             "#fde0ef"
            ],
            [
             0.5,
             "#f7f7f7"
            ],
            [
             0.6,
             "#e6f5d0"
            ],
            [
             0.7,
             "#b8e186"
            ],
            [
             0.8,
             "#7fbc41"
            ],
            [
             0.9,
             "#4d9221"
            ],
            [
             1,
             "#276419"
            ]
           ],
           "sequential": [
            [
             0,
             "#0d0887"
            ],
            [
             0.1111111111111111,
             "#46039f"
            ],
            [
             0.2222222222222222,
             "#7201a8"
            ],
            [
             0.3333333333333333,
             "#9c179e"
            ],
            [
             0.4444444444444444,
             "#bd3786"
            ],
            [
             0.5555555555555556,
             "#d8576b"
            ],
            [
             0.6666666666666666,
             "#ed7953"
            ],
            [
             0.7777777777777778,
             "#fb9f3a"
            ],
            [
             0.8888888888888888,
             "#fdca26"
            ],
            [
             1,
             "#f0f921"
            ]
           ],
           "sequentialminus": [
            [
             0,
             "#0d0887"
            ],
            [
             0.1111111111111111,
             "#46039f"
            ],
            [
             0.2222222222222222,
             "#7201a8"
            ],
            [
             0.3333333333333333,
             "#9c179e"
            ],
            [
             0.4444444444444444,
             "#bd3786"
            ],
            [
             0.5555555555555556,
             "#d8576b"
            ],
            [
             0.6666666666666666,
             "#ed7953"
            ],
            [
             0.7777777777777778,
             "#fb9f3a"
            ],
            [
             0.8888888888888888,
             "#fdca26"
            ],
            [
             1,
             "#f0f921"
            ]
           ]
          },
          "colorway": [
           "#636efa",
           "#EF553B",
           "#00cc96",
           "#ab63fa",
           "#FFA15A",
           "#19d3f3",
           "#FF6692",
           "#B6E880",
           "#FF97FF",
           "#FECB52"
          ],
          "font": {
           "color": "#2a3f5f"
          },
          "geo": {
           "bgcolor": "white",
           "lakecolor": "white",
           "landcolor": "#E5ECF6",
           "showlakes": true,
           "showland": true,
           "subunitcolor": "white"
          },
          "hoverlabel": {
           "align": "left"
          },
          "hovermode": "closest",
          "mapbox": {
           "style": "light"
          },
          "paper_bgcolor": "white",
          "plot_bgcolor": "#E5ECF6",
          "polar": {
           "angularaxis": {
            "gridcolor": "white",
            "linecolor": "white",
            "ticks": ""
           },
           "bgcolor": "#E5ECF6",
           "radialaxis": {
            "gridcolor": "white",
            "linecolor": "white",
            "ticks": ""
           }
          },
          "scene": {
           "xaxis": {
            "backgroundcolor": "#E5ECF6",
            "gridcolor": "white",
            "gridwidth": 2,
            "linecolor": "white",
            "showbackground": true,
            "ticks": "",
            "zerolinecolor": "white"
           },
           "yaxis": {
            "backgroundcolor": "#E5ECF6",
            "gridcolor": "white",
            "gridwidth": 2,
            "linecolor": "white",
            "showbackground": true,
            "ticks": "",
            "zerolinecolor": "white"
           },
           "zaxis": {
            "backgroundcolor": "#E5ECF6",
            "gridcolor": "white",
            "gridwidth": 2,
            "linecolor": "white",
            "showbackground": true,
            "ticks": "",
            "zerolinecolor": "white"
           }
          },
          "shapedefaults": {
           "line": {
            "color": "#2a3f5f"
           }
          },
          "ternary": {
           "aaxis": {
            "gridcolor": "white",
            "linecolor": "white",
            "ticks": ""
           },
           "baxis": {
            "gridcolor": "white",
            "linecolor": "white",
            "ticks": ""
           },
           "bgcolor": "#E5ECF6",
           "caxis": {
            "gridcolor": "white",
            "linecolor": "white",
            "ticks": ""
           }
          },
          "title": {
           "x": 0.05
          },
          "xaxis": {
           "automargin": true,
           "gridcolor": "white",
           "linecolor": "white",
           "ticks": "",
           "title": {
            "standoff": 15
           },
           "zerolinecolor": "white",
           "zerolinewidth": 2
          },
          "yaxis": {
           "automargin": true,
           "gridcolor": "white",
           "linecolor": "white",
           "ticks": "",
           "title": {
            "standoff": 15
           },
           "zerolinecolor": "white",
           "zerolinewidth": 2
          }
         }
        },
        "title": {
         "font": {
          "color": "#4D5663"
         }
        },
        "xaxis": {
         "gridcolor": "#E1E5ED",
         "showgrid": true,
         "tickfont": {
          "color": "#4D5663"
         },
         "title": {
          "font": {
           "color": "#4D5663"
          },
          "text": ""
         },
         "zerolinecolor": "#E1E5ED"
        },
        "yaxis": {
         "gridcolor": "#E1E5ED",
         "showgrid": true,
         "tickfont": {
          "color": "#4D5663"
         },
         "title": {
          "font": {
           "color": "#4D5663"
          },
          "text": ""
         },
         "zerolinecolor": "#E1E5ED"
        }
       }
      },
      "text/html": [
       "<div>                            <div id=\"5d66d3e5-e085-43b1-9e52-d1148c1f5748\" class=\"plotly-graph-div\" style=\"height:525px; width:100%;\"></div>            <script type=\"text/javascript\">                require([\"plotly\"], function(Plotly) {                    window.PLOTLYENV=window.PLOTLYENV || {};\n",
       "                    window.PLOTLYENV.BASE_URL='https://plot.ly';                                    if (document.getElementById(\"5d66d3e5-e085-43b1-9e52-d1148c1f5748\")) {                    Plotly.newPlot(                        \"5d66d3e5-e085-43b1-9e52-d1148c1f5748\",                        [{\"line\": {\"color\": \"rgba(255, 153, 51, 1.0)\", \"dash\": \"solid\", \"shape\": \"linear\", \"width\": 1.3}, \"marker\": {\"size\": 10, \"symbol\": \"circle\"}, \"mode\": \"markers\", \"name\": \"B\", \"text\": \"\", \"type\": \"scatter\", \"x\": [-1.6437536111521518, 0.6236334115580212, 0.3632305334696795, 0.7803939112591669, 0.7742854821151604, -1.0391624009931515, 1.0889561004772061, -0.8820807905725819, -0.09884950690901928, -2.5490967634952577, -1.4465866453633747, -0.4296122350300794, 0.9907776802326949, 2.2655549907972725, 1.1436740283221893, 0.33666342394404386, 0.08937447215462413, -1.046283324201508, -0.3732597314122444, 1.4268298589473511, 0.8619658253130911, -1.5487963505620657, 1.6661593485730637, 0.7491924544143039, 0.621561413774492, 0.2915885975878172, 2.0385417913239405, 1.4244902846641307, -2.159052691440464, 0.5423476711114913, -1.6789323696099687, -0.5446205803784033, 0.387883477755812, -0.22903596434654588, -1.6505967844835412, -0.32881281216744135, 0.6779154927169985, 1.3681067471795663, 0.26225857285756615, -1.9011589892879166, 1.1409349082330473, -0.9589009714325152, 0.03238371011666432, -0.10655362520754084, 0.05927441822569643, 0.42049964960882447, 1.329575920257925, 1.285081393630453, 0.36005982323576674, 0.6358536168798995, 0.2025560884588064, 0.10886754236829017, 0.4269229835904177, 0.14374785684194905, -0.020302072847358597, -0.4560210194505382, 1.8347967740322737, -0.5006575216944982, 1.6792441205485138, 0.44958872515811443, 0.7598644337110251, -1.326566371218351, -1.111550193856778, 1.2756505190831742, 0.7823229849163477, -1.1681639647040756, 0.5987424260829366, 1.4530772148308835, -0.1540334211090501, -0.6605279285668003, -0.5120412364212491, 0.49300018525610345, -1.7204737222447415, -0.13851095685665482, -0.3588646633355994, -0.672204763993229, -0.14758595118924844, -0.7408629549882537, -1.2913725572359855, 1.5473308090202944, 1.318762193807283, 0.259797984036728, -0.40385400584752457, -0.05074138338280163, -0.5739011980296671, 0.43687851240248043, 1.005132152855596, 0.15754796130132306, 0.06280552804167883, -0.28111370074712844, 0.14489460641954385, 0.5492176924141802, -2.1359048816395925, -0.2445338170684625, 0.38474457301952225, 0.014189266045035662, 2.148224956400063, -0.9306543355294326, 1.4984469196272776, -0.23426698205439314], \"y\": [0.1997120436245693, 0.4014825437710733, -0.12801667220114157, 0.8107491846132913, 2.537350078887453, -0.9788869603880892, -1.3378194669617782, -0.23426486866532062, 0.8757742912539805, -2.0227454095445996, -0.017483907928513998, -0.8504064065218876, 0.8995122342064306, -3.1965038729005197, -0.04595877243296813, 1.565774686594166, 0.27195711823104024, 2.634779913469022, -0.6128501112350614, -0.9381204025498604, 2.2254029657148604, 0.6617734913093654, 0.1729274366607718, 0.6373609822877407, 0.8180905913547657, 0.6994384744369971, -1.0575377803413366, 0.22628233151882693, 2.329320119524522, -1.112061440235663, 0.2515419041896052, -0.2696718165056928, -0.700689498410336, 1.2123048002103898, -0.9600121886012616, -0.22177492689954934, 0.8970292263888108, 1.9660366494708446, 1.2700402043716204, -1.3259086935966156, -0.1092438311787329, -1.3838336167537948, 1.309337408044333, 0.7369189504715908, 0.9793750111708072, 0.8386959382263741, -2.6014199515774523, -1.9395491169488337, -0.24462832833871673, -0.012947003675194895, -0.9565473591206575, 1.5222970935820264, 1.1786194213689853, -0.3165252186143081, 0.5985585830972404, 1.8747596870918923, 0.2419895523466944, -0.13521215456938623, -0.9040822120120701, -1.0667699555127341, 0.32824617656830496, -0.6588345803353914, 1.0699286027722748, -0.13033161196575843, 0.9141706936213561, 1.0637960589927955, -0.10995148242640611, -1.0457235356110008, 0.027499397592431904, -0.8941576216741033, -0.9020235485999063, 0.09023310607670769, 1.8798418811465476, -2.0013537041552185, 0.5032533708041967, -0.2601989552156913, -0.6770761470398742, -0.3487762448643428, 0.3153186836920095, -0.5414590270345206, 0.28405741070812984, -0.07609106182259144, 0.11656621405857027, 0.18821641130543096, -2.2009179559698975, 1.0178362295224403, 0.5121863442190329, 0.6981423101951505, -1.6899453376912257, 0.7222069010847146, -1.3348502683292458, 0.004150585252992694, 0.6635657982770735, -0.5646265666014189, 0.12493662861316242, -0.6843670840702347, -0.13592666505323378, 0.18138101579973953, 0.5838414942921941, 1.1556173562342535]}],                        {\"legend\": {\"bgcolor\": \"#F5F6F9\", \"font\": {\"color\": \"#4D5663\"}}, \"paper_bgcolor\": \"#F5F6F9\", \"plot_bgcolor\": \"#F5F6F9\", \"template\": {\"data\": {\"bar\": [{\"error_x\": {\"color\": \"#2a3f5f\"}, \"error_y\": {\"color\": \"#2a3f5f\"}, \"marker\": {\"line\": {\"color\": \"#E5ECF6\", \"width\": 0.5}}, \"type\": \"bar\"}], \"barpolar\": [{\"marker\": {\"line\": {\"color\": \"#E5ECF6\", \"width\": 0.5}}, \"type\": \"barpolar\"}], \"carpet\": [{\"aaxis\": {\"endlinecolor\": \"#2a3f5f\", \"gridcolor\": \"white\", \"linecolor\": \"white\", \"minorgridcolor\": \"white\", \"startlinecolor\": \"#2a3f5f\"}, \"baxis\": {\"endlinecolor\": \"#2a3f5f\", \"gridcolor\": \"white\", \"linecolor\": \"white\", \"minorgridcolor\": \"white\", \"startlinecolor\": \"#2a3f5f\"}, \"type\": \"carpet\"}], \"choropleth\": [{\"colorbar\": {\"outlinewidth\": 0, \"ticks\": \"\"}, \"type\": \"choropleth\"}], \"contour\": [{\"colorbar\": {\"outlinewidth\": 0, \"ticks\": \"\"}, \"colorscale\": [[0.0, \"#0d0887\"], [0.1111111111111111, \"#46039f\"], [0.2222222222222222, \"#7201a8\"], [0.3333333333333333, \"#9c179e\"], [0.4444444444444444, \"#bd3786\"], [0.5555555555555556, \"#d8576b\"], [0.6666666666666666, \"#ed7953\"], [0.7777777777777778, \"#fb9f3a\"], [0.8888888888888888, \"#fdca26\"], [1.0, \"#f0f921\"]], \"type\": \"contour\"}], \"contourcarpet\": [{\"colorbar\": {\"outlinewidth\": 0, \"ticks\": \"\"}, \"type\": \"contourcarpet\"}], \"heatmap\": [{\"colorbar\": {\"outlinewidth\": 0, \"ticks\": \"\"}, \"colorscale\": [[0.0, \"#0d0887\"], [0.1111111111111111, \"#46039f\"], [0.2222222222222222, \"#7201a8\"], [0.3333333333333333, \"#9c179e\"], [0.4444444444444444, \"#bd3786\"], [0.5555555555555556, \"#d8576b\"], [0.6666666666666666, \"#ed7953\"], [0.7777777777777778, \"#fb9f3a\"], [0.8888888888888888, \"#fdca26\"], [1.0, \"#f0f921\"]], \"type\": \"heatmap\"}], \"heatmapgl\": [{\"colorbar\": {\"outlinewidth\": 0, \"ticks\": \"\"}, \"colorscale\": [[0.0, \"#0d0887\"], [0.1111111111111111, \"#46039f\"], [0.2222222222222222, \"#7201a8\"], [0.3333333333333333, \"#9c179e\"], [0.4444444444444444, \"#bd3786\"], [0.5555555555555556, \"#d8576b\"], [0.6666666666666666, \"#ed7953\"], [0.7777777777777778, \"#fb9f3a\"], [0.8888888888888888, \"#fdca26\"], [1.0, \"#f0f921\"]], \"type\": \"heatmapgl\"}], \"histogram\": [{\"marker\": {\"colorbar\": {\"outlinewidth\": 0, \"ticks\": \"\"}}, \"type\": \"histogram\"}], \"histogram2d\": [{\"colorbar\": {\"outlinewidth\": 0, \"ticks\": \"\"}, \"colorscale\": [[0.0, \"#0d0887\"], [0.1111111111111111, \"#46039f\"], [0.2222222222222222, \"#7201a8\"], [0.3333333333333333, \"#9c179e\"], [0.4444444444444444, \"#bd3786\"], [0.5555555555555556, \"#d8576b\"], [0.6666666666666666, \"#ed7953\"], [0.7777777777777778, \"#fb9f3a\"], [0.8888888888888888, \"#fdca26\"], [1.0, \"#f0f921\"]], \"type\": \"histogram2d\"}], \"histogram2dcontour\": [{\"colorbar\": {\"outlinewidth\": 0, \"ticks\": \"\"}, \"colorscale\": [[0.0, \"#0d0887\"], [0.1111111111111111, \"#46039f\"], [0.2222222222222222, \"#7201a8\"], [0.3333333333333333, \"#9c179e\"], [0.4444444444444444, \"#bd3786\"], [0.5555555555555556, \"#d8576b\"], [0.6666666666666666, \"#ed7953\"], [0.7777777777777778, \"#fb9f3a\"], [0.8888888888888888, \"#fdca26\"], [1.0, \"#f0f921\"]], \"type\": \"histogram2dcontour\"}], \"mesh3d\": [{\"colorbar\": {\"outlinewidth\": 0, \"ticks\": \"\"}, \"type\": \"mesh3d\"}], \"parcoords\": [{\"line\": {\"colorbar\": {\"outlinewidth\": 0, \"ticks\": \"\"}}, \"type\": \"parcoords\"}], \"pie\": [{\"automargin\": true, \"type\": \"pie\"}], \"scatter\": [{\"marker\": {\"colorbar\": {\"outlinewidth\": 0, \"ticks\": \"\"}}, \"type\": \"scatter\"}], \"scatter3d\": [{\"line\": {\"colorbar\": {\"outlinewidth\": 0, \"ticks\": \"\"}}, \"marker\": {\"colorbar\": {\"outlinewidth\": 0, \"ticks\": \"\"}}, \"type\": \"scatter3d\"}], \"scattercarpet\": [{\"marker\": {\"colorbar\": {\"outlinewidth\": 0, \"ticks\": \"\"}}, \"type\": \"scattercarpet\"}], \"scattergeo\": [{\"marker\": {\"colorbar\": {\"outlinewidth\": 0, \"ticks\": \"\"}}, \"type\": \"scattergeo\"}], \"scattergl\": [{\"marker\": {\"colorbar\": {\"outlinewidth\": 0, \"ticks\": \"\"}}, \"type\": \"scattergl\"}], \"scattermapbox\": [{\"marker\": {\"colorbar\": {\"outlinewidth\": 0, \"ticks\": \"\"}}, \"type\": \"scattermapbox\"}], \"scatterpolar\": [{\"marker\": {\"colorbar\": {\"outlinewidth\": 0, \"ticks\": \"\"}}, \"type\": \"scatterpolar\"}], \"scatterpolargl\": [{\"marker\": {\"colorbar\": {\"outlinewidth\": 0, \"ticks\": \"\"}}, \"type\": \"scatterpolargl\"}], \"scatterternary\": [{\"marker\": {\"colorbar\": {\"outlinewidth\": 0, \"ticks\": \"\"}}, \"type\": \"scatterternary\"}], \"surface\": [{\"colorbar\": {\"outlinewidth\": 0, \"ticks\": \"\"}, \"colorscale\": [[0.0, \"#0d0887\"], [0.1111111111111111, \"#46039f\"], [0.2222222222222222, \"#7201a8\"], [0.3333333333333333, \"#9c179e\"], [0.4444444444444444, \"#bd3786\"], [0.5555555555555556, \"#d8576b\"], [0.6666666666666666, \"#ed7953\"], [0.7777777777777778, \"#fb9f3a\"], [0.8888888888888888, \"#fdca26\"], [1.0, \"#f0f921\"]], \"type\": \"surface\"}], \"table\": [{\"cells\": {\"fill\": {\"color\": \"#EBF0F8\"}, \"line\": {\"color\": \"white\"}}, \"header\": {\"fill\": {\"color\": \"#C8D4E3\"}, \"line\": {\"color\": \"white\"}}, \"type\": \"table\"}]}, \"layout\": {\"annotationdefaults\": {\"arrowcolor\": \"#2a3f5f\", \"arrowhead\": 0, \"arrowwidth\": 1}, \"autotypenumbers\": \"strict\", \"coloraxis\": {\"colorbar\": {\"outlinewidth\": 0, \"ticks\": \"\"}}, \"colorscale\": {\"diverging\": [[0, \"#8e0152\"], [0.1, \"#c51b7d\"], [0.2, \"#de77ae\"], [0.3, \"#f1b6da\"], [0.4, \"#fde0ef\"], [0.5, \"#f7f7f7\"], [0.6, \"#e6f5d0\"], [0.7, \"#b8e186\"], [0.8, \"#7fbc41\"], [0.9, \"#4d9221\"], [1, \"#276419\"]], \"sequential\": [[0.0, \"#0d0887\"], [0.1111111111111111, \"#46039f\"], [0.2222222222222222, \"#7201a8\"], [0.3333333333333333, \"#9c179e\"], [0.4444444444444444, \"#bd3786\"], [0.5555555555555556, \"#d8576b\"], [0.6666666666666666, \"#ed7953\"], [0.7777777777777778, \"#fb9f3a\"], [0.8888888888888888, \"#fdca26\"], [1.0, \"#f0f921\"]], \"sequentialminus\": [[0.0, \"#0d0887\"], [0.1111111111111111, \"#46039f\"], [0.2222222222222222, \"#7201a8\"], [0.3333333333333333, \"#9c179e\"], [0.4444444444444444, \"#bd3786\"], [0.5555555555555556, \"#d8576b\"], [0.6666666666666666, \"#ed7953\"], [0.7777777777777778, \"#fb9f3a\"], [0.8888888888888888, \"#fdca26\"], [1.0, \"#f0f921\"]]}, \"colorway\": [\"#636efa\", \"#EF553B\", \"#00cc96\", \"#ab63fa\", \"#FFA15A\", \"#19d3f3\", \"#FF6692\", \"#B6E880\", \"#FF97FF\", \"#FECB52\"], \"font\": {\"color\": \"#2a3f5f\"}, \"geo\": {\"bgcolor\": \"white\", \"lakecolor\": \"white\", \"landcolor\": \"#E5ECF6\", \"showlakes\": true, \"showland\": true, \"subunitcolor\": \"white\"}, \"hoverlabel\": {\"align\": \"left\"}, \"hovermode\": \"closest\", \"mapbox\": {\"style\": \"light\"}, \"paper_bgcolor\": \"white\", \"plot_bgcolor\": \"#E5ECF6\", \"polar\": {\"angularaxis\": {\"gridcolor\": \"white\", \"linecolor\": \"white\", \"ticks\": \"\"}, \"bgcolor\": \"#E5ECF6\", \"radialaxis\": {\"gridcolor\": \"white\", \"linecolor\": \"white\", \"ticks\": \"\"}}, \"scene\": {\"xaxis\": {\"backgroundcolor\": \"#E5ECF6\", \"gridcolor\": \"white\", \"gridwidth\": 2, \"linecolor\": \"white\", \"showbackground\": true, \"ticks\": \"\", \"zerolinecolor\": \"white\"}, \"yaxis\": {\"backgroundcolor\": \"#E5ECF6\", \"gridcolor\": \"white\", \"gridwidth\": 2, \"linecolor\": \"white\", \"showbackground\": true, \"ticks\": \"\", \"zerolinecolor\": \"white\"}, \"zaxis\": {\"backgroundcolor\": \"#E5ECF6\", \"gridcolor\": \"white\", \"gridwidth\": 2, \"linecolor\": \"white\", \"showbackground\": true, \"ticks\": \"\", \"zerolinecolor\": \"white\"}}, \"shapedefaults\": {\"line\": {\"color\": \"#2a3f5f\"}}, \"ternary\": {\"aaxis\": {\"gridcolor\": \"white\", \"linecolor\": \"white\", \"ticks\": \"\"}, \"baxis\": {\"gridcolor\": \"white\", \"linecolor\": \"white\", \"ticks\": \"\"}, \"bgcolor\": \"#E5ECF6\", \"caxis\": {\"gridcolor\": \"white\", \"linecolor\": \"white\", \"ticks\": \"\"}}, \"title\": {\"x\": 0.05}, \"xaxis\": {\"automargin\": true, \"gridcolor\": \"white\", \"linecolor\": \"white\", \"ticks\": \"\", \"title\": {\"standoff\": 15}, \"zerolinecolor\": \"white\", \"zerolinewidth\": 2}, \"yaxis\": {\"automargin\": true, \"gridcolor\": \"white\", \"linecolor\": \"white\", \"ticks\": \"\", \"title\": {\"standoff\": 15}, \"zerolinecolor\": \"white\", \"zerolinewidth\": 2}}}, \"title\": {\"font\": {\"color\": \"#4D5663\"}}, \"xaxis\": {\"gridcolor\": \"#E1E5ED\", \"showgrid\": true, \"tickfont\": {\"color\": \"#4D5663\"}, \"title\": {\"font\": {\"color\": \"#4D5663\"}, \"text\": \"\"}, \"zerolinecolor\": \"#E1E5ED\"}, \"yaxis\": {\"gridcolor\": \"#E1E5ED\", \"showgrid\": true, \"tickfont\": {\"color\": \"#4D5663\"}, \"title\": {\"font\": {\"color\": \"#4D5663\"}, \"text\": \"\"}, \"zerolinecolor\": \"#E1E5ED\"}},                        {\"showLink\": true, \"linkText\": \"Export to plot.ly\", \"plotlyServerURL\": \"https://plot.ly\", \"responsive\": true}                    ).then(function(){\n",
       "                            \n",
       "var gd = document.getElementById('5d66d3e5-e085-43b1-9e52-d1148c1f5748');\n",
       "var x = new MutationObserver(function (mutations, observer) {{\n",
       "        var display = window.getComputedStyle(gd).display;\n",
       "        if (!display || display === 'none') {{\n",
       "            console.log([gd, 'removed!']);\n",
       "            Plotly.purge(gd);\n",
       "            observer.disconnect();\n",
       "        }}\n",
       "}});\n",
       "\n",
       "// Listen for the removal of the full notebook cells\n",
       "var notebookContainer = gd.closest('#notebook-container');\n",
       "if (notebookContainer) {{\n",
       "    x.observe(notebookContainer, {childList: true});\n",
       "}}\n",
       "\n",
       "// Listen for the clearing of the current output cell\n",
       "var outputEl = gd.closest('.output');\n",
       "if (outputEl) {{\n",
       "    x.observe(outputEl, {childList: true});\n",
       "}}\n",
       "\n",
       "                        })                };                });            </script>        </div>"
      ]
     },
     "metadata": {},
     "output_type": "display_data"
    }
   ],
   "source": [
    "df.iplot(kind=\"scatter\",x=\"A\",y=\"B\",mode=\"markers\",size=10)"
   ]
  },
  {
   "cell_type": "code",
   "execution_count": 14,
   "metadata": {},
   "outputs": [
    {
     "data": {
      "application/vnd.plotly.v1+json": {
       "config": {
        "linkText": "Export to plot.ly",
        "plotlyServerURL": "https://plot.ly",
        "showLink": true
       },
       "data": [
        {
         "marker": {
          "color": "rgba(255, 153, 51, 0.6)",
          "line": {
           "color": "rgba(255, 153, 51, 1.0)",
           "width": 1
          }
         },
         "name": "values",
         "orientation": "v",
         "text": "",
         "type": "bar",
         "x": [
          "A",
          "B",
          "C"
         ],
         "y": [
          17,
          30,
          61
         ]
        }
       ],
       "layout": {
        "legend": {
         "bgcolor": "#F5F6F9",
         "font": {
          "color": "#4D5663"
         }
        },
        "paper_bgcolor": "#F5F6F9",
        "plot_bgcolor": "#F5F6F9",
        "template": {
         "data": {
          "bar": [
           {
            "error_x": {
             "color": "#2a3f5f"
            },
            "error_y": {
             "color": "#2a3f5f"
            },
            "marker": {
             "line": {
              "color": "#E5ECF6",
              "width": 0.5
             }
            },
            "type": "bar"
           }
          ],
          "barpolar": [
           {
            "marker": {
             "line": {
              "color": "#E5ECF6",
              "width": 0.5
             }
            },
            "type": "barpolar"
           }
          ],
          "carpet": [
           {
            "aaxis": {
             "endlinecolor": "#2a3f5f",
             "gridcolor": "white",
             "linecolor": "white",
             "minorgridcolor": "white",
             "startlinecolor": "#2a3f5f"
            },
            "baxis": {
             "endlinecolor": "#2a3f5f",
             "gridcolor": "white",
             "linecolor": "white",
             "minorgridcolor": "white",
             "startlinecolor": "#2a3f5f"
            },
            "type": "carpet"
           }
          ],
          "choropleth": [
           {
            "colorbar": {
             "outlinewidth": 0,
             "ticks": ""
            },
            "type": "choropleth"
           }
          ],
          "contour": [
           {
            "colorbar": {
             "outlinewidth": 0,
             "ticks": ""
            },
            "colorscale": [
             [
              0,
              "#0d0887"
             ],
             [
              0.1111111111111111,
              "#46039f"
             ],
             [
              0.2222222222222222,
              "#7201a8"
             ],
             [
              0.3333333333333333,
              "#9c179e"
             ],
             [
              0.4444444444444444,
              "#bd3786"
             ],
             [
              0.5555555555555556,
              "#d8576b"
             ],
             [
              0.6666666666666666,
              "#ed7953"
             ],
             [
              0.7777777777777778,
              "#fb9f3a"
             ],
             [
              0.8888888888888888,
              "#fdca26"
             ],
             [
              1,
              "#f0f921"
             ]
            ],
            "type": "contour"
           }
          ],
          "contourcarpet": [
           {
            "colorbar": {
             "outlinewidth": 0,
             "ticks": ""
            },
            "type": "contourcarpet"
           }
          ],
          "heatmap": [
           {
            "colorbar": {
             "outlinewidth": 0,
             "ticks": ""
            },
            "colorscale": [
             [
              0,
              "#0d0887"
             ],
             [
              0.1111111111111111,
              "#46039f"
             ],
             [
              0.2222222222222222,
              "#7201a8"
             ],
             [
              0.3333333333333333,
              "#9c179e"
             ],
             [
              0.4444444444444444,
              "#bd3786"
             ],
             [
              0.5555555555555556,
              "#d8576b"
             ],
             [
              0.6666666666666666,
              "#ed7953"
             ],
             [
              0.7777777777777778,
              "#fb9f3a"
             ],
             [
              0.8888888888888888,
              "#fdca26"
             ],
             [
              1,
              "#f0f921"
             ]
            ],
            "type": "heatmap"
           }
          ],
          "heatmapgl": [
           {
            "colorbar": {
             "outlinewidth": 0,
             "ticks": ""
            },
            "colorscale": [
             [
              0,
              "#0d0887"
             ],
             [
              0.1111111111111111,
              "#46039f"
             ],
             [
              0.2222222222222222,
              "#7201a8"
             ],
             [
              0.3333333333333333,
              "#9c179e"
             ],
             [
              0.4444444444444444,
              "#bd3786"
             ],
             [
              0.5555555555555556,
              "#d8576b"
             ],
             [
              0.6666666666666666,
              "#ed7953"
             ],
             [
              0.7777777777777778,
              "#fb9f3a"
             ],
             [
              0.8888888888888888,
              "#fdca26"
             ],
             [
              1,
              "#f0f921"
             ]
            ],
            "type": "heatmapgl"
           }
          ],
          "histogram": [
           {
            "marker": {
             "colorbar": {
              "outlinewidth": 0,
              "ticks": ""
             }
            },
            "type": "histogram"
           }
          ],
          "histogram2d": [
           {
            "colorbar": {
             "outlinewidth": 0,
             "ticks": ""
            },
            "colorscale": [
             [
              0,
              "#0d0887"
             ],
             [
              0.1111111111111111,
              "#46039f"
             ],
             [
              0.2222222222222222,
              "#7201a8"
             ],
             [
              0.3333333333333333,
              "#9c179e"
             ],
             [
              0.4444444444444444,
              "#bd3786"
             ],
             [
              0.5555555555555556,
              "#d8576b"
             ],
             [
              0.6666666666666666,
              "#ed7953"
             ],
             [
              0.7777777777777778,
              "#fb9f3a"
             ],
             [
              0.8888888888888888,
              "#fdca26"
             ],
             [
              1,
              "#f0f921"
             ]
            ],
            "type": "histogram2d"
           }
          ],
          "histogram2dcontour": [
           {
            "colorbar": {
             "outlinewidth": 0,
             "ticks": ""
            },
            "colorscale": [
             [
              0,
              "#0d0887"
             ],
             [
              0.1111111111111111,
              "#46039f"
             ],
             [
              0.2222222222222222,
              "#7201a8"
             ],
             [
              0.3333333333333333,
              "#9c179e"
             ],
             [
              0.4444444444444444,
              "#bd3786"
             ],
             [
              0.5555555555555556,
              "#d8576b"
             ],
             [
              0.6666666666666666,
              "#ed7953"
             ],
             [
              0.7777777777777778,
              "#fb9f3a"
             ],
             [
              0.8888888888888888,
              "#fdca26"
             ],
             [
              1,
              "#f0f921"
             ]
            ],
            "type": "histogram2dcontour"
           }
          ],
          "mesh3d": [
           {
            "colorbar": {
             "outlinewidth": 0,
             "ticks": ""
            },
            "type": "mesh3d"
           }
          ],
          "parcoords": [
           {
            "line": {
             "colorbar": {
              "outlinewidth": 0,
              "ticks": ""
             }
            },
            "type": "parcoords"
           }
          ],
          "pie": [
           {
            "automargin": true,
            "type": "pie"
           }
          ],
          "scatter": [
           {
            "marker": {
             "colorbar": {
              "outlinewidth": 0,
              "ticks": ""
             }
            },
            "type": "scatter"
           }
          ],
          "scatter3d": [
           {
            "line": {
             "colorbar": {
              "outlinewidth": 0,
              "ticks": ""
             }
            },
            "marker": {
             "colorbar": {
              "outlinewidth": 0,
              "ticks": ""
             }
            },
            "type": "scatter3d"
           }
          ],
          "scattercarpet": [
           {
            "marker": {
             "colorbar": {
              "outlinewidth": 0,
              "ticks": ""
             }
            },
            "type": "scattercarpet"
           }
          ],
          "scattergeo": [
           {
            "marker": {
             "colorbar": {
              "outlinewidth": 0,
              "ticks": ""
             }
            },
            "type": "scattergeo"
           }
          ],
          "scattergl": [
           {
            "marker": {
             "colorbar": {
              "outlinewidth": 0,
              "ticks": ""
             }
            },
            "type": "scattergl"
           }
          ],
          "scattermapbox": [
           {
            "marker": {
             "colorbar": {
              "outlinewidth": 0,
              "ticks": ""
             }
            },
            "type": "scattermapbox"
           }
          ],
          "scatterpolar": [
           {
            "marker": {
             "colorbar": {
              "outlinewidth": 0,
              "ticks": ""
             }
            },
            "type": "scatterpolar"
           }
          ],
          "scatterpolargl": [
           {
            "marker": {
             "colorbar": {
              "outlinewidth": 0,
              "ticks": ""
             }
            },
            "type": "scatterpolargl"
           }
          ],
          "scatterternary": [
           {
            "marker": {
             "colorbar": {
              "outlinewidth": 0,
              "ticks": ""
             }
            },
            "type": "scatterternary"
           }
          ],
          "surface": [
           {
            "colorbar": {
             "outlinewidth": 0,
             "ticks": ""
            },
            "colorscale": [
             [
              0,
              "#0d0887"
             ],
             [
              0.1111111111111111,
              "#46039f"
             ],
             [
              0.2222222222222222,
              "#7201a8"
             ],
             [
              0.3333333333333333,
              "#9c179e"
             ],
             [
              0.4444444444444444,
              "#bd3786"
             ],
             [
              0.5555555555555556,
              "#d8576b"
             ],
             [
              0.6666666666666666,
              "#ed7953"
             ],
             [
              0.7777777777777778,
              "#fb9f3a"
             ],
             [
              0.8888888888888888,
              "#fdca26"
             ],
             [
              1,
              "#f0f921"
             ]
            ],
            "type": "surface"
           }
          ],
          "table": [
           {
            "cells": {
             "fill": {
              "color": "#EBF0F8"
             },
             "line": {
              "color": "white"
             }
            },
            "header": {
             "fill": {
              "color": "#C8D4E3"
             },
             "line": {
              "color": "white"
             }
            },
            "type": "table"
           }
          ]
         },
         "layout": {
          "annotationdefaults": {
           "arrowcolor": "#2a3f5f",
           "arrowhead": 0,
           "arrowwidth": 1
          },
          "autotypenumbers": "strict",
          "coloraxis": {
           "colorbar": {
            "outlinewidth": 0,
            "ticks": ""
           }
          },
          "colorscale": {
           "diverging": [
            [
             0,
             "#8e0152"
            ],
            [
             0.1,
             "#c51b7d"
            ],
            [
             0.2,
             "#de77ae"
            ],
            [
             0.3,
             "#f1b6da"
            ],
            [
             0.4,
             "#fde0ef"
            ],
            [
             0.5,
             "#f7f7f7"
            ],
            [
             0.6,
             "#e6f5d0"
            ],
            [
             0.7,
             "#b8e186"
            ],
            [
             0.8,
             "#7fbc41"
            ],
            [
             0.9,
             "#4d9221"
            ],
            [
             1,
             "#276419"
            ]
           ],
           "sequential": [
            [
             0,
             "#0d0887"
            ],
            [
             0.1111111111111111,
             "#46039f"
            ],
            [
             0.2222222222222222,
             "#7201a8"
            ],
            [
             0.3333333333333333,
             "#9c179e"
            ],
            [
             0.4444444444444444,
             "#bd3786"
            ],
            [
             0.5555555555555556,
             "#d8576b"
            ],
            [
             0.6666666666666666,
             "#ed7953"
            ],
            [
             0.7777777777777778,
             "#fb9f3a"
            ],
            [
             0.8888888888888888,
             "#fdca26"
            ],
            [
             1,
             "#f0f921"
            ]
           ],
           "sequentialminus": [
            [
             0,
             "#0d0887"
            ],
            [
             0.1111111111111111,
             "#46039f"
            ],
            [
             0.2222222222222222,
             "#7201a8"
            ],
            [
             0.3333333333333333,
             "#9c179e"
            ],
            [
             0.4444444444444444,
             "#bd3786"
            ],
            [
             0.5555555555555556,
             "#d8576b"
            ],
            [
             0.6666666666666666,
             "#ed7953"
            ],
            [
             0.7777777777777778,
             "#fb9f3a"
            ],
            [
             0.8888888888888888,
             "#fdca26"
            ],
            [
             1,
             "#f0f921"
            ]
           ]
          },
          "colorway": [
           "#636efa",
           "#EF553B",
           "#00cc96",
           "#ab63fa",
           "#FFA15A",
           "#19d3f3",
           "#FF6692",
           "#B6E880",
           "#FF97FF",
           "#FECB52"
          ],
          "font": {
           "color": "#2a3f5f"
          },
          "geo": {
           "bgcolor": "white",
           "lakecolor": "white",
           "landcolor": "#E5ECF6",
           "showlakes": true,
           "showland": true,
           "subunitcolor": "white"
          },
          "hoverlabel": {
           "align": "left"
          },
          "hovermode": "closest",
          "mapbox": {
           "style": "light"
          },
          "paper_bgcolor": "white",
          "plot_bgcolor": "#E5ECF6",
          "polar": {
           "angularaxis": {
            "gridcolor": "white",
            "linecolor": "white",
            "ticks": ""
           },
           "bgcolor": "#E5ECF6",
           "radialaxis": {
            "gridcolor": "white",
            "linecolor": "white",
            "ticks": ""
           }
          },
          "scene": {
           "xaxis": {
            "backgroundcolor": "#E5ECF6",
            "gridcolor": "white",
            "gridwidth": 2,
            "linecolor": "white",
            "showbackground": true,
            "ticks": "",
            "zerolinecolor": "white"
           },
           "yaxis": {
            "backgroundcolor": "#E5ECF6",
            "gridcolor": "white",
            "gridwidth": 2,
            "linecolor": "white",
            "showbackground": true,
            "ticks": "",
            "zerolinecolor": "white"
           },
           "zaxis": {
            "backgroundcolor": "#E5ECF6",
            "gridcolor": "white",
            "gridwidth": 2,
            "linecolor": "white",
            "showbackground": true,
            "ticks": "",
            "zerolinecolor": "white"
           }
          },
          "shapedefaults": {
           "line": {
            "color": "#2a3f5f"
           }
          },
          "ternary": {
           "aaxis": {
            "gridcolor": "white",
            "linecolor": "white",
            "ticks": ""
           },
           "baxis": {
            "gridcolor": "white",
            "linecolor": "white",
            "ticks": ""
           },
           "bgcolor": "#E5ECF6",
           "caxis": {
            "gridcolor": "white",
            "linecolor": "white",
            "ticks": ""
           }
          },
          "title": {
           "x": 0.05
          },
          "xaxis": {
           "automargin": true,
           "gridcolor": "white",
           "linecolor": "white",
           "ticks": "",
           "title": {
            "standoff": 15
           },
           "zerolinecolor": "white",
           "zerolinewidth": 2
          },
          "yaxis": {
           "automargin": true,
           "gridcolor": "white",
           "linecolor": "white",
           "ticks": "",
           "title": {
            "standoff": 15
           },
           "zerolinecolor": "white",
           "zerolinewidth": 2
          }
         }
        },
        "title": {
         "font": {
          "color": "#4D5663"
         }
        },
        "xaxis": {
         "gridcolor": "#E1E5ED",
         "showgrid": true,
         "tickfont": {
          "color": "#4D5663"
         },
         "title": {
          "font": {
           "color": "#4D5663"
          },
          "text": ""
         },
         "zerolinecolor": "#E1E5ED"
        },
        "yaxis": {
         "gridcolor": "#E1E5ED",
         "showgrid": true,
         "tickfont": {
          "color": "#4D5663"
         },
         "title": {
          "font": {
           "color": "#4D5663"
          },
          "text": ""
         },
         "zerolinecolor": "#E1E5ED"
        }
       }
      },
      "text/html": [
       "<div>                            <div id=\"ed13e987-7a91-46d4-84e0-05d427fbb07b\" class=\"plotly-graph-div\" style=\"height:525px; width:100%;\"></div>            <script type=\"text/javascript\">                require([\"plotly\"], function(Plotly) {                    window.PLOTLYENV=window.PLOTLYENV || {};\n",
       "                    window.PLOTLYENV.BASE_URL='https://plot.ly';                                    if (document.getElementById(\"ed13e987-7a91-46d4-84e0-05d427fbb07b\")) {                    Plotly.newPlot(                        \"ed13e987-7a91-46d4-84e0-05d427fbb07b\",                        [{\"marker\": {\"color\": \"rgba(255, 153, 51, 0.6)\", \"line\": {\"color\": \"rgba(255, 153, 51, 1.0)\", \"width\": 1}}, \"name\": \"values\", \"orientation\": \"v\", \"text\": \"\", \"type\": \"bar\", \"x\": [\"A\", \"B\", \"C\"], \"y\": [17, 30, 61]}],                        {\"legend\": {\"bgcolor\": \"#F5F6F9\", \"font\": {\"color\": \"#4D5663\"}}, \"paper_bgcolor\": \"#F5F6F9\", \"plot_bgcolor\": \"#F5F6F9\", \"template\": {\"data\": {\"bar\": [{\"error_x\": {\"color\": \"#2a3f5f\"}, \"error_y\": {\"color\": \"#2a3f5f\"}, \"marker\": {\"line\": {\"color\": \"#E5ECF6\", \"width\": 0.5}}, \"type\": \"bar\"}], \"barpolar\": [{\"marker\": {\"line\": {\"color\": \"#E5ECF6\", \"width\": 0.5}}, \"type\": \"barpolar\"}], \"carpet\": [{\"aaxis\": {\"endlinecolor\": \"#2a3f5f\", \"gridcolor\": \"white\", \"linecolor\": \"white\", \"minorgridcolor\": \"white\", \"startlinecolor\": \"#2a3f5f\"}, \"baxis\": {\"endlinecolor\": \"#2a3f5f\", \"gridcolor\": \"white\", \"linecolor\": \"white\", \"minorgridcolor\": \"white\", \"startlinecolor\": \"#2a3f5f\"}, \"type\": \"carpet\"}], \"choropleth\": [{\"colorbar\": {\"outlinewidth\": 0, \"ticks\": \"\"}, \"type\": \"choropleth\"}], \"contour\": [{\"colorbar\": {\"outlinewidth\": 0, \"ticks\": \"\"}, \"colorscale\": [[0.0, \"#0d0887\"], [0.1111111111111111, \"#46039f\"], [0.2222222222222222, \"#7201a8\"], [0.3333333333333333, \"#9c179e\"], [0.4444444444444444, \"#bd3786\"], [0.5555555555555556, \"#d8576b\"], [0.6666666666666666, \"#ed7953\"], [0.7777777777777778, \"#fb9f3a\"], [0.8888888888888888, \"#fdca26\"], [1.0, \"#f0f921\"]], \"type\": \"contour\"}], \"contourcarpet\": [{\"colorbar\": {\"outlinewidth\": 0, \"ticks\": \"\"}, \"type\": \"contourcarpet\"}], \"heatmap\": [{\"colorbar\": {\"outlinewidth\": 0, \"ticks\": \"\"}, \"colorscale\": [[0.0, \"#0d0887\"], [0.1111111111111111, \"#46039f\"], [0.2222222222222222, \"#7201a8\"], [0.3333333333333333, \"#9c179e\"], [0.4444444444444444, \"#bd3786\"], [0.5555555555555556, \"#d8576b\"], [0.6666666666666666, \"#ed7953\"], [0.7777777777777778, \"#fb9f3a\"], [0.8888888888888888, \"#fdca26\"], [1.0, \"#f0f921\"]], \"type\": \"heatmap\"}], \"heatmapgl\": [{\"colorbar\": {\"outlinewidth\": 0, \"ticks\": \"\"}, \"colorscale\": [[0.0, \"#0d0887\"], [0.1111111111111111, \"#46039f\"], [0.2222222222222222, \"#7201a8\"], [0.3333333333333333, \"#9c179e\"], [0.4444444444444444, \"#bd3786\"], [0.5555555555555556, \"#d8576b\"], [0.6666666666666666, \"#ed7953\"], [0.7777777777777778, \"#fb9f3a\"], [0.8888888888888888, \"#fdca26\"], [1.0, \"#f0f921\"]], \"type\": \"heatmapgl\"}], \"histogram\": [{\"marker\": {\"colorbar\": {\"outlinewidth\": 0, \"ticks\": \"\"}}, \"type\": \"histogram\"}], \"histogram2d\": [{\"colorbar\": {\"outlinewidth\": 0, \"ticks\": \"\"}, \"colorscale\": [[0.0, \"#0d0887\"], [0.1111111111111111, \"#46039f\"], [0.2222222222222222, \"#7201a8\"], [0.3333333333333333, \"#9c179e\"], [0.4444444444444444, \"#bd3786\"], [0.5555555555555556, \"#d8576b\"], [0.6666666666666666, \"#ed7953\"], [0.7777777777777778, \"#fb9f3a\"], [0.8888888888888888, \"#fdca26\"], [1.0, \"#f0f921\"]], \"type\": \"histogram2d\"}], \"histogram2dcontour\": [{\"colorbar\": {\"outlinewidth\": 0, \"ticks\": \"\"}, \"colorscale\": [[0.0, \"#0d0887\"], [0.1111111111111111, \"#46039f\"], [0.2222222222222222, \"#7201a8\"], [0.3333333333333333, \"#9c179e\"], [0.4444444444444444, \"#bd3786\"], [0.5555555555555556, \"#d8576b\"], [0.6666666666666666, \"#ed7953\"], [0.7777777777777778, \"#fb9f3a\"], [0.8888888888888888, \"#fdca26\"], [1.0, \"#f0f921\"]], \"type\": \"histogram2dcontour\"}], \"mesh3d\": [{\"colorbar\": {\"outlinewidth\": 0, \"ticks\": \"\"}, \"type\": \"mesh3d\"}], \"parcoords\": [{\"line\": {\"colorbar\": {\"outlinewidth\": 0, \"ticks\": \"\"}}, \"type\": \"parcoords\"}], \"pie\": [{\"automargin\": true, \"type\": \"pie\"}], \"scatter\": [{\"marker\": {\"colorbar\": {\"outlinewidth\": 0, \"ticks\": \"\"}}, \"type\": \"scatter\"}], \"scatter3d\": [{\"line\": {\"colorbar\": {\"outlinewidth\": 0, \"ticks\": \"\"}}, \"marker\": {\"colorbar\": {\"outlinewidth\": 0, \"ticks\": \"\"}}, \"type\": \"scatter3d\"}], \"scattercarpet\": [{\"marker\": {\"colorbar\": {\"outlinewidth\": 0, \"ticks\": \"\"}}, \"type\": \"scattercarpet\"}], \"scattergeo\": [{\"marker\": {\"colorbar\": {\"outlinewidth\": 0, \"ticks\": \"\"}}, \"type\": \"scattergeo\"}], \"scattergl\": [{\"marker\": {\"colorbar\": {\"outlinewidth\": 0, \"ticks\": \"\"}}, \"type\": \"scattergl\"}], \"scattermapbox\": [{\"marker\": {\"colorbar\": {\"outlinewidth\": 0, \"ticks\": \"\"}}, \"type\": \"scattermapbox\"}], \"scatterpolar\": [{\"marker\": {\"colorbar\": {\"outlinewidth\": 0, \"ticks\": \"\"}}, \"type\": \"scatterpolar\"}], \"scatterpolargl\": [{\"marker\": {\"colorbar\": {\"outlinewidth\": 0, \"ticks\": \"\"}}, \"type\": \"scatterpolargl\"}], \"scatterternary\": [{\"marker\": {\"colorbar\": {\"outlinewidth\": 0, \"ticks\": \"\"}}, \"type\": \"scatterternary\"}], \"surface\": [{\"colorbar\": {\"outlinewidth\": 0, \"ticks\": \"\"}, \"colorscale\": [[0.0, \"#0d0887\"], [0.1111111111111111, \"#46039f\"], [0.2222222222222222, \"#7201a8\"], [0.3333333333333333, \"#9c179e\"], [0.4444444444444444, \"#bd3786\"], [0.5555555555555556, \"#d8576b\"], [0.6666666666666666, \"#ed7953\"], [0.7777777777777778, \"#fb9f3a\"], [0.8888888888888888, \"#fdca26\"], [1.0, \"#f0f921\"]], \"type\": \"surface\"}], \"table\": [{\"cells\": {\"fill\": {\"color\": \"#EBF0F8\"}, \"line\": {\"color\": \"white\"}}, \"header\": {\"fill\": {\"color\": \"#C8D4E3\"}, \"line\": {\"color\": \"white\"}}, \"type\": \"table\"}]}, \"layout\": {\"annotationdefaults\": {\"arrowcolor\": \"#2a3f5f\", \"arrowhead\": 0, \"arrowwidth\": 1}, \"autotypenumbers\": \"strict\", \"coloraxis\": {\"colorbar\": {\"outlinewidth\": 0, \"ticks\": \"\"}}, \"colorscale\": {\"diverging\": [[0, \"#8e0152\"], [0.1, \"#c51b7d\"], [0.2, \"#de77ae\"], [0.3, \"#f1b6da\"], [0.4, \"#fde0ef\"], [0.5, \"#f7f7f7\"], [0.6, \"#e6f5d0\"], [0.7, \"#b8e186\"], [0.8, \"#7fbc41\"], [0.9, \"#4d9221\"], [1, \"#276419\"]], \"sequential\": [[0.0, \"#0d0887\"], [0.1111111111111111, \"#46039f\"], [0.2222222222222222, \"#7201a8\"], [0.3333333333333333, \"#9c179e\"], [0.4444444444444444, \"#bd3786\"], [0.5555555555555556, \"#d8576b\"], [0.6666666666666666, \"#ed7953\"], [0.7777777777777778, \"#fb9f3a\"], [0.8888888888888888, \"#fdca26\"], [1.0, \"#f0f921\"]], \"sequentialminus\": [[0.0, \"#0d0887\"], [0.1111111111111111, \"#46039f\"], [0.2222222222222222, \"#7201a8\"], [0.3333333333333333, \"#9c179e\"], [0.4444444444444444, \"#bd3786\"], [0.5555555555555556, \"#d8576b\"], [0.6666666666666666, \"#ed7953\"], [0.7777777777777778, \"#fb9f3a\"], [0.8888888888888888, \"#fdca26\"], [1.0, \"#f0f921\"]]}, \"colorway\": [\"#636efa\", \"#EF553B\", \"#00cc96\", \"#ab63fa\", \"#FFA15A\", \"#19d3f3\", \"#FF6692\", \"#B6E880\", \"#FF97FF\", \"#FECB52\"], \"font\": {\"color\": \"#2a3f5f\"}, \"geo\": {\"bgcolor\": \"white\", \"lakecolor\": \"white\", \"landcolor\": \"#E5ECF6\", \"showlakes\": true, \"showland\": true, \"subunitcolor\": \"white\"}, \"hoverlabel\": {\"align\": \"left\"}, \"hovermode\": \"closest\", \"mapbox\": {\"style\": \"light\"}, \"paper_bgcolor\": \"white\", \"plot_bgcolor\": \"#E5ECF6\", \"polar\": {\"angularaxis\": {\"gridcolor\": \"white\", \"linecolor\": \"white\", \"ticks\": \"\"}, \"bgcolor\": \"#E5ECF6\", \"radialaxis\": {\"gridcolor\": \"white\", \"linecolor\": \"white\", \"ticks\": \"\"}}, \"scene\": {\"xaxis\": {\"backgroundcolor\": \"#E5ECF6\", \"gridcolor\": \"white\", \"gridwidth\": 2, \"linecolor\": \"white\", \"showbackground\": true, \"ticks\": \"\", \"zerolinecolor\": \"white\"}, \"yaxis\": {\"backgroundcolor\": \"#E5ECF6\", \"gridcolor\": \"white\", \"gridwidth\": 2, \"linecolor\": \"white\", \"showbackground\": true, \"ticks\": \"\", \"zerolinecolor\": \"white\"}, \"zaxis\": {\"backgroundcolor\": \"#E5ECF6\", \"gridcolor\": \"white\", \"gridwidth\": 2, \"linecolor\": \"white\", \"showbackground\": true, \"ticks\": \"\", \"zerolinecolor\": \"white\"}}, \"shapedefaults\": {\"line\": {\"color\": \"#2a3f5f\"}}, \"ternary\": {\"aaxis\": {\"gridcolor\": \"white\", \"linecolor\": \"white\", \"ticks\": \"\"}, \"baxis\": {\"gridcolor\": \"white\", \"linecolor\": \"white\", \"ticks\": \"\"}, \"bgcolor\": \"#E5ECF6\", \"caxis\": {\"gridcolor\": \"white\", \"linecolor\": \"white\", \"ticks\": \"\"}}, \"title\": {\"x\": 0.05}, \"xaxis\": {\"automargin\": true, \"gridcolor\": \"white\", \"linecolor\": \"white\", \"ticks\": \"\", \"title\": {\"standoff\": 15}, \"zerolinecolor\": \"white\", \"zerolinewidth\": 2}, \"yaxis\": {\"automargin\": true, \"gridcolor\": \"white\", \"linecolor\": \"white\", \"ticks\": \"\", \"title\": {\"standoff\": 15}, \"zerolinecolor\": \"white\", \"zerolinewidth\": 2}}}, \"title\": {\"font\": {\"color\": \"#4D5663\"}}, \"xaxis\": {\"gridcolor\": \"#E1E5ED\", \"showgrid\": true, \"tickfont\": {\"color\": \"#4D5663\"}, \"title\": {\"font\": {\"color\": \"#4D5663\"}, \"text\": \"\"}, \"zerolinecolor\": \"#E1E5ED\"}, \"yaxis\": {\"gridcolor\": \"#E1E5ED\", \"showgrid\": true, \"tickfont\": {\"color\": \"#4D5663\"}, \"title\": {\"font\": {\"color\": \"#4D5663\"}, \"text\": \"\"}, \"zerolinecolor\": \"#E1E5ED\"}},                        {\"showLink\": true, \"linkText\": \"Export to plot.ly\", \"plotlyServerURL\": \"https://plot.ly\", \"responsive\": true}                    ).then(function(){\n",
       "                            \n",
       "var gd = document.getElementById('ed13e987-7a91-46d4-84e0-05d427fbb07b');\n",
       "var x = new MutationObserver(function (mutations, observer) {{\n",
       "        var display = window.getComputedStyle(gd).display;\n",
       "        if (!display || display === 'none') {{\n",
       "            console.log([gd, 'removed!']);\n",
       "            Plotly.purge(gd);\n",
       "            observer.disconnect();\n",
       "        }}\n",
       "}});\n",
       "\n",
       "// Listen for the removal of the full notebook cells\n",
       "var notebookContainer = gd.closest('#notebook-container');\n",
       "if (notebookContainer) {{\n",
       "    x.observe(notebookContainer, {childList: true});\n",
       "}}\n",
       "\n",
       "// Listen for the clearing of the current output cell\n",
       "var outputEl = gd.closest('.output');\n",
       "if (outputEl) {{\n",
       "    x.observe(outputEl, {childList: true});\n",
       "}}\n",
       "\n",
       "                        })                };                });            </script>        </div>"
      ]
     },
     "metadata": {},
     "output_type": "display_data"
    }
   ],
   "source": [
    "df2.iplot(kind='bar',x='category',y='values')"
   ]
  },
  {
   "cell_type": "code",
   "execution_count": 15,
   "metadata": {},
   "outputs": [
    {
     "data": {
      "application/vnd.plotly.v1+json": {
       "config": {
        "linkText": "Export to plot.ly",
        "plotlyServerURL": "https://plot.ly",
        "showLink": true
       },
       "data": [
        {
         "marker": {
          "color": "rgba(255, 153, 51, 0.6)",
          "line": {
           "color": "rgba(255, 153, 51, 1.0)",
           "width": 1
          }
         },
         "name": "None",
         "orientation": "v",
         "text": "",
         "type": "bar",
         "x": [
          "A",
          "B",
          "C",
          "D"
         ],
         "y": [
          100,
          100,
          100,
          100
         ]
        }
       ],
       "layout": {
        "legend": {
         "bgcolor": "#F5F6F9",
         "font": {
          "color": "#4D5663"
         }
        },
        "paper_bgcolor": "#F5F6F9",
        "plot_bgcolor": "#F5F6F9",
        "template": {
         "data": {
          "bar": [
           {
            "error_x": {
             "color": "#2a3f5f"
            },
            "error_y": {
             "color": "#2a3f5f"
            },
            "marker": {
             "line": {
              "color": "#E5ECF6",
              "width": 0.5
             }
            },
            "type": "bar"
           }
          ],
          "barpolar": [
           {
            "marker": {
             "line": {
              "color": "#E5ECF6",
              "width": 0.5
             }
            },
            "type": "barpolar"
           }
          ],
          "carpet": [
           {
            "aaxis": {
             "endlinecolor": "#2a3f5f",
             "gridcolor": "white",
             "linecolor": "white",
             "minorgridcolor": "white",
             "startlinecolor": "#2a3f5f"
            },
            "baxis": {
             "endlinecolor": "#2a3f5f",
             "gridcolor": "white",
             "linecolor": "white",
             "minorgridcolor": "white",
             "startlinecolor": "#2a3f5f"
            },
            "type": "carpet"
           }
          ],
          "choropleth": [
           {
            "colorbar": {
             "outlinewidth": 0,
             "ticks": ""
            },
            "type": "choropleth"
           }
          ],
          "contour": [
           {
            "colorbar": {
             "outlinewidth": 0,
             "ticks": ""
            },
            "colorscale": [
             [
              0,
              "#0d0887"
             ],
             [
              0.1111111111111111,
              "#46039f"
             ],
             [
              0.2222222222222222,
              "#7201a8"
             ],
             [
              0.3333333333333333,
              "#9c179e"
             ],
             [
              0.4444444444444444,
              "#bd3786"
             ],
             [
              0.5555555555555556,
              "#d8576b"
             ],
             [
              0.6666666666666666,
              "#ed7953"
             ],
             [
              0.7777777777777778,
              "#fb9f3a"
             ],
             [
              0.8888888888888888,
              "#fdca26"
             ],
             [
              1,
              "#f0f921"
             ]
            ],
            "type": "contour"
           }
          ],
          "contourcarpet": [
           {
            "colorbar": {
             "outlinewidth": 0,
             "ticks": ""
            },
            "type": "contourcarpet"
           }
          ],
          "heatmap": [
           {
            "colorbar": {
             "outlinewidth": 0,
             "ticks": ""
            },
            "colorscale": [
             [
              0,
              "#0d0887"
             ],
             [
              0.1111111111111111,
              "#46039f"
             ],
             [
              0.2222222222222222,
              "#7201a8"
             ],
             [
              0.3333333333333333,
              "#9c179e"
             ],
             [
              0.4444444444444444,
              "#bd3786"
             ],
             [
              0.5555555555555556,
              "#d8576b"
             ],
             [
              0.6666666666666666,
              "#ed7953"
             ],
             [
              0.7777777777777778,
              "#fb9f3a"
             ],
             [
              0.8888888888888888,
              "#fdca26"
             ],
             [
              1,
              "#f0f921"
             ]
            ],
            "type": "heatmap"
           }
          ],
          "heatmapgl": [
           {
            "colorbar": {
             "outlinewidth": 0,
             "ticks": ""
            },
            "colorscale": [
             [
              0,
              "#0d0887"
             ],
             [
              0.1111111111111111,
              "#46039f"
             ],
             [
              0.2222222222222222,
              "#7201a8"
             ],
             [
              0.3333333333333333,
              "#9c179e"
             ],
             [
              0.4444444444444444,
              "#bd3786"
             ],
             [
              0.5555555555555556,
              "#d8576b"
             ],
             [
              0.6666666666666666,
              "#ed7953"
             ],
             [
              0.7777777777777778,
              "#fb9f3a"
             ],
             [
              0.8888888888888888,
              "#fdca26"
             ],
             [
              1,
              "#f0f921"
             ]
            ],
            "type": "heatmapgl"
           }
          ],
          "histogram": [
           {
            "marker": {
             "colorbar": {
              "outlinewidth": 0,
              "ticks": ""
             }
            },
            "type": "histogram"
           }
          ],
          "histogram2d": [
           {
            "colorbar": {
             "outlinewidth": 0,
             "ticks": ""
            },
            "colorscale": [
             [
              0,
              "#0d0887"
             ],
             [
              0.1111111111111111,
              "#46039f"
             ],
             [
              0.2222222222222222,
              "#7201a8"
             ],
             [
              0.3333333333333333,
              "#9c179e"
             ],
             [
              0.4444444444444444,
              "#bd3786"
             ],
             [
              0.5555555555555556,
              "#d8576b"
             ],
             [
              0.6666666666666666,
              "#ed7953"
             ],
             [
              0.7777777777777778,
              "#fb9f3a"
             ],
             [
              0.8888888888888888,
              "#fdca26"
             ],
             [
              1,
              "#f0f921"
             ]
            ],
            "type": "histogram2d"
           }
          ],
          "histogram2dcontour": [
           {
            "colorbar": {
             "outlinewidth": 0,
             "ticks": ""
            },
            "colorscale": [
             [
              0,
              "#0d0887"
             ],
             [
              0.1111111111111111,
              "#46039f"
             ],
             [
              0.2222222222222222,
              "#7201a8"
             ],
             [
              0.3333333333333333,
              "#9c179e"
             ],
             [
              0.4444444444444444,
              "#bd3786"
             ],
             [
              0.5555555555555556,
              "#d8576b"
             ],
             [
              0.6666666666666666,
              "#ed7953"
             ],
             [
              0.7777777777777778,
              "#fb9f3a"
             ],
             [
              0.8888888888888888,
              "#fdca26"
             ],
             [
              1,
              "#f0f921"
             ]
            ],
            "type": "histogram2dcontour"
           }
          ],
          "mesh3d": [
           {
            "colorbar": {
             "outlinewidth": 0,
             "ticks": ""
            },
            "type": "mesh3d"
           }
          ],
          "parcoords": [
           {
            "line": {
             "colorbar": {
              "outlinewidth": 0,
              "ticks": ""
             }
            },
            "type": "parcoords"
           }
          ],
          "pie": [
           {
            "automargin": true,
            "type": "pie"
           }
          ],
          "scatter": [
           {
            "marker": {
             "colorbar": {
              "outlinewidth": 0,
              "ticks": ""
             }
            },
            "type": "scatter"
           }
          ],
          "scatter3d": [
           {
            "line": {
             "colorbar": {
              "outlinewidth": 0,
              "ticks": ""
             }
            },
            "marker": {
             "colorbar": {
              "outlinewidth": 0,
              "ticks": ""
             }
            },
            "type": "scatter3d"
           }
          ],
          "scattercarpet": [
           {
            "marker": {
             "colorbar": {
              "outlinewidth": 0,
              "ticks": ""
             }
            },
            "type": "scattercarpet"
           }
          ],
          "scattergeo": [
           {
            "marker": {
             "colorbar": {
              "outlinewidth": 0,
              "ticks": ""
             }
            },
            "type": "scattergeo"
           }
          ],
          "scattergl": [
           {
            "marker": {
             "colorbar": {
              "outlinewidth": 0,
              "ticks": ""
             }
            },
            "type": "scattergl"
           }
          ],
          "scattermapbox": [
           {
            "marker": {
             "colorbar": {
              "outlinewidth": 0,
              "ticks": ""
             }
            },
            "type": "scattermapbox"
           }
          ],
          "scatterpolar": [
           {
            "marker": {
             "colorbar": {
              "outlinewidth": 0,
              "ticks": ""
             }
            },
            "type": "scatterpolar"
           }
          ],
          "scatterpolargl": [
           {
            "marker": {
             "colorbar": {
              "outlinewidth": 0,
              "ticks": ""
             }
            },
            "type": "scatterpolargl"
           }
          ],
          "scatterternary": [
           {
            "marker": {
             "colorbar": {
              "outlinewidth": 0,
              "ticks": ""
             }
            },
            "type": "scatterternary"
           }
          ],
          "surface": [
           {
            "colorbar": {
             "outlinewidth": 0,
             "ticks": ""
            },
            "colorscale": [
             [
              0,
              "#0d0887"
             ],
             [
              0.1111111111111111,
              "#46039f"
             ],
             [
              0.2222222222222222,
              "#7201a8"
             ],
             [
              0.3333333333333333,
              "#9c179e"
             ],
             [
              0.4444444444444444,
              "#bd3786"
             ],
             [
              0.5555555555555556,
              "#d8576b"
             ],
             [
              0.6666666666666666,
              "#ed7953"
             ],
             [
              0.7777777777777778,
              "#fb9f3a"
             ],
             [
              0.8888888888888888,
              "#fdca26"
             ],
             [
              1,
              "#f0f921"
             ]
            ],
            "type": "surface"
           }
          ],
          "table": [
           {
            "cells": {
             "fill": {
              "color": "#EBF0F8"
             },
             "line": {
              "color": "white"
             }
            },
            "header": {
             "fill": {
              "color": "#C8D4E3"
             },
             "line": {
              "color": "white"
             }
            },
            "type": "table"
           }
          ]
         },
         "layout": {
          "annotationdefaults": {
           "arrowcolor": "#2a3f5f",
           "arrowhead": 0,
           "arrowwidth": 1
          },
          "autotypenumbers": "strict",
          "coloraxis": {
           "colorbar": {
            "outlinewidth": 0,
            "ticks": ""
           }
          },
          "colorscale": {
           "diverging": [
            [
             0,
             "#8e0152"
            ],
            [
             0.1,
             "#c51b7d"
            ],
            [
             0.2,
             "#de77ae"
            ],
            [
             0.3,
             "#f1b6da"
            ],
            [
             0.4,
             "#fde0ef"
            ],
            [
             0.5,
             "#f7f7f7"
            ],
            [
             0.6,
             "#e6f5d0"
            ],
            [
             0.7,
             "#b8e186"
            ],
            [
             0.8,
             "#7fbc41"
            ],
            [
             0.9,
             "#4d9221"
            ],
            [
             1,
             "#276419"
            ]
           ],
           "sequential": [
            [
             0,
             "#0d0887"
            ],
            [
             0.1111111111111111,
             "#46039f"
            ],
            [
             0.2222222222222222,
             "#7201a8"
            ],
            [
             0.3333333333333333,
             "#9c179e"
            ],
            [
             0.4444444444444444,
             "#bd3786"
            ],
            [
             0.5555555555555556,
             "#d8576b"
            ],
            [
             0.6666666666666666,
             "#ed7953"
            ],
            [
             0.7777777777777778,
             "#fb9f3a"
            ],
            [
             0.8888888888888888,
             "#fdca26"
            ],
            [
             1,
             "#f0f921"
            ]
           ],
           "sequentialminus": [
            [
             0,
             "#0d0887"
            ],
            [
             0.1111111111111111,
             "#46039f"
            ],
            [
             0.2222222222222222,
             "#7201a8"
            ],
            [
             0.3333333333333333,
             "#9c179e"
            ],
            [
             0.4444444444444444,
             "#bd3786"
            ],
            [
             0.5555555555555556,
             "#d8576b"
            ],
            [
             0.6666666666666666,
             "#ed7953"
            ],
            [
             0.7777777777777778,
             "#fb9f3a"
            ],
            [
             0.8888888888888888,
             "#fdca26"
            ],
            [
             1,
             "#f0f921"
            ]
           ]
          },
          "colorway": [
           "#636efa",
           "#EF553B",
           "#00cc96",
           "#ab63fa",
           "#FFA15A",
           "#19d3f3",
           "#FF6692",
           "#B6E880",
           "#FF97FF",
           "#FECB52"
          ],
          "font": {
           "color": "#2a3f5f"
          },
          "geo": {
           "bgcolor": "white",
           "lakecolor": "white",
           "landcolor": "#E5ECF6",
           "showlakes": true,
           "showland": true,
           "subunitcolor": "white"
          },
          "hoverlabel": {
           "align": "left"
          },
          "hovermode": "closest",
          "mapbox": {
           "style": "light"
          },
          "paper_bgcolor": "white",
          "plot_bgcolor": "#E5ECF6",
          "polar": {
           "angularaxis": {
            "gridcolor": "white",
            "linecolor": "white",
            "ticks": ""
           },
           "bgcolor": "#E5ECF6",
           "radialaxis": {
            "gridcolor": "white",
            "linecolor": "white",
            "ticks": ""
           }
          },
          "scene": {
           "xaxis": {
            "backgroundcolor": "#E5ECF6",
            "gridcolor": "white",
            "gridwidth": 2,
            "linecolor": "white",
            "showbackground": true,
            "ticks": "",
            "zerolinecolor": "white"
           },
           "yaxis": {
            "backgroundcolor": "#E5ECF6",
            "gridcolor": "white",
            "gridwidth": 2,
            "linecolor": "white",
            "showbackground": true,
            "ticks": "",
            "zerolinecolor": "white"
           },
           "zaxis": {
            "backgroundcolor": "#E5ECF6",
            "gridcolor": "white",
            "gridwidth": 2,
            "linecolor": "white",
            "showbackground": true,
            "ticks": "",
            "zerolinecolor": "white"
           }
          },
          "shapedefaults": {
           "line": {
            "color": "#2a3f5f"
           }
          },
          "ternary": {
           "aaxis": {
            "gridcolor": "white",
            "linecolor": "white",
            "ticks": ""
           },
           "baxis": {
            "gridcolor": "white",
            "linecolor": "white",
            "ticks": ""
           },
           "bgcolor": "#E5ECF6",
           "caxis": {
            "gridcolor": "white",
            "linecolor": "white",
            "ticks": ""
           }
          },
          "title": {
           "x": 0.05
          },
          "xaxis": {
           "automargin": true,
           "gridcolor": "white",
           "linecolor": "white",
           "ticks": "",
           "title": {
            "standoff": 15
           },
           "zerolinecolor": "white",
           "zerolinewidth": 2
          },
          "yaxis": {
           "automargin": true,
           "gridcolor": "white",
           "linecolor": "white",
           "ticks": "",
           "title": {
            "standoff": 15
           },
           "zerolinecolor": "white",
           "zerolinewidth": 2
          }
         }
        },
        "title": {
         "font": {
          "color": "#4D5663"
         }
        },
        "xaxis": {
         "gridcolor": "#E1E5ED",
         "showgrid": true,
         "tickfont": {
          "color": "#4D5663"
         },
         "title": {
          "font": {
           "color": "#4D5663"
          },
          "text": ""
         },
         "zerolinecolor": "#E1E5ED"
        },
        "yaxis": {
         "gridcolor": "#E1E5ED",
         "showgrid": true,
         "tickfont": {
          "color": "#4D5663"
         },
         "title": {
          "font": {
           "color": "#4D5663"
          },
          "text": ""
         },
         "zerolinecolor": "#E1E5ED"
        }
       }
      },
      "text/html": [
       "<div>                            <div id=\"57dcb031-b029-4b4f-94bc-206aff54e38d\" class=\"plotly-graph-div\" style=\"height:525px; width:100%;\"></div>            <script type=\"text/javascript\">                require([\"plotly\"], function(Plotly) {                    window.PLOTLYENV=window.PLOTLYENV || {};\n",
       "                    window.PLOTLYENV.BASE_URL='https://plot.ly';                                    if (document.getElementById(\"57dcb031-b029-4b4f-94bc-206aff54e38d\")) {                    Plotly.newPlot(                        \"57dcb031-b029-4b4f-94bc-206aff54e38d\",                        [{\"marker\": {\"color\": \"rgba(255, 153, 51, 0.6)\", \"line\": {\"color\": \"rgba(255, 153, 51, 1.0)\", \"width\": 1}}, \"name\": \"None\", \"orientation\": \"v\", \"text\": \"\", \"type\": \"bar\", \"x\": [\"A\", \"B\", \"C\", \"D\"], \"y\": [100, 100, 100, 100]}],                        {\"legend\": {\"bgcolor\": \"#F5F6F9\", \"font\": {\"color\": \"#4D5663\"}}, \"paper_bgcolor\": \"#F5F6F9\", \"plot_bgcolor\": \"#F5F6F9\", \"template\": {\"data\": {\"bar\": [{\"error_x\": {\"color\": \"#2a3f5f\"}, \"error_y\": {\"color\": \"#2a3f5f\"}, \"marker\": {\"line\": {\"color\": \"#E5ECF6\", \"width\": 0.5}}, \"type\": \"bar\"}], \"barpolar\": [{\"marker\": {\"line\": {\"color\": \"#E5ECF6\", \"width\": 0.5}}, \"type\": \"barpolar\"}], \"carpet\": [{\"aaxis\": {\"endlinecolor\": \"#2a3f5f\", \"gridcolor\": \"white\", \"linecolor\": \"white\", \"minorgridcolor\": \"white\", \"startlinecolor\": \"#2a3f5f\"}, \"baxis\": {\"endlinecolor\": \"#2a3f5f\", \"gridcolor\": \"white\", \"linecolor\": \"white\", \"minorgridcolor\": \"white\", \"startlinecolor\": \"#2a3f5f\"}, \"type\": \"carpet\"}], \"choropleth\": [{\"colorbar\": {\"outlinewidth\": 0, \"ticks\": \"\"}, \"type\": \"choropleth\"}], \"contour\": [{\"colorbar\": {\"outlinewidth\": 0, \"ticks\": \"\"}, \"colorscale\": [[0.0, \"#0d0887\"], [0.1111111111111111, \"#46039f\"], [0.2222222222222222, \"#7201a8\"], [0.3333333333333333, \"#9c179e\"], [0.4444444444444444, \"#bd3786\"], [0.5555555555555556, \"#d8576b\"], [0.6666666666666666, \"#ed7953\"], [0.7777777777777778, \"#fb9f3a\"], [0.8888888888888888, \"#fdca26\"], [1.0, \"#f0f921\"]], \"type\": \"contour\"}], \"contourcarpet\": [{\"colorbar\": {\"outlinewidth\": 0, \"ticks\": \"\"}, \"type\": \"contourcarpet\"}], \"heatmap\": [{\"colorbar\": {\"outlinewidth\": 0, \"ticks\": \"\"}, \"colorscale\": [[0.0, \"#0d0887\"], [0.1111111111111111, \"#46039f\"], [0.2222222222222222, \"#7201a8\"], [0.3333333333333333, \"#9c179e\"], [0.4444444444444444, \"#bd3786\"], [0.5555555555555556, \"#d8576b\"], [0.6666666666666666, \"#ed7953\"], [0.7777777777777778, \"#fb9f3a\"], [0.8888888888888888, \"#fdca26\"], [1.0, \"#f0f921\"]], \"type\": \"heatmap\"}], \"heatmapgl\": [{\"colorbar\": {\"outlinewidth\": 0, \"ticks\": \"\"}, \"colorscale\": [[0.0, \"#0d0887\"], [0.1111111111111111, \"#46039f\"], [0.2222222222222222, \"#7201a8\"], [0.3333333333333333, \"#9c179e\"], [0.4444444444444444, \"#bd3786\"], [0.5555555555555556, \"#d8576b\"], [0.6666666666666666, \"#ed7953\"], [0.7777777777777778, \"#fb9f3a\"], [0.8888888888888888, \"#fdca26\"], [1.0, \"#f0f921\"]], \"type\": \"heatmapgl\"}], \"histogram\": [{\"marker\": {\"colorbar\": {\"outlinewidth\": 0, \"ticks\": \"\"}}, \"type\": \"histogram\"}], \"histogram2d\": [{\"colorbar\": {\"outlinewidth\": 0, \"ticks\": \"\"}, \"colorscale\": [[0.0, \"#0d0887\"], [0.1111111111111111, \"#46039f\"], [0.2222222222222222, \"#7201a8\"], [0.3333333333333333, \"#9c179e\"], [0.4444444444444444, \"#bd3786\"], [0.5555555555555556, \"#d8576b\"], [0.6666666666666666, \"#ed7953\"], [0.7777777777777778, \"#fb9f3a\"], [0.8888888888888888, \"#fdca26\"], [1.0, \"#f0f921\"]], \"type\": \"histogram2d\"}], \"histogram2dcontour\": [{\"colorbar\": {\"outlinewidth\": 0, \"ticks\": \"\"}, \"colorscale\": [[0.0, \"#0d0887\"], [0.1111111111111111, \"#46039f\"], [0.2222222222222222, \"#7201a8\"], [0.3333333333333333, \"#9c179e\"], [0.4444444444444444, \"#bd3786\"], [0.5555555555555556, \"#d8576b\"], [0.6666666666666666, \"#ed7953\"], [0.7777777777777778, \"#fb9f3a\"], [0.8888888888888888, \"#fdca26\"], [1.0, \"#f0f921\"]], \"type\": \"histogram2dcontour\"}], \"mesh3d\": [{\"colorbar\": {\"outlinewidth\": 0, \"ticks\": \"\"}, \"type\": \"mesh3d\"}], \"parcoords\": [{\"line\": {\"colorbar\": {\"outlinewidth\": 0, \"ticks\": \"\"}}, \"type\": \"parcoords\"}], \"pie\": [{\"automargin\": true, \"type\": \"pie\"}], \"scatter\": [{\"marker\": {\"colorbar\": {\"outlinewidth\": 0, \"ticks\": \"\"}}, \"type\": \"scatter\"}], \"scatter3d\": [{\"line\": {\"colorbar\": {\"outlinewidth\": 0, \"ticks\": \"\"}}, \"marker\": {\"colorbar\": {\"outlinewidth\": 0, \"ticks\": \"\"}}, \"type\": \"scatter3d\"}], \"scattercarpet\": [{\"marker\": {\"colorbar\": {\"outlinewidth\": 0, \"ticks\": \"\"}}, \"type\": \"scattercarpet\"}], \"scattergeo\": [{\"marker\": {\"colorbar\": {\"outlinewidth\": 0, \"ticks\": \"\"}}, \"type\": \"scattergeo\"}], \"scattergl\": [{\"marker\": {\"colorbar\": {\"outlinewidth\": 0, \"ticks\": \"\"}}, \"type\": \"scattergl\"}], \"scattermapbox\": [{\"marker\": {\"colorbar\": {\"outlinewidth\": 0, \"ticks\": \"\"}}, \"type\": \"scattermapbox\"}], \"scatterpolar\": [{\"marker\": {\"colorbar\": {\"outlinewidth\": 0, \"ticks\": \"\"}}, \"type\": \"scatterpolar\"}], \"scatterpolargl\": [{\"marker\": {\"colorbar\": {\"outlinewidth\": 0, \"ticks\": \"\"}}, \"type\": \"scatterpolargl\"}], \"scatterternary\": [{\"marker\": {\"colorbar\": {\"outlinewidth\": 0, \"ticks\": \"\"}}, \"type\": \"scatterternary\"}], \"surface\": [{\"colorbar\": {\"outlinewidth\": 0, \"ticks\": \"\"}, \"colorscale\": [[0.0, \"#0d0887\"], [0.1111111111111111, \"#46039f\"], [0.2222222222222222, \"#7201a8\"], [0.3333333333333333, \"#9c179e\"], [0.4444444444444444, \"#bd3786\"], [0.5555555555555556, \"#d8576b\"], [0.6666666666666666, \"#ed7953\"], [0.7777777777777778, \"#fb9f3a\"], [0.8888888888888888, \"#fdca26\"], [1.0, \"#f0f921\"]], \"type\": \"surface\"}], \"table\": [{\"cells\": {\"fill\": {\"color\": \"#EBF0F8\"}, \"line\": {\"color\": \"white\"}}, \"header\": {\"fill\": {\"color\": \"#C8D4E3\"}, \"line\": {\"color\": \"white\"}}, \"type\": \"table\"}]}, \"layout\": {\"annotationdefaults\": {\"arrowcolor\": \"#2a3f5f\", \"arrowhead\": 0, \"arrowwidth\": 1}, \"autotypenumbers\": \"strict\", \"coloraxis\": {\"colorbar\": {\"outlinewidth\": 0, \"ticks\": \"\"}}, \"colorscale\": {\"diverging\": [[0, \"#8e0152\"], [0.1, \"#c51b7d\"], [0.2, \"#de77ae\"], [0.3, \"#f1b6da\"], [0.4, \"#fde0ef\"], [0.5, \"#f7f7f7\"], [0.6, \"#e6f5d0\"], [0.7, \"#b8e186\"], [0.8, \"#7fbc41\"], [0.9, \"#4d9221\"], [1, \"#276419\"]], \"sequential\": [[0.0, \"#0d0887\"], [0.1111111111111111, \"#46039f\"], [0.2222222222222222, \"#7201a8\"], [0.3333333333333333, \"#9c179e\"], [0.4444444444444444, \"#bd3786\"], [0.5555555555555556, \"#d8576b\"], [0.6666666666666666, \"#ed7953\"], [0.7777777777777778, \"#fb9f3a\"], [0.8888888888888888, \"#fdca26\"], [1.0, \"#f0f921\"]], \"sequentialminus\": [[0.0, \"#0d0887\"], [0.1111111111111111, \"#46039f\"], [0.2222222222222222, \"#7201a8\"], [0.3333333333333333, \"#9c179e\"], [0.4444444444444444, \"#bd3786\"], [0.5555555555555556, \"#d8576b\"], [0.6666666666666666, \"#ed7953\"], [0.7777777777777778, \"#fb9f3a\"], [0.8888888888888888, \"#fdca26\"], [1.0, \"#f0f921\"]]}, \"colorway\": [\"#636efa\", \"#EF553B\", \"#00cc96\", \"#ab63fa\", \"#FFA15A\", \"#19d3f3\", \"#FF6692\", \"#B6E880\", \"#FF97FF\", \"#FECB52\"], \"font\": {\"color\": \"#2a3f5f\"}, \"geo\": {\"bgcolor\": \"white\", \"lakecolor\": \"white\", \"landcolor\": \"#E5ECF6\", \"showlakes\": true, \"showland\": true, \"subunitcolor\": \"white\"}, \"hoverlabel\": {\"align\": \"left\"}, \"hovermode\": \"closest\", \"mapbox\": {\"style\": \"light\"}, \"paper_bgcolor\": \"white\", \"plot_bgcolor\": \"#E5ECF6\", \"polar\": {\"angularaxis\": {\"gridcolor\": \"white\", \"linecolor\": \"white\", \"ticks\": \"\"}, \"bgcolor\": \"#E5ECF6\", \"radialaxis\": {\"gridcolor\": \"white\", \"linecolor\": \"white\", \"ticks\": \"\"}}, \"scene\": {\"xaxis\": {\"backgroundcolor\": \"#E5ECF6\", \"gridcolor\": \"white\", \"gridwidth\": 2, \"linecolor\": \"white\", \"showbackground\": true, \"ticks\": \"\", \"zerolinecolor\": \"white\"}, \"yaxis\": {\"backgroundcolor\": \"#E5ECF6\", \"gridcolor\": \"white\", \"gridwidth\": 2, \"linecolor\": \"white\", \"showbackground\": true, \"ticks\": \"\", \"zerolinecolor\": \"white\"}, \"zaxis\": {\"backgroundcolor\": \"#E5ECF6\", \"gridcolor\": \"white\", \"gridwidth\": 2, \"linecolor\": \"white\", \"showbackground\": true, \"ticks\": \"\", \"zerolinecolor\": \"white\"}}, \"shapedefaults\": {\"line\": {\"color\": \"#2a3f5f\"}}, \"ternary\": {\"aaxis\": {\"gridcolor\": \"white\", \"linecolor\": \"white\", \"ticks\": \"\"}, \"baxis\": {\"gridcolor\": \"white\", \"linecolor\": \"white\", \"ticks\": \"\"}, \"bgcolor\": \"#E5ECF6\", \"caxis\": {\"gridcolor\": \"white\", \"linecolor\": \"white\", \"ticks\": \"\"}}, \"title\": {\"x\": 0.05}, \"xaxis\": {\"automargin\": true, \"gridcolor\": \"white\", \"linecolor\": \"white\", \"ticks\": \"\", \"title\": {\"standoff\": 15}, \"zerolinecolor\": \"white\", \"zerolinewidth\": 2}, \"yaxis\": {\"automargin\": true, \"gridcolor\": \"white\", \"linecolor\": \"white\", \"ticks\": \"\", \"title\": {\"standoff\": 15}, \"zerolinecolor\": \"white\", \"zerolinewidth\": 2}}}, \"title\": {\"font\": {\"color\": \"#4D5663\"}}, \"xaxis\": {\"gridcolor\": \"#E1E5ED\", \"showgrid\": true, \"tickfont\": {\"color\": \"#4D5663\"}, \"title\": {\"font\": {\"color\": \"#4D5663\"}, \"text\": \"\"}, \"zerolinecolor\": \"#E1E5ED\"}, \"yaxis\": {\"gridcolor\": \"#E1E5ED\", \"showgrid\": true, \"tickfont\": {\"color\": \"#4D5663\"}, \"title\": {\"font\": {\"color\": \"#4D5663\"}, \"text\": \"\"}, \"zerolinecolor\": \"#E1E5ED\"}},                        {\"showLink\": true, \"linkText\": \"Export to plot.ly\", \"plotlyServerURL\": \"https://plot.ly\", \"responsive\": true}                    ).then(function(){\n",
       "                            \n",
       "var gd = document.getElementById('57dcb031-b029-4b4f-94bc-206aff54e38d');\n",
       "var x = new MutationObserver(function (mutations, observer) {{\n",
       "        var display = window.getComputedStyle(gd).display;\n",
       "        if (!display || display === 'none') {{\n",
       "            console.log([gd, 'removed!']);\n",
       "            Plotly.purge(gd);\n",
       "            observer.disconnect();\n",
       "        }}\n",
       "}});\n",
       "\n",
       "// Listen for the removal of the full notebook cells\n",
       "var notebookContainer = gd.closest('#notebook-container');\n",
       "if (notebookContainer) {{\n",
       "    x.observe(notebookContainer, {childList: true});\n",
       "}}\n",
       "\n",
       "// Listen for the clearing of the current output cell\n",
       "var outputEl = gd.closest('.output');\n",
       "if (outputEl) {{\n",
       "    x.observe(outputEl, {childList: true});\n",
       "}}\n",
       "\n",
       "                        })                };                });            </script>        </div>"
      ]
     },
     "metadata": {},
     "output_type": "display_data"
    }
   ],
   "source": [
    "df.count().iplot(kind=\"bar\")"
   ]
  },
  {
   "cell_type": "code",
   "execution_count": 16,
   "metadata": {},
   "outputs": [
    {
     "data": {
      "application/vnd.plotly.v1+json": {
       "config": {
        "linkText": "Export to plot.ly",
        "plotlyServerURL": "https://plot.ly",
        "showLink": true
       },
       "data": [
        {
         "boxpoints": false,
         "line": {
          "width": 1.3
         },
         "marker": {
          "color": "rgba(255, 153, 51, 1.0)"
         },
         "name": "A",
         "orientation": "v",
         "type": "box",
         "y": [
          -1.6437536111521518,
          0.6236334115580212,
          0.3632305334696795,
          0.7803939112591669,
          0.7742854821151604,
          -1.0391624009931515,
          1.0889561004772061,
          -0.8820807905725819,
          -0.09884950690901928,
          -2.5490967634952577,
          -1.4465866453633747,
          -0.4296122350300794,
          0.9907776802326949,
          2.2655549907972725,
          1.1436740283221893,
          0.33666342394404386,
          0.08937447215462413,
          -1.046283324201508,
          -0.3732597314122444,
          1.4268298589473511,
          0.8619658253130911,
          -1.5487963505620657,
          1.6661593485730637,
          0.7491924544143039,
          0.621561413774492,
          0.2915885975878172,
          2.0385417913239405,
          1.4244902846641307,
          -2.159052691440464,
          0.5423476711114913,
          -1.6789323696099687,
          -0.5446205803784033,
          0.387883477755812,
          -0.22903596434654588,
          -1.6505967844835412,
          -0.32881281216744135,
          0.6779154927169985,
          1.3681067471795663,
          0.26225857285756615,
          -1.9011589892879166,
          1.1409349082330473,
          -0.9589009714325152,
          0.03238371011666432,
          -0.10655362520754084,
          0.05927441822569643,
          0.42049964960882447,
          1.329575920257925,
          1.285081393630453,
          0.36005982323576674,
          0.6358536168798995,
          0.2025560884588064,
          0.10886754236829017,
          0.4269229835904177,
          0.14374785684194905,
          -0.020302072847358597,
          -0.4560210194505382,
          1.8347967740322737,
          -0.5006575216944982,
          1.6792441205485138,
          0.44958872515811443,
          0.7598644337110251,
          -1.326566371218351,
          -1.111550193856778,
          1.2756505190831742,
          0.7823229849163477,
          -1.1681639647040756,
          0.5987424260829366,
          1.4530772148308835,
          -0.1540334211090501,
          -0.6605279285668003,
          -0.5120412364212491,
          0.49300018525610345,
          -1.7204737222447415,
          -0.13851095685665482,
          -0.3588646633355994,
          -0.672204763993229,
          -0.14758595118924844,
          -0.7408629549882537,
          -1.2913725572359855,
          1.5473308090202944,
          1.318762193807283,
          0.259797984036728,
          -0.40385400584752457,
          -0.05074138338280163,
          -0.5739011980296671,
          0.43687851240248043,
          1.005132152855596,
          0.15754796130132306,
          0.06280552804167883,
          -0.28111370074712844,
          0.14489460641954385,
          0.5492176924141802,
          -2.1359048816395925,
          -0.2445338170684625,
          0.38474457301952225,
          0.014189266045035662,
          2.148224956400063,
          -0.9306543355294326,
          1.4984469196272776,
          -0.23426698205439314
         ]
        },
        {
         "boxpoints": false,
         "line": {
          "width": 1.3
         },
         "marker": {
          "color": "rgba(55, 128, 191, 1.0)"
         },
         "name": "B",
         "orientation": "v",
         "type": "box",
         "y": [
          0.1997120436245693,
          0.4014825437710733,
          -0.12801667220114157,
          0.8107491846132913,
          2.537350078887453,
          -0.9788869603880892,
          -1.3378194669617782,
          -0.23426486866532062,
          0.8757742912539805,
          -2.0227454095445996,
          -0.017483907928513998,
          -0.8504064065218876,
          0.8995122342064306,
          -3.1965038729005197,
          -0.04595877243296813,
          1.565774686594166,
          0.27195711823104024,
          2.634779913469022,
          -0.6128501112350614,
          -0.9381204025498604,
          2.2254029657148604,
          0.6617734913093654,
          0.1729274366607718,
          0.6373609822877407,
          0.8180905913547657,
          0.6994384744369971,
          -1.0575377803413366,
          0.22628233151882693,
          2.329320119524522,
          -1.112061440235663,
          0.2515419041896052,
          -0.2696718165056928,
          -0.700689498410336,
          1.2123048002103898,
          -0.9600121886012616,
          -0.22177492689954934,
          0.8970292263888108,
          1.9660366494708446,
          1.2700402043716204,
          -1.3259086935966156,
          -0.1092438311787329,
          -1.3838336167537948,
          1.309337408044333,
          0.7369189504715908,
          0.9793750111708072,
          0.8386959382263741,
          -2.6014199515774523,
          -1.9395491169488337,
          -0.24462832833871673,
          -0.012947003675194895,
          -0.9565473591206575,
          1.5222970935820264,
          1.1786194213689853,
          -0.3165252186143081,
          0.5985585830972404,
          1.8747596870918923,
          0.2419895523466944,
          -0.13521215456938623,
          -0.9040822120120701,
          -1.0667699555127341,
          0.32824617656830496,
          -0.6588345803353914,
          1.0699286027722748,
          -0.13033161196575843,
          0.9141706936213561,
          1.0637960589927955,
          -0.10995148242640611,
          -1.0457235356110008,
          0.027499397592431904,
          -0.8941576216741033,
          -0.9020235485999063,
          0.09023310607670769,
          1.8798418811465476,
          -2.0013537041552185,
          0.5032533708041967,
          -0.2601989552156913,
          -0.6770761470398742,
          -0.3487762448643428,
          0.3153186836920095,
          -0.5414590270345206,
          0.28405741070812984,
          -0.07609106182259144,
          0.11656621405857027,
          0.18821641130543096,
          -2.2009179559698975,
          1.0178362295224403,
          0.5121863442190329,
          0.6981423101951505,
          -1.6899453376912257,
          0.7222069010847146,
          -1.3348502683292458,
          0.004150585252992694,
          0.6635657982770735,
          -0.5646265666014189,
          0.12493662861316242,
          -0.6843670840702347,
          -0.13592666505323378,
          0.18138101579973953,
          0.5838414942921941,
          1.1556173562342535
         ]
        },
        {
         "boxpoints": false,
         "line": {
          "width": 1.3
         },
         "marker": {
          "color": "rgba(50, 171, 96, 1.0)"
         },
         "name": "C",
         "orientation": "v",
         "type": "box",
         "y": [
          -0.7635475220585797,
          0.7275465613950386,
          1.2106730592302932,
          -0.26808880557947223,
          0.6113539822345423,
          -1.214750884034707,
          0.0948462303068252,
          -1.195632383328205,
          0.4445681897608045,
          0.00232091623376802,
          0.723901448264587,
          -0.713979215671458,
          1.3280234720817723,
          -0.39311110566524465,
          -0.16345140137243752,
          1.3384534805882329,
          1.1001315909236695,
          0.21218038486150026,
          0.8779623997729757,
          0.02803609539212363,
          0.7929511094793856,
          0.06862649748601243,
          -1.018803700802844,
          -0.26509337320595466,
          -0.0889931535431639,
          2.1049720474640337,
          -1.0886218022894911,
          0.19200994679222705,
          -0.3861122196369465,
          -1.5227878826885317,
          -0.5120322669400799,
          -1.054211308029935,
          0.3571894984423901,
          0.5193026868821258,
          1.4232777799075593,
          0.3092638505419972,
          -0.4547563662144429,
          -0.67976756754685,
          0.15813432084671297,
          1.1981774787797457,
          0.2990881713852884,
          0.9232913729290833,
          1.1110736506500258,
          -0.5317450889314217,
          1.252034848940193,
          -0.5747947031124858,
          -1.0802543135391671,
          0.21595513424871368,
          0.4814244562208135,
          -0.8268567287355622,
          -0.7561373536785448,
          -0.7306924966238972,
          1.1947957263879965,
          0.2165257162846546,
          0.3396237334304019,
          -0.5576551232730913,
          0.2559146575946232,
          0.857038237618503,
          0.6481140692381244,
          -0.301654112349425,
          -0.6565900409778459,
          -0.40136202638992563,
          1.079027086193721,
          -1.4654074113328504,
          0.22806414173457362,
          -0.12046575105851924,
          0.6861665880060672,
          1.219739091463611,
          -0.43143287658116874,
          -0.19185607873873778,
          -0.11070832859732356,
          -0.4703477554472593,
          1.2167300209804561,
          -1.027506202862617,
          -1.6801079385214954,
          -1.4562809624135469,
          0.23396962506006988,
          -1.3463996276459578,
          -0.09149518233738907,
          1.9268597391661029,
          -1.06932101547924,
          1.204153751265953,
          -1.4495055769352365,
          0.37317334355852666,
          1.0450315678905135,
          0.9062777721000029,
          -0.3006642175307795,
          0.3975275531144573,
          0.635836243496414,
          -0.4754197287827103,
          0.7833751015051399,
          -0.04243868656607411,
          0.3486887706157529,
          2.5181293123660424,
          1.9490253243603444,
          0.6025809541825847,
          0.05800266255571208,
          0.46799447384150183,
          -0.18901297174740078,
          -1.1303547226766595
         ]
        },
        {
         "boxpoints": false,
         "line": {
          "width": 1.3
         },
         "marker": {
          "color": "rgba(128, 0, 128, 1.0)"
         },
         "name": "D",
         "orientation": "v",
         "type": "box",
         "y": [
          -0.13245030450514364,
          1.3090654496831373,
          0.5941034874725996,
          1.3384135152866654,
          -1.0530997292776216,
          1.9371791790234008,
          -0.9594274779282423,
          0.3078547729629255,
          1.7441823466769475,
          -0.09951392913240051,
          1.4355555549411385,
          0.3710727965237172,
          0.03374975359859986,
          -0.033479064173235706,
          -1.3665450741870664,
          0.22152886857406304,
          -0.5674491542831128,
          0.4587153411471475,
          0.4248257984021767,
          -0.6235717369069563,
          1.710146658764891,
          1.4098121814995066,
          -1.1274754409717573,
          0.6957888501265138,
          -1.1059917553459906,
          0.21130046830671764,
          -0.39564111141040675,
          -0.5798788175891483,
          -1.4251703850714619,
          -0.3129891502561077,
          0.4721896855766305,
          1.2806911306780764,
          -0.5343589299964965,
          -0.4888466988329627,
          -0.201050352276019,
          0.4015844429868238,
          1.1648370299558586,
          -0.6744640514699624,
          1.4175678671847494,
          -0.42929632456118305,
          -0.8394976099692066,
          -0.49802703221661765,
          0.38183772806856087,
          -0.0032499998252741727,
          1.4543067636878553,
          0.3910702976593195,
          0.003870755619403408,
          1.2896667549679,
          1.224421916039707,
          1.3344355771053826,
          1.5250482470987206,
          -1.9657127108424082,
          0.5590658834601998,
          -1.1976217219467151,
          -0.0488212368535531,
          -0.0906397146441149,
          -1.0654119498341241,
          -1.8808024512027708,
          -1.1163775860251197,
          -0.049107991126143856,
          -0.707384583106294,
          -0.7637002961689972,
          -0.8606711320580065,
          0.17817147440272832,
          -0.9446586767242249,
          -0.3631999980389838,
          1.3242270428031158,
          -0.7980788101588576,
          0.19890789884205137,
          0.5263478230076676,
          0.05618074411174819,
          1.1190310472224207,
          1.1549808215813724,
          0.10379562374333628,
          -0.397758529607837,
          -0.35789023929608244,
          2.966904904253891,
          -0.4274498902723708,
          -1.1872459785099456,
          -1.2472082324945206,
          1.8599860272482274,
          0.6024133519643031,
          0.25654030035368325,
          -1.8243553827834675,
          0.937221973717681,
          -1.752472730183518,
          -0.45837441861259437,
          -0.4090614683198603,
          1.003333450424868,
          0.1122618715732058,
          -1.3235108512525702,
          1.127613144563296,
          0.045354560188719195,
          0.7218142655403719,
          0.4003629839392785,
          -0.3052701998445313,
          1.3713091367297658,
          -2.5332123573589964,
          0.9564787407896036,
          -0.21761251009317298
         ]
        }
       ],
       "layout": {
        "legend": {
         "bgcolor": "#F5F6F9",
         "font": {
          "color": "#4D5663"
         }
        },
        "paper_bgcolor": "#F5F6F9",
        "plot_bgcolor": "#F5F6F9",
        "template": {
         "data": {
          "bar": [
           {
            "error_x": {
             "color": "#2a3f5f"
            },
            "error_y": {
             "color": "#2a3f5f"
            },
            "marker": {
             "line": {
              "color": "#E5ECF6",
              "width": 0.5
             }
            },
            "type": "bar"
           }
          ],
          "barpolar": [
           {
            "marker": {
             "line": {
              "color": "#E5ECF6",
              "width": 0.5
             }
            },
            "type": "barpolar"
           }
          ],
          "carpet": [
           {
            "aaxis": {
             "endlinecolor": "#2a3f5f",
             "gridcolor": "white",
             "linecolor": "white",
             "minorgridcolor": "white",
             "startlinecolor": "#2a3f5f"
            },
            "baxis": {
             "endlinecolor": "#2a3f5f",
             "gridcolor": "white",
             "linecolor": "white",
             "minorgridcolor": "white",
             "startlinecolor": "#2a3f5f"
            },
            "type": "carpet"
           }
          ],
          "choropleth": [
           {
            "colorbar": {
             "outlinewidth": 0,
             "ticks": ""
            },
            "type": "choropleth"
           }
          ],
          "contour": [
           {
            "colorbar": {
             "outlinewidth": 0,
             "ticks": ""
            },
            "colorscale": [
             [
              0,
              "#0d0887"
             ],
             [
              0.1111111111111111,
              "#46039f"
             ],
             [
              0.2222222222222222,
              "#7201a8"
             ],
             [
              0.3333333333333333,
              "#9c179e"
             ],
             [
              0.4444444444444444,
              "#bd3786"
             ],
             [
              0.5555555555555556,
              "#d8576b"
             ],
             [
              0.6666666666666666,
              "#ed7953"
             ],
             [
              0.7777777777777778,
              "#fb9f3a"
             ],
             [
              0.8888888888888888,
              "#fdca26"
             ],
             [
              1,
              "#f0f921"
             ]
            ],
            "type": "contour"
           }
          ],
          "contourcarpet": [
           {
            "colorbar": {
             "outlinewidth": 0,
             "ticks": ""
            },
            "type": "contourcarpet"
           }
          ],
          "heatmap": [
           {
            "colorbar": {
             "outlinewidth": 0,
             "ticks": ""
            },
            "colorscale": [
             [
              0,
              "#0d0887"
             ],
             [
              0.1111111111111111,
              "#46039f"
             ],
             [
              0.2222222222222222,
              "#7201a8"
             ],
             [
              0.3333333333333333,
              "#9c179e"
             ],
             [
              0.4444444444444444,
              "#bd3786"
             ],
             [
              0.5555555555555556,
              "#d8576b"
             ],
             [
              0.6666666666666666,
              "#ed7953"
             ],
             [
              0.7777777777777778,
              "#fb9f3a"
             ],
             [
              0.8888888888888888,
              "#fdca26"
             ],
             [
              1,
              "#f0f921"
             ]
            ],
            "type": "heatmap"
           }
          ],
          "heatmapgl": [
           {
            "colorbar": {
             "outlinewidth": 0,
             "ticks": ""
            },
            "colorscale": [
             [
              0,
              "#0d0887"
             ],
             [
              0.1111111111111111,
              "#46039f"
             ],
             [
              0.2222222222222222,
              "#7201a8"
             ],
             [
              0.3333333333333333,
              "#9c179e"
             ],
             [
              0.4444444444444444,
              "#bd3786"
             ],
             [
              0.5555555555555556,
              "#d8576b"
             ],
             [
              0.6666666666666666,
              "#ed7953"
             ],
             [
              0.7777777777777778,
              "#fb9f3a"
             ],
             [
              0.8888888888888888,
              "#fdca26"
             ],
             [
              1,
              "#f0f921"
             ]
            ],
            "type": "heatmapgl"
           }
          ],
          "histogram": [
           {
            "marker": {
             "colorbar": {
              "outlinewidth": 0,
              "ticks": ""
             }
            },
            "type": "histogram"
           }
          ],
          "histogram2d": [
           {
            "colorbar": {
             "outlinewidth": 0,
             "ticks": ""
            },
            "colorscale": [
             [
              0,
              "#0d0887"
             ],
             [
              0.1111111111111111,
              "#46039f"
             ],
             [
              0.2222222222222222,
              "#7201a8"
             ],
             [
              0.3333333333333333,
              "#9c179e"
             ],
             [
              0.4444444444444444,
              "#bd3786"
             ],
             [
              0.5555555555555556,
              "#d8576b"
             ],
             [
              0.6666666666666666,
              "#ed7953"
             ],
             [
              0.7777777777777778,
              "#fb9f3a"
             ],
             [
              0.8888888888888888,
              "#fdca26"
             ],
             [
              1,
              "#f0f921"
             ]
            ],
            "type": "histogram2d"
           }
          ],
          "histogram2dcontour": [
           {
            "colorbar": {
             "outlinewidth": 0,
             "ticks": ""
            },
            "colorscale": [
             [
              0,
              "#0d0887"
             ],
             [
              0.1111111111111111,
              "#46039f"
             ],
             [
              0.2222222222222222,
              "#7201a8"
             ],
             [
              0.3333333333333333,
              "#9c179e"
             ],
             [
              0.4444444444444444,
              "#bd3786"
             ],
             [
              0.5555555555555556,
              "#d8576b"
             ],
             [
              0.6666666666666666,
              "#ed7953"
             ],
             [
              0.7777777777777778,
              "#fb9f3a"
             ],
             [
              0.8888888888888888,
              "#fdca26"
             ],
             [
              1,
              "#f0f921"
             ]
            ],
            "type": "histogram2dcontour"
           }
          ],
          "mesh3d": [
           {
            "colorbar": {
             "outlinewidth": 0,
             "ticks": ""
            },
            "type": "mesh3d"
           }
          ],
          "parcoords": [
           {
            "line": {
             "colorbar": {
              "outlinewidth": 0,
              "ticks": ""
             }
            },
            "type": "parcoords"
           }
          ],
          "pie": [
           {
            "automargin": true,
            "type": "pie"
           }
          ],
          "scatter": [
           {
            "marker": {
             "colorbar": {
              "outlinewidth": 0,
              "ticks": ""
             }
            },
            "type": "scatter"
           }
          ],
          "scatter3d": [
           {
            "line": {
             "colorbar": {
              "outlinewidth": 0,
              "ticks": ""
             }
            },
            "marker": {
             "colorbar": {
              "outlinewidth": 0,
              "ticks": ""
             }
            },
            "type": "scatter3d"
           }
          ],
          "scattercarpet": [
           {
            "marker": {
             "colorbar": {
              "outlinewidth": 0,
              "ticks": ""
             }
            },
            "type": "scattercarpet"
           }
          ],
          "scattergeo": [
           {
            "marker": {
             "colorbar": {
              "outlinewidth": 0,
              "ticks": ""
             }
            },
            "type": "scattergeo"
           }
          ],
          "scattergl": [
           {
            "marker": {
             "colorbar": {
              "outlinewidth": 0,
              "ticks": ""
             }
            },
            "type": "scattergl"
           }
          ],
          "scattermapbox": [
           {
            "marker": {
             "colorbar": {
              "outlinewidth": 0,
              "ticks": ""
             }
            },
            "type": "scattermapbox"
           }
          ],
          "scatterpolar": [
           {
            "marker": {
             "colorbar": {
              "outlinewidth": 0,
              "ticks": ""
             }
            },
            "type": "scatterpolar"
           }
          ],
          "scatterpolargl": [
           {
            "marker": {
             "colorbar": {
              "outlinewidth": 0,
              "ticks": ""
             }
            },
            "type": "scatterpolargl"
           }
          ],
          "scatterternary": [
           {
            "marker": {
             "colorbar": {
              "outlinewidth": 0,
              "ticks": ""
             }
            },
            "type": "scatterternary"
           }
          ],
          "surface": [
           {
            "colorbar": {
             "outlinewidth": 0,
             "ticks": ""
            },
            "colorscale": [
             [
              0,
              "#0d0887"
             ],
             [
              0.1111111111111111,
              "#46039f"
             ],
             [
              0.2222222222222222,
              "#7201a8"
             ],
             [
              0.3333333333333333,
              "#9c179e"
             ],
             [
              0.4444444444444444,
              "#bd3786"
             ],
             [
              0.5555555555555556,
              "#d8576b"
             ],
             [
              0.6666666666666666,
              "#ed7953"
             ],
             [
              0.7777777777777778,
              "#fb9f3a"
             ],
             [
              0.8888888888888888,
              "#fdca26"
             ],
             [
              1,
              "#f0f921"
             ]
            ],
            "type": "surface"
           }
          ],
          "table": [
           {
            "cells": {
             "fill": {
              "color": "#EBF0F8"
             },
             "line": {
              "color": "white"
             }
            },
            "header": {
             "fill": {
              "color": "#C8D4E3"
             },
             "line": {
              "color": "white"
             }
            },
            "type": "table"
           }
          ]
         },
         "layout": {
          "annotationdefaults": {
           "arrowcolor": "#2a3f5f",
           "arrowhead": 0,
           "arrowwidth": 1
          },
          "autotypenumbers": "strict",
          "coloraxis": {
           "colorbar": {
            "outlinewidth": 0,
            "ticks": ""
           }
          },
          "colorscale": {
           "diverging": [
            [
             0,
             "#8e0152"
            ],
            [
             0.1,
             "#c51b7d"
            ],
            [
             0.2,
             "#de77ae"
            ],
            [
             0.3,
             "#f1b6da"
            ],
            [
             0.4,
             "#fde0ef"
            ],
            [
             0.5,
             "#f7f7f7"
            ],
            [
             0.6,
             "#e6f5d0"
            ],
            [
             0.7,
             "#b8e186"
            ],
            [
             0.8,
             "#7fbc41"
            ],
            [
             0.9,
             "#4d9221"
            ],
            [
             1,
             "#276419"
            ]
           ],
           "sequential": [
            [
             0,
             "#0d0887"
            ],
            [
             0.1111111111111111,
             "#46039f"
            ],
            [
             0.2222222222222222,
             "#7201a8"
            ],
            [
             0.3333333333333333,
             "#9c179e"
            ],
            [
             0.4444444444444444,
             "#bd3786"
            ],
            [
             0.5555555555555556,
             "#d8576b"
            ],
            [
             0.6666666666666666,
             "#ed7953"
            ],
            [
             0.7777777777777778,
             "#fb9f3a"
            ],
            [
             0.8888888888888888,
             "#fdca26"
            ],
            [
             1,
             "#f0f921"
            ]
           ],
           "sequentialminus": [
            [
             0,
             "#0d0887"
            ],
            [
             0.1111111111111111,
             "#46039f"
            ],
            [
             0.2222222222222222,
             "#7201a8"
            ],
            [
             0.3333333333333333,
             "#9c179e"
            ],
            [
             0.4444444444444444,
             "#bd3786"
            ],
            [
             0.5555555555555556,
             "#d8576b"
            ],
            [
             0.6666666666666666,
             "#ed7953"
            ],
            [
             0.7777777777777778,
             "#fb9f3a"
            ],
            [
             0.8888888888888888,
             "#fdca26"
            ],
            [
             1,
             "#f0f921"
            ]
           ]
          },
          "colorway": [
           "#636efa",
           "#EF553B",
           "#00cc96",
           "#ab63fa",
           "#FFA15A",
           "#19d3f3",
           "#FF6692",
           "#B6E880",
           "#FF97FF",
           "#FECB52"
          ],
          "font": {
           "color": "#2a3f5f"
          },
          "geo": {
           "bgcolor": "white",
           "lakecolor": "white",
           "landcolor": "#E5ECF6",
           "showlakes": true,
           "showland": true,
           "subunitcolor": "white"
          },
          "hoverlabel": {
           "align": "left"
          },
          "hovermode": "closest",
          "mapbox": {
           "style": "light"
          },
          "paper_bgcolor": "white",
          "plot_bgcolor": "#E5ECF6",
          "polar": {
           "angularaxis": {
            "gridcolor": "white",
            "linecolor": "white",
            "ticks": ""
           },
           "bgcolor": "#E5ECF6",
           "radialaxis": {
            "gridcolor": "white",
            "linecolor": "white",
            "ticks": ""
           }
          },
          "scene": {
           "xaxis": {
            "backgroundcolor": "#E5ECF6",
            "gridcolor": "white",
            "gridwidth": 2,
            "linecolor": "white",
            "showbackground": true,
            "ticks": "",
            "zerolinecolor": "white"
           },
           "yaxis": {
            "backgroundcolor": "#E5ECF6",
            "gridcolor": "white",
            "gridwidth": 2,
            "linecolor": "white",
            "showbackground": true,
            "ticks": "",
            "zerolinecolor": "white"
           },
           "zaxis": {
            "backgroundcolor": "#E5ECF6",
            "gridcolor": "white",
            "gridwidth": 2,
            "linecolor": "white",
            "showbackground": true,
            "ticks": "",
            "zerolinecolor": "white"
           }
          },
          "shapedefaults": {
           "line": {
            "color": "#2a3f5f"
           }
          },
          "ternary": {
           "aaxis": {
            "gridcolor": "white",
            "linecolor": "white",
            "ticks": ""
           },
           "baxis": {
            "gridcolor": "white",
            "linecolor": "white",
            "ticks": ""
           },
           "bgcolor": "#E5ECF6",
           "caxis": {
            "gridcolor": "white",
            "linecolor": "white",
            "ticks": ""
           }
          },
          "title": {
           "x": 0.05
          },
          "xaxis": {
           "automargin": true,
           "gridcolor": "white",
           "linecolor": "white",
           "ticks": "",
           "title": {
            "standoff": 15
           },
           "zerolinecolor": "white",
           "zerolinewidth": 2
          },
          "yaxis": {
           "automargin": true,
           "gridcolor": "white",
           "linecolor": "white",
           "ticks": "",
           "title": {
            "standoff": 15
           },
           "zerolinecolor": "white",
           "zerolinewidth": 2
          }
         }
        },
        "title": {
         "font": {
          "color": "#4D5663"
         }
        },
        "xaxis": {
         "gridcolor": "#E1E5ED",
         "showgrid": true,
         "tickfont": {
          "color": "#4D5663"
         },
         "title": {
          "font": {
           "color": "#4D5663"
          },
          "text": ""
         },
         "zerolinecolor": "#E1E5ED"
        },
        "yaxis": {
         "gridcolor": "#E1E5ED",
         "showgrid": true,
         "tickfont": {
          "color": "#4D5663"
         },
         "title": {
          "font": {
           "color": "#4D5663"
          },
          "text": ""
         },
         "zerolinecolor": "#E1E5ED"
        }
       }
      },
      "text/html": [
       "<div>                            <div id=\"1db0d540-539d-4114-80d2-56c64a7c136c\" class=\"plotly-graph-div\" style=\"height:525px; width:100%;\"></div>            <script type=\"text/javascript\">                require([\"plotly\"], function(Plotly) {                    window.PLOTLYENV=window.PLOTLYENV || {};\n",
       "                    window.PLOTLYENV.BASE_URL='https://plot.ly';                                    if (document.getElementById(\"1db0d540-539d-4114-80d2-56c64a7c136c\")) {                    Plotly.newPlot(                        \"1db0d540-539d-4114-80d2-56c64a7c136c\",                        [{\"boxpoints\": false, \"line\": {\"width\": 1.3}, \"marker\": {\"color\": \"rgba(255, 153, 51, 1.0)\"}, \"name\": \"A\", \"orientation\": \"v\", \"type\": \"box\", \"y\": [-1.6437536111521518, 0.6236334115580212, 0.3632305334696795, 0.7803939112591669, 0.7742854821151604, -1.0391624009931515, 1.0889561004772061, -0.8820807905725819, -0.09884950690901928, -2.5490967634952577, -1.4465866453633747, -0.4296122350300794, 0.9907776802326949, 2.2655549907972725, 1.1436740283221893, 0.33666342394404386, 0.08937447215462413, -1.046283324201508, -0.3732597314122444, 1.4268298589473511, 0.8619658253130911, -1.5487963505620657, 1.6661593485730637, 0.7491924544143039, 0.621561413774492, 0.2915885975878172, 2.0385417913239405, 1.4244902846641307, -2.159052691440464, 0.5423476711114913, -1.6789323696099687, -0.5446205803784033, 0.387883477755812, -0.22903596434654588, -1.6505967844835412, -0.32881281216744135, 0.6779154927169985, 1.3681067471795663, 0.26225857285756615, -1.9011589892879166, 1.1409349082330473, -0.9589009714325152, 0.03238371011666432, -0.10655362520754084, 0.05927441822569643, 0.42049964960882447, 1.329575920257925, 1.285081393630453, 0.36005982323576674, 0.6358536168798995, 0.2025560884588064, 0.10886754236829017, 0.4269229835904177, 0.14374785684194905, -0.020302072847358597, -0.4560210194505382, 1.8347967740322737, -0.5006575216944982, 1.6792441205485138, 0.44958872515811443, 0.7598644337110251, -1.326566371218351, -1.111550193856778, 1.2756505190831742, 0.7823229849163477, -1.1681639647040756, 0.5987424260829366, 1.4530772148308835, -0.1540334211090501, -0.6605279285668003, -0.5120412364212491, 0.49300018525610345, -1.7204737222447415, -0.13851095685665482, -0.3588646633355994, -0.672204763993229, -0.14758595118924844, -0.7408629549882537, -1.2913725572359855, 1.5473308090202944, 1.318762193807283, 0.259797984036728, -0.40385400584752457, -0.05074138338280163, -0.5739011980296671, 0.43687851240248043, 1.005132152855596, 0.15754796130132306, 0.06280552804167883, -0.28111370074712844, 0.14489460641954385, 0.5492176924141802, -2.1359048816395925, -0.2445338170684625, 0.38474457301952225, 0.014189266045035662, 2.148224956400063, -0.9306543355294326, 1.4984469196272776, -0.23426698205439314]}, {\"boxpoints\": false, \"line\": {\"width\": 1.3}, \"marker\": {\"color\": \"rgba(55, 128, 191, 1.0)\"}, \"name\": \"B\", \"orientation\": \"v\", \"type\": \"box\", \"y\": [0.1997120436245693, 0.4014825437710733, -0.12801667220114157, 0.8107491846132913, 2.537350078887453, -0.9788869603880892, -1.3378194669617782, -0.23426486866532062, 0.8757742912539805, -2.0227454095445996, -0.017483907928513998, -0.8504064065218876, 0.8995122342064306, -3.1965038729005197, -0.04595877243296813, 1.565774686594166, 0.27195711823104024, 2.634779913469022, -0.6128501112350614, -0.9381204025498604, 2.2254029657148604, 0.6617734913093654, 0.1729274366607718, 0.6373609822877407, 0.8180905913547657, 0.6994384744369971, -1.0575377803413366, 0.22628233151882693, 2.329320119524522, -1.112061440235663, 0.2515419041896052, -0.2696718165056928, -0.700689498410336, 1.2123048002103898, -0.9600121886012616, -0.22177492689954934, 0.8970292263888108, 1.9660366494708446, 1.2700402043716204, -1.3259086935966156, -0.1092438311787329, -1.3838336167537948, 1.309337408044333, 0.7369189504715908, 0.9793750111708072, 0.8386959382263741, -2.6014199515774523, -1.9395491169488337, -0.24462832833871673, -0.012947003675194895, -0.9565473591206575, 1.5222970935820264, 1.1786194213689853, -0.3165252186143081, 0.5985585830972404, 1.8747596870918923, 0.2419895523466944, -0.13521215456938623, -0.9040822120120701, -1.0667699555127341, 0.32824617656830496, -0.6588345803353914, 1.0699286027722748, -0.13033161196575843, 0.9141706936213561, 1.0637960589927955, -0.10995148242640611, -1.0457235356110008, 0.027499397592431904, -0.8941576216741033, -0.9020235485999063, 0.09023310607670769, 1.8798418811465476, -2.0013537041552185, 0.5032533708041967, -0.2601989552156913, -0.6770761470398742, -0.3487762448643428, 0.3153186836920095, -0.5414590270345206, 0.28405741070812984, -0.07609106182259144, 0.11656621405857027, 0.18821641130543096, -2.2009179559698975, 1.0178362295224403, 0.5121863442190329, 0.6981423101951505, -1.6899453376912257, 0.7222069010847146, -1.3348502683292458, 0.004150585252992694, 0.6635657982770735, -0.5646265666014189, 0.12493662861316242, -0.6843670840702347, -0.13592666505323378, 0.18138101579973953, 0.5838414942921941, 1.1556173562342535]}, {\"boxpoints\": false, \"line\": {\"width\": 1.3}, \"marker\": {\"color\": \"rgba(50, 171, 96, 1.0)\"}, \"name\": \"C\", \"orientation\": \"v\", \"type\": \"box\", \"y\": [-0.7635475220585797, 0.7275465613950386, 1.2106730592302932, -0.26808880557947223, 0.6113539822345423, -1.214750884034707, 0.0948462303068252, -1.195632383328205, 0.4445681897608045, 0.00232091623376802, 0.723901448264587, -0.713979215671458, 1.3280234720817723, -0.39311110566524465, -0.16345140137243752, 1.3384534805882329, 1.1001315909236695, 0.21218038486150026, 0.8779623997729757, 0.02803609539212363, 0.7929511094793856, 0.06862649748601243, -1.018803700802844, -0.26509337320595466, -0.0889931535431639, 2.1049720474640337, -1.0886218022894911, 0.19200994679222705, -0.3861122196369465, -1.5227878826885317, -0.5120322669400799, -1.054211308029935, 0.3571894984423901, 0.5193026868821258, 1.4232777799075593, 0.3092638505419972, -0.4547563662144429, -0.67976756754685, 0.15813432084671297, 1.1981774787797457, 0.2990881713852884, 0.9232913729290833, 1.1110736506500258, -0.5317450889314217, 1.252034848940193, -0.5747947031124858, -1.0802543135391671, 0.21595513424871368, 0.4814244562208135, -0.8268567287355622, -0.7561373536785448, -0.7306924966238972, 1.1947957263879965, 0.2165257162846546, 0.3396237334304019, -0.5576551232730913, 0.2559146575946232, 0.857038237618503, 0.6481140692381244, -0.301654112349425, -0.6565900409778459, -0.40136202638992563, 1.079027086193721, -1.4654074113328504, 0.22806414173457362, -0.12046575105851924, 0.6861665880060672, 1.219739091463611, -0.43143287658116874, -0.19185607873873778, -0.11070832859732356, -0.4703477554472593, 1.2167300209804561, -1.027506202862617, -1.6801079385214954, -1.4562809624135469, 0.23396962506006988, -1.3463996276459578, -0.09149518233738907, 1.9268597391661029, -1.06932101547924, 1.204153751265953, -1.4495055769352365, 0.37317334355852666, 1.0450315678905135, 0.9062777721000029, -0.3006642175307795, 0.3975275531144573, 0.635836243496414, -0.4754197287827103, 0.7833751015051399, -0.04243868656607411, 0.3486887706157529, 2.5181293123660424, 1.9490253243603444, 0.6025809541825847, 0.05800266255571208, 0.46799447384150183, -0.18901297174740078, -1.1303547226766595]}, {\"boxpoints\": false, \"line\": {\"width\": 1.3}, \"marker\": {\"color\": \"rgba(128, 0, 128, 1.0)\"}, \"name\": \"D\", \"orientation\": \"v\", \"type\": \"box\", \"y\": [-0.13245030450514364, 1.3090654496831373, 0.5941034874725996, 1.3384135152866654, -1.0530997292776216, 1.9371791790234008, -0.9594274779282423, 0.3078547729629255, 1.7441823466769475, -0.09951392913240051, 1.4355555549411385, 0.3710727965237172, 0.03374975359859986, -0.033479064173235706, -1.3665450741870664, 0.22152886857406304, -0.5674491542831128, 0.4587153411471475, 0.4248257984021767, -0.6235717369069563, 1.710146658764891, 1.4098121814995066, -1.1274754409717573, 0.6957888501265138, -1.1059917553459906, 0.21130046830671764, -0.39564111141040675, -0.5798788175891483, -1.4251703850714619, -0.3129891502561077, 0.4721896855766305, 1.2806911306780764, -0.5343589299964965, -0.4888466988329627, -0.201050352276019, 0.4015844429868238, 1.1648370299558586, -0.6744640514699624, 1.4175678671847494, -0.42929632456118305, -0.8394976099692066, -0.49802703221661765, 0.38183772806856087, -0.0032499998252741727, 1.4543067636878553, 0.3910702976593195, 0.003870755619403408, 1.2896667549679, 1.224421916039707, 1.3344355771053826, 1.5250482470987206, -1.9657127108424082, 0.5590658834601998, -1.1976217219467151, -0.0488212368535531, -0.0906397146441149, -1.0654119498341241, -1.8808024512027708, -1.1163775860251197, -0.049107991126143856, -0.707384583106294, -0.7637002961689972, -0.8606711320580065, 0.17817147440272832, -0.9446586767242249, -0.3631999980389838, 1.3242270428031158, -0.7980788101588576, 0.19890789884205137, 0.5263478230076676, 0.05618074411174819, 1.1190310472224207, 1.1549808215813724, 0.10379562374333628, -0.397758529607837, -0.35789023929608244, 2.966904904253891, -0.4274498902723708, -1.1872459785099456, -1.2472082324945206, 1.8599860272482274, 0.6024133519643031, 0.25654030035368325, -1.8243553827834675, 0.937221973717681, -1.752472730183518, -0.45837441861259437, -0.4090614683198603, 1.003333450424868, 0.1122618715732058, -1.3235108512525702, 1.127613144563296, 0.045354560188719195, 0.7218142655403719, 0.4003629839392785, -0.3052701998445313, 1.3713091367297658, -2.5332123573589964, 0.9564787407896036, -0.21761251009317298]}],                        {\"legend\": {\"bgcolor\": \"#F5F6F9\", \"font\": {\"color\": \"#4D5663\"}}, \"paper_bgcolor\": \"#F5F6F9\", \"plot_bgcolor\": \"#F5F6F9\", \"template\": {\"data\": {\"bar\": [{\"error_x\": {\"color\": \"#2a3f5f\"}, \"error_y\": {\"color\": \"#2a3f5f\"}, \"marker\": {\"line\": {\"color\": \"#E5ECF6\", \"width\": 0.5}}, \"type\": \"bar\"}], \"barpolar\": [{\"marker\": {\"line\": {\"color\": \"#E5ECF6\", \"width\": 0.5}}, \"type\": \"barpolar\"}], \"carpet\": [{\"aaxis\": {\"endlinecolor\": \"#2a3f5f\", \"gridcolor\": \"white\", \"linecolor\": \"white\", \"minorgridcolor\": \"white\", \"startlinecolor\": \"#2a3f5f\"}, \"baxis\": {\"endlinecolor\": \"#2a3f5f\", \"gridcolor\": \"white\", \"linecolor\": \"white\", \"minorgridcolor\": \"white\", \"startlinecolor\": \"#2a3f5f\"}, \"type\": \"carpet\"}], \"choropleth\": [{\"colorbar\": {\"outlinewidth\": 0, \"ticks\": \"\"}, \"type\": \"choropleth\"}], \"contour\": [{\"colorbar\": {\"outlinewidth\": 0, \"ticks\": \"\"}, \"colorscale\": [[0.0, \"#0d0887\"], [0.1111111111111111, \"#46039f\"], [0.2222222222222222, \"#7201a8\"], [0.3333333333333333, \"#9c179e\"], [0.4444444444444444, \"#bd3786\"], [0.5555555555555556, \"#d8576b\"], [0.6666666666666666, \"#ed7953\"], [0.7777777777777778, \"#fb9f3a\"], [0.8888888888888888, \"#fdca26\"], [1.0, \"#f0f921\"]], \"type\": \"contour\"}], \"contourcarpet\": [{\"colorbar\": {\"outlinewidth\": 0, \"ticks\": \"\"}, \"type\": \"contourcarpet\"}], \"heatmap\": [{\"colorbar\": {\"outlinewidth\": 0, \"ticks\": \"\"}, \"colorscale\": [[0.0, \"#0d0887\"], [0.1111111111111111, \"#46039f\"], [0.2222222222222222, \"#7201a8\"], [0.3333333333333333, \"#9c179e\"], [0.4444444444444444, \"#bd3786\"], [0.5555555555555556, \"#d8576b\"], [0.6666666666666666, \"#ed7953\"], [0.7777777777777778, \"#fb9f3a\"], [0.8888888888888888, \"#fdca26\"], [1.0, \"#f0f921\"]], \"type\": \"heatmap\"}], \"heatmapgl\": [{\"colorbar\": {\"outlinewidth\": 0, \"ticks\": \"\"}, \"colorscale\": [[0.0, \"#0d0887\"], [0.1111111111111111, \"#46039f\"], [0.2222222222222222, \"#7201a8\"], [0.3333333333333333, \"#9c179e\"], [0.4444444444444444, \"#bd3786\"], [0.5555555555555556, \"#d8576b\"], [0.6666666666666666, \"#ed7953\"], [0.7777777777777778, \"#fb9f3a\"], [0.8888888888888888, \"#fdca26\"], [1.0, \"#f0f921\"]], \"type\": \"heatmapgl\"}], \"histogram\": [{\"marker\": {\"colorbar\": {\"outlinewidth\": 0, \"ticks\": \"\"}}, \"type\": \"histogram\"}], \"histogram2d\": [{\"colorbar\": {\"outlinewidth\": 0, \"ticks\": \"\"}, \"colorscale\": [[0.0, \"#0d0887\"], [0.1111111111111111, \"#46039f\"], [0.2222222222222222, \"#7201a8\"], [0.3333333333333333, \"#9c179e\"], [0.4444444444444444, \"#bd3786\"], [0.5555555555555556, \"#d8576b\"], [0.6666666666666666, \"#ed7953\"], [0.7777777777777778, \"#fb9f3a\"], [0.8888888888888888, \"#fdca26\"], [1.0, \"#f0f921\"]], \"type\": \"histogram2d\"}], \"histogram2dcontour\": [{\"colorbar\": {\"outlinewidth\": 0, \"ticks\": \"\"}, \"colorscale\": [[0.0, \"#0d0887\"], [0.1111111111111111, \"#46039f\"], [0.2222222222222222, \"#7201a8\"], [0.3333333333333333, \"#9c179e\"], [0.4444444444444444, \"#bd3786\"], [0.5555555555555556, \"#d8576b\"], [0.6666666666666666, \"#ed7953\"], [0.7777777777777778, \"#fb9f3a\"], [0.8888888888888888, \"#fdca26\"], [1.0, \"#f0f921\"]], \"type\": \"histogram2dcontour\"}], \"mesh3d\": [{\"colorbar\": {\"outlinewidth\": 0, \"ticks\": \"\"}, \"type\": \"mesh3d\"}], \"parcoords\": [{\"line\": {\"colorbar\": {\"outlinewidth\": 0, \"ticks\": \"\"}}, \"type\": \"parcoords\"}], \"pie\": [{\"automargin\": true, \"type\": \"pie\"}], \"scatter\": [{\"marker\": {\"colorbar\": {\"outlinewidth\": 0, \"ticks\": \"\"}}, \"type\": \"scatter\"}], \"scatter3d\": [{\"line\": {\"colorbar\": {\"outlinewidth\": 0, \"ticks\": \"\"}}, \"marker\": {\"colorbar\": {\"outlinewidth\": 0, \"ticks\": \"\"}}, \"type\": \"scatter3d\"}], \"scattercarpet\": [{\"marker\": {\"colorbar\": {\"outlinewidth\": 0, \"ticks\": \"\"}}, \"type\": \"scattercarpet\"}], \"scattergeo\": [{\"marker\": {\"colorbar\": {\"outlinewidth\": 0, \"ticks\": \"\"}}, \"type\": \"scattergeo\"}], \"scattergl\": [{\"marker\": {\"colorbar\": {\"outlinewidth\": 0, \"ticks\": \"\"}}, \"type\": \"scattergl\"}], \"scattermapbox\": [{\"marker\": {\"colorbar\": {\"outlinewidth\": 0, \"ticks\": \"\"}}, \"type\": \"scattermapbox\"}], \"scatterpolar\": [{\"marker\": {\"colorbar\": {\"outlinewidth\": 0, \"ticks\": \"\"}}, \"type\": \"scatterpolar\"}], \"scatterpolargl\": [{\"marker\": {\"colorbar\": {\"outlinewidth\": 0, \"ticks\": \"\"}}, \"type\": \"scatterpolargl\"}], \"scatterternary\": [{\"marker\": {\"colorbar\": {\"outlinewidth\": 0, \"ticks\": \"\"}}, \"type\": \"scatterternary\"}], \"surface\": [{\"colorbar\": {\"outlinewidth\": 0, \"ticks\": \"\"}, \"colorscale\": [[0.0, \"#0d0887\"], [0.1111111111111111, \"#46039f\"], [0.2222222222222222, \"#7201a8\"], [0.3333333333333333, \"#9c179e\"], [0.4444444444444444, \"#bd3786\"], [0.5555555555555556, \"#d8576b\"], [0.6666666666666666, \"#ed7953\"], [0.7777777777777778, \"#fb9f3a\"], [0.8888888888888888, \"#fdca26\"], [1.0, \"#f0f921\"]], \"type\": \"surface\"}], \"table\": [{\"cells\": {\"fill\": {\"color\": \"#EBF0F8\"}, \"line\": {\"color\": \"white\"}}, \"header\": {\"fill\": {\"color\": \"#C8D4E3\"}, \"line\": {\"color\": \"white\"}}, \"type\": \"table\"}]}, \"layout\": {\"annotationdefaults\": {\"arrowcolor\": \"#2a3f5f\", \"arrowhead\": 0, \"arrowwidth\": 1}, \"autotypenumbers\": \"strict\", \"coloraxis\": {\"colorbar\": {\"outlinewidth\": 0, \"ticks\": \"\"}}, \"colorscale\": {\"diverging\": [[0, \"#8e0152\"], [0.1, \"#c51b7d\"], [0.2, \"#de77ae\"], [0.3, \"#f1b6da\"], [0.4, \"#fde0ef\"], [0.5, \"#f7f7f7\"], [0.6, \"#e6f5d0\"], [0.7, \"#b8e186\"], [0.8, \"#7fbc41\"], [0.9, \"#4d9221\"], [1, \"#276419\"]], \"sequential\": [[0.0, \"#0d0887\"], [0.1111111111111111, \"#46039f\"], [0.2222222222222222, \"#7201a8\"], [0.3333333333333333, \"#9c179e\"], [0.4444444444444444, \"#bd3786\"], [0.5555555555555556, \"#d8576b\"], [0.6666666666666666, \"#ed7953\"], [0.7777777777777778, \"#fb9f3a\"], [0.8888888888888888, \"#fdca26\"], [1.0, \"#f0f921\"]], \"sequentialminus\": [[0.0, \"#0d0887\"], [0.1111111111111111, \"#46039f\"], [0.2222222222222222, \"#7201a8\"], [0.3333333333333333, \"#9c179e\"], [0.4444444444444444, \"#bd3786\"], [0.5555555555555556, \"#d8576b\"], [0.6666666666666666, \"#ed7953\"], [0.7777777777777778, \"#fb9f3a\"], [0.8888888888888888, \"#fdca26\"], [1.0, \"#f0f921\"]]}, \"colorway\": [\"#636efa\", \"#EF553B\", \"#00cc96\", \"#ab63fa\", \"#FFA15A\", \"#19d3f3\", \"#FF6692\", \"#B6E880\", \"#FF97FF\", \"#FECB52\"], \"font\": {\"color\": \"#2a3f5f\"}, \"geo\": {\"bgcolor\": \"white\", \"lakecolor\": \"white\", \"landcolor\": \"#E5ECF6\", \"showlakes\": true, \"showland\": true, \"subunitcolor\": \"white\"}, \"hoverlabel\": {\"align\": \"left\"}, \"hovermode\": \"closest\", \"mapbox\": {\"style\": \"light\"}, \"paper_bgcolor\": \"white\", \"plot_bgcolor\": \"#E5ECF6\", \"polar\": {\"angularaxis\": {\"gridcolor\": \"white\", \"linecolor\": \"white\", \"ticks\": \"\"}, \"bgcolor\": \"#E5ECF6\", \"radialaxis\": {\"gridcolor\": \"white\", \"linecolor\": \"white\", \"ticks\": \"\"}}, \"scene\": {\"xaxis\": {\"backgroundcolor\": \"#E5ECF6\", \"gridcolor\": \"white\", \"gridwidth\": 2, \"linecolor\": \"white\", \"showbackground\": true, \"ticks\": \"\", \"zerolinecolor\": \"white\"}, \"yaxis\": {\"backgroundcolor\": \"#E5ECF6\", \"gridcolor\": \"white\", \"gridwidth\": 2, \"linecolor\": \"white\", \"showbackground\": true, \"ticks\": \"\", \"zerolinecolor\": \"white\"}, \"zaxis\": {\"backgroundcolor\": \"#E5ECF6\", \"gridcolor\": \"white\", \"gridwidth\": 2, \"linecolor\": \"white\", \"showbackground\": true, \"ticks\": \"\", \"zerolinecolor\": \"white\"}}, \"shapedefaults\": {\"line\": {\"color\": \"#2a3f5f\"}}, \"ternary\": {\"aaxis\": {\"gridcolor\": \"white\", \"linecolor\": \"white\", \"ticks\": \"\"}, \"baxis\": {\"gridcolor\": \"white\", \"linecolor\": \"white\", \"ticks\": \"\"}, \"bgcolor\": \"#E5ECF6\", \"caxis\": {\"gridcolor\": \"white\", \"linecolor\": \"white\", \"ticks\": \"\"}}, \"title\": {\"x\": 0.05}, \"xaxis\": {\"automargin\": true, \"gridcolor\": \"white\", \"linecolor\": \"white\", \"ticks\": \"\", \"title\": {\"standoff\": 15}, \"zerolinecolor\": \"white\", \"zerolinewidth\": 2}, \"yaxis\": {\"automargin\": true, \"gridcolor\": \"white\", \"linecolor\": \"white\", \"ticks\": \"\", \"title\": {\"standoff\": 15}, \"zerolinecolor\": \"white\", \"zerolinewidth\": 2}}}, \"title\": {\"font\": {\"color\": \"#4D5663\"}}, \"xaxis\": {\"gridcolor\": \"#E1E5ED\", \"showgrid\": true, \"tickfont\": {\"color\": \"#4D5663\"}, \"title\": {\"font\": {\"color\": \"#4D5663\"}, \"text\": \"\"}, \"zerolinecolor\": \"#E1E5ED\"}, \"yaxis\": {\"gridcolor\": \"#E1E5ED\", \"showgrid\": true, \"tickfont\": {\"color\": \"#4D5663\"}, \"title\": {\"font\": {\"color\": \"#4D5663\"}, \"text\": \"\"}, \"zerolinecolor\": \"#E1E5ED\"}},                        {\"showLink\": true, \"linkText\": \"Export to plot.ly\", \"plotlyServerURL\": \"https://plot.ly\", \"responsive\": true}                    ).then(function(){\n",
       "                            \n",
       "var gd = document.getElementById('1db0d540-539d-4114-80d2-56c64a7c136c');\n",
       "var x = new MutationObserver(function (mutations, observer) {{\n",
       "        var display = window.getComputedStyle(gd).display;\n",
       "        if (!display || display === 'none') {{\n",
       "            console.log([gd, 'removed!']);\n",
       "            Plotly.purge(gd);\n",
       "            observer.disconnect();\n",
       "        }}\n",
       "}});\n",
       "\n",
       "// Listen for the removal of the full notebook cells\n",
       "var notebookContainer = gd.closest('#notebook-container');\n",
       "if (notebookContainer) {{\n",
       "    x.observe(notebookContainer, {childList: true});\n",
       "}}\n",
       "\n",
       "// Listen for the clearing of the current output cell\n",
       "var outputEl = gd.closest('.output');\n",
       "if (outputEl) {{\n",
       "    x.observe(outputEl, {childList: true});\n",
       "}}\n",
       "\n",
       "                        })                };                });            </script>        </div>"
      ]
     },
     "metadata": {},
     "output_type": "display_data"
    }
   ],
   "source": [
    "df.iplot(kind=\"box\")"
   ]
  },
  {
   "cell_type": "code",
   "execution_count": 17,
   "metadata": {},
   "outputs": [
    {
     "name": "stderr",
     "output_type": "stream",
     "text": [
      "C:\\ProgramData\\Anaconda3\\lib\\site-packages\\cufflinks\\plotlytools.py:849: FutureWarning:\n",
      "\n",
      "The pandas.np module is deprecated and will be removed from pandas in a future version. Import numpy directly instead\n",
      "\n",
      "C:\\ProgramData\\Anaconda3\\lib\\site-packages\\cufflinks\\plotlytools.py:850: FutureWarning:\n",
      "\n",
      "The pandas.np module is deprecated and will be removed from pandas in a future version. Import numpy directly instead\n",
      "\n"
     ]
    },
    {
     "data": {
      "application/vnd.plotly.v1+json": {
       "config": {
        "linkText": "Export to plot.ly",
        "plotlyServerURL": "https://plot.ly",
        "showLink": true
       },
       "data": [
        {
         "line": {
          "color": "rgba(255, 153, 51, 1.0)",
          "dash": "solid",
          "shape": "linear",
          "width": 1.3
         },
         "mode": "lines",
         "name": "A",
         "text": "",
         "type": "scatter",
         "x": [
          0,
          1,
          2,
          3,
          4,
          5,
          6,
          7,
          8,
          9,
          10,
          11,
          12,
          13,
          14,
          15,
          16,
          17,
          18,
          19,
          20,
          21,
          22,
          23,
          24,
          25,
          26,
          27,
          28,
          29,
          30,
          31,
          32,
          33,
          34,
          35,
          36,
          37,
          38,
          39,
          40,
          41,
          42,
          43,
          44,
          45,
          46,
          47,
          48,
          49,
          50,
          51,
          52,
          53,
          54,
          55,
          56,
          57,
          58,
          59,
          60,
          61,
          62,
          63,
          64,
          65,
          66,
          67,
          68,
          69,
          70,
          71,
          72,
          73,
          74,
          75,
          76,
          77,
          78,
          79,
          80,
          81,
          82,
          83,
          84,
          85,
          86,
          87,
          88,
          89,
          90,
          91,
          92,
          93,
          94,
          95,
          96,
          97,
          98,
          99
         ],
         "y": [
          -1.6437536111521518,
          0.6236334115580212,
          0.3632305334696795,
          0.7803939112591669,
          0.7742854821151604,
          -1.0391624009931515,
          1.0889561004772061,
          -0.8820807905725819,
          -0.09884950690901928,
          -2.5490967634952577,
          -1.4465866453633747,
          -0.4296122350300794,
          0.9907776802326949,
          2.2655549907972725,
          1.1436740283221893,
          0.33666342394404386,
          0.08937447215462413,
          -1.046283324201508,
          -0.3732597314122444,
          1.4268298589473511,
          0.8619658253130911,
          -1.5487963505620657,
          1.6661593485730637,
          0.7491924544143039,
          0.621561413774492,
          0.2915885975878172,
          2.0385417913239405,
          1.4244902846641307,
          -2.159052691440464,
          0.5423476711114913,
          -1.6789323696099687,
          -0.5446205803784033,
          0.387883477755812,
          -0.22903596434654588,
          -1.6505967844835412,
          -0.32881281216744135,
          0.6779154927169985,
          1.3681067471795663,
          0.26225857285756615,
          -1.9011589892879166,
          1.1409349082330473,
          -0.9589009714325152,
          0.03238371011666432,
          -0.10655362520754084,
          0.05927441822569643,
          0.42049964960882447,
          1.329575920257925,
          1.285081393630453,
          0.36005982323576674,
          0.6358536168798995,
          0.2025560884588064,
          0.10886754236829017,
          0.4269229835904177,
          0.14374785684194905,
          -0.020302072847358597,
          -0.4560210194505382,
          1.8347967740322737,
          -0.5006575216944982,
          1.6792441205485138,
          0.44958872515811443,
          0.7598644337110251,
          -1.326566371218351,
          -1.111550193856778,
          1.2756505190831742,
          0.7823229849163477,
          -1.1681639647040756,
          0.5987424260829366,
          1.4530772148308835,
          -0.1540334211090501,
          -0.6605279285668003,
          -0.5120412364212491,
          0.49300018525610345,
          -1.7204737222447415,
          -0.13851095685665482,
          -0.3588646633355994,
          -0.672204763993229,
          -0.14758595118924844,
          -0.7408629549882537,
          -1.2913725572359855,
          1.5473308090202944,
          1.318762193807283,
          0.259797984036728,
          -0.40385400584752457,
          -0.05074138338280163,
          -0.5739011980296671,
          0.43687851240248043,
          1.005132152855596,
          0.15754796130132306,
          0.06280552804167883,
          -0.28111370074712844,
          0.14489460641954385,
          0.5492176924141802,
          -2.1359048816395925,
          -0.2445338170684625,
          0.38474457301952225,
          0.014189266045035662,
          2.148224956400063,
          -0.9306543355294326,
          1.4984469196272776,
          -0.23426698205439314
         ]
        },
        {
         "line": {
          "color": "rgba(55, 128, 191, 1.0)",
          "dash": "solid",
          "shape": "linear",
          "width": 1.3
         },
         "mode": "lines",
         "name": "B",
         "text": "",
         "type": "scatter",
         "x": [
          0,
          1,
          2,
          3,
          4,
          5,
          6,
          7,
          8,
          9,
          10,
          11,
          12,
          13,
          14,
          15,
          16,
          17,
          18,
          19,
          20,
          21,
          22,
          23,
          24,
          25,
          26,
          27,
          28,
          29,
          30,
          31,
          32,
          33,
          34,
          35,
          36,
          37,
          38,
          39,
          40,
          41,
          42,
          43,
          44,
          45,
          46,
          47,
          48,
          49,
          50,
          51,
          52,
          53,
          54,
          55,
          56,
          57,
          58,
          59,
          60,
          61,
          62,
          63,
          64,
          65,
          66,
          67,
          68,
          69,
          70,
          71,
          72,
          73,
          74,
          75,
          76,
          77,
          78,
          79,
          80,
          81,
          82,
          83,
          84,
          85,
          86,
          87,
          88,
          89,
          90,
          91,
          92,
          93,
          94,
          95,
          96,
          97,
          98,
          99
         ],
         "y": [
          0.1997120436245693,
          0.4014825437710733,
          -0.12801667220114157,
          0.8107491846132913,
          2.537350078887453,
          -0.9788869603880892,
          -1.3378194669617782,
          -0.23426486866532062,
          0.8757742912539805,
          -2.0227454095445996,
          -0.017483907928513998,
          -0.8504064065218876,
          0.8995122342064306,
          -3.1965038729005197,
          -0.04595877243296813,
          1.565774686594166,
          0.27195711823104024,
          2.634779913469022,
          -0.6128501112350614,
          -0.9381204025498604,
          2.2254029657148604,
          0.6617734913093654,
          0.1729274366607718,
          0.6373609822877407,
          0.8180905913547657,
          0.6994384744369971,
          -1.0575377803413366,
          0.22628233151882693,
          2.329320119524522,
          -1.112061440235663,
          0.2515419041896052,
          -0.2696718165056928,
          -0.700689498410336,
          1.2123048002103898,
          -0.9600121886012616,
          -0.22177492689954934,
          0.8970292263888108,
          1.9660366494708446,
          1.2700402043716204,
          -1.3259086935966156,
          -0.1092438311787329,
          -1.3838336167537948,
          1.309337408044333,
          0.7369189504715908,
          0.9793750111708072,
          0.8386959382263741,
          -2.6014199515774523,
          -1.9395491169488337,
          -0.24462832833871673,
          -0.012947003675194895,
          -0.9565473591206575,
          1.5222970935820264,
          1.1786194213689853,
          -0.3165252186143081,
          0.5985585830972404,
          1.8747596870918923,
          0.2419895523466944,
          -0.13521215456938623,
          -0.9040822120120701,
          -1.0667699555127341,
          0.32824617656830496,
          -0.6588345803353914,
          1.0699286027722748,
          -0.13033161196575843,
          0.9141706936213561,
          1.0637960589927955,
          -0.10995148242640611,
          -1.0457235356110008,
          0.027499397592431904,
          -0.8941576216741033,
          -0.9020235485999063,
          0.09023310607670769,
          1.8798418811465476,
          -2.0013537041552185,
          0.5032533708041967,
          -0.2601989552156913,
          -0.6770761470398742,
          -0.3487762448643428,
          0.3153186836920095,
          -0.5414590270345206,
          0.28405741070812984,
          -0.07609106182259144,
          0.11656621405857027,
          0.18821641130543096,
          -2.2009179559698975,
          1.0178362295224403,
          0.5121863442190329,
          0.6981423101951505,
          -1.6899453376912257,
          0.7222069010847146,
          -1.3348502683292458,
          0.004150585252992694,
          0.6635657982770735,
          -0.5646265666014189,
          0.12493662861316242,
          -0.6843670840702347,
          -0.13592666505323378,
          0.18138101579973953,
          0.5838414942921941,
          1.1556173562342535
         ]
        },
        {
         "connectgaps": false,
         "fill": "tozeroy",
         "line": {
          "color": "green",
          "dash": "solid",
          "shape": "linear",
          "width": 0.5
         },
         "mode": "lines",
         "name": "Spread",
         "showlegend": false,
         "type": "scatter",
         "x": [
          0,
          1,
          2,
          3,
          4,
          5,
          6,
          7,
          8,
          9,
          10,
          11,
          12,
          13,
          14,
          15,
          16,
          17,
          18,
          19,
          20,
          21,
          22,
          23,
          24,
          25,
          26,
          27,
          28,
          29,
          30,
          31,
          32,
          33,
          34,
          35,
          36,
          37,
          38,
          39,
          40,
          41,
          42,
          43,
          44,
          45,
          46,
          47,
          48,
          49,
          50,
          51,
          52,
          53,
          54,
          55,
          56,
          57,
          58,
          59,
          60,
          61,
          62,
          63,
          64,
          65,
          66,
          67,
          68,
          69,
          70,
          71,
          72,
          73,
          74,
          75,
          76,
          77,
          78,
          79,
          80,
          81,
          82,
          83,
          84,
          85,
          86,
          87,
          88,
          89,
          90,
          91,
          92,
          93,
          94,
          95,
          96,
          97,
          98,
          99
         ],
         "xaxis": "x2",
         "y": [
          "",
          0.22215086778694793,
          0.49124720567082103,
          "",
          "",
          "",
          2.4267755674389844,
          "",
          "",
          "",
          "",
          0.4207941714918082,
          0.0912654460262643,
          5.462058863697792,
          1.1896328007551575,
          "",
          "",
          "",
          0.239590379822817,
          2.3649502614972118,
          "",
          "",
          1.4932319119122919,
          0.11183147212656319,
          "",
          "",
          3.0960795716652774,
          1.1982079531453038,
          "",
          1.6544091113471544,
          "",
          "",
          1.088572976166148,
          "",
          "",
          "",
          "",
          "",
          "",
          "",
          1.2501787394117803,
          0.4249326453212796,
          "",
          "",
          "",
          "",
          3.9309958718353775,
          3.2246305105792867,
          0.6046881515744835,
          0.6488006205550944,
          1.159103447579464,
          "",
          "",
          0.4602730754562572,
          "",
          "",
          1.5928072216855793,
          "",
          2.583326332560584,
          1.5163586806708484,
          0.4316182571427201,
          "",
          "",
          1.4059821310489327,
          "",
          "",
          0.7086939085093427,
          2.4988007504418843,
          "",
          0.23362969310730297,
          0.3899823121786572,
          0.40276707917939575,
          "",
          1.8628427472985636,
          "",
          "",
          0.5294901958506257,
          "",
          "",
          2.088789836054815,
          1.0347047830991531,
          0.33588904585931945,
          "",
          "",
          1.6270167579402304,
          "",
          0.49294580863656323,
          "",
          1.7527508657329045,
          "",
          1.4797448747487896,
          0.5450671071611874,
          "",
          0.32009274953295636,
          0.25980794440635985,
          0.6985563501152704,
          2.284151621453297,
          "",
          0.9146054253350835,
          ""
         ],
         "yaxis": "y2"
        },
        {
         "connectgaps": false,
         "fill": "tozeroy",
         "line": {
          "color": "red",
          "dash": "solid",
          "shape": "linear",
          "width": 0.5
         },
         "mode": "lines",
         "name": "Spread",
         "showlegend": false,
         "type": "scatter",
         "x": [
          0,
          1,
          2,
          3,
          4,
          5,
          6,
          7,
          8,
          9,
          10,
          11,
          12,
          13,
          14,
          15,
          16,
          17,
          18,
          19,
          20,
          21,
          22,
          23,
          24,
          25,
          26,
          27,
          28,
          29,
          30,
          31,
          32,
          33,
          34,
          35,
          36,
          37,
          38,
          39,
          40,
          41,
          42,
          43,
          44,
          45,
          46,
          47,
          48,
          49,
          50,
          51,
          52,
          53,
          54,
          55,
          56,
          57,
          58,
          59,
          60,
          61,
          62,
          63,
          64,
          65,
          66,
          67,
          68,
          69,
          70,
          71,
          72,
          73,
          74,
          75,
          76,
          77,
          78,
          79,
          80,
          81,
          82,
          83,
          84,
          85,
          86,
          87,
          88,
          89,
          90,
          91,
          92,
          93,
          94,
          95,
          96,
          97,
          98,
          99
         ],
         "xaxis": "x2",
         "y": [
          -1.843465654776721,
          "",
          "",
          -0.030355273354124357,
          -1.7630645967722927,
          -0.06027544060506229,
          "",
          -0.6478159219072613,
          -0.9746237981629998,
          -0.5263513539506581,
          -1.4291027374348606,
          "",
          "",
          "",
          "",
          -1.2291112626501222,
          -0.1825826460764161,
          -3.6810632376705303,
          "",
          "",
          -1.3634371404017693,
          -2.210569841871431,
          "",
          "",
          -0.19652917758027366,
          -0.40784987684917995,
          "",
          "",
          -4.488372810964986,
          "",
          -1.930474273799574,
          -0.27494876387271056,
          "",
          -1.4413407645569356,
          -0.6905845958822796,
          -0.10703788526789201,
          -0.2191137336718123,
          -0.5979299022912783,
          -1.0077816315140542,
          -0.575250295691301,
          "",
          "",
          -1.2769536979276686,
          -0.8434725756791317,
          -0.9201005929451107,
          -0.41819628861754965,
          "",
          "",
          "",
          "",
          "",
          -1.4134295512137363,
          -0.7516964377785676,
          "",
          -0.618860655944599,
          -2.3307807065424306,
          "",
          -0.36544536712511194,
          "",
          "",
          "",
          -0.6677317908829596,
          -2.1814787966290528,
          "",
          -0.1318477087050084,
          -2.231960023696871,
          "",
          "",
          -0.18153281870148202,
          "",
          "",
          "",
          -3.600315603391289,
          "",
          -0.8621180341397962,
          -0.41200580877753773,
          "",
          -0.39208671012391094,
          -1.606691240927995,
          "",
          "",
          "",
          -0.5204202199060949,
          -0.23895779468823258,
          "",
          -0.5809577171199599,
          "",
          -0.5405943488938274,
          "",
          -1.003320601831843,
          "",
          "",
          -2.799470679916666,
          "",
          "",
          "",
          "",
          -1.112035351329172,
          "",
          -1.3898843382886468
         ],
         "yaxis": "y2"
        }
       ],
       "layout": {
        "hovermode": "x",
        "legend": {
         "bgcolor": "#F5F6F9",
         "font": {
          "color": "#4D5663"
         }
        },
        "paper_bgcolor": "#F5F6F9",
        "plot_bgcolor": "#F5F6F9",
        "template": {
         "data": {
          "bar": [
           {
            "error_x": {
             "color": "#2a3f5f"
            },
            "error_y": {
             "color": "#2a3f5f"
            },
            "marker": {
             "line": {
              "color": "#E5ECF6",
              "width": 0.5
             }
            },
            "type": "bar"
           }
          ],
          "barpolar": [
           {
            "marker": {
             "line": {
              "color": "#E5ECF6",
              "width": 0.5
             }
            },
            "type": "barpolar"
           }
          ],
          "carpet": [
           {
            "aaxis": {
             "endlinecolor": "#2a3f5f",
             "gridcolor": "white",
             "linecolor": "white",
             "minorgridcolor": "white",
             "startlinecolor": "#2a3f5f"
            },
            "baxis": {
             "endlinecolor": "#2a3f5f",
             "gridcolor": "white",
             "linecolor": "white",
             "minorgridcolor": "white",
             "startlinecolor": "#2a3f5f"
            },
            "type": "carpet"
           }
          ],
          "choropleth": [
           {
            "colorbar": {
             "outlinewidth": 0,
             "ticks": ""
            },
            "type": "choropleth"
           }
          ],
          "contour": [
           {
            "colorbar": {
             "outlinewidth": 0,
             "ticks": ""
            },
            "colorscale": [
             [
              0,
              "#0d0887"
             ],
             [
              0.1111111111111111,
              "#46039f"
             ],
             [
              0.2222222222222222,
              "#7201a8"
             ],
             [
              0.3333333333333333,
              "#9c179e"
             ],
             [
              0.4444444444444444,
              "#bd3786"
             ],
             [
              0.5555555555555556,
              "#d8576b"
             ],
             [
              0.6666666666666666,
              "#ed7953"
             ],
             [
              0.7777777777777778,
              "#fb9f3a"
             ],
             [
              0.8888888888888888,
              "#fdca26"
             ],
             [
              1,
              "#f0f921"
             ]
            ],
            "type": "contour"
           }
          ],
          "contourcarpet": [
           {
            "colorbar": {
             "outlinewidth": 0,
             "ticks": ""
            },
            "type": "contourcarpet"
           }
          ],
          "heatmap": [
           {
            "colorbar": {
             "outlinewidth": 0,
             "ticks": ""
            },
            "colorscale": [
             [
              0,
              "#0d0887"
             ],
             [
              0.1111111111111111,
              "#46039f"
             ],
             [
              0.2222222222222222,
              "#7201a8"
             ],
             [
              0.3333333333333333,
              "#9c179e"
             ],
             [
              0.4444444444444444,
              "#bd3786"
             ],
             [
              0.5555555555555556,
              "#d8576b"
             ],
             [
              0.6666666666666666,
              "#ed7953"
             ],
             [
              0.7777777777777778,
              "#fb9f3a"
             ],
             [
              0.8888888888888888,
              "#fdca26"
             ],
             [
              1,
              "#f0f921"
             ]
            ],
            "type": "heatmap"
           }
          ],
          "heatmapgl": [
           {
            "colorbar": {
             "outlinewidth": 0,
             "ticks": ""
            },
            "colorscale": [
             [
              0,
              "#0d0887"
             ],
             [
              0.1111111111111111,
              "#46039f"
             ],
             [
              0.2222222222222222,
              "#7201a8"
             ],
             [
              0.3333333333333333,
              "#9c179e"
             ],
             [
              0.4444444444444444,
              "#bd3786"
             ],
             [
              0.5555555555555556,
              "#d8576b"
             ],
             [
              0.6666666666666666,
              "#ed7953"
             ],
             [
              0.7777777777777778,
              "#fb9f3a"
             ],
             [
              0.8888888888888888,
              "#fdca26"
             ],
             [
              1,
              "#f0f921"
             ]
            ],
            "type": "heatmapgl"
           }
          ],
          "histogram": [
           {
            "marker": {
             "colorbar": {
              "outlinewidth": 0,
              "ticks": ""
             }
            },
            "type": "histogram"
           }
          ],
          "histogram2d": [
           {
            "colorbar": {
             "outlinewidth": 0,
             "ticks": ""
            },
            "colorscale": [
             [
              0,
              "#0d0887"
             ],
             [
              0.1111111111111111,
              "#46039f"
             ],
             [
              0.2222222222222222,
              "#7201a8"
             ],
             [
              0.3333333333333333,
              "#9c179e"
             ],
             [
              0.4444444444444444,
              "#bd3786"
             ],
             [
              0.5555555555555556,
              "#d8576b"
             ],
             [
              0.6666666666666666,
              "#ed7953"
             ],
             [
              0.7777777777777778,
              "#fb9f3a"
             ],
             [
              0.8888888888888888,
              "#fdca26"
             ],
             [
              1,
              "#f0f921"
             ]
            ],
            "type": "histogram2d"
           }
          ],
          "histogram2dcontour": [
           {
            "colorbar": {
             "outlinewidth": 0,
             "ticks": ""
            },
            "colorscale": [
             [
              0,
              "#0d0887"
             ],
             [
              0.1111111111111111,
              "#46039f"
             ],
             [
              0.2222222222222222,
              "#7201a8"
             ],
             [
              0.3333333333333333,
              "#9c179e"
             ],
             [
              0.4444444444444444,
              "#bd3786"
             ],
             [
              0.5555555555555556,
              "#d8576b"
             ],
             [
              0.6666666666666666,
              "#ed7953"
             ],
             [
              0.7777777777777778,
              "#fb9f3a"
             ],
             [
              0.8888888888888888,
              "#fdca26"
             ],
             [
              1,
              "#f0f921"
             ]
            ],
            "type": "histogram2dcontour"
           }
          ],
          "mesh3d": [
           {
            "colorbar": {
             "outlinewidth": 0,
             "ticks": ""
            },
            "type": "mesh3d"
           }
          ],
          "parcoords": [
           {
            "line": {
             "colorbar": {
              "outlinewidth": 0,
              "ticks": ""
             }
            },
            "type": "parcoords"
           }
          ],
          "pie": [
           {
            "automargin": true,
            "type": "pie"
           }
          ],
          "scatter": [
           {
            "marker": {
             "colorbar": {
              "outlinewidth": 0,
              "ticks": ""
             }
            },
            "type": "scatter"
           }
          ],
          "scatter3d": [
           {
            "line": {
             "colorbar": {
              "outlinewidth": 0,
              "ticks": ""
             }
            },
            "marker": {
             "colorbar": {
              "outlinewidth": 0,
              "ticks": ""
             }
            },
            "type": "scatter3d"
           }
          ],
          "scattercarpet": [
           {
            "marker": {
             "colorbar": {
              "outlinewidth": 0,
              "ticks": ""
             }
            },
            "type": "scattercarpet"
           }
          ],
          "scattergeo": [
           {
            "marker": {
             "colorbar": {
              "outlinewidth": 0,
              "ticks": ""
             }
            },
            "type": "scattergeo"
           }
          ],
          "scattergl": [
           {
            "marker": {
             "colorbar": {
              "outlinewidth": 0,
              "ticks": ""
             }
            },
            "type": "scattergl"
           }
          ],
          "scattermapbox": [
           {
            "marker": {
             "colorbar": {
              "outlinewidth": 0,
              "ticks": ""
             }
            },
            "type": "scattermapbox"
           }
          ],
          "scatterpolar": [
           {
            "marker": {
             "colorbar": {
              "outlinewidth": 0,
              "ticks": ""
             }
            },
            "type": "scatterpolar"
           }
          ],
          "scatterpolargl": [
           {
            "marker": {
             "colorbar": {
              "outlinewidth": 0,
              "ticks": ""
             }
            },
            "type": "scatterpolargl"
           }
          ],
          "scatterternary": [
           {
            "marker": {
             "colorbar": {
              "outlinewidth": 0,
              "ticks": ""
             }
            },
            "type": "scatterternary"
           }
          ],
          "surface": [
           {
            "colorbar": {
             "outlinewidth": 0,
             "ticks": ""
            },
            "colorscale": [
             [
              0,
              "#0d0887"
             ],
             [
              0.1111111111111111,
              "#46039f"
             ],
             [
              0.2222222222222222,
              "#7201a8"
             ],
             [
              0.3333333333333333,
              "#9c179e"
             ],
             [
              0.4444444444444444,
              "#bd3786"
             ],
             [
              0.5555555555555556,
              "#d8576b"
             ],
             [
              0.6666666666666666,
              "#ed7953"
             ],
             [
              0.7777777777777778,
              "#fb9f3a"
             ],
             [
              0.8888888888888888,
              "#fdca26"
             ],
             [
              1,
              "#f0f921"
             ]
            ],
            "type": "surface"
           }
          ],
          "table": [
           {
            "cells": {
             "fill": {
              "color": "#EBF0F8"
             },
             "line": {
              "color": "white"
             }
            },
            "header": {
             "fill": {
              "color": "#C8D4E3"
             },
             "line": {
              "color": "white"
             }
            },
            "type": "table"
           }
          ]
         },
         "layout": {
          "annotationdefaults": {
           "arrowcolor": "#2a3f5f",
           "arrowhead": 0,
           "arrowwidth": 1
          },
          "autotypenumbers": "strict",
          "coloraxis": {
           "colorbar": {
            "outlinewidth": 0,
            "ticks": ""
           }
          },
          "colorscale": {
           "diverging": [
            [
             0,
             "#8e0152"
            ],
            [
             0.1,
             "#c51b7d"
            ],
            [
             0.2,
             "#de77ae"
            ],
            [
             0.3,
             "#f1b6da"
            ],
            [
             0.4,
             "#fde0ef"
            ],
            [
             0.5,
             "#f7f7f7"
            ],
            [
             0.6,
             "#e6f5d0"
            ],
            [
             0.7,
             "#b8e186"
            ],
            [
             0.8,
             "#7fbc41"
            ],
            [
             0.9,
             "#4d9221"
            ],
            [
             1,
             "#276419"
            ]
           ],
           "sequential": [
            [
             0,
             "#0d0887"
            ],
            [
             0.1111111111111111,
             "#46039f"
            ],
            [
             0.2222222222222222,
             "#7201a8"
            ],
            [
             0.3333333333333333,
             "#9c179e"
            ],
            [
             0.4444444444444444,
             "#bd3786"
            ],
            [
             0.5555555555555556,
             "#d8576b"
            ],
            [
             0.6666666666666666,
             "#ed7953"
            ],
            [
             0.7777777777777778,
             "#fb9f3a"
            ],
            [
             0.8888888888888888,
             "#fdca26"
            ],
            [
             1,
             "#f0f921"
            ]
           ],
           "sequentialminus": [
            [
             0,
             "#0d0887"
            ],
            [
             0.1111111111111111,
             "#46039f"
            ],
            [
             0.2222222222222222,
             "#7201a8"
            ],
            [
             0.3333333333333333,
             "#9c179e"
            ],
            [
             0.4444444444444444,
             "#bd3786"
            ],
            [
             0.5555555555555556,
             "#d8576b"
            ],
            [
             0.6666666666666666,
             "#ed7953"
            ],
            [
             0.7777777777777778,
             "#fb9f3a"
            ],
            [
             0.8888888888888888,
             "#fdca26"
            ],
            [
             1,
             "#f0f921"
            ]
           ]
          },
          "colorway": [
           "#636efa",
           "#EF553B",
           "#00cc96",
           "#ab63fa",
           "#FFA15A",
           "#19d3f3",
           "#FF6692",
           "#B6E880",
           "#FF97FF",
           "#FECB52"
          ],
          "font": {
           "color": "#2a3f5f"
          },
          "geo": {
           "bgcolor": "white",
           "lakecolor": "white",
           "landcolor": "#E5ECF6",
           "showlakes": true,
           "showland": true,
           "subunitcolor": "white"
          },
          "hoverlabel": {
           "align": "left"
          },
          "hovermode": "closest",
          "mapbox": {
           "style": "light"
          },
          "paper_bgcolor": "white",
          "plot_bgcolor": "#E5ECF6",
          "polar": {
           "angularaxis": {
            "gridcolor": "white",
            "linecolor": "white",
            "ticks": ""
           },
           "bgcolor": "#E5ECF6",
           "radialaxis": {
            "gridcolor": "white",
            "linecolor": "white",
            "ticks": ""
           }
          },
          "scene": {
           "xaxis": {
            "backgroundcolor": "#E5ECF6",
            "gridcolor": "white",
            "gridwidth": 2,
            "linecolor": "white",
            "showbackground": true,
            "ticks": "",
            "zerolinecolor": "white"
           },
           "yaxis": {
            "backgroundcolor": "#E5ECF6",
            "gridcolor": "white",
            "gridwidth": 2,
            "linecolor": "white",
            "showbackground": true,
            "ticks": "",
            "zerolinecolor": "white"
           },
           "zaxis": {
            "backgroundcolor": "#E5ECF6",
            "gridcolor": "white",
            "gridwidth": 2,
            "linecolor": "white",
            "showbackground": true,
            "ticks": "",
            "zerolinecolor": "white"
           }
          },
          "shapedefaults": {
           "line": {
            "color": "#2a3f5f"
           }
          },
          "ternary": {
           "aaxis": {
            "gridcolor": "white",
            "linecolor": "white",
            "ticks": ""
           },
           "baxis": {
            "gridcolor": "white",
            "linecolor": "white",
            "ticks": ""
           },
           "bgcolor": "#E5ECF6",
           "caxis": {
            "gridcolor": "white",
            "linecolor": "white",
            "ticks": ""
           }
          },
          "title": {
           "x": 0.05
          },
          "xaxis": {
           "automargin": true,
           "gridcolor": "white",
           "linecolor": "white",
           "ticks": "",
           "title": {
            "standoff": 15
           },
           "zerolinecolor": "white",
           "zerolinewidth": 2
          },
          "yaxis": {
           "automargin": true,
           "gridcolor": "white",
           "linecolor": "white",
           "ticks": "",
           "title": {
            "standoff": 15
           },
           "zerolinecolor": "white",
           "zerolinewidth": 2
          }
         }
        },
        "title": {
         "font": {
          "color": "#4D5663"
         }
        },
        "xaxis": {
         "gridcolor": "#E1E5ED",
         "showgrid": true,
         "tickfont": {
          "color": "#4D5663"
         },
         "title": {
          "font": {
           "color": "#4D5663"
          },
          "text": ""
         },
         "zerolinecolor": "#E1E5ED"
        },
        "xaxis2": {
         "anchor": "y2",
         "gridcolor": "#E1E5ED",
         "showgrid": true,
         "showticklabels": false,
         "tickfont": {
          "color": "#4D5663"
         },
         "title": {
          "font": {
           "color": "#4D5663"
          },
          "text": ""
         },
         "zerolinecolor": "#E1E5ED"
        },
        "yaxis": {
         "domain": [
          0.3,
          1
         ],
         "gridcolor": "#E1E5ED",
         "showgrid": true,
         "tickfont": {
          "color": "#4D5663"
         },
         "title": {
          "font": {
           "color": "#4D5663"
          },
          "text": ""
         },
         "zerolinecolor": "#E1E5ED"
        },
        "yaxis2": {
         "domain": [
          0,
          0.25
         ],
         "gridcolor": "#E1E5ED",
         "showgrid": true,
         "tickfont": {
          "color": "#4D5663"
         },
         "title": {
          "font": {
           "color": "#4D5663"
          },
          "text": "Spread"
         },
         "zerolinecolor": "#E1E5ED"
        }
       }
      },
      "text/html": [
       "<div>                            <div id=\"0072b9cb-8b0f-4db0-a53f-80c5df1a2980\" class=\"plotly-graph-div\" style=\"height:525px; width:100%;\"></div>            <script type=\"text/javascript\">                require([\"plotly\"], function(Plotly) {                    window.PLOTLYENV=window.PLOTLYENV || {};\n",
       "                    window.PLOTLYENV.BASE_URL='https://plot.ly';                                    if (document.getElementById(\"0072b9cb-8b0f-4db0-a53f-80c5df1a2980\")) {                    Plotly.newPlot(                        \"0072b9cb-8b0f-4db0-a53f-80c5df1a2980\",                        [{\"line\": {\"color\": \"rgba(255, 153, 51, 1.0)\", \"dash\": \"solid\", \"shape\": \"linear\", \"width\": 1.3}, \"mode\": \"lines\", \"name\": \"A\", \"text\": \"\", \"type\": \"scatter\", \"x\": [0, 1, 2, 3, 4, 5, 6, 7, 8, 9, 10, 11, 12, 13, 14, 15, 16, 17, 18, 19, 20, 21, 22, 23, 24, 25, 26, 27, 28, 29, 30, 31, 32, 33, 34, 35, 36, 37, 38, 39, 40, 41, 42, 43, 44, 45, 46, 47, 48, 49, 50, 51, 52, 53, 54, 55, 56, 57, 58, 59, 60, 61, 62, 63, 64, 65, 66, 67, 68, 69, 70, 71, 72, 73, 74, 75, 76, 77, 78, 79, 80, 81, 82, 83, 84, 85, 86, 87, 88, 89, 90, 91, 92, 93, 94, 95, 96, 97, 98, 99], \"y\": [-1.6437536111521518, 0.6236334115580212, 0.3632305334696795, 0.7803939112591669, 0.7742854821151604, -1.0391624009931515, 1.0889561004772061, -0.8820807905725819, -0.09884950690901928, -2.5490967634952577, -1.4465866453633747, -0.4296122350300794, 0.9907776802326949, 2.2655549907972725, 1.1436740283221893, 0.33666342394404386, 0.08937447215462413, -1.046283324201508, -0.3732597314122444, 1.4268298589473511, 0.8619658253130911, -1.5487963505620657, 1.6661593485730637, 0.7491924544143039, 0.621561413774492, 0.2915885975878172, 2.0385417913239405, 1.4244902846641307, -2.159052691440464, 0.5423476711114913, -1.6789323696099687, -0.5446205803784033, 0.387883477755812, -0.22903596434654588, -1.6505967844835412, -0.32881281216744135, 0.6779154927169985, 1.3681067471795663, 0.26225857285756615, -1.9011589892879166, 1.1409349082330473, -0.9589009714325152, 0.03238371011666432, -0.10655362520754084, 0.05927441822569643, 0.42049964960882447, 1.329575920257925, 1.285081393630453, 0.36005982323576674, 0.6358536168798995, 0.2025560884588064, 0.10886754236829017, 0.4269229835904177, 0.14374785684194905, -0.020302072847358597, -0.4560210194505382, 1.8347967740322737, -0.5006575216944982, 1.6792441205485138, 0.44958872515811443, 0.7598644337110251, -1.326566371218351, -1.111550193856778, 1.2756505190831742, 0.7823229849163477, -1.1681639647040756, 0.5987424260829366, 1.4530772148308835, -0.1540334211090501, -0.6605279285668003, -0.5120412364212491, 0.49300018525610345, -1.7204737222447415, -0.13851095685665482, -0.3588646633355994, -0.672204763993229, -0.14758595118924844, -0.7408629549882537, -1.2913725572359855, 1.5473308090202944, 1.318762193807283, 0.259797984036728, -0.40385400584752457, -0.05074138338280163, -0.5739011980296671, 0.43687851240248043, 1.005132152855596, 0.15754796130132306, 0.06280552804167883, -0.28111370074712844, 0.14489460641954385, 0.5492176924141802, -2.1359048816395925, -0.2445338170684625, 0.38474457301952225, 0.014189266045035662, 2.148224956400063, -0.9306543355294326, 1.4984469196272776, -0.23426698205439314]}, {\"line\": {\"color\": \"rgba(55, 128, 191, 1.0)\", \"dash\": \"solid\", \"shape\": \"linear\", \"width\": 1.3}, \"mode\": \"lines\", \"name\": \"B\", \"text\": \"\", \"type\": \"scatter\", \"x\": [0, 1, 2, 3, 4, 5, 6, 7, 8, 9, 10, 11, 12, 13, 14, 15, 16, 17, 18, 19, 20, 21, 22, 23, 24, 25, 26, 27, 28, 29, 30, 31, 32, 33, 34, 35, 36, 37, 38, 39, 40, 41, 42, 43, 44, 45, 46, 47, 48, 49, 50, 51, 52, 53, 54, 55, 56, 57, 58, 59, 60, 61, 62, 63, 64, 65, 66, 67, 68, 69, 70, 71, 72, 73, 74, 75, 76, 77, 78, 79, 80, 81, 82, 83, 84, 85, 86, 87, 88, 89, 90, 91, 92, 93, 94, 95, 96, 97, 98, 99], \"y\": [0.1997120436245693, 0.4014825437710733, -0.12801667220114157, 0.8107491846132913, 2.537350078887453, -0.9788869603880892, -1.3378194669617782, -0.23426486866532062, 0.8757742912539805, -2.0227454095445996, -0.017483907928513998, -0.8504064065218876, 0.8995122342064306, -3.1965038729005197, -0.04595877243296813, 1.565774686594166, 0.27195711823104024, 2.634779913469022, -0.6128501112350614, -0.9381204025498604, 2.2254029657148604, 0.6617734913093654, 0.1729274366607718, 0.6373609822877407, 0.8180905913547657, 0.6994384744369971, -1.0575377803413366, 0.22628233151882693, 2.329320119524522, -1.112061440235663, 0.2515419041896052, -0.2696718165056928, -0.700689498410336, 1.2123048002103898, -0.9600121886012616, -0.22177492689954934, 0.8970292263888108, 1.9660366494708446, 1.2700402043716204, -1.3259086935966156, -0.1092438311787329, -1.3838336167537948, 1.309337408044333, 0.7369189504715908, 0.9793750111708072, 0.8386959382263741, -2.6014199515774523, -1.9395491169488337, -0.24462832833871673, -0.012947003675194895, -0.9565473591206575, 1.5222970935820264, 1.1786194213689853, -0.3165252186143081, 0.5985585830972404, 1.8747596870918923, 0.2419895523466944, -0.13521215456938623, -0.9040822120120701, -1.0667699555127341, 0.32824617656830496, -0.6588345803353914, 1.0699286027722748, -0.13033161196575843, 0.9141706936213561, 1.0637960589927955, -0.10995148242640611, -1.0457235356110008, 0.027499397592431904, -0.8941576216741033, -0.9020235485999063, 0.09023310607670769, 1.8798418811465476, -2.0013537041552185, 0.5032533708041967, -0.2601989552156913, -0.6770761470398742, -0.3487762448643428, 0.3153186836920095, -0.5414590270345206, 0.28405741070812984, -0.07609106182259144, 0.11656621405857027, 0.18821641130543096, -2.2009179559698975, 1.0178362295224403, 0.5121863442190329, 0.6981423101951505, -1.6899453376912257, 0.7222069010847146, -1.3348502683292458, 0.004150585252992694, 0.6635657982770735, -0.5646265666014189, 0.12493662861316242, -0.6843670840702347, -0.13592666505323378, 0.18138101579973953, 0.5838414942921941, 1.1556173562342535]}, {\"connectgaps\": false, \"fill\": \"tozeroy\", \"line\": {\"color\": \"green\", \"dash\": \"solid\", \"shape\": \"linear\", \"width\": 0.5}, \"mode\": \"lines\", \"name\": \"Spread\", \"showlegend\": false, \"type\": \"scatter\", \"x\": [0, 1, 2, 3, 4, 5, 6, 7, 8, 9, 10, 11, 12, 13, 14, 15, 16, 17, 18, 19, 20, 21, 22, 23, 24, 25, 26, 27, 28, 29, 30, 31, 32, 33, 34, 35, 36, 37, 38, 39, 40, 41, 42, 43, 44, 45, 46, 47, 48, 49, 50, 51, 52, 53, 54, 55, 56, 57, 58, 59, 60, 61, 62, 63, 64, 65, 66, 67, 68, 69, 70, 71, 72, 73, 74, 75, 76, 77, 78, 79, 80, 81, 82, 83, 84, 85, 86, 87, 88, 89, 90, 91, 92, 93, 94, 95, 96, 97, 98, 99], \"xaxis\": \"x2\", \"y\": [\"\", 0.22215086778694793, 0.49124720567082103, \"\", \"\", \"\", 2.4267755674389844, \"\", \"\", \"\", \"\", 0.4207941714918082, 0.0912654460262643, 5.462058863697792, 1.1896328007551575, \"\", \"\", \"\", 0.239590379822817, 2.3649502614972118, \"\", \"\", 1.4932319119122919, 0.11183147212656319, \"\", \"\", 3.0960795716652774, 1.1982079531453038, \"\", 1.6544091113471544, \"\", \"\", 1.088572976166148, \"\", \"\", \"\", \"\", \"\", \"\", \"\", 1.2501787394117803, 0.4249326453212796, \"\", \"\", \"\", \"\", 3.9309958718353775, 3.2246305105792867, 0.6046881515744835, 0.6488006205550944, 1.159103447579464, \"\", \"\", 0.4602730754562572, \"\", \"\", 1.5928072216855793, \"\", 2.583326332560584, 1.5163586806708484, 0.4316182571427201, \"\", \"\", 1.4059821310489327, \"\", \"\", 0.7086939085093427, 2.4988007504418843, \"\", 0.23362969310730297, 0.3899823121786572, 0.40276707917939575, \"\", 1.8628427472985636, \"\", \"\", 0.5294901958506257, \"\", \"\", 2.088789836054815, 1.0347047830991531, 0.33588904585931945, \"\", \"\", 1.6270167579402304, \"\", 0.49294580863656323, \"\", 1.7527508657329045, \"\", 1.4797448747487896, 0.5450671071611874, \"\", 0.32009274953295636, 0.25980794440635985, 0.6985563501152704, 2.284151621453297, \"\", 0.9146054253350835, \"\"], \"yaxis\": \"y2\"}, {\"connectgaps\": false, \"fill\": \"tozeroy\", \"line\": {\"color\": \"red\", \"dash\": \"solid\", \"shape\": \"linear\", \"width\": 0.5}, \"mode\": \"lines\", \"name\": \"Spread\", \"showlegend\": false, \"type\": \"scatter\", \"x\": [0, 1, 2, 3, 4, 5, 6, 7, 8, 9, 10, 11, 12, 13, 14, 15, 16, 17, 18, 19, 20, 21, 22, 23, 24, 25, 26, 27, 28, 29, 30, 31, 32, 33, 34, 35, 36, 37, 38, 39, 40, 41, 42, 43, 44, 45, 46, 47, 48, 49, 50, 51, 52, 53, 54, 55, 56, 57, 58, 59, 60, 61, 62, 63, 64, 65, 66, 67, 68, 69, 70, 71, 72, 73, 74, 75, 76, 77, 78, 79, 80, 81, 82, 83, 84, 85, 86, 87, 88, 89, 90, 91, 92, 93, 94, 95, 96, 97, 98, 99], \"xaxis\": \"x2\", \"y\": [-1.843465654776721, \"\", \"\", -0.030355273354124357, -1.7630645967722927, -0.06027544060506229, \"\", -0.6478159219072613, -0.9746237981629998, -0.5263513539506581, -1.4291027374348606, \"\", \"\", \"\", \"\", -1.2291112626501222, -0.1825826460764161, -3.6810632376705303, \"\", \"\", -1.3634371404017693, -2.210569841871431, \"\", \"\", -0.19652917758027366, -0.40784987684917995, \"\", \"\", -4.488372810964986, \"\", -1.930474273799574, -0.27494876387271056, \"\", -1.4413407645569356, -0.6905845958822796, -0.10703788526789201, -0.2191137336718123, -0.5979299022912783, -1.0077816315140542, -0.575250295691301, \"\", \"\", -1.2769536979276686, -0.8434725756791317, -0.9201005929451107, -0.41819628861754965, \"\", \"\", \"\", \"\", \"\", -1.4134295512137363, -0.7516964377785676, \"\", -0.618860655944599, -2.3307807065424306, \"\", -0.36544536712511194, \"\", \"\", \"\", -0.6677317908829596, -2.1814787966290528, \"\", -0.1318477087050084, -2.231960023696871, \"\", \"\", -0.18153281870148202, \"\", \"\", \"\", -3.600315603391289, \"\", -0.8621180341397962, -0.41200580877753773, \"\", -0.39208671012391094, -1.606691240927995, \"\", \"\", \"\", -0.5204202199060949, -0.23895779468823258, \"\", -0.5809577171199599, \"\", -0.5405943488938274, \"\", -1.003320601831843, \"\", \"\", -2.799470679916666, \"\", \"\", \"\", \"\", -1.112035351329172, \"\", -1.3898843382886468], \"yaxis\": \"y2\"}],                        {\"hovermode\": \"x\", \"legend\": {\"bgcolor\": \"#F5F6F9\", \"font\": {\"color\": \"#4D5663\"}}, \"paper_bgcolor\": \"#F5F6F9\", \"plot_bgcolor\": \"#F5F6F9\", \"template\": {\"data\": {\"bar\": [{\"error_x\": {\"color\": \"#2a3f5f\"}, \"error_y\": {\"color\": \"#2a3f5f\"}, \"marker\": {\"line\": {\"color\": \"#E5ECF6\", \"width\": 0.5}}, \"type\": \"bar\"}], \"barpolar\": [{\"marker\": {\"line\": {\"color\": \"#E5ECF6\", \"width\": 0.5}}, \"type\": \"barpolar\"}], \"carpet\": [{\"aaxis\": {\"endlinecolor\": \"#2a3f5f\", \"gridcolor\": \"white\", \"linecolor\": \"white\", \"minorgridcolor\": \"white\", \"startlinecolor\": \"#2a3f5f\"}, \"baxis\": {\"endlinecolor\": \"#2a3f5f\", \"gridcolor\": \"white\", \"linecolor\": \"white\", \"minorgridcolor\": \"white\", \"startlinecolor\": \"#2a3f5f\"}, \"type\": \"carpet\"}], \"choropleth\": [{\"colorbar\": {\"outlinewidth\": 0, \"ticks\": \"\"}, \"type\": \"choropleth\"}], \"contour\": [{\"colorbar\": {\"outlinewidth\": 0, \"ticks\": \"\"}, \"colorscale\": [[0.0, \"#0d0887\"], [0.1111111111111111, \"#46039f\"], [0.2222222222222222, \"#7201a8\"], [0.3333333333333333, \"#9c179e\"], [0.4444444444444444, \"#bd3786\"], [0.5555555555555556, \"#d8576b\"], [0.6666666666666666, \"#ed7953\"], [0.7777777777777778, \"#fb9f3a\"], [0.8888888888888888, \"#fdca26\"], [1.0, \"#f0f921\"]], \"type\": \"contour\"}], \"contourcarpet\": [{\"colorbar\": {\"outlinewidth\": 0, \"ticks\": \"\"}, \"type\": \"contourcarpet\"}], \"heatmap\": [{\"colorbar\": {\"outlinewidth\": 0, \"ticks\": \"\"}, \"colorscale\": [[0.0, \"#0d0887\"], [0.1111111111111111, \"#46039f\"], [0.2222222222222222, \"#7201a8\"], [0.3333333333333333, \"#9c179e\"], [0.4444444444444444, \"#bd3786\"], [0.5555555555555556, \"#d8576b\"], [0.6666666666666666, \"#ed7953\"], [0.7777777777777778, \"#fb9f3a\"], [0.8888888888888888, \"#fdca26\"], [1.0, \"#f0f921\"]], \"type\": \"heatmap\"}], \"heatmapgl\": [{\"colorbar\": {\"outlinewidth\": 0, \"ticks\": \"\"}, \"colorscale\": [[0.0, \"#0d0887\"], [0.1111111111111111, \"#46039f\"], [0.2222222222222222, \"#7201a8\"], [0.3333333333333333, \"#9c179e\"], [0.4444444444444444, \"#bd3786\"], [0.5555555555555556, \"#d8576b\"], [0.6666666666666666, \"#ed7953\"], [0.7777777777777778, \"#fb9f3a\"], [0.8888888888888888, \"#fdca26\"], [1.0, \"#f0f921\"]], \"type\": \"heatmapgl\"}], \"histogram\": [{\"marker\": {\"colorbar\": {\"outlinewidth\": 0, \"ticks\": \"\"}}, \"type\": \"histogram\"}], \"histogram2d\": [{\"colorbar\": {\"outlinewidth\": 0, \"ticks\": \"\"}, \"colorscale\": [[0.0, \"#0d0887\"], [0.1111111111111111, \"#46039f\"], [0.2222222222222222, \"#7201a8\"], [0.3333333333333333, \"#9c179e\"], [0.4444444444444444, \"#bd3786\"], [0.5555555555555556, \"#d8576b\"], [0.6666666666666666, \"#ed7953\"], [0.7777777777777778, \"#fb9f3a\"], [0.8888888888888888, \"#fdca26\"], [1.0, \"#f0f921\"]], \"type\": \"histogram2d\"}], \"histogram2dcontour\": [{\"colorbar\": {\"outlinewidth\": 0, \"ticks\": \"\"}, \"colorscale\": [[0.0, \"#0d0887\"], [0.1111111111111111, \"#46039f\"], [0.2222222222222222, \"#7201a8\"], [0.3333333333333333, \"#9c179e\"], [0.4444444444444444, \"#bd3786\"], [0.5555555555555556, \"#d8576b\"], [0.6666666666666666, \"#ed7953\"], [0.7777777777777778, \"#fb9f3a\"], [0.8888888888888888, \"#fdca26\"], [1.0, \"#f0f921\"]], \"type\": \"histogram2dcontour\"}], \"mesh3d\": [{\"colorbar\": {\"outlinewidth\": 0, \"ticks\": \"\"}, \"type\": \"mesh3d\"}], \"parcoords\": [{\"line\": {\"colorbar\": {\"outlinewidth\": 0, \"ticks\": \"\"}}, \"type\": \"parcoords\"}], \"pie\": [{\"automargin\": true, \"type\": \"pie\"}], \"scatter\": [{\"marker\": {\"colorbar\": {\"outlinewidth\": 0, \"ticks\": \"\"}}, \"type\": \"scatter\"}], \"scatter3d\": [{\"line\": {\"colorbar\": {\"outlinewidth\": 0, \"ticks\": \"\"}}, \"marker\": {\"colorbar\": {\"outlinewidth\": 0, \"ticks\": \"\"}}, \"type\": \"scatter3d\"}], \"scattercarpet\": [{\"marker\": {\"colorbar\": {\"outlinewidth\": 0, \"ticks\": \"\"}}, \"type\": \"scattercarpet\"}], \"scattergeo\": [{\"marker\": {\"colorbar\": {\"outlinewidth\": 0, \"ticks\": \"\"}}, \"type\": \"scattergeo\"}], \"scattergl\": [{\"marker\": {\"colorbar\": {\"outlinewidth\": 0, \"ticks\": \"\"}}, \"type\": \"scattergl\"}], \"scattermapbox\": [{\"marker\": {\"colorbar\": {\"outlinewidth\": 0, \"ticks\": \"\"}}, \"type\": \"scattermapbox\"}], \"scatterpolar\": [{\"marker\": {\"colorbar\": {\"outlinewidth\": 0, \"ticks\": \"\"}}, \"type\": \"scatterpolar\"}], \"scatterpolargl\": [{\"marker\": {\"colorbar\": {\"outlinewidth\": 0, \"ticks\": \"\"}}, \"type\": \"scatterpolargl\"}], \"scatterternary\": [{\"marker\": {\"colorbar\": {\"outlinewidth\": 0, \"ticks\": \"\"}}, \"type\": \"scatterternary\"}], \"surface\": [{\"colorbar\": {\"outlinewidth\": 0, \"ticks\": \"\"}, \"colorscale\": [[0.0, \"#0d0887\"], [0.1111111111111111, \"#46039f\"], [0.2222222222222222, \"#7201a8\"], [0.3333333333333333, \"#9c179e\"], [0.4444444444444444, \"#bd3786\"], [0.5555555555555556, \"#d8576b\"], [0.6666666666666666, \"#ed7953\"], [0.7777777777777778, \"#fb9f3a\"], [0.8888888888888888, \"#fdca26\"], [1.0, \"#f0f921\"]], \"type\": \"surface\"}], \"table\": [{\"cells\": {\"fill\": {\"color\": \"#EBF0F8\"}, \"line\": {\"color\": \"white\"}}, \"header\": {\"fill\": {\"color\": \"#C8D4E3\"}, \"line\": {\"color\": \"white\"}}, \"type\": \"table\"}]}, \"layout\": {\"annotationdefaults\": {\"arrowcolor\": \"#2a3f5f\", \"arrowhead\": 0, \"arrowwidth\": 1}, \"autotypenumbers\": \"strict\", \"coloraxis\": {\"colorbar\": {\"outlinewidth\": 0, \"ticks\": \"\"}}, \"colorscale\": {\"diverging\": [[0, \"#8e0152\"], [0.1, \"#c51b7d\"], [0.2, \"#de77ae\"], [0.3, \"#f1b6da\"], [0.4, \"#fde0ef\"], [0.5, \"#f7f7f7\"], [0.6, \"#e6f5d0\"], [0.7, \"#b8e186\"], [0.8, \"#7fbc41\"], [0.9, \"#4d9221\"], [1, \"#276419\"]], \"sequential\": [[0.0, \"#0d0887\"], [0.1111111111111111, \"#46039f\"], [0.2222222222222222, \"#7201a8\"], [0.3333333333333333, \"#9c179e\"], [0.4444444444444444, \"#bd3786\"], [0.5555555555555556, \"#d8576b\"], [0.6666666666666666, \"#ed7953\"], [0.7777777777777778, \"#fb9f3a\"], [0.8888888888888888, \"#fdca26\"], [1.0, \"#f0f921\"]], \"sequentialminus\": [[0.0, \"#0d0887\"], [0.1111111111111111, \"#46039f\"], [0.2222222222222222, \"#7201a8\"], [0.3333333333333333, \"#9c179e\"], [0.4444444444444444, \"#bd3786\"], [0.5555555555555556, \"#d8576b\"], [0.6666666666666666, \"#ed7953\"], [0.7777777777777778, \"#fb9f3a\"], [0.8888888888888888, \"#fdca26\"], [1.0, \"#f0f921\"]]}, \"colorway\": [\"#636efa\", \"#EF553B\", \"#00cc96\", \"#ab63fa\", \"#FFA15A\", \"#19d3f3\", \"#FF6692\", \"#B6E880\", \"#FF97FF\", \"#FECB52\"], \"font\": {\"color\": \"#2a3f5f\"}, \"geo\": {\"bgcolor\": \"white\", \"lakecolor\": \"white\", \"landcolor\": \"#E5ECF6\", \"showlakes\": true, \"showland\": true, \"subunitcolor\": \"white\"}, \"hoverlabel\": {\"align\": \"left\"}, \"hovermode\": \"closest\", \"mapbox\": {\"style\": \"light\"}, \"paper_bgcolor\": \"white\", \"plot_bgcolor\": \"#E5ECF6\", \"polar\": {\"angularaxis\": {\"gridcolor\": \"white\", \"linecolor\": \"white\", \"ticks\": \"\"}, \"bgcolor\": \"#E5ECF6\", \"radialaxis\": {\"gridcolor\": \"white\", \"linecolor\": \"white\", \"ticks\": \"\"}}, \"scene\": {\"xaxis\": {\"backgroundcolor\": \"#E5ECF6\", \"gridcolor\": \"white\", \"gridwidth\": 2, \"linecolor\": \"white\", \"showbackground\": true, \"ticks\": \"\", \"zerolinecolor\": \"white\"}, \"yaxis\": {\"backgroundcolor\": \"#E5ECF6\", \"gridcolor\": \"white\", \"gridwidth\": 2, \"linecolor\": \"white\", \"showbackground\": true, \"ticks\": \"\", \"zerolinecolor\": \"white\"}, \"zaxis\": {\"backgroundcolor\": \"#E5ECF6\", \"gridcolor\": \"white\", \"gridwidth\": 2, \"linecolor\": \"white\", \"showbackground\": true, \"ticks\": \"\", \"zerolinecolor\": \"white\"}}, \"shapedefaults\": {\"line\": {\"color\": \"#2a3f5f\"}}, \"ternary\": {\"aaxis\": {\"gridcolor\": \"white\", \"linecolor\": \"white\", \"ticks\": \"\"}, \"baxis\": {\"gridcolor\": \"white\", \"linecolor\": \"white\", \"ticks\": \"\"}, \"bgcolor\": \"#E5ECF6\", \"caxis\": {\"gridcolor\": \"white\", \"linecolor\": \"white\", \"ticks\": \"\"}}, \"title\": {\"x\": 0.05}, \"xaxis\": {\"automargin\": true, \"gridcolor\": \"white\", \"linecolor\": \"white\", \"ticks\": \"\", \"title\": {\"standoff\": 15}, \"zerolinecolor\": \"white\", \"zerolinewidth\": 2}, \"yaxis\": {\"automargin\": true, \"gridcolor\": \"white\", \"linecolor\": \"white\", \"ticks\": \"\", \"title\": {\"standoff\": 15}, \"zerolinecolor\": \"white\", \"zerolinewidth\": 2}}}, \"title\": {\"font\": {\"color\": \"#4D5663\"}}, \"xaxis\": {\"gridcolor\": \"#E1E5ED\", \"showgrid\": true, \"tickfont\": {\"color\": \"#4D5663\"}, \"title\": {\"font\": {\"color\": \"#4D5663\"}, \"text\": \"\"}, \"zerolinecolor\": \"#E1E5ED\"}, \"xaxis2\": {\"anchor\": \"y2\", \"gridcolor\": \"#E1E5ED\", \"showgrid\": true, \"showticklabels\": false, \"tickfont\": {\"color\": \"#4D5663\"}, \"title\": {\"font\": {\"color\": \"#4D5663\"}, \"text\": \"\"}, \"zerolinecolor\": \"#E1E5ED\"}, \"yaxis\": {\"domain\": [0.3, 1], \"gridcolor\": \"#E1E5ED\", \"showgrid\": true, \"tickfont\": {\"color\": \"#4D5663\"}, \"title\": {\"font\": {\"color\": \"#4D5663\"}, \"text\": \"\"}, \"zerolinecolor\": \"#E1E5ED\"}, \"yaxis2\": {\"domain\": [0, 0.25], \"gridcolor\": \"#E1E5ED\", \"showgrid\": true, \"tickfont\": {\"color\": \"#4D5663\"}, \"title\": {\"font\": {\"color\": \"#4D5663\"}, \"text\": \"Spread\"}, \"zerolinecolor\": \"#E1E5ED\"}},                        {\"showLink\": true, \"linkText\": \"Export to plot.ly\", \"plotlyServerURL\": \"https://plot.ly\", \"responsive\": true}                    ).then(function(){\n",
       "                            \n",
       "var gd = document.getElementById('0072b9cb-8b0f-4db0-a53f-80c5df1a2980');\n",
       "var x = new MutationObserver(function (mutations, observer) {{\n",
       "        var display = window.getComputedStyle(gd).display;\n",
       "        if (!display || display === 'none') {{\n",
       "            console.log([gd, 'removed!']);\n",
       "            Plotly.purge(gd);\n",
       "            observer.disconnect();\n",
       "        }}\n",
       "}});\n",
       "\n",
       "// Listen for the removal of the full notebook cells\n",
       "var notebookContainer = gd.closest('#notebook-container');\n",
       "if (notebookContainer) {{\n",
       "    x.observe(notebookContainer, {childList: true});\n",
       "}}\n",
       "\n",
       "// Listen for the clearing of the current output cell\n",
       "var outputEl = gd.closest('.output');\n",
       "if (outputEl) {{\n",
       "    x.observe(outputEl, {childList: true});\n",
       "}}\n",
       "\n",
       "                        })                };                });            </script>        </div>"
      ]
     },
     "metadata": {},
     "output_type": "display_data"
    }
   ],
   "source": [
    "df[[\"A\",\"B\"]].iplot(kind=\"spread\")"
   ]
  },
  {
   "cell_type": "code",
   "execution_count": 18,
   "metadata": {},
   "outputs": [
    {
     "data": {
      "application/vnd.plotly.v1+json": {
       "config": {
        "linkText": "Export to plot.ly",
        "plotlyServerURL": "https://plot.ly",
        "showLink": true
       },
       "data": [
        {
         "histfunc": "count",
         "histnorm": "",
         "marker": {
          "color": "rgba(255, 153, 51, 1.0)",
          "line": {
           "color": "#4D5663",
           "width": 1.3
          }
         },
         "name": "A",
         "nbinsx": 50,
         "opacity": 0.8,
         "orientation": "v",
         "type": "histogram",
         "x": [
          -1.6437536111521518,
          0.6236334115580212,
          0.3632305334696795,
          0.7803939112591669,
          0.7742854821151604,
          -1.0391624009931515,
          1.0889561004772061,
          -0.8820807905725819,
          -0.09884950690901928,
          -2.5490967634952577,
          -1.4465866453633747,
          -0.4296122350300794,
          0.9907776802326949,
          2.2655549907972725,
          1.1436740283221893,
          0.33666342394404386,
          0.08937447215462413,
          -1.046283324201508,
          -0.3732597314122444,
          1.4268298589473511,
          0.8619658253130911,
          -1.5487963505620657,
          1.6661593485730637,
          0.7491924544143039,
          0.621561413774492,
          0.2915885975878172,
          2.0385417913239405,
          1.4244902846641307,
          -2.159052691440464,
          0.5423476711114913,
          -1.6789323696099687,
          -0.5446205803784033,
          0.387883477755812,
          -0.22903596434654588,
          -1.6505967844835412,
          -0.32881281216744135,
          0.6779154927169985,
          1.3681067471795663,
          0.26225857285756615,
          -1.9011589892879166,
          1.1409349082330473,
          -0.9589009714325152,
          0.03238371011666432,
          -0.10655362520754084,
          0.05927441822569643,
          0.42049964960882447,
          1.329575920257925,
          1.285081393630453,
          0.36005982323576674,
          0.6358536168798995,
          0.2025560884588064,
          0.10886754236829017,
          0.4269229835904177,
          0.14374785684194905,
          -0.020302072847358597,
          -0.4560210194505382,
          1.8347967740322737,
          -0.5006575216944982,
          1.6792441205485138,
          0.44958872515811443,
          0.7598644337110251,
          -1.326566371218351,
          -1.111550193856778,
          1.2756505190831742,
          0.7823229849163477,
          -1.1681639647040756,
          0.5987424260829366,
          1.4530772148308835,
          -0.1540334211090501,
          -0.6605279285668003,
          -0.5120412364212491,
          0.49300018525610345,
          -1.7204737222447415,
          -0.13851095685665482,
          -0.3588646633355994,
          -0.672204763993229,
          -0.14758595118924844,
          -0.7408629549882537,
          -1.2913725572359855,
          1.5473308090202944,
          1.318762193807283,
          0.259797984036728,
          -0.40385400584752457,
          -0.05074138338280163,
          -0.5739011980296671,
          0.43687851240248043,
          1.005132152855596,
          0.15754796130132306,
          0.06280552804167883,
          -0.28111370074712844,
          0.14489460641954385,
          0.5492176924141802,
          -2.1359048816395925,
          -0.2445338170684625,
          0.38474457301952225,
          0.014189266045035662,
          2.148224956400063,
          -0.9306543355294326,
          1.4984469196272776,
          -0.23426698205439314
         ]
        }
       ],
       "layout": {
        "barmode": "overlay",
        "legend": {
         "bgcolor": "#F5F6F9",
         "font": {
          "color": "#4D5663"
         }
        },
        "paper_bgcolor": "#F5F6F9",
        "plot_bgcolor": "#F5F6F9",
        "template": {
         "data": {
          "bar": [
           {
            "error_x": {
             "color": "#2a3f5f"
            },
            "error_y": {
             "color": "#2a3f5f"
            },
            "marker": {
             "line": {
              "color": "#E5ECF6",
              "width": 0.5
             }
            },
            "type": "bar"
           }
          ],
          "barpolar": [
           {
            "marker": {
             "line": {
              "color": "#E5ECF6",
              "width": 0.5
             }
            },
            "type": "barpolar"
           }
          ],
          "carpet": [
           {
            "aaxis": {
             "endlinecolor": "#2a3f5f",
             "gridcolor": "white",
             "linecolor": "white",
             "minorgridcolor": "white",
             "startlinecolor": "#2a3f5f"
            },
            "baxis": {
             "endlinecolor": "#2a3f5f",
             "gridcolor": "white",
             "linecolor": "white",
             "minorgridcolor": "white",
             "startlinecolor": "#2a3f5f"
            },
            "type": "carpet"
           }
          ],
          "choropleth": [
           {
            "colorbar": {
             "outlinewidth": 0,
             "ticks": ""
            },
            "type": "choropleth"
           }
          ],
          "contour": [
           {
            "colorbar": {
             "outlinewidth": 0,
             "ticks": ""
            },
            "colorscale": [
             [
              0,
              "#0d0887"
             ],
             [
              0.1111111111111111,
              "#46039f"
             ],
             [
              0.2222222222222222,
              "#7201a8"
             ],
             [
              0.3333333333333333,
              "#9c179e"
             ],
             [
              0.4444444444444444,
              "#bd3786"
             ],
             [
              0.5555555555555556,
              "#d8576b"
             ],
             [
              0.6666666666666666,
              "#ed7953"
             ],
             [
              0.7777777777777778,
              "#fb9f3a"
             ],
             [
              0.8888888888888888,
              "#fdca26"
             ],
             [
              1,
              "#f0f921"
             ]
            ],
            "type": "contour"
           }
          ],
          "contourcarpet": [
           {
            "colorbar": {
             "outlinewidth": 0,
             "ticks": ""
            },
            "type": "contourcarpet"
           }
          ],
          "heatmap": [
           {
            "colorbar": {
             "outlinewidth": 0,
             "ticks": ""
            },
            "colorscale": [
             [
              0,
              "#0d0887"
             ],
             [
              0.1111111111111111,
              "#46039f"
             ],
             [
              0.2222222222222222,
              "#7201a8"
             ],
             [
              0.3333333333333333,
              "#9c179e"
             ],
             [
              0.4444444444444444,
              "#bd3786"
             ],
             [
              0.5555555555555556,
              "#d8576b"
             ],
             [
              0.6666666666666666,
              "#ed7953"
             ],
             [
              0.7777777777777778,
              "#fb9f3a"
             ],
             [
              0.8888888888888888,
              "#fdca26"
             ],
             [
              1,
              "#f0f921"
             ]
            ],
            "type": "heatmap"
           }
          ],
          "heatmapgl": [
           {
            "colorbar": {
             "outlinewidth": 0,
             "ticks": ""
            },
            "colorscale": [
             [
              0,
              "#0d0887"
             ],
             [
              0.1111111111111111,
              "#46039f"
             ],
             [
              0.2222222222222222,
              "#7201a8"
             ],
             [
              0.3333333333333333,
              "#9c179e"
             ],
             [
              0.4444444444444444,
              "#bd3786"
             ],
             [
              0.5555555555555556,
              "#d8576b"
             ],
             [
              0.6666666666666666,
              "#ed7953"
             ],
             [
              0.7777777777777778,
              "#fb9f3a"
             ],
             [
              0.8888888888888888,
              "#fdca26"
             ],
             [
              1,
              "#f0f921"
             ]
            ],
            "type": "heatmapgl"
           }
          ],
          "histogram": [
           {
            "marker": {
             "colorbar": {
              "outlinewidth": 0,
              "ticks": ""
             }
            },
            "type": "histogram"
           }
          ],
          "histogram2d": [
           {
            "colorbar": {
             "outlinewidth": 0,
             "ticks": ""
            },
            "colorscale": [
             [
              0,
              "#0d0887"
             ],
             [
              0.1111111111111111,
              "#46039f"
             ],
             [
              0.2222222222222222,
              "#7201a8"
             ],
             [
              0.3333333333333333,
              "#9c179e"
             ],
             [
              0.4444444444444444,
              "#bd3786"
             ],
             [
              0.5555555555555556,
              "#d8576b"
             ],
             [
              0.6666666666666666,
              "#ed7953"
             ],
             [
              0.7777777777777778,
              "#fb9f3a"
             ],
             [
              0.8888888888888888,
              "#fdca26"
             ],
             [
              1,
              "#f0f921"
             ]
            ],
            "type": "histogram2d"
           }
          ],
          "histogram2dcontour": [
           {
            "colorbar": {
             "outlinewidth": 0,
             "ticks": ""
            },
            "colorscale": [
             [
              0,
              "#0d0887"
             ],
             [
              0.1111111111111111,
              "#46039f"
             ],
             [
              0.2222222222222222,
              "#7201a8"
             ],
             [
              0.3333333333333333,
              "#9c179e"
             ],
             [
              0.4444444444444444,
              "#bd3786"
             ],
             [
              0.5555555555555556,
              "#d8576b"
             ],
             [
              0.6666666666666666,
              "#ed7953"
             ],
             [
              0.7777777777777778,
              "#fb9f3a"
             ],
             [
              0.8888888888888888,
              "#fdca26"
             ],
             [
              1,
              "#f0f921"
             ]
            ],
            "type": "histogram2dcontour"
           }
          ],
          "mesh3d": [
           {
            "colorbar": {
             "outlinewidth": 0,
             "ticks": ""
            },
            "type": "mesh3d"
           }
          ],
          "parcoords": [
           {
            "line": {
             "colorbar": {
              "outlinewidth": 0,
              "ticks": ""
             }
            },
            "type": "parcoords"
           }
          ],
          "pie": [
           {
            "automargin": true,
            "type": "pie"
           }
          ],
          "scatter": [
           {
            "marker": {
             "colorbar": {
              "outlinewidth": 0,
              "ticks": ""
             }
            },
            "type": "scatter"
           }
          ],
          "scatter3d": [
           {
            "line": {
             "colorbar": {
              "outlinewidth": 0,
              "ticks": ""
             }
            },
            "marker": {
             "colorbar": {
              "outlinewidth": 0,
              "ticks": ""
             }
            },
            "type": "scatter3d"
           }
          ],
          "scattercarpet": [
           {
            "marker": {
             "colorbar": {
              "outlinewidth": 0,
              "ticks": ""
             }
            },
            "type": "scattercarpet"
           }
          ],
          "scattergeo": [
           {
            "marker": {
             "colorbar": {
              "outlinewidth": 0,
              "ticks": ""
             }
            },
            "type": "scattergeo"
           }
          ],
          "scattergl": [
           {
            "marker": {
             "colorbar": {
              "outlinewidth": 0,
              "ticks": ""
             }
            },
            "type": "scattergl"
           }
          ],
          "scattermapbox": [
           {
            "marker": {
             "colorbar": {
              "outlinewidth": 0,
              "ticks": ""
             }
            },
            "type": "scattermapbox"
           }
          ],
          "scatterpolar": [
           {
            "marker": {
             "colorbar": {
              "outlinewidth": 0,
              "ticks": ""
             }
            },
            "type": "scatterpolar"
           }
          ],
          "scatterpolargl": [
           {
            "marker": {
             "colorbar": {
              "outlinewidth": 0,
              "ticks": ""
             }
            },
            "type": "scatterpolargl"
           }
          ],
          "scatterternary": [
           {
            "marker": {
             "colorbar": {
              "outlinewidth": 0,
              "ticks": ""
             }
            },
            "type": "scatterternary"
           }
          ],
          "surface": [
           {
            "colorbar": {
             "outlinewidth": 0,
             "ticks": ""
            },
            "colorscale": [
             [
              0,
              "#0d0887"
             ],
             [
              0.1111111111111111,
              "#46039f"
             ],
             [
              0.2222222222222222,
              "#7201a8"
             ],
             [
              0.3333333333333333,
              "#9c179e"
             ],
             [
              0.4444444444444444,
              "#bd3786"
             ],
             [
              0.5555555555555556,
              "#d8576b"
             ],
             [
              0.6666666666666666,
              "#ed7953"
             ],
             [
              0.7777777777777778,
              "#fb9f3a"
             ],
             [
              0.8888888888888888,
              "#fdca26"
             ],
             [
              1,
              "#f0f921"
             ]
            ],
            "type": "surface"
           }
          ],
          "table": [
           {
            "cells": {
             "fill": {
              "color": "#EBF0F8"
             },
             "line": {
              "color": "white"
             }
            },
            "header": {
             "fill": {
              "color": "#C8D4E3"
             },
             "line": {
              "color": "white"
             }
            },
            "type": "table"
           }
          ]
         },
         "layout": {
          "annotationdefaults": {
           "arrowcolor": "#2a3f5f",
           "arrowhead": 0,
           "arrowwidth": 1
          },
          "autotypenumbers": "strict",
          "coloraxis": {
           "colorbar": {
            "outlinewidth": 0,
            "ticks": ""
           }
          },
          "colorscale": {
           "diverging": [
            [
             0,
             "#8e0152"
            ],
            [
             0.1,
             "#c51b7d"
            ],
            [
             0.2,
             "#de77ae"
            ],
            [
             0.3,
             "#f1b6da"
            ],
            [
             0.4,
             "#fde0ef"
            ],
            [
             0.5,
             "#f7f7f7"
            ],
            [
             0.6,
             "#e6f5d0"
            ],
            [
             0.7,
             "#b8e186"
            ],
            [
             0.8,
             "#7fbc41"
            ],
            [
             0.9,
             "#4d9221"
            ],
            [
             1,
             "#276419"
            ]
           ],
           "sequential": [
            [
             0,
             "#0d0887"
            ],
            [
             0.1111111111111111,
             "#46039f"
            ],
            [
             0.2222222222222222,
             "#7201a8"
            ],
            [
             0.3333333333333333,
             "#9c179e"
            ],
            [
             0.4444444444444444,
             "#bd3786"
            ],
            [
             0.5555555555555556,
             "#d8576b"
            ],
            [
             0.6666666666666666,
             "#ed7953"
            ],
            [
             0.7777777777777778,
             "#fb9f3a"
            ],
            [
             0.8888888888888888,
             "#fdca26"
            ],
            [
             1,
             "#f0f921"
            ]
           ],
           "sequentialminus": [
            [
             0,
             "#0d0887"
            ],
            [
             0.1111111111111111,
             "#46039f"
            ],
            [
             0.2222222222222222,
             "#7201a8"
            ],
            [
             0.3333333333333333,
             "#9c179e"
            ],
            [
             0.4444444444444444,
             "#bd3786"
            ],
            [
             0.5555555555555556,
             "#d8576b"
            ],
            [
             0.6666666666666666,
             "#ed7953"
            ],
            [
             0.7777777777777778,
             "#fb9f3a"
            ],
            [
             0.8888888888888888,
             "#fdca26"
            ],
            [
             1,
             "#f0f921"
            ]
           ]
          },
          "colorway": [
           "#636efa",
           "#EF553B",
           "#00cc96",
           "#ab63fa",
           "#FFA15A",
           "#19d3f3",
           "#FF6692",
           "#B6E880",
           "#FF97FF",
           "#FECB52"
          ],
          "font": {
           "color": "#2a3f5f"
          },
          "geo": {
           "bgcolor": "white",
           "lakecolor": "white",
           "landcolor": "#E5ECF6",
           "showlakes": true,
           "showland": true,
           "subunitcolor": "white"
          },
          "hoverlabel": {
           "align": "left"
          },
          "hovermode": "closest",
          "mapbox": {
           "style": "light"
          },
          "paper_bgcolor": "white",
          "plot_bgcolor": "#E5ECF6",
          "polar": {
           "angularaxis": {
            "gridcolor": "white",
            "linecolor": "white",
            "ticks": ""
           },
           "bgcolor": "#E5ECF6",
           "radialaxis": {
            "gridcolor": "white",
            "linecolor": "white",
            "ticks": ""
           }
          },
          "scene": {
           "xaxis": {
            "backgroundcolor": "#E5ECF6",
            "gridcolor": "white",
            "gridwidth": 2,
            "linecolor": "white",
            "showbackground": true,
            "ticks": "",
            "zerolinecolor": "white"
           },
           "yaxis": {
            "backgroundcolor": "#E5ECF6",
            "gridcolor": "white",
            "gridwidth": 2,
            "linecolor": "white",
            "showbackground": true,
            "ticks": "",
            "zerolinecolor": "white"
           },
           "zaxis": {
            "backgroundcolor": "#E5ECF6",
            "gridcolor": "white",
            "gridwidth": 2,
            "linecolor": "white",
            "showbackground": true,
            "ticks": "",
            "zerolinecolor": "white"
           }
          },
          "shapedefaults": {
           "line": {
            "color": "#2a3f5f"
           }
          },
          "ternary": {
           "aaxis": {
            "gridcolor": "white",
            "linecolor": "white",
            "ticks": ""
           },
           "baxis": {
            "gridcolor": "white",
            "linecolor": "white",
            "ticks": ""
           },
           "bgcolor": "#E5ECF6",
           "caxis": {
            "gridcolor": "white",
            "linecolor": "white",
            "ticks": ""
           }
          },
          "title": {
           "x": 0.05
          },
          "xaxis": {
           "automargin": true,
           "gridcolor": "white",
           "linecolor": "white",
           "ticks": "",
           "title": {
            "standoff": 15
           },
           "zerolinecolor": "white",
           "zerolinewidth": 2
          },
          "yaxis": {
           "automargin": true,
           "gridcolor": "white",
           "linecolor": "white",
           "ticks": "",
           "title": {
            "standoff": 15
           },
           "zerolinecolor": "white",
           "zerolinewidth": 2
          }
         }
        },
        "title": {
         "font": {
          "color": "#4D5663"
         }
        },
        "xaxis": {
         "gridcolor": "#E1E5ED",
         "showgrid": true,
         "tickfont": {
          "color": "#4D5663"
         },
         "title": {
          "font": {
           "color": "#4D5663"
          },
          "text": ""
         },
         "zerolinecolor": "#E1E5ED"
        },
        "yaxis": {
         "gridcolor": "#E1E5ED",
         "showgrid": true,
         "tickfont": {
          "color": "#4D5663"
         },
         "title": {
          "font": {
           "color": "#4D5663"
          },
          "text": ""
         },
         "zerolinecolor": "#E1E5ED"
        }
       }
      },
      "text/html": [
       "<div>                            <div id=\"56c70765-7351-4cbb-af7d-66c030dd71cc\" class=\"plotly-graph-div\" style=\"height:525px; width:100%;\"></div>            <script type=\"text/javascript\">                require([\"plotly\"], function(Plotly) {                    window.PLOTLYENV=window.PLOTLYENV || {};\n",
       "                    window.PLOTLYENV.BASE_URL='https://plot.ly';                                    if (document.getElementById(\"56c70765-7351-4cbb-af7d-66c030dd71cc\")) {                    Plotly.newPlot(                        \"56c70765-7351-4cbb-af7d-66c030dd71cc\",                        [{\"histfunc\": \"count\", \"histnorm\": \"\", \"marker\": {\"color\": \"rgba(255, 153, 51, 1.0)\", \"line\": {\"color\": \"#4D5663\", \"width\": 1.3}}, \"name\": \"A\", \"nbinsx\": 50, \"opacity\": 0.8, \"orientation\": \"v\", \"type\": \"histogram\", \"x\": [-1.6437536111521518, 0.6236334115580212, 0.3632305334696795, 0.7803939112591669, 0.7742854821151604, -1.0391624009931515, 1.0889561004772061, -0.8820807905725819, -0.09884950690901928, -2.5490967634952577, -1.4465866453633747, -0.4296122350300794, 0.9907776802326949, 2.2655549907972725, 1.1436740283221893, 0.33666342394404386, 0.08937447215462413, -1.046283324201508, -0.3732597314122444, 1.4268298589473511, 0.8619658253130911, -1.5487963505620657, 1.6661593485730637, 0.7491924544143039, 0.621561413774492, 0.2915885975878172, 2.0385417913239405, 1.4244902846641307, -2.159052691440464, 0.5423476711114913, -1.6789323696099687, -0.5446205803784033, 0.387883477755812, -0.22903596434654588, -1.6505967844835412, -0.32881281216744135, 0.6779154927169985, 1.3681067471795663, 0.26225857285756615, -1.9011589892879166, 1.1409349082330473, -0.9589009714325152, 0.03238371011666432, -0.10655362520754084, 0.05927441822569643, 0.42049964960882447, 1.329575920257925, 1.285081393630453, 0.36005982323576674, 0.6358536168798995, 0.2025560884588064, 0.10886754236829017, 0.4269229835904177, 0.14374785684194905, -0.020302072847358597, -0.4560210194505382, 1.8347967740322737, -0.5006575216944982, 1.6792441205485138, 0.44958872515811443, 0.7598644337110251, -1.326566371218351, -1.111550193856778, 1.2756505190831742, 0.7823229849163477, -1.1681639647040756, 0.5987424260829366, 1.4530772148308835, -0.1540334211090501, -0.6605279285668003, -0.5120412364212491, 0.49300018525610345, -1.7204737222447415, -0.13851095685665482, -0.3588646633355994, -0.672204763993229, -0.14758595118924844, -0.7408629549882537, -1.2913725572359855, 1.5473308090202944, 1.318762193807283, 0.259797984036728, -0.40385400584752457, -0.05074138338280163, -0.5739011980296671, 0.43687851240248043, 1.005132152855596, 0.15754796130132306, 0.06280552804167883, -0.28111370074712844, 0.14489460641954385, 0.5492176924141802, -2.1359048816395925, -0.2445338170684625, 0.38474457301952225, 0.014189266045035662, 2.148224956400063, -0.9306543355294326, 1.4984469196272776, -0.23426698205439314]}],                        {\"barmode\": \"overlay\", \"legend\": {\"bgcolor\": \"#F5F6F9\", \"font\": {\"color\": \"#4D5663\"}}, \"paper_bgcolor\": \"#F5F6F9\", \"plot_bgcolor\": \"#F5F6F9\", \"template\": {\"data\": {\"bar\": [{\"error_x\": {\"color\": \"#2a3f5f\"}, \"error_y\": {\"color\": \"#2a3f5f\"}, \"marker\": {\"line\": {\"color\": \"#E5ECF6\", \"width\": 0.5}}, \"type\": \"bar\"}], \"barpolar\": [{\"marker\": {\"line\": {\"color\": \"#E5ECF6\", \"width\": 0.5}}, \"type\": \"barpolar\"}], \"carpet\": [{\"aaxis\": {\"endlinecolor\": \"#2a3f5f\", \"gridcolor\": \"white\", \"linecolor\": \"white\", \"minorgridcolor\": \"white\", \"startlinecolor\": \"#2a3f5f\"}, \"baxis\": {\"endlinecolor\": \"#2a3f5f\", \"gridcolor\": \"white\", \"linecolor\": \"white\", \"minorgridcolor\": \"white\", \"startlinecolor\": \"#2a3f5f\"}, \"type\": \"carpet\"}], \"choropleth\": [{\"colorbar\": {\"outlinewidth\": 0, \"ticks\": \"\"}, \"type\": \"choropleth\"}], \"contour\": [{\"colorbar\": {\"outlinewidth\": 0, \"ticks\": \"\"}, \"colorscale\": [[0.0, \"#0d0887\"], [0.1111111111111111, \"#46039f\"], [0.2222222222222222, \"#7201a8\"], [0.3333333333333333, \"#9c179e\"], [0.4444444444444444, \"#bd3786\"], [0.5555555555555556, \"#d8576b\"], [0.6666666666666666, \"#ed7953\"], [0.7777777777777778, \"#fb9f3a\"], [0.8888888888888888, \"#fdca26\"], [1.0, \"#f0f921\"]], \"type\": \"contour\"}], \"contourcarpet\": [{\"colorbar\": {\"outlinewidth\": 0, \"ticks\": \"\"}, \"type\": \"contourcarpet\"}], \"heatmap\": [{\"colorbar\": {\"outlinewidth\": 0, \"ticks\": \"\"}, \"colorscale\": [[0.0, \"#0d0887\"], [0.1111111111111111, \"#46039f\"], [0.2222222222222222, \"#7201a8\"], [0.3333333333333333, \"#9c179e\"], [0.4444444444444444, \"#bd3786\"], [0.5555555555555556, \"#d8576b\"], [0.6666666666666666, \"#ed7953\"], [0.7777777777777778, \"#fb9f3a\"], [0.8888888888888888, \"#fdca26\"], [1.0, \"#f0f921\"]], \"type\": \"heatmap\"}], \"heatmapgl\": [{\"colorbar\": {\"outlinewidth\": 0, \"ticks\": \"\"}, \"colorscale\": [[0.0, \"#0d0887\"], [0.1111111111111111, \"#46039f\"], [0.2222222222222222, \"#7201a8\"], [0.3333333333333333, \"#9c179e\"], [0.4444444444444444, \"#bd3786\"], [0.5555555555555556, \"#d8576b\"], [0.6666666666666666, \"#ed7953\"], [0.7777777777777778, \"#fb9f3a\"], [0.8888888888888888, \"#fdca26\"], [1.0, \"#f0f921\"]], \"type\": \"heatmapgl\"}], \"histogram\": [{\"marker\": {\"colorbar\": {\"outlinewidth\": 0, \"ticks\": \"\"}}, \"type\": \"histogram\"}], \"histogram2d\": [{\"colorbar\": {\"outlinewidth\": 0, \"ticks\": \"\"}, \"colorscale\": [[0.0, \"#0d0887\"], [0.1111111111111111, \"#46039f\"], [0.2222222222222222, \"#7201a8\"], [0.3333333333333333, \"#9c179e\"], [0.4444444444444444, \"#bd3786\"], [0.5555555555555556, \"#d8576b\"], [0.6666666666666666, \"#ed7953\"], [0.7777777777777778, \"#fb9f3a\"], [0.8888888888888888, \"#fdca26\"], [1.0, \"#f0f921\"]], \"type\": \"histogram2d\"}], \"histogram2dcontour\": [{\"colorbar\": {\"outlinewidth\": 0, \"ticks\": \"\"}, \"colorscale\": [[0.0, \"#0d0887\"], [0.1111111111111111, \"#46039f\"], [0.2222222222222222, \"#7201a8\"], [0.3333333333333333, \"#9c179e\"], [0.4444444444444444, \"#bd3786\"], [0.5555555555555556, \"#d8576b\"], [0.6666666666666666, \"#ed7953\"], [0.7777777777777778, \"#fb9f3a\"], [0.8888888888888888, \"#fdca26\"], [1.0, \"#f0f921\"]], \"type\": \"histogram2dcontour\"}], \"mesh3d\": [{\"colorbar\": {\"outlinewidth\": 0, \"ticks\": \"\"}, \"type\": \"mesh3d\"}], \"parcoords\": [{\"line\": {\"colorbar\": {\"outlinewidth\": 0, \"ticks\": \"\"}}, \"type\": \"parcoords\"}], \"pie\": [{\"automargin\": true, \"type\": \"pie\"}], \"scatter\": [{\"marker\": {\"colorbar\": {\"outlinewidth\": 0, \"ticks\": \"\"}}, \"type\": \"scatter\"}], \"scatter3d\": [{\"line\": {\"colorbar\": {\"outlinewidth\": 0, \"ticks\": \"\"}}, \"marker\": {\"colorbar\": {\"outlinewidth\": 0, \"ticks\": \"\"}}, \"type\": \"scatter3d\"}], \"scattercarpet\": [{\"marker\": {\"colorbar\": {\"outlinewidth\": 0, \"ticks\": \"\"}}, \"type\": \"scattercarpet\"}], \"scattergeo\": [{\"marker\": {\"colorbar\": {\"outlinewidth\": 0, \"ticks\": \"\"}}, \"type\": \"scattergeo\"}], \"scattergl\": [{\"marker\": {\"colorbar\": {\"outlinewidth\": 0, \"ticks\": \"\"}}, \"type\": \"scattergl\"}], \"scattermapbox\": [{\"marker\": {\"colorbar\": {\"outlinewidth\": 0, \"ticks\": \"\"}}, \"type\": \"scattermapbox\"}], \"scatterpolar\": [{\"marker\": {\"colorbar\": {\"outlinewidth\": 0, \"ticks\": \"\"}}, \"type\": \"scatterpolar\"}], \"scatterpolargl\": [{\"marker\": {\"colorbar\": {\"outlinewidth\": 0, \"ticks\": \"\"}}, \"type\": \"scatterpolargl\"}], \"scatterternary\": [{\"marker\": {\"colorbar\": {\"outlinewidth\": 0, \"ticks\": \"\"}}, \"type\": \"scatterternary\"}], \"surface\": [{\"colorbar\": {\"outlinewidth\": 0, \"ticks\": \"\"}, \"colorscale\": [[0.0, \"#0d0887\"], [0.1111111111111111, \"#46039f\"], [0.2222222222222222, \"#7201a8\"], [0.3333333333333333, \"#9c179e\"], [0.4444444444444444, \"#bd3786\"], [0.5555555555555556, \"#d8576b\"], [0.6666666666666666, \"#ed7953\"], [0.7777777777777778, \"#fb9f3a\"], [0.8888888888888888, \"#fdca26\"], [1.0, \"#f0f921\"]], \"type\": \"surface\"}], \"table\": [{\"cells\": {\"fill\": {\"color\": \"#EBF0F8\"}, \"line\": {\"color\": \"white\"}}, \"header\": {\"fill\": {\"color\": \"#C8D4E3\"}, \"line\": {\"color\": \"white\"}}, \"type\": \"table\"}]}, \"layout\": {\"annotationdefaults\": {\"arrowcolor\": \"#2a3f5f\", \"arrowhead\": 0, \"arrowwidth\": 1}, \"autotypenumbers\": \"strict\", \"coloraxis\": {\"colorbar\": {\"outlinewidth\": 0, \"ticks\": \"\"}}, \"colorscale\": {\"diverging\": [[0, \"#8e0152\"], [0.1, \"#c51b7d\"], [0.2, \"#de77ae\"], [0.3, \"#f1b6da\"], [0.4, \"#fde0ef\"], [0.5, \"#f7f7f7\"], [0.6, \"#e6f5d0\"], [0.7, \"#b8e186\"], [0.8, \"#7fbc41\"], [0.9, \"#4d9221\"], [1, \"#276419\"]], \"sequential\": [[0.0, \"#0d0887\"], [0.1111111111111111, \"#46039f\"], [0.2222222222222222, \"#7201a8\"], [0.3333333333333333, \"#9c179e\"], [0.4444444444444444, \"#bd3786\"], [0.5555555555555556, \"#d8576b\"], [0.6666666666666666, \"#ed7953\"], [0.7777777777777778, \"#fb9f3a\"], [0.8888888888888888, \"#fdca26\"], [1.0, \"#f0f921\"]], \"sequentialminus\": [[0.0, \"#0d0887\"], [0.1111111111111111, \"#46039f\"], [0.2222222222222222, \"#7201a8\"], [0.3333333333333333, \"#9c179e\"], [0.4444444444444444, \"#bd3786\"], [0.5555555555555556, \"#d8576b\"], [0.6666666666666666, \"#ed7953\"], [0.7777777777777778, \"#fb9f3a\"], [0.8888888888888888, \"#fdca26\"], [1.0, \"#f0f921\"]]}, \"colorway\": [\"#636efa\", \"#EF553B\", \"#00cc96\", \"#ab63fa\", \"#FFA15A\", \"#19d3f3\", \"#FF6692\", \"#B6E880\", \"#FF97FF\", \"#FECB52\"], \"font\": {\"color\": \"#2a3f5f\"}, \"geo\": {\"bgcolor\": \"white\", \"lakecolor\": \"white\", \"landcolor\": \"#E5ECF6\", \"showlakes\": true, \"showland\": true, \"subunitcolor\": \"white\"}, \"hoverlabel\": {\"align\": \"left\"}, \"hovermode\": \"closest\", \"mapbox\": {\"style\": \"light\"}, \"paper_bgcolor\": \"white\", \"plot_bgcolor\": \"#E5ECF6\", \"polar\": {\"angularaxis\": {\"gridcolor\": \"white\", \"linecolor\": \"white\", \"ticks\": \"\"}, \"bgcolor\": \"#E5ECF6\", \"radialaxis\": {\"gridcolor\": \"white\", \"linecolor\": \"white\", \"ticks\": \"\"}}, \"scene\": {\"xaxis\": {\"backgroundcolor\": \"#E5ECF6\", \"gridcolor\": \"white\", \"gridwidth\": 2, \"linecolor\": \"white\", \"showbackground\": true, \"ticks\": \"\", \"zerolinecolor\": \"white\"}, \"yaxis\": {\"backgroundcolor\": \"#E5ECF6\", \"gridcolor\": \"white\", \"gridwidth\": 2, \"linecolor\": \"white\", \"showbackground\": true, \"ticks\": \"\", \"zerolinecolor\": \"white\"}, \"zaxis\": {\"backgroundcolor\": \"#E5ECF6\", \"gridcolor\": \"white\", \"gridwidth\": 2, \"linecolor\": \"white\", \"showbackground\": true, \"ticks\": \"\", \"zerolinecolor\": \"white\"}}, \"shapedefaults\": {\"line\": {\"color\": \"#2a3f5f\"}}, \"ternary\": {\"aaxis\": {\"gridcolor\": \"white\", \"linecolor\": \"white\", \"ticks\": \"\"}, \"baxis\": {\"gridcolor\": \"white\", \"linecolor\": \"white\", \"ticks\": \"\"}, \"bgcolor\": \"#E5ECF6\", \"caxis\": {\"gridcolor\": \"white\", \"linecolor\": \"white\", \"ticks\": \"\"}}, \"title\": {\"x\": 0.05}, \"xaxis\": {\"automargin\": true, \"gridcolor\": \"white\", \"linecolor\": \"white\", \"ticks\": \"\", \"title\": {\"standoff\": 15}, \"zerolinecolor\": \"white\", \"zerolinewidth\": 2}, \"yaxis\": {\"automargin\": true, \"gridcolor\": \"white\", \"linecolor\": \"white\", \"ticks\": \"\", \"title\": {\"standoff\": 15}, \"zerolinecolor\": \"white\", \"zerolinewidth\": 2}}}, \"title\": {\"font\": {\"color\": \"#4D5663\"}}, \"xaxis\": {\"gridcolor\": \"#E1E5ED\", \"showgrid\": true, \"tickfont\": {\"color\": \"#4D5663\"}, \"title\": {\"font\": {\"color\": \"#4D5663\"}, \"text\": \"\"}, \"zerolinecolor\": \"#E1E5ED\"}, \"yaxis\": {\"gridcolor\": \"#E1E5ED\", \"showgrid\": true, \"tickfont\": {\"color\": \"#4D5663\"}, \"title\": {\"font\": {\"color\": \"#4D5663\"}, \"text\": \"\"}, \"zerolinecolor\": \"#E1E5ED\"}},                        {\"showLink\": true, \"linkText\": \"Export to plot.ly\", \"plotlyServerURL\": \"https://plot.ly\", \"responsive\": true}                    ).then(function(){\n",
       "                            \n",
       "var gd = document.getElementById('56c70765-7351-4cbb-af7d-66c030dd71cc');\n",
       "var x = new MutationObserver(function (mutations, observer) {{\n",
       "        var display = window.getComputedStyle(gd).display;\n",
       "        if (!display || display === 'none') {{\n",
       "            console.log([gd, 'removed!']);\n",
       "            Plotly.purge(gd);\n",
       "            observer.disconnect();\n",
       "        }}\n",
       "}});\n",
       "\n",
       "// Listen for the removal of the full notebook cells\n",
       "var notebookContainer = gd.closest('#notebook-container');\n",
       "if (notebookContainer) {{\n",
       "    x.observe(notebookContainer, {childList: true});\n",
       "}}\n",
       "\n",
       "// Listen for the clearing of the current output cell\n",
       "var outputEl = gd.closest('.output');\n",
       "if (outputEl) {{\n",
       "    x.observe(outputEl, {childList: true});\n",
       "}}\n",
       "\n",
       "                        })                };                });            </script>        </div>"
      ]
     },
     "metadata": {},
     "output_type": "display_data"
    }
   ],
   "source": [
    "df[\"A\"].iplot(kind=\"hist\",bins=50)"
   ]
  },
  {
   "cell_type": "code",
   "execution_count": 19,
   "metadata": {},
   "outputs": [
    {
     "data": {
      "application/vnd.plotly.v1+json": {
       "config": {
        "linkText": "Export to plot.ly",
        "plotlyServerURL": "https://plot.ly",
        "showLink": true
       },
       "data": [
        {
         "marker": {
          "color": [
           "rgb(255, 153, 51)",
           "rgb(55, 128, 191)",
           "rgb(50, 171, 96)",
           "rgb(128, 0, 128)",
           "rgb(219, 64, 82)",
           "rgb(0, 128, 128)",
           "rgb(255, 255, 51)",
           "rgb(128, 128, 0)",
           "rgb(251, 128, 114)",
           "rgb(128, 177, 211)"
          ],
          "line": {
           "width": 1.3
          },
          "size": [
           33,
           69,
           80,
           45,
           66,
           23,
           54,
           23,
           62,
           52,
           69,
           35,
           83,
           42,
           48,
           83,
           78,
           57,
           72,
           52,
           70,
           53,
           27,
           45,
           49,
           102,
           26,
           56,
           42,
           15,
           39,
           26,
           60,
           64,
           85,
           59,
           41,
           35,
           55,
           80,
           59,
           74,
           78,
           39,
           81,
           38,
           26,
           57,
           63,
           32,
           34,
           34,
           80,
           57,
           60,
           38,
           58,
           72,
           67,
           44,
           36,
           42,
           77,
           17,
           57,
           49,
           68,
           81,
           41,
           47,
           49,
           40,
           81,
           27,
           12,
           17,
           57,
           19,
           49,
           97,
           26,
           80,
           17,
           60,
           76,
           73,
           44,
           61,
           67,
           40,
           70,
           51,
           60,
           112,
           98,
           66,
           53,
           63,
           47,
           25
          ],
          "symbol": "circle"
         },
         "mode": "markers",
         "text": "",
         "type": "scatter",
         "x": [
          -1.6437536111521518,
          0.6236334115580212,
          0.3632305334696795,
          0.7803939112591669,
          0.7742854821151604,
          -1.0391624009931515,
          1.0889561004772061,
          -0.8820807905725819,
          -0.09884950690901928,
          -2.5490967634952577,
          -1.4465866453633747,
          -0.4296122350300794,
          0.9907776802326949,
          2.2655549907972725,
          1.1436740283221893,
          0.33666342394404386,
          0.08937447215462413,
          -1.046283324201508,
          -0.3732597314122444,
          1.4268298589473511,
          0.8619658253130911,
          -1.5487963505620657,
          1.6661593485730637,
          0.7491924544143039,
          0.621561413774492,
          0.2915885975878172,
          2.0385417913239405,
          1.4244902846641307,
          -2.159052691440464,
          0.5423476711114913,
          -1.6789323696099687,
          -0.5446205803784033,
          0.387883477755812,
          -0.22903596434654588,
          -1.6505967844835412,
          -0.32881281216744135,
          0.6779154927169985,
          1.3681067471795663,
          0.26225857285756615,
          -1.9011589892879166,
          1.1409349082330473,
          -0.9589009714325152,
          0.03238371011666432,
          -0.10655362520754084,
          0.05927441822569643,
          0.42049964960882447,
          1.329575920257925,
          1.285081393630453,
          0.36005982323576674,
          0.6358536168798995,
          0.2025560884588064,
          0.10886754236829017,
          0.4269229835904177,
          0.14374785684194905,
          -0.020302072847358597,
          -0.4560210194505382,
          1.8347967740322737,
          -0.5006575216944982,
          1.6792441205485138,
          0.44958872515811443,
          0.7598644337110251,
          -1.326566371218351,
          -1.111550193856778,
          1.2756505190831742,
          0.7823229849163477,
          -1.1681639647040756,
          0.5987424260829366,
          1.4530772148308835,
          -0.1540334211090501,
          -0.6605279285668003,
          -0.5120412364212491,
          0.49300018525610345,
          -1.7204737222447415,
          -0.13851095685665482,
          -0.3588646633355994,
          -0.672204763993229,
          -0.14758595118924844,
          -0.7408629549882537,
          -1.2913725572359855,
          1.5473308090202944,
          1.318762193807283,
          0.259797984036728,
          -0.40385400584752457,
          -0.05074138338280163,
          -0.5739011980296671,
          0.43687851240248043,
          1.005132152855596,
          0.15754796130132306,
          0.06280552804167883,
          -0.28111370074712844,
          0.14489460641954385,
          0.5492176924141802,
          -2.1359048816395925,
          -0.2445338170684625,
          0.38474457301952225,
          0.014189266045035662,
          2.148224956400063,
          -0.9306543355294326,
          1.4984469196272776,
          -0.23426698205439314
         ],
         "y": [
          0.1997120436245693,
          0.4014825437710733,
          -0.12801667220114157,
          0.8107491846132913,
          2.537350078887453,
          -0.9788869603880892,
          -1.3378194669617782,
          -0.23426486866532062,
          0.8757742912539805,
          -2.0227454095445996,
          -0.017483907928513998,
          -0.8504064065218876,
          0.8995122342064306,
          -3.1965038729005197,
          -0.04595877243296813,
          1.565774686594166,
          0.27195711823104024,
          2.634779913469022,
          -0.6128501112350614,
          -0.9381204025498604,
          2.2254029657148604,
          0.6617734913093654,
          0.1729274366607718,
          0.6373609822877407,
          0.8180905913547657,
          0.6994384744369971,
          -1.0575377803413366,
          0.22628233151882693,
          2.329320119524522,
          -1.112061440235663,
          0.2515419041896052,
          -0.2696718165056928,
          -0.700689498410336,
          1.2123048002103898,
          -0.9600121886012616,
          -0.22177492689954934,
          0.8970292263888108,
          1.9660366494708446,
          1.2700402043716204,
          -1.3259086935966156,
          -0.1092438311787329,
          -1.3838336167537948,
          1.309337408044333,
          0.7369189504715908,
          0.9793750111708072,
          0.8386959382263741,
          -2.6014199515774523,
          -1.9395491169488337,
          -0.24462832833871673,
          -0.012947003675194895,
          -0.9565473591206575,
          1.5222970935820264,
          1.1786194213689853,
          -0.3165252186143081,
          0.5985585830972404,
          1.8747596870918923,
          0.2419895523466944,
          -0.13521215456938623,
          -0.9040822120120701,
          -1.0667699555127341,
          0.32824617656830496,
          -0.6588345803353914,
          1.0699286027722748,
          -0.13033161196575843,
          0.9141706936213561,
          1.0637960589927955,
          -0.10995148242640611,
          -1.0457235356110008,
          0.027499397592431904,
          -0.8941576216741033,
          -0.9020235485999063,
          0.09023310607670769,
          1.8798418811465476,
          -2.0013537041552185,
          0.5032533708041967,
          -0.2601989552156913,
          -0.6770761470398742,
          -0.3487762448643428,
          0.3153186836920095,
          -0.5414590270345206,
          0.28405741070812984,
          -0.07609106182259144,
          0.11656621405857027,
          0.18821641130543096,
          -2.2009179559698975,
          1.0178362295224403,
          0.5121863442190329,
          0.6981423101951505,
          -1.6899453376912257,
          0.7222069010847146,
          -1.3348502683292458,
          0.004150585252992694,
          0.6635657982770735,
          -0.5646265666014189,
          0.12493662861316242,
          -0.6843670840702347,
          -0.13592666505323378,
          0.18138101579973953,
          0.5838414942921941,
          1.1556173562342535
         ]
        }
       ],
       "layout": {
        "legend": {
         "bgcolor": "#F5F6F9",
         "font": {
          "color": "#4D5663"
         }
        },
        "paper_bgcolor": "#F5F6F9",
        "plot_bgcolor": "#F5F6F9",
        "template": {
         "data": {
          "bar": [
           {
            "error_x": {
             "color": "#2a3f5f"
            },
            "error_y": {
             "color": "#2a3f5f"
            },
            "marker": {
             "line": {
              "color": "#E5ECF6",
              "width": 0.5
             }
            },
            "type": "bar"
           }
          ],
          "barpolar": [
           {
            "marker": {
             "line": {
              "color": "#E5ECF6",
              "width": 0.5
             }
            },
            "type": "barpolar"
           }
          ],
          "carpet": [
           {
            "aaxis": {
             "endlinecolor": "#2a3f5f",
             "gridcolor": "white",
             "linecolor": "white",
             "minorgridcolor": "white",
             "startlinecolor": "#2a3f5f"
            },
            "baxis": {
             "endlinecolor": "#2a3f5f",
             "gridcolor": "white",
             "linecolor": "white",
             "minorgridcolor": "white",
             "startlinecolor": "#2a3f5f"
            },
            "type": "carpet"
           }
          ],
          "choropleth": [
           {
            "colorbar": {
             "outlinewidth": 0,
             "ticks": ""
            },
            "type": "choropleth"
           }
          ],
          "contour": [
           {
            "colorbar": {
             "outlinewidth": 0,
             "ticks": ""
            },
            "colorscale": [
             [
              0,
              "#0d0887"
             ],
             [
              0.1111111111111111,
              "#46039f"
             ],
             [
              0.2222222222222222,
              "#7201a8"
             ],
             [
              0.3333333333333333,
              "#9c179e"
             ],
             [
              0.4444444444444444,
              "#bd3786"
             ],
             [
              0.5555555555555556,
              "#d8576b"
             ],
             [
              0.6666666666666666,
              "#ed7953"
             ],
             [
              0.7777777777777778,
              "#fb9f3a"
             ],
             [
              0.8888888888888888,
              "#fdca26"
             ],
             [
              1,
              "#f0f921"
             ]
            ],
            "type": "contour"
           }
          ],
          "contourcarpet": [
           {
            "colorbar": {
             "outlinewidth": 0,
             "ticks": ""
            },
            "type": "contourcarpet"
           }
          ],
          "heatmap": [
           {
            "colorbar": {
             "outlinewidth": 0,
             "ticks": ""
            },
            "colorscale": [
             [
              0,
              "#0d0887"
             ],
             [
              0.1111111111111111,
              "#46039f"
             ],
             [
              0.2222222222222222,
              "#7201a8"
             ],
             [
              0.3333333333333333,
              "#9c179e"
             ],
             [
              0.4444444444444444,
              "#bd3786"
             ],
             [
              0.5555555555555556,
              "#d8576b"
             ],
             [
              0.6666666666666666,
              "#ed7953"
             ],
             [
              0.7777777777777778,
              "#fb9f3a"
             ],
             [
              0.8888888888888888,
              "#fdca26"
             ],
             [
              1,
              "#f0f921"
             ]
            ],
            "type": "heatmap"
           }
          ],
          "heatmapgl": [
           {
            "colorbar": {
             "outlinewidth": 0,
             "ticks": ""
            },
            "colorscale": [
             [
              0,
              "#0d0887"
             ],
             [
              0.1111111111111111,
              "#46039f"
             ],
             [
              0.2222222222222222,
              "#7201a8"
             ],
             [
              0.3333333333333333,
              "#9c179e"
             ],
             [
              0.4444444444444444,
              "#bd3786"
             ],
             [
              0.5555555555555556,
              "#d8576b"
             ],
             [
              0.6666666666666666,
              "#ed7953"
             ],
             [
              0.7777777777777778,
              "#fb9f3a"
             ],
             [
              0.8888888888888888,
              "#fdca26"
             ],
             [
              1,
              "#f0f921"
             ]
            ],
            "type": "heatmapgl"
           }
          ],
          "histogram": [
           {
            "marker": {
             "colorbar": {
              "outlinewidth": 0,
              "ticks": ""
             }
            },
            "type": "histogram"
           }
          ],
          "histogram2d": [
           {
            "colorbar": {
             "outlinewidth": 0,
             "ticks": ""
            },
            "colorscale": [
             [
              0,
              "#0d0887"
             ],
             [
              0.1111111111111111,
              "#46039f"
             ],
             [
              0.2222222222222222,
              "#7201a8"
             ],
             [
              0.3333333333333333,
              "#9c179e"
             ],
             [
              0.4444444444444444,
              "#bd3786"
             ],
             [
              0.5555555555555556,
              "#d8576b"
             ],
             [
              0.6666666666666666,
              "#ed7953"
             ],
             [
              0.7777777777777778,
              "#fb9f3a"
             ],
             [
              0.8888888888888888,
              "#fdca26"
             ],
             [
              1,
              "#f0f921"
             ]
            ],
            "type": "histogram2d"
           }
          ],
          "histogram2dcontour": [
           {
            "colorbar": {
             "outlinewidth": 0,
             "ticks": ""
            },
            "colorscale": [
             [
              0,
              "#0d0887"
             ],
             [
              0.1111111111111111,
              "#46039f"
             ],
             [
              0.2222222222222222,
              "#7201a8"
             ],
             [
              0.3333333333333333,
              "#9c179e"
             ],
             [
              0.4444444444444444,
              "#bd3786"
             ],
             [
              0.5555555555555556,
              "#d8576b"
             ],
             [
              0.6666666666666666,
              "#ed7953"
             ],
             [
              0.7777777777777778,
              "#fb9f3a"
             ],
             [
              0.8888888888888888,
              "#fdca26"
             ],
             [
              1,
              "#f0f921"
             ]
            ],
            "type": "histogram2dcontour"
           }
          ],
          "mesh3d": [
           {
            "colorbar": {
             "outlinewidth": 0,
             "ticks": ""
            },
            "type": "mesh3d"
           }
          ],
          "parcoords": [
           {
            "line": {
             "colorbar": {
              "outlinewidth": 0,
              "ticks": ""
             }
            },
            "type": "parcoords"
           }
          ],
          "pie": [
           {
            "automargin": true,
            "type": "pie"
           }
          ],
          "scatter": [
           {
            "marker": {
             "colorbar": {
              "outlinewidth": 0,
              "ticks": ""
             }
            },
            "type": "scatter"
           }
          ],
          "scatter3d": [
           {
            "line": {
             "colorbar": {
              "outlinewidth": 0,
              "ticks": ""
             }
            },
            "marker": {
             "colorbar": {
              "outlinewidth": 0,
              "ticks": ""
             }
            },
            "type": "scatter3d"
           }
          ],
          "scattercarpet": [
           {
            "marker": {
             "colorbar": {
              "outlinewidth": 0,
              "ticks": ""
             }
            },
            "type": "scattercarpet"
           }
          ],
          "scattergeo": [
           {
            "marker": {
             "colorbar": {
              "outlinewidth": 0,
              "ticks": ""
             }
            },
            "type": "scattergeo"
           }
          ],
          "scattergl": [
           {
            "marker": {
             "colorbar": {
              "outlinewidth": 0,
              "ticks": ""
             }
            },
            "type": "scattergl"
           }
          ],
          "scattermapbox": [
           {
            "marker": {
             "colorbar": {
              "outlinewidth": 0,
              "ticks": ""
             }
            },
            "type": "scattermapbox"
           }
          ],
          "scatterpolar": [
           {
            "marker": {
             "colorbar": {
              "outlinewidth": 0,
              "ticks": ""
             }
            },
            "type": "scatterpolar"
           }
          ],
          "scatterpolargl": [
           {
            "marker": {
             "colorbar": {
              "outlinewidth": 0,
              "ticks": ""
             }
            },
            "type": "scatterpolargl"
           }
          ],
          "scatterternary": [
           {
            "marker": {
             "colorbar": {
              "outlinewidth": 0,
              "ticks": ""
             }
            },
            "type": "scatterternary"
           }
          ],
          "surface": [
           {
            "colorbar": {
             "outlinewidth": 0,
             "ticks": ""
            },
            "colorscale": [
             [
              0,
              "#0d0887"
             ],
             [
              0.1111111111111111,
              "#46039f"
             ],
             [
              0.2222222222222222,
              "#7201a8"
             ],
             [
              0.3333333333333333,
              "#9c179e"
             ],
             [
              0.4444444444444444,
              "#bd3786"
             ],
             [
              0.5555555555555556,
              "#d8576b"
             ],
             [
              0.6666666666666666,
              "#ed7953"
             ],
             [
              0.7777777777777778,
              "#fb9f3a"
             ],
             [
              0.8888888888888888,
              "#fdca26"
             ],
             [
              1,
              "#f0f921"
             ]
            ],
            "type": "surface"
           }
          ],
          "table": [
           {
            "cells": {
             "fill": {
              "color": "#EBF0F8"
             },
             "line": {
              "color": "white"
             }
            },
            "header": {
             "fill": {
              "color": "#C8D4E3"
             },
             "line": {
              "color": "white"
             }
            },
            "type": "table"
           }
          ]
         },
         "layout": {
          "annotationdefaults": {
           "arrowcolor": "#2a3f5f",
           "arrowhead": 0,
           "arrowwidth": 1
          },
          "autotypenumbers": "strict",
          "coloraxis": {
           "colorbar": {
            "outlinewidth": 0,
            "ticks": ""
           }
          },
          "colorscale": {
           "diverging": [
            [
             0,
             "#8e0152"
            ],
            [
             0.1,
             "#c51b7d"
            ],
            [
             0.2,
             "#de77ae"
            ],
            [
             0.3,
             "#f1b6da"
            ],
            [
             0.4,
             "#fde0ef"
            ],
            [
             0.5,
             "#f7f7f7"
            ],
            [
             0.6,
             "#e6f5d0"
            ],
            [
             0.7,
             "#b8e186"
            ],
            [
             0.8,
             "#7fbc41"
            ],
            [
             0.9,
             "#4d9221"
            ],
            [
             1,
             "#276419"
            ]
           ],
           "sequential": [
            [
             0,
             "#0d0887"
            ],
            [
             0.1111111111111111,
             "#46039f"
            ],
            [
             0.2222222222222222,
             "#7201a8"
            ],
            [
             0.3333333333333333,
             "#9c179e"
            ],
            [
             0.4444444444444444,
             "#bd3786"
            ],
            [
             0.5555555555555556,
             "#d8576b"
            ],
            [
             0.6666666666666666,
             "#ed7953"
            ],
            [
             0.7777777777777778,
             "#fb9f3a"
            ],
            [
             0.8888888888888888,
             "#fdca26"
            ],
            [
             1,
             "#f0f921"
            ]
           ],
           "sequentialminus": [
            [
             0,
             "#0d0887"
            ],
            [
             0.1111111111111111,
             "#46039f"
            ],
            [
             0.2222222222222222,
             "#7201a8"
            ],
            [
             0.3333333333333333,
             "#9c179e"
            ],
            [
             0.4444444444444444,
             "#bd3786"
            ],
            [
             0.5555555555555556,
             "#d8576b"
            ],
            [
             0.6666666666666666,
             "#ed7953"
            ],
            [
             0.7777777777777778,
             "#fb9f3a"
            ],
            [
             0.8888888888888888,
             "#fdca26"
            ],
            [
             1,
             "#f0f921"
            ]
           ]
          },
          "colorway": [
           "#636efa",
           "#EF553B",
           "#00cc96",
           "#ab63fa",
           "#FFA15A",
           "#19d3f3",
           "#FF6692",
           "#B6E880",
           "#FF97FF",
           "#FECB52"
          ],
          "font": {
           "color": "#2a3f5f"
          },
          "geo": {
           "bgcolor": "white",
           "lakecolor": "white",
           "landcolor": "#E5ECF6",
           "showlakes": true,
           "showland": true,
           "subunitcolor": "white"
          },
          "hoverlabel": {
           "align": "left"
          },
          "hovermode": "closest",
          "mapbox": {
           "style": "light"
          },
          "paper_bgcolor": "white",
          "plot_bgcolor": "#E5ECF6",
          "polar": {
           "angularaxis": {
            "gridcolor": "white",
            "linecolor": "white",
            "ticks": ""
           },
           "bgcolor": "#E5ECF6",
           "radialaxis": {
            "gridcolor": "white",
            "linecolor": "white",
            "ticks": ""
           }
          },
          "scene": {
           "xaxis": {
            "backgroundcolor": "#E5ECF6",
            "gridcolor": "white",
            "gridwidth": 2,
            "linecolor": "white",
            "showbackground": true,
            "ticks": "",
            "zerolinecolor": "white"
           },
           "yaxis": {
            "backgroundcolor": "#E5ECF6",
            "gridcolor": "white",
            "gridwidth": 2,
            "linecolor": "white",
            "showbackground": true,
            "ticks": "",
            "zerolinecolor": "white"
           },
           "zaxis": {
            "backgroundcolor": "#E5ECF6",
            "gridcolor": "white",
            "gridwidth": 2,
            "linecolor": "white",
            "showbackground": true,
            "ticks": "",
            "zerolinecolor": "white"
           }
          },
          "shapedefaults": {
           "line": {
            "color": "#2a3f5f"
           }
          },
          "ternary": {
           "aaxis": {
            "gridcolor": "white",
            "linecolor": "white",
            "ticks": ""
           },
           "baxis": {
            "gridcolor": "white",
            "linecolor": "white",
            "ticks": ""
           },
           "bgcolor": "#E5ECF6",
           "caxis": {
            "gridcolor": "white",
            "linecolor": "white",
            "ticks": ""
           }
          },
          "title": {
           "x": 0.05
          },
          "xaxis": {
           "automargin": true,
           "gridcolor": "white",
           "linecolor": "white",
           "ticks": "",
           "title": {
            "standoff": 15
           },
           "zerolinecolor": "white",
           "zerolinewidth": 2
          },
          "yaxis": {
           "automargin": true,
           "gridcolor": "white",
           "linecolor": "white",
           "ticks": "",
           "title": {
            "standoff": 15
           },
           "zerolinecolor": "white",
           "zerolinewidth": 2
          }
         }
        },
        "title": {
         "font": {
          "color": "#4D5663"
         }
        },
        "xaxis": {
         "gridcolor": "#E1E5ED",
         "showgrid": true,
         "tickfont": {
          "color": "#4D5663"
         },
         "title": {
          "font": {
           "color": "#4D5663"
          },
          "text": ""
         },
         "zerolinecolor": "#E1E5ED"
        },
        "yaxis": {
         "gridcolor": "#E1E5ED",
         "showgrid": true,
         "tickfont": {
          "color": "#4D5663"
         },
         "title": {
          "font": {
           "color": "#4D5663"
          },
          "text": ""
         },
         "zerolinecolor": "#E1E5ED"
        }
       }
      },
      "text/html": [
       "<div>                            <div id=\"f904a6ad-fe96-49ba-bc19-3bdbdfbed556\" class=\"plotly-graph-div\" style=\"height:525px; width:100%;\"></div>            <script type=\"text/javascript\">                require([\"plotly\"], function(Plotly) {                    window.PLOTLYENV=window.PLOTLYENV || {};\n",
       "                    window.PLOTLYENV.BASE_URL='https://plot.ly';                                    if (document.getElementById(\"f904a6ad-fe96-49ba-bc19-3bdbdfbed556\")) {                    Plotly.newPlot(                        \"f904a6ad-fe96-49ba-bc19-3bdbdfbed556\",                        [{\"marker\": {\"color\": [\"rgb(255, 153, 51)\", \"rgb(55, 128, 191)\", \"rgb(50, 171, 96)\", \"rgb(128, 0, 128)\", \"rgb(219, 64, 82)\", \"rgb(0, 128, 128)\", \"rgb(255, 255, 51)\", \"rgb(128, 128, 0)\", \"rgb(251, 128, 114)\", \"rgb(128, 177, 211)\"], \"line\": {\"width\": 1.3}, \"size\": [33, 69, 80, 45, 66, 23, 54, 23, 62, 52, 69, 35, 83, 42, 48, 83, 78, 57, 72, 52, 70, 53, 27, 45, 49, 102, 26, 56, 42, 15, 39, 26, 60, 64, 85, 59, 41, 35, 55, 80, 59, 74, 78, 39, 81, 38, 26, 57, 63, 32, 34, 34, 80, 57, 60, 38, 58, 72, 67, 44, 36, 42, 77, 17, 57, 49, 68, 81, 41, 47, 49, 40, 81, 27, 12, 17, 57, 19, 49, 97, 26, 80, 17, 60, 76, 73, 44, 61, 67, 40, 70, 51, 60, 112, 98, 66, 53, 63, 47, 25], \"symbol\": \"circle\"}, \"mode\": \"markers\", \"text\": \"\", \"type\": \"scatter\", \"x\": [-1.6437536111521518, 0.6236334115580212, 0.3632305334696795, 0.7803939112591669, 0.7742854821151604, -1.0391624009931515, 1.0889561004772061, -0.8820807905725819, -0.09884950690901928, -2.5490967634952577, -1.4465866453633747, -0.4296122350300794, 0.9907776802326949, 2.2655549907972725, 1.1436740283221893, 0.33666342394404386, 0.08937447215462413, -1.046283324201508, -0.3732597314122444, 1.4268298589473511, 0.8619658253130911, -1.5487963505620657, 1.6661593485730637, 0.7491924544143039, 0.621561413774492, 0.2915885975878172, 2.0385417913239405, 1.4244902846641307, -2.159052691440464, 0.5423476711114913, -1.6789323696099687, -0.5446205803784033, 0.387883477755812, -0.22903596434654588, -1.6505967844835412, -0.32881281216744135, 0.6779154927169985, 1.3681067471795663, 0.26225857285756615, -1.9011589892879166, 1.1409349082330473, -0.9589009714325152, 0.03238371011666432, -0.10655362520754084, 0.05927441822569643, 0.42049964960882447, 1.329575920257925, 1.285081393630453, 0.36005982323576674, 0.6358536168798995, 0.2025560884588064, 0.10886754236829017, 0.4269229835904177, 0.14374785684194905, -0.020302072847358597, -0.4560210194505382, 1.8347967740322737, -0.5006575216944982, 1.6792441205485138, 0.44958872515811443, 0.7598644337110251, -1.326566371218351, -1.111550193856778, 1.2756505190831742, 0.7823229849163477, -1.1681639647040756, 0.5987424260829366, 1.4530772148308835, -0.1540334211090501, -0.6605279285668003, -0.5120412364212491, 0.49300018525610345, -1.7204737222447415, -0.13851095685665482, -0.3588646633355994, -0.672204763993229, -0.14758595118924844, -0.7408629549882537, -1.2913725572359855, 1.5473308090202944, 1.318762193807283, 0.259797984036728, -0.40385400584752457, -0.05074138338280163, -0.5739011980296671, 0.43687851240248043, 1.005132152855596, 0.15754796130132306, 0.06280552804167883, -0.28111370074712844, 0.14489460641954385, 0.5492176924141802, -2.1359048816395925, -0.2445338170684625, 0.38474457301952225, 0.014189266045035662, 2.148224956400063, -0.9306543355294326, 1.4984469196272776, -0.23426698205439314], \"y\": [0.1997120436245693, 0.4014825437710733, -0.12801667220114157, 0.8107491846132913, 2.537350078887453, -0.9788869603880892, -1.3378194669617782, -0.23426486866532062, 0.8757742912539805, -2.0227454095445996, -0.017483907928513998, -0.8504064065218876, 0.8995122342064306, -3.1965038729005197, -0.04595877243296813, 1.565774686594166, 0.27195711823104024, 2.634779913469022, -0.6128501112350614, -0.9381204025498604, 2.2254029657148604, 0.6617734913093654, 0.1729274366607718, 0.6373609822877407, 0.8180905913547657, 0.6994384744369971, -1.0575377803413366, 0.22628233151882693, 2.329320119524522, -1.112061440235663, 0.2515419041896052, -0.2696718165056928, -0.700689498410336, 1.2123048002103898, -0.9600121886012616, -0.22177492689954934, 0.8970292263888108, 1.9660366494708446, 1.2700402043716204, -1.3259086935966156, -0.1092438311787329, -1.3838336167537948, 1.309337408044333, 0.7369189504715908, 0.9793750111708072, 0.8386959382263741, -2.6014199515774523, -1.9395491169488337, -0.24462832833871673, -0.012947003675194895, -0.9565473591206575, 1.5222970935820264, 1.1786194213689853, -0.3165252186143081, 0.5985585830972404, 1.8747596870918923, 0.2419895523466944, -0.13521215456938623, -0.9040822120120701, -1.0667699555127341, 0.32824617656830496, -0.6588345803353914, 1.0699286027722748, -0.13033161196575843, 0.9141706936213561, 1.0637960589927955, -0.10995148242640611, -1.0457235356110008, 0.027499397592431904, -0.8941576216741033, -0.9020235485999063, 0.09023310607670769, 1.8798418811465476, -2.0013537041552185, 0.5032533708041967, -0.2601989552156913, -0.6770761470398742, -0.3487762448643428, 0.3153186836920095, -0.5414590270345206, 0.28405741070812984, -0.07609106182259144, 0.11656621405857027, 0.18821641130543096, -2.2009179559698975, 1.0178362295224403, 0.5121863442190329, 0.6981423101951505, -1.6899453376912257, 0.7222069010847146, -1.3348502683292458, 0.004150585252992694, 0.6635657982770735, -0.5646265666014189, 0.12493662861316242, -0.6843670840702347, -0.13592666505323378, 0.18138101579973953, 0.5838414942921941, 1.1556173562342535]}],                        {\"legend\": {\"bgcolor\": \"#F5F6F9\", \"font\": {\"color\": \"#4D5663\"}}, \"paper_bgcolor\": \"#F5F6F9\", \"plot_bgcolor\": \"#F5F6F9\", \"template\": {\"data\": {\"bar\": [{\"error_x\": {\"color\": \"#2a3f5f\"}, \"error_y\": {\"color\": \"#2a3f5f\"}, \"marker\": {\"line\": {\"color\": \"#E5ECF6\", \"width\": 0.5}}, \"type\": \"bar\"}], \"barpolar\": [{\"marker\": {\"line\": {\"color\": \"#E5ECF6\", \"width\": 0.5}}, \"type\": \"barpolar\"}], \"carpet\": [{\"aaxis\": {\"endlinecolor\": \"#2a3f5f\", \"gridcolor\": \"white\", \"linecolor\": \"white\", \"minorgridcolor\": \"white\", \"startlinecolor\": \"#2a3f5f\"}, \"baxis\": {\"endlinecolor\": \"#2a3f5f\", \"gridcolor\": \"white\", \"linecolor\": \"white\", \"minorgridcolor\": \"white\", \"startlinecolor\": \"#2a3f5f\"}, \"type\": \"carpet\"}], \"choropleth\": [{\"colorbar\": {\"outlinewidth\": 0, \"ticks\": \"\"}, \"type\": \"choropleth\"}], \"contour\": [{\"colorbar\": {\"outlinewidth\": 0, \"ticks\": \"\"}, \"colorscale\": [[0.0, \"#0d0887\"], [0.1111111111111111, \"#46039f\"], [0.2222222222222222, \"#7201a8\"], [0.3333333333333333, \"#9c179e\"], [0.4444444444444444, \"#bd3786\"], [0.5555555555555556, \"#d8576b\"], [0.6666666666666666, \"#ed7953\"], [0.7777777777777778, \"#fb9f3a\"], [0.8888888888888888, \"#fdca26\"], [1.0, \"#f0f921\"]], \"type\": \"contour\"}], \"contourcarpet\": [{\"colorbar\": {\"outlinewidth\": 0, \"ticks\": \"\"}, \"type\": \"contourcarpet\"}], \"heatmap\": [{\"colorbar\": {\"outlinewidth\": 0, \"ticks\": \"\"}, \"colorscale\": [[0.0, \"#0d0887\"], [0.1111111111111111, \"#46039f\"], [0.2222222222222222, \"#7201a8\"], [0.3333333333333333, \"#9c179e\"], [0.4444444444444444, \"#bd3786\"], [0.5555555555555556, \"#d8576b\"], [0.6666666666666666, \"#ed7953\"], [0.7777777777777778, \"#fb9f3a\"], [0.8888888888888888, \"#fdca26\"], [1.0, \"#f0f921\"]], \"type\": \"heatmap\"}], \"heatmapgl\": [{\"colorbar\": {\"outlinewidth\": 0, \"ticks\": \"\"}, \"colorscale\": [[0.0, \"#0d0887\"], [0.1111111111111111, \"#46039f\"], [0.2222222222222222, \"#7201a8\"], [0.3333333333333333, \"#9c179e\"], [0.4444444444444444, \"#bd3786\"], [0.5555555555555556, \"#d8576b\"], [0.6666666666666666, \"#ed7953\"], [0.7777777777777778, \"#fb9f3a\"], [0.8888888888888888, \"#fdca26\"], [1.0, \"#f0f921\"]], \"type\": \"heatmapgl\"}], \"histogram\": [{\"marker\": {\"colorbar\": {\"outlinewidth\": 0, \"ticks\": \"\"}}, \"type\": \"histogram\"}], \"histogram2d\": [{\"colorbar\": {\"outlinewidth\": 0, \"ticks\": \"\"}, \"colorscale\": [[0.0, \"#0d0887\"], [0.1111111111111111, \"#46039f\"], [0.2222222222222222, \"#7201a8\"], [0.3333333333333333, \"#9c179e\"], [0.4444444444444444, \"#bd3786\"], [0.5555555555555556, \"#d8576b\"], [0.6666666666666666, \"#ed7953\"], [0.7777777777777778, \"#fb9f3a\"], [0.8888888888888888, \"#fdca26\"], [1.0, \"#f0f921\"]], \"type\": \"histogram2d\"}], \"histogram2dcontour\": [{\"colorbar\": {\"outlinewidth\": 0, \"ticks\": \"\"}, \"colorscale\": [[0.0, \"#0d0887\"], [0.1111111111111111, \"#46039f\"], [0.2222222222222222, \"#7201a8\"], [0.3333333333333333, \"#9c179e\"], [0.4444444444444444, \"#bd3786\"], [0.5555555555555556, \"#d8576b\"], [0.6666666666666666, \"#ed7953\"], [0.7777777777777778, \"#fb9f3a\"], [0.8888888888888888, \"#fdca26\"], [1.0, \"#f0f921\"]], \"type\": \"histogram2dcontour\"}], \"mesh3d\": [{\"colorbar\": {\"outlinewidth\": 0, \"ticks\": \"\"}, \"type\": \"mesh3d\"}], \"parcoords\": [{\"line\": {\"colorbar\": {\"outlinewidth\": 0, \"ticks\": \"\"}}, \"type\": \"parcoords\"}], \"pie\": [{\"automargin\": true, \"type\": \"pie\"}], \"scatter\": [{\"marker\": {\"colorbar\": {\"outlinewidth\": 0, \"ticks\": \"\"}}, \"type\": \"scatter\"}], \"scatter3d\": [{\"line\": {\"colorbar\": {\"outlinewidth\": 0, \"ticks\": \"\"}}, \"marker\": {\"colorbar\": {\"outlinewidth\": 0, \"ticks\": \"\"}}, \"type\": \"scatter3d\"}], \"scattercarpet\": [{\"marker\": {\"colorbar\": {\"outlinewidth\": 0, \"ticks\": \"\"}}, \"type\": \"scattercarpet\"}], \"scattergeo\": [{\"marker\": {\"colorbar\": {\"outlinewidth\": 0, \"ticks\": \"\"}}, \"type\": \"scattergeo\"}], \"scattergl\": [{\"marker\": {\"colorbar\": {\"outlinewidth\": 0, \"ticks\": \"\"}}, \"type\": \"scattergl\"}], \"scattermapbox\": [{\"marker\": {\"colorbar\": {\"outlinewidth\": 0, \"ticks\": \"\"}}, \"type\": \"scattermapbox\"}], \"scatterpolar\": [{\"marker\": {\"colorbar\": {\"outlinewidth\": 0, \"ticks\": \"\"}}, \"type\": \"scatterpolar\"}], \"scatterpolargl\": [{\"marker\": {\"colorbar\": {\"outlinewidth\": 0, \"ticks\": \"\"}}, \"type\": \"scatterpolargl\"}], \"scatterternary\": [{\"marker\": {\"colorbar\": {\"outlinewidth\": 0, \"ticks\": \"\"}}, \"type\": \"scatterternary\"}], \"surface\": [{\"colorbar\": {\"outlinewidth\": 0, \"ticks\": \"\"}, \"colorscale\": [[0.0, \"#0d0887\"], [0.1111111111111111, \"#46039f\"], [0.2222222222222222, \"#7201a8\"], [0.3333333333333333, \"#9c179e\"], [0.4444444444444444, \"#bd3786\"], [0.5555555555555556, \"#d8576b\"], [0.6666666666666666, \"#ed7953\"], [0.7777777777777778, \"#fb9f3a\"], [0.8888888888888888, \"#fdca26\"], [1.0, \"#f0f921\"]], \"type\": \"surface\"}], \"table\": [{\"cells\": {\"fill\": {\"color\": \"#EBF0F8\"}, \"line\": {\"color\": \"white\"}}, \"header\": {\"fill\": {\"color\": \"#C8D4E3\"}, \"line\": {\"color\": \"white\"}}, \"type\": \"table\"}]}, \"layout\": {\"annotationdefaults\": {\"arrowcolor\": \"#2a3f5f\", \"arrowhead\": 0, \"arrowwidth\": 1}, \"autotypenumbers\": \"strict\", \"coloraxis\": {\"colorbar\": {\"outlinewidth\": 0, \"ticks\": \"\"}}, \"colorscale\": {\"diverging\": [[0, \"#8e0152\"], [0.1, \"#c51b7d\"], [0.2, \"#de77ae\"], [0.3, \"#f1b6da\"], [0.4, \"#fde0ef\"], [0.5, \"#f7f7f7\"], [0.6, \"#e6f5d0\"], [0.7, \"#b8e186\"], [0.8, \"#7fbc41\"], [0.9, \"#4d9221\"], [1, \"#276419\"]], \"sequential\": [[0.0, \"#0d0887\"], [0.1111111111111111, \"#46039f\"], [0.2222222222222222, \"#7201a8\"], [0.3333333333333333, \"#9c179e\"], [0.4444444444444444, \"#bd3786\"], [0.5555555555555556, \"#d8576b\"], [0.6666666666666666, \"#ed7953\"], [0.7777777777777778, \"#fb9f3a\"], [0.8888888888888888, \"#fdca26\"], [1.0, \"#f0f921\"]], \"sequentialminus\": [[0.0, \"#0d0887\"], [0.1111111111111111, \"#46039f\"], [0.2222222222222222, \"#7201a8\"], [0.3333333333333333, \"#9c179e\"], [0.4444444444444444, \"#bd3786\"], [0.5555555555555556, \"#d8576b\"], [0.6666666666666666, \"#ed7953\"], [0.7777777777777778, \"#fb9f3a\"], [0.8888888888888888, \"#fdca26\"], [1.0, \"#f0f921\"]]}, \"colorway\": [\"#636efa\", \"#EF553B\", \"#00cc96\", \"#ab63fa\", \"#FFA15A\", \"#19d3f3\", \"#FF6692\", \"#B6E880\", \"#FF97FF\", \"#FECB52\"], \"font\": {\"color\": \"#2a3f5f\"}, \"geo\": {\"bgcolor\": \"white\", \"lakecolor\": \"white\", \"landcolor\": \"#E5ECF6\", \"showlakes\": true, \"showland\": true, \"subunitcolor\": \"white\"}, \"hoverlabel\": {\"align\": \"left\"}, \"hovermode\": \"closest\", \"mapbox\": {\"style\": \"light\"}, \"paper_bgcolor\": \"white\", \"plot_bgcolor\": \"#E5ECF6\", \"polar\": {\"angularaxis\": {\"gridcolor\": \"white\", \"linecolor\": \"white\", \"ticks\": \"\"}, \"bgcolor\": \"#E5ECF6\", \"radialaxis\": {\"gridcolor\": \"white\", \"linecolor\": \"white\", \"ticks\": \"\"}}, \"scene\": {\"xaxis\": {\"backgroundcolor\": \"#E5ECF6\", \"gridcolor\": \"white\", \"gridwidth\": 2, \"linecolor\": \"white\", \"showbackground\": true, \"ticks\": \"\", \"zerolinecolor\": \"white\"}, \"yaxis\": {\"backgroundcolor\": \"#E5ECF6\", \"gridcolor\": \"white\", \"gridwidth\": 2, \"linecolor\": \"white\", \"showbackground\": true, \"ticks\": \"\", \"zerolinecolor\": \"white\"}, \"zaxis\": {\"backgroundcolor\": \"#E5ECF6\", \"gridcolor\": \"white\", \"gridwidth\": 2, \"linecolor\": \"white\", \"showbackground\": true, \"ticks\": \"\", \"zerolinecolor\": \"white\"}}, \"shapedefaults\": {\"line\": {\"color\": \"#2a3f5f\"}}, \"ternary\": {\"aaxis\": {\"gridcolor\": \"white\", \"linecolor\": \"white\", \"ticks\": \"\"}, \"baxis\": {\"gridcolor\": \"white\", \"linecolor\": \"white\", \"ticks\": \"\"}, \"bgcolor\": \"#E5ECF6\", \"caxis\": {\"gridcolor\": \"white\", \"linecolor\": \"white\", \"ticks\": \"\"}}, \"title\": {\"x\": 0.05}, \"xaxis\": {\"automargin\": true, \"gridcolor\": \"white\", \"linecolor\": \"white\", \"ticks\": \"\", \"title\": {\"standoff\": 15}, \"zerolinecolor\": \"white\", \"zerolinewidth\": 2}, \"yaxis\": {\"automargin\": true, \"gridcolor\": \"white\", \"linecolor\": \"white\", \"ticks\": \"\", \"title\": {\"standoff\": 15}, \"zerolinecolor\": \"white\", \"zerolinewidth\": 2}}}, \"title\": {\"font\": {\"color\": \"#4D5663\"}}, \"xaxis\": {\"gridcolor\": \"#E1E5ED\", \"showgrid\": true, \"tickfont\": {\"color\": \"#4D5663\"}, \"title\": {\"font\": {\"color\": \"#4D5663\"}, \"text\": \"\"}, \"zerolinecolor\": \"#E1E5ED\"}, \"yaxis\": {\"gridcolor\": \"#E1E5ED\", \"showgrid\": true, \"tickfont\": {\"color\": \"#4D5663\"}, \"title\": {\"font\": {\"color\": \"#4D5663\"}, \"text\": \"\"}, \"zerolinecolor\": \"#E1E5ED\"}},                        {\"showLink\": true, \"linkText\": \"Export to plot.ly\", \"plotlyServerURL\": \"https://plot.ly\", \"responsive\": true}                    ).then(function(){\n",
       "                            \n",
       "var gd = document.getElementById('f904a6ad-fe96-49ba-bc19-3bdbdfbed556');\n",
       "var x = new MutationObserver(function (mutations, observer) {{\n",
       "        var display = window.getComputedStyle(gd).display;\n",
       "        if (!display || display === 'none') {{\n",
       "            console.log([gd, 'removed!']);\n",
       "            Plotly.purge(gd);\n",
       "            observer.disconnect();\n",
       "        }}\n",
       "}});\n",
       "\n",
       "// Listen for the removal of the full notebook cells\n",
       "var notebookContainer = gd.closest('#notebook-container');\n",
       "if (notebookContainer) {{\n",
       "    x.observe(notebookContainer, {childList: true});\n",
       "}}\n",
       "\n",
       "// Listen for the clearing of the current output cell\n",
       "var outputEl = gd.closest('.output');\n",
       "if (outputEl) {{\n",
       "    x.observe(outputEl, {childList: true});\n",
       "}}\n",
       "\n",
       "                        })                };                });            </script>        </div>"
      ]
     },
     "metadata": {},
     "output_type": "display_data"
    }
   ],
   "source": [
    "df.iplot(kind=\"bubble\",x=\"A\",y=\"B\",size=\"C\")"
   ]
  },
  {
   "cell_type": "code",
   "execution_count": 20,
   "metadata": {},
   "outputs": [
    {
     "data": {
      "application/vnd.plotly.v1+json": {
       "config": {
        "linkText": "Export to plot.ly",
        "plotlyServerURL": "https://plot.ly",
        "showLink": true
       },
       "data": [
        {
         "histfunc": "count",
         "histnorm": "",
         "marker": {
          "color": "rgba(255, 153, 51, 1.0)",
          "line": {
           "color": "#4D5663",
           "width": 1.3
          }
         },
         "name": "A",
         "nbinsx": 10,
         "opacity": 0.8,
         "orientation": "v",
         "type": "histogram",
         "x": [
          -1.6437536111521518,
          0.6236334115580212,
          0.3632305334696795,
          0.7803939112591669,
          0.7742854821151604,
          -1.0391624009931515,
          1.0889561004772061,
          -0.8820807905725819,
          -0.09884950690901928,
          -2.5490967634952577,
          -1.4465866453633747,
          -0.4296122350300794,
          0.9907776802326949,
          2.2655549907972725,
          1.1436740283221893,
          0.33666342394404386,
          0.08937447215462413,
          -1.046283324201508,
          -0.3732597314122444,
          1.4268298589473511,
          0.8619658253130911,
          -1.5487963505620657,
          1.6661593485730637,
          0.7491924544143039,
          0.621561413774492,
          0.2915885975878172,
          2.0385417913239405,
          1.4244902846641307,
          -2.159052691440464,
          0.5423476711114913,
          -1.6789323696099687,
          -0.5446205803784033,
          0.387883477755812,
          -0.22903596434654588,
          -1.6505967844835412,
          -0.32881281216744135,
          0.6779154927169985,
          1.3681067471795663,
          0.26225857285756615,
          -1.9011589892879166,
          1.1409349082330473,
          -0.9589009714325152,
          0.03238371011666432,
          -0.10655362520754084,
          0.05927441822569643,
          0.42049964960882447,
          1.329575920257925,
          1.285081393630453,
          0.36005982323576674,
          0.6358536168798995,
          0.2025560884588064,
          0.10886754236829017,
          0.4269229835904177,
          0.14374785684194905,
          -0.020302072847358597,
          -0.4560210194505382,
          1.8347967740322737,
          -0.5006575216944982,
          1.6792441205485138,
          0.44958872515811443,
          0.7598644337110251,
          -1.326566371218351,
          -1.111550193856778,
          1.2756505190831742,
          0.7823229849163477,
          -1.1681639647040756,
          0.5987424260829366,
          1.4530772148308835,
          -0.1540334211090501,
          -0.6605279285668003,
          -0.5120412364212491,
          0.49300018525610345,
          -1.7204737222447415,
          -0.13851095685665482,
          -0.3588646633355994,
          -0.672204763993229,
          -0.14758595118924844,
          -0.7408629549882537,
          -1.2913725572359855,
          1.5473308090202944,
          1.318762193807283,
          0.259797984036728,
          -0.40385400584752457,
          -0.05074138338280163,
          -0.5739011980296671,
          0.43687851240248043,
          1.005132152855596,
          0.15754796130132306,
          0.06280552804167883,
          -0.28111370074712844,
          0.14489460641954385,
          0.5492176924141802,
          -2.1359048816395925,
          -0.2445338170684625,
          0.38474457301952225,
          0.014189266045035662,
          2.148224956400063,
          -0.9306543355294326,
          1.4984469196272776,
          -0.23426698205439314
         ],
         "xaxis": "x",
         "yaxis": "y"
        },
        {
         "line": {
          "color": "rgba(128, 128, 128, 1.0)",
          "dash": "solid",
          "shape": "linear",
          "width": 1.3
         },
         "marker": {
          "size": 2,
          "symbol": "circle"
         },
         "mode": "markers",
         "name": "A",
         "text": "",
         "type": "scatter",
         "x": [
          0.1997120436245693,
          0.4014825437710733,
          -0.12801667220114157,
          0.8107491846132913,
          2.537350078887453,
          -0.9788869603880892,
          -1.3378194669617782,
          -0.23426486866532062,
          0.8757742912539805,
          -2.0227454095445996,
          -0.017483907928513998,
          -0.8504064065218876,
          0.8995122342064306,
          -3.1965038729005197,
          -0.04595877243296813,
          1.565774686594166,
          0.27195711823104024,
          2.634779913469022,
          -0.6128501112350614,
          -0.9381204025498604,
          2.2254029657148604,
          0.6617734913093654,
          0.1729274366607718,
          0.6373609822877407,
          0.8180905913547657,
          0.6994384744369971,
          -1.0575377803413366,
          0.22628233151882693,
          2.329320119524522,
          -1.112061440235663,
          0.2515419041896052,
          -0.2696718165056928,
          -0.700689498410336,
          1.2123048002103898,
          -0.9600121886012616,
          -0.22177492689954934,
          0.8970292263888108,
          1.9660366494708446,
          1.2700402043716204,
          -1.3259086935966156,
          -0.1092438311787329,
          -1.3838336167537948,
          1.309337408044333,
          0.7369189504715908,
          0.9793750111708072,
          0.8386959382263741,
          -2.6014199515774523,
          -1.9395491169488337,
          -0.24462832833871673,
          -0.012947003675194895,
          -0.9565473591206575,
          1.5222970935820264,
          1.1786194213689853,
          -0.3165252186143081,
          0.5985585830972404,
          1.8747596870918923,
          0.2419895523466944,
          -0.13521215456938623,
          -0.9040822120120701,
          -1.0667699555127341,
          0.32824617656830496,
          -0.6588345803353914,
          1.0699286027722748,
          -0.13033161196575843,
          0.9141706936213561,
          1.0637960589927955,
          -0.10995148242640611,
          -1.0457235356110008,
          0.027499397592431904,
          -0.8941576216741033,
          -0.9020235485999063,
          0.09023310607670769,
          1.8798418811465476,
          -2.0013537041552185,
          0.5032533708041967,
          -0.2601989552156913,
          -0.6770761470398742,
          -0.3487762448643428,
          0.3153186836920095,
          -0.5414590270345206,
          0.28405741070812984,
          -0.07609106182259144,
          0.11656621405857027,
          0.18821641130543096,
          -2.2009179559698975,
          1.0178362295224403,
          0.5121863442190329,
          0.6981423101951505,
          -1.6899453376912257,
          0.7222069010847146,
          -1.3348502683292458,
          0.004150585252992694,
          0.6635657982770735,
          -0.5646265666014189,
          0.12493662861316242,
          -0.6843670840702347,
          -0.13592666505323378,
          0.18138101579973953,
          0.5838414942921941,
          1.1556173562342535
         ],
         "xaxis": "x2",
         "y": [
          -1.6437536111521518,
          0.6236334115580212,
          0.3632305334696795,
          0.7803939112591669,
          0.7742854821151604,
          -1.0391624009931515,
          1.0889561004772061,
          -0.8820807905725819,
          -0.09884950690901928,
          -2.5490967634952577,
          -1.4465866453633747,
          -0.4296122350300794,
          0.9907776802326949,
          2.2655549907972725,
          1.1436740283221893,
          0.33666342394404386,
          0.08937447215462413,
          -1.046283324201508,
          -0.3732597314122444,
          1.4268298589473511,
          0.8619658253130911,
          -1.5487963505620657,
          1.6661593485730637,
          0.7491924544143039,
          0.621561413774492,
          0.2915885975878172,
          2.0385417913239405,
          1.4244902846641307,
          -2.159052691440464,
          0.5423476711114913,
          -1.6789323696099687,
          -0.5446205803784033,
          0.387883477755812,
          -0.22903596434654588,
          -1.6505967844835412,
          -0.32881281216744135,
          0.6779154927169985,
          1.3681067471795663,
          0.26225857285756615,
          -1.9011589892879166,
          1.1409349082330473,
          -0.9589009714325152,
          0.03238371011666432,
          -0.10655362520754084,
          0.05927441822569643,
          0.42049964960882447,
          1.329575920257925,
          1.285081393630453,
          0.36005982323576674,
          0.6358536168798995,
          0.2025560884588064,
          0.10886754236829017,
          0.4269229835904177,
          0.14374785684194905,
          -0.020302072847358597,
          -0.4560210194505382,
          1.8347967740322737,
          -0.5006575216944982,
          1.6792441205485138,
          0.44958872515811443,
          0.7598644337110251,
          -1.326566371218351,
          -1.111550193856778,
          1.2756505190831742,
          0.7823229849163477,
          -1.1681639647040756,
          0.5987424260829366,
          1.4530772148308835,
          -0.1540334211090501,
          -0.6605279285668003,
          -0.5120412364212491,
          0.49300018525610345,
          -1.7204737222447415,
          -0.13851095685665482,
          -0.3588646633355994,
          -0.672204763993229,
          -0.14758595118924844,
          -0.7408629549882537,
          -1.2913725572359855,
          1.5473308090202944,
          1.318762193807283,
          0.259797984036728,
          -0.40385400584752457,
          -0.05074138338280163,
          -0.5739011980296671,
          0.43687851240248043,
          1.005132152855596,
          0.15754796130132306,
          0.06280552804167883,
          -0.28111370074712844,
          0.14489460641954385,
          0.5492176924141802,
          -2.1359048816395925,
          -0.2445338170684625,
          0.38474457301952225,
          0.014189266045035662,
          2.148224956400063,
          -0.9306543355294326,
          1.4984469196272776,
          -0.23426698205439314
         ],
         "yaxis": "y2"
        },
        {
         "line": {
          "color": "rgba(128, 128, 128, 1.0)",
          "dash": "solid",
          "shape": "linear",
          "width": 1.3
         },
         "marker": {
          "size": 2,
          "symbol": "circle"
         },
         "mode": "markers",
         "name": "A",
         "text": "",
         "type": "scatter",
         "x": [
          -0.7635475220585797,
          0.7275465613950386,
          1.2106730592302932,
          -0.26808880557947223,
          0.6113539822345423,
          -1.214750884034707,
          0.0948462303068252,
          -1.195632383328205,
          0.4445681897608045,
          0.00232091623376802,
          0.723901448264587,
          -0.713979215671458,
          1.3280234720817723,
          -0.39311110566524465,
          -0.16345140137243752,
          1.3384534805882329,
          1.1001315909236695,
          0.21218038486150026,
          0.8779623997729757,
          0.02803609539212363,
          0.7929511094793856,
          0.06862649748601243,
          -1.018803700802844,
          -0.26509337320595466,
          -0.0889931535431639,
          2.1049720474640337,
          -1.0886218022894911,
          0.19200994679222705,
          -0.3861122196369465,
          -1.5227878826885317,
          -0.5120322669400799,
          -1.054211308029935,
          0.3571894984423901,
          0.5193026868821258,
          1.4232777799075593,
          0.3092638505419972,
          -0.4547563662144429,
          -0.67976756754685,
          0.15813432084671297,
          1.1981774787797457,
          0.2990881713852884,
          0.9232913729290833,
          1.1110736506500258,
          -0.5317450889314217,
          1.252034848940193,
          -0.5747947031124858,
          -1.0802543135391671,
          0.21595513424871368,
          0.4814244562208135,
          -0.8268567287355622,
          -0.7561373536785448,
          -0.7306924966238972,
          1.1947957263879965,
          0.2165257162846546,
          0.3396237334304019,
          -0.5576551232730913,
          0.2559146575946232,
          0.857038237618503,
          0.6481140692381244,
          -0.301654112349425,
          -0.6565900409778459,
          -0.40136202638992563,
          1.079027086193721,
          -1.4654074113328504,
          0.22806414173457362,
          -0.12046575105851924,
          0.6861665880060672,
          1.219739091463611,
          -0.43143287658116874,
          -0.19185607873873778,
          -0.11070832859732356,
          -0.4703477554472593,
          1.2167300209804561,
          -1.027506202862617,
          -1.6801079385214954,
          -1.4562809624135469,
          0.23396962506006988,
          -1.3463996276459578,
          -0.09149518233738907,
          1.9268597391661029,
          -1.06932101547924,
          1.204153751265953,
          -1.4495055769352365,
          0.37317334355852666,
          1.0450315678905135,
          0.9062777721000029,
          -0.3006642175307795,
          0.3975275531144573,
          0.635836243496414,
          -0.4754197287827103,
          0.7833751015051399,
          -0.04243868656607411,
          0.3486887706157529,
          2.5181293123660424,
          1.9490253243603444,
          0.6025809541825847,
          0.05800266255571208,
          0.46799447384150183,
          -0.18901297174740078,
          -1.1303547226766595
         ],
         "xaxis": "x3",
         "y": [
          -1.6437536111521518,
          0.6236334115580212,
          0.3632305334696795,
          0.7803939112591669,
          0.7742854821151604,
          -1.0391624009931515,
          1.0889561004772061,
          -0.8820807905725819,
          -0.09884950690901928,
          -2.5490967634952577,
          -1.4465866453633747,
          -0.4296122350300794,
          0.9907776802326949,
          2.2655549907972725,
          1.1436740283221893,
          0.33666342394404386,
          0.08937447215462413,
          -1.046283324201508,
          -0.3732597314122444,
          1.4268298589473511,
          0.8619658253130911,
          -1.5487963505620657,
          1.6661593485730637,
          0.7491924544143039,
          0.621561413774492,
          0.2915885975878172,
          2.0385417913239405,
          1.4244902846641307,
          -2.159052691440464,
          0.5423476711114913,
          -1.6789323696099687,
          -0.5446205803784033,
          0.387883477755812,
          -0.22903596434654588,
          -1.6505967844835412,
          -0.32881281216744135,
          0.6779154927169985,
          1.3681067471795663,
          0.26225857285756615,
          -1.9011589892879166,
          1.1409349082330473,
          -0.9589009714325152,
          0.03238371011666432,
          -0.10655362520754084,
          0.05927441822569643,
          0.42049964960882447,
          1.329575920257925,
          1.285081393630453,
          0.36005982323576674,
          0.6358536168798995,
          0.2025560884588064,
          0.10886754236829017,
          0.4269229835904177,
          0.14374785684194905,
          -0.020302072847358597,
          -0.4560210194505382,
          1.8347967740322737,
          -0.5006575216944982,
          1.6792441205485138,
          0.44958872515811443,
          0.7598644337110251,
          -1.326566371218351,
          -1.111550193856778,
          1.2756505190831742,
          0.7823229849163477,
          -1.1681639647040756,
          0.5987424260829366,
          1.4530772148308835,
          -0.1540334211090501,
          -0.6605279285668003,
          -0.5120412364212491,
          0.49300018525610345,
          -1.7204737222447415,
          -0.13851095685665482,
          -0.3588646633355994,
          -0.672204763993229,
          -0.14758595118924844,
          -0.7408629549882537,
          -1.2913725572359855,
          1.5473308090202944,
          1.318762193807283,
          0.259797984036728,
          -0.40385400584752457,
          -0.05074138338280163,
          -0.5739011980296671,
          0.43687851240248043,
          1.005132152855596,
          0.15754796130132306,
          0.06280552804167883,
          -0.28111370074712844,
          0.14489460641954385,
          0.5492176924141802,
          -2.1359048816395925,
          -0.2445338170684625,
          0.38474457301952225,
          0.014189266045035662,
          2.148224956400063,
          -0.9306543355294326,
          1.4984469196272776,
          -0.23426698205439314
         ],
         "yaxis": "y3"
        },
        {
         "line": {
          "color": "rgba(128, 128, 128, 1.0)",
          "dash": "solid",
          "shape": "linear",
          "width": 1.3
         },
         "marker": {
          "size": 2,
          "symbol": "circle"
         },
         "mode": "markers",
         "name": "A",
         "text": "",
         "type": "scatter",
         "x": [
          -0.13245030450514364,
          1.3090654496831373,
          0.5941034874725996,
          1.3384135152866654,
          -1.0530997292776216,
          1.9371791790234008,
          -0.9594274779282423,
          0.3078547729629255,
          1.7441823466769475,
          -0.09951392913240051,
          1.4355555549411385,
          0.3710727965237172,
          0.03374975359859986,
          -0.033479064173235706,
          -1.3665450741870664,
          0.22152886857406304,
          -0.5674491542831128,
          0.4587153411471475,
          0.4248257984021767,
          -0.6235717369069563,
          1.710146658764891,
          1.4098121814995066,
          -1.1274754409717573,
          0.6957888501265138,
          -1.1059917553459906,
          0.21130046830671764,
          -0.39564111141040675,
          -0.5798788175891483,
          -1.4251703850714619,
          -0.3129891502561077,
          0.4721896855766305,
          1.2806911306780764,
          -0.5343589299964965,
          -0.4888466988329627,
          -0.201050352276019,
          0.4015844429868238,
          1.1648370299558586,
          -0.6744640514699624,
          1.4175678671847494,
          -0.42929632456118305,
          -0.8394976099692066,
          -0.49802703221661765,
          0.38183772806856087,
          -0.0032499998252741727,
          1.4543067636878553,
          0.3910702976593195,
          0.003870755619403408,
          1.2896667549679,
          1.224421916039707,
          1.3344355771053826,
          1.5250482470987206,
          -1.9657127108424082,
          0.5590658834601998,
          -1.1976217219467151,
          -0.0488212368535531,
          -0.0906397146441149,
          -1.0654119498341241,
          -1.8808024512027708,
          -1.1163775860251197,
          -0.049107991126143856,
          -0.707384583106294,
          -0.7637002961689972,
          -0.8606711320580065,
          0.17817147440272832,
          -0.9446586767242249,
          -0.3631999980389838,
          1.3242270428031158,
          -0.7980788101588576,
          0.19890789884205137,
          0.5263478230076676,
          0.05618074411174819,
          1.1190310472224207,
          1.1549808215813724,
          0.10379562374333628,
          -0.397758529607837,
          -0.35789023929608244,
          2.966904904253891,
          -0.4274498902723708,
          -1.1872459785099456,
          -1.2472082324945206,
          1.8599860272482274,
          0.6024133519643031,
          0.25654030035368325,
          -1.8243553827834675,
          0.937221973717681,
          -1.752472730183518,
          -0.45837441861259437,
          -0.4090614683198603,
          1.003333450424868,
          0.1122618715732058,
          -1.3235108512525702,
          1.127613144563296,
          0.045354560188719195,
          0.7218142655403719,
          0.4003629839392785,
          -0.3052701998445313,
          1.3713091367297658,
          -2.5332123573589964,
          0.9564787407896036,
          -0.21761251009317298
         ],
         "xaxis": "x4",
         "y": [
          -1.6437536111521518,
          0.6236334115580212,
          0.3632305334696795,
          0.7803939112591669,
          0.7742854821151604,
          -1.0391624009931515,
          1.0889561004772061,
          -0.8820807905725819,
          -0.09884950690901928,
          -2.5490967634952577,
          -1.4465866453633747,
          -0.4296122350300794,
          0.9907776802326949,
          2.2655549907972725,
          1.1436740283221893,
          0.33666342394404386,
          0.08937447215462413,
          -1.046283324201508,
          -0.3732597314122444,
          1.4268298589473511,
          0.8619658253130911,
          -1.5487963505620657,
          1.6661593485730637,
          0.7491924544143039,
          0.621561413774492,
          0.2915885975878172,
          2.0385417913239405,
          1.4244902846641307,
          -2.159052691440464,
          0.5423476711114913,
          -1.6789323696099687,
          -0.5446205803784033,
          0.387883477755812,
          -0.22903596434654588,
          -1.6505967844835412,
          -0.32881281216744135,
          0.6779154927169985,
          1.3681067471795663,
          0.26225857285756615,
          -1.9011589892879166,
          1.1409349082330473,
          -0.9589009714325152,
          0.03238371011666432,
          -0.10655362520754084,
          0.05927441822569643,
          0.42049964960882447,
          1.329575920257925,
          1.285081393630453,
          0.36005982323576674,
          0.6358536168798995,
          0.2025560884588064,
          0.10886754236829017,
          0.4269229835904177,
          0.14374785684194905,
          -0.020302072847358597,
          -0.4560210194505382,
          1.8347967740322737,
          -0.5006575216944982,
          1.6792441205485138,
          0.44958872515811443,
          0.7598644337110251,
          -1.326566371218351,
          -1.111550193856778,
          1.2756505190831742,
          0.7823229849163477,
          -1.1681639647040756,
          0.5987424260829366,
          1.4530772148308835,
          -0.1540334211090501,
          -0.6605279285668003,
          -0.5120412364212491,
          0.49300018525610345,
          -1.7204737222447415,
          -0.13851095685665482,
          -0.3588646633355994,
          -0.672204763993229,
          -0.14758595118924844,
          -0.7408629549882537,
          -1.2913725572359855,
          1.5473308090202944,
          1.318762193807283,
          0.259797984036728,
          -0.40385400584752457,
          -0.05074138338280163,
          -0.5739011980296671,
          0.43687851240248043,
          1.005132152855596,
          0.15754796130132306,
          0.06280552804167883,
          -0.28111370074712844,
          0.14489460641954385,
          0.5492176924141802,
          -2.1359048816395925,
          -0.2445338170684625,
          0.38474457301952225,
          0.014189266045035662,
          2.148224956400063,
          -0.9306543355294326,
          1.4984469196272776,
          -0.23426698205439314
         ],
         "yaxis": "y4"
        },
        {
         "line": {
          "color": "rgba(128, 128, 128, 1.0)",
          "dash": "solid",
          "shape": "linear",
          "width": 1.3
         },
         "marker": {
          "size": 2,
          "symbol": "circle"
         },
         "mode": "markers",
         "name": "B",
         "text": "",
         "type": "scatter",
         "x": [
          -1.6437536111521518,
          0.6236334115580212,
          0.3632305334696795,
          0.7803939112591669,
          0.7742854821151604,
          -1.0391624009931515,
          1.0889561004772061,
          -0.8820807905725819,
          -0.09884950690901928,
          -2.5490967634952577,
          -1.4465866453633747,
          -0.4296122350300794,
          0.9907776802326949,
          2.2655549907972725,
          1.1436740283221893,
          0.33666342394404386,
          0.08937447215462413,
          -1.046283324201508,
          -0.3732597314122444,
          1.4268298589473511,
          0.8619658253130911,
          -1.5487963505620657,
          1.6661593485730637,
          0.7491924544143039,
          0.621561413774492,
          0.2915885975878172,
          2.0385417913239405,
          1.4244902846641307,
          -2.159052691440464,
          0.5423476711114913,
          -1.6789323696099687,
          -0.5446205803784033,
          0.387883477755812,
          -0.22903596434654588,
          -1.6505967844835412,
          -0.32881281216744135,
          0.6779154927169985,
          1.3681067471795663,
          0.26225857285756615,
          -1.9011589892879166,
          1.1409349082330473,
          -0.9589009714325152,
          0.03238371011666432,
          -0.10655362520754084,
          0.05927441822569643,
          0.42049964960882447,
          1.329575920257925,
          1.285081393630453,
          0.36005982323576674,
          0.6358536168798995,
          0.2025560884588064,
          0.10886754236829017,
          0.4269229835904177,
          0.14374785684194905,
          -0.020302072847358597,
          -0.4560210194505382,
          1.8347967740322737,
          -0.5006575216944982,
          1.6792441205485138,
          0.44958872515811443,
          0.7598644337110251,
          -1.326566371218351,
          -1.111550193856778,
          1.2756505190831742,
          0.7823229849163477,
          -1.1681639647040756,
          0.5987424260829366,
          1.4530772148308835,
          -0.1540334211090501,
          -0.6605279285668003,
          -0.5120412364212491,
          0.49300018525610345,
          -1.7204737222447415,
          -0.13851095685665482,
          -0.3588646633355994,
          -0.672204763993229,
          -0.14758595118924844,
          -0.7408629549882537,
          -1.2913725572359855,
          1.5473308090202944,
          1.318762193807283,
          0.259797984036728,
          -0.40385400584752457,
          -0.05074138338280163,
          -0.5739011980296671,
          0.43687851240248043,
          1.005132152855596,
          0.15754796130132306,
          0.06280552804167883,
          -0.28111370074712844,
          0.14489460641954385,
          0.5492176924141802,
          -2.1359048816395925,
          -0.2445338170684625,
          0.38474457301952225,
          0.014189266045035662,
          2.148224956400063,
          -0.9306543355294326,
          1.4984469196272776,
          -0.23426698205439314
         ],
         "xaxis": "x5",
         "y": [
          0.1997120436245693,
          0.4014825437710733,
          -0.12801667220114157,
          0.8107491846132913,
          2.537350078887453,
          -0.9788869603880892,
          -1.3378194669617782,
          -0.23426486866532062,
          0.8757742912539805,
          -2.0227454095445996,
          -0.017483907928513998,
          -0.8504064065218876,
          0.8995122342064306,
          -3.1965038729005197,
          -0.04595877243296813,
          1.565774686594166,
          0.27195711823104024,
          2.634779913469022,
          -0.6128501112350614,
          -0.9381204025498604,
          2.2254029657148604,
          0.6617734913093654,
          0.1729274366607718,
          0.6373609822877407,
          0.8180905913547657,
          0.6994384744369971,
          -1.0575377803413366,
          0.22628233151882693,
          2.329320119524522,
          -1.112061440235663,
          0.2515419041896052,
          -0.2696718165056928,
          -0.700689498410336,
          1.2123048002103898,
          -0.9600121886012616,
          -0.22177492689954934,
          0.8970292263888108,
          1.9660366494708446,
          1.2700402043716204,
          -1.3259086935966156,
          -0.1092438311787329,
          -1.3838336167537948,
          1.309337408044333,
          0.7369189504715908,
          0.9793750111708072,
          0.8386959382263741,
          -2.6014199515774523,
          -1.9395491169488337,
          -0.24462832833871673,
          -0.012947003675194895,
          -0.9565473591206575,
          1.5222970935820264,
          1.1786194213689853,
          -0.3165252186143081,
          0.5985585830972404,
          1.8747596870918923,
          0.2419895523466944,
          -0.13521215456938623,
          -0.9040822120120701,
          -1.0667699555127341,
          0.32824617656830496,
          -0.6588345803353914,
          1.0699286027722748,
          -0.13033161196575843,
          0.9141706936213561,
          1.0637960589927955,
          -0.10995148242640611,
          -1.0457235356110008,
          0.027499397592431904,
          -0.8941576216741033,
          -0.9020235485999063,
          0.09023310607670769,
          1.8798418811465476,
          -2.0013537041552185,
          0.5032533708041967,
          -0.2601989552156913,
          -0.6770761470398742,
          -0.3487762448643428,
          0.3153186836920095,
          -0.5414590270345206,
          0.28405741070812984,
          -0.07609106182259144,
          0.11656621405857027,
          0.18821641130543096,
          -2.2009179559698975,
          1.0178362295224403,
          0.5121863442190329,
          0.6981423101951505,
          -1.6899453376912257,
          0.7222069010847146,
          -1.3348502683292458,
          0.004150585252992694,
          0.6635657982770735,
          -0.5646265666014189,
          0.12493662861316242,
          -0.6843670840702347,
          -0.13592666505323378,
          0.18138101579973953,
          0.5838414942921941,
          1.1556173562342535
         ],
         "yaxis": "y5"
        },
        {
         "histfunc": "count",
         "histnorm": "",
         "marker": {
          "color": "rgba(55, 128, 191, 1.0)",
          "line": {
           "color": "#4D5663",
           "width": 1.3
          }
         },
         "name": "B",
         "nbinsx": 10,
         "opacity": 0.8,
         "orientation": "v",
         "type": "histogram",
         "x": [
          0.1997120436245693,
          0.4014825437710733,
          -0.12801667220114157,
          0.8107491846132913,
          2.537350078887453,
          -0.9788869603880892,
          -1.3378194669617782,
          -0.23426486866532062,
          0.8757742912539805,
          -2.0227454095445996,
          -0.017483907928513998,
          -0.8504064065218876,
          0.8995122342064306,
          -3.1965038729005197,
          -0.04595877243296813,
          1.565774686594166,
          0.27195711823104024,
          2.634779913469022,
          -0.6128501112350614,
          -0.9381204025498604,
          2.2254029657148604,
          0.6617734913093654,
          0.1729274366607718,
          0.6373609822877407,
          0.8180905913547657,
          0.6994384744369971,
          -1.0575377803413366,
          0.22628233151882693,
          2.329320119524522,
          -1.112061440235663,
          0.2515419041896052,
          -0.2696718165056928,
          -0.700689498410336,
          1.2123048002103898,
          -0.9600121886012616,
          -0.22177492689954934,
          0.8970292263888108,
          1.9660366494708446,
          1.2700402043716204,
          -1.3259086935966156,
          -0.1092438311787329,
          -1.3838336167537948,
          1.309337408044333,
          0.7369189504715908,
          0.9793750111708072,
          0.8386959382263741,
          -2.6014199515774523,
          -1.9395491169488337,
          -0.24462832833871673,
          -0.012947003675194895,
          -0.9565473591206575,
          1.5222970935820264,
          1.1786194213689853,
          -0.3165252186143081,
          0.5985585830972404,
          1.8747596870918923,
          0.2419895523466944,
          -0.13521215456938623,
          -0.9040822120120701,
          -1.0667699555127341,
          0.32824617656830496,
          -0.6588345803353914,
          1.0699286027722748,
          -0.13033161196575843,
          0.9141706936213561,
          1.0637960589927955,
          -0.10995148242640611,
          -1.0457235356110008,
          0.027499397592431904,
          -0.8941576216741033,
          -0.9020235485999063,
          0.09023310607670769,
          1.8798418811465476,
          -2.0013537041552185,
          0.5032533708041967,
          -0.2601989552156913,
          -0.6770761470398742,
          -0.3487762448643428,
          0.3153186836920095,
          -0.5414590270345206,
          0.28405741070812984,
          -0.07609106182259144,
          0.11656621405857027,
          0.18821641130543096,
          -2.2009179559698975,
          1.0178362295224403,
          0.5121863442190329,
          0.6981423101951505,
          -1.6899453376912257,
          0.7222069010847146,
          -1.3348502683292458,
          0.004150585252992694,
          0.6635657982770735,
          -0.5646265666014189,
          0.12493662861316242,
          -0.6843670840702347,
          -0.13592666505323378,
          0.18138101579973953,
          0.5838414942921941,
          1.1556173562342535
         ],
         "xaxis": "x6",
         "yaxis": "y6"
        },
        {
         "line": {
          "color": "rgba(128, 128, 128, 1.0)",
          "dash": "solid",
          "shape": "linear",
          "width": 1.3
         },
         "marker": {
          "size": 2,
          "symbol": "circle"
         },
         "mode": "markers",
         "name": "B",
         "text": "",
         "type": "scatter",
         "x": [
          -0.7635475220585797,
          0.7275465613950386,
          1.2106730592302932,
          -0.26808880557947223,
          0.6113539822345423,
          -1.214750884034707,
          0.0948462303068252,
          -1.195632383328205,
          0.4445681897608045,
          0.00232091623376802,
          0.723901448264587,
          -0.713979215671458,
          1.3280234720817723,
          -0.39311110566524465,
          -0.16345140137243752,
          1.3384534805882329,
          1.1001315909236695,
          0.21218038486150026,
          0.8779623997729757,
          0.02803609539212363,
          0.7929511094793856,
          0.06862649748601243,
          -1.018803700802844,
          -0.26509337320595466,
          -0.0889931535431639,
          2.1049720474640337,
          -1.0886218022894911,
          0.19200994679222705,
          -0.3861122196369465,
          -1.5227878826885317,
          -0.5120322669400799,
          -1.054211308029935,
          0.3571894984423901,
          0.5193026868821258,
          1.4232777799075593,
          0.3092638505419972,
          -0.4547563662144429,
          -0.67976756754685,
          0.15813432084671297,
          1.1981774787797457,
          0.2990881713852884,
          0.9232913729290833,
          1.1110736506500258,
          -0.5317450889314217,
          1.252034848940193,
          -0.5747947031124858,
          -1.0802543135391671,
          0.21595513424871368,
          0.4814244562208135,
          -0.8268567287355622,
          -0.7561373536785448,
          -0.7306924966238972,
          1.1947957263879965,
          0.2165257162846546,
          0.3396237334304019,
          -0.5576551232730913,
          0.2559146575946232,
          0.857038237618503,
          0.6481140692381244,
          -0.301654112349425,
          -0.6565900409778459,
          -0.40136202638992563,
          1.079027086193721,
          -1.4654074113328504,
          0.22806414173457362,
          -0.12046575105851924,
          0.6861665880060672,
          1.219739091463611,
          -0.43143287658116874,
          -0.19185607873873778,
          -0.11070832859732356,
          -0.4703477554472593,
          1.2167300209804561,
          -1.027506202862617,
          -1.6801079385214954,
          -1.4562809624135469,
          0.23396962506006988,
          -1.3463996276459578,
          -0.09149518233738907,
          1.9268597391661029,
          -1.06932101547924,
          1.204153751265953,
          -1.4495055769352365,
          0.37317334355852666,
          1.0450315678905135,
          0.9062777721000029,
          -0.3006642175307795,
          0.3975275531144573,
          0.635836243496414,
          -0.4754197287827103,
          0.7833751015051399,
          -0.04243868656607411,
          0.3486887706157529,
          2.5181293123660424,
          1.9490253243603444,
          0.6025809541825847,
          0.05800266255571208,
          0.46799447384150183,
          -0.18901297174740078,
          -1.1303547226766595
         ],
         "xaxis": "x7",
         "y": [
          0.1997120436245693,
          0.4014825437710733,
          -0.12801667220114157,
          0.8107491846132913,
          2.537350078887453,
          -0.9788869603880892,
          -1.3378194669617782,
          -0.23426486866532062,
          0.8757742912539805,
          -2.0227454095445996,
          -0.017483907928513998,
          -0.8504064065218876,
          0.8995122342064306,
          -3.1965038729005197,
          -0.04595877243296813,
          1.565774686594166,
          0.27195711823104024,
          2.634779913469022,
          -0.6128501112350614,
          -0.9381204025498604,
          2.2254029657148604,
          0.6617734913093654,
          0.1729274366607718,
          0.6373609822877407,
          0.8180905913547657,
          0.6994384744369971,
          -1.0575377803413366,
          0.22628233151882693,
          2.329320119524522,
          -1.112061440235663,
          0.2515419041896052,
          -0.2696718165056928,
          -0.700689498410336,
          1.2123048002103898,
          -0.9600121886012616,
          -0.22177492689954934,
          0.8970292263888108,
          1.9660366494708446,
          1.2700402043716204,
          -1.3259086935966156,
          -0.1092438311787329,
          -1.3838336167537948,
          1.309337408044333,
          0.7369189504715908,
          0.9793750111708072,
          0.8386959382263741,
          -2.6014199515774523,
          -1.9395491169488337,
          -0.24462832833871673,
          -0.012947003675194895,
          -0.9565473591206575,
          1.5222970935820264,
          1.1786194213689853,
          -0.3165252186143081,
          0.5985585830972404,
          1.8747596870918923,
          0.2419895523466944,
          -0.13521215456938623,
          -0.9040822120120701,
          -1.0667699555127341,
          0.32824617656830496,
          -0.6588345803353914,
          1.0699286027722748,
          -0.13033161196575843,
          0.9141706936213561,
          1.0637960589927955,
          -0.10995148242640611,
          -1.0457235356110008,
          0.027499397592431904,
          -0.8941576216741033,
          -0.9020235485999063,
          0.09023310607670769,
          1.8798418811465476,
          -2.0013537041552185,
          0.5032533708041967,
          -0.2601989552156913,
          -0.6770761470398742,
          -0.3487762448643428,
          0.3153186836920095,
          -0.5414590270345206,
          0.28405741070812984,
          -0.07609106182259144,
          0.11656621405857027,
          0.18821641130543096,
          -2.2009179559698975,
          1.0178362295224403,
          0.5121863442190329,
          0.6981423101951505,
          -1.6899453376912257,
          0.7222069010847146,
          -1.3348502683292458,
          0.004150585252992694,
          0.6635657982770735,
          -0.5646265666014189,
          0.12493662861316242,
          -0.6843670840702347,
          -0.13592666505323378,
          0.18138101579973953,
          0.5838414942921941,
          1.1556173562342535
         ],
         "yaxis": "y7"
        },
        {
         "line": {
          "color": "rgba(128, 128, 128, 1.0)",
          "dash": "solid",
          "shape": "linear",
          "width": 1.3
         },
         "marker": {
          "size": 2,
          "symbol": "circle"
         },
         "mode": "markers",
         "name": "B",
         "text": "",
         "type": "scatter",
         "x": [
          -0.13245030450514364,
          1.3090654496831373,
          0.5941034874725996,
          1.3384135152866654,
          -1.0530997292776216,
          1.9371791790234008,
          -0.9594274779282423,
          0.3078547729629255,
          1.7441823466769475,
          -0.09951392913240051,
          1.4355555549411385,
          0.3710727965237172,
          0.03374975359859986,
          -0.033479064173235706,
          -1.3665450741870664,
          0.22152886857406304,
          -0.5674491542831128,
          0.4587153411471475,
          0.4248257984021767,
          -0.6235717369069563,
          1.710146658764891,
          1.4098121814995066,
          -1.1274754409717573,
          0.6957888501265138,
          -1.1059917553459906,
          0.21130046830671764,
          -0.39564111141040675,
          -0.5798788175891483,
          -1.4251703850714619,
          -0.3129891502561077,
          0.4721896855766305,
          1.2806911306780764,
          -0.5343589299964965,
          -0.4888466988329627,
          -0.201050352276019,
          0.4015844429868238,
          1.1648370299558586,
          -0.6744640514699624,
          1.4175678671847494,
          -0.42929632456118305,
          -0.8394976099692066,
          -0.49802703221661765,
          0.38183772806856087,
          -0.0032499998252741727,
          1.4543067636878553,
          0.3910702976593195,
          0.003870755619403408,
          1.2896667549679,
          1.224421916039707,
          1.3344355771053826,
          1.5250482470987206,
          -1.9657127108424082,
          0.5590658834601998,
          -1.1976217219467151,
          -0.0488212368535531,
          -0.0906397146441149,
          -1.0654119498341241,
          -1.8808024512027708,
          -1.1163775860251197,
          -0.049107991126143856,
          -0.707384583106294,
          -0.7637002961689972,
          -0.8606711320580065,
          0.17817147440272832,
          -0.9446586767242249,
          -0.3631999980389838,
          1.3242270428031158,
          -0.7980788101588576,
          0.19890789884205137,
          0.5263478230076676,
          0.05618074411174819,
          1.1190310472224207,
          1.1549808215813724,
          0.10379562374333628,
          -0.397758529607837,
          -0.35789023929608244,
          2.966904904253891,
          -0.4274498902723708,
          -1.1872459785099456,
          -1.2472082324945206,
          1.8599860272482274,
          0.6024133519643031,
          0.25654030035368325,
          -1.8243553827834675,
          0.937221973717681,
          -1.752472730183518,
          -0.45837441861259437,
          -0.4090614683198603,
          1.003333450424868,
          0.1122618715732058,
          -1.3235108512525702,
          1.127613144563296,
          0.045354560188719195,
          0.7218142655403719,
          0.4003629839392785,
          -0.3052701998445313,
          1.3713091367297658,
          -2.5332123573589964,
          0.9564787407896036,
          -0.21761251009317298
         ],
         "xaxis": "x8",
         "y": [
          0.1997120436245693,
          0.4014825437710733,
          -0.12801667220114157,
          0.8107491846132913,
          2.537350078887453,
          -0.9788869603880892,
          -1.3378194669617782,
          -0.23426486866532062,
          0.8757742912539805,
          -2.0227454095445996,
          -0.017483907928513998,
          -0.8504064065218876,
          0.8995122342064306,
          -3.1965038729005197,
          -0.04595877243296813,
          1.565774686594166,
          0.27195711823104024,
          2.634779913469022,
          -0.6128501112350614,
          -0.9381204025498604,
          2.2254029657148604,
          0.6617734913093654,
          0.1729274366607718,
          0.6373609822877407,
          0.8180905913547657,
          0.6994384744369971,
          -1.0575377803413366,
          0.22628233151882693,
          2.329320119524522,
          -1.112061440235663,
          0.2515419041896052,
          -0.2696718165056928,
          -0.700689498410336,
          1.2123048002103898,
          -0.9600121886012616,
          -0.22177492689954934,
          0.8970292263888108,
          1.9660366494708446,
          1.2700402043716204,
          -1.3259086935966156,
          -0.1092438311787329,
          -1.3838336167537948,
          1.309337408044333,
          0.7369189504715908,
          0.9793750111708072,
          0.8386959382263741,
          -2.6014199515774523,
          -1.9395491169488337,
          -0.24462832833871673,
          -0.012947003675194895,
          -0.9565473591206575,
          1.5222970935820264,
          1.1786194213689853,
          -0.3165252186143081,
          0.5985585830972404,
          1.8747596870918923,
          0.2419895523466944,
          -0.13521215456938623,
          -0.9040822120120701,
          -1.0667699555127341,
          0.32824617656830496,
          -0.6588345803353914,
          1.0699286027722748,
          -0.13033161196575843,
          0.9141706936213561,
          1.0637960589927955,
          -0.10995148242640611,
          -1.0457235356110008,
          0.027499397592431904,
          -0.8941576216741033,
          -0.9020235485999063,
          0.09023310607670769,
          1.8798418811465476,
          -2.0013537041552185,
          0.5032533708041967,
          -0.2601989552156913,
          -0.6770761470398742,
          -0.3487762448643428,
          0.3153186836920095,
          -0.5414590270345206,
          0.28405741070812984,
          -0.07609106182259144,
          0.11656621405857027,
          0.18821641130543096,
          -2.2009179559698975,
          1.0178362295224403,
          0.5121863442190329,
          0.6981423101951505,
          -1.6899453376912257,
          0.7222069010847146,
          -1.3348502683292458,
          0.004150585252992694,
          0.6635657982770735,
          -0.5646265666014189,
          0.12493662861316242,
          -0.6843670840702347,
          -0.13592666505323378,
          0.18138101579973953,
          0.5838414942921941,
          1.1556173562342535
         ],
         "yaxis": "y8"
        },
        {
         "line": {
          "color": "rgba(128, 128, 128, 1.0)",
          "dash": "solid",
          "shape": "linear",
          "width": 1.3
         },
         "marker": {
          "size": 2,
          "symbol": "circle"
         },
         "mode": "markers",
         "name": "C",
         "text": "",
         "type": "scatter",
         "x": [
          -1.6437536111521518,
          0.6236334115580212,
          0.3632305334696795,
          0.7803939112591669,
          0.7742854821151604,
          -1.0391624009931515,
          1.0889561004772061,
          -0.8820807905725819,
          -0.09884950690901928,
          -2.5490967634952577,
          -1.4465866453633747,
          -0.4296122350300794,
          0.9907776802326949,
          2.2655549907972725,
          1.1436740283221893,
          0.33666342394404386,
          0.08937447215462413,
          -1.046283324201508,
          -0.3732597314122444,
          1.4268298589473511,
          0.8619658253130911,
          -1.5487963505620657,
          1.6661593485730637,
          0.7491924544143039,
          0.621561413774492,
          0.2915885975878172,
          2.0385417913239405,
          1.4244902846641307,
          -2.159052691440464,
          0.5423476711114913,
          -1.6789323696099687,
          -0.5446205803784033,
          0.387883477755812,
          -0.22903596434654588,
          -1.6505967844835412,
          -0.32881281216744135,
          0.6779154927169985,
          1.3681067471795663,
          0.26225857285756615,
          -1.9011589892879166,
          1.1409349082330473,
          -0.9589009714325152,
          0.03238371011666432,
          -0.10655362520754084,
          0.05927441822569643,
          0.42049964960882447,
          1.329575920257925,
          1.285081393630453,
          0.36005982323576674,
          0.6358536168798995,
          0.2025560884588064,
          0.10886754236829017,
          0.4269229835904177,
          0.14374785684194905,
          -0.020302072847358597,
          -0.4560210194505382,
          1.8347967740322737,
          -0.5006575216944982,
          1.6792441205485138,
          0.44958872515811443,
          0.7598644337110251,
          -1.326566371218351,
          -1.111550193856778,
          1.2756505190831742,
          0.7823229849163477,
          -1.1681639647040756,
          0.5987424260829366,
          1.4530772148308835,
          -0.1540334211090501,
          -0.6605279285668003,
          -0.5120412364212491,
          0.49300018525610345,
          -1.7204737222447415,
          -0.13851095685665482,
          -0.3588646633355994,
          -0.672204763993229,
          -0.14758595118924844,
          -0.7408629549882537,
          -1.2913725572359855,
          1.5473308090202944,
          1.318762193807283,
          0.259797984036728,
          -0.40385400584752457,
          -0.05074138338280163,
          -0.5739011980296671,
          0.43687851240248043,
          1.005132152855596,
          0.15754796130132306,
          0.06280552804167883,
          -0.28111370074712844,
          0.14489460641954385,
          0.5492176924141802,
          -2.1359048816395925,
          -0.2445338170684625,
          0.38474457301952225,
          0.014189266045035662,
          2.148224956400063,
          -0.9306543355294326,
          1.4984469196272776,
          -0.23426698205439314
         ],
         "xaxis": "x9",
         "y": [
          -0.7635475220585797,
          0.7275465613950386,
          1.2106730592302932,
          -0.26808880557947223,
          0.6113539822345423,
          -1.214750884034707,
          0.0948462303068252,
          -1.195632383328205,
          0.4445681897608045,
          0.00232091623376802,
          0.723901448264587,
          -0.713979215671458,
          1.3280234720817723,
          -0.39311110566524465,
          -0.16345140137243752,
          1.3384534805882329,
          1.1001315909236695,
          0.21218038486150026,
          0.8779623997729757,
          0.02803609539212363,
          0.7929511094793856,
          0.06862649748601243,
          -1.018803700802844,
          -0.26509337320595466,
          -0.0889931535431639,
          2.1049720474640337,
          -1.0886218022894911,
          0.19200994679222705,
          -0.3861122196369465,
          -1.5227878826885317,
          -0.5120322669400799,
          -1.054211308029935,
          0.3571894984423901,
          0.5193026868821258,
          1.4232777799075593,
          0.3092638505419972,
          -0.4547563662144429,
          -0.67976756754685,
          0.15813432084671297,
          1.1981774787797457,
          0.2990881713852884,
          0.9232913729290833,
          1.1110736506500258,
          -0.5317450889314217,
          1.252034848940193,
          -0.5747947031124858,
          -1.0802543135391671,
          0.21595513424871368,
          0.4814244562208135,
          -0.8268567287355622,
          -0.7561373536785448,
          -0.7306924966238972,
          1.1947957263879965,
          0.2165257162846546,
          0.3396237334304019,
          -0.5576551232730913,
          0.2559146575946232,
          0.857038237618503,
          0.6481140692381244,
          -0.301654112349425,
          -0.6565900409778459,
          -0.40136202638992563,
          1.079027086193721,
          -1.4654074113328504,
          0.22806414173457362,
          -0.12046575105851924,
          0.6861665880060672,
          1.219739091463611,
          -0.43143287658116874,
          -0.19185607873873778,
          -0.11070832859732356,
          -0.4703477554472593,
          1.2167300209804561,
          -1.027506202862617,
          -1.6801079385214954,
          -1.4562809624135469,
          0.23396962506006988,
          -1.3463996276459578,
          -0.09149518233738907,
          1.9268597391661029,
          -1.06932101547924,
          1.204153751265953,
          -1.4495055769352365,
          0.37317334355852666,
          1.0450315678905135,
          0.9062777721000029,
          -0.3006642175307795,
          0.3975275531144573,
          0.635836243496414,
          -0.4754197287827103,
          0.7833751015051399,
          -0.04243868656607411,
          0.3486887706157529,
          2.5181293123660424,
          1.9490253243603444,
          0.6025809541825847,
          0.05800266255571208,
          0.46799447384150183,
          -0.18901297174740078,
          -1.1303547226766595
         ],
         "yaxis": "y9"
        },
        {
         "line": {
          "color": "rgba(128, 128, 128, 1.0)",
          "dash": "solid",
          "shape": "linear",
          "width": 1.3
         },
         "marker": {
          "size": 2,
          "symbol": "circle"
         },
         "mode": "markers",
         "name": "C",
         "text": "",
         "type": "scatter",
         "x": [
          0.1997120436245693,
          0.4014825437710733,
          -0.12801667220114157,
          0.8107491846132913,
          2.537350078887453,
          -0.9788869603880892,
          -1.3378194669617782,
          -0.23426486866532062,
          0.8757742912539805,
          -2.0227454095445996,
          -0.017483907928513998,
          -0.8504064065218876,
          0.8995122342064306,
          -3.1965038729005197,
          -0.04595877243296813,
          1.565774686594166,
          0.27195711823104024,
          2.634779913469022,
          -0.6128501112350614,
          -0.9381204025498604,
          2.2254029657148604,
          0.6617734913093654,
          0.1729274366607718,
          0.6373609822877407,
          0.8180905913547657,
          0.6994384744369971,
          -1.0575377803413366,
          0.22628233151882693,
          2.329320119524522,
          -1.112061440235663,
          0.2515419041896052,
          -0.2696718165056928,
          -0.700689498410336,
          1.2123048002103898,
          -0.9600121886012616,
          -0.22177492689954934,
          0.8970292263888108,
          1.9660366494708446,
          1.2700402043716204,
          -1.3259086935966156,
          -0.1092438311787329,
          -1.3838336167537948,
          1.309337408044333,
          0.7369189504715908,
          0.9793750111708072,
          0.8386959382263741,
          -2.6014199515774523,
          -1.9395491169488337,
          -0.24462832833871673,
          -0.012947003675194895,
          -0.9565473591206575,
          1.5222970935820264,
          1.1786194213689853,
          -0.3165252186143081,
          0.5985585830972404,
          1.8747596870918923,
          0.2419895523466944,
          -0.13521215456938623,
          -0.9040822120120701,
          -1.0667699555127341,
          0.32824617656830496,
          -0.6588345803353914,
          1.0699286027722748,
          -0.13033161196575843,
          0.9141706936213561,
          1.0637960589927955,
          -0.10995148242640611,
          -1.0457235356110008,
          0.027499397592431904,
          -0.8941576216741033,
          -0.9020235485999063,
          0.09023310607670769,
          1.8798418811465476,
          -2.0013537041552185,
          0.5032533708041967,
          -0.2601989552156913,
          -0.6770761470398742,
          -0.3487762448643428,
          0.3153186836920095,
          -0.5414590270345206,
          0.28405741070812984,
          -0.07609106182259144,
          0.11656621405857027,
          0.18821641130543096,
          -2.2009179559698975,
          1.0178362295224403,
          0.5121863442190329,
          0.6981423101951505,
          -1.6899453376912257,
          0.7222069010847146,
          -1.3348502683292458,
          0.004150585252992694,
          0.6635657982770735,
          -0.5646265666014189,
          0.12493662861316242,
          -0.6843670840702347,
          -0.13592666505323378,
          0.18138101579973953,
          0.5838414942921941,
          1.1556173562342535
         ],
         "xaxis": "x10",
         "y": [
          -0.7635475220585797,
          0.7275465613950386,
          1.2106730592302932,
          -0.26808880557947223,
          0.6113539822345423,
          -1.214750884034707,
          0.0948462303068252,
          -1.195632383328205,
          0.4445681897608045,
          0.00232091623376802,
          0.723901448264587,
          -0.713979215671458,
          1.3280234720817723,
          -0.39311110566524465,
          -0.16345140137243752,
          1.3384534805882329,
          1.1001315909236695,
          0.21218038486150026,
          0.8779623997729757,
          0.02803609539212363,
          0.7929511094793856,
          0.06862649748601243,
          -1.018803700802844,
          -0.26509337320595466,
          -0.0889931535431639,
          2.1049720474640337,
          -1.0886218022894911,
          0.19200994679222705,
          -0.3861122196369465,
          -1.5227878826885317,
          -0.5120322669400799,
          -1.054211308029935,
          0.3571894984423901,
          0.5193026868821258,
          1.4232777799075593,
          0.3092638505419972,
          -0.4547563662144429,
          -0.67976756754685,
          0.15813432084671297,
          1.1981774787797457,
          0.2990881713852884,
          0.9232913729290833,
          1.1110736506500258,
          -0.5317450889314217,
          1.252034848940193,
          -0.5747947031124858,
          -1.0802543135391671,
          0.21595513424871368,
          0.4814244562208135,
          -0.8268567287355622,
          -0.7561373536785448,
          -0.7306924966238972,
          1.1947957263879965,
          0.2165257162846546,
          0.3396237334304019,
          -0.5576551232730913,
          0.2559146575946232,
          0.857038237618503,
          0.6481140692381244,
          -0.301654112349425,
          -0.6565900409778459,
          -0.40136202638992563,
          1.079027086193721,
          -1.4654074113328504,
          0.22806414173457362,
          -0.12046575105851924,
          0.6861665880060672,
          1.219739091463611,
          -0.43143287658116874,
          -0.19185607873873778,
          -0.11070832859732356,
          -0.4703477554472593,
          1.2167300209804561,
          -1.027506202862617,
          -1.6801079385214954,
          -1.4562809624135469,
          0.23396962506006988,
          -1.3463996276459578,
          -0.09149518233738907,
          1.9268597391661029,
          -1.06932101547924,
          1.204153751265953,
          -1.4495055769352365,
          0.37317334355852666,
          1.0450315678905135,
          0.9062777721000029,
          -0.3006642175307795,
          0.3975275531144573,
          0.635836243496414,
          -0.4754197287827103,
          0.7833751015051399,
          -0.04243868656607411,
          0.3486887706157529,
          2.5181293123660424,
          1.9490253243603444,
          0.6025809541825847,
          0.05800266255571208,
          0.46799447384150183,
          -0.18901297174740078,
          -1.1303547226766595
         ],
         "yaxis": "y10"
        },
        {
         "histfunc": "count",
         "histnorm": "",
         "marker": {
          "color": "rgba(50, 171, 96, 1.0)",
          "line": {
           "color": "#4D5663",
           "width": 1.3
          }
         },
         "name": "C",
         "nbinsx": 10,
         "opacity": 0.8,
         "orientation": "v",
         "type": "histogram",
         "x": [
          -0.7635475220585797,
          0.7275465613950386,
          1.2106730592302932,
          -0.26808880557947223,
          0.6113539822345423,
          -1.214750884034707,
          0.0948462303068252,
          -1.195632383328205,
          0.4445681897608045,
          0.00232091623376802,
          0.723901448264587,
          -0.713979215671458,
          1.3280234720817723,
          -0.39311110566524465,
          -0.16345140137243752,
          1.3384534805882329,
          1.1001315909236695,
          0.21218038486150026,
          0.8779623997729757,
          0.02803609539212363,
          0.7929511094793856,
          0.06862649748601243,
          -1.018803700802844,
          -0.26509337320595466,
          -0.0889931535431639,
          2.1049720474640337,
          -1.0886218022894911,
          0.19200994679222705,
          -0.3861122196369465,
          -1.5227878826885317,
          -0.5120322669400799,
          -1.054211308029935,
          0.3571894984423901,
          0.5193026868821258,
          1.4232777799075593,
          0.3092638505419972,
          -0.4547563662144429,
          -0.67976756754685,
          0.15813432084671297,
          1.1981774787797457,
          0.2990881713852884,
          0.9232913729290833,
          1.1110736506500258,
          -0.5317450889314217,
          1.252034848940193,
          -0.5747947031124858,
          -1.0802543135391671,
          0.21595513424871368,
          0.4814244562208135,
          -0.8268567287355622,
          -0.7561373536785448,
          -0.7306924966238972,
          1.1947957263879965,
          0.2165257162846546,
          0.3396237334304019,
          -0.5576551232730913,
          0.2559146575946232,
          0.857038237618503,
          0.6481140692381244,
          -0.301654112349425,
          -0.6565900409778459,
          -0.40136202638992563,
          1.079027086193721,
          -1.4654074113328504,
          0.22806414173457362,
          -0.12046575105851924,
          0.6861665880060672,
          1.219739091463611,
          -0.43143287658116874,
          -0.19185607873873778,
          -0.11070832859732356,
          -0.4703477554472593,
          1.2167300209804561,
          -1.027506202862617,
          -1.6801079385214954,
          -1.4562809624135469,
          0.23396962506006988,
          -1.3463996276459578,
          -0.09149518233738907,
          1.9268597391661029,
          -1.06932101547924,
          1.204153751265953,
          -1.4495055769352365,
          0.37317334355852666,
          1.0450315678905135,
          0.9062777721000029,
          -0.3006642175307795,
          0.3975275531144573,
          0.635836243496414,
          -0.4754197287827103,
          0.7833751015051399,
          -0.04243868656607411,
          0.3486887706157529,
          2.5181293123660424,
          1.9490253243603444,
          0.6025809541825847,
          0.05800266255571208,
          0.46799447384150183,
          -0.18901297174740078,
          -1.1303547226766595
         ],
         "xaxis": "x11",
         "yaxis": "y11"
        },
        {
         "line": {
          "color": "rgba(128, 128, 128, 1.0)",
          "dash": "solid",
          "shape": "linear",
          "width": 1.3
         },
         "marker": {
          "size": 2,
          "symbol": "circle"
         },
         "mode": "markers",
         "name": "C",
         "text": "",
         "type": "scatter",
         "x": [
          -0.13245030450514364,
          1.3090654496831373,
          0.5941034874725996,
          1.3384135152866654,
          -1.0530997292776216,
          1.9371791790234008,
          -0.9594274779282423,
          0.3078547729629255,
          1.7441823466769475,
          -0.09951392913240051,
          1.4355555549411385,
          0.3710727965237172,
          0.03374975359859986,
          -0.033479064173235706,
          -1.3665450741870664,
          0.22152886857406304,
          -0.5674491542831128,
          0.4587153411471475,
          0.4248257984021767,
          -0.6235717369069563,
          1.710146658764891,
          1.4098121814995066,
          -1.1274754409717573,
          0.6957888501265138,
          -1.1059917553459906,
          0.21130046830671764,
          -0.39564111141040675,
          -0.5798788175891483,
          -1.4251703850714619,
          -0.3129891502561077,
          0.4721896855766305,
          1.2806911306780764,
          -0.5343589299964965,
          -0.4888466988329627,
          -0.201050352276019,
          0.4015844429868238,
          1.1648370299558586,
          -0.6744640514699624,
          1.4175678671847494,
          -0.42929632456118305,
          -0.8394976099692066,
          -0.49802703221661765,
          0.38183772806856087,
          -0.0032499998252741727,
          1.4543067636878553,
          0.3910702976593195,
          0.003870755619403408,
          1.2896667549679,
          1.224421916039707,
          1.3344355771053826,
          1.5250482470987206,
          -1.9657127108424082,
          0.5590658834601998,
          -1.1976217219467151,
          -0.0488212368535531,
          -0.0906397146441149,
          -1.0654119498341241,
          -1.8808024512027708,
          -1.1163775860251197,
          -0.049107991126143856,
          -0.707384583106294,
          -0.7637002961689972,
          -0.8606711320580065,
          0.17817147440272832,
          -0.9446586767242249,
          -0.3631999980389838,
          1.3242270428031158,
          -0.7980788101588576,
          0.19890789884205137,
          0.5263478230076676,
          0.05618074411174819,
          1.1190310472224207,
          1.1549808215813724,
          0.10379562374333628,
          -0.397758529607837,
          -0.35789023929608244,
          2.966904904253891,
          -0.4274498902723708,
          -1.1872459785099456,
          -1.2472082324945206,
          1.8599860272482274,
          0.6024133519643031,
          0.25654030035368325,
          -1.8243553827834675,
          0.937221973717681,
          -1.752472730183518,
          -0.45837441861259437,
          -0.4090614683198603,
          1.003333450424868,
          0.1122618715732058,
          -1.3235108512525702,
          1.127613144563296,
          0.045354560188719195,
          0.7218142655403719,
          0.4003629839392785,
          -0.3052701998445313,
          1.3713091367297658,
          -2.5332123573589964,
          0.9564787407896036,
          -0.21761251009317298
         ],
         "xaxis": "x12",
         "y": [
          -0.7635475220585797,
          0.7275465613950386,
          1.2106730592302932,
          -0.26808880557947223,
          0.6113539822345423,
          -1.214750884034707,
          0.0948462303068252,
          -1.195632383328205,
          0.4445681897608045,
          0.00232091623376802,
          0.723901448264587,
          -0.713979215671458,
          1.3280234720817723,
          -0.39311110566524465,
          -0.16345140137243752,
          1.3384534805882329,
          1.1001315909236695,
          0.21218038486150026,
          0.8779623997729757,
          0.02803609539212363,
          0.7929511094793856,
          0.06862649748601243,
          -1.018803700802844,
          -0.26509337320595466,
          -0.0889931535431639,
          2.1049720474640337,
          -1.0886218022894911,
          0.19200994679222705,
          -0.3861122196369465,
          -1.5227878826885317,
          -0.5120322669400799,
          -1.054211308029935,
          0.3571894984423901,
          0.5193026868821258,
          1.4232777799075593,
          0.3092638505419972,
          -0.4547563662144429,
          -0.67976756754685,
          0.15813432084671297,
          1.1981774787797457,
          0.2990881713852884,
          0.9232913729290833,
          1.1110736506500258,
          -0.5317450889314217,
          1.252034848940193,
          -0.5747947031124858,
          -1.0802543135391671,
          0.21595513424871368,
          0.4814244562208135,
          -0.8268567287355622,
          -0.7561373536785448,
          -0.7306924966238972,
          1.1947957263879965,
          0.2165257162846546,
          0.3396237334304019,
          -0.5576551232730913,
          0.2559146575946232,
          0.857038237618503,
          0.6481140692381244,
          -0.301654112349425,
          -0.6565900409778459,
          -0.40136202638992563,
          1.079027086193721,
          -1.4654074113328504,
          0.22806414173457362,
          -0.12046575105851924,
          0.6861665880060672,
          1.219739091463611,
          -0.43143287658116874,
          -0.19185607873873778,
          -0.11070832859732356,
          -0.4703477554472593,
          1.2167300209804561,
          -1.027506202862617,
          -1.6801079385214954,
          -1.4562809624135469,
          0.23396962506006988,
          -1.3463996276459578,
          -0.09149518233738907,
          1.9268597391661029,
          -1.06932101547924,
          1.204153751265953,
          -1.4495055769352365,
          0.37317334355852666,
          1.0450315678905135,
          0.9062777721000029,
          -0.3006642175307795,
          0.3975275531144573,
          0.635836243496414,
          -0.4754197287827103,
          0.7833751015051399,
          -0.04243868656607411,
          0.3486887706157529,
          2.5181293123660424,
          1.9490253243603444,
          0.6025809541825847,
          0.05800266255571208,
          0.46799447384150183,
          -0.18901297174740078,
          -1.1303547226766595
         ],
         "yaxis": "y12"
        },
        {
         "line": {
          "color": "rgba(128, 128, 128, 1.0)",
          "dash": "solid",
          "shape": "linear",
          "width": 1.3
         },
         "marker": {
          "size": 2,
          "symbol": "circle"
         },
         "mode": "markers",
         "name": "D",
         "text": "",
         "type": "scatter",
         "x": [
          -1.6437536111521518,
          0.6236334115580212,
          0.3632305334696795,
          0.7803939112591669,
          0.7742854821151604,
          -1.0391624009931515,
          1.0889561004772061,
          -0.8820807905725819,
          -0.09884950690901928,
          -2.5490967634952577,
          -1.4465866453633747,
          -0.4296122350300794,
          0.9907776802326949,
          2.2655549907972725,
          1.1436740283221893,
          0.33666342394404386,
          0.08937447215462413,
          -1.046283324201508,
          -0.3732597314122444,
          1.4268298589473511,
          0.8619658253130911,
          -1.5487963505620657,
          1.6661593485730637,
          0.7491924544143039,
          0.621561413774492,
          0.2915885975878172,
          2.0385417913239405,
          1.4244902846641307,
          -2.159052691440464,
          0.5423476711114913,
          -1.6789323696099687,
          -0.5446205803784033,
          0.387883477755812,
          -0.22903596434654588,
          -1.6505967844835412,
          -0.32881281216744135,
          0.6779154927169985,
          1.3681067471795663,
          0.26225857285756615,
          -1.9011589892879166,
          1.1409349082330473,
          -0.9589009714325152,
          0.03238371011666432,
          -0.10655362520754084,
          0.05927441822569643,
          0.42049964960882447,
          1.329575920257925,
          1.285081393630453,
          0.36005982323576674,
          0.6358536168798995,
          0.2025560884588064,
          0.10886754236829017,
          0.4269229835904177,
          0.14374785684194905,
          -0.020302072847358597,
          -0.4560210194505382,
          1.8347967740322737,
          -0.5006575216944982,
          1.6792441205485138,
          0.44958872515811443,
          0.7598644337110251,
          -1.326566371218351,
          -1.111550193856778,
          1.2756505190831742,
          0.7823229849163477,
          -1.1681639647040756,
          0.5987424260829366,
          1.4530772148308835,
          -0.1540334211090501,
          -0.6605279285668003,
          -0.5120412364212491,
          0.49300018525610345,
          -1.7204737222447415,
          -0.13851095685665482,
          -0.3588646633355994,
          -0.672204763993229,
          -0.14758595118924844,
          -0.7408629549882537,
          -1.2913725572359855,
          1.5473308090202944,
          1.318762193807283,
          0.259797984036728,
          -0.40385400584752457,
          -0.05074138338280163,
          -0.5739011980296671,
          0.43687851240248043,
          1.005132152855596,
          0.15754796130132306,
          0.06280552804167883,
          -0.28111370074712844,
          0.14489460641954385,
          0.5492176924141802,
          -2.1359048816395925,
          -0.2445338170684625,
          0.38474457301952225,
          0.014189266045035662,
          2.148224956400063,
          -0.9306543355294326,
          1.4984469196272776,
          -0.23426698205439314
         ],
         "xaxis": "x13",
         "y": [
          -0.13245030450514364,
          1.3090654496831373,
          0.5941034874725996,
          1.3384135152866654,
          -1.0530997292776216,
          1.9371791790234008,
          -0.9594274779282423,
          0.3078547729629255,
          1.7441823466769475,
          -0.09951392913240051,
          1.4355555549411385,
          0.3710727965237172,
          0.03374975359859986,
          -0.033479064173235706,
          -1.3665450741870664,
          0.22152886857406304,
          -0.5674491542831128,
          0.4587153411471475,
          0.4248257984021767,
          -0.6235717369069563,
          1.710146658764891,
          1.4098121814995066,
          -1.1274754409717573,
          0.6957888501265138,
          -1.1059917553459906,
          0.21130046830671764,
          -0.39564111141040675,
          -0.5798788175891483,
          -1.4251703850714619,
          -0.3129891502561077,
          0.4721896855766305,
          1.2806911306780764,
          -0.5343589299964965,
          -0.4888466988329627,
          -0.201050352276019,
          0.4015844429868238,
          1.1648370299558586,
          -0.6744640514699624,
          1.4175678671847494,
          -0.42929632456118305,
          -0.8394976099692066,
          -0.49802703221661765,
          0.38183772806856087,
          -0.0032499998252741727,
          1.4543067636878553,
          0.3910702976593195,
          0.003870755619403408,
          1.2896667549679,
          1.224421916039707,
          1.3344355771053826,
          1.5250482470987206,
          -1.9657127108424082,
          0.5590658834601998,
          -1.1976217219467151,
          -0.0488212368535531,
          -0.0906397146441149,
          -1.0654119498341241,
          -1.8808024512027708,
          -1.1163775860251197,
          -0.049107991126143856,
          -0.707384583106294,
          -0.7637002961689972,
          -0.8606711320580065,
          0.17817147440272832,
          -0.9446586767242249,
          -0.3631999980389838,
          1.3242270428031158,
          -0.7980788101588576,
          0.19890789884205137,
          0.5263478230076676,
          0.05618074411174819,
          1.1190310472224207,
          1.1549808215813724,
          0.10379562374333628,
          -0.397758529607837,
          -0.35789023929608244,
          2.966904904253891,
          -0.4274498902723708,
          -1.1872459785099456,
          -1.2472082324945206,
          1.8599860272482274,
          0.6024133519643031,
          0.25654030035368325,
          -1.8243553827834675,
          0.937221973717681,
          -1.752472730183518,
          -0.45837441861259437,
          -0.4090614683198603,
          1.003333450424868,
          0.1122618715732058,
          -1.3235108512525702,
          1.127613144563296,
          0.045354560188719195,
          0.7218142655403719,
          0.4003629839392785,
          -0.3052701998445313,
          1.3713091367297658,
          -2.5332123573589964,
          0.9564787407896036,
          -0.21761251009317298
         ],
         "yaxis": "y13"
        },
        {
         "line": {
          "color": "rgba(128, 128, 128, 1.0)",
          "dash": "solid",
          "shape": "linear",
          "width": 1.3
         },
         "marker": {
          "size": 2,
          "symbol": "circle"
         },
         "mode": "markers",
         "name": "D",
         "text": "",
         "type": "scatter",
         "x": [
          0.1997120436245693,
          0.4014825437710733,
          -0.12801667220114157,
          0.8107491846132913,
          2.537350078887453,
          -0.9788869603880892,
          -1.3378194669617782,
          -0.23426486866532062,
          0.8757742912539805,
          -2.0227454095445996,
          -0.017483907928513998,
          -0.8504064065218876,
          0.8995122342064306,
          -3.1965038729005197,
          -0.04595877243296813,
          1.565774686594166,
          0.27195711823104024,
          2.634779913469022,
          -0.6128501112350614,
          -0.9381204025498604,
          2.2254029657148604,
          0.6617734913093654,
          0.1729274366607718,
          0.6373609822877407,
          0.8180905913547657,
          0.6994384744369971,
          -1.0575377803413366,
          0.22628233151882693,
          2.329320119524522,
          -1.112061440235663,
          0.2515419041896052,
          -0.2696718165056928,
          -0.700689498410336,
          1.2123048002103898,
          -0.9600121886012616,
          -0.22177492689954934,
          0.8970292263888108,
          1.9660366494708446,
          1.2700402043716204,
          -1.3259086935966156,
          -0.1092438311787329,
          -1.3838336167537948,
          1.309337408044333,
          0.7369189504715908,
          0.9793750111708072,
          0.8386959382263741,
          -2.6014199515774523,
          -1.9395491169488337,
          -0.24462832833871673,
          -0.012947003675194895,
          -0.9565473591206575,
          1.5222970935820264,
          1.1786194213689853,
          -0.3165252186143081,
          0.5985585830972404,
          1.8747596870918923,
          0.2419895523466944,
          -0.13521215456938623,
          -0.9040822120120701,
          -1.0667699555127341,
          0.32824617656830496,
          -0.6588345803353914,
          1.0699286027722748,
          -0.13033161196575843,
          0.9141706936213561,
          1.0637960589927955,
          -0.10995148242640611,
          -1.0457235356110008,
          0.027499397592431904,
          -0.8941576216741033,
          -0.9020235485999063,
          0.09023310607670769,
          1.8798418811465476,
          -2.0013537041552185,
          0.5032533708041967,
          -0.2601989552156913,
          -0.6770761470398742,
          -0.3487762448643428,
          0.3153186836920095,
          -0.5414590270345206,
          0.28405741070812984,
          -0.07609106182259144,
          0.11656621405857027,
          0.18821641130543096,
          -2.2009179559698975,
          1.0178362295224403,
          0.5121863442190329,
          0.6981423101951505,
          -1.6899453376912257,
          0.7222069010847146,
          -1.3348502683292458,
          0.004150585252992694,
          0.6635657982770735,
          -0.5646265666014189,
          0.12493662861316242,
          -0.6843670840702347,
          -0.13592666505323378,
          0.18138101579973953,
          0.5838414942921941,
          1.1556173562342535
         ],
         "xaxis": "x14",
         "y": [
          -0.13245030450514364,
          1.3090654496831373,
          0.5941034874725996,
          1.3384135152866654,
          -1.0530997292776216,
          1.9371791790234008,
          -0.9594274779282423,
          0.3078547729629255,
          1.7441823466769475,
          -0.09951392913240051,
          1.4355555549411385,
          0.3710727965237172,
          0.03374975359859986,
          -0.033479064173235706,
          -1.3665450741870664,
          0.22152886857406304,
          -0.5674491542831128,
          0.4587153411471475,
          0.4248257984021767,
          -0.6235717369069563,
          1.710146658764891,
          1.4098121814995066,
          -1.1274754409717573,
          0.6957888501265138,
          -1.1059917553459906,
          0.21130046830671764,
          -0.39564111141040675,
          -0.5798788175891483,
          -1.4251703850714619,
          -0.3129891502561077,
          0.4721896855766305,
          1.2806911306780764,
          -0.5343589299964965,
          -0.4888466988329627,
          -0.201050352276019,
          0.4015844429868238,
          1.1648370299558586,
          -0.6744640514699624,
          1.4175678671847494,
          -0.42929632456118305,
          -0.8394976099692066,
          -0.49802703221661765,
          0.38183772806856087,
          -0.0032499998252741727,
          1.4543067636878553,
          0.3910702976593195,
          0.003870755619403408,
          1.2896667549679,
          1.224421916039707,
          1.3344355771053826,
          1.5250482470987206,
          -1.9657127108424082,
          0.5590658834601998,
          -1.1976217219467151,
          -0.0488212368535531,
          -0.0906397146441149,
          -1.0654119498341241,
          -1.8808024512027708,
          -1.1163775860251197,
          -0.049107991126143856,
          -0.707384583106294,
          -0.7637002961689972,
          -0.8606711320580065,
          0.17817147440272832,
          -0.9446586767242249,
          -0.3631999980389838,
          1.3242270428031158,
          -0.7980788101588576,
          0.19890789884205137,
          0.5263478230076676,
          0.05618074411174819,
          1.1190310472224207,
          1.1549808215813724,
          0.10379562374333628,
          -0.397758529607837,
          -0.35789023929608244,
          2.966904904253891,
          -0.4274498902723708,
          -1.1872459785099456,
          -1.2472082324945206,
          1.8599860272482274,
          0.6024133519643031,
          0.25654030035368325,
          -1.8243553827834675,
          0.937221973717681,
          -1.752472730183518,
          -0.45837441861259437,
          -0.4090614683198603,
          1.003333450424868,
          0.1122618715732058,
          -1.3235108512525702,
          1.127613144563296,
          0.045354560188719195,
          0.7218142655403719,
          0.4003629839392785,
          -0.3052701998445313,
          1.3713091367297658,
          -2.5332123573589964,
          0.9564787407896036,
          -0.21761251009317298
         ],
         "yaxis": "y14"
        },
        {
         "line": {
          "color": "rgba(128, 128, 128, 1.0)",
          "dash": "solid",
          "shape": "linear",
          "width": 1.3
         },
         "marker": {
          "size": 2,
          "symbol": "circle"
         },
         "mode": "markers",
         "name": "D",
         "text": "",
         "type": "scatter",
         "x": [
          -0.7635475220585797,
          0.7275465613950386,
          1.2106730592302932,
          -0.26808880557947223,
          0.6113539822345423,
          -1.214750884034707,
          0.0948462303068252,
          -1.195632383328205,
          0.4445681897608045,
          0.00232091623376802,
          0.723901448264587,
          -0.713979215671458,
          1.3280234720817723,
          -0.39311110566524465,
          -0.16345140137243752,
          1.3384534805882329,
          1.1001315909236695,
          0.21218038486150026,
          0.8779623997729757,
          0.02803609539212363,
          0.7929511094793856,
          0.06862649748601243,
          -1.018803700802844,
          -0.26509337320595466,
          -0.0889931535431639,
          2.1049720474640337,
          -1.0886218022894911,
          0.19200994679222705,
          -0.3861122196369465,
          -1.5227878826885317,
          -0.5120322669400799,
          -1.054211308029935,
          0.3571894984423901,
          0.5193026868821258,
          1.4232777799075593,
          0.3092638505419972,
          -0.4547563662144429,
          -0.67976756754685,
          0.15813432084671297,
          1.1981774787797457,
          0.2990881713852884,
          0.9232913729290833,
          1.1110736506500258,
          -0.5317450889314217,
          1.252034848940193,
          -0.5747947031124858,
          -1.0802543135391671,
          0.21595513424871368,
          0.4814244562208135,
          -0.8268567287355622,
          -0.7561373536785448,
          -0.7306924966238972,
          1.1947957263879965,
          0.2165257162846546,
          0.3396237334304019,
          -0.5576551232730913,
          0.2559146575946232,
          0.857038237618503,
          0.6481140692381244,
          -0.301654112349425,
          -0.6565900409778459,
          -0.40136202638992563,
          1.079027086193721,
          -1.4654074113328504,
          0.22806414173457362,
          -0.12046575105851924,
          0.6861665880060672,
          1.219739091463611,
          -0.43143287658116874,
          -0.19185607873873778,
          -0.11070832859732356,
          -0.4703477554472593,
          1.2167300209804561,
          -1.027506202862617,
          -1.6801079385214954,
          -1.4562809624135469,
          0.23396962506006988,
          -1.3463996276459578,
          -0.09149518233738907,
          1.9268597391661029,
          -1.06932101547924,
          1.204153751265953,
          -1.4495055769352365,
          0.37317334355852666,
          1.0450315678905135,
          0.9062777721000029,
          -0.3006642175307795,
          0.3975275531144573,
          0.635836243496414,
          -0.4754197287827103,
          0.7833751015051399,
          -0.04243868656607411,
          0.3486887706157529,
          2.5181293123660424,
          1.9490253243603444,
          0.6025809541825847,
          0.05800266255571208,
          0.46799447384150183,
          -0.18901297174740078,
          -1.1303547226766595
         ],
         "xaxis": "x15",
         "y": [
          -0.13245030450514364,
          1.3090654496831373,
          0.5941034874725996,
          1.3384135152866654,
          -1.0530997292776216,
          1.9371791790234008,
          -0.9594274779282423,
          0.3078547729629255,
          1.7441823466769475,
          -0.09951392913240051,
          1.4355555549411385,
          0.3710727965237172,
          0.03374975359859986,
          -0.033479064173235706,
          -1.3665450741870664,
          0.22152886857406304,
          -0.5674491542831128,
          0.4587153411471475,
          0.4248257984021767,
          -0.6235717369069563,
          1.710146658764891,
          1.4098121814995066,
          -1.1274754409717573,
          0.6957888501265138,
          -1.1059917553459906,
          0.21130046830671764,
          -0.39564111141040675,
          -0.5798788175891483,
          -1.4251703850714619,
          -0.3129891502561077,
          0.4721896855766305,
          1.2806911306780764,
          -0.5343589299964965,
          -0.4888466988329627,
          -0.201050352276019,
          0.4015844429868238,
          1.1648370299558586,
          -0.6744640514699624,
          1.4175678671847494,
          -0.42929632456118305,
          -0.8394976099692066,
          -0.49802703221661765,
          0.38183772806856087,
          -0.0032499998252741727,
          1.4543067636878553,
          0.3910702976593195,
          0.003870755619403408,
          1.2896667549679,
          1.224421916039707,
          1.3344355771053826,
          1.5250482470987206,
          -1.9657127108424082,
          0.5590658834601998,
          -1.1976217219467151,
          -0.0488212368535531,
          -0.0906397146441149,
          -1.0654119498341241,
          -1.8808024512027708,
          -1.1163775860251197,
          -0.049107991126143856,
          -0.707384583106294,
          -0.7637002961689972,
          -0.8606711320580065,
          0.17817147440272832,
          -0.9446586767242249,
          -0.3631999980389838,
          1.3242270428031158,
          -0.7980788101588576,
          0.19890789884205137,
          0.5263478230076676,
          0.05618074411174819,
          1.1190310472224207,
          1.1549808215813724,
          0.10379562374333628,
          -0.397758529607837,
          -0.35789023929608244,
          2.966904904253891,
          -0.4274498902723708,
          -1.1872459785099456,
          -1.2472082324945206,
          1.8599860272482274,
          0.6024133519643031,
          0.25654030035368325,
          -1.8243553827834675,
          0.937221973717681,
          -1.752472730183518,
          -0.45837441861259437,
          -0.4090614683198603,
          1.003333450424868,
          0.1122618715732058,
          -1.3235108512525702,
          1.127613144563296,
          0.045354560188719195,
          0.7218142655403719,
          0.4003629839392785,
          -0.3052701998445313,
          1.3713091367297658,
          -2.5332123573589964,
          0.9564787407896036,
          -0.21761251009317298
         ],
         "yaxis": "y15"
        },
        {
         "histfunc": "count",
         "histnorm": "",
         "marker": {
          "color": "rgba(128, 0, 128, 1.0)",
          "line": {
           "color": "#4D5663",
           "width": 1.3
          }
         },
         "name": "D",
         "nbinsx": 10,
         "opacity": 0.8,
         "orientation": "v",
         "type": "histogram",
         "x": [
          -0.13245030450514364,
          1.3090654496831373,
          0.5941034874725996,
          1.3384135152866654,
          -1.0530997292776216,
          1.9371791790234008,
          -0.9594274779282423,
          0.3078547729629255,
          1.7441823466769475,
          -0.09951392913240051,
          1.4355555549411385,
          0.3710727965237172,
          0.03374975359859986,
          -0.033479064173235706,
          -1.3665450741870664,
          0.22152886857406304,
          -0.5674491542831128,
          0.4587153411471475,
          0.4248257984021767,
          -0.6235717369069563,
          1.710146658764891,
          1.4098121814995066,
          -1.1274754409717573,
          0.6957888501265138,
          -1.1059917553459906,
          0.21130046830671764,
          -0.39564111141040675,
          -0.5798788175891483,
          -1.4251703850714619,
          -0.3129891502561077,
          0.4721896855766305,
          1.2806911306780764,
          -0.5343589299964965,
          -0.4888466988329627,
          -0.201050352276019,
          0.4015844429868238,
          1.1648370299558586,
          -0.6744640514699624,
          1.4175678671847494,
          -0.42929632456118305,
          -0.8394976099692066,
          -0.49802703221661765,
          0.38183772806856087,
          -0.0032499998252741727,
          1.4543067636878553,
          0.3910702976593195,
          0.003870755619403408,
          1.2896667549679,
          1.224421916039707,
          1.3344355771053826,
          1.5250482470987206,
          -1.9657127108424082,
          0.5590658834601998,
          -1.1976217219467151,
          -0.0488212368535531,
          -0.0906397146441149,
          -1.0654119498341241,
          -1.8808024512027708,
          -1.1163775860251197,
          -0.049107991126143856,
          -0.707384583106294,
          -0.7637002961689972,
          -0.8606711320580065,
          0.17817147440272832,
          -0.9446586767242249,
          -0.3631999980389838,
          1.3242270428031158,
          -0.7980788101588576,
          0.19890789884205137,
          0.5263478230076676,
          0.05618074411174819,
          1.1190310472224207,
          1.1549808215813724,
          0.10379562374333628,
          -0.397758529607837,
          -0.35789023929608244,
          2.966904904253891,
          -0.4274498902723708,
          -1.1872459785099456,
          -1.2472082324945206,
          1.8599860272482274,
          0.6024133519643031,
          0.25654030035368325,
          -1.8243553827834675,
          0.937221973717681,
          -1.752472730183518,
          -0.45837441861259437,
          -0.4090614683198603,
          1.003333450424868,
          0.1122618715732058,
          -1.3235108512525702,
          1.127613144563296,
          0.045354560188719195,
          0.7218142655403719,
          0.4003629839392785,
          -0.3052701998445313,
          1.3713091367297658,
          -2.5332123573589964,
          0.9564787407896036,
          -0.21761251009317298
         ],
         "xaxis": "x16",
         "yaxis": "y16"
        }
       ],
       "layout": {
        "bargap": 0.02,
        "legend": {
         "bgcolor": "#F5F6F9",
         "font": {
          "color": "#4D5663"
         }
        },
        "paper_bgcolor": "#F5F6F9",
        "plot_bgcolor": "#F5F6F9",
        "showlegend": false,
        "template": {
         "data": {
          "bar": [
           {
            "error_x": {
             "color": "#2a3f5f"
            },
            "error_y": {
             "color": "#2a3f5f"
            },
            "marker": {
             "line": {
              "color": "#E5ECF6",
              "width": 0.5
             }
            },
            "type": "bar"
           }
          ],
          "barpolar": [
           {
            "marker": {
             "line": {
              "color": "#E5ECF6",
              "width": 0.5
             }
            },
            "type": "barpolar"
           }
          ],
          "carpet": [
           {
            "aaxis": {
             "endlinecolor": "#2a3f5f",
             "gridcolor": "white",
             "linecolor": "white",
             "minorgridcolor": "white",
             "startlinecolor": "#2a3f5f"
            },
            "baxis": {
             "endlinecolor": "#2a3f5f",
             "gridcolor": "white",
             "linecolor": "white",
             "minorgridcolor": "white",
             "startlinecolor": "#2a3f5f"
            },
            "type": "carpet"
           }
          ],
          "choropleth": [
           {
            "colorbar": {
             "outlinewidth": 0,
             "ticks": ""
            },
            "type": "choropleth"
           }
          ],
          "contour": [
           {
            "colorbar": {
             "outlinewidth": 0,
             "ticks": ""
            },
            "colorscale": [
             [
              0,
              "#0d0887"
             ],
             [
              0.1111111111111111,
              "#46039f"
             ],
             [
              0.2222222222222222,
              "#7201a8"
             ],
             [
              0.3333333333333333,
              "#9c179e"
             ],
             [
              0.4444444444444444,
              "#bd3786"
             ],
             [
              0.5555555555555556,
              "#d8576b"
             ],
             [
              0.6666666666666666,
              "#ed7953"
             ],
             [
              0.7777777777777778,
              "#fb9f3a"
             ],
             [
              0.8888888888888888,
              "#fdca26"
             ],
             [
              1,
              "#f0f921"
             ]
            ],
            "type": "contour"
           }
          ],
          "contourcarpet": [
           {
            "colorbar": {
             "outlinewidth": 0,
             "ticks": ""
            },
            "type": "contourcarpet"
           }
          ],
          "heatmap": [
           {
            "colorbar": {
             "outlinewidth": 0,
             "ticks": ""
            },
            "colorscale": [
             [
              0,
              "#0d0887"
             ],
             [
              0.1111111111111111,
              "#46039f"
             ],
             [
              0.2222222222222222,
              "#7201a8"
             ],
             [
              0.3333333333333333,
              "#9c179e"
             ],
             [
              0.4444444444444444,
              "#bd3786"
             ],
             [
              0.5555555555555556,
              "#d8576b"
             ],
             [
              0.6666666666666666,
              "#ed7953"
             ],
             [
              0.7777777777777778,
              "#fb9f3a"
             ],
             [
              0.8888888888888888,
              "#fdca26"
             ],
             [
              1,
              "#f0f921"
             ]
            ],
            "type": "heatmap"
           }
          ],
          "heatmapgl": [
           {
            "colorbar": {
             "outlinewidth": 0,
             "ticks": ""
            },
            "colorscale": [
             [
              0,
              "#0d0887"
             ],
             [
              0.1111111111111111,
              "#46039f"
             ],
             [
              0.2222222222222222,
              "#7201a8"
             ],
             [
              0.3333333333333333,
              "#9c179e"
             ],
             [
              0.4444444444444444,
              "#bd3786"
             ],
             [
              0.5555555555555556,
              "#d8576b"
             ],
             [
              0.6666666666666666,
              "#ed7953"
             ],
             [
              0.7777777777777778,
              "#fb9f3a"
             ],
             [
              0.8888888888888888,
              "#fdca26"
             ],
             [
              1,
              "#f0f921"
             ]
            ],
            "type": "heatmapgl"
           }
          ],
          "histogram": [
           {
            "marker": {
             "colorbar": {
              "outlinewidth": 0,
              "ticks": ""
             }
            },
            "type": "histogram"
           }
          ],
          "histogram2d": [
           {
            "colorbar": {
             "outlinewidth": 0,
             "ticks": ""
            },
            "colorscale": [
             [
              0,
              "#0d0887"
             ],
             [
              0.1111111111111111,
              "#46039f"
             ],
             [
              0.2222222222222222,
              "#7201a8"
             ],
             [
              0.3333333333333333,
              "#9c179e"
             ],
             [
              0.4444444444444444,
              "#bd3786"
             ],
             [
              0.5555555555555556,
              "#d8576b"
             ],
             [
              0.6666666666666666,
              "#ed7953"
             ],
             [
              0.7777777777777778,
              "#fb9f3a"
             ],
             [
              0.8888888888888888,
              "#fdca26"
             ],
             [
              1,
              "#f0f921"
             ]
            ],
            "type": "histogram2d"
           }
          ],
          "histogram2dcontour": [
           {
            "colorbar": {
             "outlinewidth": 0,
             "ticks": ""
            },
            "colorscale": [
             [
              0,
              "#0d0887"
             ],
             [
              0.1111111111111111,
              "#46039f"
             ],
             [
              0.2222222222222222,
              "#7201a8"
             ],
             [
              0.3333333333333333,
              "#9c179e"
             ],
             [
              0.4444444444444444,
              "#bd3786"
             ],
             [
              0.5555555555555556,
              "#d8576b"
             ],
             [
              0.6666666666666666,
              "#ed7953"
             ],
             [
              0.7777777777777778,
              "#fb9f3a"
             ],
             [
              0.8888888888888888,
              "#fdca26"
             ],
             [
              1,
              "#f0f921"
             ]
            ],
            "type": "histogram2dcontour"
           }
          ],
          "mesh3d": [
           {
            "colorbar": {
             "outlinewidth": 0,
             "ticks": ""
            },
            "type": "mesh3d"
           }
          ],
          "parcoords": [
           {
            "line": {
             "colorbar": {
              "outlinewidth": 0,
              "ticks": ""
             }
            },
            "type": "parcoords"
           }
          ],
          "pie": [
           {
            "automargin": true,
            "type": "pie"
           }
          ],
          "scatter": [
           {
            "marker": {
             "colorbar": {
              "outlinewidth": 0,
              "ticks": ""
             }
            },
            "type": "scatter"
           }
          ],
          "scatter3d": [
           {
            "line": {
             "colorbar": {
              "outlinewidth": 0,
              "ticks": ""
             }
            },
            "marker": {
             "colorbar": {
              "outlinewidth": 0,
              "ticks": ""
             }
            },
            "type": "scatter3d"
           }
          ],
          "scattercarpet": [
           {
            "marker": {
             "colorbar": {
              "outlinewidth": 0,
              "ticks": ""
             }
            },
            "type": "scattercarpet"
           }
          ],
          "scattergeo": [
           {
            "marker": {
             "colorbar": {
              "outlinewidth": 0,
              "ticks": ""
             }
            },
            "type": "scattergeo"
           }
          ],
          "scattergl": [
           {
            "marker": {
             "colorbar": {
              "outlinewidth": 0,
              "ticks": ""
             }
            },
            "type": "scattergl"
           }
          ],
          "scattermapbox": [
           {
            "marker": {
             "colorbar": {
              "outlinewidth": 0,
              "ticks": ""
             }
            },
            "type": "scattermapbox"
           }
          ],
          "scatterpolar": [
           {
            "marker": {
             "colorbar": {
              "outlinewidth": 0,
              "ticks": ""
             }
            },
            "type": "scatterpolar"
           }
          ],
          "scatterpolargl": [
           {
            "marker": {
             "colorbar": {
              "outlinewidth": 0,
              "ticks": ""
             }
            },
            "type": "scatterpolargl"
           }
          ],
          "scatterternary": [
           {
            "marker": {
             "colorbar": {
              "outlinewidth": 0,
              "ticks": ""
             }
            },
            "type": "scatterternary"
           }
          ],
          "surface": [
           {
            "colorbar": {
             "outlinewidth": 0,
             "ticks": ""
            },
            "colorscale": [
             [
              0,
              "#0d0887"
             ],
             [
              0.1111111111111111,
              "#46039f"
             ],
             [
              0.2222222222222222,
              "#7201a8"
             ],
             [
              0.3333333333333333,
              "#9c179e"
             ],
             [
              0.4444444444444444,
              "#bd3786"
             ],
             [
              0.5555555555555556,
              "#d8576b"
             ],
             [
              0.6666666666666666,
              "#ed7953"
             ],
             [
              0.7777777777777778,
              "#fb9f3a"
             ],
             [
              0.8888888888888888,
              "#fdca26"
             ],
             [
              1,
              "#f0f921"
             ]
            ],
            "type": "surface"
           }
          ],
          "table": [
           {
            "cells": {
             "fill": {
              "color": "#EBF0F8"
             },
             "line": {
              "color": "white"
             }
            },
            "header": {
             "fill": {
              "color": "#C8D4E3"
             },
             "line": {
              "color": "white"
             }
            },
            "type": "table"
           }
          ]
         },
         "layout": {
          "annotationdefaults": {
           "arrowcolor": "#2a3f5f",
           "arrowhead": 0,
           "arrowwidth": 1
          },
          "autotypenumbers": "strict",
          "coloraxis": {
           "colorbar": {
            "outlinewidth": 0,
            "ticks": ""
           }
          },
          "colorscale": {
           "diverging": [
            [
             0,
             "#8e0152"
            ],
            [
             0.1,
             "#c51b7d"
            ],
            [
             0.2,
             "#de77ae"
            ],
            [
             0.3,
             "#f1b6da"
            ],
            [
             0.4,
             "#fde0ef"
            ],
            [
             0.5,
             "#f7f7f7"
            ],
            [
             0.6,
             "#e6f5d0"
            ],
            [
             0.7,
             "#b8e186"
            ],
            [
             0.8,
             "#7fbc41"
            ],
            [
             0.9,
             "#4d9221"
            ],
            [
             1,
             "#276419"
            ]
           ],
           "sequential": [
            [
             0,
             "#0d0887"
            ],
            [
             0.1111111111111111,
             "#46039f"
            ],
            [
             0.2222222222222222,
             "#7201a8"
            ],
            [
             0.3333333333333333,
             "#9c179e"
            ],
            [
             0.4444444444444444,
             "#bd3786"
            ],
            [
             0.5555555555555556,
             "#d8576b"
            ],
            [
             0.6666666666666666,
             "#ed7953"
            ],
            [
             0.7777777777777778,
             "#fb9f3a"
            ],
            [
             0.8888888888888888,
             "#fdca26"
            ],
            [
             1,
             "#f0f921"
            ]
           ],
           "sequentialminus": [
            [
             0,
             "#0d0887"
            ],
            [
             0.1111111111111111,
             "#46039f"
            ],
            [
             0.2222222222222222,
             "#7201a8"
            ],
            [
             0.3333333333333333,
             "#9c179e"
            ],
            [
             0.4444444444444444,
             "#bd3786"
            ],
            [
             0.5555555555555556,
             "#d8576b"
            ],
            [
             0.6666666666666666,
             "#ed7953"
            ],
            [
             0.7777777777777778,
             "#fb9f3a"
            ],
            [
             0.8888888888888888,
             "#fdca26"
            ],
            [
             1,
             "#f0f921"
            ]
           ]
          },
          "colorway": [
           "#636efa",
           "#EF553B",
           "#00cc96",
           "#ab63fa",
           "#FFA15A",
           "#19d3f3",
           "#FF6692",
           "#B6E880",
           "#FF97FF",
           "#FECB52"
          ],
          "font": {
           "color": "#2a3f5f"
          },
          "geo": {
           "bgcolor": "white",
           "lakecolor": "white",
           "landcolor": "#E5ECF6",
           "showlakes": true,
           "showland": true,
           "subunitcolor": "white"
          },
          "hoverlabel": {
           "align": "left"
          },
          "hovermode": "closest",
          "mapbox": {
           "style": "light"
          },
          "paper_bgcolor": "white",
          "plot_bgcolor": "#E5ECF6",
          "polar": {
           "angularaxis": {
            "gridcolor": "white",
            "linecolor": "white",
            "ticks": ""
           },
           "bgcolor": "#E5ECF6",
           "radialaxis": {
            "gridcolor": "white",
            "linecolor": "white",
            "ticks": ""
           }
          },
          "scene": {
           "xaxis": {
            "backgroundcolor": "#E5ECF6",
            "gridcolor": "white",
            "gridwidth": 2,
            "linecolor": "white",
            "showbackground": true,
            "ticks": "",
            "zerolinecolor": "white"
           },
           "yaxis": {
            "backgroundcolor": "#E5ECF6",
            "gridcolor": "white",
            "gridwidth": 2,
            "linecolor": "white",
            "showbackground": true,
            "ticks": "",
            "zerolinecolor": "white"
           },
           "zaxis": {
            "backgroundcolor": "#E5ECF6",
            "gridcolor": "white",
            "gridwidth": 2,
            "linecolor": "white",
            "showbackground": true,
            "ticks": "",
            "zerolinecolor": "white"
           }
          },
          "shapedefaults": {
           "line": {
            "color": "#2a3f5f"
           }
          },
          "ternary": {
           "aaxis": {
            "gridcolor": "white",
            "linecolor": "white",
            "ticks": ""
           },
           "baxis": {
            "gridcolor": "white",
            "linecolor": "white",
            "ticks": ""
           },
           "bgcolor": "#E5ECF6",
           "caxis": {
            "gridcolor": "white",
            "linecolor": "white",
            "ticks": ""
           }
          },
          "title": {
           "x": 0.05
          },
          "xaxis": {
           "automargin": true,
           "gridcolor": "white",
           "linecolor": "white",
           "ticks": "",
           "title": {
            "standoff": 15
           },
           "zerolinecolor": "white",
           "zerolinewidth": 2
          },
          "yaxis": {
           "automargin": true,
           "gridcolor": "white",
           "linecolor": "white",
           "ticks": "",
           "title": {
            "standoff": 15
           },
           "zerolinecolor": "white",
           "zerolinewidth": 2
          }
         }
        },
        "title": {
         "font": {
          "color": "#4D5663"
         }
        },
        "xaxis": {
         "anchor": "y",
         "domain": [
          0,
          0.2125
         ],
         "gridcolor": "#E1E5ED",
         "showgrid": false,
         "tickfont": {
          "color": "#4D5663"
         },
         "title": {
          "font": {
           "color": "#4D5663"
          },
          "text": ""
         },
         "zerolinecolor": "#E1E5ED"
        },
        "xaxis10": {
         "anchor": "y10",
         "domain": [
          0.2625,
          0.475
         ],
         "gridcolor": "#E1E5ED",
         "showgrid": false,
         "tickfont": {
          "color": "#4D5663"
         },
         "title": {
          "font": {
           "color": "#4D5663"
          },
          "text": ""
         },
         "zerolinecolor": "#E1E5ED"
        },
        "xaxis11": {
         "anchor": "y11",
         "domain": [
          0.525,
          0.7375
         ],
         "gridcolor": "#E1E5ED",
         "showgrid": false,
         "tickfont": {
          "color": "#4D5663"
         },
         "title": {
          "font": {
           "color": "#4D5663"
          },
          "text": ""
         },
         "zerolinecolor": "#E1E5ED"
        },
        "xaxis12": {
         "anchor": "y12",
         "domain": [
          0.7875,
          1
         ],
         "gridcolor": "#E1E5ED",
         "showgrid": false,
         "tickfont": {
          "color": "#4D5663"
         },
         "title": {
          "font": {
           "color": "#4D5663"
          },
          "text": ""
         },
         "zerolinecolor": "#E1E5ED"
        },
        "xaxis13": {
         "anchor": "y13",
         "domain": [
          0,
          0.2125
         ],
         "gridcolor": "#E1E5ED",
         "showgrid": false,
         "tickfont": {
          "color": "#4D5663"
         },
         "title": {
          "font": {
           "color": "#4D5663"
          },
          "text": ""
         },
         "zerolinecolor": "#E1E5ED"
        },
        "xaxis14": {
         "anchor": "y14",
         "domain": [
          0.2625,
          0.475
         ],
         "gridcolor": "#E1E5ED",
         "showgrid": false,
         "tickfont": {
          "color": "#4D5663"
         },
         "title": {
          "font": {
           "color": "#4D5663"
          },
          "text": ""
         },
         "zerolinecolor": "#E1E5ED"
        },
        "xaxis15": {
         "anchor": "y15",
         "domain": [
          0.525,
          0.7375
         ],
         "gridcolor": "#E1E5ED",
         "showgrid": false,
         "tickfont": {
          "color": "#4D5663"
         },
         "title": {
          "font": {
           "color": "#4D5663"
          },
          "text": ""
         },
         "zerolinecolor": "#E1E5ED"
        },
        "xaxis16": {
         "anchor": "y16",
         "domain": [
          0.7875,
          1
         ],
         "gridcolor": "#E1E5ED",
         "showgrid": false,
         "tickfont": {
          "color": "#4D5663"
         },
         "title": {
          "font": {
           "color": "#4D5663"
          },
          "text": ""
         },
         "zerolinecolor": "#E1E5ED"
        },
        "xaxis2": {
         "anchor": "y2",
         "domain": [
          0.2625,
          0.475
         ],
         "gridcolor": "#E1E5ED",
         "showgrid": false,
         "tickfont": {
          "color": "#4D5663"
         },
         "title": {
          "font": {
           "color": "#4D5663"
          },
          "text": ""
         },
         "zerolinecolor": "#E1E5ED"
        },
        "xaxis3": {
         "anchor": "y3",
         "domain": [
          0.525,
          0.7375
         ],
         "gridcolor": "#E1E5ED",
         "showgrid": false,
         "tickfont": {
          "color": "#4D5663"
         },
         "title": {
          "font": {
           "color": "#4D5663"
          },
          "text": ""
         },
         "zerolinecolor": "#E1E5ED"
        },
        "xaxis4": {
         "anchor": "y4",
         "domain": [
          0.7875,
          1
         ],
         "gridcolor": "#E1E5ED",
         "showgrid": false,
         "tickfont": {
          "color": "#4D5663"
         },
         "title": {
          "font": {
           "color": "#4D5663"
          },
          "text": ""
         },
         "zerolinecolor": "#E1E5ED"
        },
        "xaxis5": {
         "anchor": "y5",
         "domain": [
          0,
          0.2125
         ],
         "gridcolor": "#E1E5ED",
         "showgrid": false,
         "tickfont": {
          "color": "#4D5663"
         },
         "title": {
          "font": {
           "color": "#4D5663"
          },
          "text": ""
         },
         "zerolinecolor": "#E1E5ED"
        },
        "xaxis6": {
         "anchor": "y6",
         "domain": [
          0.2625,
          0.475
         ],
         "gridcolor": "#E1E5ED",
         "showgrid": false,
         "tickfont": {
          "color": "#4D5663"
         },
         "title": {
          "font": {
           "color": "#4D5663"
          },
          "text": ""
         },
         "zerolinecolor": "#E1E5ED"
        },
        "xaxis7": {
         "anchor": "y7",
         "domain": [
          0.525,
          0.7375
         ],
         "gridcolor": "#E1E5ED",
         "showgrid": false,
         "tickfont": {
          "color": "#4D5663"
         },
         "title": {
          "font": {
           "color": "#4D5663"
          },
          "text": ""
         },
         "zerolinecolor": "#E1E5ED"
        },
        "xaxis8": {
         "anchor": "y8",
         "domain": [
          0.7875,
          1
         ],
         "gridcolor": "#E1E5ED",
         "showgrid": false,
         "tickfont": {
          "color": "#4D5663"
         },
         "title": {
          "font": {
           "color": "#4D5663"
          },
          "text": ""
         },
         "zerolinecolor": "#E1E5ED"
        },
        "xaxis9": {
         "anchor": "y9",
         "domain": [
          0,
          0.2125
         ],
         "gridcolor": "#E1E5ED",
         "showgrid": false,
         "tickfont": {
          "color": "#4D5663"
         },
         "title": {
          "font": {
           "color": "#4D5663"
          },
          "text": ""
         },
         "zerolinecolor": "#E1E5ED"
        },
        "yaxis": {
         "anchor": "x",
         "domain": [
          0.8025,
          1
         ],
         "gridcolor": "#E1E5ED",
         "showgrid": false,
         "tickfont": {
          "color": "#4D5663"
         },
         "title": {
          "font": {
           "color": "#4D5663"
          },
          "text": ""
         },
         "zerolinecolor": "#E1E5ED"
        },
        "yaxis10": {
         "anchor": "x10",
         "domain": [
          0.2675,
          0.465
         ],
         "gridcolor": "#E1E5ED",
         "showgrid": false,
         "tickfont": {
          "color": "#4D5663"
         },
         "title": {
          "font": {
           "color": "#4D5663"
          },
          "text": ""
         },
         "zerolinecolor": "#E1E5ED"
        },
        "yaxis11": {
         "anchor": "x11",
         "domain": [
          0.2675,
          0.465
         ],
         "gridcolor": "#E1E5ED",
         "showgrid": false,
         "tickfont": {
          "color": "#4D5663"
         },
         "title": {
          "font": {
           "color": "#4D5663"
          },
          "text": ""
         },
         "zerolinecolor": "#E1E5ED"
        },
        "yaxis12": {
         "anchor": "x12",
         "domain": [
          0.2675,
          0.465
         ],
         "gridcolor": "#E1E5ED",
         "showgrid": false,
         "tickfont": {
          "color": "#4D5663"
         },
         "title": {
          "font": {
           "color": "#4D5663"
          },
          "text": ""
         },
         "zerolinecolor": "#E1E5ED"
        },
        "yaxis13": {
         "anchor": "x13",
         "domain": [
          0,
          0.1975
         ],
         "gridcolor": "#E1E5ED",
         "showgrid": false,
         "tickfont": {
          "color": "#4D5663"
         },
         "title": {
          "font": {
           "color": "#4D5663"
          },
          "text": ""
         },
         "zerolinecolor": "#E1E5ED"
        },
        "yaxis14": {
         "anchor": "x14",
         "domain": [
          0,
          0.1975
         ],
         "gridcolor": "#E1E5ED",
         "showgrid": false,
         "tickfont": {
          "color": "#4D5663"
         },
         "title": {
          "font": {
           "color": "#4D5663"
          },
          "text": ""
         },
         "zerolinecolor": "#E1E5ED"
        },
        "yaxis15": {
         "anchor": "x15",
         "domain": [
          0,
          0.1975
         ],
         "gridcolor": "#E1E5ED",
         "showgrid": false,
         "tickfont": {
          "color": "#4D5663"
         },
         "title": {
          "font": {
           "color": "#4D5663"
          },
          "text": ""
         },
         "zerolinecolor": "#E1E5ED"
        },
        "yaxis16": {
         "anchor": "x16",
         "domain": [
          0,
          0.1975
         ],
         "gridcolor": "#E1E5ED",
         "showgrid": false,
         "tickfont": {
          "color": "#4D5663"
         },
         "title": {
          "font": {
           "color": "#4D5663"
          },
          "text": ""
         },
         "zerolinecolor": "#E1E5ED"
        },
        "yaxis2": {
         "anchor": "x2",
         "domain": [
          0.8025,
          1
         ],
         "gridcolor": "#E1E5ED",
         "showgrid": false,
         "tickfont": {
          "color": "#4D5663"
         },
         "title": {
          "font": {
           "color": "#4D5663"
          },
          "text": ""
         },
         "zerolinecolor": "#E1E5ED"
        },
        "yaxis3": {
         "anchor": "x3",
         "domain": [
          0.8025,
          1
         ],
         "gridcolor": "#E1E5ED",
         "showgrid": false,
         "tickfont": {
          "color": "#4D5663"
         },
         "title": {
          "font": {
           "color": "#4D5663"
          },
          "text": ""
         },
         "zerolinecolor": "#E1E5ED"
        },
        "yaxis4": {
         "anchor": "x4",
         "domain": [
          0.8025,
          1
         ],
         "gridcolor": "#E1E5ED",
         "showgrid": false,
         "tickfont": {
          "color": "#4D5663"
         },
         "title": {
          "font": {
           "color": "#4D5663"
          },
          "text": ""
         },
         "zerolinecolor": "#E1E5ED"
        },
        "yaxis5": {
         "anchor": "x5",
         "domain": [
          0.535,
          0.7325
         ],
         "gridcolor": "#E1E5ED",
         "showgrid": false,
         "tickfont": {
          "color": "#4D5663"
         },
         "title": {
          "font": {
           "color": "#4D5663"
          },
          "text": ""
         },
         "zerolinecolor": "#E1E5ED"
        },
        "yaxis6": {
         "anchor": "x6",
         "domain": [
          0.535,
          0.7325
         ],
         "gridcolor": "#E1E5ED",
         "showgrid": false,
         "tickfont": {
          "color": "#4D5663"
         },
         "title": {
          "font": {
           "color": "#4D5663"
          },
          "text": ""
         },
         "zerolinecolor": "#E1E5ED"
        },
        "yaxis7": {
         "anchor": "x7",
         "domain": [
          0.535,
          0.7325
         ],
         "gridcolor": "#E1E5ED",
         "showgrid": false,
         "tickfont": {
          "color": "#4D5663"
         },
         "title": {
          "font": {
           "color": "#4D5663"
          },
          "text": ""
         },
         "zerolinecolor": "#E1E5ED"
        },
        "yaxis8": {
         "anchor": "x8",
         "domain": [
          0.535,
          0.7325
         ],
         "gridcolor": "#E1E5ED",
         "showgrid": false,
         "tickfont": {
          "color": "#4D5663"
         },
         "title": {
          "font": {
           "color": "#4D5663"
          },
          "text": ""
         },
         "zerolinecolor": "#E1E5ED"
        },
        "yaxis9": {
         "anchor": "x9",
         "domain": [
          0.2675,
          0.465
         ],
         "gridcolor": "#E1E5ED",
         "showgrid": false,
         "tickfont": {
          "color": "#4D5663"
         },
         "title": {
          "font": {
           "color": "#4D5663"
          },
          "text": ""
         },
         "zerolinecolor": "#E1E5ED"
        }
       }
      },
      "text/html": [
       "<div>                            <div id=\"1dd71170-a493-44ca-a3d5-6d3a25924fd0\" class=\"plotly-graph-div\" style=\"height:525px; width:100%;\"></div>            <script type=\"text/javascript\">                require([\"plotly\"], function(Plotly) {                    window.PLOTLYENV=window.PLOTLYENV || {};\n",
       "                    window.PLOTLYENV.BASE_URL='https://plot.ly';                                    if (document.getElementById(\"1dd71170-a493-44ca-a3d5-6d3a25924fd0\")) {                    Plotly.newPlot(                        \"1dd71170-a493-44ca-a3d5-6d3a25924fd0\",                        [{\"histfunc\": \"count\", \"histnorm\": \"\", \"marker\": {\"color\": \"rgba(255, 153, 51, 1.0)\", \"line\": {\"color\": \"#4D5663\", \"width\": 1.3}}, \"name\": \"A\", \"nbinsx\": 10, \"opacity\": 0.8, \"orientation\": \"v\", \"type\": \"histogram\", \"x\": [-1.6437536111521518, 0.6236334115580212, 0.3632305334696795, 0.7803939112591669, 0.7742854821151604, -1.0391624009931515, 1.0889561004772061, -0.8820807905725819, -0.09884950690901928, -2.5490967634952577, -1.4465866453633747, -0.4296122350300794, 0.9907776802326949, 2.2655549907972725, 1.1436740283221893, 0.33666342394404386, 0.08937447215462413, -1.046283324201508, -0.3732597314122444, 1.4268298589473511, 0.8619658253130911, -1.5487963505620657, 1.6661593485730637, 0.7491924544143039, 0.621561413774492, 0.2915885975878172, 2.0385417913239405, 1.4244902846641307, -2.159052691440464, 0.5423476711114913, -1.6789323696099687, -0.5446205803784033, 0.387883477755812, -0.22903596434654588, -1.6505967844835412, -0.32881281216744135, 0.6779154927169985, 1.3681067471795663, 0.26225857285756615, -1.9011589892879166, 1.1409349082330473, -0.9589009714325152, 0.03238371011666432, -0.10655362520754084, 0.05927441822569643, 0.42049964960882447, 1.329575920257925, 1.285081393630453, 0.36005982323576674, 0.6358536168798995, 0.2025560884588064, 0.10886754236829017, 0.4269229835904177, 0.14374785684194905, -0.020302072847358597, -0.4560210194505382, 1.8347967740322737, -0.5006575216944982, 1.6792441205485138, 0.44958872515811443, 0.7598644337110251, -1.326566371218351, -1.111550193856778, 1.2756505190831742, 0.7823229849163477, -1.1681639647040756, 0.5987424260829366, 1.4530772148308835, -0.1540334211090501, -0.6605279285668003, -0.5120412364212491, 0.49300018525610345, -1.7204737222447415, -0.13851095685665482, -0.3588646633355994, -0.672204763993229, -0.14758595118924844, -0.7408629549882537, -1.2913725572359855, 1.5473308090202944, 1.318762193807283, 0.259797984036728, -0.40385400584752457, -0.05074138338280163, -0.5739011980296671, 0.43687851240248043, 1.005132152855596, 0.15754796130132306, 0.06280552804167883, -0.28111370074712844, 0.14489460641954385, 0.5492176924141802, -2.1359048816395925, -0.2445338170684625, 0.38474457301952225, 0.014189266045035662, 2.148224956400063, -0.9306543355294326, 1.4984469196272776, -0.23426698205439314], \"xaxis\": \"x\", \"yaxis\": \"y\"}, {\"line\": {\"color\": \"rgba(128, 128, 128, 1.0)\", \"dash\": \"solid\", \"shape\": \"linear\", \"width\": 1.3}, \"marker\": {\"size\": 2, \"symbol\": \"circle\"}, \"mode\": \"markers\", \"name\": \"A\", \"text\": \"\", \"type\": \"scatter\", \"x\": [0.1997120436245693, 0.4014825437710733, -0.12801667220114157, 0.8107491846132913, 2.537350078887453, -0.9788869603880892, -1.3378194669617782, -0.23426486866532062, 0.8757742912539805, -2.0227454095445996, -0.017483907928513998, -0.8504064065218876, 0.8995122342064306, -3.1965038729005197, -0.04595877243296813, 1.565774686594166, 0.27195711823104024, 2.634779913469022, -0.6128501112350614, -0.9381204025498604, 2.2254029657148604, 0.6617734913093654, 0.1729274366607718, 0.6373609822877407, 0.8180905913547657, 0.6994384744369971, -1.0575377803413366, 0.22628233151882693, 2.329320119524522, -1.112061440235663, 0.2515419041896052, -0.2696718165056928, -0.700689498410336, 1.2123048002103898, -0.9600121886012616, -0.22177492689954934, 0.8970292263888108, 1.9660366494708446, 1.2700402043716204, -1.3259086935966156, -0.1092438311787329, -1.3838336167537948, 1.309337408044333, 0.7369189504715908, 0.9793750111708072, 0.8386959382263741, -2.6014199515774523, -1.9395491169488337, -0.24462832833871673, -0.012947003675194895, -0.9565473591206575, 1.5222970935820264, 1.1786194213689853, -0.3165252186143081, 0.5985585830972404, 1.8747596870918923, 0.2419895523466944, -0.13521215456938623, -0.9040822120120701, -1.0667699555127341, 0.32824617656830496, -0.6588345803353914, 1.0699286027722748, -0.13033161196575843, 0.9141706936213561, 1.0637960589927955, -0.10995148242640611, -1.0457235356110008, 0.027499397592431904, -0.8941576216741033, -0.9020235485999063, 0.09023310607670769, 1.8798418811465476, -2.0013537041552185, 0.5032533708041967, -0.2601989552156913, -0.6770761470398742, -0.3487762448643428, 0.3153186836920095, -0.5414590270345206, 0.28405741070812984, -0.07609106182259144, 0.11656621405857027, 0.18821641130543096, -2.2009179559698975, 1.0178362295224403, 0.5121863442190329, 0.6981423101951505, -1.6899453376912257, 0.7222069010847146, -1.3348502683292458, 0.004150585252992694, 0.6635657982770735, -0.5646265666014189, 0.12493662861316242, -0.6843670840702347, -0.13592666505323378, 0.18138101579973953, 0.5838414942921941, 1.1556173562342535], \"xaxis\": \"x2\", \"y\": [-1.6437536111521518, 0.6236334115580212, 0.3632305334696795, 0.7803939112591669, 0.7742854821151604, -1.0391624009931515, 1.0889561004772061, -0.8820807905725819, -0.09884950690901928, -2.5490967634952577, -1.4465866453633747, -0.4296122350300794, 0.9907776802326949, 2.2655549907972725, 1.1436740283221893, 0.33666342394404386, 0.08937447215462413, -1.046283324201508, -0.3732597314122444, 1.4268298589473511, 0.8619658253130911, -1.5487963505620657, 1.6661593485730637, 0.7491924544143039, 0.621561413774492, 0.2915885975878172, 2.0385417913239405, 1.4244902846641307, -2.159052691440464, 0.5423476711114913, -1.6789323696099687, -0.5446205803784033, 0.387883477755812, -0.22903596434654588, -1.6505967844835412, -0.32881281216744135, 0.6779154927169985, 1.3681067471795663, 0.26225857285756615, -1.9011589892879166, 1.1409349082330473, -0.9589009714325152, 0.03238371011666432, -0.10655362520754084, 0.05927441822569643, 0.42049964960882447, 1.329575920257925, 1.285081393630453, 0.36005982323576674, 0.6358536168798995, 0.2025560884588064, 0.10886754236829017, 0.4269229835904177, 0.14374785684194905, -0.020302072847358597, -0.4560210194505382, 1.8347967740322737, -0.5006575216944982, 1.6792441205485138, 0.44958872515811443, 0.7598644337110251, -1.326566371218351, -1.111550193856778, 1.2756505190831742, 0.7823229849163477, -1.1681639647040756, 0.5987424260829366, 1.4530772148308835, -0.1540334211090501, -0.6605279285668003, -0.5120412364212491, 0.49300018525610345, -1.7204737222447415, -0.13851095685665482, -0.3588646633355994, -0.672204763993229, -0.14758595118924844, -0.7408629549882537, -1.2913725572359855, 1.5473308090202944, 1.318762193807283, 0.259797984036728, -0.40385400584752457, -0.05074138338280163, -0.5739011980296671, 0.43687851240248043, 1.005132152855596, 0.15754796130132306, 0.06280552804167883, -0.28111370074712844, 0.14489460641954385, 0.5492176924141802, -2.1359048816395925, -0.2445338170684625, 0.38474457301952225, 0.014189266045035662, 2.148224956400063, -0.9306543355294326, 1.4984469196272776, -0.23426698205439314], \"yaxis\": \"y2\"}, {\"line\": {\"color\": \"rgba(128, 128, 128, 1.0)\", \"dash\": \"solid\", \"shape\": \"linear\", \"width\": 1.3}, \"marker\": {\"size\": 2, \"symbol\": \"circle\"}, \"mode\": \"markers\", \"name\": \"A\", \"text\": \"\", \"type\": \"scatter\", \"x\": [-0.7635475220585797, 0.7275465613950386, 1.2106730592302932, -0.26808880557947223, 0.6113539822345423, -1.214750884034707, 0.0948462303068252, -1.195632383328205, 0.4445681897608045, 0.00232091623376802, 0.723901448264587, -0.713979215671458, 1.3280234720817723, -0.39311110566524465, -0.16345140137243752, 1.3384534805882329, 1.1001315909236695, 0.21218038486150026, 0.8779623997729757, 0.02803609539212363, 0.7929511094793856, 0.06862649748601243, -1.018803700802844, -0.26509337320595466, -0.0889931535431639, 2.1049720474640337, -1.0886218022894911, 0.19200994679222705, -0.3861122196369465, -1.5227878826885317, -0.5120322669400799, -1.054211308029935, 0.3571894984423901, 0.5193026868821258, 1.4232777799075593, 0.3092638505419972, -0.4547563662144429, -0.67976756754685, 0.15813432084671297, 1.1981774787797457, 0.2990881713852884, 0.9232913729290833, 1.1110736506500258, -0.5317450889314217, 1.252034848940193, -0.5747947031124858, -1.0802543135391671, 0.21595513424871368, 0.4814244562208135, -0.8268567287355622, -0.7561373536785448, -0.7306924966238972, 1.1947957263879965, 0.2165257162846546, 0.3396237334304019, -0.5576551232730913, 0.2559146575946232, 0.857038237618503, 0.6481140692381244, -0.301654112349425, -0.6565900409778459, -0.40136202638992563, 1.079027086193721, -1.4654074113328504, 0.22806414173457362, -0.12046575105851924, 0.6861665880060672, 1.219739091463611, -0.43143287658116874, -0.19185607873873778, -0.11070832859732356, -0.4703477554472593, 1.2167300209804561, -1.027506202862617, -1.6801079385214954, -1.4562809624135469, 0.23396962506006988, -1.3463996276459578, -0.09149518233738907, 1.9268597391661029, -1.06932101547924, 1.204153751265953, -1.4495055769352365, 0.37317334355852666, 1.0450315678905135, 0.9062777721000029, -0.3006642175307795, 0.3975275531144573, 0.635836243496414, -0.4754197287827103, 0.7833751015051399, -0.04243868656607411, 0.3486887706157529, 2.5181293123660424, 1.9490253243603444, 0.6025809541825847, 0.05800266255571208, 0.46799447384150183, -0.18901297174740078, -1.1303547226766595], \"xaxis\": \"x3\", \"y\": [-1.6437536111521518, 0.6236334115580212, 0.3632305334696795, 0.7803939112591669, 0.7742854821151604, -1.0391624009931515, 1.0889561004772061, -0.8820807905725819, -0.09884950690901928, -2.5490967634952577, -1.4465866453633747, -0.4296122350300794, 0.9907776802326949, 2.2655549907972725, 1.1436740283221893, 0.33666342394404386, 0.08937447215462413, -1.046283324201508, -0.3732597314122444, 1.4268298589473511, 0.8619658253130911, -1.5487963505620657, 1.6661593485730637, 0.7491924544143039, 0.621561413774492, 0.2915885975878172, 2.0385417913239405, 1.4244902846641307, -2.159052691440464, 0.5423476711114913, -1.6789323696099687, -0.5446205803784033, 0.387883477755812, -0.22903596434654588, -1.6505967844835412, -0.32881281216744135, 0.6779154927169985, 1.3681067471795663, 0.26225857285756615, -1.9011589892879166, 1.1409349082330473, -0.9589009714325152, 0.03238371011666432, -0.10655362520754084, 0.05927441822569643, 0.42049964960882447, 1.329575920257925, 1.285081393630453, 0.36005982323576674, 0.6358536168798995, 0.2025560884588064, 0.10886754236829017, 0.4269229835904177, 0.14374785684194905, -0.020302072847358597, -0.4560210194505382, 1.8347967740322737, -0.5006575216944982, 1.6792441205485138, 0.44958872515811443, 0.7598644337110251, -1.326566371218351, -1.111550193856778, 1.2756505190831742, 0.7823229849163477, -1.1681639647040756, 0.5987424260829366, 1.4530772148308835, -0.1540334211090501, -0.6605279285668003, -0.5120412364212491, 0.49300018525610345, -1.7204737222447415, -0.13851095685665482, -0.3588646633355994, -0.672204763993229, -0.14758595118924844, -0.7408629549882537, -1.2913725572359855, 1.5473308090202944, 1.318762193807283, 0.259797984036728, -0.40385400584752457, -0.05074138338280163, -0.5739011980296671, 0.43687851240248043, 1.005132152855596, 0.15754796130132306, 0.06280552804167883, -0.28111370074712844, 0.14489460641954385, 0.5492176924141802, -2.1359048816395925, -0.2445338170684625, 0.38474457301952225, 0.014189266045035662, 2.148224956400063, -0.9306543355294326, 1.4984469196272776, -0.23426698205439314], \"yaxis\": \"y3\"}, {\"line\": {\"color\": \"rgba(128, 128, 128, 1.0)\", \"dash\": \"solid\", \"shape\": \"linear\", \"width\": 1.3}, \"marker\": {\"size\": 2, \"symbol\": \"circle\"}, \"mode\": \"markers\", \"name\": \"A\", \"text\": \"\", \"type\": \"scatter\", \"x\": [-0.13245030450514364, 1.3090654496831373, 0.5941034874725996, 1.3384135152866654, -1.0530997292776216, 1.9371791790234008, -0.9594274779282423, 0.3078547729629255, 1.7441823466769475, -0.09951392913240051, 1.4355555549411385, 0.3710727965237172, 0.03374975359859986, -0.033479064173235706, -1.3665450741870664, 0.22152886857406304, -0.5674491542831128, 0.4587153411471475, 0.4248257984021767, -0.6235717369069563, 1.710146658764891, 1.4098121814995066, -1.1274754409717573, 0.6957888501265138, -1.1059917553459906, 0.21130046830671764, -0.39564111141040675, -0.5798788175891483, -1.4251703850714619, -0.3129891502561077, 0.4721896855766305, 1.2806911306780764, -0.5343589299964965, -0.4888466988329627, -0.201050352276019, 0.4015844429868238, 1.1648370299558586, -0.6744640514699624, 1.4175678671847494, -0.42929632456118305, -0.8394976099692066, -0.49802703221661765, 0.38183772806856087, -0.0032499998252741727, 1.4543067636878553, 0.3910702976593195, 0.003870755619403408, 1.2896667549679, 1.224421916039707, 1.3344355771053826, 1.5250482470987206, -1.9657127108424082, 0.5590658834601998, -1.1976217219467151, -0.0488212368535531, -0.0906397146441149, -1.0654119498341241, -1.8808024512027708, -1.1163775860251197, -0.049107991126143856, -0.707384583106294, -0.7637002961689972, -0.8606711320580065, 0.17817147440272832, -0.9446586767242249, -0.3631999980389838, 1.3242270428031158, -0.7980788101588576, 0.19890789884205137, 0.5263478230076676, 0.05618074411174819, 1.1190310472224207, 1.1549808215813724, 0.10379562374333628, -0.397758529607837, -0.35789023929608244, 2.966904904253891, -0.4274498902723708, -1.1872459785099456, -1.2472082324945206, 1.8599860272482274, 0.6024133519643031, 0.25654030035368325, -1.8243553827834675, 0.937221973717681, -1.752472730183518, -0.45837441861259437, -0.4090614683198603, 1.003333450424868, 0.1122618715732058, -1.3235108512525702, 1.127613144563296, 0.045354560188719195, 0.7218142655403719, 0.4003629839392785, -0.3052701998445313, 1.3713091367297658, -2.5332123573589964, 0.9564787407896036, -0.21761251009317298], \"xaxis\": \"x4\", \"y\": [-1.6437536111521518, 0.6236334115580212, 0.3632305334696795, 0.7803939112591669, 0.7742854821151604, -1.0391624009931515, 1.0889561004772061, -0.8820807905725819, -0.09884950690901928, -2.5490967634952577, -1.4465866453633747, -0.4296122350300794, 0.9907776802326949, 2.2655549907972725, 1.1436740283221893, 0.33666342394404386, 0.08937447215462413, -1.046283324201508, -0.3732597314122444, 1.4268298589473511, 0.8619658253130911, -1.5487963505620657, 1.6661593485730637, 0.7491924544143039, 0.621561413774492, 0.2915885975878172, 2.0385417913239405, 1.4244902846641307, -2.159052691440464, 0.5423476711114913, -1.6789323696099687, -0.5446205803784033, 0.387883477755812, -0.22903596434654588, -1.6505967844835412, -0.32881281216744135, 0.6779154927169985, 1.3681067471795663, 0.26225857285756615, -1.9011589892879166, 1.1409349082330473, -0.9589009714325152, 0.03238371011666432, -0.10655362520754084, 0.05927441822569643, 0.42049964960882447, 1.329575920257925, 1.285081393630453, 0.36005982323576674, 0.6358536168798995, 0.2025560884588064, 0.10886754236829017, 0.4269229835904177, 0.14374785684194905, -0.020302072847358597, -0.4560210194505382, 1.8347967740322737, -0.5006575216944982, 1.6792441205485138, 0.44958872515811443, 0.7598644337110251, -1.326566371218351, -1.111550193856778, 1.2756505190831742, 0.7823229849163477, -1.1681639647040756, 0.5987424260829366, 1.4530772148308835, -0.1540334211090501, -0.6605279285668003, -0.5120412364212491, 0.49300018525610345, -1.7204737222447415, -0.13851095685665482, -0.3588646633355994, -0.672204763993229, -0.14758595118924844, -0.7408629549882537, -1.2913725572359855, 1.5473308090202944, 1.318762193807283, 0.259797984036728, -0.40385400584752457, -0.05074138338280163, -0.5739011980296671, 0.43687851240248043, 1.005132152855596, 0.15754796130132306, 0.06280552804167883, -0.28111370074712844, 0.14489460641954385, 0.5492176924141802, -2.1359048816395925, -0.2445338170684625, 0.38474457301952225, 0.014189266045035662, 2.148224956400063, -0.9306543355294326, 1.4984469196272776, -0.23426698205439314], \"yaxis\": \"y4\"}, {\"line\": {\"color\": \"rgba(128, 128, 128, 1.0)\", \"dash\": \"solid\", \"shape\": \"linear\", \"width\": 1.3}, \"marker\": {\"size\": 2, \"symbol\": \"circle\"}, \"mode\": \"markers\", \"name\": \"B\", \"text\": \"\", \"type\": \"scatter\", \"x\": [-1.6437536111521518, 0.6236334115580212, 0.3632305334696795, 0.7803939112591669, 0.7742854821151604, -1.0391624009931515, 1.0889561004772061, -0.8820807905725819, -0.09884950690901928, -2.5490967634952577, -1.4465866453633747, -0.4296122350300794, 0.9907776802326949, 2.2655549907972725, 1.1436740283221893, 0.33666342394404386, 0.08937447215462413, -1.046283324201508, -0.3732597314122444, 1.4268298589473511, 0.8619658253130911, -1.5487963505620657, 1.6661593485730637, 0.7491924544143039, 0.621561413774492, 0.2915885975878172, 2.0385417913239405, 1.4244902846641307, -2.159052691440464, 0.5423476711114913, -1.6789323696099687, -0.5446205803784033, 0.387883477755812, -0.22903596434654588, -1.6505967844835412, -0.32881281216744135, 0.6779154927169985, 1.3681067471795663, 0.26225857285756615, -1.9011589892879166, 1.1409349082330473, -0.9589009714325152, 0.03238371011666432, -0.10655362520754084, 0.05927441822569643, 0.42049964960882447, 1.329575920257925, 1.285081393630453, 0.36005982323576674, 0.6358536168798995, 0.2025560884588064, 0.10886754236829017, 0.4269229835904177, 0.14374785684194905, -0.020302072847358597, -0.4560210194505382, 1.8347967740322737, -0.5006575216944982, 1.6792441205485138, 0.44958872515811443, 0.7598644337110251, -1.326566371218351, -1.111550193856778, 1.2756505190831742, 0.7823229849163477, -1.1681639647040756, 0.5987424260829366, 1.4530772148308835, -0.1540334211090501, -0.6605279285668003, -0.5120412364212491, 0.49300018525610345, -1.7204737222447415, -0.13851095685665482, -0.3588646633355994, -0.672204763993229, -0.14758595118924844, -0.7408629549882537, -1.2913725572359855, 1.5473308090202944, 1.318762193807283, 0.259797984036728, -0.40385400584752457, -0.05074138338280163, -0.5739011980296671, 0.43687851240248043, 1.005132152855596, 0.15754796130132306, 0.06280552804167883, -0.28111370074712844, 0.14489460641954385, 0.5492176924141802, -2.1359048816395925, -0.2445338170684625, 0.38474457301952225, 0.014189266045035662, 2.148224956400063, -0.9306543355294326, 1.4984469196272776, -0.23426698205439314], \"xaxis\": \"x5\", \"y\": [0.1997120436245693, 0.4014825437710733, -0.12801667220114157, 0.8107491846132913, 2.537350078887453, -0.9788869603880892, -1.3378194669617782, -0.23426486866532062, 0.8757742912539805, -2.0227454095445996, -0.017483907928513998, -0.8504064065218876, 0.8995122342064306, -3.1965038729005197, -0.04595877243296813, 1.565774686594166, 0.27195711823104024, 2.634779913469022, -0.6128501112350614, -0.9381204025498604, 2.2254029657148604, 0.6617734913093654, 0.1729274366607718, 0.6373609822877407, 0.8180905913547657, 0.6994384744369971, -1.0575377803413366, 0.22628233151882693, 2.329320119524522, -1.112061440235663, 0.2515419041896052, -0.2696718165056928, -0.700689498410336, 1.2123048002103898, -0.9600121886012616, -0.22177492689954934, 0.8970292263888108, 1.9660366494708446, 1.2700402043716204, -1.3259086935966156, -0.1092438311787329, -1.3838336167537948, 1.309337408044333, 0.7369189504715908, 0.9793750111708072, 0.8386959382263741, -2.6014199515774523, -1.9395491169488337, -0.24462832833871673, -0.012947003675194895, -0.9565473591206575, 1.5222970935820264, 1.1786194213689853, -0.3165252186143081, 0.5985585830972404, 1.8747596870918923, 0.2419895523466944, -0.13521215456938623, -0.9040822120120701, -1.0667699555127341, 0.32824617656830496, -0.6588345803353914, 1.0699286027722748, -0.13033161196575843, 0.9141706936213561, 1.0637960589927955, -0.10995148242640611, -1.0457235356110008, 0.027499397592431904, -0.8941576216741033, -0.9020235485999063, 0.09023310607670769, 1.8798418811465476, -2.0013537041552185, 0.5032533708041967, -0.2601989552156913, -0.6770761470398742, -0.3487762448643428, 0.3153186836920095, -0.5414590270345206, 0.28405741070812984, -0.07609106182259144, 0.11656621405857027, 0.18821641130543096, -2.2009179559698975, 1.0178362295224403, 0.5121863442190329, 0.6981423101951505, -1.6899453376912257, 0.7222069010847146, -1.3348502683292458, 0.004150585252992694, 0.6635657982770735, -0.5646265666014189, 0.12493662861316242, -0.6843670840702347, -0.13592666505323378, 0.18138101579973953, 0.5838414942921941, 1.1556173562342535], \"yaxis\": \"y5\"}, {\"histfunc\": \"count\", \"histnorm\": \"\", \"marker\": {\"color\": \"rgba(55, 128, 191, 1.0)\", \"line\": {\"color\": \"#4D5663\", \"width\": 1.3}}, \"name\": \"B\", \"nbinsx\": 10, \"opacity\": 0.8, \"orientation\": \"v\", \"type\": \"histogram\", \"x\": [0.1997120436245693, 0.4014825437710733, -0.12801667220114157, 0.8107491846132913, 2.537350078887453, -0.9788869603880892, -1.3378194669617782, -0.23426486866532062, 0.8757742912539805, -2.0227454095445996, -0.017483907928513998, -0.8504064065218876, 0.8995122342064306, -3.1965038729005197, -0.04595877243296813, 1.565774686594166, 0.27195711823104024, 2.634779913469022, -0.6128501112350614, -0.9381204025498604, 2.2254029657148604, 0.6617734913093654, 0.1729274366607718, 0.6373609822877407, 0.8180905913547657, 0.6994384744369971, -1.0575377803413366, 0.22628233151882693, 2.329320119524522, -1.112061440235663, 0.2515419041896052, -0.2696718165056928, -0.700689498410336, 1.2123048002103898, -0.9600121886012616, -0.22177492689954934, 0.8970292263888108, 1.9660366494708446, 1.2700402043716204, -1.3259086935966156, -0.1092438311787329, -1.3838336167537948, 1.309337408044333, 0.7369189504715908, 0.9793750111708072, 0.8386959382263741, -2.6014199515774523, -1.9395491169488337, -0.24462832833871673, -0.012947003675194895, -0.9565473591206575, 1.5222970935820264, 1.1786194213689853, -0.3165252186143081, 0.5985585830972404, 1.8747596870918923, 0.2419895523466944, -0.13521215456938623, -0.9040822120120701, -1.0667699555127341, 0.32824617656830496, -0.6588345803353914, 1.0699286027722748, -0.13033161196575843, 0.9141706936213561, 1.0637960589927955, -0.10995148242640611, -1.0457235356110008, 0.027499397592431904, -0.8941576216741033, -0.9020235485999063, 0.09023310607670769, 1.8798418811465476, -2.0013537041552185, 0.5032533708041967, -0.2601989552156913, -0.6770761470398742, -0.3487762448643428, 0.3153186836920095, -0.5414590270345206, 0.28405741070812984, -0.07609106182259144, 0.11656621405857027, 0.18821641130543096, -2.2009179559698975, 1.0178362295224403, 0.5121863442190329, 0.6981423101951505, -1.6899453376912257, 0.7222069010847146, -1.3348502683292458, 0.004150585252992694, 0.6635657982770735, -0.5646265666014189, 0.12493662861316242, -0.6843670840702347, -0.13592666505323378, 0.18138101579973953, 0.5838414942921941, 1.1556173562342535], \"xaxis\": \"x6\", \"yaxis\": \"y6\"}, {\"line\": {\"color\": \"rgba(128, 128, 128, 1.0)\", \"dash\": \"solid\", \"shape\": \"linear\", \"width\": 1.3}, \"marker\": {\"size\": 2, \"symbol\": \"circle\"}, \"mode\": \"markers\", \"name\": \"B\", \"text\": \"\", \"type\": \"scatter\", \"x\": [-0.7635475220585797, 0.7275465613950386, 1.2106730592302932, -0.26808880557947223, 0.6113539822345423, -1.214750884034707, 0.0948462303068252, -1.195632383328205, 0.4445681897608045, 0.00232091623376802, 0.723901448264587, -0.713979215671458, 1.3280234720817723, -0.39311110566524465, -0.16345140137243752, 1.3384534805882329, 1.1001315909236695, 0.21218038486150026, 0.8779623997729757, 0.02803609539212363, 0.7929511094793856, 0.06862649748601243, -1.018803700802844, -0.26509337320595466, -0.0889931535431639, 2.1049720474640337, -1.0886218022894911, 0.19200994679222705, -0.3861122196369465, -1.5227878826885317, -0.5120322669400799, -1.054211308029935, 0.3571894984423901, 0.5193026868821258, 1.4232777799075593, 0.3092638505419972, -0.4547563662144429, -0.67976756754685, 0.15813432084671297, 1.1981774787797457, 0.2990881713852884, 0.9232913729290833, 1.1110736506500258, -0.5317450889314217, 1.252034848940193, -0.5747947031124858, -1.0802543135391671, 0.21595513424871368, 0.4814244562208135, -0.8268567287355622, -0.7561373536785448, -0.7306924966238972, 1.1947957263879965, 0.2165257162846546, 0.3396237334304019, -0.5576551232730913, 0.2559146575946232, 0.857038237618503, 0.6481140692381244, -0.301654112349425, -0.6565900409778459, -0.40136202638992563, 1.079027086193721, -1.4654074113328504, 0.22806414173457362, -0.12046575105851924, 0.6861665880060672, 1.219739091463611, -0.43143287658116874, -0.19185607873873778, -0.11070832859732356, -0.4703477554472593, 1.2167300209804561, -1.027506202862617, -1.6801079385214954, -1.4562809624135469, 0.23396962506006988, -1.3463996276459578, -0.09149518233738907, 1.9268597391661029, -1.06932101547924, 1.204153751265953, -1.4495055769352365, 0.37317334355852666, 1.0450315678905135, 0.9062777721000029, -0.3006642175307795, 0.3975275531144573, 0.635836243496414, -0.4754197287827103, 0.7833751015051399, -0.04243868656607411, 0.3486887706157529, 2.5181293123660424, 1.9490253243603444, 0.6025809541825847, 0.05800266255571208, 0.46799447384150183, -0.18901297174740078, -1.1303547226766595], \"xaxis\": \"x7\", \"y\": [0.1997120436245693, 0.4014825437710733, -0.12801667220114157, 0.8107491846132913, 2.537350078887453, -0.9788869603880892, -1.3378194669617782, -0.23426486866532062, 0.8757742912539805, -2.0227454095445996, -0.017483907928513998, -0.8504064065218876, 0.8995122342064306, -3.1965038729005197, -0.04595877243296813, 1.565774686594166, 0.27195711823104024, 2.634779913469022, -0.6128501112350614, -0.9381204025498604, 2.2254029657148604, 0.6617734913093654, 0.1729274366607718, 0.6373609822877407, 0.8180905913547657, 0.6994384744369971, -1.0575377803413366, 0.22628233151882693, 2.329320119524522, -1.112061440235663, 0.2515419041896052, -0.2696718165056928, -0.700689498410336, 1.2123048002103898, -0.9600121886012616, -0.22177492689954934, 0.8970292263888108, 1.9660366494708446, 1.2700402043716204, -1.3259086935966156, -0.1092438311787329, -1.3838336167537948, 1.309337408044333, 0.7369189504715908, 0.9793750111708072, 0.8386959382263741, -2.6014199515774523, -1.9395491169488337, -0.24462832833871673, -0.012947003675194895, -0.9565473591206575, 1.5222970935820264, 1.1786194213689853, -0.3165252186143081, 0.5985585830972404, 1.8747596870918923, 0.2419895523466944, -0.13521215456938623, -0.9040822120120701, -1.0667699555127341, 0.32824617656830496, -0.6588345803353914, 1.0699286027722748, -0.13033161196575843, 0.9141706936213561, 1.0637960589927955, -0.10995148242640611, -1.0457235356110008, 0.027499397592431904, -0.8941576216741033, -0.9020235485999063, 0.09023310607670769, 1.8798418811465476, -2.0013537041552185, 0.5032533708041967, -0.2601989552156913, -0.6770761470398742, -0.3487762448643428, 0.3153186836920095, -0.5414590270345206, 0.28405741070812984, -0.07609106182259144, 0.11656621405857027, 0.18821641130543096, -2.2009179559698975, 1.0178362295224403, 0.5121863442190329, 0.6981423101951505, -1.6899453376912257, 0.7222069010847146, -1.3348502683292458, 0.004150585252992694, 0.6635657982770735, -0.5646265666014189, 0.12493662861316242, -0.6843670840702347, -0.13592666505323378, 0.18138101579973953, 0.5838414942921941, 1.1556173562342535], \"yaxis\": \"y7\"}, {\"line\": {\"color\": \"rgba(128, 128, 128, 1.0)\", \"dash\": \"solid\", \"shape\": \"linear\", \"width\": 1.3}, \"marker\": {\"size\": 2, \"symbol\": \"circle\"}, \"mode\": \"markers\", \"name\": \"B\", \"text\": \"\", \"type\": \"scatter\", \"x\": [-0.13245030450514364, 1.3090654496831373, 0.5941034874725996, 1.3384135152866654, -1.0530997292776216, 1.9371791790234008, -0.9594274779282423, 0.3078547729629255, 1.7441823466769475, -0.09951392913240051, 1.4355555549411385, 0.3710727965237172, 0.03374975359859986, -0.033479064173235706, -1.3665450741870664, 0.22152886857406304, -0.5674491542831128, 0.4587153411471475, 0.4248257984021767, -0.6235717369069563, 1.710146658764891, 1.4098121814995066, -1.1274754409717573, 0.6957888501265138, -1.1059917553459906, 0.21130046830671764, -0.39564111141040675, -0.5798788175891483, -1.4251703850714619, -0.3129891502561077, 0.4721896855766305, 1.2806911306780764, -0.5343589299964965, -0.4888466988329627, -0.201050352276019, 0.4015844429868238, 1.1648370299558586, -0.6744640514699624, 1.4175678671847494, -0.42929632456118305, -0.8394976099692066, -0.49802703221661765, 0.38183772806856087, -0.0032499998252741727, 1.4543067636878553, 0.3910702976593195, 0.003870755619403408, 1.2896667549679, 1.224421916039707, 1.3344355771053826, 1.5250482470987206, -1.9657127108424082, 0.5590658834601998, -1.1976217219467151, -0.0488212368535531, -0.0906397146441149, -1.0654119498341241, -1.8808024512027708, -1.1163775860251197, -0.049107991126143856, -0.707384583106294, -0.7637002961689972, -0.8606711320580065, 0.17817147440272832, -0.9446586767242249, -0.3631999980389838, 1.3242270428031158, -0.7980788101588576, 0.19890789884205137, 0.5263478230076676, 0.05618074411174819, 1.1190310472224207, 1.1549808215813724, 0.10379562374333628, -0.397758529607837, -0.35789023929608244, 2.966904904253891, -0.4274498902723708, -1.1872459785099456, -1.2472082324945206, 1.8599860272482274, 0.6024133519643031, 0.25654030035368325, -1.8243553827834675, 0.937221973717681, -1.752472730183518, -0.45837441861259437, -0.4090614683198603, 1.003333450424868, 0.1122618715732058, -1.3235108512525702, 1.127613144563296, 0.045354560188719195, 0.7218142655403719, 0.4003629839392785, -0.3052701998445313, 1.3713091367297658, -2.5332123573589964, 0.9564787407896036, -0.21761251009317298], \"xaxis\": \"x8\", \"y\": [0.1997120436245693, 0.4014825437710733, -0.12801667220114157, 0.8107491846132913, 2.537350078887453, -0.9788869603880892, -1.3378194669617782, -0.23426486866532062, 0.8757742912539805, -2.0227454095445996, -0.017483907928513998, -0.8504064065218876, 0.8995122342064306, -3.1965038729005197, -0.04595877243296813, 1.565774686594166, 0.27195711823104024, 2.634779913469022, -0.6128501112350614, -0.9381204025498604, 2.2254029657148604, 0.6617734913093654, 0.1729274366607718, 0.6373609822877407, 0.8180905913547657, 0.6994384744369971, -1.0575377803413366, 0.22628233151882693, 2.329320119524522, -1.112061440235663, 0.2515419041896052, -0.2696718165056928, -0.700689498410336, 1.2123048002103898, -0.9600121886012616, -0.22177492689954934, 0.8970292263888108, 1.9660366494708446, 1.2700402043716204, -1.3259086935966156, -0.1092438311787329, -1.3838336167537948, 1.309337408044333, 0.7369189504715908, 0.9793750111708072, 0.8386959382263741, -2.6014199515774523, -1.9395491169488337, -0.24462832833871673, -0.012947003675194895, -0.9565473591206575, 1.5222970935820264, 1.1786194213689853, -0.3165252186143081, 0.5985585830972404, 1.8747596870918923, 0.2419895523466944, -0.13521215456938623, -0.9040822120120701, -1.0667699555127341, 0.32824617656830496, -0.6588345803353914, 1.0699286027722748, -0.13033161196575843, 0.9141706936213561, 1.0637960589927955, -0.10995148242640611, -1.0457235356110008, 0.027499397592431904, -0.8941576216741033, -0.9020235485999063, 0.09023310607670769, 1.8798418811465476, -2.0013537041552185, 0.5032533708041967, -0.2601989552156913, -0.6770761470398742, -0.3487762448643428, 0.3153186836920095, -0.5414590270345206, 0.28405741070812984, -0.07609106182259144, 0.11656621405857027, 0.18821641130543096, -2.2009179559698975, 1.0178362295224403, 0.5121863442190329, 0.6981423101951505, -1.6899453376912257, 0.7222069010847146, -1.3348502683292458, 0.004150585252992694, 0.6635657982770735, -0.5646265666014189, 0.12493662861316242, -0.6843670840702347, -0.13592666505323378, 0.18138101579973953, 0.5838414942921941, 1.1556173562342535], \"yaxis\": \"y8\"}, {\"line\": {\"color\": \"rgba(128, 128, 128, 1.0)\", \"dash\": \"solid\", \"shape\": \"linear\", \"width\": 1.3}, \"marker\": {\"size\": 2, \"symbol\": \"circle\"}, \"mode\": \"markers\", \"name\": \"C\", \"text\": \"\", \"type\": \"scatter\", \"x\": [-1.6437536111521518, 0.6236334115580212, 0.3632305334696795, 0.7803939112591669, 0.7742854821151604, -1.0391624009931515, 1.0889561004772061, -0.8820807905725819, -0.09884950690901928, -2.5490967634952577, -1.4465866453633747, -0.4296122350300794, 0.9907776802326949, 2.2655549907972725, 1.1436740283221893, 0.33666342394404386, 0.08937447215462413, -1.046283324201508, -0.3732597314122444, 1.4268298589473511, 0.8619658253130911, -1.5487963505620657, 1.6661593485730637, 0.7491924544143039, 0.621561413774492, 0.2915885975878172, 2.0385417913239405, 1.4244902846641307, -2.159052691440464, 0.5423476711114913, -1.6789323696099687, -0.5446205803784033, 0.387883477755812, -0.22903596434654588, -1.6505967844835412, -0.32881281216744135, 0.6779154927169985, 1.3681067471795663, 0.26225857285756615, -1.9011589892879166, 1.1409349082330473, -0.9589009714325152, 0.03238371011666432, -0.10655362520754084, 0.05927441822569643, 0.42049964960882447, 1.329575920257925, 1.285081393630453, 0.36005982323576674, 0.6358536168798995, 0.2025560884588064, 0.10886754236829017, 0.4269229835904177, 0.14374785684194905, -0.020302072847358597, -0.4560210194505382, 1.8347967740322737, -0.5006575216944982, 1.6792441205485138, 0.44958872515811443, 0.7598644337110251, -1.326566371218351, -1.111550193856778, 1.2756505190831742, 0.7823229849163477, -1.1681639647040756, 0.5987424260829366, 1.4530772148308835, -0.1540334211090501, -0.6605279285668003, -0.5120412364212491, 0.49300018525610345, -1.7204737222447415, -0.13851095685665482, -0.3588646633355994, -0.672204763993229, -0.14758595118924844, -0.7408629549882537, -1.2913725572359855, 1.5473308090202944, 1.318762193807283, 0.259797984036728, -0.40385400584752457, -0.05074138338280163, -0.5739011980296671, 0.43687851240248043, 1.005132152855596, 0.15754796130132306, 0.06280552804167883, -0.28111370074712844, 0.14489460641954385, 0.5492176924141802, -2.1359048816395925, -0.2445338170684625, 0.38474457301952225, 0.014189266045035662, 2.148224956400063, -0.9306543355294326, 1.4984469196272776, -0.23426698205439314], \"xaxis\": \"x9\", \"y\": [-0.7635475220585797, 0.7275465613950386, 1.2106730592302932, -0.26808880557947223, 0.6113539822345423, -1.214750884034707, 0.0948462303068252, -1.195632383328205, 0.4445681897608045, 0.00232091623376802, 0.723901448264587, -0.713979215671458, 1.3280234720817723, -0.39311110566524465, -0.16345140137243752, 1.3384534805882329, 1.1001315909236695, 0.21218038486150026, 0.8779623997729757, 0.02803609539212363, 0.7929511094793856, 0.06862649748601243, -1.018803700802844, -0.26509337320595466, -0.0889931535431639, 2.1049720474640337, -1.0886218022894911, 0.19200994679222705, -0.3861122196369465, -1.5227878826885317, -0.5120322669400799, -1.054211308029935, 0.3571894984423901, 0.5193026868821258, 1.4232777799075593, 0.3092638505419972, -0.4547563662144429, -0.67976756754685, 0.15813432084671297, 1.1981774787797457, 0.2990881713852884, 0.9232913729290833, 1.1110736506500258, -0.5317450889314217, 1.252034848940193, -0.5747947031124858, -1.0802543135391671, 0.21595513424871368, 0.4814244562208135, -0.8268567287355622, -0.7561373536785448, -0.7306924966238972, 1.1947957263879965, 0.2165257162846546, 0.3396237334304019, -0.5576551232730913, 0.2559146575946232, 0.857038237618503, 0.6481140692381244, -0.301654112349425, -0.6565900409778459, -0.40136202638992563, 1.079027086193721, -1.4654074113328504, 0.22806414173457362, -0.12046575105851924, 0.6861665880060672, 1.219739091463611, -0.43143287658116874, -0.19185607873873778, -0.11070832859732356, -0.4703477554472593, 1.2167300209804561, -1.027506202862617, -1.6801079385214954, -1.4562809624135469, 0.23396962506006988, -1.3463996276459578, -0.09149518233738907, 1.9268597391661029, -1.06932101547924, 1.204153751265953, -1.4495055769352365, 0.37317334355852666, 1.0450315678905135, 0.9062777721000029, -0.3006642175307795, 0.3975275531144573, 0.635836243496414, -0.4754197287827103, 0.7833751015051399, -0.04243868656607411, 0.3486887706157529, 2.5181293123660424, 1.9490253243603444, 0.6025809541825847, 0.05800266255571208, 0.46799447384150183, -0.18901297174740078, -1.1303547226766595], \"yaxis\": \"y9\"}, {\"line\": {\"color\": \"rgba(128, 128, 128, 1.0)\", \"dash\": \"solid\", \"shape\": \"linear\", \"width\": 1.3}, \"marker\": {\"size\": 2, \"symbol\": \"circle\"}, \"mode\": \"markers\", \"name\": \"C\", \"text\": \"\", \"type\": \"scatter\", \"x\": [0.1997120436245693, 0.4014825437710733, -0.12801667220114157, 0.8107491846132913, 2.537350078887453, -0.9788869603880892, -1.3378194669617782, -0.23426486866532062, 0.8757742912539805, -2.0227454095445996, -0.017483907928513998, -0.8504064065218876, 0.8995122342064306, -3.1965038729005197, -0.04595877243296813, 1.565774686594166, 0.27195711823104024, 2.634779913469022, -0.6128501112350614, -0.9381204025498604, 2.2254029657148604, 0.6617734913093654, 0.1729274366607718, 0.6373609822877407, 0.8180905913547657, 0.6994384744369971, -1.0575377803413366, 0.22628233151882693, 2.329320119524522, -1.112061440235663, 0.2515419041896052, -0.2696718165056928, -0.700689498410336, 1.2123048002103898, -0.9600121886012616, -0.22177492689954934, 0.8970292263888108, 1.9660366494708446, 1.2700402043716204, -1.3259086935966156, -0.1092438311787329, -1.3838336167537948, 1.309337408044333, 0.7369189504715908, 0.9793750111708072, 0.8386959382263741, -2.6014199515774523, -1.9395491169488337, -0.24462832833871673, -0.012947003675194895, -0.9565473591206575, 1.5222970935820264, 1.1786194213689853, -0.3165252186143081, 0.5985585830972404, 1.8747596870918923, 0.2419895523466944, -0.13521215456938623, -0.9040822120120701, -1.0667699555127341, 0.32824617656830496, -0.6588345803353914, 1.0699286027722748, -0.13033161196575843, 0.9141706936213561, 1.0637960589927955, -0.10995148242640611, -1.0457235356110008, 0.027499397592431904, -0.8941576216741033, -0.9020235485999063, 0.09023310607670769, 1.8798418811465476, -2.0013537041552185, 0.5032533708041967, -0.2601989552156913, -0.6770761470398742, -0.3487762448643428, 0.3153186836920095, -0.5414590270345206, 0.28405741070812984, -0.07609106182259144, 0.11656621405857027, 0.18821641130543096, -2.2009179559698975, 1.0178362295224403, 0.5121863442190329, 0.6981423101951505, -1.6899453376912257, 0.7222069010847146, -1.3348502683292458, 0.004150585252992694, 0.6635657982770735, -0.5646265666014189, 0.12493662861316242, -0.6843670840702347, -0.13592666505323378, 0.18138101579973953, 0.5838414942921941, 1.1556173562342535], \"xaxis\": \"x10\", \"y\": [-0.7635475220585797, 0.7275465613950386, 1.2106730592302932, -0.26808880557947223, 0.6113539822345423, -1.214750884034707, 0.0948462303068252, -1.195632383328205, 0.4445681897608045, 0.00232091623376802, 0.723901448264587, -0.713979215671458, 1.3280234720817723, -0.39311110566524465, -0.16345140137243752, 1.3384534805882329, 1.1001315909236695, 0.21218038486150026, 0.8779623997729757, 0.02803609539212363, 0.7929511094793856, 0.06862649748601243, -1.018803700802844, -0.26509337320595466, -0.0889931535431639, 2.1049720474640337, -1.0886218022894911, 0.19200994679222705, -0.3861122196369465, -1.5227878826885317, -0.5120322669400799, -1.054211308029935, 0.3571894984423901, 0.5193026868821258, 1.4232777799075593, 0.3092638505419972, -0.4547563662144429, -0.67976756754685, 0.15813432084671297, 1.1981774787797457, 0.2990881713852884, 0.9232913729290833, 1.1110736506500258, -0.5317450889314217, 1.252034848940193, -0.5747947031124858, -1.0802543135391671, 0.21595513424871368, 0.4814244562208135, -0.8268567287355622, -0.7561373536785448, -0.7306924966238972, 1.1947957263879965, 0.2165257162846546, 0.3396237334304019, -0.5576551232730913, 0.2559146575946232, 0.857038237618503, 0.6481140692381244, -0.301654112349425, -0.6565900409778459, -0.40136202638992563, 1.079027086193721, -1.4654074113328504, 0.22806414173457362, -0.12046575105851924, 0.6861665880060672, 1.219739091463611, -0.43143287658116874, -0.19185607873873778, -0.11070832859732356, -0.4703477554472593, 1.2167300209804561, -1.027506202862617, -1.6801079385214954, -1.4562809624135469, 0.23396962506006988, -1.3463996276459578, -0.09149518233738907, 1.9268597391661029, -1.06932101547924, 1.204153751265953, -1.4495055769352365, 0.37317334355852666, 1.0450315678905135, 0.9062777721000029, -0.3006642175307795, 0.3975275531144573, 0.635836243496414, -0.4754197287827103, 0.7833751015051399, -0.04243868656607411, 0.3486887706157529, 2.5181293123660424, 1.9490253243603444, 0.6025809541825847, 0.05800266255571208, 0.46799447384150183, -0.18901297174740078, -1.1303547226766595], \"yaxis\": \"y10\"}, {\"histfunc\": \"count\", \"histnorm\": \"\", \"marker\": {\"color\": \"rgba(50, 171, 96, 1.0)\", \"line\": {\"color\": \"#4D5663\", \"width\": 1.3}}, \"name\": \"C\", \"nbinsx\": 10, \"opacity\": 0.8, \"orientation\": \"v\", \"type\": \"histogram\", \"x\": [-0.7635475220585797, 0.7275465613950386, 1.2106730592302932, -0.26808880557947223, 0.6113539822345423, -1.214750884034707, 0.0948462303068252, -1.195632383328205, 0.4445681897608045, 0.00232091623376802, 0.723901448264587, -0.713979215671458, 1.3280234720817723, -0.39311110566524465, -0.16345140137243752, 1.3384534805882329, 1.1001315909236695, 0.21218038486150026, 0.8779623997729757, 0.02803609539212363, 0.7929511094793856, 0.06862649748601243, -1.018803700802844, -0.26509337320595466, -0.0889931535431639, 2.1049720474640337, -1.0886218022894911, 0.19200994679222705, -0.3861122196369465, -1.5227878826885317, -0.5120322669400799, -1.054211308029935, 0.3571894984423901, 0.5193026868821258, 1.4232777799075593, 0.3092638505419972, -0.4547563662144429, -0.67976756754685, 0.15813432084671297, 1.1981774787797457, 0.2990881713852884, 0.9232913729290833, 1.1110736506500258, -0.5317450889314217, 1.252034848940193, -0.5747947031124858, -1.0802543135391671, 0.21595513424871368, 0.4814244562208135, -0.8268567287355622, -0.7561373536785448, -0.7306924966238972, 1.1947957263879965, 0.2165257162846546, 0.3396237334304019, -0.5576551232730913, 0.2559146575946232, 0.857038237618503, 0.6481140692381244, -0.301654112349425, -0.6565900409778459, -0.40136202638992563, 1.079027086193721, -1.4654074113328504, 0.22806414173457362, -0.12046575105851924, 0.6861665880060672, 1.219739091463611, -0.43143287658116874, -0.19185607873873778, -0.11070832859732356, -0.4703477554472593, 1.2167300209804561, -1.027506202862617, -1.6801079385214954, -1.4562809624135469, 0.23396962506006988, -1.3463996276459578, -0.09149518233738907, 1.9268597391661029, -1.06932101547924, 1.204153751265953, -1.4495055769352365, 0.37317334355852666, 1.0450315678905135, 0.9062777721000029, -0.3006642175307795, 0.3975275531144573, 0.635836243496414, -0.4754197287827103, 0.7833751015051399, -0.04243868656607411, 0.3486887706157529, 2.5181293123660424, 1.9490253243603444, 0.6025809541825847, 0.05800266255571208, 0.46799447384150183, -0.18901297174740078, -1.1303547226766595], \"xaxis\": \"x11\", \"yaxis\": \"y11\"}, {\"line\": {\"color\": \"rgba(128, 128, 128, 1.0)\", \"dash\": \"solid\", \"shape\": \"linear\", \"width\": 1.3}, \"marker\": {\"size\": 2, \"symbol\": \"circle\"}, \"mode\": \"markers\", \"name\": \"C\", \"text\": \"\", \"type\": \"scatter\", \"x\": [-0.13245030450514364, 1.3090654496831373, 0.5941034874725996, 1.3384135152866654, -1.0530997292776216, 1.9371791790234008, -0.9594274779282423, 0.3078547729629255, 1.7441823466769475, -0.09951392913240051, 1.4355555549411385, 0.3710727965237172, 0.03374975359859986, -0.033479064173235706, -1.3665450741870664, 0.22152886857406304, -0.5674491542831128, 0.4587153411471475, 0.4248257984021767, -0.6235717369069563, 1.710146658764891, 1.4098121814995066, -1.1274754409717573, 0.6957888501265138, -1.1059917553459906, 0.21130046830671764, -0.39564111141040675, -0.5798788175891483, -1.4251703850714619, -0.3129891502561077, 0.4721896855766305, 1.2806911306780764, -0.5343589299964965, -0.4888466988329627, -0.201050352276019, 0.4015844429868238, 1.1648370299558586, -0.6744640514699624, 1.4175678671847494, -0.42929632456118305, -0.8394976099692066, -0.49802703221661765, 0.38183772806856087, -0.0032499998252741727, 1.4543067636878553, 0.3910702976593195, 0.003870755619403408, 1.2896667549679, 1.224421916039707, 1.3344355771053826, 1.5250482470987206, -1.9657127108424082, 0.5590658834601998, -1.1976217219467151, -0.0488212368535531, -0.0906397146441149, -1.0654119498341241, -1.8808024512027708, -1.1163775860251197, -0.049107991126143856, -0.707384583106294, -0.7637002961689972, -0.8606711320580065, 0.17817147440272832, -0.9446586767242249, -0.3631999980389838, 1.3242270428031158, -0.7980788101588576, 0.19890789884205137, 0.5263478230076676, 0.05618074411174819, 1.1190310472224207, 1.1549808215813724, 0.10379562374333628, -0.397758529607837, -0.35789023929608244, 2.966904904253891, -0.4274498902723708, -1.1872459785099456, -1.2472082324945206, 1.8599860272482274, 0.6024133519643031, 0.25654030035368325, -1.8243553827834675, 0.937221973717681, -1.752472730183518, -0.45837441861259437, -0.4090614683198603, 1.003333450424868, 0.1122618715732058, -1.3235108512525702, 1.127613144563296, 0.045354560188719195, 0.7218142655403719, 0.4003629839392785, -0.3052701998445313, 1.3713091367297658, -2.5332123573589964, 0.9564787407896036, -0.21761251009317298], \"xaxis\": \"x12\", \"y\": [-0.7635475220585797, 0.7275465613950386, 1.2106730592302932, -0.26808880557947223, 0.6113539822345423, -1.214750884034707, 0.0948462303068252, -1.195632383328205, 0.4445681897608045, 0.00232091623376802, 0.723901448264587, -0.713979215671458, 1.3280234720817723, -0.39311110566524465, -0.16345140137243752, 1.3384534805882329, 1.1001315909236695, 0.21218038486150026, 0.8779623997729757, 0.02803609539212363, 0.7929511094793856, 0.06862649748601243, -1.018803700802844, -0.26509337320595466, -0.0889931535431639, 2.1049720474640337, -1.0886218022894911, 0.19200994679222705, -0.3861122196369465, -1.5227878826885317, -0.5120322669400799, -1.054211308029935, 0.3571894984423901, 0.5193026868821258, 1.4232777799075593, 0.3092638505419972, -0.4547563662144429, -0.67976756754685, 0.15813432084671297, 1.1981774787797457, 0.2990881713852884, 0.9232913729290833, 1.1110736506500258, -0.5317450889314217, 1.252034848940193, -0.5747947031124858, -1.0802543135391671, 0.21595513424871368, 0.4814244562208135, -0.8268567287355622, -0.7561373536785448, -0.7306924966238972, 1.1947957263879965, 0.2165257162846546, 0.3396237334304019, -0.5576551232730913, 0.2559146575946232, 0.857038237618503, 0.6481140692381244, -0.301654112349425, -0.6565900409778459, -0.40136202638992563, 1.079027086193721, -1.4654074113328504, 0.22806414173457362, -0.12046575105851924, 0.6861665880060672, 1.219739091463611, -0.43143287658116874, -0.19185607873873778, -0.11070832859732356, -0.4703477554472593, 1.2167300209804561, -1.027506202862617, -1.6801079385214954, -1.4562809624135469, 0.23396962506006988, -1.3463996276459578, -0.09149518233738907, 1.9268597391661029, -1.06932101547924, 1.204153751265953, -1.4495055769352365, 0.37317334355852666, 1.0450315678905135, 0.9062777721000029, -0.3006642175307795, 0.3975275531144573, 0.635836243496414, -0.4754197287827103, 0.7833751015051399, -0.04243868656607411, 0.3486887706157529, 2.5181293123660424, 1.9490253243603444, 0.6025809541825847, 0.05800266255571208, 0.46799447384150183, -0.18901297174740078, -1.1303547226766595], \"yaxis\": \"y12\"}, {\"line\": {\"color\": \"rgba(128, 128, 128, 1.0)\", \"dash\": \"solid\", \"shape\": \"linear\", \"width\": 1.3}, \"marker\": {\"size\": 2, \"symbol\": \"circle\"}, \"mode\": \"markers\", \"name\": \"D\", \"text\": \"\", \"type\": \"scatter\", \"x\": [-1.6437536111521518, 0.6236334115580212, 0.3632305334696795, 0.7803939112591669, 0.7742854821151604, -1.0391624009931515, 1.0889561004772061, -0.8820807905725819, -0.09884950690901928, -2.5490967634952577, -1.4465866453633747, -0.4296122350300794, 0.9907776802326949, 2.2655549907972725, 1.1436740283221893, 0.33666342394404386, 0.08937447215462413, -1.046283324201508, -0.3732597314122444, 1.4268298589473511, 0.8619658253130911, -1.5487963505620657, 1.6661593485730637, 0.7491924544143039, 0.621561413774492, 0.2915885975878172, 2.0385417913239405, 1.4244902846641307, -2.159052691440464, 0.5423476711114913, -1.6789323696099687, -0.5446205803784033, 0.387883477755812, -0.22903596434654588, -1.6505967844835412, -0.32881281216744135, 0.6779154927169985, 1.3681067471795663, 0.26225857285756615, -1.9011589892879166, 1.1409349082330473, -0.9589009714325152, 0.03238371011666432, -0.10655362520754084, 0.05927441822569643, 0.42049964960882447, 1.329575920257925, 1.285081393630453, 0.36005982323576674, 0.6358536168798995, 0.2025560884588064, 0.10886754236829017, 0.4269229835904177, 0.14374785684194905, -0.020302072847358597, -0.4560210194505382, 1.8347967740322737, -0.5006575216944982, 1.6792441205485138, 0.44958872515811443, 0.7598644337110251, -1.326566371218351, -1.111550193856778, 1.2756505190831742, 0.7823229849163477, -1.1681639647040756, 0.5987424260829366, 1.4530772148308835, -0.1540334211090501, -0.6605279285668003, -0.5120412364212491, 0.49300018525610345, -1.7204737222447415, -0.13851095685665482, -0.3588646633355994, -0.672204763993229, -0.14758595118924844, -0.7408629549882537, -1.2913725572359855, 1.5473308090202944, 1.318762193807283, 0.259797984036728, -0.40385400584752457, -0.05074138338280163, -0.5739011980296671, 0.43687851240248043, 1.005132152855596, 0.15754796130132306, 0.06280552804167883, -0.28111370074712844, 0.14489460641954385, 0.5492176924141802, -2.1359048816395925, -0.2445338170684625, 0.38474457301952225, 0.014189266045035662, 2.148224956400063, -0.9306543355294326, 1.4984469196272776, -0.23426698205439314], \"xaxis\": \"x13\", \"y\": [-0.13245030450514364, 1.3090654496831373, 0.5941034874725996, 1.3384135152866654, -1.0530997292776216, 1.9371791790234008, -0.9594274779282423, 0.3078547729629255, 1.7441823466769475, -0.09951392913240051, 1.4355555549411385, 0.3710727965237172, 0.03374975359859986, -0.033479064173235706, -1.3665450741870664, 0.22152886857406304, -0.5674491542831128, 0.4587153411471475, 0.4248257984021767, -0.6235717369069563, 1.710146658764891, 1.4098121814995066, -1.1274754409717573, 0.6957888501265138, -1.1059917553459906, 0.21130046830671764, -0.39564111141040675, -0.5798788175891483, -1.4251703850714619, -0.3129891502561077, 0.4721896855766305, 1.2806911306780764, -0.5343589299964965, -0.4888466988329627, -0.201050352276019, 0.4015844429868238, 1.1648370299558586, -0.6744640514699624, 1.4175678671847494, -0.42929632456118305, -0.8394976099692066, -0.49802703221661765, 0.38183772806856087, -0.0032499998252741727, 1.4543067636878553, 0.3910702976593195, 0.003870755619403408, 1.2896667549679, 1.224421916039707, 1.3344355771053826, 1.5250482470987206, -1.9657127108424082, 0.5590658834601998, -1.1976217219467151, -0.0488212368535531, -0.0906397146441149, -1.0654119498341241, -1.8808024512027708, -1.1163775860251197, -0.049107991126143856, -0.707384583106294, -0.7637002961689972, -0.8606711320580065, 0.17817147440272832, -0.9446586767242249, -0.3631999980389838, 1.3242270428031158, -0.7980788101588576, 0.19890789884205137, 0.5263478230076676, 0.05618074411174819, 1.1190310472224207, 1.1549808215813724, 0.10379562374333628, -0.397758529607837, -0.35789023929608244, 2.966904904253891, -0.4274498902723708, -1.1872459785099456, -1.2472082324945206, 1.8599860272482274, 0.6024133519643031, 0.25654030035368325, -1.8243553827834675, 0.937221973717681, -1.752472730183518, -0.45837441861259437, -0.4090614683198603, 1.003333450424868, 0.1122618715732058, -1.3235108512525702, 1.127613144563296, 0.045354560188719195, 0.7218142655403719, 0.4003629839392785, -0.3052701998445313, 1.3713091367297658, -2.5332123573589964, 0.9564787407896036, -0.21761251009317298], \"yaxis\": \"y13\"}, {\"line\": {\"color\": \"rgba(128, 128, 128, 1.0)\", \"dash\": \"solid\", \"shape\": \"linear\", \"width\": 1.3}, \"marker\": {\"size\": 2, \"symbol\": \"circle\"}, \"mode\": \"markers\", \"name\": \"D\", \"text\": \"\", \"type\": \"scatter\", \"x\": [0.1997120436245693, 0.4014825437710733, -0.12801667220114157, 0.8107491846132913, 2.537350078887453, -0.9788869603880892, -1.3378194669617782, -0.23426486866532062, 0.8757742912539805, -2.0227454095445996, -0.017483907928513998, -0.8504064065218876, 0.8995122342064306, -3.1965038729005197, -0.04595877243296813, 1.565774686594166, 0.27195711823104024, 2.634779913469022, -0.6128501112350614, -0.9381204025498604, 2.2254029657148604, 0.6617734913093654, 0.1729274366607718, 0.6373609822877407, 0.8180905913547657, 0.6994384744369971, -1.0575377803413366, 0.22628233151882693, 2.329320119524522, -1.112061440235663, 0.2515419041896052, -0.2696718165056928, -0.700689498410336, 1.2123048002103898, -0.9600121886012616, -0.22177492689954934, 0.8970292263888108, 1.9660366494708446, 1.2700402043716204, -1.3259086935966156, -0.1092438311787329, -1.3838336167537948, 1.309337408044333, 0.7369189504715908, 0.9793750111708072, 0.8386959382263741, -2.6014199515774523, -1.9395491169488337, -0.24462832833871673, -0.012947003675194895, -0.9565473591206575, 1.5222970935820264, 1.1786194213689853, -0.3165252186143081, 0.5985585830972404, 1.8747596870918923, 0.2419895523466944, -0.13521215456938623, -0.9040822120120701, -1.0667699555127341, 0.32824617656830496, -0.6588345803353914, 1.0699286027722748, -0.13033161196575843, 0.9141706936213561, 1.0637960589927955, -0.10995148242640611, -1.0457235356110008, 0.027499397592431904, -0.8941576216741033, -0.9020235485999063, 0.09023310607670769, 1.8798418811465476, -2.0013537041552185, 0.5032533708041967, -0.2601989552156913, -0.6770761470398742, -0.3487762448643428, 0.3153186836920095, -0.5414590270345206, 0.28405741070812984, -0.07609106182259144, 0.11656621405857027, 0.18821641130543096, -2.2009179559698975, 1.0178362295224403, 0.5121863442190329, 0.6981423101951505, -1.6899453376912257, 0.7222069010847146, -1.3348502683292458, 0.004150585252992694, 0.6635657982770735, -0.5646265666014189, 0.12493662861316242, -0.6843670840702347, -0.13592666505323378, 0.18138101579973953, 0.5838414942921941, 1.1556173562342535], \"xaxis\": \"x14\", \"y\": [-0.13245030450514364, 1.3090654496831373, 0.5941034874725996, 1.3384135152866654, -1.0530997292776216, 1.9371791790234008, -0.9594274779282423, 0.3078547729629255, 1.7441823466769475, -0.09951392913240051, 1.4355555549411385, 0.3710727965237172, 0.03374975359859986, -0.033479064173235706, -1.3665450741870664, 0.22152886857406304, -0.5674491542831128, 0.4587153411471475, 0.4248257984021767, -0.6235717369069563, 1.710146658764891, 1.4098121814995066, -1.1274754409717573, 0.6957888501265138, -1.1059917553459906, 0.21130046830671764, -0.39564111141040675, -0.5798788175891483, -1.4251703850714619, -0.3129891502561077, 0.4721896855766305, 1.2806911306780764, -0.5343589299964965, -0.4888466988329627, -0.201050352276019, 0.4015844429868238, 1.1648370299558586, -0.6744640514699624, 1.4175678671847494, -0.42929632456118305, -0.8394976099692066, -0.49802703221661765, 0.38183772806856087, -0.0032499998252741727, 1.4543067636878553, 0.3910702976593195, 0.003870755619403408, 1.2896667549679, 1.224421916039707, 1.3344355771053826, 1.5250482470987206, -1.9657127108424082, 0.5590658834601998, -1.1976217219467151, -0.0488212368535531, -0.0906397146441149, -1.0654119498341241, -1.8808024512027708, -1.1163775860251197, -0.049107991126143856, -0.707384583106294, -0.7637002961689972, -0.8606711320580065, 0.17817147440272832, -0.9446586767242249, -0.3631999980389838, 1.3242270428031158, -0.7980788101588576, 0.19890789884205137, 0.5263478230076676, 0.05618074411174819, 1.1190310472224207, 1.1549808215813724, 0.10379562374333628, -0.397758529607837, -0.35789023929608244, 2.966904904253891, -0.4274498902723708, -1.1872459785099456, -1.2472082324945206, 1.8599860272482274, 0.6024133519643031, 0.25654030035368325, -1.8243553827834675, 0.937221973717681, -1.752472730183518, -0.45837441861259437, -0.4090614683198603, 1.003333450424868, 0.1122618715732058, -1.3235108512525702, 1.127613144563296, 0.045354560188719195, 0.7218142655403719, 0.4003629839392785, -0.3052701998445313, 1.3713091367297658, -2.5332123573589964, 0.9564787407896036, -0.21761251009317298], \"yaxis\": \"y14\"}, {\"line\": {\"color\": \"rgba(128, 128, 128, 1.0)\", \"dash\": \"solid\", \"shape\": \"linear\", \"width\": 1.3}, \"marker\": {\"size\": 2, \"symbol\": \"circle\"}, \"mode\": \"markers\", \"name\": \"D\", \"text\": \"\", \"type\": \"scatter\", \"x\": [-0.7635475220585797, 0.7275465613950386, 1.2106730592302932, -0.26808880557947223, 0.6113539822345423, -1.214750884034707, 0.0948462303068252, -1.195632383328205, 0.4445681897608045, 0.00232091623376802, 0.723901448264587, -0.713979215671458, 1.3280234720817723, -0.39311110566524465, -0.16345140137243752, 1.3384534805882329, 1.1001315909236695, 0.21218038486150026, 0.8779623997729757, 0.02803609539212363, 0.7929511094793856, 0.06862649748601243, -1.018803700802844, -0.26509337320595466, -0.0889931535431639, 2.1049720474640337, -1.0886218022894911, 0.19200994679222705, -0.3861122196369465, -1.5227878826885317, -0.5120322669400799, -1.054211308029935, 0.3571894984423901, 0.5193026868821258, 1.4232777799075593, 0.3092638505419972, -0.4547563662144429, -0.67976756754685, 0.15813432084671297, 1.1981774787797457, 0.2990881713852884, 0.9232913729290833, 1.1110736506500258, -0.5317450889314217, 1.252034848940193, -0.5747947031124858, -1.0802543135391671, 0.21595513424871368, 0.4814244562208135, -0.8268567287355622, -0.7561373536785448, -0.7306924966238972, 1.1947957263879965, 0.2165257162846546, 0.3396237334304019, -0.5576551232730913, 0.2559146575946232, 0.857038237618503, 0.6481140692381244, -0.301654112349425, -0.6565900409778459, -0.40136202638992563, 1.079027086193721, -1.4654074113328504, 0.22806414173457362, -0.12046575105851924, 0.6861665880060672, 1.219739091463611, -0.43143287658116874, -0.19185607873873778, -0.11070832859732356, -0.4703477554472593, 1.2167300209804561, -1.027506202862617, -1.6801079385214954, -1.4562809624135469, 0.23396962506006988, -1.3463996276459578, -0.09149518233738907, 1.9268597391661029, -1.06932101547924, 1.204153751265953, -1.4495055769352365, 0.37317334355852666, 1.0450315678905135, 0.9062777721000029, -0.3006642175307795, 0.3975275531144573, 0.635836243496414, -0.4754197287827103, 0.7833751015051399, -0.04243868656607411, 0.3486887706157529, 2.5181293123660424, 1.9490253243603444, 0.6025809541825847, 0.05800266255571208, 0.46799447384150183, -0.18901297174740078, -1.1303547226766595], \"xaxis\": \"x15\", \"y\": [-0.13245030450514364, 1.3090654496831373, 0.5941034874725996, 1.3384135152866654, -1.0530997292776216, 1.9371791790234008, -0.9594274779282423, 0.3078547729629255, 1.7441823466769475, -0.09951392913240051, 1.4355555549411385, 0.3710727965237172, 0.03374975359859986, -0.033479064173235706, -1.3665450741870664, 0.22152886857406304, -0.5674491542831128, 0.4587153411471475, 0.4248257984021767, -0.6235717369069563, 1.710146658764891, 1.4098121814995066, -1.1274754409717573, 0.6957888501265138, -1.1059917553459906, 0.21130046830671764, -0.39564111141040675, -0.5798788175891483, -1.4251703850714619, -0.3129891502561077, 0.4721896855766305, 1.2806911306780764, -0.5343589299964965, -0.4888466988329627, -0.201050352276019, 0.4015844429868238, 1.1648370299558586, -0.6744640514699624, 1.4175678671847494, -0.42929632456118305, -0.8394976099692066, -0.49802703221661765, 0.38183772806856087, -0.0032499998252741727, 1.4543067636878553, 0.3910702976593195, 0.003870755619403408, 1.2896667549679, 1.224421916039707, 1.3344355771053826, 1.5250482470987206, -1.9657127108424082, 0.5590658834601998, -1.1976217219467151, -0.0488212368535531, -0.0906397146441149, -1.0654119498341241, -1.8808024512027708, -1.1163775860251197, -0.049107991126143856, -0.707384583106294, -0.7637002961689972, -0.8606711320580065, 0.17817147440272832, -0.9446586767242249, -0.3631999980389838, 1.3242270428031158, -0.7980788101588576, 0.19890789884205137, 0.5263478230076676, 0.05618074411174819, 1.1190310472224207, 1.1549808215813724, 0.10379562374333628, -0.397758529607837, -0.35789023929608244, 2.966904904253891, -0.4274498902723708, -1.1872459785099456, -1.2472082324945206, 1.8599860272482274, 0.6024133519643031, 0.25654030035368325, -1.8243553827834675, 0.937221973717681, -1.752472730183518, -0.45837441861259437, -0.4090614683198603, 1.003333450424868, 0.1122618715732058, -1.3235108512525702, 1.127613144563296, 0.045354560188719195, 0.7218142655403719, 0.4003629839392785, -0.3052701998445313, 1.3713091367297658, -2.5332123573589964, 0.9564787407896036, -0.21761251009317298], \"yaxis\": \"y15\"}, {\"histfunc\": \"count\", \"histnorm\": \"\", \"marker\": {\"color\": \"rgba(128, 0, 128, 1.0)\", \"line\": {\"color\": \"#4D5663\", \"width\": 1.3}}, \"name\": \"D\", \"nbinsx\": 10, \"opacity\": 0.8, \"orientation\": \"v\", \"type\": \"histogram\", \"x\": [-0.13245030450514364, 1.3090654496831373, 0.5941034874725996, 1.3384135152866654, -1.0530997292776216, 1.9371791790234008, -0.9594274779282423, 0.3078547729629255, 1.7441823466769475, -0.09951392913240051, 1.4355555549411385, 0.3710727965237172, 0.03374975359859986, -0.033479064173235706, -1.3665450741870664, 0.22152886857406304, -0.5674491542831128, 0.4587153411471475, 0.4248257984021767, -0.6235717369069563, 1.710146658764891, 1.4098121814995066, -1.1274754409717573, 0.6957888501265138, -1.1059917553459906, 0.21130046830671764, -0.39564111141040675, -0.5798788175891483, -1.4251703850714619, -0.3129891502561077, 0.4721896855766305, 1.2806911306780764, -0.5343589299964965, -0.4888466988329627, -0.201050352276019, 0.4015844429868238, 1.1648370299558586, -0.6744640514699624, 1.4175678671847494, -0.42929632456118305, -0.8394976099692066, -0.49802703221661765, 0.38183772806856087, -0.0032499998252741727, 1.4543067636878553, 0.3910702976593195, 0.003870755619403408, 1.2896667549679, 1.224421916039707, 1.3344355771053826, 1.5250482470987206, -1.9657127108424082, 0.5590658834601998, -1.1976217219467151, -0.0488212368535531, -0.0906397146441149, -1.0654119498341241, -1.8808024512027708, -1.1163775860251197, -0.049107991126143856, -0.707384583106294, -0.7637002961689972, -0.8606711320580065, 0.17817147440272832, -0.9446586767242249, -0.3631999980389838, 1.3242270428031158, -0.7980788101588576, 0.19890789884205137, 0.5263478230076676, 0.05618074411174819, 1.1190310472224207, 1.1549808215813724, 0.10379562374333628, -0.397758529607837, -0.35789023929608244, 2.966904904253891, -0.4274498902723708, -1.1872459785099456, -1.2472082324945206, 1.8599860272482274, 0.6024133519643031, 0.25654030035368325, -1.8243553827834675, 0.937221973717681, -1.752472730183518, -0.45837441861259437, -0.4090614683198603, 1.003333450424868, 0.1122618715732058, -1.3235108512525702, 1.127613144563296, 0.045354560188719195, 0.7218142655403719, 0.4003629839392785, -0.3052701998445313, 1.3713091367297658, -2.5332123573589964, 0.9564787407896036, -0.21761251009317298], \"xaxis\": \"x16\", \"yaxis\": \"y16\"}],                        {\"bargap\": 0.02, \"legend\": {\"bgcolor\": \"#F5F6F9\", \"font\": {\"color\": \"#4D5663\"}}, \"paper_bgcolor\": \"#F5F6F9\", \"plot_bgcolor\": \"#F5F6F9\", \"showlegend\": false, \"template\": {\"data\": {\"bar\": [{\"error_x\": {\"color\": \"#2a3f5f\"}, \"error_y\": {\"color\": \"#2a3f5f\"}, \"marker\": {\"line\": {\"color\": \"#E5ECF6\", \"width\": 0.5}}, \"type\": \"bar\"}], \"barpolar\": [{\"marker\": {\"line\": {\"color\": \"#E5ECF6\", \"width\": 0.5}}, \"type\": \"barpolar\"}], \"carpet\": [{\"aaxis\": {\"endlinecolor\": \"#2a3f5f\", \"gridcolor\": \"white\", \"linecolor\": \"white\", \"minorgridcolor\": \"white\", \"startlinecolor\": \"#2a3f5f\"}, \"baxis\": {\"endlinecolor\": \"#2a3f5f\", \"gridcolor\": \"white\", \"linecolor\": \"white\", \"minorgridcolor\": \"white\", \"startlinecolor\": \"#2a3f5f\"}, \"type\": \"carpet\"}], \"choropleth\": [{\"colorbar\": {\"outlinewidth\": 0, \"ticks\": \"\"}, \"type\": \"choropleth\"}], \"contour\": [{\"colorbar\": {\"outlinewidth\": 0, \"ticks\": \"\"}, \"colorscale\": [[0.0, \"#0d0887\"], [0.1111111111111111, \"#46039f\"], [0.2222222222222222, \"#7201a8\"], [0.3333333333333333, \"#9c179e\"], [0.4444444444444444, \"#bd3786\"], [0.5555555555555556, \"#d8576b\"], [0.6666666666666666, \"#ed7953\"], [0.7777777777777778, \"#fb9f3a\"], [0.8888888888888888, \"#fdca26\"], [1.0, \"#f0f921\"]], \"type\": \"contour\"}], \"contourcarpet\": [{\"colorbar\": {\"outlinewidth\": 0, \"ticks\": \"\"}, \"type\": \"contourcarpet\"}], \"heatmap\": [{\"colorbar\": {\"outlinewidth\": 0, \"ticks\": \"\"}, \"colorscale\": [[0.0, \"#0d0887\"], [0.1111111111111111, \"#46039f\"], [0.2222222222222222, \"#7201a8\"], [0.3333333333333333, \"#9c179e\"], [0.4444444444444444, \"#bd3786\"], [0.5555555555555556, \"#d8576b\"], [0.6666666666666666, \"#ed7953\"], [0.7777777777777778, \"#fb9f3a\"], [0.8888888888888888, \"#fdca26\"], [1.0, \"#f0f921\"]], \"type\": \"heatmap\"}], \"heatmapgl\": [{\"colorbar\": {\"outlinewidth\": 0, \"ticks\": \"\"}, \"colorscale\": [[0.0, \"#0d0887\"], [0.1111111111111111, \"#46039f\"], [0.2222222222222222, \"#7201a8\"], [0.3333333333333333, \"#9c179e\"], [0.4444444444444444, \"#bd3786\"], [0.5555555555555556, \"#d8576b\"], [0.6666666666666666, \"#ed7953\"], [0.7777777777777778, \"#fb9f3a\"], [0.8888888888888888, \"#fdca26\"], [1.0, \"#f0f921\"]], \"type\": \"heatmapgl\"}], \"histogram\": [{\"marker\": {\"colorbar\": {\"outlinewidth\": 0, \"ticks\": \"\"}}, \"type\": \"histogram\"}], \"histogram2d\": [{\"colorbar\": {\"outlinewidth\": 0, \"ticks\": \"\"}, \"colorscale\": [[0.0, \"#0d0887\"], [0.1111111111111111, \"#46039f\"], [0.2222222222222222, \"#7201a8\"], [0.3333333333333333, \"#9c179e\"], [0.4444444444444444, \"#bd3786\"], [0.5555555555555556, \"#d8576b\"], [0.6666666666666666, \"#ed7953\"], [0.7777777777777778, \"#fb9f3a\"], [0.8888888888888888, \"#fdca26\"], [1.0, \"#f0f921\"]], \"type\": \"histogram2d\"}], \"histogram2dcontour\": [{\"colorbar\": {\"outlinewidth\": 0, \"ticks\": \"\"}, \"colorscale\": [[0.0, \"#0d0887\"], [0.1111111111111111, \"#46039f\"], [0.2222222222222222, \"#7201a8\"], [0.3333333333333333, \"#9c179e\"], [0.4444444444444444, \"#bd3786\"], [0.5555555555555556, \"#d8576b\"], [0.6666666666666666, \"#ed7953\"], [0.7777777777777778, \"#fb9f3a\"], [0.8888888888888888, \"#fdca26\"], [1.0, \"#f0f921\"]], \"type\": \"histogram2dcontour\"}], \"mesh3d\": [{\"colorbar\": {\"outlinewidth\": 0, \"ticks\": \"\"}, \"type\": \"mesh3d\"}], \"parcoords\": [{\"line\": {\"colorbar\": {\"outlinewidth\": 0, \"ticks\": \"\"}}, \"type\": \"parcoords\"}], \"pie\": [{\"automargin\": true, \"type\": \"pie\"}], \"scatter\": [{\"marker\": {\"colorbar\": {\"outlinewidth\": 0, \"ticks\": \"\"}}, \"type\": \"scatter\"}], \"scatter3d\": [{\"line\": {\"colorbar\": {\"outlinewidth\": 0, \"ticks\": \"\"}}, \"marker\": {\"colorbar\": {\"outlinewidth\": 0, \"ticks\": \"\"}}, \"type\": \"scatter3d\"}], \"scattercarpet\": [{\"marker\": {\"colorbar\": {\"outlinewidth\": 0, \"ticks\": \"\"}}, \"type\": \"scattercarpet\"}], \"scattergeo\": [{\"marker\": {\"colorbar\": {\"outlinewidth\": 0, \"ticks\": \"\"}}, \"type\": \"scattergeo\"}], \"scattergl\": [{\"marker\": {\"colorbar\": {\"outlinewidth\": 0, \"ticks\": \"\"}}, \"type\": \"scattergl\"}], \"scattermapbox\": [{\"marker\": {\"colorbar\": {\"outlinewidth\": 0, \"ticks\": \"\"}}, \"type\": \"scattermapbox\"}], \"scatterpolar\": [{\"marker\": {\"colorbar\": {\"outlinewidth\": 0, \"ticks\": \"\"}}, \"type\": \"scatterpolar\"}], \"scatterpolargl\": [{\"marker\": {\"colorbar\": {\"outlinewidth\": 0, \"ticks\": \"\"}}, \"type\": \"scatterpolargl\"}], \"scatterternary\": [{\"marker\": {\"colorbar\": {\"outlinewidth\": 0, \"ticks\": \"\"}}, \"type\": \"scatterternary\"}], \"surface\": [{\"colorbar\": {\"outlinewidth\": 0, \"ticks\": \"\"}, \"colorscale\": [[0.0, \"#0d0887\"], [0.1111111111111111, \"#46039f\"], [0.2222222222222222, \"#7201a8\"], [0.3333333333333333, \"#9c179e\"], [0.4444444444444444, \"#bd3786\"], [0.5555555555555556, \"#d8576b\"], [0.6666666666666666, \"#ed7953\"], [0.7777777777777778, \"#fb9f3a\"], [0.8888888888888888, \"#fdca26\"], [1.0, \"#f0f921\"]], \"type\": \"surface\"}], \"table\": [{\"cells\": {\"fill\": {\"color\": \"#EBF0F8\"}, \"line\": {\"color\": \"white\"}}, \"header\": {\"fill\": {\"color\": \"#C8D4E3\"}, \"line\": {\"color\": \"white\"}}, \"type\": \"table\"}]}, \"layout\": {\"annotationdefaults\": {\"arrowcolor\": \"#2a3f5f\", \"arrowhead\": 0, \"arrowwidth\": 1}, \"autotypenumbers\": \"strict\", \"coloraxis\": {\"colorbar\": {\"outlinewidth\": 0, \"ticks\": \"\"}}, \"colorscale\": {\"diverging\": [[0, \"#8e0152\"], [0.1, \"#c51b7d\"], [0.2, \"#de77ae\"], [0.3, \"#f1b6da\"], [0.4, \"#fde0ef\"], [0.5, \"#f7f7f7\"], [0.6, \"#e6f5d0\"], [0.7, \"#b8e186\"], [0.8, \"#7fbc41\"], [0.9, \"#4d9221\"], [1, \"#276419\"]], \"sequential\": [[0.0, \"#0d0887\"], [0.1111111111111111, \"#46039f\"], [0.2222222222222222, \"#7201a8\"], [0.3333333333333333, \"#9c179e\"], [0.4444444444444444, \"#bd3786\"], [0.5555555555555556, \"#d8576b\"], [0.6666666666666666, \"#ed7953\"], [0.7777777777777778, \"#fb9f3a\"], [0.8888888888888888, \"#fdca26\"], [1.0, \"#f0f921\"]], \"sequentialminus\": [[0.0, \"#0d0887\"], [0.1111111111111111, \"#46039f\"], [0.2222222222222222, \"#7201a8\"], [0.3333333333333333, \"#9c179e\"], [0.4444444444444444, \"#bd3786\"], [0.5555555555555556, \"#d8576b\"], [0.6666666666666666, \"#ed7953\"], [0.7777777777777778, \"#fb9f3a\"], [0.8888888888888888, \"#fdca26\"], [1.0, \"#f0f921\"]]}, \"colorway\": [\"#636efa\", \"#EF553B\", \"#00cc96\", \"#ab63fa\", \"#FFA15A\", \"#19d3f3\", \"#FF6692\", \"#B6E880\", \"#FF97FF\", \"#FECB52\"], \"font\": {\"color\": \"#2a3f5f\"}, \"geo\": {\"bgcolor\": \"white\", \"lakecolor\": \"white\", \"landcolor\": \"#E5ECF6\", \"showlakes\": true, \"showland\": true, \"subunitcolor\": \"white\"}, \"hoverlabel\": {\"align\": \"left\"}, \"hovermode\": \"closest\", \"mapbox\": {\"style\": \"light\"}, \"paper_bgcolor\": \"white\", \"plot_bgcolor\": \"#E5ECF6\", \"polar\": {\"angularaxis\": {\"gridcolor\": \"white\", \"linecolor\": \"white\", \"ticks\": \"\"}, \"bgcolor\": \"#E5ECF6\", \"radialaxis\": {\"gridcolor\": \"white\", \"linecolor\": \"white\", \"ticks\": \"\"}}, \"scene\": {\"xaxis\": {\"backgroundcolor\": \"#E5ECF6\", \"gridcolor\": \"white\", \"gridwidth\": 2, \"linecolor\": \"white\", \"showbackground\": true, \"ticks\": \"\", \"zerolinecolor\": \"white\"}, \"yaxis\": {\"backgroundcolor\": \"#E5ECF6\", \"gridcolor\": \"white\", \"gridwidth\": 2, \"linecolor\": \"white\", \"showbackground\": true, \"ticks\": \"\", \"zerolinecolor\": \"white\"}, \"zaxis\": {\"backgroundcolor\": \"#E5ECF6\", \"gridcolor\": \"white\", \"gridwidth\": 2, \"linecolor\": \"white\", \"showbackground\": true, \"ticks\": \"\", \"zerolinecolor\": \"white\"}}, \"shapedefaults\": {\"line\": {\"color\": \"#2a3f5f\"}}, \"ternary\": {\"aaxis\": {\"gridcolor\": \"white\", \"linecolor\": \"white\", \"ticks\": \"\"}, \"baxis\": {\"gridcolor\": \"white\", \"linecolor\": \"white\", \"ticks\": \"\"}, \"bgcolor\": \"#E5ECF6\", \"caxis\": {\"gridcolor\": \"white\", \"linecolor\": \"white\", \"ticks\": \"\"}}, \"title\": {\"x\": 0.05}, \"xaxis\": {\"automargin\": true, \"gridcolor\": \"white\", \"linecolor\": \"white\", \"ticks\": \"\", \"title\": {\"standoff\": 15}, \"zerolinecolor\": \"white\", \"zerolinewidth\": 2}, \"yaxis\": {\"automargin\": true, \"gridcolor\": \"white\", \"linecolor\": \"white\", \"ticks\": \"\", \"title\": {\"standoff\": 15}, \"zerolinecolor\": \"white\", \"zerolinewidth\": 2}}}, \"title\": {\"font\": {\"color\": \"#4D5663\"}}, \"xaxis\": {\"anchor\": \"y\", \"domain\": [0.0, 0.2125], \"gridcolor\": \"#E1E5ED\", \"showgrid\": false, \"tickfont\": {\"color\": \"#4D5663\"}, \"title\": {\"font\": {\"color\": \"#4D5663\"}, \"text\": \"\"}, \"zerolinecolor\": \"#E1E5ED\"}, \"xaxis10\": {\"anchor\": \"y10\", \"domain\": [0.2625, 0.475], \"gridcolor\": \"#E1E5ED\", \"showgrid\": false, \"tickfont\": {\"color\": \"#4D5663\"}, \"title\": {\"font\": {\"color\": \"#4D5663\"}, \"text\": \"\"}, \"zerolinecolor\": \"#E1E5ED\"}, \"xaxis11\": {\"anchor\": \"y11\", \"domain\": [0.525, 0.7375], \"gridcolor\": \"#E1E5ED\", \"showgrid\": false, \"tickfont\": {\"color\": \"#4D5663\"}, \"title\": {\"font\": {\"color\": \"#4D5663\"}, \"text\": \"\"}, \"zerolinecolor\": \"#E1E5ED\"}, \"xaxis12\": {\"anchor\": \"y12\", \"domain\": [0.7875, 1.0], \"gridcolor\": \"#E1E5ED\", \"showgrid\": false, \"tickfont\": {\"color\": \"#4D5663\"}, \"title\": {\"font\": {\"color\": \"#4D5663\"}, \"text\": \"\"}, \"zerolinecolor\": \"#E1E5ED\"}, \"xaxis13\": {\"anchor\": \"y13\", \"domain\": [0.0, 0.2125], \"gridcolor\": \"#E1E5ED\", \"showgrid\": false, \"tickfont\": {\"color\": \"#4D5663\"}, \"title\": {\"font\": {\"color\": \"#4D5663\"}, \"text\": \"\"}, \"zerolinecolor\": \"#E1E5ED\"}, \"xaxis14\": {\"anchor\": \"y14\", \"domain\": [0.2625, 0.475], \"gridcolor\": \"#E1E5ED\", \"showgrid\": false, \"tickfont\": {\"color\": \"#4D5663\"}, \"title\": {\"font\": {\"color\": \"#4D5663\"}, \"text\": \"\"}, \"zerolinecolor\": \"#E1E5ED\"}, \"xaxis15\": {\"anchor\": \"y15\", \"domain\": [0.525, 0.7375], \"gridcolor\": \"#E1E5ED\", \"showgrid\": false, \"tickfont\": {\"color\": \"#4D5663\"}, \"title\": {\"font\": {\"color\": \"#4D5663\"}, \"text\": \"\"}, \"zerolinecolor\": \"#E1E5ED\"}, \"xaxis16\": {\"anchor\": \"y16\", \"domain\": [0.7875, 1.0], \"gridcolor\": \"#E1E5ED\", \"showgrid\": false, \"tickfont\": {\"color\": \"#4D5663\"}, \"title\": {\"font\": {\"color\": \"#4D5663\"}, \"text\": \"\"}, \"zerolinecolor\": \"#E1E5ED\"}, \"xaxis2\": {\"anchor\": \"y2\", \"domain\": [0.2625, 0.475], \"gridcolor\": \"#E1E5ED\", \"showgrid\": false, \"tickfont\": {\"color\": \"#4D5663\"}, \"title\": {\"font\": {\"color\": \"#4D5663\"}, \"text\": \"\"}, \"zerolinecolor\": \"#E1E5ED\"}, \"xaxis3\": {\"anchor\": \"y3\", \"domain\": [0.525, 0.7375], \"gridcolor\": \"#E1E5ED\", \"showgrid\": false, \"tickfont\": {\"color\": \"#4D5663\"}, \"title\": {\"font\": {\"color\": \"#4D5663\"}, \"text\": \"\"}, \"zerolinecolor\": \"#E1E5ED\"}, \"xaxis4\": {\"anchor\": \"y4\", \"domain\": [0.7875, 1.0], \"gridcolor\": \"#E1E5ED\", \"showgrid\": false, \"tickfont\": {\"color\": \"#4D5663\"}, \"title\": {\"font\": {\"color\": \"#4D5663\"}, \"text\": \"\"}, \"zerolinecolor\": \"#E1E5ED\"}, \"xaxis5\": {\"anchor\": \"y5\", \"domain\": [0.0, 0.2125], \"gridcolor\": \"#E1E5ED\", \"showgrid\": false, \"tickfont\": {\"color\": \"#4D5663\"}, \"title\": {\"font\": {\"color\": \"#4D5663\"}, \"text\": \"\"}, \"zerolinecolor\": \"#E1E5ED\"}, \"xaxis6\": {\"anchor\": \"y6\", \"domain\": [0.2625, 0.475], \"gridcolor\": \"#E1E5ED\", \"showgrid\": false, \"tickfont\": {\"color\": \"#4D5663\"}, \"title\": {\"font\": {\"color\": \"#4D5663\"}, \"text\": \"\"}, \"zerolinecolor\": \"#E1E5ED\"}, \"xaxis7\": {\"anchor\": \"y7\", \"domain\": [0.525, 0.7375], \"gridcolor\": \"#E1E5ED\", \"showgrid\": false, \"tickfont\": {\"color\": \"#4D5663\"}, \"title\": {\"font\": {\"color\": \"#4D5663\"}, \"text\": \"\"}, \"zerolinecolor\": \"#E1E5ED\"}, \"xaxis8\": {\"anchor\": \"y8\", \"domain\": [0.7875, 1.0], \"gridcolor\": \"#E1E5ED\", \"showgrid\": false, \"tickfont\": {\"color\": \"#4D5663\"}, \"title\": {\"font\": {\"color\": \"#4D5663\"}, \"text\": \"\"}, \"zerolinecolor\": \"#E1E5ED\"}, \"xaxis9\": {\"anchor\": \"y9\", \"domain\": [0.0, 0.2125], \"gridcolor\": \"#E1E5ED\", \"showgrid\": false, \"tickfont\": {\"color\": \"#4D5663\"}, \"title\": {\"font\": {\"color\": \"#4D5663\"}, \"text\": \"\"}, \"zerolinecolor\": \"#E1E5ED\"}, \"yaxis\": {\"anchor\": \"x\", \"domain\": [0.8025, 1.0], \"gridcolor\": \"#E1E5ED\", \"showgrid\": false, \"tickfont\": {\"color\": \"#4D5663\"}, \"title\": {\"font\": {\"color\": \"#4D5663\"}, \"text\": \"\"}, \"zerolinecolor\": \"#E1E5ED\"}, \"yaxis10\": {\"anchor\": \"x10\", \"domain\": [0.2675, 0.465], \"gridcolor\": \"#E1E5ED\", \"showgrid\": false, \"tickfont\": {\"color\": \"#4D5663\"}, \"title\": {\"font\": {\"color\": \"#4D5663\"}, \"text\": \"\"}, \"zerolinecolor\": \"#E1E5ED\"}, \"yaxis11\": {\"anchor\": \"x11\", \"domain\": [0.2675, 0.465], \"gridcolor\": \"#E1E5ED\", \"showgrid\": false, \"tickfont\": {\"color\": \"#4D5663\"}, \"title\": {\"font\": {\"color\": \"#4D5663\"}, \"text\": \"\"}, \"zerolinecolor\": \"#E1E5ED\"}, \"yaxis12\": {\"anchor\": \"x12\", \"domain\": [0.2675, 0.465], \"gridcolor\": \"#E1E5ED\", \"showgrid\": false, \"tickfont\": {\"color\": \"#4D5663\"}, \"title\": {\"font\": {\"color\": \"#4D5663\"}, \"text\": \"\"}, \"zerolinecolor\": \"#E1E5ED\"}, \"yaxis13\": {\"anchor\": \"x13\", \"domain\": [0.0, 0.1975], \"gridcolor\": \"#E1E5ED\", \"showgrid\": false, \"tickfont\": {\"color\": \"#4D5663\"}, \"title\": {\"font\": {\"color\": \"#4D5663\"}, \"text\": \"\"}, \"zerolinecolor\": \"#E1E5ED\"}, \"yaxis14\": {\"anchor\": \"x14\", \"domain\": [0.0, 0.1975], \"gridcolor\": \"#E1E5ED\", \"showgrid\": false, \"tickfont\": {\"color\": \"#4D5663\"}, \"title\": {\"font\": {\"color\": \"#4D5663\"}, \"text\": \"\"}, \"zerolinecolor\": \"#E1E5ED\"}, \"yaxis15\": {\"anchor\": \"x15\", \"domain\": [0.0, 0.1975], \"gridcolor\": \"#E1E5ED\", \"showgrid\": false, \"tickfont\": {\"color\": \"#4D5663\"}, \"title\": {\"font\": {\"color\": \"#4D5663\"}, \"text\": \"\"}, \"zerolinecolor\": \"#E1E5ED\"}, \"yaxis16\": {\"anchor\": \"x16\", \"domain\": [0.0, 0.1975], \"gridcolor\": \"#E1E5ED\", \"showgrid\": false, \"tickfont\": {\"color\": \"#4D5663\"}, \"title\": {\"font\": {\"color\": \"#4D5663\"}, \"text\": \"\"}, \"zerolinecolor\": \"#E1E5ED\"}, \"yaxis2\": {\"anchor\": \"x2\", \"domain\": [0.8025, 1.0], \"gridcolor\": \"#E1E5ED\", \"showgrid\": false, \"tickfont\": {\"color\": \"#4D5663\"}, \"title\": {\"font\": {\"color\": \"#4D5663\"}, \"text\": \"\"}, \"zerolinecolor\": \"#E1E5ED\"}, \"yaxis3\": {\"anchor\": \"x3\", \"domain\": [0.8025, 1.0], \"gridcolor\": \"#E1E5ED\", \"showgrid\": false, \"tickfont\": {\"color\": \"#4D5663\"}, \"title\": {\"font\": {\"color\": \"#4D5663\"}, \"text\": \"\"}, \"zerolinecolor\": \"#E1E5ED\"}, \"yaxis4\": {\"anchor\": \"x4\", \"domain\": [0.8025, 1.0], \"gridcolor\": \"#E1E5ED\", \"showgrid\": false, \"tickfont\": {\"color\": \"#4D5663\"}, \"title\": {\"font\": {\"color\": \"#4D5663\"}, \"text\": \"\"}, \"zerolinecolor\": \"#E1E5ED\"}, \"yaxis5\": {\"anchor\": \"x5\", \"domain\": [0.535, 0.7325], \"gridcolor\": \"#E1E5ED\", \"showgrid\": false, \"tickfont\": {\"color\": \"#4D5663\"}, \"title\": {\"font\": {\"color\": \"#4D5663\"}, \"text\": \"\"}, \"zerolinecolor\": \"#E1E5ED\"}, \"yaxis6\": {\"anchor\": \"x6\", \"domain\": [0.535, 0.7325], \"gridcolor\": \"#E1E5ED\", \"showgrid\": false, \"tickfont\": {\"color\": \"#4D5663\"}, \"title\": {\"font\": {\"color\": \"#4D5663\"}, \"text\": \"\"}, \"zerolinecolor\": \"#E1E5ED\"}, \"yaxis7\": {\"anchor\": \"x7\", \"domain\": [0.535, 0.7325], \"gridcolor\": \"#E1E5ED\", \"showgrid\": false, \"tickfont\": {\"color\": \"#4D5663\"}, \"title\": {\"font\": {\"color\": \"#4D5663\"}, \"text\": \"\"}, \"zerolinecolor\": \"#E1E5ED\"}, \"yaxis8\": {\"anchor\": \"x8\", \"domain\": [0.535, 0.7325], \"gridcolor\": \"#E1E5ED\", \"showgrid\": false, \"tickfont\": {\"color\": \"#4D5663\"}, \"title\": {\"font\": {\"color\": \"#4D5663\"}, \"text\": \"\"}, \"zerolinecolor\": \"#E1E5ED\"}, \"yaxis9\": {\"anchor\": \"x9\", \"domain\": [0.2675, 0.465], \"gridcolor\": \"#E1E5ED\", \"showgrid\": false, \"tickfont\": {\"color\": \"#4D5663\"}, \"title\": {\"font\": {\"color\": \"#4D5663\"}, \"text\": \"\"}, \"zerolinecolor\": \"#E1E5ED\"}},                        {\"showLink\": true, \"linkText\": \"Export to plot.ly\", \"plotlyServerURL\": \"https://plot.ly\", \"responsive\": true}                    ).then(function(){\n",
       "                            \n",
       "var gd = document.getElementById('1dd71170-a493-44ca-a3d5-6d3a25924fd0');\n",
       "var x = new MutationObserver(function (mutations, observer) {{\n",
       "        var display = window.getComputedStyle(gd).display;\n",
       "        if (!display || display === 'none') {{\n",
       "            console.log([gd, 'removed!']);\n",
       "            Plotly.purge(gd);\n",
       "            observer.disconnect();\n",
       "        }}\n",
       "}});\n",
       "\n",
       "// Listen for the removal of the full notebook cells\n",
       "var notebookContainer = gd.closest('#notebook-container');\n",
       "if (notebookContainer) {{\n",
       "    x.observe(notebookContainer, {childList: true});\n",
       "}}\n",
       "\n",
       "// Listen for the clearing of the current output cell\n",
       "var outputEl = gd.closest('.output');\n",
       "if (outputEl) {{\n",
       "    x.observe(outputEl, {childList: true});\n",
       "}}\n",
       "\n",
       "                        })                };                });            </script>        </div>"
      ]
     },
     "metadata": {},
     "output_type": "display_data"
    }
   ],
   "source": [
    "df.scatter_matrix()"
   ]
  },
  {
   "cell_type": "code",
   "execution_count": 21,
   "metadata": {},
   "outputs": [
    {
     "data": {
      "application/vnd.plotly.v1+json": {
       "config": {
        "linkText": "Export to plot.ly",
        "plotlyServerURL": "https://plot.ly",
        "showLink": true
       },
       "data": [
        {
         "colorscale": [
          [
           0,
           "rgb(165,0,38)"
          ],
          [
           0.1,
           "rgb(215,48,39)"
          ],
          [
           0.2,
           "rgb(244,109,67)"
          ],
          [
           0.3,
           "rgb(253,174,97)"
          ],
          [
           0.4,
           "rgb(254,224,144)"
          ],
          [
           0.5,
           "rgb(255,255,191)"
          ],
          [
           0.6,
           "rgb(224,243,248)"
          ],
          [
           0.7,
           "rgb(171,217,233)"
          ],
          [
           0.8,
           "rgb(116,173,209)"
          ],
          [
           0.9,
           "rgb(69,117,180)"
          ],
          [
           1,
           "rgb(49,54,149)"
          ]
         ],
         "type": "surface",
         "x": [
          0,
          1,
          2,
          3,
          4
         ],
         "y": [
          "x",
          "y",
          "z"
         ],
         "z": [
          [
           1,
           2,
           3,
           4,
           5
          ],
          [
           10,
           20,
           30,
           20,
           10
          ],
          [
           5,
           4,
           3,
           2,
           1
          ]
         ]
        }
       ],
       "layout": {
        "legend": {
         "bgcolor": "#F5F6F9",
         "font": {
          "color": "#4D5663"
         }
        },
        "paper_bgcolor": "#F5F6F9",
        "plot_bgcolor": "#F5F6F9",
        "template": {
         "data": {
          "bar": [
           {
            "error_x": {
             "color": "#2a3f5f"
            },
            "error_y": {
             "color": "#2a3f5f"
            },
            "marker": {
             "line": {
              "color": "#E5ECF6",
              "width": 0.5
             }
            },
            "type": "bar"
           }
          ],
          "barpolar": [
           {
            "marker": {
             "line": {
              "color": "#E5ECF6",
              "width": 0.5
             }
            },
            "type": "barpolar"
           }
          ],
          "carpet": [
           {
            "aaxis": {
             "endlinecolor": "#2a3f5f",
             "gridcolor": "white",
             "linecolor": "white",
             "minorgridcolor": "white",
             "startlinecolor": "#2a3f5f"
            },
            "baxis": {
             "endlinecolor": "#2a3f5f",
             "gridcolor": "white",
             "linecolor": "white",
             "minorgridcolor": "white",
             "startlinecolor": "#2a3f5f"
            },
            "type": "carpet"
           }
          ],
          "choropleth": [
           {
            "colorbar": {
             "outlinewidth": 0,
             "ticks": ""
            },
            "type": "choropleth"
           }
          ],
          "contour": [
           {
            "colorbar": {
             "outlinewidth": 0,
             "ticks": ""
            },
            "colorscale": [
             [
              0,
              "#0d0887"
             ],
             [
              0.1111111111111111,
              "#46039f"
             ],
             [
              0.2222222222222222,
              "#7201a8"
             ],
             [
              0.3333333333333333,
              "#9c179e"
             ],
             [
              0.4444444444444444,
              "#bd3786"
             ],
             [
              0.5555555555555556,
              "#d8576b"
             ],
             [
              0.6666666666666666,
              "#ed7953"
             ],
             [
              0.7777777777777778,
              "#fb9f3a"
             ],
             [
              0.8888888888888888,
              "#fdca26"
             ],
             [
              1,
              "#f0f921"
             ]
            ],
            "type": "contour"
           }
          ],
          "contourcarpet": [
           {
            "colorbar": {
             "outlinewidth": 0,
             "ticks": ""
            },
            "type": "contourcarpet"
           }
          ],
          "heatmap": [
           {
            "colorbar": {
             "outlinewidth": 0,
             "ticks": ""
            },
            "colorscale": [
             [
              0,
              "#0d0887"
             ],
             [
              0.1111111111111111,
              "#46039f"
             ],
             [
              0.2222222222222222,
              "#7201a8"
             ],
             [
              0.3333333333333333,
              "#9c179e"
             ],
             [
              0.4444444444444444,
              "#bd3786"
             ],
             [
              0.5555555555555556,
              "#d8576b"
             ],
             [
              0.6666666666666666,
              "#ed7953"
             ],
             [
              0.7777777777777778,
              "#fb9f3a"
             ],
             [
              0.8888888888888888,
              "#fdca26"
             ],
             [
              1,
              "#f0f921"
             ]
            ],
            "type": "heatmap"
           }
          ],
          "heatmapgl": [
           {
            "colorbar": {
             "outlinewidth": 0,
             "ticks": ""
            },
            "colorscale": [
             [
              0,
              "#0d0887"
             ],
             [
              0.1111111111111111,
              "#46039f"
             ],
             [
              0.2222222222222222,
              "#7201a8"
             ],
             [
              0.3333333333333333,
              "#9c179e"
             ],
             [
              0.4444444444444444,
              "#bd3786"
             ],
             [
              0.5555555555555556,
              "#d8576b"
             ],
             [
              0.6666666666666666,
              "#ed7953"
             ],
             [
              0.7777777777777778,
              "#fb9f3a"
             ],
             [
              0.8888888888888888,
              "#fdca26"
             ],
             [
              1,
              "#f0f921"
             ]
            ],
            "type": "heatmapgl"
           }
          ],
          "histogram": [
           {
            "marker": {
             "colorbar": {
              "outlinewidth": 0,
              "ticks": ""
             }
            },
            "type": "histogram"
           }
          ],
          "histogram2d": [
           {
            "colorbar": {
             "outlinewidth": 0,
             "ticks": ""
            },
            "colorscale": [
             [
              0,
              "#0d0887"
             ],
             [
              0.1111111111111111,
              "#46039f"
             ],
             [
              0.2222222222222222,
              "#7201a8"
             ],
             [
              0.3333333333333333,
              "#9c179e"
             ],
             [
              0.4444444444444444,
              "#bd3786"
             ],
             [
              0.5555555555555556,
              "#d8576b"
             ],
             [
              0.6666666666666666,
              "#ed7953"
             ],
             [
              0.7777777777777778,
              "#fb9f3a"
             ],
             [
              0.8888888888888888,
              "#fdca26"
             ],
             [
              1,
              "#f0f921"
             ]
            ],
            "type": "histogram2d"
           }
          ],
          "histogram2dcontour": [
           {
            "colorbar": {
             "outlinewidth": 0,
             "ticks": ""
            },
            "colorscale": [
             [
              0,
              "#0d0887"
             ],
             [
              0.1111111111111111,
              "#46039f"
             ],
             [
              0.2222222222222222,
              "#7201a8"
             ],
             [
              0.3333333333333333,
              "#9c179e"
             ],
             [
              0.4444444444444444,
              "#bd3786"
             ],
             [
              0.5555555555555556,
              "#d8576b"
             ],
             [
              0.6666666666666666,
              "#ed7953"
             ],
             [
              0.7777777777777778,
              "#fb9f3a"
             ],
             [
              0.8888888888888888,
              "#fdca26"
             ],
             [
              1,
              "#f0f921"
             ]
            ],
            "type": "histogram2dcontour"
           }
          ],
          "mesh3d": [
           {
            "colorbar": {
             "outlinewidth": 0,
             "ticks": ""
            },
            "type": "mesh3d"
           }
          ],
          "parcoords": [
           {
            "line": {
             "colorbar": {
              "outlinewidth": 0,
              "ticks": ""
             }
            },
            "type": "parcoords"
           }
          ],
          "pie": [
           {
            "automargin": true,
            "type": "pie"
           }
          ],
          "scatter": [
           {
            "marker": {
             "colorbar": {
              "outlinewidth": 0,
              "ticks": ""
             }
            },
            "type": "scatter"
           }
          ],
          "scatter3d": [
           {
            "line": {
             "colorbar": {
              "outlinewidth": 0,
              "ticks": ""
             }
            },
            "marker": {
             "colorbar": {
              "outlinewidth": 0,
              "ticks": ""
             }
            },
            "type": "scatter3d"
           }
          ],
          "scattercarpet": [
           {
            "marker": {
             "colorbar": {
              "outlinewidth": 0,
              "ticks": ""
             }
            },
            "type": "scattercarpet"
           }
          ],
          "scattergeo": [
           {
            "marker": {
             "colorbar": {
              "outlinewidth": 0,
              "ticks": ""
             }
            },
            "type": "scattergeo"
           }
          ],
          "scattergl": [
           {
            "marker": {
             "colorbar": {
              "outlinewidth": 0,
              "ticks": ""
             }
            },
            "type": "scattergl"
           }
          ],
          "scattermapbox": [
           {
            "marker": {
             "colorbar": {
              "outlinewidth": 0,
              "ticks": ""
             }
            },
            "type": "scattermapbox"
           }
          ],
          "scatterpolar": [
           {
            "marker": {
             "colorbar": {
              "outlinewidth": 0,
              "ticks": ""
             }
            },
            "type": "scatterpolar"
           }
          ],
          "scatterpolargl": [
           {
            "marker": {
             "colorbar": {
              "outlinewidth": 0,
              "ticks": ""
             }
            },
            "type": "scatterpolargl"
           }
          ],
          "scatterternary": [
           {
            "marker": {
             "colorbar": {
              "outlinewidth": 0,
              "ticks": ""
             }
            },
            "type": "scatterternary"
           }
          ],
          "surface": [
           {
            "colorbar": {
             "outlinewidth": 0,
             "ticks": ""
            },
            "colorscale": [
             [
              0,
              "#0d0887"
             ],
             [
              0.1111111111111111,
              "#46039f"
             ],
             [
              0.2222222222222222,
              "#7201a8"
             ],
             [
              0.3333333333333333,
              "#9c179e"
             ],
             [
              0.4444444444444444,
              "#bd3786"
             ],
             [
              0.5555555555555556,
              "#d8576b"
             ],
             [
              0.6666666666666666,
              "#ed7953"
             ],
             [
              0.7777777777777778,
              "#fb9f3a"
             ],
             [
              0.8888888888888888,
              "#fdca26"
             ],
             [
              1,
              "#f0f921"
             ]
            ],
            "type": "surface"
           }
          ],
          "table": [
           {
            "cells": {
             "fill": {
              "color": "#EBF0F8"
             },
             "line": {
              "color": "white"
             }
            },
            "header": {
             "fill": {
              "color": "#C8D4E3"
             },
             "line": {
              "color": "white"
             }
            },
            "type": "table"
           }
          ]
         },
         "layout": {
          "annotationdefaults": {
           "arrowcolor": "#2a3f5f",
           "arrowhead": 0,
           "arrowwidth": 1
          },
          "autotypenumbers": "strict",
          "coloraxis": {
           "colorbar": {
            "outlinewidth": 0,
            "ticks": ""
           }
          },
          "colorscale": {
           "diverging": [
            [
             0,
             "#8e0152"
            ],
            [
             0.1,
             "#c51b7d"
            ],
            [
             0.2,
             "#de77ae"
            ],
            [
             0.3,
             "#f1b6da"
            ],
            [
             0.4,
             "#fde0ef"
            ],
            [
             0.5,
             "#f7f7f7"
            ],
            [
             0.6,
             "#e6f5d0"
            ],
            [
             0.7,
             "#b8e186"
            ],
            [
             0.8,
             "#7fbc41"
            ],
            [
             0.9,
             "#4d9221"
            ],
            [
             1,
             "#276419"
            ]
           ],
           "sequential": [
            [
             0,
             "#0d0887"
            ],
            [
             0.1111111111111111,
             "#46039f"
            ],
            [
             0.2222222222222222,
             "#7201a8"
            ],
            [
             0.3333333333333333,
             "#9c179e"
            ],
            [
             0.4444444444444444,
             "#bd3786"
            ],
            [
             0.5555555555555556,
             "#d8576b"
            ],
            [
             0.6666666666666666,
             "#ed7953"
            ],
            [
             0.7777777777777778,
             "#fb9f3a"
            ],
            [
             0.8888888888888888,
             "#fdca26"
            ],
            [
             1,
             "#f0f921"
            ]
           ],
           "sequentialminus": [
            [
             0,
             "#0d0887"
            ],
            [
             0.1111111111111111,
             "#46039f"
            ],
            [
             0.2222222222222222,
             "#7201a8"
            ],
            [
             0.3333333333333333,
             "#9c179e"
            ],
            [
             0.4444444444444444,
             "#bd3786"
            ],
            [
             0.5555555555555556,
             "#d8576b"
            ],
            [
             0.6666666666666666,
             "#ed7953"
            ],
            [
             0.7777777777777778,
             "#fb9f3a"
            ],
            [
             0.8888888888888888,
             "#fdca26"
            ],
            [
             1,
             "#f0f921"
            ]
           ]
          },
          "colorway": [
           "#636efa",
           "#EF553B",
           "#00cc96",
           "#ab63fa",
           "#FFA15A",
           "#19d3f3",
           "#FF6692",
           "#B6E880",
           "#FF97FF",
           "#FECB52"
          ],
          "font": {
           "color": "#2a3f5f"
          },
          "geo": {
           "bgcolor": "white",
           "lakecolor": "white",
           "landcolor": "#E5ECF6",
           "showlakes": true,
           "showland": true,
           "subunitcolor": "white"
          },
          "hoverlabel": {
           "align": "left"
          },
          "hovermode": "closest",
          "mapbox": {
           "style": "light"
          },
          "paper_bgcolor": "white",
          "plot_bgcolor": "#E5ECF6",
          "polar": {
           "angularaxis": {
            "gridcolor": "white",
            "linecolor": "white",
            "ticks": ""
           },
           "bgcolor": "#E5ECF6",
           "radialaxis": {
            "gridcolor": "white",
            "linecolor": "white",
            "ticks": ""
           }
          },
          "scene": {
           "xaxis": {
            "backgroundcolor": "#E5ECF6",
            "gridcolor": "white",
            "gridwidth": 2,
            "linecolor": "white",
            "showbackground": true,
            "ticks": "",
            "zerolinecolor": "white"
           },
           "yaxis": {
            "backgroundcolor": "#E5ECF6",
            "gridcolor": "white",
            "gridwidth": 2,
            "linecolor": "white",
            "showbackground": true,
            "ticks": "",
            "zerolinecolor": "white"
           },
           "zaxis": {
            "backgroundcolor": "#E5ECF6",
            "gridcolor": "white",
            "gridwidth": 2,
            "linecolor": "white",
            "showbackground": true,
            "ticks": "",
            "zerolinecolor": "white"
           }
          },
          "shapedefaults": {
           "line": {
            "color": "#2a3f5f"
           }
          },
          "ternary": {
           "aaxis": {
            "gridcolor": "white",
            "linecolor": "white",
            "ticks": ""
           },
           "baxis": {
            "gridcolor": "white",
            "linecolor": "white",
            "ticks": ""
           },
           "bgcolor": "#E5ECF6",
           "caxis": {
            "gridcolor": "white",
            "linecolor": "white",
            "ticks": ""
           }
          },
          "title": {
           "x": 0.05
          },
          "xaxis": {
           "automargin": true,
           "gridcolor": "white",
           "linecolor": "white",
           "ticks": "",
           "title": {
            "standoff": 15
           },
           "zerolinecolor": "white",
           "zerolinewidth": 2
          },
          "yaxis": {
           "automargin": true,
           "gridcolor": "white",
           "linecolor": "white",
           "ticks": "",
           "title": {
            "standoff": 15
           },
           "zerolinecolor": "white",
           "zerolinewidth": 2
          }
         }
        },
        "title": {
         "font": {
          "color": "#4D5663"
         }
        },
        "xaxis": {
         "gridcolor": "#E1E5ED",
         "showgrid": true,
         "tickfont": {
          "color": "#4D5663"
         },
         "title": {
          "font": {
           "color": "#4D5663"
          },
          "text": ""
         },
         "zerolinecolor": "#E1E5ED"
        },
        "yaxis": {
         "gridcolor": "#E1E5ED",
         "showgrid": true,
         "tickfont": {
          "color": "#4D5663"
         },
         "title": {
          "font": {
           "color": "#4D5663"
          },
          "text": ""
         },
         "zerolinecolor": "#E1E5ED"
        }
       }
      },
      "text/html": [
       "<div>                            <div id=\"9db1ac39-d65e-485c-b42d-9ff1de854886\" class=\"plotly-graph-div\" style=\"height:525px; width:100%;\"></div>            <script type=\"text/javascript\">                require([\"plotly\"], function(Plotly) {                    window.PLOTLYENV=window.PLOTLYENV || {};\n",
       "                    window.PLOTLYENV.BASE_URL='https://plot.ly';                                    if (document.getElementById(\"9db1ac39-d65e-485c-b42d-9ff1de854886\")) {                    Plotly.newPlot(                        \"9db1ac39-d65e-485c-b42d-9ff1de854886\",                        [{\"colorscale\": [[0.0, \"rgb(165,0,38)\"], [0.1, \"rgb(215,48,39)\"], [0.2, \"rgb(244,109,67)\"], [0.3, \"rgb(253,174,97)\"], [0.4, \"rgb(254,224,144)\"], [0.5, \"rgb(255,255,191)\"], [0.6, \"rgb(224,243,248)\"], [0.7, \"rgb(171,217,233)\"], [0.8, \"rgb(116,173,209)\"], [0.9, \"rgb(69,117,180)\"], [1.0, \"rgb(49,54,149)\"]], \"type\": \"surface\", \"x\": [0, 1, 2, 3, 4], \"y\": [\"x\", \"y\", \"z\"], \"z\": [[1, 2, 3, 4, 5], [10, 20, 30, 20, 10], [5, 4, 3, 2, 1]]}],                        {\"legend\": {\"bgcolor\": \"#F5F6F9\", \"font\": {\"color\": \"#4D5663\"}}, \"paper_bgcolor\": \"#F5F6F9\", \"plot_bgcolor\": \"#F5F6F9\", \"template\": {\"data\": {\"bar\": [{\"error_x\": {\"color\": \"#2a3f5f\"}, \"error_y\": {\"color\": \"#2a3f5f\"}, \"marker\": {\"line\": {\"color\": \"#E5ECF6\", \"width\": 0.5}}, \"type\": \"bar\"}], \"barpolar\": [{\"marker\": {\"line\": {\"color\": \"#E5ECF6\", \"width\": 0.5}}, \"type\": \"barpolar\"}], \"carpet\": [{\"aaxis\": {\"endlinecolor\": \"#2a3f5f\", \"gridcolor\": \"white\", \"linecolor\": \"white\", \"minorgridcolor\": \"white\", \"startlinecolor\": \"#2a3f5f\"}, \"baxis\": {\"endlinecolor\": \"#2a3f5f\", \"gridcolor\": \"white\", \"linecolor\": \"white\", \"minorgridcolor\": \"white\", \"startlinecolor\": \"#2a3f5f\"}, \"type\": \"carpet\"}], \"choropleth\": [{\"colorbar\": {\"outlinewidth\": 0, \"ticks\": \"\"}, \"type\": \"choropleth\"}], \"contour\": [{\"colorbar\": {\"outlinewidth\": 0, \"ticks\": \"\"}, \"colorscale\": [[0.0, \"#0d0887\"], [0.1111111111111111, \"#46039f\"], [0.2222222222222222, \"#7201a8\"], [0.3333333333333333, \"#9c179e\"], [0.4444444444444444, \"#bd3786\"], [0.5555555555555556, \"#d8576b\"], [0.6666666666666666, \"#ed7953\"], [0.7777777777777778, \"#fb9f3a\"], [0.8888888888888888, \"#fdca26\"], [1.0, \"#f0f921\"]], \"type\": \"contour\"}], \"contourcarpet\": [{\"colorbar\": {\"outlinewidth\": 0, \"ticks\": \"\"}, \"type\": \"contourcarpet\"}], \"heatmap\": [{\"colorbar\": {\"outlinewidth\": 0, \"ticks\": \"\"}, \"colorscale\": [[0.0, \"#0d0887\"], [0.1111111111111111, \"#46039f\"], [0.2222222222222222, \"#7201a8\"], [0.3333333333333333, \"#9c179e\"], [0.4444444444444444, \"#bd3786\"], [0.5555555555555556, \"#d8576b\"], [0.6666666666666666, \"#ed7953\"], [0.7777777777777778, \"#fb9f3a\"], [0.8888888888888888, \"#fdca26\"], [1.0, \"#f0f921\"]], \"type\": \"heatmap\"}], \"heatmapgl\": [{\"colorbar\": {\"outlinewidth\": 0, \"ticks\": \"\"}, \"colorscale\": [[0.0, \"#0d0887\"], [0.1111111111111111, \"#46039f\"], [0.2222222222222222, \"#7201a8\"], [0.3333333333333333, \"#9c179e\"], [0.4444444444444444, \"#bd3786\"], [0.5555555555555556, \"#d8576b\"], [0.6666666666666666, \"#ed7953\"], [0.7777777777777778, \"#fb9f3a\"], [0.8888888888888888, \"#fdca26\"], [1.0, \"#f0f921\"]], \"type\": \"heatmapgl\"}], \"histogram\": [{\"marker\": {\"colorbar\": {\"outlinewidth\": 0, \"ticks\": \"\"}}, \"type\": \"histogram\"}], \"histogram2d\": [{\"colorbar\": {\"outlinewidth\": 0, \"ticks\": \"\"}, \"colorscale\": [[0.0, \"#0d0887\"], [0.1111111111111111, \"#46039f\"], [0.2222222222222222, \"#7201a8\"], [0.3333333333333333, \"#9c179e\"], [0.4444444444444444, \"#bd3786\"], [0.5555555555555556, \"#d8576b\"], [0.6666666666666666, \"#ed7953\"], [0.7777777777777778, \"#fb9f3a\"], [0.8888888888888888, \"#fdca26\"], [1.0, \"#f0f921\"]], \"type\": \"histogram2d\"}], \"histogram2dcontour\": [{\"colorbar\": {\"outlinewidth\": 0, \"ticks\": \"\"}, \"colorscale\": [[0.0, \"#0d0887\"], [0.1111111111111111, \"#46039f\"], [0.2222222222222222, \"#7201a8\"], [0.3333333333333333, \"#9c179e\"], [0.4444444444444444, \"#bd3786\"], [0.5555555555555556, \"#d8576b\"], [0.6666666666666666, \"#ed7953\"], [0.7777777777777778, \"#fb9f3a\"], [0.8888888888888888, \"#fdca26\"], [1.0, \"#f0f921\"]], \"type\": \"histogram2dcontour\"}], \"mesh3d\": [{\"colorbar\": {\"outlinewidth\": 0, \"ticks\": \"\"}, \"type\": \"mesh3d\"}], \"parcoords\": [{\"line\": {\"colorbar\": {\"outlinewidth\": 0, \"ticks\": \"\"}}, \"type\": \"parcoords\"}], \"pie\": [{\"automargin\": true, \"type\": \"pie\"}], \"scatter\": [{\"marker\": {\"colorbar\": {\"outlinewidth\": 0, \"ticks\": \"\"}}, \"type\": \"scatter\"}], \"scatter3d\": [{\"line\": {\"colorbar\": {\"outlinewidth\": 0, \"ticks\": \"\"}}, \"marker\": {\"colorbar\": {\"outlinewidth\": 0, \"ticks\": \"\"}}, \"type\": \"scatter3d\"}], \"scattercarpet\": [{\"marker\": {\"colorbar\": {\"outlinewidth\": 0, \"ticks\": \"\"}}, \"type\": \"scattercarpet\"}], \"scattergeo\": [{\"marker\": {\"colorbar\": {\"outlinewidth\": 0, \"ticks\": \"\"}}, \"type\": \"scattergeo\"}], \"scattergl\": [{\"marker\": {\"colorbar\": {\"outlinewidth\": 0, \"ticks\": \"\"}}, \"type\": \"scattergl\"}], \"scattermapbox\": [{\"marker\": {\"colorbar\": {\"outlinewidth\": 0, \"ticks\": \"\"}}, \"type\": \"scattermapbox\"}], \"scatterpolar\": [{\"marker\": {\"colorbar\": {\"outlinewidth\": 0, \"ticks\": \"\"}}, \"type\": \"scatterpolar\"}], \"scatterpolargl\": [{\"marker\": {\"colorbar\": {\"outlinewidth\": 0, \"ticks\": \"\"}}, \"type\": \"scatterpolargl\"}], \"scatterternary\": [{\"marker\": {\"colorbar\": {\"outlinewidth\": 0, \"ticks\": \"\"}}, \"type\": \"scatterternary\"}], \"surface\": [{\"colorbar\": {\"outlinewidth\": 0, \"ticks\": \"\"}, \"colorscale\": [[0.0, \"#0d0887\"], [0.1111111111111111, \"#46039f\"], [0.2222222222222222, \"#7201a8\"], [0.3333333333333333, \"#9c179e\"], [0.4444444444444444, \"#bd3786\"], [0.5555555555555556, \"#d8576b\"], [0.6666666666666666, \"#ed7953\"], [0.7777777777777778, \"#fb9f3a\"], [0.8888888888888888, \"#fdca26\"], [1.0, \"#f0f921\"]], \"type\": \"surface\"}], \"table\": [{\"cells\": {\"fill\": {\"color\": \"#EBF0F8\"}, \"line\": {\"color\": \"white\"}}, \"header\": {\"fill\": {\"color\": \"#C8D4E3\"}, \"line\": {\"color\": \"white\"}}, \"type\": \"table\"}]}, \"layout\": {\"annotationdefaults\": {\"arrowcolor\": \"#2a3f5f\", \"arrowhead\": 0, \"arrowwidth\": 1}, \"autotypenumbers\": \"strict\", \"coloraxis\": {\"colorbar\": {\"outlinewidth\": 0, \"ticks\": \"\"}}, \"colorscale\": {\"diverging\": [[0, \"#8e0152\"], [0.1, \"#c51b7d\"], [0.2, \"#de77ae\"], [0.3, \"#f1b6da\"], [0.4, \"#fde0ef\"], [0.5, \"#f7f7f7\"], [0.6, \"#e6f5d0\"], [0.7, \"#b8e186\"], [0.8, \"#7fbc41\"], [0.9, \"#4d9221\"], [1, \"#276419\"]], \"sequential\": [[0.0, \"#0d0887\"], [0.1111111111111111, \"#46039f\"], [0.2222222222222222, \"#7201a8\"], [0.3333333333333333, \"#9c179e\"], [0.4444444444444444, \"#bd3786\"], [0.5555555555555556, \"#d8576b\"], [0.6666666666666666, \"#ed7953\"], [0.7777777777777778, \"#fb9f3a\"], [0.8888888888888888, \"#fdca26\"], [1.0, \"#f0f921\"]], \"sequentialminus\": [[0.0, \"#0d0887\"], [0.1111111111111111, \"#46039f\"], [0.2222222222222222, \"#7201a8\"], [0.3333333333333333, \"#9c179e\"], [0.4444444444444444, \"#bd3786\"], [0.5555555555555556, \"#d8576b\"], [0.6666666666666666, \"#ed7953\"], [0.7777777777777778, \"#fb9f3a\"], [0.8888888888888888, \"#fdca26\"], [1.0, \"#f0f921\"]]}, \"colorway\": [\"#636efa\", \"#EF553B\", \"#00cc96\", \"#ab63fa\", \"#FFA15A\", \"#19d3f3\", \"#FF6692\", \"#B6E880\", \"#FF97FF\", \"#FECB52\"], \"font\": {\"color\": \"#2a3f5f\"}, \"geo\": {\"bgcolor\": \"white\", \"lakecolor\": \"white\", \"landcolor\": \"#E5ECF6\", \"showlakes\": true, \"showland\": true, \"subunitcolor\": \"white\"}, \"hoverlabel\": {\"align\": \"left\"}, \"hovermode\": \"closest\", \"mapbox\": {\"style\": \"light\"}, \"paper_bgcolor\": \"white\", \"plot_bgcolor\": \"#E5ECF6\", \"polar\": {\"angularaxis\": {\"gridcolor\": \"white\", \"linecolor\": \"white\", \"ticks\": \"\"}, \"bgcolor\": \"#E5ECF6\", \"radialaxis\": {\"gridcolor\": \"white\", \"linecolor\": \"white\", \"ticks\": \"\"}}, \"scene\": {\"xaxis\": {\"backgroundcolor\": \"#E5ECF6\", \"gridcolor\": \"white\", \"gridwidth\": 2, \"linecolor\": \"white\", \"showbackground\": true, \"ticks\": \"\", \"zerolinecolor\": \"white\"}, \"yaxis\": {\"backgroundcolor\": \"#E5ECF6\", \"gridcolor\": \"white\", \"gridwidth\": 2, \"linecolor\": \"white\", \"showbackground\": true, \"ticks\": \"\", \"zerolinecolor\": \"white\"}, \"zaxis\": {\"backgroundcolor\": \"#E5ECF6\", \"gridcolor\": \"white\", \"gridwidth\": 2, \"linecolor\": \"white\", \"showbackground\": true, \"ticks\": \"\", \"zerolinecolor\": \"white\"}}, \"shapedefaults\": {\"line\": {\"color\": \"#2a3f5f\"}}, \"ternary\": {\"aaxis\": {\"gridcolor\": \"white\", \"linecolor\": \"white\", \"ticks\": \"\"}, \"baxis\": {\"gridcolor\": \"white\", \"linecolor\": \"white\", \"ticks\": \"\"}, \"bgcolor\": \"#E5ECF6\", \"caxis\": {\"gridcolor\": \"white\", \"linecolor\": \"white\", \"ticks\": \"\"}}, \"title\": {\"x\": 0.05}, \"xaxis\": {\"automargin\": true, \"gridcolor\": \"white\", \"linecolor\": \"white\", \"ticks\": \"\", \"title\": {\"standoff\": 15}, \"zerolinecolor\": \"white\", \"zerolinewidth\": 2}, \"yaxis\": {\"automargin\": true, \"gridcolor\": \"white\", \"linecolor\": \"white\", \"ticks\": \"\", \"title\": {\"standoff\": 15}, \"zerolinecolor\": \"white\", \"zerolinewidth\": 2}}}, \"title\": {\"font\": {\"color\": \"#4D5663\"}}, \"xaxis\": {\"gridcolor\": \"#E1E5ED\", \"showgrid\": true, \"tickfont\": {\"color\": \"#4D5663\"}, \"title\": {\"font\": {\"color\": \"#4D5663\"}, \"text\": \"\"}, \"zerolinecolor\": \"#E1E5ED\"}, \"yaxis\": {\"gridcolor\": \"#E1E5ED\", \"showgrid\": true, \"tickfont\": {\"color\": \"#4D5663\"}, \"title\": {\"font\": {\"color\": \"#4D5663\"}, \"text\": \"\"}, \"zerolinecolor\": \"#E1E5ED\"}},                        {\"showLink\": true, \"linkText\": \"Export to plot.ly\", \"plotlyServerURL\": \"https://plot.ly\", \"responsive\": true}                    ).then(function(){\n",
       "                            \n",
       "var gd = document.getElementById('9db1ac39-d65e-485c-b42d-9ff1de854886');\n",
       "var x = new MutationObserver(function (mutations, observer) {{\n",
       "        var display = window.getComputedStyle(gd).display;\n",
       "        if (!display || display === 'none') {{\n",
       "            console.log([gd, 'removed!']);\n",
       "            Plotly.purge(gd);\n",
       "            observer.disconnect();\n",
       "        }}\n",
       "}});\n",
       "\n",
       "// Listen for the removal of the full notebook cells\n",
       "var notebookContainer = gd.closest('#notebook-container');\n",
       "if (notebookContainer) {{\n",
       "    x.observe(notebookContainer, {childList: true});\n",
       "}}\n",
       "\n",
       "// Listen for the clearing of the current output cell\n",
       "var outputEl = gd.closest('.output');\n",
       "if (outputEl) {{\n",
       "    x.observe(outputEl, {childList: true});\n",
       "}}\n",
       "\n",
       "                        })                };                });            </script>        </div>"
      ]
     },
     "metadata": {},
     "output_type": "display_data"
    }
   ],
   "source": [
    "df3 = pd.DataFrame({'x':[1,2,3,4,5],'y':[10,20,30,20,10],'z':[5,4,3,2,1]})\n",
    "df3.iplot(kind='surface',colorscale='rdylbu')"
   ]
  },
  {
   "cell_type": "code",
   "execution_count": null,
   "metadata": {},
   "outputs": [],
   "source": []
  }
 ],
 "metadata": {
  "kernelspec": {
   "display_name": "Python 3",
   "language": "python",
   "name": "python3"
  },
  "language_info": {
   "codemirror_mode": {
    "name": "ipython",
    "version": 3
   },
   "file_extension": ".py",
   "mimetype": "text/x-python",
   "name": "python",
   "nbconvert_exporter": "python",
   "pygments_lexer": "ipython3",
   "version": "3.8.5"
  }
 },
 "nbformat": 4,
 "nbformat_minor": 4
}
