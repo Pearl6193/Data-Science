{
 "cells": [
  {
   "cell_type": "code",
   "execution_count": 1,
   "metadata": {},
   "outputs": [],
   "source": [
    "import numpy as np\n",
    "import pandas as pd\n",
    "%matplotlib inline"
   ]
  },
  {
   "cell_type": "code",
   "execution_count": 2,
   "metadata": {},
   "outputs": [],
   "source": [
    "from plotly import __version__\n",
    "from plotly.offline import download_plotlyjs, init_notebook_mode, plot, iplot"
   ]
  },
  {
   "cell_type": "code",
   "execution_count": 3,
   "metadata": {},
   "outputs": [
    {
     "name": "stdout",
     "output_type": "stream",
     "text": [
      "4.14.3\n"
     ]
    }
   ],
   "source": [
    "print(__version__)"
   ]
  },
  {
   "cell_type": "code",
   "execution_count": 4,
   "metadata": {},
   "outputs": [],
   "source": [
    "import cufflinks as cf"
   ]
  },
  {
   "cell_type": "code",
   "execution_count": 5,
   "metadata": {},
   "outputs": [
    {
     "data": {
      "text/html": [
       "        <script type=\"text/javascript\">\n",
       "        window.PlotlyConfig = {MathJaxConfig: 'local'};\n",
       "        if (window.MathJax) {MathJax.Hub.Config({SVG: {font: \"STIX-Web\"}});}\n",
       "        if (typeof require !== 'undefined') {\n",
       "        require.undef(\"plotly\");\n",
       "        requirejs.config({\n",
       "            paths: {\n",
       "                'plotly': ['https://cdn.plot.ly/plotly-latest.min']\n",
       "            }\n",
       "        });\n",
       "        require(['plotly'], function(Plotly) {\n",
       "            window._Plotly = Plotly;\n",
       "        });\n",
       "        }\n",
       "        </script>\n",
       "        "
      ]
     },
     "metadata": {},
     "output_type": "display_data"
    }
   ],
   "source": [
    "init_notebook_mode(connected=True)"
   ]
  },
  {
   "cell_type": "code",
   "execution_count": 6,
   "metadata": {},
   "outputs": [
    {
     "data": {
      "text/html": [
       "        <script type=\"text/javascript\">\n",
       "        window.PlotlyConfig = {MathJaxConfig: 'local'};\n",
       "        if (window.MathJax) {MathJax.Hub.Config({SVG: {font: \"STIX-Web\"}});}\n",
       "        if (typeof require !== 'undefined') {\n",
       "        require.undef(\"plotly\");\n",
       "        requirejs.config({\n",
       "            paths: {\n",
       "                'plotly': ['https://cdn.plot.ly/plotly-latest.min']\n",
       "            }\n",
       "        });\n",
       "        require(['plotly'], function(Plotly) {\n",
       "            window._Plotly = Plotly;\n",
       "        });\n",
       "        }\n",
       "        </script>\n",
       "        "
      ]
     },
     "metadata": {},
     "output_type": "display_data"
    }
   ],
   "source": [
    "cf.go_offline()"
   ]
  },
  {
   "cell_type": "code",
   "execution_count": 7,
   "metadata": {},
   "outputs": [],
   "source": [
    "df=pd.DataFrame(np.random.randn(100,4),columns=\"A B C D\".split())"
   ]
  },
  {
   "cell_type": "code",
   "execution_count": 8,
   "metadata": {},
   "outputs": [
    {
     "data": {
      "text/html": [
       "<div>\n",
       "<style scoped>\n",
       "    .dataframe tbody tr th:only-of-type {\n",
       "        vertical-align: middle;\n",
       "    }\n",
       "\n",
       "    .dataframe tbody tr th {\n",
       "        vertical-align: top;\n",
       "    }\n",
       "\n",
       "    .dataframe thead th {\n",
       "        text-align: right;\n",
       "    }\n",
       "</style>\n",
       "<table border=\"1\" class=\"dataframe\">\n",
       "  <thead>\n",
       "    <tr style=\"text-align: right;\">\n",
       "      <th></th>\n",
       "      <th>A</th>\n",
       "      <th>B</th>\n",
       "      <th>C</th>\n",
       "      <th>D</th>\n",
       "    </tr>\n",
       "  </thead>\n",
       "  <tbody>\n",
       "    <tr>\n",
       "      <th>0</th>\n",
       "      <td>-0.691580</td>\n",
       "      <td>-0.441611</td>\n",
       "      <td>0.452255</td>\n",
       "      <td>-1.030661</td>\n",
       "    </tr>\n",
       "    <tr>\n",
       "      <th>1</th>\n",
       "      <td>-0.887285</td>\n",
       "      <td>1.565116</td>\n",
       "      <td>-0.309888</td>\n",
       "      <td>-0.175262</td>\n",
       "    </tr>\n",
       "    <tr>\n",
       "      <th>2</th>\n",
       "      <td>0.735133</td>\n",
       "      <td>-0.486386</td>\n",
       "      <td>-0.868592</td>\n",
       "      <td>-1.392822</td>\n",
       "    </tr>\n",
       "    <tr>\n",
       "      <th>3</th>\n",
       "      <td>0.018748</td>\n",
       "      <td>-2.199568</td>\n",
       "      <td>1.249652</td>\n",
       "      <td>-0.400183</td>\n",
       "    </tr>\n",
       "    <tr>\n",
       "      <th>4</th>\n",
       "      <td>-1.381789</td>\n",
       "      <td>-0.914294</td>\n",
       "      <td>-1.751334</td>\n",
       "      <td>0.802489</td>\n",
       "    </tr>\n",
       "  </tbody>\n",
       "</table>\n",
       "</div>"
      ],
      "text/plain": [
       "          A         B         C         D\n",
       "0 -0.691580 -0.441611  0.452255 -1.030661\n",
       "1 -0.887285  1.565116 -0.309888 -0.175262\n",
       "2  0.735133 -0.486386 -0.868592 -1.392822\n",
       "3  0.018748 -2.199568  1.249652 -0.400183\n",
       "4 -1.381789 -0.914294 -1.751334  0.802489"
      ]
     },
     "execution_count": 8,
     "metadata": {},
     "output_type": "execute_result"
    }
   ],
   "source": [
    "df.head()"
   ]
  },
  {
   "cell_type": "code",
   "execution_count": 9,
   "metadata": {},
   "outputs": [
    {
     "name": "stdout",
     "output_type": "stream",
     "text": [
      "<class 'pandas.core.frame.DataFrame'>\n",
      "RangeIndex: 100 entries, 0 to 99\n",
      "Data columns (total 4 columns):\n",
      " #   Column  Non-Null Count  Dtype  \n",
      "---  ------  --------------  -----  \n",
      " 0   A       100 non-null    float64\n",
      " 1   B       100 non-null    float64\n",
      " 2   C       100 non-null    float64\n",
      " 3   D       100 non-null    float64\n",
      "dtypes: float64(4)\n",
      "memory usage: 3.2 KB\n"
     ]
    }
   ],
   "source": [
    "df.info()"
   ]
  },
  {
   "cell_type": "code",
   "execution_count": 10,
   "metadata": {},
   "outputs": [],
   "source": [
    "df2=pd.DataFrame({\"category\":[\"A\",\"B\",\"C\"],\"values\":[17,30,61]})"
   ]
  },
  {
   "cell_type": "code",
   "execution_count": 11,
   "metadata": {},
   "outputs": [
    {
     "data": {
      "text/html": [
       "<div>\n",
       "<style scoped>\n",
       "    .dataframe tbody tr th:only-of-type {\n",
       "        vertical-align: middle;\n",
       "    }\n",
       "\n",
       "    .dataframe tbody tr th {\n",
       "        vertical-align: top;\n",
       "    }\n",
       "\n",
       "    .dataframe thead th {\n",
       "        text-align: right;\n",
       "    }\n",
       "</style>\n",
       "<table border=\"1\" class=\"dataframe\">\n",
       "  <thead>\n",
       "    <tr style=\"text-align: right;\">\n",
       "      <th></th>\n",
       "      <th>category</th>\n",
       "      <th>values</th>\n",
       "    </tr>\n",
       "  </thead>\n",
       "  <tbody>\n",
       "    <tr>\n",
       "      <th>0</th>\n",
       "      <td>A</td>\n",
       "      <td>17</td>\n",
       "    </tr>\n",
       "    <tr>\n",
       "      <th>1</th>\n",
       "      <td>B</td>\n",
       "      <td>30</td>\n",
       "    </tr>\n",
       "    <tr>\n",
       "      <th>2</th>\n",
       "      <td>C</td>\n",
       "      <td>61</td>\n",
       "    </tr>\n",
       "  </tbody>\n",
       "</table>\n",
       "</div>"
      ],
      "text/plain": [
       "  category  values\n",
       "0        A      17\n",
       "1        B      30\n",
       "2        C      61"
      ]
     },
     "execution_count": 11,
     "metadata": {},
     "output_type": "execute_result"
    }
   ],
   "source": [
    "df2"
   ]
  },
  {
   "cell_type": "code",
   "execution_count": 12,
   "metadata": {},
   "outputs": [
    {
     "data": {
      "application/vnd.plotly.v1+json": {
       "config": {
        "linkText": "Export to plot.ly",
        "plotlyServerURL": "https://plot.ly",
        "showLink": true
       },
       "data": [
        {
         "line": {
          "color": "rgba(255, 153, 51, 1.0)",
          "dash": "solid",
          "shape": "linear",
          "width": 1.3
         },
         "marker": {
          "size": 10,
          "symbol": "circle"
         },
         "mode": "markers",
         "name": "B",
         "text": "",
         "type": "scatter",
         "x": [
          -0.6915796259609344,
          -0.8872849879301269,
          0.7351331691915325,
          0.0187482624021014,
          -1.3817892822184494,
          1.6276935039887588,
          0.48741645957410107,
          0.7184343185820924,
          -1.9281264806682483,
          -0.8999233502422062,
          -1.7799183101839324,
          0.9008821566604649,
          0.20301832261981306,
          1.8060196231091028,
          -0.2913743722283807,
          -1.0028680571625874,
          -0.7799725268069628,
          -1.0115947811354846,
          1.6690294312418568,
          -1.0396907179959067,
          0.06871544329476185,
          -0.8842237666730386,
          1.224973208704979,
          0.4631385238986198,
          0.740878154820934,
          -0.5813038422552343,
          -0.9383979476151751,
          2.2143189803556362,
          -0.423551427103088,
          -0.42048634304971966,
          0.4524961287844688,
          -0.2849268456346176,
          0.20084633802688698,
          -1.179587520197634,
          -1.2171104780344941,
          1.31260455425112,
          0.07424119953542815,
          1.3428441779852547,
          -2.860036001452457,
          -0.2980548945617647,
          1.7031874742888558,
          0.4039403360775828,
          -0.4530643885339186,
          0.5166202508143846,
          2.5061604436079388,
          -0.22651256670052275,
          -0.4113509392005815,
          0.3844710304962001,
          0.7768993023151984,
          0.3919698813535365,
          -1.2483424611011424,
          0.5757471088717269,
          -0.9586586441077025,
          0.07349496376369483,
          0.4105909975316248,
          0.38694569353694597,
          -0.06808552922896927,
          -0.30962695184908284,
          -0.10858045854730711,
          1.144943808386343,
          -1.1158660861520617,
          -0.8072714792006194,
          -0.8200009118915258,
          0.2406666220789867,
          -0.427222957956366,
          1.772402559856502,
          -0.15284717195228584,
          0.15338364795477655,
          -0.7943165728504842,
          -1.4053685632042303,
          0.8582648769101241,
          -0.7422149276534388,
          -0.983609520312817,
          1.008138822924062,
          -2.812568541347789,
          -0.7667967963565699,
          1.4951803796842733,
          -0.17619436709084627,
          0.39350770109275585,
          0.8172413146696621,
          0.5130245863583023,
          -0.6357411104723741,
          0.1321533298737306,
          1.2371806367240268,
          0.36351975843928164,
          -0.22604926645818205,
          -0.6664127081099145,
          1.3696975147006802,
          0.5798010860119244,
          -0.592057266420742,
          -0.4007257037255129,
          0.0604157024958049,
          0.19956225440633601,
          -0.2386209677915759,
          -0.45382262875168244,
          -0.029871779297502257,
          -0.2860381306203588,
          0.4140082157874592,
          0.5257824581842769,
          -0.369657676375118
         ],
         "y": [
          -0.4416109016685977,
          1.5651155798664615,
          -0.486386343433522,
          -2.199567556381776,
          -0.9142935082338941,
          0.06812640059682612,
          0.4776202682694769,
          1.0546625009640556,
          -0.6880548877398517,
          1.8209757828156723,
          1.5571718328009587,
          1.1589728923099107,
          1.163334643980302,
          -0.9964320957995271,
          0.5229700623178248,
          -0.5422628084138779,
          -0.267673267490769,
          -2.542024338097646,
          0.1892572429133559,
          0.9531814741576196,
          0.7493063574421213,
          0.5023472703547277,
          -0.6404279709338484,
          -0.09415765433918766,
          -0.8473289830681051,
          2.4475018491497593,
          -1.2457317162324226,
          -1.3811748213213695,
          0.20239230418083937,
          1.1660197139884207,
          0.4389106508835806,
          -1.5696964379987275,
          -2.1470786229066596,
          -1.2716195718711647,
          -0.32431857246238116,
          -0.48671087904318966,
          0.807176097279996,
          -0.4545226307330017,
          0.9692805152724048,
          -0.5399406974702767,
          -0.9112616777512544,
          -0.714636963502582,
          0.4401518992961405,
          1.2112389619411343,
          -0.36511562219575633,
          -0.823735935608685,
          0.6940529112251567,
          1.2488733228033813,
          -0.8614307813991519,
          2.347537155331469,
          -1.1135489104449754,
          -0.4266769291945704,
          -0.34983112284132795,
          -1.0800241937145774,
          -0.7310272741866767,
          0.6143328644742845,
          -0.24735519775421033,
          0.5218972511065154,
          0.18495767661158455,
          0.03356610062777415,
          -0.9264261222493289,
          -1.1715593013084677,
          1.3667087323756861,
          -0.07870407832879851,
          0.050980863247599886,
          -1.4353282576073432,
          -1.1057379385577595,
          -1.240759569480158,
          -1.435045518952723,
          0.2866146102228182,
          -0.4321199550320402,
          0.20803661832940504,
          -1.637427291219393,
          1.195797731567711,
          0.36417372075511256,
          0.06277847213280971,
          -0.35012964109245687,
          2.45863772791582,
          -0.21262565217949736,
          0.08746166141915754,
          0.11560547765517383,
          -1.75608505564241,
          0.29493286266375646,
          -0.8759852777508496,
          0.6355229301680484,
          -0.019587564842157068,
          -0.4184902249812962,
          0.279985822989887,
          1.0476231961393485,
          -1.4800776423230955,
          0.8336250259779167,
          1.1108395642941793,
          -3.550161594830222,
          -0.3630151021155685,
          -0.4319034238532681,
          1.2014795760785844,
          -0.7163833677385238,
          -0.9322561095076094,
          0.978279984551639,
          0.3454873088830252
         ]
        }
       ],
       "layout": {
        "legend": {
         "bgcolor": "#F5F6F9",
         "font": {
          "color": "#4D5663"
         }
        },
        "paper_bgcolor": "#F5F6F9",
        "plot_bgcolor": "#F5F6F9",
        "template": {
         "data": {
          "bar": [
           {
            "error_x": {
             "color": "#2a3f5f"
            },
            "error_y": {
             "color": "#2a3f5f"
            },
            "marker": {
             "line": {
              "color": "#E5ECF6",
              "width": 0.5
             }
            },
            "type": "bar"
           }
          ],
          "barpolar": [
           {
            "marker": {
             "line": {
              "color": "#E5ECF6",
              "width": 0.5
             }
            },
            "type": "barpolar"
           }
          ],
          "carpet": [
           {
            "aaxis": {
             "endlinecolor": "#2a3f5f",
             "gridcolor": "white",
             "linecolor": "white",
             "minorgridcolor": "white",
             "startlinecolor": "#2a3f5f"
            },
            "baxis": {
             "endlinecolor": "#2a3f5f",
             "gridcolor": "white",
             "linecolor": "white",
             "minorgridcolor": "white",
             "startlinecolor": "#2a3f5f"
            },
            "type": "carpet"
           }
          ],
          "choropleth": [
           {
            "colorbar": {
             "outlinewidth": 0,
             "ticks": ""
            },
            "type": "choropleth"
           }
          ],
          "contour": [
           {
            "colorbar": {
             "outlinewidth": 0,
             "ticks": ""
            },
            "colorscale": [
             [
              0,
              "#0d0887"
             ],
             [
              0.1111111111111111,
              "#46039f"
             ],
             [
              0.2222222222222222,
              "#7201a8"
             ],
             [
              0.3333333333333333,
              "#9c179e"
             ],
             [
              0.4444444444444444,
              "#bd3786"
             ],
             [
              0.5555555555555556,
              "#d8576b"
             ],
             [
              0.6666666666666666,
              "#ed7953"
             ],
             [
              0.7777777777777778,
              "#fb9f3a"
             ],
             [
              0.8888888888888888,
              "#fdca26"
             ],
             [
              1,
              "#f0f921"
             ]
            ],
            "type": "contour"
           }
          ],
          "contourcarpet": [
           {
            "colorbar": {
             "outlinewidth": 0,
             "ticks": ""
            },
            "type": "contourcarpet"
           }
          ],
          "heatmap": [
           {
            "colorbar": {
             "outlinewidth": 0,
             "ticks": ""
            },
            "colorscale": [
             [
              0,
              "#0d0887"
             ],
             [
              0.1111111111111111,
              "#46039f"
             ],
             [
              0.2222222222222222,
              "#7201a8"
             ],
             [
              0.3333333333333333,
              "#9c179e"
             ],
             [
              0.4444444444444444,
              "#bd3786"
             ],
             [
              0.5555555555555556,
              "#d8576b"
             ],
             [
              0.6666666666666666,
              "#ed7953"
             ],
             [
              0.7777777777777778,
              "#fb9f3a"
             ],
             [
              0.8888888888888888,
              "#fdca26"
             ],
             [
              1,
              "#f0f921"
             ]
            ],
            "type": "heatmap"
           }
          ],
          "heatmapgl": [
           {
            "colorbar": {
             "outlinewidth": 0,
             "ticks": ""
            },
            "colorscale": [
             [
              0,
              "#0d0887"
             ],
             [
              0.1111111111111111,
              "#46039f"
             ],
             [
              0.2222222222222222,
              "#7201a8"
             ],
             [
              0.3333333333333333,
              "#9c179e"
             ],
             [
              0.4444444444444444,
              "#bd3786"
             ],
             [
              0.5555555555555556,
              "#d8576b"
             ],
             [
              0.6666666666666666,
              "#ed7953"
             ],
             [
              0.7777777777777778,
              "#fb9f3a"
             ],
             [
              0.8888888888888888,
              "#fdca26"
             ],
             [
              1,
              "#f0f921"
             ]
            ],
            "type": "heatmapgl"
           }
          ],
          "histogram": [
           {
            "marker": {
             "colorbar": {
              "outlinewidth": 0,
              "ticks": ""
             }
            },
            "type": "histogram"
           }
          ],
          "histogram2d": [
           {
            "colorbar": {
             "outlinewidth": 0,
             "ticks": ""
            },
            "colorscale": [
             [
              0,
              "#0d0887"
             ],
             [
              0.1111111111111111,
              "#46039f"
             ],
             [
              0.2222222222222222,
              "#7201a8"
             ],
             [
              0.3333333333333333,
              "#9c179e"
             ],
             [
              0.4444444444444444,
              "#bd3786"
             ],
             [
              0.5555555555555556,
              "#d8576b"
             ],
             [
              0.6666666666666666,
              "#ed7953"
             ],
             [
              0.7777777777777778,
              "#fb9f3a"
             ],
             [
              0.8888888888888888,
              "#fdca26"
             ],
             [
              1,
              "#f0f921"
             ]
            ],
            "type": "histogram2d"
           }
          ],
          "histogram2dcontour": [
           {
            "colorbar": {
             "outlinewidth": 0,
             "ticks": ""
            },
            "colorscale": [
             [
              0,
              "#0d0887"
             ],
             [
              0.1111111111111111,
              "#46039f"
             ],
             [
              0.2222222222222222,
              "#7201a8"
             ],
             [
              0.3333333333333333,
              "#9c179e"
             ],
             [
              0.4444444444444444,
              "#bd3786"
             ],
             [
              0.5555555555555556,
              "#d8576b"
             ],
             [
              0.6666666666666666,
              "#ed7953"
             ],
             [
              0.7777777777777778,
              "#fb9f3a"
             ],
             [
              0.8888888888888888,
              "#fdca26"
             ],
             [
              1,
              "#f0f921"
             ]
            ],
            "type": "histogram2dcontour"
           }
          ],
          "mesh3d": [
           {
            "colorbar": {
             "outlinewidth": 0,
             "ticks": ""
            },
            "type": "mesh3d"
           }
          ],
          "parcoords": [
           {
            "line": {
             "colorbar": {
              "outlinewidth": 0,
              "ticks": ""
             }
            },
            "type": "parcoords"
           }
          ],
          "pie": [
           {
            "automargin": true,
            "type": "pie"
           }
          ],
          "scatter": [
           {
            "marker": {
             "colorbar": {
              "outlinewidth": 0,
              "ticks": ""
             }
            },
            "type": "scatter"
           }
          ],
          "scatter3d": [
           {
            "line": {
             "colorbar": {
              "outlinewidth": 0,
              "ticks": ""
             }
            },
            "marker": {
             "colorbar": {
              "outlinewidth": 0,
              "ticks": ""
             }
            },
            "type": "scatter3d"
           }
          ],
          "scattercarpet": [
           {
            "marker": {
             "colorbar": {
              "outlinewidth": 0,
              "ticks": ""
             }
            },
            "type": "scattercarpet"
           }
          ],
          "scattergeo": [
           {
            "marker": {
             "colorbar": {
              "outlinewidth": 0,
              "ticks": ""
             }
            },
            "type": "scattergeo"
           }
          ],
          "scattergl": [
           {
            "marker": {
             "colorbar": {
              "outlinewidth": 0,
              "ticks": ""
             }
            },
            "type": "scattergl"
           }
          ],
          "scattermapbox": [
           {
            "marker": {
             "colorbar": {
              "outlinewidth": 0,
              "ticks": ""
             }
            },
            "type": "scattermapbox"
           }
          ],
          "scatterpolar": [
           {
            "marker": {
             "colorbar": {
              "outlinewidth": 0,
              "ticks": ""
             }
            },
            "type": "scatterpolar"
           }
          ],
          "scatterpolargl": [
           {
            "marker": {
             "colorbar": {
              "outlinewidth": 0,
              "ticks": ""
             }
            },
            "type": "scatterpolargl"
           }
          ],
          "scatterternary": [
           {
            "marker": {
             "colorbar": {
              "outlinewidth": 0,
              "ticks": ""
             }
            },
            "type": "scatterternary"
           }
          ],
          "surface": [
           {
            "colorbar": {
             "outlinewidth": 0,
             "ticks": ""
            },
            "colorscale": [
             [
              0,
              "#0d0887"
             ],
             [
              0.1111111111111111,
              "#46039f"
             ],
             [
              0.2222222222222222,
              "#7201a8"
             ],
             [
              0.3333333333333333,
              "#9c179e"
             ],
             [
              0.4444444444444444,
              "#bd3786"
             ],
             [
              0.5555555555555556,
              "#d8576b"
             ],
             [
              0.6666666666666666,
              "#ed7953"
             ],
             [
              0.7777777777777778,
              "#fb9f3a"
             ],
             [
              0.8888888888888888,
              "#fdca26"
             ],
             [
              1,
              "#f0f921"
             ]
            ],
            "type": "surface"
           }
          ],
          "table": [
           {
            "cells": {
             "fill": {
              "color": "#EBF0F8"
             },
             "line": {
              "color": "white"
             }
            },
            "header": {
             "fill": {
              "color": "#C8D4E3"
             },
             "line": {
              "color": "white"
             }
            },
            "type": "table"
           }
          ]
         },
         "layout": {
          "annotationdefaults": {
           "arrowcolor": "#2a3f5f",
           "arrowhead": 0,
           "arrowwidth": 1
          },
          "autotypenumbers": "strict",
          "coloraxis": {
           "colorbar": {
            "outlinewidth": 0,
            "ticks": ""
           }
          },
          "colorscale": {
           "diverging": [
            [
             0,
             "#8e0152"
            ],
            [
             0.1,
             "#c51b7d"
            ],
            [
             0.2,
             "#de77ae"
            ],
            [
             0.3,
             "#f1b6da"
            ],
            [
             0.4,
             "#fde0ef"
            ],
            [
             0.5,
             "#f7f7f7"
            ],
            [
             0.6,
             "#e6f5d0"
            ],
            [
             0.7,
             "#b8e186"
            ],
            [
             0.8,
             "#7fbc41"
            ],
            [
             0.9,
             "#4d9221"
            ],
            [
             1,
             "#276419"
            ]
           ],
           "sequential": [
            [
             0,
             "#0d0887"
            ],
            [
             0.1111111111111111,
             "#46039f"
            ],
            [
             0.2222222222222222,
             "#7201a8"
            ],
            [
             0.3333333333333333,
             "#9c179e"
            ],
            [
             0.4444444444444444,
             "#bd3786"
            ],
            [
             0.5555555555555556,
             "#d8576b"
            ],
            [
             0.6666666666666666,
             "#ed7953"
            ],
            [
             0.7777777777777778,
             "#fb9f3a"
            ],
            [
             0.8888888888888888,
             "#fdca26"
            ],
            [
             1,
             "#f0f921"
            ]
           ],
           "sequentialminus": [
            [
             0,
             "#0d0887"
            ],
            [
             0.1111111111111111,
             "#46039f"
            ],
            [
             0.2222222222222222,
             "#7201a8"
            ],
            [
             0.3333333333333333,
             "#9c179e"
            ],
            [
             0.4444444444444444,
             "#bd3786"
            ],
            [
             0.5555555555555556,
             "#d8576b"
            ],
            [
             0.6666666666666666,
             "#ed7953"
            ],
            [
             0.7777777777777778,
             "#fb9f3a"
            ],
            [
             0.8888888888888888,
             "#fdca26"
            ],
            [
             1,
             "#f0f921"
            ]
           ]
          },
          "colorway": [
           "#636efa",
           "#EF553B",
           "#00cc96",
           "#ab63fa",
           "#FFA15A",
           "#19d3f3",
           "#FF6692",
           "#B6E880",
           "#FF97FF",
           "#FECB52"
          ],
          "font": {
           "color": "#2a3f5f"
          },
          "geo": {
           "bgcolor": "white",
           "lakecolor": "white",
           "landcolor": "#E5ECF6",
           "showlakes": true,
           "showland": true,
           "subunitcolor": "white"
          },
          "hoverlabel": {
           "align": "left"
          },
          "hovermode": "closest",
          "mapbox": {
           "style": "light"
          },
          "paper_bgcolor": "white",
          "plot_bgcolor": "#E5ECF6",
          "polar": {
           "angularaxis": {
            "gridcolor": "white",
            "linecolor": "white",
            "ticks": ""
           },
           "bgcolor": "#E5ECF6",
           "radialaxis": {
            "gridcolor": "white",
            "linecolor": "white",
            "ticks": ""
           }
          },
          "scene": {
           "xaxis": {
            "backgroundcolor": "#E5ECF6",
            "gridcolor": "white",
            "gridwidth": 2,
            "linecolor": "white",
            "showbackground": true,
            "ticks": "",
            "zerolinecolor": "white"
           },
           "yaxis": {
            "backgroundcolor": "#E5ECF6",
            "gridcolor": "white",
            "gridwidth": 2,
            "linecolor": "white",
            "showbackground": true,
            "ticks": "",
            "zerolinecolor": "white"
           },
           "zaxis": {
            "backgroundcolor": "#E5ECF6",
            "gridcolor": "white",
            "gridwidth": 2,
            "linecolor": "white",
            "showbackground": true,
            "ticks": "",
            "zerolinecolor": "white"
           }
          },
          "shapedefaults": {
           "line": {
            "color": "#2a3f5f"
           }
          },
          "ternary": {
           "aaxis": {
            "gridcolor": "white",
            "linecolor": "white",
            "ticks": ""
           },
           "baxis": {
            "gridcolor": "white",
            "linecolor": "white",
            "ticks": ""
           },
           "bgcolor": "#E5ECF6",
           "caxis": {
            "gridcolor": "white",
            "linecolor": "white",
            "ticks": ""
           }
          },
          "title": {
           "x": 0.05
          },
          "xaxis": {
           "automargin": true,
           "gridcolor": "white",
           "linecolor": "white",
           "ticks": "",
           "title": {
            "standoff": 15
           },
           "zerolinecolor": "white",
           "zerolinewidth": 2
          },
          "yaxis": {
           "automargin": true,
           "gridcolor": "white",
           "linecolor": "white",
           "ticks": "",
           "title": {
            "standoff": 15
           },
           "zerolinecolor": "white",
           "zerolinewidth": 2
          }
         }
        },
        "title": {
         "font": {
          "color": "#4D5663"
         }
        },
        "xaxis": {
         "gridcolor": "#E1E5ED",
         "showgrid": true,
         "tickfont": {
          "color": "#4D5663"
         },
         "title": {
          "font": {
           "color": "#4D5663"
          },
          "text": ""
         },
         "zerolinecolor": "#E1E5ED"
        },
        "yaxis": {
         "gridcolor": "#E1E5ED",
         "showgrid": true,
         "tickfont": {
          "color": "#4D5663"
         },
         "title": {
          "font": {
           "color": "#4D5663"
          },
          "text": ""
         },
         "zerolinecolor": "#E1E5ED"
        }
       }
      },
      "text/html": [
       "<div>                            <div id=\"9e0592ac-5640-4516-903e-c10afc84afc7\" class=\"plotly-graph-div\" style=\"height:525px; width:100%;\"></div>            <script type=\"text/javascript\">                require([\"plotly\"], function(Plotly) {                    window.PLOTLYENV=window.PLOTLYENV || {};\n",
       "                    window.PLOTLYENV.BASE_URL='https://plot.ly';                                    if (document.getElementById(\"9e0592ac-5640-4516-903e-c10afc84afc7\")) {                    Plotly.newPlot(                        \"9e0592ac-5640-4516-903e-c10afc84afc7\",                        [{\"line\": {\"color\": \"rgba(255, 153, 51, 1.0)\", \"dash\": \"solid\", \"shape\": \"linear\", \"width\": 1.3}, \"marker\": {\"size\": 10, \"symbol\": \"circle\"}, \"mode\": \"markers\", \"name\": \"B\", \"text\": \"\", \"type\": \"scatter\", \"x\": [-0.6915796259609344, -0.8872849879301269, 0.7351331691915325, 0.0187482624021014, -1.3817892822184494, 1.6276935039887588, 0.48741645957410107, 0.7184343185820924, -1.9281264806682483, -0.8999233502422062, -1.7799183101839324, 0.9008821566604649, 0.20301832261981306, 1.8060196231091028, -0.2913743722283807, -1.0028680571625874, -0.7799725268069628, -1.0115947811354846, 1.6690294312418568, -1.0396907179959067, 0.06871544329476185, -0.8842237666730386, 1.224973208704979, 0.4631385238986198, 0.740878154820934, -0.5813038422552343, -0.9383979476151751, 2.2143189803556362, -0.423551427103088, -0.42048634304971966, 0.4524961287844688, -0.2849268456346176, 0.20084633802688698, -1.179587520197634, -1.2171104780344941, 1.31260455425112, 0.07424119953542815, 1.3428441779852547, -2.860036001452457, -0.2980548945617647, 1.7031874742888558, 0.4039403360775828, -0.4530643885339186, 0.5166202508143846, 2.5061604436079388, -0.22651256670052275, -0.4113509392005815, 0.3844710304962001, 0.7768993023151984, 0.3919698813535365, -1.2483424611011424, 0.5757471088717269, -0.9586586441077025, 0.07349496376369483, 0.4105909975316248, 0.38694569353694597, -0.06808552922896927, -0.30962695184908284, -0.10858045854730711, 1.144943808386343, -1.1158660861520617, -0.8072714792006194, -0.8200009118915258, 0.2406666220789867, -0.427222957956366, 1.772402559856502, -0.15284717195228584, 0.15338364795477655, -0.7943165728504842, -1.4053685632042303, 0.8582648769101241, -0.7422149276534388, -0.983609520312817, 1.008138822924062, -2.812568541347789, -0.7667967963565699, 1.4951803796842733, -0.17619436709084627, 0.39350770109275585, 0.8172413146696621, 0.5130245863583023, -0.6357411104723741, 0.1321533298737306, 1.2371806367240268, 0.36351975843928164, -0.22604926645818205, -0.6664127081099145, 1.3696975147006802, 0.5798010860119244, -0.592057266420742, -0.4007257037255129, 0.0604157024958049, 0.19956225440633601, -0.2386209677915759, -0.45382262875168244, -0.029871779297502257, -0.2860381306203588, 0.4140082157874592, 0.5257824581842769, -0.369657676375118], \"y\": [-0.4416109016685977, 1.5651155798664615, -0.486386343433522, -2.199567556381776, -0.9142935082338941, 0.06812640059682612, 0.4776202682694769, 1.0546625009640556, -0.6880548877398517, 1.8209757828156723, 1.5571718328009587, 1.1589728923099107, 1.163334643980302, -0.9964320957995271, 0.5229700623178248, -0.5422628084138779, -0.267673267490769, -2.542024338097646, 0.1892572429133559, 0.9531814741576196, 0.7493063574421213, 0.5023472703547277, -0.6404279709338484, -0.09415765433918766, -0.8473289830681051, 2.4475018491497593, -1.2457317162324226, -1.3811748213213695, 0.20239230418083937, 1.1660197139884207, 0.4389106508835806, -1.5696964379987275, -2.1470786229066596, -1.2716195718711647, -0.32431857246238116, -0.48671087904318966, 0.807176097279996, -0.4545226307330017, 0.9692805152724048, -0.5399406974702767, -0.9112616777512544, -0.714636963502582, 0.4401518992961405, 1.2112389619411343, -0.36511562219575633, -0.823735935608685, 0.6940529112251567, 1.2488733228033813, -0.8614307813991519, 2.347537155331469, -1.1135489104449754, -0.4266769291945704, -0.34983112284132795, -1.0800241937145774, -0.7310272741866767, 0.6143328644742845, -0.24735519775421033, 0.5218972511065154, 0.18495767661158455, 0.03356610062777415, -0.9264261222493289, -1.1715593013084677, 1.3667087323756861, -0.07870407832879851, 0.050980863247599886, -1.4353282576073432, -1.1057379385577595, -1.240759569480158, -1.435045518952723, 0.2866146102228182, -0.4321199550320402, 0.20803661832940504, -1.637427291219393, 1.195797731567711, 0.36417372075511256, 0.06277847213280971, -0.35012964109245687, 2.45863772791582, -0.21262565217949736, 0.08746166141915754, 0.11560547765517383, -1.75608505564241, 0.29493286266375646, -0.8759852777508496, 0.6355229301680484, -0.019587564842157068, -0.4184902249812962, 0.279985822989887, 1.0476231961393485, -1.4800776423230955, 0.8336250259779167, 1.1108395642941793, -3.550161594830222, -0.3630151021155685, -0.4319034238532681, 1.2014795760785844, -0.7163833677385238, -0.9322561095076094, 0.978279984551639, 0.3454873088830252]}],                        {\"legend\": {\"bgcolor\": \"#F5F6F9\", \"font\": {\"color\": \"#4D5663\"}}, \"paper_bgcolor\": \"#F5F6F9\", \"plot_bgcolor\": \"#F5F6F9\", \"template\": {\"data\": {\"bar\": [{\"error_x\": {\"color\": \"#2a3f5f\"}, \"error_y\": {\"color\": \"#2a3f5f\"}, \"marker\": {\"line\": {\"color\": \"#E5ECF6\", \"width\": 0.5}}, \"type\": \"bar\"}], \"barpolar\": [{\"marker\": {\"line\": {\"color\": \"#E5ECF6\", \"width\": 0.5}}, \"type\": \"barpolar\"}], \"carpet\": [{\"aaxis\": {\"endlinecolor\": \"#2a3f5f\", \"gridcolor\": \"white\", \"linecolor\": \"white\", \"minorgridcolor\": \"white\", \"startlinecolor\": \"#2a3f5f\"}, \"baxis\": {\"endlinecolor\": \"#2a3f5f\", \"gridcolor\": \"white\", \"linecolor\": \"white\", \"minorgridcolor\": \"white\", \"startlinecolor\": \"#2a3f5f\"}, \"type\": \"carpet\"}], \"choropleth\": [{\"colorbar\": {\"outlinewidth\": 0, \"ticks\": \"\"}, \"type\": \"choropleth\"}], \"contour\": [{\"colorbar\": {\"outlinewidth\": 0, \"ticks\": \"\"}, \"colorscale\": [[0.0, \"#0d0887\"], [0.1111111111111111, \"#46039f\"], [0.2222222222222222, \"#7201a8\"], [0.3333333333333333, \"#9c179e\"], [0.4444444444444444, \"#bd3786\"], [0.5555555555555556, \"#d8576b\"], [0.6666666666666666, \"#ed7953\"], [0.7777777777777778, \"#fb9f3a\"], [0.8888888888888888, \"#fdca26\"], [1.0, \"#f0f921\"]], \"type\": \"contour\"}], \"contourcarpet\": [{\"colorbar\": {\"outlinewidth\": 0, \"ticks\": \"\"}, \"type\": \"contourcarpet\"}], \"heatmap\": [{\"colorbar\": {\"outlinewidth\": 0, \"ticks\": \"\"}, \"colorscale\": [[0.0, \"#0d0887\"], [0.1111111111111111, \"#46039f\"], [0.2222222222222222, \"#7201a8\"], [0.3333333333333333, \"#9c179e\"], [0.4444444444444444, \"#bd3786\"], [0.5555555555555556, \"#d8576b\"], [0.6666666666666666, \"#ed7953\"], [0.7777777777777778, \"#fb9f3a\"], [0.8888888888888888, \"#fdca26\"], [1.0, \"#f0f921\"]], \"type\": \"heatmap\"}], \"heatmapgl\": [{\"colorbar\": {\"outlinewidth\": 0, \"ticks\": \"\"}, \"colorscale\": [[0.0, \"#0d0887\"], [0.1111111111111111, \"#46039f\"], [0.2222222222222222, \"#7201a8\"], [0.3333333333333333, \"#9c179e\"], [0.4444444444444444, \"#bd3786\"], [0.5555555555555556, \"#d8576b\"], [0.6666666666666666, \"#ed7953\"], [0.7777777777777778, \"#fb9f3a\"], [0.8888888888888888, \"#fdca26\"], [1.0, \"#f0f921\"]], \"type\": \"heatmapgl\"}], \"histogram\": [{\"marker\": {\"colorbar\": {\"outlinewidth\": 0, \"ticks\": \"\"}}, \"type\": \"histogram\"}], \"histogram2d\": [{\"colorbar\": {\"outlinewidth\": 0, \"ticks\": \"\"}, \"colorscale\": [[0.0, \"#0d0887\"], [0.1111111111111111, \"#46039f\"], [0.2222222222222222, \"#7201a8\"], [0.3333333333333333, \"#9c179e\"], [0.4444444444444444, \"#bd3786\"], [0.5555555555555556, \"#d8576b\"], [0.6666666666666666, \"#ed7953\"], [0.7777777777777778, \"#fb9f3a\"], [0.8888888888888888, \"#fdca26\"], [1.0, \"#f0f921\"]], \"type\": \"histogram2d\"}], \"histogram2dcontour\": [{\"colorbar\": {\"outlinewidth\": 0, \"ticks\": \"\"}, \"colorscale\": [[0.0, \"#0d0887\"], [0.1111111111111111, \"#46039f\"], [0.2222222222222222, \"#7201a8\"], [0.3333333333333333, \"#9c179e\"], [0.4444444444444444, \"#bd3786\"], [0.5555555555555556, \"#d8576b\"], [0.6666666666666666, \"#ed7953\"], [0.7777777777777778, \"#fb9f3a\"], [0.8888888888888888, \"#fdca26\"], [1.0, \"#f0f921\"]], \"type\": \"histogram2dcontour\"}], \"mesh3d\": [{\"colorbar\": {\"outlinewidth\": 0, \"ticks\": \"\"}, \"type\": \"mesh3d\"}], \"parcoords\": [{\"line\": {\"colorbar\": {\"outlinewidth\": 0, \"ticks\": \"\"}}, \"type\": \"parcoords\"}], \"pie\": [{\"automargin\": true, \"type\": \"pie\"}], \"scatter\": [{\"marker\": {\"colorbar\": {\"outlinewidth\": 0, \"ticks\": \"\"}}, \"type\": \"scatter\"}], \"scatter3d\": [{\"line\": {\"colorbar\": {\"outlinewidth\": 0, \"ticks\": \"\"}}, \"marker\": {\"colorbar\": {\"outlinewidth\": 0, \"ticks\": \"\"}}, \"type\": \"scatter3d\"}], \"scattercarpet\": [{\"marker\": {\"colorbar\": {\"outlinewidth\": 0, \"ticks\": \"\"}}, \"type\": \"scattercarpet\"}], \"scattergeo\": [{\"marker\": {\"colorbar\": {\"outlinewidth\": 0, \"ticks\": \"\"}}, \"type\": \"scattergeo\"}], \"scattergl\": [{\"marker\": {\"colorbar\": {\"outlinewidth\": 0, \"ticks\": \"\"}}, \"type\": \"scattergl\"}], \"scattermapbox\": [{\"marker\": {\"colorbar\": {\"outlinewidth\": 0, \"ticks\": \"\"}}, \"type\": \"scattermapbox\"}], \"scatterpolar\": [{\"marker\": {\"colorbar\": {\"outlinewidth\": 0, \"ticks\": \"\"}}, \"type\": \"scatterpolar\"}], \"scatterpolargl\": [{\"marker\": {\"colorbar\": {\"outlinewidth\": 0, \"ticks\": \"\"}}, \"type\": \"scatterpolargl\"}], \"scatterternary\": [{\"marker\": {\"colorbar\": {\"outlinewidth\": 0, \"ticks\": \"\"}}, \"type\": \"scatterternary\"}], \"surface\": [{\"colorbar\": {\"outlinewidth\": 0, \"ticks\": \"\"}, \"colorscale\": [[0.0, \"#0d0887\"], [0.1111111111111111, \"#46039f\"], [0.2222222222222222, \"#7201a8\"], [0.3333333333333333, \"#9c179e\"], [0.4444444444444444, \"#bd3786\"], [0.5555555555555556, \"#d8576b\"], [0.6666666666666666, \"#ed7953\"], [0.7777777777777778, \"#fb9f3a\"], [0.8888888888888888, \"#fdca26\"], [1.0, \"#f0f921\"]], \"type\": \"surface\"}], \"table\": [{\"cells\": {\"fill\": {\"color\": \"#EBF0F8\"}, \"line\": {\"color\": \"white\"}}, \"header\": {\"fill\": {\"color\": \"#C8D4E3\"}, \"line\": {\"color\": \"white\"}}, \"type\": \"table\"}]}, \"layout\": {\"annotationdefaults\": {\"arrowcolor\": \"#2a3f5f\", \"arrowhead\": 0, \"arrowwidth\": 1}, \"autotypenumbers\": \"strict\", \"coloraxis\": {\"colorbar\": {\"outlinewidth\": 0, \"ticks\": \"\"}}, \"colorscale\": {\"diverging\": [[0, \"#8e0152\"], [0.1, \"#c51b7d\"], [0.2, \"#de77ae\"], [0.3, \"#f1b6da\"], [0.4, \"#fde0ef\"], [0.5, \"#f7f7f7\"], [0.6, \"#e6f5d0\"], [0.7, \"#b8e186\"], [0.8, \"#7fbc41\"], [0.9, \"#4d9221\"], [1, \"#276419\"]], \"sequential\": [[0.0, \"#0d0887\"], [0.1111111111111111, \"#46039f\"], [0.2222222222222222, \"#7201a8\"], [0.3333333333333333, \"#9c179e\"], [0.4444444444444444, \"#bd3786\"], [0.5555555555555556, \"#d8576b\"], [0.6666666666666666, \"#ed7953\"], [0.7777777777777778, \"#fb9f3a\"], [0.8888888888888888, \"#fdca26\"], [1.0, \"#f0f921\"]], \"sequentialminus\": [[0.0, \"#0d0887\"], [0.1111111111111111, \"#46039f\"], [0.2222222222222222, \"#7201a8\"], [0.3333333333333333, \"#9c179e\"], [0.4444444444444444, \"#bd3786\"], [0.5555555555555556, \"#d8576b\"], [0.6666666666666666, \"#ed7953\"], [0.7777777777777778, \"#fb9f3a\"], [0.8888888888888888, \"#fdca26\"], [1.0, \"#f0f921\"]]}, \"colorway\": [\"#636efa\", \"#EF553B\", \"#00cc96\", \"#ab63fa\", \"#FFA15A\", \"#19d3f3\", \"#FF6692\", \"#B6E880\", \"#FF97FF\", \"#FECB52\"], \"font\": {\"color\": \"#2a3f5f\"}, \"geo\": {\"bgcolor\": \"white\", \"lakecolor\": \"white\", \"landcolor\": \"#E5ECF6\", \"showlakes\": true, \"showland\": true, \"subunitcolor\": \"white\"}, \"hoverlabel\": {\"align\": \"left\"}, \"hovermode\": \"closest\", \"mapbox\": {\"style\": \"light\"}, \"paper_bgcolor\": \"white\", \"plot_bgcolor\": \"#E5ECF6\", \"polar\": {\"angularaxis\": {\"gridcolor\": \"white\", \"linecolor\": \"white\", \"ticks\": \"\"}, \"bgcolor\": \"#E5ECF6\", \"radialaxis\": {\"gridcolor\": \"white\", \"linecolor\": \"white\", \"ticks\": \"\"}}, \"scene\": {\"xaxis\": {\"backgroundcolor\": \"#E5ECF6\", \"gridcolor\": \"white\", \"gridwidth\": 2, \"linecolor\": \"white\", \"showbackground\": true, \"ticks\": \"\", \"zerolinecolor\": \"white\"}, \"yaxis\": {\"backgroundcolor\": \"#E5ECF6\", \"gridcolor\": \"white\", \"gridwidth\": 2, \"linecolor\": \"white\", \"showbackground\": true, \"ticks\": \"\", \"zerolinecolor\": \"white\"}, \"zaxis\": {\"backgroundcolor\": \"#E5ECF6\", \"gridcolor\": \"white\", \"gridwidth\": 2, \"linecolor\": \"white\", \"showbackground\": true, \"ticks\": \"\", \"zerolinecolor\": \"white\"}}, \"shapedefaults\": {\"line\": {\"color\": \"#2a3f5f\"}}, \"ternary\": {\"aaxis\": {\"gridcolor\": \"white\", \"linecolor\": \"white\", \"ticks\": \"\"}, \"baxis\": {\"gridcolor\": \"white\", \"linecolor\": \"white\", \"ticks\": \"\"}, \"bgcolor\": \"#E5ECF6\", \"caxis\": {\"gridcolor\": \"white\", \"linecolor\": \"white\", \"ticks\": \"\"}}, \"title\": {\"x\": 0.05}, \"xaxis\": {\"automargin\": true, \"gridcolor\": \"white\", \"linecolor\": \"white\", \"ticks\": \"\", \"title\": {\"standoff\": 15}, \"zerolinecolor\": \"white\", \"zerolinewidth\": 2}, \"yaxis\": {\"automargin\": true, \"gridcolor\": \"white\", \"linecolor\": \"white\", \"ticks\": \"\", \"title\": {\"standoff\": 15}, \"zerolinecolor\": \"white\", \"zerolinewidth\": 2}}}, \"title\": {\"font\": {\"color\": \"#4D5663\"}}, \"xaxis\": {\"gridcolor\": \"#E1E5ED\", \"showgrid\": true, \"tickfont\": {\"color\": \"#4D5663\"}, \"title\": {\"font\": {\"color\": \"#4D5663\"}, \"text\": \"\"}, \"zerolinecolor\": \"#E1E5ED\"}, \"yaxis\": {\"gridcolor\": \"#E1E5ED\", \"showgrid\": true, \"tickfont\": {\"color\": \"#4D5663\"}, \"title\": {\"font\": {\"color\": \"#4D5663\"}, \"text\": \"\"}, \"zerolinecolor\": \"#E1E5ED\"}},                        {\"showLink\": true, \"linkText\": \"Export to plot.ly\", \"plotlyServerURL\": \"https://plot.ly\", \"responsive\": true}                    ).then(function(){\n",
       "                            \n",
       "var gd = document.getElementById('9e0592ac-5640-4516-903e-c10afc84afc7');\n",
       "var x = new MutationObserver(function (mutations, observer) {{\n",
       "        var display = window.getComputedStyle(gd).display;\n",
       "        if (!display || display === 'none') {{\n",
       "            console.log([gd, 'removed!']);\n",
       "            Plotly.purge(gd);\n",
       "            observer.disconnect();\n",
       "        }}\n",
       "}});\n",
       "\n",
       "// Listen for the removal of the full notebook cells\n",
       "var notebookContainer = gd.closest('#notebook-container');\n",
       "if (notebookContainer) {{\n",
       "    x.observe(notebookContainer, {childList: true});\n",
       "}}\n",
       "\n",
       "// Listen for the clearing of the current output cell\n",
       "var outputEl = gd.closest('.output');\n",
       "if (outputEl) {{\n",
       "    x.observe(outputEl, {childList: true});\n",
       "}}\n",
       "\n",
       "                        })                };                });            </script>        </div>"
      ]
     },
     "metadata": {},
     "output_type": "display_data"
    }
   ],
   "source": [
    "df.iplot(kind=\"scatter\",x=\"A\",y=\"B\",mode=\"markers\",size=10)"
   ]
  },
  {
   "cell_type": "code",
   "execution_count": 13,
   "metadata": {},
   "outputs": [
    {
     "data": {
      "application/vnd.plotly.v1+json": {
       "config": {
        "linkText": "Export to plot.ly",
        "plotlyServerURL": "https://plot.ly",
        "showLink": true
       },
       "data": [
        {
         "marker": {
          "color": "rgba(255, 153, 51, 0.6)",
          "line": {
           "color": "rgba(255, 153, 51, 1.0)",
           "width": 1
          }
         },
         "name": "values",
         "orientation": "v",
         "text": "",
         "type": "bar",
         "x": [
          "A",
          "B",
          "C"
         ],
         "y": [
          17,
          30,
          61
         ]
        }
       ],
       "layout": {
        "legend": {
         "bgcolor": "#F5F6F9",
         "font": {
          "color": "#4D5663"
         }
        },
        "paper_bgcolor": "#F5F6F9",
        "plot_bgcolor": "#F5F6F9",
        "template": {
         "data": {
          "bar": [
           {
            "error_x": {
             "color": "#2a3f5f"
            },
            "error_y": {
             "color": "#2a3f5f"
            },
            "marker": {
             "line": {
              "color": "#E5ECF6",
              "width": 0.5
             }
            },
            "type": "bar"
           }
          ],
          "barpolar": [
           {
            "marker": {
             "line": {
              "color": "#E5ECF6",
              "width": 0.5
             }
            },
            "type": "barpolar"
           }
          ],
          "carpet": [
           {
            "aaxis": {
             "endlinecolor": "#2a3f5f",
             "gridcolor": "white",
             "linecolor": "white",
             "minorgridcolor": "white",
             "startlinecolor": "#2a3f5f"
            },
            "baxis": {
             "endlinecolor": "#2a3f5f",
             "gridcolor": "white",
             "linecolor": "white",
             "minorgridcolor": "white",
             "startlinecolor": "#2a3f5f"
            },
            "type": "carpet"
           }
          ],
          "choropleth": [
           {
            "colorbar": {
             "outlinewidth": 0,
             "ticks": ""
            },
            "type": "choropleth"
           }
          ],
          "contour": [
           {
            "colorbar": {
             "outlinewidth": 0,
             "ticks": ""
            },
            "colorscale": [
             [
              0,
              "#0d0887"
             ],
             [
              0.1111111111111111,
              "#46039f"
             ],
             [
              0.2222222222222222,
              "#7201a8"
             ],
             [
              0.3333333333333333,
              "#9c179e"
             ],
             [
              0.4444444444444444,
              "#bd3786"
             ],
             [
              0.5555555555555556,
              "#d8576b"
             ],
             [
              0.6666666666666666,
              "#ed7953"
             ],
             [
              0.7777777777777778,
              "#fb9f3a"
             ],
             [
              0.8888888888888888,
              "#fdca26"
             ],
             [
              1,
              "#f0f921"
             ]
            ],
            "type": "contour"
           }
          ],
          "contourcarpet": [
           {
            "colorbar": {
             "outlinewidth": 0,
             "ticks": ""
            },
            "type": "contourcarpet"
           }
          ],
          "heatmap": [
           {
            "colorbar": {
             "outlinewidth": 0,
             "ticks": ""
            },
            "colorscale": [
             [
              0,
              "#0d0887"
             ],
             [
              0.1111111111111111,
              "#46039f"
             ],
             [
              0.2222222222222222,
              "#7201a8"
             ],
             [
              0.3333333333333333,
              "#9c179e"
             ],
             [
              0.4444444444444444,
              "#bd3786"
             ],
             [
              0.5555555555555556,
              "#d8576b"
             ],
             [
              0.6666666666666666,
              "#ed7953"
             ],
             [
              0.7777777777777778,
              "#fb9f3a"
             ],
             [
              0.8888888888888888,
              "#fdca26"
             ],
             [
              1,
              "#f0f921"
             ]
            ],
            "type": "heatmap"
           }
          ],
          "heatmapgl": [
           {
            "colorbar": {
             "outlinewidth": 0,
             "ticks": ""
            },
            "colorscale": [
             [
              0,
              "#0d0887"
             ],
             [
              0.1111111111111111,
              "#46039f"
             ],
             [
              0.2222222222222222,
              "#7201a8"
             ],
             [
              0.3333333333333333,
              "#9c179e"
             ],
             [
              0.4444444444444444,
              "#bd3786"
             ],
             [
              0.5555555555555556,
              "#d8576b"
             ],
             [
              0.6666666666666666,
              "#ed7953"
             ],
             [
              0.7777777777777778,
              "#fb9f3a"
             ],
             [
              0.8888888888888888,
              "#fdca26"
             ],
             [
              1,
              "#f0f921"
             ]
            ],
            "type": "heatmapgl"
           }
          ],
          "histogram": [
           {
            "marker": {
             "colorbar": {
              "outlinewidth": 0,
              "ticks": ""
             }
            },
            "type": "histogram"
           }
          ],
          "histogram2d": [
           {
            "colorbar": {
             "outlinewidth": 0,
             "ticks": ""
            },
            "colorscale": [
             [
              0,
              "#0d0887"
             ],
             [
              0.1111111111111111,
              "#46039f"
             ],
             [
              0.2222222222222222,
              "#7201a8"
             ],
             [
              0.3333333333333333,
              "#9c179e"
             ],
             [
              0.4444444444444444,
              "#bd3786"
             ],
             [
              0.5555555555555556,
              "#d8576b"
             ],
             [
              0.6666666666666666,
              "#ed7953"
             ],
             [
              0.7777777777777778,
              "#fb9f3a"
             ],
             [
              0.8888888888888888,
              "#fdca26"
             ],
             [
              1,
              "#f0f921"
             ]
            ],
            "type": "histogram2d"
           }
          ],
          "histogram2dcontour": [
           {
            "colorbar": {
             "outlinewidth": 0,
             "ticks": ""
            },
            "colorscale": [
             [
              0,
              "#0d0887"
             ],
             [
              0.1111111111111111,
              "#46039f"
             ],
             [
              0.2222222222222222,
              "#7201a8"
             ],
             [
              0.3333333333333333,
              "#9c179e"
             ],
             [
              0.4444444444444444,
              "#bd3786"
             ],
             [
              0.5555555555555556,
              "#d8576b"
             ],
             [
              0.6666666666666666,
              "#ed7953"
             ],
             [
              0.7777777777777778,
              "#fb9f3a"
             ],
             [
              0.8888888888888888,
              "#fdca26"
             ],
             [
              1,
              "#f0f921"
             ]
            ],
            "type": "histogram2dcontour"
           }
          ],
          "mesh3d": [
           {
            "colorbar": {
             "outlinewidth": 0,
             "ticks": ""
            },
            "type": "mesh3d"
           }
          ],
          "parcoords": [
           {
            "line": {
             "colorbar": {
              "outlinewidth": 0,
              "ticks": ""
             }
            },
            "type": "parcoords"
           }
          ],
          "pie": [
           {
            "automargin": true,
            "type": "pie"
           }
          ],
          "scatter": [
           {
            "marker": {
             "colorbar": {
              "outlinewidth": 0,
              "ticks": ""
             }
            },
            "type": "scatter"
           }
          ],
          "scatter3d": [
           {
            "line": {
             "colorbar": {
              "outlinewidth": 0,
              "ticks": ""
             }
            },
            "marker": {
             "colorbar": {
              "outlinewidth": 0,
              "ticks": ""
             }
            },
            "type": "scatter3d"
           }
          ],
          "scattercarpet": [
           {
            "marker": {
             "colorbar": {
              "outlinewidth": 0,
              "ticks": ""
             }
            },
            "type": "scattercarpet"
           }
          ],
          "scattergeo": [
           {
            "marker": {
             "colorbar": {
              "outlinewidth": 0,
              "ticks": ""
             }
            },
            "type": "scattergeo"
           }
          ],
          "scattergl": [
           {
            "marker": {
             "colorbar": {
              "outlinewidth": 0,
              "ticks": ""
             }
            },
            "type": "scattergl"
           }
          ],
          "scattermapbox": [
           {
            "marker": {
             "colorbar": {
              "outlinewidth": 0,
              "ticks": ""
             }
            },
            "type": "scattermapbox"
           }
          ],
          "scatterpolar": [
           {
            "marker": {
             "colorbar": {
              "outlinewidth": 0,
              "ticks": ""
             }
            },
            "type": "scatterpolar"
           }
          ],
          "scatterpolargl": [
           {
            "marker": {
             "colorbar": {
              "outlinewidth": 0,
              "ticks": ""
             }
            },
            "type": "scatterpolargl"
           }
          ],
          "scatterternary": [
           {
            "marker": {
             "colorbar": {
              "outlinewidth": 0,
              "ticks": ""
             }
            },
            "type": "scatterternary"
           }
          ],
          "surface": [
           {
            "colorbar": {
             "outlinewidth": 0,
             "ticks": ""
            },
            "colorscale": [
             [
              0,
              "#0d0887"
             ],
             [
              0.1111111111111111,
              "#46039f"
             ],
             [
              0.2222222222222222,
              "#7201a8"
             ],
             [
              0.3333333333333333,
              "#9c179e"
             ],
             [
              0.4444444444444444,
              "#bd3786"
             ],
             [
              0.5555555555555556,
              "#d8576b"
             ],
             [
              0.6666666666666666,
              "#ed7953"
             ],
             [
              0.7777777777777778,
              "#fb9f3a"
             ],
             [
              0.8888888888888888,
              "#fdca26"
             ],
             [
              1,
              "#f0f921"
             ]
            ],
            "type": "surface"
           }
          ],
          "table": [
           {
            "cells": {
             "fill": {
              "color": "#EBF0F8"
             },
             "line": {
              "color": "white"
             }
            },
            "header": {
             "fill": {
              "color": "#C8D4E3"
             },
             "line": {
              "color": "white"
             }
            },
            "type": "table"
           }
          ]
         },
         "layout": {
          "annotationdefaults": {
           "arrowcolor": "#2a3f5f",
           "arrowhead": 0,
           "arrowwidth": 1
          },
          "autotypenumbers": "strict",
          "coloraxis": {
           "colorbar": {
            "outlinewidth": 0,
            "ticks": ""
           }
          },
          "colorscale": {
           "diverging": [
            [
             0,
             "#8e0152"
            ],
            [
             0.1,
             "#c51b7d"
            ],
            [
             0.2,
             "#de77ae"
            ],
            [
             0.3,
             "#f1b6da"
            ],
            [
             0.4,
             "#fde0ef"
            ],
            [
             0.5,
             "#f7f7f7"
            ],
            [
             0.6,
             "#e6f5d0"
            ],
            [
             0.7,
             "#b8e186"
            ],
            [
             0.8,
             "#7fbc41"
            ],
            [
             0.9,
             "#4d9221"
            ],
            [
             1,
             "#276419"
            ]
           ],
           "sequential": [
            [
             0,
             "#0d0887"
            ],
            [
             0.1111111111111111,
             "#46039f"
            ],
            [
             0.2222222222222222,
             "#7201a8"
            ],
            [
             0.3333333333333333,
             "#9c179e"
            ],
            [
             0.4444444444444444,
             "#bd3786"
            ],
            [
             0.5555555555555556,
             "#d8576b"
            ],
            [
             0.6666666666666666,
             "#ed7953"
            ],
            [
             0.7777777777777778,
             "#fb9f3a"
            ],
            [
             0.8888888888888888,
             "#fdca26"
            ],
            [
             1,
             "#f0f921"
            ]
           ],
           "sequentialminus": [
            [
             0,
             "#0d0887"
            ],
            [
             0.1111111111111111,
             "#46039f"
            ],
            [
             0.2222222222222222,
             "#7201a8"
            ],
            [
             0.3333333333333333,
             "#9c179e"
            ],
            [
             0.4444444444444444,
             "#bd3786"
            ],
            [
             0.5555555555555556,
             "#d8576b"
            ],
            [
             0.6666666666666666,
             "#ed7953"
            ],
            [
             0.7777777777777778,
             "#fb9f3a"
            ],
            [
             0.8888888888888888,
             "#fdca26"
            ],
            [
             1,
             "#f0f921"
            ]
           ]
          },
          "colorway": [
           "#636efa",
           "#EF553B",
           "#00cc96",
           "#ab63fa",
           "#FFA15A",
           "#19d3f3",
           "#FF6692",
           "#B6E880",
           "#FF97FF",
           "#FECB52"
          ],
          "font": {
           "color": "#2a3f5f"
          },
          "geo": {
           "bgcolor": "white",
           "lakecolor": "white",
           "landcolor": "#E5ECF6",
           "showlakes": true,
           "showland": true,
           "subunitcolor": "white"
          },
          "hoverlabel": {
           "align": "left"
          },
          "hovermode": "closest",
          "mapbox": {
           "style": "light"
          },
          "paper_bgcolor": "white",
          "plot_bgcolor": "#E5ECF6",
          "polar": {
           "angularaxis": {
            "gridcolor": "white",
            "linecolor": "white",
            "ticks": ""
           },
           "bgcolor": "#E5ECF6",
           "radialaxis": {
            "gridcolor": "white",
            "linecolor": "white",
            "ticks": ""
           }
          },
          "scene": {
           "xaxis": {
            "backgroundcolor": "#E5ECF6",
            "gridcolor": "white",
            "gridwidth": 2,
            "linecolor": "white",
            "showbackground": true,
            "ticks": "",
            "zerolinecolor": "white"
           },
           "yaxis": {
            "backgroundcolor": "#E5ECF6",
            "gridcolor": "white",
            "gridwidth": 2,
            "linecolor": "white",
            "showbackground": true,
            "ticks": "",
            "zerolinecolor": "white"
           },
           "zaxis": {
            "backgroundcolor": "#E5ECF6",
            "gridcolor": "white",
            "gridwidth": 2,
            "linecolor": "white",
            "showbackground": true,
            "ticks": "",
            "zerolinecolor": "white"
           }
          },
          "shapedefaults": {
           "line": {
            "color": "#2a3f5f"
           }
          },
          "ternary": {
           "aaxis": {
            "gridcolor": "white",
            "linecolor": "white",
            "ticks": ""
           },
           "baxis": {
            "gridcolor": "white",
            "linecolor": "white",
            "ticks": ""
           },
           "bgcolor": "#E5ECF6",
           "caxis": {
            "gridcolor": "white",
            "linecolor": "white",
            "ticks": ""
           }
          },
          "title": {
           "x": 0.05
          },
          "xaxis": {
           "automargin": true,
           "gridcolor": "white",
           "linecolor": "white",
           "ticks": "",
           "title": {
            "standoff": 15
           },
           "zerolinecolor": "white",
           "zerolinewidth": 2
          },
          "yaxis": {
           "automargin": true,
           "gridcolor": "white",
           "linecolor": "white",
           "ticks": "",
           "title": {
            "standoff": 15
           },
           "zerolinecolor": "white",
           "zerolinewidth": 2
          }
         }
        },
        "title": {
         "font": {
          "color": "#4D5663"
         }
        },
        "xaxis": {
         "gridcolor": "#E1E5ED",
         "showgrid": true,
         "tickfont": {
          "color": "#4D5663"
         },
         "title": {
          "font": {
           "color": "#4D5663"
          },
          "text": ""
         },
         "zerolinecolor": "#E1E5ED"
        },
        "yaxis": {
         "gridcolor": "#E1E5ED",
         "showgrid": true,
         "tickfont": {
          "color": "#4D5663"
         },
         "title": {
          "font": {
           "color": "#4D5663"
          },
          "text": ""
         },
         "zerolinecolor": "#E1E5ED"
        }
       }
      },
      "text/html": [
       "<div>                            <div id=\"92f9d76d-657b-41d3-b0fc-752eb4a5399e\" class=\"plotly-graph-div\" style=\"height:525px; width:100%;\"></div>            <script type=\"text/javascript\">                require([\"plotly\"], function(Plotly) {                    window.PLOTLYENV=window.PLOTLYENV || {};\n",
       "                    window.PLOTLYENV.BASE_URL='https://plot.ly';                                    if (document.getElementById(\"92f9d76d-657b-41d3-b0fc-752eb4a5399e\")) {                    Plotly.newPlot(                        \"92f9d76d-657b-41d3-b0fc-752eb4a5399e\",                        [{\"marker\": {\"color\": \"rgba(255, 153, 51, 0.6)\", \"line\": {\"color\": \"rgba(255, 153, 51, 1.0)\", \"width\": 1}}, \"name\": \"values\", \"orientation\": \"v\", \"text\": \"\", \"type\": \"bar\", \"x\": [\"A\", \"B\", \"C\"], \"y\": [17, 30, 61]}],                        {\"legend\": {\"bgcolor\": \"#F5F6F9\", \"font\": {\"color\": \"#4D5663\"}}, \"paper_bgcolor\": \"#F5F6F9\", \"plot_bgcolor\": \"#F5F6F9\", \"template\": {\"data\": {\"bar\": [{\"error_x\": {\"color\": \"#2a3f5f\"}, \"error_y\": {\"color\": \"#2a3f5f\"}, \"marker\": {\"line\": {\"color\": \"#E5ECF6\", \"width\": 0.5}}, \"type\": \"bar\"}], \"barpolar\": [{\"marker\": {\"line\": {\"color\": \"#E5ECF6\", \"width\": 0.5}}, \"type\": \"barpolar\"}], \"carpet\": [{\"aaxis\": {\"endlinecolor\": \"#2a3f5f\", \"gridcolor\": \"white\", \"linecolor\": \"white\", \"minorgridcolor\": \"white\", \"startlinecolor\": \"#2a3f5f\"}, \"baxis\": {\"endlinecolor\": \"#2a3f5f\", \"gridcolor\": \"white\", \"linecolor\": \"white\", \"minorgridcolor\": \"white\", \"startlinecolor\": \"#2a3f5f\"}, \"type\": \"carpet\"}], \"choropleth\": [{\"colorbar\": {\"outlinewidth\": 0, \"ticks\": \"\"}, \"type\": \"choropleth\"}], \"contour\": [{\"colorbar\": {\"outlinewidth\": 0, \"ticks\": \"\"}, \"colorscale\": [[0.0, \"#0d0887\"], [0.1111111111111111, \"#46039f\"], [0.2222222222222222, \"#7201a8\"], [0.3333333333333333, \"#9c179e\"], [0.4444444444444444, \"#bd3786\"], [0.5555555555555556, \"#d8576b\"], [0.6666666666666666, \"#ed7953\"], [0.7777777777777778, \"#fb9f3a\"], [0.8888888888888888, \"#fdca26\"], [1.0, \"#f0f921\"]], \"type\": \"contour\"}], \"contourcarpet\": [{\"colorbar\": {\"outlinewidth\": 0, \"ticks\": \"\"}, \"type\": \"contourcarpet\"}], \"heatmap\": [{\"colorbar\": {\"outlinewidth\": 0, \"ticks\": \"\"}, \"colorscale\": [[0.0, \"#0d0887\"], [0.1111111111111111, \"#46039f\"], [0.2222222222222222, \"#7201a8\"], [0.3333333333333333, \"#9c179e\"], [0.4444444444444444, \"#bd3786\"], [0.5555555555555556, \"#d8576b\"], [0.6666666666666666, \"#ed7953\"], [0.7777777777777778, \"#fb9f3a\"], [0.8888888888888888, \"#fdca26\"], [1.0, \"#f0f921\"]], \"type\": \"heatmap\"}], \"heatmapgl\": [{\"colorbar\": {\"outlinewidth\": 0, \"ticks\": \"\"}, \"colorscale\": [[0.0, \"#0d0887\"], [0.1111111111111111, \"#46039f\"], [0.2222222222222222, \"#7201a8\"], [0.3333333333333333, \"#9c179e\"], [0.4444444444444444, \"#bd3786\"], [0.5555555555555556, \"#d8576b\"], [0.6666666666666666, \"#ed7953\"], [0.7777777777777778, \"#fb9f3a\"], [0.8888888888888888, \"#fdca26\"], [1.0, \"#f0f921\"]], \"type\": \"heatmapgl\"}], \"histogram\": [{\"marker\": {\"colorbar\": {\"outlinewidth\": 0, \"ticks\": \"\"}}, \"type\": \"histogram\"}], \"histogram2d\": [{\"colorbar\": {\"outlinewidth\": 0, \"ticks\": \"\"}, \"colorscale\": [[0.0, \"#0d0887\"], [0.1111111111111111, \"#46039f\"], [0.2222222222222222, \"#7201a8\"], [0.3333333333333333, \"#9c179e\"], [0.4444444444444444, \"#bd3786\"], [0.5555555555555556, \"#d8576b\"], [0.6666666666666666, \"#ed7953\"], [0.7777777777777778, \"#fb9f3a\"], [0.8888888888888888, \"#fdca26\"], [1.0, \"#f0f921\"]], \"type\": \"histogram2d\"}], \"histogram2dcontour\": [{\"colorbar\": {\"outlinewidth\": 0, \"ticks\": \"\"}, \"colorscale\": [[0.0, \"#0d0887\"], [0.1111111111111111, \"#46039f\"], [0.2222222222222222, \"#7201a8\"], [0.3333333333333333, \"#9c179e\"], [0.4444444444444444, \"#bd3786\"], [0.5555555555555556, \"#d8576b\"], [0.6666666666666666, \"#ed7953\"], [0.7777777777777778, \"#fb9f3a\"], [0.8888888888888888, \"#fdca26\"], [1.0, \"#f0f921\"]], \"type\": \"histogram2dcontour\"}], \"mesh3d\": [{\"colorbar\": {\"outlinewidth\": 0, \"ticks\": \"\"}, \"type\": \"mesh3d\"}], \"parcoords\": [{\"line\": {\"colorbar\": {\"outlinewidth\": 0, \"ticks\": \"\"}}, \"type\": \"parcoords\"}], \"pie\": [{\"automargin\": true, \"type\": \"pie\"}], \"scatter\": [{\"marker\": {\"colorbar\": {\"outlinewidth\": 0, \"ticks\": \"\"}}, \"type\": \"scatter\"}], \"scatter3d\": [{\"line\": {\"colorbar\": {\"outlinewidth\": 0, \"ticks\": \"\"}}, \"marker\": {\"colorbar\": {\"outlinewidth\": 0, \"ticks\": \"\"}}, \"type\": \"scatter3d\"}], \"scattercarpet\": [{\"marker\": {\"colorbar\": {\"outlinewidth\": 0, \"ticks\": \"\"}}, \"type\": \"scattercarpet\"}], \"scattergeo\": [{\"marker\": {\"colorbar\": {\"outlinewidth\": 0, \"ticks\": \"\"}}, \"type\": \"scattergeo\"}], \"scattergl\": [{\"marker\": {\"colorbar\": {\"outlinewidth\": 0, \"ticks\": \"\"}}, \"type\": \"scattergl\"}], \"scattermapbox\": [{\"marker\": {\"colorbar\": {\"outlinewidth\": 0, \"ticks\": \"\"}}, \"type\": \"scattermapbox\"}], \"scatterpolar\": [{\"marker\": {\"colorbar\": {\"outlinewidth\": 0, \"ticks\": \"\"}}, \"type\": \"scatterpolar\"}], \"scatterpolargl\": [{\"marker\": {\"colorbar\": {\"outlinewidth\": 0, \"ticks\": \"\"}}, \"type\": \"scatterpolargl\"}], \"scatterternary\": [{\"marker\": {\"colorbar\": {\"outlinewidth\": 0, \"ticks\": \"\"}}, \"type\": \"scatterternary\"}], \"surface\": [{\"colorbar\": {\"outlinewidth\": 0, \"ticks\": \"\"}, \"colorscale\": [[0.0, \"#0d0887\"], [0.1111111111111111, \"#46039f\"], [0.2222222222222222, \"#7201a8\"], [0.3333333333333333, \"#9c179e\"], [0.4444444444444444, \"#bd3786\"], [0.5555555555555556, \"#d8576b\"], [0.6666666666666666, \"#ed7953\"], [0.7777777777777778, \"#fb9f3a\"], [0.8888888888888888, \"#fdca26\"], [1.0, \"#f0f921\"]], \"type\": \"surface\"}], \"table\": [{\"cells\": {\"fill\": {\"color\": \"#EBF0F8\"}, \"line\": {\"color\": \"white\"}}, \"header\": {\"fill\": {\"color\": \"#C8D4E3\"}, \"line\": {\"color\": \"white\"}}, \"type\": \"table\"}]}, \"layout\": {\"annotationdefaults\": {\"arrowcolor\": \"#2a3f5f\", \"arrowhead\": 0, \"arrowwidth\": 1}, \"autotypenumbers\": \"strict\", \"coloraxis\": {\"colorbar\": {\"outlinewidth\": 0, \"ticks\": \"\"}}, \"colorscale\": {\"diverging\": [[0, \"#8e0152\"], [0.1, \"#c51b7d\"], [0.2, \"#de77ae\"], [0.3, \"#f1b6da\"], [0.4, \"#fde0ef\"], [0.5, \"#f7f7f7\"], [0.6, \"#e6f5d0\"], [0.7, \"#b8e186\"], [0.8, \"#7fbc41\"], [0.9, \"#4d9221\"], [1, \"#276419\"]], \"sequential\": [[0.0, \"#0d0887\"], [0.1111111111111111, \"#46039f\"], [0.2222222222222222, \"#7201a8\"], [0.3333333333333333, \"#9c179e\"], [0.4444444444444444, \"#bd3786\"], [0.5555555555555556, \"#d8576b\"], [0.6666666666666666, \"#ed7953\"], [0.7777777777777778, \"#fb9f3a\"], [0.8888888888888888, \"#fdca26\"], [1.0, \"#f0f921\"]], \"sequentialminus\": [[0.0, \"#0d0887\"], [0.1111111111111111, \"#46039f\"], [0.2222222222222222, \"#7201a8\"], [0.3333333333333333, \"#9c179e\"], [0.4444444444444444, \"#bd3786\"], [0.5555555555555556, \"#d8576b\"], [0.6666666666666666, \"#ed7953\"], [0.7777777777777778, \"#fb9f3a\"], [0.8888888888888888, \"#fdca26\"], [1.0, \"#f0f921\"]]}, \"colorway\": [\"#636efa\", \"#EF553B\", \"#00cc96\", \"#ab63fa\", \"#FFA15A\", \"#19d3f3\", \"#FF6692\", \"#B6E880\", \"#FF97FF\", \"#FECB52\"], \"font\": {\"color\": \"#2a3f5f\"}, \"geo\": {\"bgcolor\": \"white\", \"lakecolor\": \"white\", \"landcolor\": \"#E5ECF6\", \"showlakes\": true, \"showland\": true, \"subunitcolor\": \"white\"}, \"hoverlabel\": {\"align\": \"left\"}, \"hovermode\": \"closest\", \"mapbox\": {\"style\": \"light\"}, \"paper_bgcolor\": \"white\", \"plot_bgcolor\": \"#E5ECF6\", \"polar\": {\"angularaxis\": {\"gridcolor\": \"white\", \"linecolor\": \"white\", \"ticks\": \"\"}, \"bgcolor\": \"#E5ECF6\", \"radialaxis\": {\"gridcolor\": \"white\", \"linecolor\": \"white\", \"ticks\": \"\"}}, \"scene\": {\"xaxis\": {\"backgroundcolor\": \"#E5ECF6\", \"gridcolor\": \"white\", \"gridwidth\": 2, \"linecolor\": \"white\", \"showbackground\": true, \"ticks\": \"\", \"zerolinecolor\": \"white\"}, \"yaxis\": {\"backgroundcolor\": \"#E5ECF6\", \"gridcolor\": \"white\", \"gridwidth\": 2, \"linecolor\": \"white\", \"showbackground\": true, \"ticks\": \"\", \"zerolinecolor\": \"white\"}, \"zaxis\": {\"backgroundcolor\": \"#E5ECF6\", \"gridcolor\": \"white\", \"gridwidth\": 2, \"linecolor\": \"white\", \"showbackground\": true, \"ticks\": \"\", \"zerolinecolor\": \"white\"}}, \"shapedefaults\": {\"line\": {\"color\": \"#2a3f5f\"}}, \"ternary\": {\"aaxis\": {\"gridcolor\": \"white\", \"linecolor\": \"white\", \"ticks\": \"\"}, \"baxis\": {\"gridcolor\": \"white\", \"linecolor\": \"white\", \"ticks\": \"\"}, \"bgcolor\": \"#E5ECF6\", \"caxis\": {\"gridcolor\": \"white\", \"linecolor\": \"white\", \"ticks\": \"\"}}, \"title\": {\"x\": 0.05}, \"xaxis\": {\"automargin\": true, \"gridcolor\": \"white\", \"linecolor\": \"white\", \"ticks\": \"\", \"title\": {\"standoff\": 15}, \"zerolinecolor\": \"white\", \"zerolinewidth\": 2}, \"yaxis\": {\"automargin\": true, \"gridcolor\": \"white\", \"linecolor\": \"white\", \"ticks\": \"\", \"title\": {\"standoff\": 15}, \"zerolinecolor\": \"white\", \"zerolinewidth\": 2}}}, \"title\": {\"font\": {\"color\": \"#4D5663\"}}, \"xaxis\": {\"gridcolor\": \"#E1E5ED\", \"showgrid\": true, \"tickfont\": {\"color\": \"#4D5663\"}, \"title\": {\"font\": {\"color\": \"#4D5663\"}, \"text\": \"\"}, \"zerolinecolor\": \"#E1E5ED\"}, \"yaxis\": {\"gridcolor\": \"#E1E5ED\", \"showgrid\": true, \"tickfont\": {\"color\": \"#4D5663\"}, \"title\": {\"font\": {\"color\": \"#4D5663\"}, \"text\": \"\"}, \"zerolinecolor\": \"#E1E5ED\"}},                        {\"showLink\": true, \"linkText\": \"Export to plot.ly\", \"plotlyServerURL\": \"https://plot.ly\", \"responsive\": true}                    ).then(function(){\n",
       "                            \n",
       "var gd = document.getElementById('92f9d76d-657b-41d3-b0fc-752eb4a5399e');\n",
       "var x = new MutationObserver(function (mutations, observer) {{\n",
       "        var display = window.getComputedStyle(gd).display;\n",
       "        if (!display || display === 'none') {{\n",
       "            console.log([gd, 'removed!']);\n",
       "            Plotly.purge(gd);\n",
       "            observer.disconnect();\n",
       "        }}\n",
       "}});\n",
       "\n",
       "// Listen for the removal of the full notebook cells\n",
       "var notebookContainer = gd.closest('#notebook-container');\n",
       "if (notebookContainer) {{\n",
       "    x.observe(notebookContainer, {childList: true});\n",
       "}}\n",
       "\n",
       "// Listen for the clearing of the current output cell\n",
       "var outputEl = gd.closest('.output');\n",
       "if (outputEl) {{\n",
       "    x.observe(outputEl, {childList: true});\n",
       "}}\n",
       "\n",
       "                        })                };                });            </script>        </div>"
      ]
     },
     "metadata": {},
     "output_type": "display_data"
    }
   ],
   "source": [
    "df2.iplot(kind='bar',x='category',y='values')"
   ]
  },
  {
   "cell_type": "code",
   "execution_count": 14,
   "metadata": {},
   "outputs": [
    {
     "data": {
      "application/vnd.plotly.v1+json": {
       "config": {
        "linkText": "Export to plot.ly",
        "plotlyServerURL": "https://plot.ly",
        "showLink": true
       },
       "data": [
        {
         "marker": {
          "color": "rgba(255, 153, 51, 0.6)",
          "line": {
           "color": "rgba(255, 153, 51, 1.0)",
           "width": 1
          }
         },
         "name": "None",
         "orientation": "v",
         "text": "",
         "type": "bar",
         "x": [
          "A",
          "B",
          "C",
          "D"
         ],
         "y": [
          100,
          100,
          100,
          100
         ]
        }
       ],
       "layout": {
        "legend": {
         "bgcolor": "#F5F6F9",
         "font": {
          "color": "#4D5663"
         }
        },
        "paper_bgcolor": "#F5F6F9",
        "plot_bgcolor": "#F5F6F9",
        "template": {
         "data": {
          "bar": [
           {
            "error_x": {
             "color": "#2a3f5f"
            },
            "error_y": {
             "color": "#2a3f5f"
            },
            "marker": {
             "line": {
              "color": "#E5ECF6",
              "width": 0.5
             }
            },
            "type": "bar"
           }
          ],
          "barpolar": [
           {
            "marker": {
             "line": {
              "color": "#E5ECF6",
              "width": 0.5
             }
            },
            "type": "barpolar"
           }
          ],
          "carpet": [
           {
            "aaxis": {
             "endlinecolor": "#2a3f5f",
             "gridcolor": "white",
             "linecolor": "white",
             "minorgridcolor": "white",
             "startlinecolor": "#2a3f5f"
            },
            "baxis": {
             "endlinecolor": "#2a3f5f",
             "gridcolor": "white",
             "linecolor": "white",
             "minorgridcolor": "white",
             "startlinecolor": "#2a3f5f"
            },
            "type": "carpet"
           }
          ],
          "choropleth": [
           {
            "colorbar": {
             "outlinewidth": 0,
             "ticks": ""
            },
            "type": "choropleth"
           }
          ],
          "contour": [
           {
            "colorbar": {
             "outlinewidth": 0,
             "ticks": ""
            },
            "colorscale": [
             [
              0,
              "#0d0887"
             ],
             [
              0.1111111111111111,
              "#46039f"
             ],
             [
              0.2222222222222222,
              "#7201a8"
             ],
             [
              0.3333333333333333,
              "#9c179e"
             ],
             [
              0.4444444444444444,
              "#bd3786"
             ],
             [
              0.5555555555555556,
              "#d8576b"
             ],
             [
              0.6666666666666666,
              "#ed7953"
             ],
             [
              0.7777777777777778,
              "#fb9f3a"
             ],
             [
              0.8888888888888888,
              "#fdca26"
             ],
             [
              1,
              "#f0f921"
             ]
            ],
            "type": "contour"
           }
          ],
          "contourcarpet": [
           {
            "colorbar": {
             "outlinewidth": 0,
             "ticks": ""
            },
            "type": "contourcarpet"
           }
          ],
          "heatmap": [
           {
            "colorbar": {
             "outlinewidth": 0,
             "ticks": ""
            },
            "colorscale": [
             [
              0,
              "#0d0887"
             ],
             [
              0.1111111111111111,
              "#46039f"
             ],
             [
              0.2222222222222222,
              "#7201a8"
             ],
             [
              0.3333333333333333,
              "#9c179e"
             ],
             [
              0.4444444444444444,
              "#bd3786"
             ],
             [
              0.5555555555555556,
              "#d8576b"
             ],
             [
              0.6666666666666666,
              "#ed7953"
             ],
             [
              0.7777777777777778,
              "#fb9f3a"
             ],
             [
              0.8888888888888888,
              "#fdca26"
             ],
             [
              1,
              "#f0f921"
             ]
            ],
            "type": "heatmap"
           }
          ],
          "heatmapgl": [
           {
            "colorbar": {
             "outlinewidth": 0,
             "ticks": ""
            },
            "colorscale": [
             [
              0,
              "#0d0887"
             ],
             [
              0.1111111111111111,
              "#46039f"
             ],
             [
              0.2222222222222222,
              "#7201a8"
             ],
             [
              0.3333333333333333,
              "#9c179e"
             ],
             [
              0.4444444444444444,
              "#bd3786"
             ],
             [
              0.5555555555555556,
              "#d8576b"
             ],
             [
              0.6666666666666666,
              "#ed7953"
             ],
             [
              0.7777777777777778,
              "#fb9f3a"
             ],
             [
              0.8888888888888888,
              "#fdca26"
             ],
             [
              1,
              "#f0f921"
             ]
            ],
            "type": "heatmapgl"
           }
          ],
          "histogram": [
           {
            "marker": {
             "colorbar": {
              "outlinewidth": 0,
              "ticks": ""
             }
            },
            "type": "histogram"
           }
          ],
          "histogram2d": [
           {
            "colorbar": {
             "outlinewidth": 0,
             "ticks": ""
            },
            "colorscale": [
             [
              0,
              "#0d0887"
             ],
             [
              0.1111111111111111,
              "#46039f"
             ],
             [
              0.2222222222222222,
              "#7201a8"
             ],
             [
              0.3333333333333333,
              "#9c179e"
             ],
             [
              0.4444444444444444,
              "#bd3786"
             ],
             [
              0.5555555555555556,
              "#d8576b"
             ],
             [
              0.6666666666666666,
              "#ed7953"
             ],
             [
              0.7777777777777778,
              "#fb9f3a"
             ],
             [
              0.8888888888888888,
              "#fdca26"
             ],
             [
              1,
              "#f0f921"
             ]
            ],
            "type": "histogram2d"
           }
          ],
          "histogram2dcontour": [
           {
            "colorbar": {
             "outlinewidth": 0,
             "ticks": ""
            },
            "colorscale": [
             [
              0,
              "#0d0887"
             ],
             [
              0.1111111111111111,
              "#46039f"
             ],
             [
              0.2222222222222222,
              "#7201a8"
             ],
             [
              0.3333333333333333,
              "#9c179e"
             ],
             [
              0.4444444444444444,
              "#bd3786"
             ],
             [
              0.5555555555555556,
              "#d8576b"
             ],
             [
              0.6666666666666666,
              "#ed7953"
             ],
             [
              0.7777777777777778,
              "#fb9f3a"
             ],
             [
              0.8888888888888888,
              "#fdca26"
             ],
             [
              1,
              "#f0f921"
             ]
            ],
            "type": "histogram2dcontour"
           }
          ],
          "mesh3d": [
           {
            "colorbar": {
             "outlinewidth": 0,
             "ticks": ""
            },
            "type": "mesh3d"
           }
          ],
          "parcoords": [
           {
            "line": {
             "colorbar": {
              "outlinewidth": 0,
              "ticks": ""
             }
            },
            "type": "parcoords"
           }
          ],
          "pie": [
           {
            "automargin": true,
            "type": "pie"
           }
          ],
          "scatter": [
           {
            "marker": {
             "colorbar": {
              "outlinewidth": 0,
              "ticks": ""
             }
            },
            "type": "scatter"
           }
          ],
          "scatter3d": [
           {
            "line": {
             "colorbar": {
              "outlinewidth": 0,
              "ticks": ""
             }
            },
            "marker": {
             "colorbar": {
              "outlinewidth": 0,
              "ticks": ""
             }
            },
            "type": "scatter3d"
           }
          ],
          "scattercarpet": [
           {
            "marker": {
             "colorbar": {
              "outlinewidth": 0,
              "ticks": ""
             }
            },
            "type": "scattercarpet"
           }
          ],
          "scattergeo": [
           {
            "marker": {
             "colorbar": {
              "outlinewidth": 0,
              "ticks": ""
             }
            },
            "type": "scattergeo"
           }
          ],
          "scattergl": [
           {
            "marker": {
             "colorbar": {
              "outlinewidth": 0,
              "ticks": ""
             }
            },
            "type": "scattergl"
           }
          ],
          "scattermapbox": [
           {
            "marker": {
             "colorbar": {
              "outlinewidth": 0,
              "ticks": ""
             }
            },
            "type": "scattermapbox"
           }
          ],
          "scatterpolar": [
           {
            "marker": {
             "colorbar": {
              "outlinewidth": 0,
              "ticks": ""
             }
            },
            "type": "scatterpolar"
           }
          ],
          "scatterpolargl": [
           {
            "marker": {
             "colorbar": {
              "outlinewidth": 0,
              "ticks": ""
             }
            },
            "type": "scatterpolargl"
           }
          ],
          "scatterternary": [
           {
            "marker": {
             "colorbar": {
              "outlinewidth": 0,
              "ticks": ""
             }
            },
            "type": "scatterternary"
           }
          ],
          "surface": [
           {
            "colorbar": {
             "outlinewidth": 0,
             "ticks": ""
            },
            "colorscale": [
             [
              0,
              "#0d0887"
             ],
             [
              0.1111111111111111,
              "#46039f"
             ],
             [
              0.2222222222222222,
              "#7201a8"
             ],
             [
              0.3333333333333333,
              "#9c179e"
             ],
             [
              0.4444444444444444,
              "#bd3786"
             ],
             [
              0.5555555555555556,
              "#d8576b"
             ],
             [
              0.6666666666666666,
              "#ed7953"
             ],
             [
              0.7777777777777778,
              "#fb9f3a"
             ],
             [
              0.8888888888888888,
              "#fdca26"
             ],
             [
              1,
              "#f0f921"
             ]
            ],
            "type": "surface"
           }
          ],
          "table": [
           {
            "cells": {
             "fill": {
              "color": "#EBF0F8"
             },
             "line": {
              "color": "white"
             }
            },
            "header": {
             "fill": {
              "color": "#C8D4E3"
             },
             "line": {
              "color": "white"
             }
            },
            "type": "table"
           }
          ]
         },
         "layout": {
          "annotationdefaults": {
           "arrowcolor": "#2a3f5f",
           "arrowhead": 0,
           "arrowwidth": 1
          },
          "autotypenumbers": "strict",
          "coloraxis": {
           "colorbar": {
            "outlinewidth": 0,
            "ticks": ""
           }
          },
          "colorscale": {
           "diverging": [
            [
             0,
             "#8e0152"
            ],
            [
             0.1,
             "#c51b7d"
            ],
            [
             0.2,
             "#de77ae"
            ],
            [
             0.3,
             "#f1b6da"
            ],
            [
             0.4,
             "#fde0ef"
            ],
            [
             0.5,
             "#f7f7f7"
            ],
            [
             0.6,
             "#e6f5d0"
            ],
            [
             0.7,
             "#b8e186"
            ],
            [
             0.8,
             "#7fbc41"
            ],
            [
             0.9,
             "#4d9221"
            ],
            [
             1,
             "#276419"
            ]
           ],
           "sequential": [
            [
             0,
             "#0d0887"
            ],
            [
             0.1111111111111111,
             "#46039f"
            ],
            [
             0.2222222222222222,
             "#7201a8"
            ],
            [
             0.3333333333333333,
             "#9c179e"
            ],
            [
             0.4444444444444444,
             "#bd3786"
            ],
            [
             0.5555555555555556,
             "#d8576b"
            ],
            [
             0.6666666666666666,
             "#ed7953"
            ],
            [
             0.7777777777777778,
             "#fb9f3a"
            ],
            [
             0.8888888888888888,
             "#fdca26"
            ],
            [
             1,
             "#f0f921"
            ]
           ],
           "sequentialminus": [
            [
             0,
             "#0d0887"
            ],
            [
             0.1111111111111111,
             "#46039f"
            ],
            [
             0.2222222222222222,
             "#7201a8"
            ],
            [
             0.3333333333333333,
             "#9c179e"
            ],
            [
             0.4444444444444444,
             "#bd3786"
            ],
            [
             0.5555555555555556,
             "#d8576b"
            ],
            [
             0.6666666666666666,
             "#ed7953"
            ],
            [
             0.7777777777777778,
             "#fb9f3a"
            ],
            [
             0.8888888888888888,
             "#fdca26"
            ],
            [
             1,
             "#f0f921"
            ]
           ]
          },
          "colorway": [
           "#636efa",
           "#EF553B",
           "#00cc96",
           "#ab63fa",
           "#FFA15A",
           "#19d3f3",
           "#FF6692",
           "#B6E880",
           "#FF97FF",
           "#FECB52"
          ],
          "font": {
           "color": "#2a3f5f"
          },
          "geo": {
           "bgcolor": "white",
           "lakecolor": "white",
           "landcolor": "#E5ECF6",
           "showlakes": true,
           "showland": true,
           "subunitcolor": "white"
          },
          "hoverlabel": {
           "align": "left"
          },
          "hovermode": "closest",
          "mapbox": {
           "style": "light"
          },
          "paper_bgcolor": "white",
          "plot_bgcolor": "#E5ECF6",
          "polar": {
           "angularaxis": {
            "gridcolor": "white",
            "linecolor": "white",
            "ticks": ""
           },
           "bgcolor": "#E5ECF6",
           "radialaxis": {
            "gridcolor": "white",
            "linecolor": "white",
            "ticks": ""
           }
          },
          "scene": {
           "xaxis": {
            "backgroundcolor": "#E5ECF6",
            "gridcolor": "white",
            "gridwidth": 2,
            "linecolor": "white",
            "showbackground": true,
            "ticks": "",
            "zerolinecolor": "white"
           },
           "yaxis": {
            "backgroundcolor": "#E5ECF6",
            "gridcolor": "white",
            "gridwidth": 2,
            "linecolor": "white",
            "showbackground": true,
            "ticks": "",
            "zerolinecolor": "white"
           },
           "zaxis": {
            "backgroundcolor": "#E5ECF6",
            "gridcolor": "white",
            "gridwidth": 2,
            "linecolor": "white",
            "showbackground": true,
            "ticks": "",
            "zerolinecolor": "white"
           }
          },
          "shapedefaults": {
           "line": {
            "color": "#2a3f5f"
           }
          },
          "ternary": {
           "aaxis": {
            "gridcolor": "white",
            "linecolor": "white",
            "ticks": ""
           },
           "baxis": {
            "gridcolor": "white",
            "linecolor": "white",
            "ticks": ""
           },
           "bgcolor": "#E5ECF6",
           "caxis": {
            "gridcolor": "white",
            "linecolor": "white",
            "ticks": ""
           }
          },
          "title": {
           "x": 0.05
          },
          "xaxis": {
           "automargin": true,
           "gridcolor": "white",
           "linecolor": "white",
           "ticks": "",
           "title": {
            "standoff": 15
           },
           "zerolinecolor": "white",
           "zerolinewidth": 2
          },
          "yaxis": {
           "automargin": true,
           "gridcolor": "white",
           "linecolor": "white",
           "ticks": "",
           "title": {
            "standoff": 15
           },
           "zerolinecolor": "white",
           "zerolinewidth": 2
          }
         }
        },
        "title": {
         "font": {
          "color": "#4D5663"
         }
        },
        "xaxis": {
         "gridcolor": "#E1E5ED",
         "showgrid": true,
         "tickfont": {
          "color": "#4D5663"
         },
         "title": {
          "font": {
           "color": "#4D5663"
          },
          "text": ""
         },
         "zerolinecolor": "#E1E5ED"
        },
        "yaxis": {
         "gridcolor": "#E1E5ED",
         "showgrid": true,
         "tickfont": {
          "color": "#4D5663"
         },
         "title": {
          "font": {
           "color": "#4D5663"
          },
          "text": ""
         },
         "zerolinecolor": "#E1E5ED"
        }
       }
      },
      "text/html": [
       "<div>                            <div id=\"915136be-996e-410d-a99c-9b1141443637\" class=\"plotly-graph-div\" style=\"height:525px; width:100%;\"></div>            <script type=\"text/javascript\">                require([\"plotly\"], function(Plotly) {                    window.PLOTLYENV=window.PLOTLYENV || {};\n",
       "                    window.PLOTLYENV.BASE_URL='https://plot.ly';                                    if (document.getElementById(\"915136be-996e-410d-a99c-9b1141443637\")) {                    Plotly.newPlot(                        \"915136be-996e-410d-a99c-9b1141443637\",                        [{\"marker\": {\"color\": \"rgba(255, 153, 51, 0.6)\", \"line\": {\"color\": \"rgba(255, 153, 51, 1.0)\", \"width\": 1}}, \"name\": \"None\", \"orientation\": \"v\", \"text\": \"\", \"type\": \"bar\", \"x\": [\"A\", \"B\", \"C\", \"D\"], \"y\": [100, 100, 100, 100]}],                        {\"legend\": {\"bgcolor\": \"#F5F6F9\", \"font\": {\"color\": \"#4D5663\"}}, \"paper_bgcolor\": \"#F5F6F9\", \"plot_bgcolor\": \"#F5F6F9\", \"template\": {\"data\": {\"bar\": [{\"error_x\": {\"color\": \"#2a3f5f\"}, \"error_y\": {\"color\": \"#2a3f5f\"}, \"marker\": {\"line\": {\"color\": \"#E5ECF6\", \"width\": 0.5}}, \"type\": \"bar\"}], \"barpolar\": [{\"marker\": {\"line\": {\"color\": \"#E5ECF6\", \"width\": 0.5}}, \"type\": \"barpolar\"}], \"carpet\": [{\"aaxis\": {\"endlinecolor\": \"#2a3f5f\", \"gridcolor\": \"white\", \"linecolor\": \"white\", \"minorgridcolor\": \"white\", \"startlinecolor\": \"#2a3f5f\"}, \"baxis\": {\"endlinecolor\": \"#2a3f5f\", \"gridcolor\": \"white\", \"linecolor\": \"white\", \"minorgridcolor\": \"white\", \"startlinecolor\": \"#2a3f5f\"}, \"type\": \"carpet\"}], \"choropleth\": [{\"colorbar\": {\"outlinewidth\": 0, \"ticks\": \"\"}, \"type\": \"choropleth\"}], \"contour\": [{\"colorbar\": {\"outlinewidth\": 0, \"ticks\": \"\"}, \"colorscale\": [[0.0, \"#0d0887\"], [0.1111111111111111, \"#46039f\"], [0.2222222222222222, \"#7201a8\"], [0.3333333333333333, \"#9c179e\"], [0.4444444444444444, \"#bd3786\"], [0.5555555555555556, \"#d8576b\"], [0.6666666666666666, \"#ed7953\"], [0.7777777777777778, \"#fb9f3a\"], [0.8888888888888888, \"#fdca26\"], [1.0, \"#f0f921\"]], \"type\": \"contour\"}], \"contourcarpet\": [{\"colorbar\": {\"outlinewidth\": 0, \"ticks\": \"\"}, \"type\": \"contourcarpet\"}], \"heatmap\": [{\"colorbar\": {\"outlinewidth\": 0, \"ticks\": \"\"}, \"colorscale\": [[0.0, \"#0d0887\"], [0.1111111111111111, \"#46039f\"], [0.2222222222222222, \"#7201a8\"], [0.3333333333333333, \"#9c179e\"], [0.4444444444444444, \"#bd3786\"], [0.5555555555555556, \"#d8576b\"], [0.6666666666666666, \"#ed7953\"], [0.7777777777777778, \"#fb9f3a\"], [0.8888888888888888, \"#fdca26\"], [1.0, \"#f0f921\"]], \"type\": \"heatmap\"}], \"heatmapgl\": [{\"colorbar\": {\"outlinewidth\": 0, \"ticks\": \"\"}, \"colorscale\": [[0.0, \"#0d0887\"], [0.1111111111111111, \"#46039f\"], [0.2222222222222222, \"#7201a8\"], [0.3333333333333333, \"#9c179e\"], [0.4444444444444444, \"#bd3786\"], [0.5555555555555556, \"#d8576b\"], [0.6666666666666666, \"#ed7953\"], [0.7777777777777778, \"#fb9f3a\"], [0.8888888888888888, \"#fdca26\"], [1.0, \"#f0f921\"]], \"type\": \"heatmapgl\"}], \"histogram\": [{\"marker\": {\"colorbar\": {\"outlinewidth\": 0, \"ticks\": \"\"}}, \"type\": \"histogram\"}], \"histogram2d\": [{\"colorbar\": {\"outlinewidth\": 0, \"ticks\": \"\"}, \"colorscale\": [[0.0, \"#0d0887\"], [0.1111111111111111, \"#46039f\"], [0.2222222222222222, \"#7201a8\"], [0.3333333333333333, \"#9c179e\"], [0.4444444444444444, \"#bd3786\"], [0.5555555555555556, \"#d8576b\"], [0.6666666666666666, \"#ed7953\"], [0.7777777777777778, \"#fb9f3a\"], [0.8888888888888888, \"#fdca26\"], [1.0, \"#f0f921\"]], \"type\": \"histogram2d\"}], \"histogram2dcontour\": [{\"colorbar\": {\"outlinewidth\": 0, \"ticks\": \"\"}, \"colorscale\": [[0.0, \"#0d0887\"], [0.1111111111111111, \"#46039f\"], [0.2222222222222222, \"#7201a8\"], [0.3333333333333333, \"#9c179e\"], [0.4444444444444444, \"#bd3786\"], [0.5555555555555556, \"#d8576b\"], [0.6666666666666666, \"#ed7953\"], [0.7777777777777778, \"#fb9f3a\"], [0.8888888888888888, \"#fdca26\"], [1.0, \"#f0f921\"]], \"type\": \"histogram2dcontour\"}], \"mesh3d\": [{\"colorbar\": {\"outlinewidth\": 0, \"ticks\": \"\"}, \"type\": \"mesh3d\"}], \"parcoords\": [{\"line\": {\"colorbar\": {\"outlinewidth\": 0, \"ticks\": \"\"}}, \"type\": \"parcoords\"}], \"pie\": [{\"automargin\": true, \"type\": \"pie\"}], \"scatter\": [{\"marker\": {\"colorbar\": {\"outlinewidth\": 0, \"ticks\": \"\"}}, \"type\": \"scatter\"}], \"scatter3d\": [{\"line\": {\"colorbar\": {\"outlinewidth\": 0, \"ticks\": \"\"}}, \"marker\": {\"colorbar\": {\"outlinewidth\": 0, \"ticks\": \"\"}}, \"type\": \"scatter3d\"}], \"scattercarpet\": [{\"marker\": {\"colorbar\": {\"outlinewidth\": 0, \"ticks\": \"\"}}, \"type\": \"scattercarpet\"}], \"scattergeo\": [{\"marker\": {\"colorbar\": {\"outlinewidth\": 0, \"ticks\": \"\"}}, \"type\": \"scattergeo\"}], \"scattergl\": [{\"marker\": {\"colorbar\": {\"outlinewidth\": 0, \"ticks\": \"\"}}, \"type\": \"scattergl\"}], \"scattermapbox\": [{\"marker\": {\"colorbar\": {\"outlinewidth\": 0, \"ticks\": \"\"}}, \"type\": \"scattermapbox\"}], \"scatterpolar\": [{\"marker\": {\"colorbar\": {\"outlinewidth\": 0, \"ticks\": \"\"}}, \"type\": \"scatterpolar\"}], \"scatterpolargl\": [{\"marker\": {\"colorbar\": {\"outlinewidth\": 0, \"ticks\": \"\"}}, \"type\": \"scatterpolargl\"}], \"scatterternary\": [{\"marker\": {\"colorbar\": {\"outlinewidth\": 0, \"ticks\": \"\"}}, \"type\": \"scatterternary\"}], \"surface\": [{\"colorbar\": {\"outlinewidth\": 0, \"ticks\": \"\"}, \"colorscale\": [[0.0, \"#0d0887\"], [0.1111111111111111, \"#46039f\"], [0.2222222222222222, \"#7201a8\"], [0.3333333333333333, \"#9c179e\"], [0.4444444444444444, \"#bd3786\"], [0.5555555555555556, \"#d8576b\"], [0.6666666666666666, \"#ed7953\"], [0.7777777777777778, \"#fb9f3a\"], [0.8888888888888888, \"#fdca26\"], [1.0, \"#f0f921\"]], \"type\": \"surface\"}], \"table\": [{\"cells\": {\"fill\": {\"color\": \"#EBF0F8\"}, \"line\": {\"color\": \"white\"}}, \"header\": {\"fill\": {\"color\": \"#C8D4E3\"}, \"line\": {\"color\": \"white\"}}, \"type\": \"table\"}]}, \"layout\": {\"annotationdefaults\": {\"arrowcolor\": \"#2a3f5f\", \"arrowhead\": 0, \"arrowwidth\": 1}, \"autotypenumbers\": \"strict\", \"coloraxis\": {\"colorbar\": {\"outlinewidth\": 0, \"ticks\": \"\"}}, \"colorscale\": {\"diverging\": [[0, \"#8e0152\"], [0.1, \"#c51b7d\"], [0.2, \"#de77ae\"], [0.3, \"#f1b6da\"], [0.4, \"#fde0ef\"], [0.5, \"#f7f7f7\"], [0.6, \"#e6f5d0\"], [0.7, \"#b8e186\"], [0.8, \"#7fbc41\"], [0.9, \"#4d9221\"], [1, \"#276419\"]], \"sequential\": [[0.0, \"#0d0887\"], [0.1111111111111111, \"#46039f\"], [0.2222222222222222, \"#7201a8\"], [0.3333333333333333, \"#9c179e\"], [0.4444444444444444, \"#bd3786\"], [0.5555555555555556, \"#d8576b\"], [0.6666666666666666, \"#ed7953\"], [0.7777777777777778, \"#fb9f3a\"], [0.8888888888888888, \"#fdca26\"], [1.0, \"#f0f921\"]], \"sequentialminus\": [[0.0, \"#0d0887\"], [0.1111111111111111, \"#46039f\"], [0.2222222222222222, \"#7201a8\"], [0.3333333333333333, \"#9c179e\"], [0.4444444444444444, \"#bd3786\"], [0.5555555555555556, \"#d8576b\"], [0.6666666666666666, \"#ed7953\"], [0.7777777777777778, \"#fb9f3a\"], [0.8888888888888888, \"#fdca26\"], [1.0, \"#f0f921\"]]}, \"colorway\": [\"#636efa\", \"#EF553B\", \"#00cc96\", \"#ab63fa\", \"#FFA15A\", \"#19d3f3\", \"#FF6692\", \"#B6E880\", \"#FF97FF\", \"#FECB52\"], \"font\": {\"color\": \"#2a3f5f\"}, \"geo\": {\"bgcolor\": \"white\", \"lakecolor\": \"white\", \"landcolor\": \"#E5ECF6\", \"showlakes\": true, \"showland\": true, \"subunitcolor\": \"white\"}, \"hoverlabel\": {\"align\": \"left\"}, \"hovermode\": \"closest\", \"mapbox\": {\"style\": \"light\"}, \"paper_bgcolor\": \"white\", \"plot_bgcolor\": \"#E5ECF6\", \"polar\": {\"angularaxis\": {\"gridcolor\": \"white\", \"linecolor\": \"white\", \"ticks\": \"\"}, \"bgcolor\": \"#E5ECF6\", \"radialaxis\": {\"gridcolor\": \"white\", \"linecolor\": \"white\", \"ticks\": \"\"}}, \"scene\": {\"xaxis\": {\"backgroundcolor\": \"#E5ECF6\", \"gridcolor\": \"white\", \"gridwidth\": 2, \"linecolor\": \"white\", \"showbackground\": true, \"ticks\": \"\", \"zerolinecolor\": \"white\"}, \"yaxis\": {\"backgroundcolor\": \"#E5ECF6\", \"gridcolor\": \"white\", \"gridwidth\": 2, \"linecolor\": \"white\", \"showbackground\": true, \"ticks\": \"\", \"zerolinecolor\": \"white\"}, \"zaxis\": {\"backgroundcolor\": \"#E5ECF6\", \"gridcolor\": \"white\", \"gridwidth\": 2, \"linecolor\": \"white\", \"showbackground\": true, \"ticks\": \"\", \"zerolinecolor\": \"white\"}}, \"shapedefaults\": {\"line\": {\"color\": \"#2a3f5f\"}}, \"ternary\": {\"aaxis\": {\"gridcolor\": \"white\", \"linecolor\": \"white\", \"ticks\": \"\"}, \"baxis\": {\"gridcolor\": \"white\", \"linecolor\": \"white\", \"ticks\": \"\"}, \"bgcolor\": \"#E5ECF6\", \"caxis\": {\"gridcolor\": \"white\", \"linecolor\": \"white\", \"ticks\": \"\"}}, \"title\": {\"x\": 0.05}, \"xaxis\": {\"automargin\": true, \"gridcolor\": \"white\", \"linecolor\": \"white\", \"ticks\": \"\", \"title\": {\"standoff\": 15}, \"zerolinecolor\": \"white\", \"zerolinewidth\": 2}, \"yaxis\": {\"automargin\": true, \"gridcolor\": \"white\", \"linecolor\": \"white\", \"ticks\": \"\", \"title\": {\"standoff\": 15}, \"zerolinecolor\": \"white\", \"zerolinewidth\": 2}}}, \"title\": {\"font\": {\"color\": \"#4D5663\"}}, \"xaxis\": {\"gridcolor\": \"#E1E5ED\", \"showgrid\": true, \"tickfont\": {\"color\": \"#4D5663\"}, \"title\": {\"font\": {\"color\": \"#4D5663\"}, \"text\": \"\"}, \"zerolinecolor\": \"#E1E5ED\"}, \"yaxis\": {\"gridcolor\": \"#E1E5ED\", \"showgrid\": true, \"tickfont\": {\"color\": \"#4D5663\"}, \"title\": {\"font\": {\"color\": \"#4D5663\"}, \"text\": \"\"}, \"zerolinecolor\": \"#E1E5ED\"}},                        {\"showLink\": true, \"linkText\": \"Export to plot.ly\", \"plotlyServerURL\": \"https://plot.ly\", \"responsive\": true}                    ).then(function(){\n",
       "                            \n",
       "var gd = document.getElementById('915136be-996e-410d-a99c-9b1141443637');\n",
       "var x = new MutationObserver(function (mutations, observer) {{\n",
       "        var display = window.getComputedStyle(gd).display;\n",
       "        if (!display || display === 'none') {{\n",
       "            console.log([gd, 'removed!']);\n",
       "            Plotly.purge(gd);\n",
       "            observer.disconnect();\n",
       "        }}\n",
       "}});\n",
       "\n",
       "// Listen for the removal of the full notebook cells\n",
       "var notebookContainer = gd.closest('#notebook-container');\n",
       "if (notebookContainer) {{\n",
       "    x.observe(notebookContainer, {childList: true});\n",
       "}}\n",
       "\n",
       "// Listen for the clearing of the current output cell\n",
       "var outputEl = gd.closest('.output');\n",
       "if (outputEl) {{\n",
       "    x.observe(outputEl, {childList: true});\n",
       "}}\n",
       "\n",
       "                        })                };                });            </script>        </div>"
      ]
     },
     "metadata": {},
     "output_type": "display_data"
    }
   ],
   "source": [
    "df.count().iplot(kind=\"bar\")"
   ]
  },
  {
   "cell_type": "code",
   "execution_count": 15,
   "metadata": {},
   "outputs": [
    {
     "data": {
      "application/vnd.plotly.v1+json": {
       "config": {
        "linkText": "Export to plot.ly",
        "plotlyServerURL": "https://plot.ly",
        "showLink": true
       },
       "data": [
        {
         "boxpoints": false,
         "line": {
          "width": 1.3
         },
         "marker": {
          "color": "rgba(255, 153, 51, 1.0)"
         },
         "name": "A",
         "orientation": "v",
         "type": "box",
         "y": [
          -0.6915796259609344,
          -0.8872849879301269,
          0.7351331691915325,
          0.0187482624021014,
          -1.3817892822184494,
          1.6276935039887588,
          0.48741645957410107,
          0.7184343185820924,
          -1.9281264806682483,
          -0.8999233502422062,
          -1.7799183101839324,
          0.9008821566604649,
          0.20301832261981306,
          1.8060196231091028,
          -0.2913743722283807,
          -1.0028680571625874,
          -0.7799725268069628,
          -1.0115947811354846,
          1.6690294312418568,
          -1.0396907179959067,
          0.06871544329476185,
          -0.8842237666730386,
          1.224973208704979,
          0.4631385238986198,
          0.740878154820934,
          -0.5813038422552343,
          -0.9383979476151751,
          2.2143189803556362,
          -0.423551427103088,
          -0.42048634304971966,
          0.4524961287844688,
          -0.2849268456346176,
          0.20084633802688698,
          -1.179587520197634,
          -1.2171104780344941,
          1.31260455425112,
          0.07424119953542815,
          1.3428441779852547,
          -2.860036001452457,
          -0.2980548945617647,
          1.7031874742888558,
          0.4039403360775828,
          -0.4530643885339186,
          0.5166202508143846,
          2.5061604436079388,
          -0.22651256670052275,
          -0.4113509392005815,
          0.3844710304962001,
          0.7768993023151984,
          0.3919698813535365,
          -1.2483424611011424,
          0.5757471088717269,
          -0.9586586441077025,
          0.07349496376369483,
          0.4105909975316248,
          0.38694569353694597,
          -0.06808552922896927,
          -0.30962695184908284,
          -0.10858045854730711,
          1.144943808386343,
          -1.1158660861520617,
          -0.8072714792006194,
          -0.8200009118915258,
          0.2406666220789867,
          -0.427222957956366,
          1.772402559856502,
          -0.15284717195228584,
          0.15338364795477655,
          -0.7943165728504842,
          -1.4053685632042303,
          0.8582648769101241,
          -0.7422149276534388,
          -0.983609520312817,
          1.008138822924062,
          -2.812568541347789,
          -0.7667967963565699,
          1.4951803796842733,
          -0.17619436709084627,
          0.39350770109275585,
          0.8172413146696621,
          0.5130245863583023,
          -0.6357411104723741,
          0.1321533298737306,
          1.2371806367240268,
          0.36351975843928164,
          -0.22604926645818205,
          -0.6664127081099145,
          1.3696975147006802,
          0.5798010860119244,
          -0.592057266420742,
          -0.4007257037255129,
          0.0604157024958049,
          0.19956225440633601,
          -0.2386209677915759,
          -0.45382262875168244,
          -0.029871779297502257,
          -0.2860381306203588,
          0.4140082157874592,
          0.5257824581842769,
          -0.369657676375118
         ]
        },
        {
         "boxpoints": false,
         "line": {
          "width": 1.3
         },
         "marker": {
          "color": "rgba(55, 128, 191, 1.0)"
         },
         "name": "B",
         "orientation": "v",
         "type": "box",
         "y": [
          -0.4416109016685977,
          1.5651155798664615,
          -0.486386343433522,
          -2.199567556381776,
          -0.9142935082338941,
          0.06812640059682612,
          0.4776202682694769,
          1.0546625009640556,
          -0.6880548877398517,
          1.8209757828156723,
          1.5571718328009587,
          1.1589728923099107,
          1.163334643980302,
          -0.9964320957995271,
          0.5229700623178248,
          -0.5422628084138779,
          -0.267673267490769,
          -2.542024338097646,
          0.1892572429133559,
          0.9531814741576196,
          0.7493063574421213,
          0.5023472703547277,
          -0.6404279709338484,
          -0.09415765433918766,
          -0.8473289830681051,
          2.4475018491497593,
          -1.2457317162324226,
          -1.3811748213213695,
          0.20239230418083937,
          1.1660197139884207,
          0.4389106508835806,
          -1.5696964379987275,
          -2.1470786229066596,
          -1.2716195718711647,
          -0.32431857246238116,
          -0.48671087904318966,
          0.807176097279996,
          -0.4545226307330017,
          0.9692805152724048,
          -0.5399406974702767,
          -0.9112616777512544,
          -0.714636963502582,
          0.4401518992961405,
          1.2112389619411343,
          -0.36511562219575633,
          -0.823735935608685,
          0.6940529112251567,
          1.2488733228033813,
          -0.8614307813991519,
          2.347537155331469,
          -1.1135489104449754,
          -0.4266769291945704,
          -0.34983112284132795,
          -1.0800241937145774,
          -0.7310272741866767,
          0.6143328644742845,
          -0.24735519775421033,
          0.5218972511065154,
          0.18495767661158455,
          0.03356610062777415,
          -0.9264261222493289,
          -1.1715593013084677,
          1.3667087323756861,
          -0.07870407832879851,
          0.050980863247599886,
          -1.4353282576073432,
          -1.1057379385577595,
          -1.240759569480158,
          -1.435045518952723,
          0.2866146102228182,
          -0.4321199550320402,
          0.20803661832940504,
          -1.637427291219393,
          1.195797731567711,
          0.36417372075511256,
          0.06277847213280971,
          -0.35012964109245687,
          2.45863772791582,
          -0.21262565217949736,
          0.08746166141915754,
          0.11560547765517383,
          -1.75608505564241,
          0.29493286266375646,
          -0.8759852777508496,
          0.6355229301680484,
          -0.019587564842157068,
          -0.4184902249812962,
          0.279985822989887,
          1.0476231961393485,
          -1.4800776423230955,
          0.8336250259779167,
          1.1108395642941793,
          -3.550161594830222,
          -0.3630151021155685,
          -0.4319034238532681,
          1.2014795760785844,
          -0.7163833677385238,
          -0.9322561095076094,
          0.978279984551639,
          0.3454873088830252
         ]
        },
        {
         "boxpoints": false,
         "line": {
          "width": 1.3
         },
         "marker": {
          "color": "rgba(50, 171, 96, 1.0)"
         },
         "name": "C",
         "orientation": "v",
         "type": "box",
         "y": [
          0.4522545879584659,
          -0.3098883532541913,
          -0.8685915805795065,
          1.2496515690698484,
          -1.7513335542533628,
          -2.0362585016739296,
          -1.3040385922257955,
          -0.5093871032378738,
          -0.913353838111688,
          0.8971050990564488,
          -1.485156501773989,
          -2.0316025172206866,
          -2.218068863798064,
          -0.2472925822811598,
          -0.8902405104136178,
          -0.11429329601199983,
          0.6742287539695303,
          -0.36252696301872683,
          1.5304273493611418,
          0.6444135294669895,
          0.09974417339352815,
          0.19658634501512137,
          1.287392439384835,
          -1.0480474195184937,
          1.0909907861818477,
          -1.2317793804201551,
          -0.12566975721461193,
          1.2909130254442163,
          0.6599109766293723,
          -2.0140894429621694,
          -0.15294953091052038,
          -0.021635097566481014,
          0.8796304546424791,
          -0.6792603957867522,
          0.2945752209531674,
          1.1297471141016806,
          -0.11676254871991425,
          2.347583941514725,
          -1.5781924447410682,
          0.27579871510013204,
          -1.2933996036086985,
          -1.912483689589599,
          -1.0504313141077672,
          -0.20830844283929625,
          0.18513803501323942,
          -0.996047459104622,
          0.08905933592094152,
          -0.1405226541897708,
          0.9943259225215723,
          0.8115351024740861,
          0.35082757968197054,
          0.34746321091398474,
          0.8339728671159397,
          -0.13572412190405891,
          1.215372964946147,
          0.6899434067824541,
          0.251646583188885,
          0.5118398641384256,
          0.28326596553543903,
          2.545421016579426,
          0.5075132599579651,
          0.5087398917009316,
          1.1670523429606985,
          0.2027812050913676,
          -1.074098935456282,
          0.4655297640930342,
          -1.2135089455240367,
          -0.16525202676395842,
          -0.07768556384782098,
          -0.20235544552513945,
          -0.08800485992119174,
          -0.736560482304127,
          0.5474920051755428,
          0.462190481078619,
          -1.8287944197919235,
          -2.136122074828795,
          0.31467548751679214,
          1.569565126547533,
          -0.16294217349948453,
          0.5809867335685517,
          0.056210066261843286,
          -0.5788194006182091,
          -1.4668693903168615,
          0.7265379204783153,
          0.6870289394605951,
          0.3937539131814704,
          -0.9803956898112073,
          -0.8146279825557912,
          0.37984854878028845,
          0.5410058249236476,
          1.7521938557230308,
          -1.0563009039764553,
          -1.9952453346270143,
          -1.8123894331771992,
          0.37598564650114286,
          1.8090871596555738,
          -0.08155816086073539,
          -0.6581872710293829,
          1.2217916891499028,
          -0.45890083340443405
         ]
        },
        {
         "boxpoints": false,
         "line": {
          "width": 1.3
         },
         "marker": {
          "color": "rgba(128, 0, 128, 1.0)"
         },
         "name": "D",
         "orientation": "v",
         "type": "box",
         "y": [
          -1.0306605709096543,
          -0.1752621732294562,
          -1.3928220006840555,
          -0.4001829936276594,
          0.8024891201013005,
          1.048463155119017,
          0.6775298289407882,
          -1.783840862574793,
          -0.5490506553033939,
          -2.756564892179787,
          0.4947119292473199,
          -1.3374450687095152,
          -1.2918993015358484,
          -0.6533893666818588,
          0.7805657099556595,
          0.26681780728876525,
          -1.7798873417359986,
          0.6723886339722739,
          0.8177184687575915,
          -1.9215280829952912,
          0.3321842699996094,
          1.3301377990939902,
          -0.5457930337240582,
          -1.3837534482925964,
          0.8645492110167224,
          -1.0054946576727923,
          0.2818559611625251,
          0.0035772240944569353,
          1.2229729665859856,
          -1.192623136181325,
          -0.5985598740067203,
          0.5220081460583174,
          0.7172735500222303,
          -2.9155070054398267,
          0.2145744600583689,
          0.4338744489865867,
          -1.4233566395261539,
          -1.7415104733859441,
          -0.5234253418551685,
          -2.399537842193371,
          0.14386601618288897,
          -0.00401638591076631,
          -0.6354545083109396,
          -1.8517092368774808,
          -0.44969971698053335,
          -0.1574671947169798,
          -1.4292170644825395,
          -1.2139998545048707,
          -1.1173414632202152,
          1.438716717538454,
          -1.2552216131544838,
          -0.7447038580280433,
          -0.399436232497645,
          0.9507205946727983,
          -0.08470741143090028,
          0.18803028316262008,
          -0.2582382390610199,
          1.0059991413484877,
          -1.8900520208225555,
          -0.16156819110984721,
          0.8814104867337247,
          -0.21258656399161507,
          1.4110848550461996,
          0.9817766994274616,
          -0.24708653757544896,
          -0.4037757668502509,
          -0.3257817752332432,
          0.3840584491590996,
          -0.6666543463508315,
          -1.3511182297814253,
          -1.372946329912293,
          -0.4931193577594537,
          0.9473803349008856,
          0.5438693985374551,
          1.6913999794747723,
          -0.9956203708574634,
          -0.4098564636956649,
          0.39531073326868843,
          -0.24968403067732653,
          -0.14551797080403323,
          0.3982815575902771,
          -1.1718833576081524,
          -1.0814038546124822,
          -0.8345188061678622,
          -1.6567678718728382,
          -1.3020504259299415,
          1.1438735246629153,
          0.6084456630495041,
          0.4266279077187081,
          0.8680359185399901,
          0.8075987924364346,
          0.3681502183985649,
          -0.1180412052735829,
          1.4356462801667715,
          -0.45425706018736056,
          -1.5954564021703606,
          0.21561546927263744,
          0.8860055832666353,
          0.19574625415171115,
          -0.17862959435754738
         ]
        }
       ],
       "layout": {
        "legend": {
         "bgcolor": "#F5F6F9",
         "font": {
          "color": "#4D5663"
         }
        },
        "paper_bgcolor": "#F5F6F9",
        "plot_bgcolor": "#F5F6F9",
        "template": {
         "data": {
          "bar": [
           {
            "error_x": {
             "color": "#2a3f5f"
            },
            "error_y": {
             "color": "#2a3f5f"
            },
            "marker": {
             "line": {
              "color": "#E5ECF6",
              "width": 0.5
             }
            },
            "type": "bar"
           }
          ],
          "barpolar": [
           {
            "marker": {
             "line": {
              "color": "#E5ECF6",
              "width": 0.5
             }
            },
            "type": "barpolar"
           }
          ],
          "carpet": [
           {
            "aaxis": {
             "endlinecolor": "#2a3f5f",
             "gridcolor": "white",
             "linecolor": "white",
             "minorgridcolor": "white",
             "startlinecolor": "#2a3f5f"
            },
            "baxis": {
             "endlinecolor": "#2a3f5f",
             "gridcolor": "white",
             "linecolor": "white",
             "minorgridcolor": "white",
             "startlinecolor": "#2a3f5f"
            },
            "type": "carpet"
           }
          ],
          "choropleth": [
           {
            "colorbar": {
             "outlinewidth": 0,
             "ticks": ""
            },
            "type": "choropleth"
           }
          ],
          "contour": [
           {
            "colorbar": {
             "outlinewidth": 0,
             "ticks": ""
            },
            "colorscale": [
             [
              0,
              "#0d0887"
             ],
             [
              0.1111111111111111,
              "#46039f"
             ],
             [
              0.2222222222222222,
              "#7201a8"
             ],
             [
              0.3333333333333333,
              "#9c179e"
             ],
             [
              0.4444444444444444,
              "#bd3786"
             ],
             [
              0.5555555555555556,
              "#d8576b"
             ],
             [
              0.6666666666666666,
              "#ed7953"
             ],
             [
              0.7777777777777778,
              "#fb9f3a"
             ],
             [
              0.8888888888888888,
              "#fdca26"
             ],
             [
              1,
              "#f0f921"
             ]
            ],
            "type": "contour"
           }
          ],
          "contourcarpet": [
           {
            "colorbar": {
             "outlinewidth": 0,
             "ticks": ""
            },
            "type": "contourcarpet"
           }
          ],
          "heatmap": [
           {
            "colorbar": {
             "outlinewidth": 0,
             "ticks": ""
            },
            "colorscale": [
             [
              0,
              "#0d0887"
             ],
             [
              0.1111111111111111,
              "#46039f"
             ],
             [
              0.2222222222222222,
              "#7201a8"
             ],
             [
              0.3333333333333333,
              "#9c179e"
             ],
             [
              0.4444444444444444,
              "#bd3786"
             ],
             [
              0.5555555555555556,
              "#d8576b"
             ],
             [
              0.6666666666666666,
              "#ed7953"
             ],
             [
              0.7777777777777778,
              "#fb9f3a"
             ],
             [
              0.8888888888888888,
              "#fdca26"
             ],
             [
              1,
              "#f0f921"
             ]
            ],
            "type": "heatmap"
           }
          ],
          "heatmapgl": [
           {
            "colorbar": {
             "outlinewidth": 0,
             "ticks": ""
            },
            "colorscale": [
             [
              0,
              "#0d0887"
             ],
             [
              0.1111111111111111,
              "#46039f"
             ],
             [
              0.2222222222222222,
              "#7201a8"
             ],
             [
              0.3333333333333333,
              "#9c179e"
             ],
             [
              0.4444444444444444,
              "#bd3786"
             ],
             [
              0.5555555555555556,
              "#d8576b"
             ],
             [
              0.6666666666666666,
              "#ed7953"
             ],
             [
              0.7777777777777778,
              "#fb9f3a"
             ],
             [
              0.8888888888888888,
              "#fdca26"
             ],
             [
              1,
              "#f0f921"
             ]
            ],
            "type": "heatmapgl"
           }
          ],
          "histogram": [
           {
            "marker": {
             "colorbar": {
              "outlinewidth": 0,
              "ticks": ""
             }
            },
            "type": "histogram"
           }
          ],
          "histogram2d": [
           {
            "colorbar": {
             "outlinewidth": 0,
             "ticks": ""
            },
            "colorscale": [
             [
              0,
              "#0d0887"
             ],
             [
              0.1111111111111111,
              "#46039f"
             ],
             [
              0.2222222222222222,
              "#7201a8"
             ],
             [
              0.3333333333333333,
              "#9c179e"
             ],
             [
              0.4444444444444444,
              "#bd3786"
             ],
             [
              0.5555555555555556,
              "#d8576b"
             ],
             [
              0.6666666666666666,
              "#ed7953"
             ],
             [
              0.7777777777777778,
              "#fb9f3a"
             ],
             [
              0.8888888888888888,
              "#fdca26"
             ],
             [
              1,
              "#f0f921"
             ]
            ],
            "type": "histogram2d"
           }
          ],
          "histogram2dcontour": [
           {
            "colorbar": {
             "outlinewidth": 0,
             "ticks": ""
            },
            "colorscale": [
             [
              0,
              "#0d0887"
             ],
             [
              0.1111111111111111,
              "#46039f"
             ],
             [
              0.2222222222222222,
              "#7201a8"
             ],
             [
              0.3333333333333333,
              "#9c179e"
             ],
             [
              0.4444444444444444,
              "#bd3786"
             ],
             [
              0.5555555555555556,
              "#d8576b"
             ],
             [
              0.6666666666666666,
              "#ed7953"
             ],
             [
              0.7777777777777778,
              "#fb9f3a"
             ],
             [
              0.8888888888888888,
              "#fdca26"
             ],
             [
              1,
              "#f0f921"
             ]
            ],
            "type": "histogram2dcontour"
           }
          ],
          "mesh3d": [
           {
            "colorbar": {
             "outlinewidth": 0,
             "ticks": ""
            },
            "type": "mesh3d"
           }
          ],
          "parcoords": [
           {
            "line": {
             "colorbar": {
              "outlinewidth": 0,
              "ticks": ""
             }
            },
            "type": "parcoords"
           }
          ],
          "pie": [
           {
            "automargin": true,
            "type": "pie"
           }
          ],
          "scatter": [
           {
            "marker": {
             "colorbar": {
              "outlinewidth": 0,
              "ticks": ""
             }
            },
            "type": "scatter"
           }
          ],
          "scatter3d": [
           {
            "line": {
             "colorbar": {
              "outlinewidth": 0,
              "ticks": ""
             }
            },
            "marker": {
             "colorbar": {
              "outlinewidth": 0,
              "ticks": ""
             }
            },
            "type": "scatter3d"
           }
          ],
          "scattercarpet": [
           {
            "marker": {
             "colorbar": {
              "outlinewidth": 0,
              "ticks": ""
             }
            },
            "type": "scattercarpet"
           }
          ],
          "scattergeo": [
           {
            "marker": {
             "colorbar": {
              "outlinewidth": 0,
              "ticks": ""
             }
            },
            "type": "scattergeo"
           }
          ],
          "scattergl": [
           {
            "marker": {
             "colorbar": {
              "outlinewidth": 0,
              "ticks": ""
             }
            },
            "type": "scattergl"
           }
          ],
          "scattermapbox": [
           {
            "marker": {
             "colorbar": {
              "outlinewidth": 0,
              "ticks": ""
             }
            },
            "type": "scattermapbox"
           }
          ],
          "scatterpolar": [
           {
            "marker": {
             "colorbar": {
              "outlinewidth": 0,
              "ticks": ""
             }
            },
            "type": "scatterpolar"
           }
          ],
          "scatterpolargl": [
           {
            "marker": {
             "colorbar": {
              "outlinewidth": 0,
              "ticks": ""
             }
            },
            "type": "scatterpolargl"
           }
          ],
          "scatterternary": [
           {
            "marker": {
             "colorbar": {
              "outlinewidth": 0,
              "ticks": ""
             }
            },
            "type": "scatterternary"
           }
          ],
          "surface": [
           {
            "colorbar": {
             "outlinewidth": 0,
             "ticks": ""
            },
            "colorscale": [
             [
              0,
              "#0d0887"
             ],
             [
              0.1111111111111111,
              "#46039f"
             ],
             [
              0.2222222222222222,
              "#7201a8"
             ],
             [
              0.3333333333333333,
              "#9c179e"
             ],
             [
              0.4444444444444444,
              "#bd3786"
             ],
             [
              0.5555555555555556,
              "#d8576b"
             ],
             [
              0.6666666666666666,
              "#ed7953"
             ],
             [
              0.7777777777777778,
              "#fb9f3a"
             ],
             [
              0.8888888888888888,
              "#fdca26"
             ],
             [
              1,
              "#f0f921"
             ]
            ],
            "type": "surface"
           }
          ],
          "table": [
           {
            "cells": {
             "fill": {
              "color": "#EBF0F8"
             },
             "line": {
              "color": "white"
             }
            },
            "header": {
             "fill": {
              "color": "#C8D4E3"
             },
             "line": {
              "color": "white"
             }
            },
            "type": "table"
           }
          ]
         },
         "layout": {
          "annotationdefaults": {
           "arrowcolor": "#2a3f5f",
           "arrowhead": 0,
           "arrowwidth": 1
          },
          "autotypenumbers": "strict",
          "coloraxis": {
           "colorbar": {
            "outlinewidth": 0,
            "ticks": ""
           }
          },
          "colorscale": {
           "diverging": [
            [
             0,
             "#8e0152"
            ],
            [
             0.1,
             "#c51b7d"
            ],
            [
             0.2,
             "#de77ae"
            ],
            [
             0.3,
             "#f1b6da"
            ],
            [
             0.4,
             "#fde0ef"
            ],
            [
             0.5,
             "#f7f7f7"
            ],
            [
             0.6,
             "#e6f5d0"
            ],
            [
             0.7,
             "#b8e186"
            ],
            [
             0.8,
             "#7fbc41"
            ],
            [
             0.9,
             "#4d9221"
            ],
            [
             1,
             "#276419"
            ]
           ],
           "sequential": [
            [
             0,
             "#0d0887"
            ],
            [
             0.1111111111111111,
             "#46039f"
            ],
            [
             0.2222222222222222,
             "#7201a8"
            ],
            [
             0.3333333333333333,
             "#9c179e"
            ],
            [
             0.4444444444444444,
             "#bd3786"
            ],
            [
             0.5555555555555556,
             "#d8576b"
            ],
            [
             0.6666666666666666,
             "#ed7953"
            ],
            [
             0.7777777777777778,
             "#fb9f3a"
            ],
            [
             0.8888888888888888,
             "#fdca26"
            ],
            [
             1,
             "#f0f921"
            ]
           ],
           "sequentialminus": [
            [
             0,
             "#0d0887"
            ],
            [
             0.1111111111111111,
             "#46039f"
            ],
            [
             0.2222222222222222,
             "#7201a8"
            ],
            [
             0.3333333333333333,
             "#9c179e"
            ],
            [
             0.4444444444444444,
             "#bd3786"
            ],
            [
             0.5555555555555556,
             "#d8576b"
            ],
            [
             0.6666666666666666,
             "#ed7953"
            ],
            [
             0.7777777777777778,
             "#fb9f3a"
            ],
            [
             0.8888888888888888,
             "#fdca26"
            ],
            [
             1,
             "#f0f921"
            ]
           ]
          },
          "colorway": [
           "#636efa",
           "#EF553B",
           "#00cc96",
           "#ab63fa",
           "#FFA15A",
           "#19d3f3",
           "#FF6692",
           "#B6E880",
           "#FF97FF",
           "#FECB52"
          ],
          "font": {
           "color": "#2a3f5f"
          },
          "geo": {
           "bgcolor": "white",
           "lakecolor": "white",
           "landcolor": "#E5ECF6",
           "showlakes": true,
           "showland": true,
           "subunitcolor": "white"
          },
          "hoverlabel": {
           "align": "left"
          },
          "hovermode": "closest",
          "mapbox": {
           "style": "light"
          },
          "paper_bgcolor": "white",
          "plot_bgcolor": "#E5ECF6",
          "polar": {
           "angularaxis": {
            "gridcolor": "white",
            "linecolor": "white",
            "ticks": ""
           },
           "bgcolor": "#E5ECF6",
           "radialaxis": {
            "gridcolor": "white",
            "linecolor": "white",
            "ticks": ""
           }
          },
          "scene": {
           "xaxis": {
            "backgroundcolor": "#E5ECF6",
            "gridcolor": "white",
            "gridwidth": 2,
            "linecolor": "white",
            "showbackground": true,
            "ticks": "",
            "zerolinecolor": "white"
           },
           "yaxis": {
            "backgroundcolor": "#E5ECF6",
            "gridcolor": "white",
            "gridwidth": 2,
            "linecolor": "white",
            "showbackground": true,
            "ticks": "",
            "zerolinecolor": "white"
           },
           "zaxis": {
            "backgroundcolor": "#E5ECF6",
            "gridcolor": "white",
            "gridwidth": 2,
            "linecolor": "white",
            "showbackground": true,
            "ticks": "",
            "zerolinecolor": "white"
           }
          },
          "shapedefaults": {
           "line": {
            "color": "#2a3f5f"
           }
          },
          "ternary": {
           "aaxis": {
            "gridcolor": "white",
            "linecolor": "white",
            "ticks": ""
           },
           "baxis": {
            "gridcolor": "white",
            "linecolor": "white",
            "ticks": ""
           },
           "bgcolor": "#E5ECF6",
           "caxis": {
            "gridcolor": "white",
            "linecolor": "white",
            "ticks": ""
           }
          },
          "title": {
           "x": 0.05
          },
          "xaxis": {
           "automargin": true,
           "gridcolor": "white",
           "linecolor": "white",
           "ticks": "",
           "title": {
            "standoff": 15
           },
           "zerolinecolor": "white",
           "zerolinewidth": 2
          },
          "yaxis": {
           "automargin": true,
           "gridcolor": "white",
           "linecolor": "white",
           "ticks": "",
           "title": {
            "standoff": 15
           },
           "zerolinecolor": "white",
           "zerolinewidth": 2
          }
         }
        },
        "title": {
         "font": {
          "color": "#4D5663"
         }
        },
        "xaxis": {
         "gridcolor": "#E1E5ED",
         "showgrid": true,
         "tickfont": {
          "color": "#4D5663"
         },
         "title": {
          "font": {
           "color": "#4D5663"
          },
          "text": ""
         },
         "zerolinecolor": "#E1E5ED"
        },
        "yaxis": {
         "gridcolor": "#E1E5ED",
         "showgrid": true,
         "tickfont": {
          "color": "#4D5663"
         },
         "title": {
          "font": {
           "color": "#4D5663"
          },
          "text": ""
         },
         "zerolinecolor": "#E1E5ED"
        }
       }
      },
      "text/html": [
       "<div>                            <div id=\"bef361c9-3bf0-4ca2-9e20-ef4fa7e97aaf\" class=\"plotly-graph-div\" style=\"height:525px; width:100%;\"></div>            <script type=\"text/javascript\">                require([\"plotly\"], function(Plotly) {                    window.PLOTLYENV=window.PLOTLYENV || {};\n",
       "                    window.PLOTLYENV.BASE_URL='https://plot.ly';                                    if (document.getElementById(\"bef361c9-3bf0-4ca2-9e20-ef4fa7e97aaf\")) {                    Plotly.newPlot(                        \"bef361c9-3bf0-4ca2-9e20-ef4fa7e97aaf\",                        [{\"boxpoints\": false, \"line\": {\"width\": 1.3}, \"marker\": {\"color\": \"rgba(255, 153, 51, 1.0)\"}, \"name\": \"A\", \"orientation\": \"v\", \"type\": \"box\", \"y\": [-0.6915796259609344, -0.8872849879301269, 0.7351331691915325, 0.0187482624021014, -1.3817892822184494, 1.6276935039887588, 0.48741645957410107, 0.7184343185820924, -1.9281264806682483, -0.8999233502422062, -1.7799183101839324, 0.9008821566604649, 0.20301832261981306, 1.8060196231091028, -0.2913743722283807, -1.0028680571625874, -0.7799725268069628, -1.0115947811354846, 1.6690294312418568, -1.0396907179959067, 0.06871544329476185, -0.8842237666730386, 1.224973208704979, 0.4631385238986198, 0.740878154820934, -0.5813038422552343, -0.9383979476151751, 2.2143189803556362, -0.423551427103088, -0.42048634304971966, 0.4524961287844688, -0.2849268456346176, 0.20084633802688698, -1.179587520197634, -1.2171104780344941, 1.31260455425112, 0.07424119953542815, 1.3428441779852547, -2.860036001452457, -0.2980548945617647, 1.7031874742888558, 0.4039403360775828, -0.4530643885339186, 0.5166202508143846, 2.5061604436079388, -0.22651256670052275, -0.4113509392005815, 0.3844710304962001, 0.7768993023151984, 0.3919698813535365, -1.2483424611011424, 0.5757471088717269, -0.9586586441077025, 0.07349496376369483, 0.4105909975316248, 0.38694569353694597, -0.06808552922896927, -0.30962695184908284, -0.10858045854730711, 1.144943808386343, -1.1158660861520617, -0.8072714792006194, -0.8200009118915258, 0.2406666220789867, -0.427222957956366, 1.772402559856502, -0.15284717195228584, 0.15338364795477655, -0.7943165728504842, -1.4053685632042303, 0.8582648769101241, -0.7422149276534388, -0.983609520312817, 1.008138822924062, -2.812568541347789, -0.7667967963565699, 1.4951803796842733, -0.17619436709084627, 0.39350770109275585, 0.8172413146696621, 0.5130245863583023, -0.6357411104723741, 0.1321533298737306, 1.2371806367240268, 0.36351975843928164, -0.22604926645818205, -0.6664127081099145, 1.3696975147006802, 0.5798010860119244, -0.592057266420742, -0.4007257037255129, 0.0604157024958049, 0.19956225440633601, -0.2386209677915759, -0.45382262875168244, -0.029871779297502257, -0.2860381306203588, 0.4140082157874592, 0.5257824581842769, -0.369657676375118]}, {\"boxpoints\": false, \"line\": {\"width\": 1.3}, \"marker\": {\"color\": \"rgba(55, 128, 191, 1.0)\"}, \"name\": \"B\", \"orientation\": \"v\", \"type\": \"box\", \"y\": [-0.4416109016685977, 1.5651155798664615, -0.486386343433522, -2.199567556381776, -0.9142935082338941, 0.06812640059682612, 0.4776202682694769, 1.0546625009640556, -0.6880548877398517, 1.8209757828156723, 1.5571718328009587, 1.1589728923099107, 1.163334643980302, -0.9964320957995271, 0.5229700623178248, -0.5422628084138779, -0.267673267490769, -2.542024338097646, 0.1892572429133559, 0.9531814741576196, 0.7493063574421213, 0.5023472703547277, -0.6404279709338484, -0.09415765433918766, -0.8473289830681051, 2.4475018491497593, -1.2457317162324226, -1.3811748213213695, 0.20239230418083937, 1.1660197139884207, 0.4389106508835806, -1.5696964379987275, -2.1470786229066596, -1.2716195718711647, -0.32431857246238116, -0.48671087904318966, 0.807176097279996, -0.4545226307330017, 0.9692805152724048, -0.5399406974702767, -0.9112616777512544, -0.714636963502582, 0.4401518992961405, 1.2112389619411343, -0.36511562219575633, -0.823735935608685, 0.6940529112251567, 1.2488733228033813, -0.8614307813991519, 2.347537155331469, -1.1135489104449754, -0.4266769291945704, -0.34983112284132795, -1.0800241937145774, -0.7310272741866767, 0.6143328644742845, -0.24735519775421033, 0.5218972511065154, 0.18495767661158455, 0.03356610062777415, -0.9264261222493289, -1.1715593013084677, 1.3667087323756861, -0.07870407832879851, 0.050980863247599886, -1.4353282576073432, -1.1057379385577595, -1.240759569480158, -1.435045518952723, 0.2866146102228182, -0.4321199550320402, 0.20803661832940504, -1.637427291219393, 1.195797731567711, 0.36417372075511256, 0.06277847213280971, -0.35012964109245687, 2.45863772791582, -0.21262565217949736, 0.08746166141915754, 0.11560547765517383, -1.75608505564241, 0.29493286266375646, -0.8759852777508496, 0.6355229301680484, -0.019587564842157068, -0.4184902249812962, 0.279985822989887, 1.0476231961393485, -1.4800776423230955, 0.8336250259779167, 1.1108395642941793, -3.550161594830222, -0.3630151021155685, -0.4319034238532681, 1.2014795760785844, -0.7163833677385238, -0.9322561095076094, 0.978279984551639, 0.3454873088830252]}, {\"boxpoints\": false, \"line\": {\"width\": 1.3}, \"marker\": {\"color\": \"rgba(50, 171, 96, 1.0)\"}, \"name\": \"C\", \"orientation\": \"v\", \"type\": \"box\", \"y\": [0.4522545879584659, -0.3098883532541913, -0.8685915805795065, 1.2496515690698484, -1.7513335542533628, -2.0362585016739296, -1.3040385922257955, -0.5093871032378738, -0.913353838111688, 0.8971050990564488, -1.485156501773989, -2.0316025172206866, -2.218068863798064, -0.2472925822811598, -0.8902405104136178, -0.11429329601199983, 0.6742287539695303, -0.36252696301872683, 1.5304273493611418, 0.6444135294669895, 0.09974417339352815, 0.19658634501512137, 1.287392439384835, -1.0480474195184937, 1.0909907861818477, -1.2317793804201551, -0.12566975721461193, 1.2909130254442163, 0.6599109766293723, -2.0140894429621694, -0.15294953091052038, -0.021635097566481014, 0.8796304546424791, -0.6792603957867522, 0.2945752209531674, 1.1297471141016806, -0.11676254871991425, 2.347583941514725, -1.5781924447410682, 0.27579871510013204, -1.2933996036086985, -1.912483689589599, -1.0504313141077672, -0.20830844283929625, 0.18513803501323942, -0.996047459104622, 0.08905933592094152, -0.1405226541897708, 0.9943259225215723, 0.8115351024740861, 0.35082757968197054, 0.34746321091398474, 0.8339728671159397, -0.13572412190405891, 1.215372964946147, 0.6899434067824541, 0.251646583188885, 0.5118398641384256, 0.28326596553543903, 2.545421016579426, 0.5075132599579651, 0.5087398917009316, 1.1670523429606985, 0.2027812050913676, -1.074098935456282, 0.4655297640930342, -1.2135089455240367, -0.16525202676395842, -0.07768556384782098, -0.20235544552513945, -0.08800485992119174, -0.736560482304127, 0.5474920051755428, 0.462190481078619, -1.8287944197919235, -2.136122074828795, 0.31467548751679214, 1.569565126547533, -0.16294217349948453, 0.5809867335685517, 0.056210066261843286, -0.5788194006182091, -1.4668693903168615, 0.7265379204783153, 0.6870289394605951, 0.3937539131814704, -0.9803956898112073, -0.8146279825557912, 0.37984854878028845, 0.5410058249236476, 1.7521938557230308, -1.0563009039764553, -1.9952453346270143, -1.8123894331771992, 0.37598564650114286, 1.8090871596555738, -0.08155816086073539, -0.6581872710293829, 1.2217916891499028, -0.45890083340443405]}, {\"boxpoints\": false, \"line\": {\"width\": 1.3}, \"marker\": {\"color\": \"rgba(128, 0, 128, 1.0)\"}, \"name\": \"D\", \"orientation\": \"v\", \"type\": \"box\", \"y\": [-1.0306605709096543, -0.1752621732294562, -1.3928220006840555, -0.4001829936276594, 0.8024891201013005, 1.048463155119017, 0.6775298289407882, -1.783840862574793, -0.5490506553033939, -2.756564892179787, 0.4947119292473199, -1.3374450687095152, -1.2918993015358484, -0.6533893666818588, 0.7805657099556595, 0.26681780728876525, -1.7798873417359986, 0.6723886339722739, 0.8177184687575915, -1.9215280829952912, 0.3321842699996094, 1.3301377990939902, -0.5457930337240582, -1.3837534482925964, 0.8645492110167224, -1.0054946576727923, 0.2818559611625251, 0.0035772240944569353, 1.2229729665859856, -1.192623136181325, -0.5985598740067203, 0.5220081460583174, 0.7172735500222303, -2.9155070054398267, 0.2145744600583689, 0.4338744489865867, -1.4233566395261539, -1.7415104733859441, -0.5234253418551685, -2.399537842193371, 0.14386601618288897, -0.00401638591076631, -0.6354545083109396, -1.8517092368774808, -0.44969971698053335, -0.1574671947169798, -1.4292170644825395, -1.2139998545048707, -1.1173414632202152, 1.438716717538454, -1.2552216131544838, -0.7447038580280433, -0.399436232497645, 0.9507205946727983, -0.08470741143090028, 0.18803028316262008, -0.2582382390610199, 1.0059991413484877, -1.8900520208225555, -0.16156819110984721, 0.8814104867337247, -0.21258656399161507, 1.4110848550461996, 0.9817766994274616, -0.24708653757544896, -0.4037757668502509, -0.3257817752332432, 0.3840584491590996, -0.6666543463508315, -1.3511182297814253, -1.372946329912293, -0.4931193577594537, 0.9473803349008856, 0.5438693985374551, 1.6913999794747723, -0.9956203708574634, -0.4098564636956649, 0.39531073326868843, -0.24968403067732653, -0.14551797080403323, 0.3982815575902771, -1.1718833576081524, -1.0814038546124822, -0.8345188061678622, -1.6567678718728382, -1.3020504259299415, 1.1438735246629153, 0.6084456630495041, 0.4266279077187081, 0.8680359185399901, 0.8075987924364346, 0.3681502183985649, -0.1180412052735829, 1.4356462801667715, -0.45425706018736056, -1.5954564021703606, 0.21561546927263744, 0.8860055832666353, 0.19574625415171115, -0.17862959435754738]}],                        {\"legend\": {\"bgcolor\": \"#F5F6F9\", \"font\": {\"color\": \"#4D5663\"}}, \"paper_bgcolor\": \"#F5F6F9\", \"plot_bgcolor\": \"#F5F6F9\", \"template\": {\"data\": {\"bar\": [{\"error_x\": {\"color\": \"#2a3f5f\"}, \"error_y\": {\"color\": \"#2a3f5f\"}, \"marker\": {\"line\": {\"color\": \"#E5ECF6\", \"width\": 0.5}}, \"type\": \"bar\"}], \"barpolar\": [{\"marker\": {\"line\": {\"color\": \"#E5ECF6\", \"width\": 0.5}}, \"type\": \"barpolar\"}], \"carpet\": [{\"aaxis\": {\"endlinecolor\": \"#2a3f5f\", \"gridcolor\": \"white\", \"linecolor\": \"white\", \"minorgridcolor\": \"white\", \"startlinecolor\": \"#2a3f5f\"}, \"baxis\": {\"endlinecolor\": \"#2a3f5f\", \"gridcolor\": \"white\", \"linecolor\": \"white\", \"minorgridcolor\": \"white\", \"startlinecolor\": \"#2a3f5f\"}, \"type\": \"carpet\"}], \"choropleth\": [{\"colorbar\": {\"outlinewidth\": 0, \"ticks\": \"\"}, \"type\": \"choropleth\"}], \"contour\": [{\"colorbar\": {\"outlinewidth\": 0, \"ticks\": \"\"}, \"colorscale\": [[0.0, \"#0d0887\"], [0.1111111111111111, \"#46039f\"], [0.2222222222222222, \"#7201a8\"], [0.3333333333333333, \"#9c179e\"], [0.4444444444444444, \"#bd3786\"], [0.5555555555555556, \"#d8576b\"], [0.6666666666666666, \"#ed7953\"], [0.7777777777777778, \"#fb9f3a\"], [0.8888888888888888, \"#fdca26\"], [1.0, \"#f0f921\"]], \"type\": \"contour\"}], \"contourcarpet\": [{\"colorbar\": {\"outlinewidth\": 0, \"ticks\": \"\"}, \"type\": \"contourcarpet\"}], \"heatmap\": [{\"colorbar\": {\"outlinewidth\": 0, \"ticks\": \"\"}, \"colorscale\": [[0.0, \"#0d0887\"], [0.1111111111111111, \"#46039f\"], [0.2222222222222222, \"#7201a8\"], [0.3333333333333333, \"#9c179e\"], [0.4444444444444444, \"#bd3786\"], [0.5555555555555556, \"#d8576b\"], [0.6666666666666666, \"#ed7953\"], [0.7777777777777778, \"#fb9f3a\"], [0.8888888888888888, \"#fdca26\"], [1.0, \"#f0f921\"]], \"type\": \"heatmap\"}], \"heatmapgl\": [{\"colorbar\": {\"outlinewidth\": 0, \"ticks\": \"\"}, \"colorscale\": [[0.0, \"#0d0887\"], [0.1111111111111111, \"#46039f\"], [0.2222222222222222, \"#7201a8\"], [0.3333333333333333, \"#9c179e\"], [0.4444444444444444, \"#bd3786\"], [0.5555555555555556, \"#d8576b\"], [0.6666666666666666, \"#ed7953\"], [0.7777777777777778, \"#fb9f3a\"], [0.8888888888888888, \"#fdca26\"], [1.0, \"#f0f921\"]], \"type\": \"heatmapgl\"}], \"histogram\": [{\"marker\": {\"colorbar\": {\"outlinewidth\": 0, \"ticks\": \"\"}}, \"type\": \"histogram\"}], \"histogram2d\": [{\"colorbar\": {\"outlinewidth\": 0, \"ticks\": \"\"}, \"colorscale\": [[0.0, \"#0d0887\"], [0.1111111111111111, \"#46039f\"], [0.2222222222222222, \"#7201a8\"], [0.3333333333333333, \"#9c179e\"], [0.4444444444444444, \"#bd3786\"], [0.5555555555555556, \"#d8576b\"], [0.6666666666666666, \"#ed7953\"], [0.7777777777777778, \"#fb9f3a\"], [0.8888888888888888, \"#fdca26\"], [1.0, \"#f0f921\"]], \"type\": \"histogram2d\"}], \"histogram2dcontour\": [{\"colorbar\": {\"outlinewidth\": 0, \"ticks\": \"\"}, \"colorscale\": [[0.0, \"#0d0887\"], [0.1111111111111111, \"#46039f\"], [0.2222222222222222, \"#7201a8\"], [0.3333333333333333, \"#9c179e\"], [0.4444444444444444, \"#bd3786\"], [0.5555555555555556, \"#d8576b\"], [0.6666666666666666, \"#ed7953\"], [0.7777777777777778, \"#fb9f3a\"], [0.8888888888888888, \"#fdca26\"], [1.0, \"#f0f921\"]], \"type\": \"histogram2dcontour\"}], \"mesh3d\": [{\"colorbar\": {\"outlinewidth\": 0, \"ticks\": \"\"}, \"type\": \"mesh3d\"}], \"parcoords\": [{\"line\": {\"colorbar\": {\"outlinewidth\": 0, \"ticks\": \"\"}}, \"type\": \"parcoords\"}], \"pie\": [{\"automargin\": true, \"type\": \"pie\"}], \"scatter\": [{\"marker\": {\"colorbar\": {\"outlinewidth\": 0, \"ticks\": \"\"}}, \"type\": \"scatter\"}], \"scatter3d\": [{\"line\": {\"colorbar\": {\"outlinewidth\": 0, \"ticks\": \"\"}}, \"marker\": {\"colorbar\": {\"outlinewidth\": 0, \"ticks\": \"\"}}, \"type\": \"scatter3d\"}], \"scattercarpet\": [{\"marker\": {\"colorbar\": {\"outlinewidth\": 0, \"ticks\": \"\"}}, \"type\": \"scattercarpet\"}], \"scattergeo\": [{\"marker\": {\"colorbar\": {\"outlinewidth\": 0, \"ticks\": \"\"}}, \"type\": \"scattergeo\"}], \"scattergl\": [{\"marker\": {\"colorbar\": {\"outlinewidth\": 0, \"ticks\": \"\"}}, \"type\": \"scattergl\"}], \"scattermapbox\": [{\"marker\": {\"colorbar\": {\"outlinewidth\": 0, \"ticks\": \"\"}}, \"type\": \"scattermapbox\"}], \"scatterpolar\": [{\"marker\": {\"colorbar\": {\"outlinewidth\": 0, \"ticks\": \"\"}}, \"type\": \"scatterpolar\"}], \"scatterpolargl\": [{\"marker\": {\"colorbar\": {\"outlinewidth\": 0, \"ticks\": \"\"}}, \"type\": \"scatterpolargl\"}], \"scatterternary\": [{\"marker\": {\"colorbar\": {\"outlinewidth\": 0, \"ticks\": \"\"}}, \"type\": \"scatterternary\"}], \"surface\": [{\"colorbar\": {\"outlinewidth\": 0, \"ticks\": \"\"}, \"colorscale\": [[0.0, \"#0d0887\"], [0.1111111111111111, \"#46039f\"], [0.2222222222222222, \"#7201a8\"], [0.3333333333333333, \"#9c179e\"], [0.4444444444444444, \"#bd3786\"], [0.5555555555555556, \"#d8576b\"], [0.6666666666666666, \"#ed7953\"], [0.7777777777777778, \"#fb9f3a\"], [0.8888888888888888, \"#fdca26\"], [1.0, \"#f0f921\"]], \"type\": \"surface\"}], \"table\": [{\"cells\": {\"fill\": {\"color\": \"#EBF0F8\"}, \"line\": {\"color\": \"white\"}}, \"header\": {\"fill\": {\"color\": \"#C8D4E3\"}, \"line\": {\"color\": \"white\"}}, \"type\": \"table\"}]}, \"layout\": {\"annotationdefaults\": {\"arrowcolor\": \"#2a3f5f\", \"arrowhead\": 0, \"arrowwidth\": 1}, \"autotypenumbers\": \"strict\", \"coloraxis\": {\"colorbar\": {\"outlinewidth\": 0, \"ticks\": \"\"}}, \"colorscale\": {\"diverging\": [[0, \"#8e0152\"], [0.1, \"#c51b7d\"], [0.2, \"#de77ae\"], [0.3, \"#f1b6da\"], [0.4, \"#fde0ef\"], [0.5, \"#f7f7f7\"], [0.6, \"#e6f5d0\"], [0.7, \"#b8e186\"], [0.8, \"#7fbc41\"], [0.9, \"#4d9221\"], [1, \"#276419\"]], \"sequential\": [[0.0, \"#0d0887\"], [0.1111111111111111, \"#46039f\"], [0.2222222222222222, \"#7201a8\"], [0.3333333333333333, \"#9c179e\"], [0.4444444444444444, \"#bd3786\"], [0.5555555555555556, \"#d8576b\"], [0.6666666666666666, \"#ed7953\"], [0.7777777777777778, \"#fb9f3a\"], [0.8888888888888888, \"#fdca26\"], [1.0, \"#f0f921\"]], \"sequentialminus\": [[0.0, \"#0d0887\"], [0.1111111111111111, \"#46039f\"], [0.2222222222222222, \"#7201a8\"], [0.3333333333333333, \"#9c179e\"], [0.4444444444444444, \"#bd3786\"], [0.5555555555555556, \"#d8576b\"], [0.6666666666666666, \"#ed7953\"], [0.7777777777777778, \"#fb9f3a\"], [0.8888888888888888, \"#fdca26\"], [1.0, \"#f0f921\"]]}, \"colorway\": [\"#636efa\", \"#EF553B\", \"#00cc96\", \"#ab63fa\", \"#FFA15A\", \"#19d3f3\", \"#FF6692\", \"#B6E880\", \"#FF97FF\", \"#FECB52\"], \"font\": {\"color\": \"#2a3f5f\"}, \"geo\": {\"bgcolor\": \"white\", \"lakecolor\": \"white\", \"landcolor\": \"#E5ECF6\", \"showlakes\": true, \"showland\": true, \"subunitcolor\": \"white\"}, \"hoverlabel\": {\"align\": \"left\"}, \"hovermode\": \"closest\", \"mapbox\": {\"style\": \"light\"}, \"paper_bgcolor\": \"white\", \"plot_bgcolor\": \"#E5ECF6\", \"polar\": {\"angularaxis\": {\"gridcolor\": \"white\", \"linecolor\": \"white\", \"ticks\": \"\"}, \"bgcolor\": \"#E5ECF6\", \"radialaxis\": {\"gridcolor\": \"white\", \"linecolor\": \"white\", \"ticks\": \"\"}}, \"scene\": {\"xaxis\": {\"backgroundcolor\": \"#E5ECF6\", \"gridcolor\": \"white\", \"gridwidth\": 2, \"linecolor\": \"white\", \"showbackground\": true, \"ticks\": \"\", \"zerolinecolor\": \"white\"}, \"yaxis\": {\"backgroundcolor\": \"#E5ECF6\", \"gridcolor\": \"white\", \"gridwidth\": 2, \"linecolor\": \"white\", \"showbackground\": true, \"ticks\": \"\", \"zerolinecolor\": \"white\"}, \"zaxis\": {\"backgroundcolor\": \"#E5ECF6\", \"gridcolor\": \"white\", \"gridwidth\": 2, \"linecolor\": \"white\", \"showbackground\": true, \"ticks\": \"\", \"zerolinecolor\": \"white\"}}, \"shapedefaults\": {\"line\": {\"color\": \"#2a3f5f\"}}, \"ternary\": {\"aaxis\": {\"gridcolor\": \"white\", \"linecolor\": \"white\", \"ticks\": \"\"}, \"baxis\": {\"gridcolor\": \"white\", \"linecolor\": \"white\", \"ticks\": \"\"}, \"bgcolor\": \"#E5ECF6\", \"caxis\": {\"gridcolor\": \"white\", \"linecolor\": \"white\", \"ticks\": \"\"}}, \"title\": {\"x\": 0.05}, \"xaxis\": {\"automargin\": true, \"gridcolor\": \"white\", \"linecolor\": \"white\", \"ticks\": \"\", \"title\": {\"standoff\": 15}, \"zerolinecolor\": \"white\", \"zerolinewidth\": 2}, \"yaxis\": {\"automargin\": true, \"gridcolor\": \"white\", \"linecolor\": \"white\", \"ticks\": \"\", \"title\": {\"standoff\": 15}, \"zerolinecolor\": \"white\", \"zerolinewidth\": 2}}}, \"title\": {\"font\": {\"color\": \"#4D5663\"}}, \"xaxis\": {\"gridcolor\": \"#E1E5ED\", \"showgrid\": true, \"tickfont\": {\"color\": \"#4D5663\"}, \"title\": {\"font\": {\"color\": \"#4D5663\"}, \"text\": \"\"}, \"zerolinecolor\": \"#E1E5ED\"}, \"yaxis\": {\"gridcolor\": \"#E1E5ED\", \"showgrid\": true, \"tickfont\": {\"color\": \"#4D5663\"}, \"title\": {\"font\": {\"color\": \"#4D5663\"}, \"text\": \"\"}, \"zerolinecolor\": \"#E1E5ED\"}},                        {\"showLink\": true, \"linkText\": \"Export to plot.ly\", \"plotlyServerURL\": \"https://plot.ly\", \"responsive\": true}                    ).then(function(){\n",
       "                            \n",
       "var gd = document.getElementById('bef361c9-3bf0-4ca2-9e20-ef4fa7e97aaf');\n",
       "var x = new MutationObserver(function (mutations, observer) {{\n",
       "        var display = window.getComputedStyle(gd).display;\n",
       "        if (!display || display === 'none') {{\n",
       "            console.log([gd, 'removed!']);\n",
       "            Plotly.purge(gd);\n",
       "            observer.disconnect();\n",
       "        }}\n",
       "}});\n",
       "\n",
       "// Listen for the removal of the full notebook cells\n",
       "var notebookContainer = gd.closest('#notebook-container');\n",
       "if (notebookContainer) {{\n",
       "    x.observe(notebookContainer, {childList: true});\n",
       "}}\n",
       "\n",
       "// Listen for the clearing of the current output cell\n",
       "var outputEl = gd.closest('.output');\n",
       "if (outputEl) {{\n",
       "    x.observe(outputEl, {childList: true});\n",
       "}}\n",
       "\n",
       "                        })                };                });            </script>        </div>"
      ]
     },
     "metadata": {},
     "output_type": "display_data"
    }
   ],
   "source": [
    "df.iplot(kind=\"box\")"
   ]
  },
  {
   "cell_type": "code",
   "execution_count": 16,
   "metadata": {},
   "outputs": [
    {
     "name": "stderr",
     "output_type": "stream",
     "text": [
      "C:\\ProgramData\\Anaconda3\\lib\\site-packages\\cufflinks\\plotlytools.py:849: FutureWarning:\n",
      "\n",
      "The pandas.np module is deprecated and will be removed from pandas in a future version. Import numpy directly instead\n",
      "\n",
      "C:\\ProgramData\\Anaconda3\\lib\\site-packages\\cufflinks\\plotlytools.py:850: FutureWarning:\n",
      "\n",
      "The pandas.np module is deprecated and will be removed from pandas in a future version. Import numpy directly instead\n",
      "\n"
     ]
    },
    {
     "data": {
      "application/vnd.plotly.v1+json": {
       "config": {
        "linkText": "Export to plot.ly",
        "plotlyServerURL": "https://plot.ly",
        "showLink": true
       },
       "data": [
        {
         "line": {
          "color": "rgba(255, 153, 51, 1.0)",
          "dash": "solid",
          "shape": "linear",
          "width": 1.3
         },
         "mode": "lines",
         "name": "A",
         "text": "",
         "type": "scatter",
         "x": [
          0,
          1,
          2,
          3,
          4,
          5,
          6,
          7,
          8,
          9,
          10,
          11,
          12,
          13,
          14,
          15,
          16,
          17,
          18,
          19,
          20,
          21,
          22,
          23,
          24,
          25,
          26,
          27,
          28,
          29,
          30,
          31,
          32,
          33,
          34,
          35,
          36,
          37,
          38,
          39,
          40,
          41,
          42,
          43,
          44,
          45,
          46,
          47,
          48,
          49,
          50,
          51,
          52,
          53,
          54,
          55,
          56,
          57,
          58,
          59,
          60,
          61,
          62,
          63,
          64,
          65,
          66,
          67,
          68,
          69,
          70,
          71,
          72,
          73,
          74,
          75,
          76,
          77,
          78,
          79,
          80,
          81,
          82,
          83,
          84,
          85,
          86,
          87,
          88,
          89,
          90,
          91,
          92,
          93,
          94,
          95,
          96,
          97,
          98,
          99
         ],
         "y": [
          -0.6915796259609344,
          -0.8872849879301269,
          0.7351331691915325,
          0.0187482624021014,
          -1.3817892822184494,
          1.6276935039887588,
          0.48741645957410107,
          0.7184343185820924,
          -1.9281264806682483,
          -0.8999233502422062,
          -1.7799183101839324,
          0.9008821566604649,
          0.20301832261981306,
          1.8060196231091028,
          -0.2913743722283807,
          -1.0028680571625874,
          -0.7799725268069628,
          -1.0115947811354846,
          1.6690294312418568,
          -1.0396907179959067,
          0.06871544329476185,
          -0.8842237666730386,
          1.224973208704979,
          0.4631385238986198,
          0.740878154820934,
          -0.5813038422552343,
          -0.9383979476151751,
          2.2143189803556362,
          -0.423551427103088,
          -0.42048634304971966,
          0.4524961287844688,
          -0.2849268456346176,
          0.20084633802688698,
          -1.179587520197634,
          -1.2171104780344941,
          1.31260455425112,
          0.07424119953542815,
          1.3428441779852547,
          -2.860036001452457,
          -0.2980548945617647,
          1.7031874742888558,
          0.4039403360775828,
          -0.4530643885339186,
          0.5166202508143846,
          2.5061604436079388,
          -0.22651256670052275,
          -0.4113509392005815,
          0.3844710304962001,
          0.7768993023151984,
          0.3919698813535365,
          -1.2483424611011424,
          0.5757471088717269,
          -0.9586586441077025,
          0.07349496376369483,
          0.4105909975316248,
          0.38694569353694597,
          -0.06808552922896927,
          -0.30962695184908284,
          -0.10858045854730711,
          1.144943808386343,
          -1.1158660861520617,
          -0.8072714792006194,
          -0.8200009118915258,
          0.2406666220789867,
          -0.427222957956366,
          1.772402559856502,
          -0.15284717195228584,
          0.15338364795477655,
          -0.7943165728504842,
          -1.4053685632042303,
          0.8582648769101241,
          -0.7422149276534388,
          -0.983609520312817,
          1.008138822924062,
          -2.812568541347789,
          -0.7667967963565699,
          1.4951803796842733,
          -0.17619436709084627,
          0.39350770109275585,
          0.8172413146696621,
          0.5130245863583023,
          -0.6357411104723741,
          0.1321533298737306,
          1.2371806367240268,
          0.36351975843928164,
          -0.22604926645818205,
          -0.6664127081099145,
          1.3696975147006802,
          0.5798010860119244,
          -0.592057266420742,
          -0.4007257037255129,
          0.0604157024958049,
          0.19956225440633601,
          -0.2386209677915759,
          -0.45382262875168244,
          -0.029871779297502257,
          -0.2860381306203588,
          0.4140082157874592,
          0.5257824581842769,
          -0.369657676375118
         ]
        },
        {
         "line": {
          "color": "rgba(55, 128, 191, 1.0)",
          "dash": "solid",
          "shape": "linear",
          "width": 1.3
         },
         "mode": "lines",
         "name": "B",
         "text": "",
         "type": "scatter",
         "x": [
          0,
          1,
          2,
          3,
          4,
          5,
          6,
          7,
          8,
          9,
          10,
          11,
          12,
          13,
          14,
          15,
          16,
          17,
          18,
          19,
          20,
          21,
          22,
          23,
          24,
          25,
          26,
          27,
          28,
          29,
          30,
          31,
          32,
          33,
          34,
          35,
          36,
          37,
          38,
          39,
          40,
          41,
          42,
          43,
          44,
          45,
          46,
          47,
          48,
          49,
          50,
          51,
          52,
          53,
          54,
          55,
          56,
          57,
          58,
          59,
          60,
          61,
          62,
          63,
          64,
          65,
          66,
          67,
          68,
          69,
          70,
          71,
          72,
          73,
          74,
          75,
          76,
          77,
          78,
          79,
          80,
          81,
          82,
          83,
          84,
          85,
          86,
          87,
          88,
          89,
          90,
          91,
          92,
          93,
          94,
          95,
          96,
          97,
          98,
          99
         ],
         "y": [
          -0.4416109016685977,
          1.5651155798664615,
          -0.486386343433522,
          -2.199567556381776,
          -0.9142935082338941,
          0.06812640059682612,
          0.4776202682694769,
          1.0546625009640556,
          -0.6880548877398517,
          1.8209757828156723,
          1.5571718328009587,
          1.1589728923099107,
          1.163334643980302,
          -0.9964320957995271,
          0.5229700623178248,
          -0.5422628084138779,
          -0.267673267490769,
          -2.542024338097646,
          0.1892572429133559,
          0.9531814741576196,
          0.7493063574421213,
          0.5023472703547277,
          -0.6404279709338484,
          -0.09415765433918766,
          -0.8473289830681051,
          2.4475018491497593,
          -1.2457317162324226,
          -1.3811748213213695,
          0.20239230418083937,
          1.1660197139884207,
          0.4389106508835806,
          -1.5696964379987275,
          -2.1470786229066596,
          -1.2716195718711647,
          -0.32431857246238116,
          -0.48671087904318966,
          0.807176097279996,
          -0.4545226307330017,
          0.9692805152724048,
          -0.5399406974702767,
          -0.9112616777512544,
          -0.714636963502582,
          0.4401518992961405,
          1.2112389619411343,
          -0.36511562219575633,
          -0.823735935608685,
          0.6940529112251567,
          1.2488733228033813,
          -0.8614307813991519,
          2.347537155331469,
          -1.1135489104449754,
          -0.4266769291945704,
          -0.34983112284132795,
          -1.0800241937145774,
          -0.7310272741866767,
          0.6143328644742845,
          -0.24735519775421033,
          0.5218972511065154,
          0.18495767661158455,
          0.03356610062777415,
          -0.9264261222493289,
          -1.1715593013084677,
          1.3667087323756861,
          -0.07870407832879851,
          0.050980863247599886,
          -1.4353282576073432,
          -1.1057379385577595,
          -1.240759569480158,
          -1.435045518952723,
          0.2866146102228182,
          -0.4321199550320402,
          0.20803661832940504,
          -1.637427291219393,
          1.195797731567711,
          0.36417372075511256,
          0.06277847213280971,
          -0.35012964109245687,
          2.45863772791582,
          -0.21262565217949736,
          0.08746166141915754,
          0.11560547765517383,
          -1.75608505564241,
          0.29493286266375646,
          -0.8759852777508496,
          0.6355229301680484,
          -0.019587564842157068,
          -0.4184902249812962,
          0.279985822989887,
          1.0476231961393485,
          -1.4800776423230955,
          0.8336250259779167,
          1.1108395642941793,
          -3.550161594830222,
          -0.3630151021155685,
          -0.4319034238532681,
          1.2014795760785844,
          -0.7163833677385238,
          -0.9322561095076094,
          0.978279984551639,
          0.3454873088830252
         ]
        },
        {
         "connectgaps": false,
         "fill": "tozeroy",
         "line": {
          "color": "green",
          "dash": "solid",
          "shape": "linear",
          "width": 0.5
         },
         "mode": "lines",
         "name": "Spread",
         "showlegend": false,
         "type": "scatter",
         "x": [
          0,
          1,
          2,
          3,
          4,
          5,
          6,
          7,
          8,
          9,
          10,
          11,
          12,
          13,
          14,
          15,
          16,
          17,
          18,
          19,
          20,
          21,
          22,
          23,
          24,
          25,
          26,
          27,
          28,
          29,
          30,
          31,
          32,
          33,
          34,
          35,
          36,
          37,
          38,
          39,
          40,
          41,
          42,
          43,
          44,
          45,
          46,
          47,
          48,
          49,
          50,
          51,
          52,
          53,
          54,
          55,
          56,
          57,
          58,
          59,
          60,
          61,
          62,
          63,
          64,
          65,
          66,
          67,
          68,
          69,
          70,
          71,
          72,
          73,
          74,
          75,
          76,
          77,
          78,
          79,
          80,
          81,
          82,
          83,
          84,
          85,
          86,
          87,
          88,
          89,
          90,
          91,
          92,
          93,
          94,
          95,
          96,
          97,
          98,
          99
         ],
         "xaxis": "x2",
         "y": [
          "",
          "",
          1.2215195126250544,
          2.218315818783877,
          "",
          1.5595671033919327,
          0.009796191304624169,
          "",
          "",
          "",
          "",
          "",
          "",
          2.80245171890863,
          "",
          "",
          "",
          1.5304295569621613,
          1.4797721883285009,
          "",
          "",
          "",
          1.8654011796388272,
          0.5572961782378074,
          1.588207137889039,
          "",
          0.3073337686172475,
          3.595493801677006,
          "",
          "",
          0.01358547790088821,
          1.2847695923641098,
          2.3479249609335464,
          0.09203205167353068,
          "",
          1.7993154332943098,
          "",
          1.7973668087182564,
          "",
          0.24188580290851203,
          2.6144491520401103,
          1.1185772995801648,
          "",
          "",
          2.871276065803695,
          0.5972233689081622,
          "",
          "",
          1.6383300837143504,
          "",
          "",
          1.0024240380662972,
          "",
          1.1535191574782722,
          1.1416182717183014,
          "",
          0.17926966852524107,
          "",
          "",
          1.111377707758569,
          "",
          0.3642878221078484,
          "",
          0.3193707004077852,
          "",
          3.2077308174638453,
          0.9528907666054737,
          1.3941432174349346,
          0.6407289461022387,
          "",
          1.2903848319421642,
          "",
          0.653817770906576,
          "",
          "",
          "",
          1.8453100207767301,
          "",
          0.6061333532722533,
          0.7297796532505045,
          0.39741910870312847,
          1.1203439451700357,
          "",
          2.1131659144748762,
          "",
          "",
          "",
          1.0897116917107932,
          "",
          0.8880203759023535,
          "",
          "",
          3.749723849236558,
          0.12439413432399257,
          "",
          "",
          0.430345237118165,
          1.3462643252950686,
          "",
          ""
         ],
         "yaxis": "y2"
        },
        {
         "connectgaps": false,
         "fill": "tozeroy",
         "line": {
          "color": "red",
          "dash": "solid",
          "shape": "linear",
          "width": 0.5
         },
         "mode": "lines",
         "name": "Spread",
         "showlegend": false,
         "type": "scatter",
         "x": [
          0,
          1,
          2,
          3,
          4,
          5,
          6,
          7,
          8,
          9,
          10,
          11,
          12,
          13,
          14,
          15,
          16,
          17,
          18,
          19,
          20,
          21,
          22,
          23,
          24,
          25,
          26,
          27,
          28,
          29,
          30,
          31,
          32,
          33,
          34,
          35,
          36,
          37,
          38,
          39,
          40,
          41,
          42,
          43,
          44,
          45,
          46,
          47,
          48,
          49,
          50,
          51,
          52,
          53,
          54,
          55,
          56,
          57,
          58,
          59,
          60,
          61,
          62,
          63,
          64,
          65,
          66,
          67,
          68,
          69,
          70,
          71,
          72,
          73,
          74,
          75,
          76,
          77,
          78,
          79,
          80,
          81,
          82,
          83,
          84,
          85,
          86,
          87,
          88,
          89,
          90,
          91,
          92,
          93,
          94,
          95,
          96,
          97,
          98,
          99
         ],
         "xaxis": "x2",
         "y": [
          -0.24996872429233669,
          -2.4524005677965883,
          "",
          "",
          -0.46749577398455533,
          "",
          "",
          -0.33622818238196317,
          -1.2400715929283965,
          -2.7208991330578787,
          -3.3370901429848914,
          -0.25809073564944585,
          -0.9603163213604891,
          "",
          -0.8143444345462055,
          -0.46060524874870956,
          -0.5122992593161939,
          "",
          "",
          -1.9928721921535262,
          -0.6805909141473594,
          -1.3865710370277662,
          "",
          "",
          "",
          -3.028805691404994,
          "",
          "",
          -0.6259437312839273,
          -1.5865060570381404,
          "",
          "",
          "",
          "",
          -0.892791905572113,
          "",
          -0.7329348977445678,
          "",
          -3.8293165167248615,
          "",
          "",
          "",
          -0.8932162878300591,
          -0.6946187111267498,
          "",
          "",
          -1.1054038504257382,
          -0.8644022923071812,
          "",
          -1.9555672739779326,
          -0.13479355065616705,
          "",
          -0.6088275212663745,
          "",
          "",
          -0.2273871709373385,
          "",
          -0.8315242029555983,
          -0.29353813515889166,
          "",
          -0.18943996390273288,
          "",
          -2.186709644267212,
          "",
          -0.4782038212039659,
          "",
          "",
          "",
          "",
          -1.6919831734270485,
          "",
          -0.9502515459828438,
          "",
          -0.1876589086436491,
          -3.1767422621029016,
          -0.8295752684893797,
          "",
          -2.6348320950066664,
          "",
          "",
          "",
          "",
          -0.16277953279002585,
          "",
          -0.27200317172876676,
          -0.20646170161602498,
          -0.2479224831286183,
          "",
          -0.46782211012742414,
          "",
          -1.2343507297034295,
          -1.0504238617983743,
          "",
          "",
          -0.02191920489841437,
          -1.2313513553760866,
          "",
          "",
          -0.45249752636736207,
          -0.7151449852581432
         ],
         "yaxis": "y2"
        }
       ],
       "layout": {
        "hovermode": "x",
        "legend": {
         "bgcolor": "#F5F6F9",
         "font": {
          "color": "#4D5663"
         }
        },
        "paper_bgcolor": "#F5F6F9",
        "plot_bgcolor": "#F5F6F9",
        "template": {
         "data": {
          "bar": [
           {
            "error_x": {
             "color": "#2a3f5f"
            },
            "error_y": {
             "color": "#2a3f5f"
            },
            "marker": {
             "line": {
              "color": "#E5ECF6",
              "width": 0.5
             }
            },
            "type": "bar"
           }
          ],
          "barpolar": [
           {
            "marker": {
             "line": {
              "color": "#E5ECF6",
              "width": 0.5
             }
            },
            "type": "barpolar"
           }
          ],
          "carpet": [
           {
            "aaxis": {
             "endlinecolor": "#2a3f5f",
             "gridcolor": "white",
             "linecolor": "white",
             "minorgridcolor": "white",
             "startlinecolor": "#2a3f5f"
            },
            "baxis": {
             "endlinecolor": "#2a3f5f",
             "gridcolor": "white",
             "linecolor": "white",
             "minorgridcolor": "white",
             "startlinecolor": "#2a3f5f"
            },
            "type": "carpet"
           }
          ],
          "choropleth": [
           {
            "colorbar": {
             "outlinewidth": 0,
             "ticks": ""
            },
            "type": "choropleth"
           }
          ],
          "contour": [
           {
            "colorbar": {
             "outlinewidth": 0,
             "ticks": ""
            },
            "colorscale": [
             [
              0,
              "#0d0887"
             ],
             [
              0.1111111111111111,
              "#46039f"
             ],
             [
              0.2222222222222222,
              "#7201a8"
             ],
             [
              0.3333333333333333,
              "#9c179e"
             ],
             [
              0.4444444444444444,
              "#bd3786"
             ],
             [
              0.5555555555555556,
              "#d8576b"
             ],
             [
              0.6666666666666666,
              "#ed7953"
             ],
             [
              0.7777777777777778,
              "#fb9f3a"
             ],
             [
              0.8888888888888888,
              "#fdca26"
             ],
             [
              1,
              "#f0f921"
             ]
            ],
            "type": "contour"
           }
          ],
          "contourcarpet": [
           {
            "colorbar": {
             "outlinewidth": 0,
             "ticks": ""
            },
            "type": "contourcarpet"
           }
          ],
          "heatmap": [
           {
            "colorbar": {
             "outlinewidth": 0,
             "ticks": ""
            },
            "colorscale": [
             [
              0,
              "#0d0887"
             ],
             [
              0.1111111111111111,
              "#46039f"
             ],
             [
              0.2222222222222222,
              "#7201a8"
             ],
             [
              0.3333333333333333,
              "#9c179e"
             ],
             [
              0.4444444444444444,
              "#bd3786"
             ],
             [
              0.5555555555555556,
              "#d8576b"
             ],
             [
              0.6666666666666666,
              "#ed7953"
             ],
             [
              0.7777777777777778,
              "#fb9f3a"
             ],
             [
              0.8888888888888888,
              "#fdca26"
             ],
             [
              1,
              "#f0f921"
             ]
            ],
            "type": "heatmap"
           }
          ],
          "heatmapgl": [
           {
            "colorbar": {
             "outlinewidth": 0,
             "ticks": ""
            },
            "colorscale": [
             [
              0,
              "#0d0887"
             ],
             [
              0.1111111111111111,
              "#46039f"
             ],
             [
              0.2222222222222222,
              "#7201a8"
             ],
             [
              0.3333333333333333,
              "#9c179e"
             ],
             [
              0.4444444444444444,
              "#bd3786"
             ],
             [
              0.5555555555555556,
              "#d8576b"
             ],
             [
              0.6666666666666666,
              "#ed7953"
             ],
             [
              0.7777777777777778,
              "#fb9f3a"
             ],
             [
              0.8888888888888888,
              "#fdca26"
             ],
             [
              1,
              "#f0f921"
             ]
            ],
            "type": "heatmapgl"
           }
          ],
          "histogram": [
           {
            "marker": {
             "colorbar": {
              "outlinewidth": 0,
              "ticks": ""
             }
            },
            "type": "histogram"
           }
          ],
          "histogram2d": [
           {
            "colorbar": {
             "outlinewidth": 0,
             "ticks": ""
            },
            "colorscale": [
             [
              0,
              "#0d0887"
             ],
             [
              0.1111111111111111,
              "#46039f"
             ],
             [
              0.2222222222222222,
              "#7201a8"
             ],
             [
              0.3333333333333333,
              "#9c179e"
             ],
             [
              0.4444444444444444,
              "#bd3786"
             ],
             [
              0.5555555555555556,
              "#d8576b"
             ],
             [
              0.6666666666666666,
              "#ed7953"
             ],
             [
              0.7777777777777778,
              "#fb9f3a"
             ],
             [
              0.8888888888888888,
              "#fdca26"
             ],
             [
              1,
              "#f0f921"
             ]
            ],
            "type": "histogram2d"
           }
          ],
          "histogram2dcontour": [
           {
            "colorbar": {
             "outlinewidth": 0,
             "ticks": ""
            },
            "colorscale": [
             [
              0,
              "#0d0887"
             ],
             [
              0.1111111111111111,
              "#46039f"
             ],
             [
              0.2222222222222222,
              "#7201a8"
             ],
             [
              0.3333333333333333,
              "#9c179e"
             ],
             [
              0.4444444444444444,
              "#bd3786"
             ],
             [
              0.5555555555555556,
              "#d8576b"
             ],
             [
              0.6666666666666666,
              "#ed7953"
             ],
             [
              0.7777777777777778,
              "#fb9f3a"
             ],
             [
              0.8888888888888888,
              "#fdca26"
             ],
             [
              1,
              "#f0f921"
             ]
            ],
            "type": "histogram2dcontour"
           }
          ],
          "mesh3d": [
           {
            "colorbar": {
             "outlinewidth": 0,
             "ticks": ""
            },
            "type": "mesh3d"
           }
          ],
          "parcoords": [
           {
            "line": {
             "colorbar": {
              "outlinewidth": 0,
              "ticks": ""
             }
            },
            "type": "parcoords"
           }
          ],
          "pie": [
           {
            "automargin": true,
            "type": "pie"
           }
          ],
          "scatter": [
           {
            "marker": {
             "colorbar": {
              "outlinewidth": 0,
              "ticks": ""
             }
            },
            "type": "scatter"
           }
          ],
          "scatter3d": [
           {
            "line": {
             "colorbar": {
              "outlinewidth": 0,
              "ticks": ""
             }
            },
            "marker": {
             "colorbar": {
              "outlinewidth": 0,
              "ticks": ""
             }
            },
            "type": "scatter3d"
           }
          ],
          "scattercarpet": [
           {
            "marker": {
             "colorbar": {
              "outlinewidth": 0,
              "ticks": ""
             }
            },
            "type": "scattercarpet"
           }
          ],
          "scattergeo": [
           {
            "marker": {
             "colorbar": {
              "outlinewidth": 0,
              "ticks": ""
             }
            },
            "type": "scattergeo"
           }
          ],
          "scattergl": [
           {
            "marker": {
             "colorbar": {
              "outlinewidth": 0,
              "ticks": ""
             }
            },
            "type": "scattergl"
           }
          ],
          "scattermapbox": [
           {
            "marker": {
             "colorbar": {
              "outlinewidth": 0,
              "ticks": ""
             }
            },
            "type": "scattermapbox"
           }
          ],
          "scatterpolar": [
           {
            "marker": {
             "colorbar": {
              "outlinewidth": 0,
              "ticks": ""
             }
            },
            "type": "scatterpolar"
           }
          ],
          "scatterpolargl": [
           {
            "marker": {
             "colorbar": {
              "outlinewidth": 0,
              "ticks": ""
             }
            },
            "type": "scatterpolargl"
           }
          ],
          "scatterternary": [
           {
            "marker": {
             "colorbar": {
              "outlinewidth": 0,
              "ticks": ""
             }
            },
            "type": "scatterternary"
           }
          ],
          "surface": [
           {
            "colorbar": {
             "outlinewidth": 0,
             "ticks": ""
            },
            "colorscale": [
             [
              0,
              "#0d0887"
             ],
             [
              0.1111111111111111,
              "#46039f"
             ],
             [
              0.2222222222222222,
              "#7201a8"
             ],
             [
              0.3333333333333333,
              "#9c179e"
             ],
             [
              0.4444444444444444,
              "#bd3786"
             ],
             [
              0.5555555555555556,
              "#d8576b"
             ],
             [
              0.6666666666666666,
              "#ed7953"
             ],
             [
              0.7777777777777778,
              "#fb9f3a"
             ],
             [
              0.8888888888888888,
              "#fdca26"
             ],
             [
              1,
              "#f0f921"
             ]
            ],
            "type": "surface"
           }
          ],
          "table": [
           {
            "cells": {
             "fill": {
              "color": "#EBF0F8"
             },
             "line": {
              "color": "white"
             }
            },
            "header": {
             "fill": {
              "color": "#C8D4E3"
             },
             "line": {
              "color": "white"
             }
            },
            "type": "table"
           }
          ]
         },
         "layout": {
          "annotationdefaults": {
           "arrowcolor": "#2a3f5f",
           "arrowhead": 0,
           "arrowwidth": 1
          },
          "autotypenumbers": "strict",
          "coloraxis": {
           "colorbar": {
            "outlinewidth": 0,
            "ticks": ""
           }
          },
          "colorscale": {
           "diverging": [
            [
             0,
             "#8e0152"
            ],
            [
             0.1,
             "#c51b7d"
            ],
            [
             0.2,
             "#de77ae"
            ],
            [
             0.3,
             "#f1b6da"
            ],
            [
             0.4,
             "#fde0ef"
            ],
            [
             0.5,
             "#f7f7f7"
            ],
            [
             0.6,
             "#e6f5d0"
            ],
            [
             0.7,
             "#b8e186"
            ],
            [
             0.8,
             "#7fbc41"
            ],
            [
             0.9,
             "#4d9221"
            ],
            [
             1,
             "#276419"
            ]
           ],
           "sequential": [
            [
             0,
             "#0d0887"
            ],
            [
             0.1111111111111111,
             "#46039f"
            ],
            [
             0.2222222222222222,
             "#7201a8"
            ],
            [
             0.3333333333333333,
             "#9c179e"
            ],
            [
             0.4444444444444444,
             "#bd3786"
            ],
            [
             0.5555555555555556,
             "#d8576b"
            ],
            [
             0.6666666666666666,
             "#ed7953"
            ],
            [
             0.7777777777777778,
             "#fb9f3a"
            ],
            [
             0.8888888888888888,
             "#fdca26"
            ],
            [
             1,
             "#f0f921"
            ]
           ],
           "sequentialminus": [
            [
             0,
             "#0d0887"
            ],
            [
             0.1111111111111111,
             "#46039f"
            ],
            [
             0.2222222222222222,
             "#7201a8"
            ],
            [
             0.3333333333333333,
             "#9c179e"
            ],
            [
             0.4444444444444444,
             "#bd3786"
            ],
            [
             0.5555555555555556,
             "#d8576b"
            ],
            [
             0.6666666666666666,
             "#ed7953"
            ],
            [
             0.7777777777777778,
             "#fb9f3a"
            ],
            [
             0.8888888888888888,
             "#fdca26"
            ],
            [
             1,
             "#f0f921"
            ]
           ]
          },
          "colorway": [
           "#636efa",
           "#EF553B",
           "#00cc96",
           "#ab63fa",
           "#FFA15A",
           "#19d3f3",
           "#FF6692",
           "#B6E880",
           "#FF97FF",
           "#FECB52"
          ],
          "font": {
           "color": "#2a3f5f"
          },
          "geo": {
           "bgcolor": "white",
           "lakecolor": "white",
           "landcolor": "#E5ECF6",
           "showlakes": true,
           "showland": true,
           "subunitcolor": "white"
          },
          "hoverlabel": {
           "align": "left"
          },
          "hovermode": "closest",
          "mapbox": {
           "style": "light"
          },
          "paper_bgcolor": "white",
          "plot_bgcolor": "#E5ECF6",
          "polar": {
           "angularaxis": {
            "gridcolor": "white",
            "linecolor": "white",
            "ticks": ""
           },
           "bgcolor": "#E5ECF6",
           "radialaxis": {
            "gridcolor": "white",
            "linecolor": "white",
            "ticks": ""
           }
          },
          "scene": {
           "xaxis": {
            "backgroundcolor": "#E5ECF6",
            "gridcolor": "white",
            "gridwidth": 2,
            "linecolor": "white",
            "showbackground": true,
            "ticks": "",
            "zerolinecolor": "white"
           },
           "yaxis": {
            "backgroundcolor": "#E5ECF6",
            "gridcolor": "white",
            "gridwidth": 2,
            "linecolor": "white",
            "showbackground": true,
            "ticks": "",
            "zerolinecolor": "white"
           },
           "zaxis": {
            "backgroundcolor": "#E5ECF6",
            "gridcolor": "white",
            "gridwidth": 2,
            "linecolor": "white",
            "showbackground": true,
            "ticks": "",
            "zerolinecolor": "white"
           }
          },
          "shapedefaults": {
           "line": {
            "color": "#2a3f5f"
           }
          },
          "ternary": {
           "aaxis": {
            "gridcolor": "white",
            "linecolor": "white",
            "ticks": ""
           },
           "baxis": {
            "gridcolor": "white",
            "linecolor": "white",
            "ticks": ""
           },
           "bgcolor": "#E5ECF6",
           "caxis": {
            "gridcolor": "white",
            "linecolor": "white",
            "ticks": ""
           }
          },
          "title": {
           "x": 0.05
          },
          "xaxis": {
           "automargin": true,
           "gridcolor": "white",
           "linecolor": "white",
           "ticks": "",
           "title": {
            "standoff": 15
           },
           "zerolinecolor": "white",
           "zerolinewidth": 2
          },
          "yaxis": {
           "automargin": true,
           "gridcolor": "white",
           "linecolor": "white",
           "ticks": "",
           "title": {
            "standoff": 15
           },
           "zerolinecolor": "white",
           "zerolinewidth": 2
          }
         }
        },
        "title": {
         "font": {
          "color": "#4D5663"
         }
        },
        "xaxis": {
         "gridcolor": "#E1E5ED",
         "showgrid": true,
         "tickfont": {
          "color": "#4D5663"
         },
         "title": {
          "font": {
           "color": "#4D5663"
          },
          "text": ""
         },
         "zerolinecolor": "#E1E5ED"
        },
        "xaxis2": {
         "anchor": "y2",
         "gridcolor": "#E1E5ED",
         "showgrid": true,
         "showticklabels": false,
         "tickfont": {
          "color": "#4D5663"
         },
         "title": {
          "font": {
           "color": "#4D5663"
          },
          "text": ""
         },
         "zerolinecolor": "#E1E5ED"
        },
        "yaxis": {
         "domain": [
          0.3,
          1
         ],
         "gridcolor": "#E1E5ED",
         "showgrid": true,
         "tickfont": {
          "color": "#4D5663"
         },
         "title": {
          "font": {
           "color": "#4D5663"
          },
          "text": ""
         },
         "zerolinecolor": "#E1E5ED"
        },
        "yaxis2": {
         "domain": [
          0,
          0.25
         ],
         "gridcolor": "#E1E5ED",
         "showgrid": true,
         "tickfont": {
          "color": "#4D5663"
         },
         "title": {
          "font": {
           "color": "#4D5663"
          },
          "text": "Spread"
         },
         "zerolinecolor": "#E1E5ED"
        }
       }
      },
      "text/html": [
       "<div>                            <div id=\"39e4c318-0ad3-4551-b88c-66d1003e1f15\" class=\"plotly-graph-div\" style=\"height:525px; width:100%;\"></div>            <script type=\"text/javascript\">                require([\"plotly\"], function(Plotly) {                    window.PLOTLYENV=window.PLOTLYENV || {};\n",
       "                    window.PLOTLYENV.BASE_URL='https://plot.ly';                                    if (document.getElementById(\"39e4c318-0ad3-4551-b88c-66d1003e1f15\")) {                    Plotly.newPlot(                        \"39e4c318-0ad3-4551-b88c-66d1003e1f15\",                        [{\"line\": {\"color\": \"rgba(255, 153, 51, 1.0)\", \"dash\": \"solid\", \"shape\": \"linear\", \"width\": 1.3}, \"mode\": \"lines\", \"name\": \"A\", \"text\": \"\", \"type\": \"scatter\", \"x\": [0, 1, 2, 3, 4, 5, 6, 7, 8, 9, 10, 11, 12, 13, 14, 15, 16, 17, 18, 19, 20, 21, 22, 23, 24, 25, 26, 27, 28, 29, 30, 31, 32, 33, 34, 35, 36, 37, 38, 39, 40, 41, 42, 43, 44, 45, 46, 47, 48, 49, 50, 51, 52, 53, 54, 55, 56, 57, 58, 59, 60, 61, 62, 63, 64, 65, 66, 67, 68, 69, 70, 71, 72, 73, 74, 75, 76, 77, 78, 79, 80, 81, 82, 83, 84, 85, 86, 87, 88, 89, 90, 91, 92, 93, 94, 95, 96, 97, 98, 99], \"y\": [-0.6915796259609344, -0.8872849879301269, 0.7351331691915325, 0.0187482624021014, -1.3817892822184494, 1.6276935039887588, 0.48741645957410107, 0.7184343185820924, -1.9281264806682483, -0.8999233502422062, -1.7799183101839324, 0.9008821566604649, 0.20301832261981306, 1.8060196231091028, -0.2913743722283807, -1.0028680571625874, -0.7799725268069628, -1.0115947811354846, 1.6690294312418568, -1.0396907179959067, 0.06871544329476185, -0.8842237666730386, 1.224973208704979, 0.4631385238986198, 0.740878154820934, -0.5813038422552343, -0.9383979476151751, 2.2143189803556362, -0.423551427103088, -0.42048634304971966, 0.4524961287844688, -0.2849268456346176, 0.20084633802688698, -1.179587520197634, -1.2171104780344941, 1.31260455425112, 0.07424119953542815, 1.3428441779852547, -2.860036001452457, -0.2980548945617647, 1.7031874742888558, 0.4039403360775828, -0.4530643885339186, 0.5166202508143846, 2.5061604436079388, -0.22651256670052275, -0.4113509392005815, 0.3844710304962001, 0.7768993023151984, 0.3919698813535365, -1.2483424611011424, 0.5757471088717269, -0.9586586441077025, 0.07349496376369483, 0.4105909975316248, 0.38694569353694597, -0.06808552922896927, -0.30962695184908284, -0.10858045854730711, 1.144943808386343, -1.1158660861520617, -0.8072714792006194, -0.8200009118915258, 0.2406666220789867, -0.427222957956366, 1.772402559856502, -0.15284717195228584, 0.15338364795477655, -0.7943165728504842, -1.4053685632042303, 0.8582648769101241, -0.7422149276534388, -0.983609520312817, 1.008138822924062, -2.812568541347789, -0.7667967963565699, 1.4951803796842733, -0.17619436709084627, 0.39350770109275585, 0.8172413146696621, 0.5130245863583023, -0.6357411104723741, 0.1321533298737306, 1.2371806367240268, 0.36351975843928164, -0.22604926645818205, -0.6664127081099145, 1.3696975147006802, 0.5798010860119244, -0.592057266420742, -0.4007257037255129, 0.0604157024958049, 0.19956225440633601, -0.2386209677915759, -0.45382262875168244, -0.029871779297502257, -0.2860381306203588, 0.4140082157874592, 0.5257824581842769, -0.369657676375118]}, {\"line\": {\"color\": \"rgba(55, 128, 191, 1.0)\", \"dash\": \"solid\", \"shape\": \"linear\", \"width\": 1.3}, \"mode\": \"lines\", \"name\": \"B\", \"text\": \"\", \"type\": \"scatter\", \"x\": [0, 1, 2, 3, 4, 5, 6, 7, 8, 9, 10, 11, 12, 13, 14, 15, 16, 17, 18, 19, 20, 21, 22, 23, 24, 25, 26, 27, 28, 29, 30, 31, 32, 33, 34, 35, 36, 37, 38, 39, 40, 41, 42, 43, 44, 45, 46, 47, 48, 49, 50, 51, 52, 53, 54, 55, 56, 57, 58, 59, 60, 61, 62, 63, 64, 65, 66, 67, 68, 69, 70, 71, 72, 73, 74, 75, 76, 77, 78, 79, 80, 81, 82, 83, 84, 85, 86, 87, 88, 89, 90, 91, 92, 93, 94, 95, 96, 97, 98, 99], \"y\": [-0.4416109016685977, 1.5651155798664615, -0.486386343433522, -2.199567556381776, -0.9142935082338941, 0.06812640059682612, 0.4776202682694769, 1.0546625009640556, -0.6880548877398517, 1.8209757828156723, 1.5571718328009587, 1.1589728923099107, 1.163334643980302, -0.9964320957995271, 0.5229700623178248, -0.5422628084138779, -0.267673267490769, -2.542024338097646, 0.1892572429133559, 0.9531814741576196, 0.7493063574421213, 0.5023472703547277, -0.6404279709338484, -0.09415765433918766, -0.8473289830681051, 2.4475018491497593, -1.2457317162324226, -1.3811748213213695, 0.20239230418083937, 1.1660197139884207, 0.4389106508835806, -1.5696964379987275, -2.1470786229066596, -1.2716195718711647, -0.32431857246238116, -0.48671087904318966, 0.807176097279996, -0.4545226307330017, 0.9692805152724048, -0.5399406974702767, -0.9112616777512544, -0.714636963502582, 0.4401518992961405, 1.2112389619411343, -0.36511562219575633, -0.823735935608685, 0.6940529112251567, 1.2488733228033813, -0.8614307813991519, 2.347537155331469, -1.1135489104449754, -0.4266769291945704, -0.34983112284132795, -1.0800241937145774, -0.7310272741866767, 0.6143328644742845, -0.24735519775421033, 0.5218972511065154, 0.18495767661158455, 0.03356610062777415, -0.9264261222493289, -1.1715593013084677, 1.3667087323756861, -0.07870407832879851, 0.050980863247599886, -1.4353282576073432, -1.1057379385577595, -1.240759569480158, -1.435045518952723, 0.2866146102228182, -0.4321199550320402, 0.20803661832940504, -1.637427291219393, 1.195797731567711, 0.36417372075511256, 0.06277847213280971, -0.35012964109245687, 2.45863772791582, -0.21262565217949736, 0.08746166141915754, 0.11560547765517383, -1.75608505564241, 0.29493286266375646, -0.8759852777508496, 0.6355229301680484, -0.019587564842157068, -0.4184902249812962, 0.279985822989887, 1.0476231961393485, -1.4800776423230955, 0.8336250259779167, 1.1108395642941793, -3.550161594830222, -0.3630151021155685, -0.4319034238532681, 1.2014795760785844, -0.7163833677385238, -0.9322561095076094, 0.978279984551639, 0.3454873088830252]}, {\"connectgaps\": false, \"fill\": \"tozeroy\", \"line\": {\"color\": \"green\", \"dash\": \"solid\", \"shape\": \"linear\", \"width\": 0.5}, \"mode\": \"lines\", \"name\": \"Spread\", \"showlegend\": false, \"type\": \"scatter\", \"x\": [0, 1, 2, 3, 4, 5, 6, 7, 8, 9, 10, 11, 12, 13, 14, 15, 16, 17, 18, 19, 20, 21, 22, 23, 24, 25, 26, 27, 28, 29, 30, 31, 32, 33, 34, 35, 36, 37, 38, 39, 40, 41, 42, 43, 44, 45, 46, 47, 48, 49, 50, 51, 52, 53, 54, 55, 56, 57, 58, 59, 60, 61, 62, 63, 64, 65, 66, 67, 68, 69, 70, 71, 72, 73, 74, 75, 76, 77, 78, 79, 80, 81, 82, 83, 84, 85, 86, 87, 88, 89, 90, 91, 92, 93, 94, 95, 96, 97, 98, 99], \"xaxis\": \"x2\", \"y\": [\"\", \"\", 1.2215195126250544, 2.218315818783877, \"\", 1.5595671033919327, 0.009796191304624169, \"\", \"\", \"\", \"\", \"\", \"\", 2.80245171890863, \"\", \"\", \"\", 1.5304295569621613, 1.4797721883285009, \"\", \"\", \"\", 1.8654011796388272, 0.5572961782378074, 1.588207137889039, \"\", 0.3073337686172475, 3.595493801677006, \"\", \"\", 0.01358547790088821, 1.2847695923641098, 2.3479249609335464, 0.09203205167353068, \"\", 1.7993154332943098, \"\", 1.7973668087182564, \"\", 0.24188580290851203, 2.6144491520401103, 1.1185772995801648, \"\", \"\", 2.871276065803695, 0.5972233689081622, \"\", \"\", 1.6383300837143504, \"\", \"\", 1.0024240380662972, \"\", 1.1535191574782722, 1.1416182717183014, \"\", 0.17926966852524107, \"\", \"\", 1.111377707758569, \"\", 0.3642878221078484, \"\", 0.3193707004077852, \"\", 3.2077308174638453, 0.9528907666054737, 1.3941432174349346, 0.6407289461022387, \"\", 1.2903848319421642, \"\", 0.653817770906576, \"\", \"\", \"\", 1.8453100207767301, \"\", 0.6061333532722533, 0.7297796532505045, 0.39741910870312847, 1.1203439451700357, \"\", 2.1131659144748762, \"\", \"\", \"\", 1.0897116917107932, \"\", 0.8880203759023535, \"\", \"\", 3.749723849236558, 0.12439413432399257, \"\", \"\", 0.430345237118165, 1.3462643252950686, \"\", \"\"], \"yaxis\": \"y2\"}, {\"connectgaps\": false, \"fill\": \"tozeroy\", \"line\": {\"color\": \"red\", \"dash\": \"solid\", \"shape\": \"linear\", \"width\": 0.5}, \"mode\": \"lines\", \"name\": \"Spread\", \"showlegend\": false, \"type\": \"scatter\", \"x\": [0, 1, 2, 3, 4, 5, 6, 7, 8, 9, 10, 11, 12, 13, 14, 15, 16, 17, 18, 19, 20, 21, 22, 23, 24, 25, 26, 27, 28, 29, 30, 31, 32, 33, 34, 35, 36, 37, 38, 39, 40, 41, 42, 43, 44, 45, 46, 47, 48, 49, 50, 51, 52, 53, 54, 55, 56, 57, 58, 59, 60, 61, 62, 63, 64, 65, 66, 67, 68, 69, 70, 71, 72, 73, 74, 75, 76, 77, 78, 79, 80, 81, 82, 83, 84, 85, 86, 87, 88, 89, 90, 91, 92, 93, 94, 95, 96, 97, 98, 99], \"xaxis\": \"x2\", \"y\": [-0.24996872429233669, -2.4524005677965883, \"\", \"\", -0.46749577398455533, \"\", \"\", -0.33622818238196317, -1.2400715929283965, -2.7208991330578787, -3.3370901429848914, -0.25809073564944585, -0.9603163213604891, \"\", -0.8143444345462055, -0.46060524874870956, -0.5122992593161939, \"\", \"\", -1.9928721921535262, -0.6805909141473594, -1.3865710370277662, \"\", \"\", \"\", -3.028805691404994, \"\", \"\", -0.6259437312839273, -1.5865060570381404, \"\", \"\", \"\", \"\", -0.892791905572113, \"\", -0.7329348977445678, \"\", -3.8293165167248615, \"\", \"\", \"\", -0.8932162878300591, -0.6946187111267498, \"\", \"\", -1.1054038504257382, -0.8644022923071812, \"\", -1.9555672739779326, -0.13479355065616705, \"\", -0.6088275212663745, \"\", \"\", -0.2273871709373385, \"\", -0.8315242029555983, -0.29353813515889166, \"\", -0.18943996390273288, \"\", -2.186709644267212, \"\", -0.4782038212039659, \"\", \"\", \"\", \"\", -1.6919831734270485, \"\", -0.9502515459828438, \"\", -0.1876589086436491, -3.1767422621029016, -0.8295752684893797, \"\", -2.6348320950066664, \"\", \"\", \"\", \"\", -0.16277953279002585, \"\", -0.27200317172876676, -0.20646170161602498, -0.2479224831286183, \"\", -0.46782211012742414, \"\", -1.2343507297034295, -1.0504238617983743, \"\", \"\", -0.02191920489841437, -1.2313513553760866, \"\", \"\", -0.45249752636736207, -0.7151449852581432], \"yaxis\": \"y2\"}],                        {\"hovermode\": \"x\", \"legend\": {\"bgcolor\": \"#F5F6F9\", \"font\": {\"color\": \"#4D5663\"}}, \"paper_bgcolor\": \"#F5F6F9\", \"plot_bgcolor\": \"#F5F6F9\", \"template\": {\"data\": {\"bar\": [{\"error_x\": {\"color\": \"#2a3f5f\"}, \"error_y\": {\"color\": \"#2a3f5f\"}, \"marker\": {\"line\": {\"color\": \"#E5ECF6\", \"width\": 0.5}}, \"type\": \"bar\"}], \"barpolar\": [{\"marker\": {\"line\": {\"color\": \"#E5ECF6\", \"width\": 0.5}}, \"type\": \"barpolar\"}], \"carpet\": [{\"aaxis\": {\"endlinecolor\": \"#2a3f5f\", \"gridcolor\": \"white\", \"linecolor\": \"white\", \"minorgridcolor\": \"white\", \"startlinecolor\": \"#2a3f5f\"}, \"baxis\": {\"endlinecolor\": \"#2a3f5f\", \"gridcolor\": \"white\", \"linecolor\": \"white\", \"minorgridcolor\": \"white\", \"startlinecolor\": \"#2a3f5f\"}, \"type\": \"carpet\"}], \"choropleth\": [{\"colorbar\": {\"outlinewidth\": 0, \"ticks\": \"\"}, \"type\": \"choropleth\"}], \"contour\": [{\"colorbar\": {\"outlinewidth\": 0, \"ticks\": \"\"}, \"colorscale\": [[0.0, \"#0d0887\"], [0.1111111111111111, \"#46039f\"], [0.2222222222222222, \"#7201a8\"], [0.3333333333333333, \"#9c179e\"], [0.4444444444444444, \"#bd3786\"], [0.5555555555555556, \"#d8576b\"], [0.6666666666666666, \"#ed7953\"], [0.7777777777777778, \"#fb9f3a\"], [0.8888888888888888, \"#fdca26\"], [1.0, \"#f0f921\"]], \"type\": \"contour\"}], \"contourcarpet\": [{\"colorbar\": {\"outlinewidth\": 0, \"ticks\": \"\"}, \"type\": \"contourcarpet\"}], \"heatmap\": [{\"colorbar\": {\"outlinewidth\": 0, \"ticks\": \"\"}, \"colorscale\": [[0.0, \"#0d0887\"], [0.1111111111111111, \"#46039f\"], [0.2222222222222222, \"#7201a8\"], [0.3333333333333333, \"#9c179e\"], [0.4444444444444444, \"#bd3786\"], [0.5555555555555556, \"#d8576b\"], [0.6666666666666666, \"#ed7953\"], [0.7777777777777778, \"#fb9f3a\"], [0.8888888888888888, \"#fdca26\"], [1.0, \"#f0f921\"]], \"type\": \"heatmap\"}], \"heatmapgl\": [{\"colorbar\": {\"outlinewidth\": 0, \"ticks\": \"\"}, \"colorscale\": [[0.0, \"#0d0887\"], [0.1111111111111111, \"#46039f\"], [0.2222222222222222, \"#7201a8\"], [0.3333333333333333, \"#9c179e\"], [0.4444444444444444, \"#bd3786\"], [0.5555555555555556, \"#d8576b\"], [0.6666666666666666, \"#ed7953\"], [0.7777777777777778, \"#fb9f3a\"], [0.8888888888888888, \"#fdca26\"], [1.0, \"#f0f921\"]], \"type\": \"heatmapgl\"}], \"histogram\": [{\"marker\": {\"colorbar\": {\"outlinewidth\": 0, \"ticks\": \"\"}}, \"type\": \"histogram\"}], \"histogram2d\": [{\"colorbar\": {\"outlinewidth\": 0, \"ticks\": \"\"}, \"colorscale\": [[0.0, \"#0d0887\"], [0.1111111111111111, \"#46039f\"], [0.2222222222222222, \"#7201a8\"], [0.3333333333333333, \"#9c179e\"], [0.4444444444444444, \"#bd3786\"], [0.5555555555555556, \"#d8576b\"], [0.6666666666666666, \"#ed7953\"], [0.7777777777777778, \"#fb9f3a\"], [0.8888888888888888, \"#fdca26\"], [1.0, \"#f0f921\"]], \"type\": \"histogram2d\"}], \"histogram2dcontour\": [{\"colorbar\": {\"outlinewidth\": 0, \"ticks\": \"\"}, \"colorscale\": [[0.0, \"#0d0887\"], [0.1111111111111111, \"#46039f\"], [0.2222222222222222, \"#7201a8\"], [0.3333333333333333, \"#9c179e\"], [0.4444444444444444, \"#bd3786\"], [0.5555555555555556, \"#d8576b\"], [0.6666666666666666, \"#ed7953\"], [0.7777777777777778, \"#fb9f3a\"], [0.8888888888888888, \"#fdca26\"], [1.0, \"#f0f921\"]], \"type\": \"histogram2dcontour\"}], \"mesh3d\": [{\"colorbar\": {\"outlinewidth\": 0, \"ticks\": \"\"}, \"type\": \"mesh3d\"}], \"parcoords\": [{\"line\": {\"colorbar\": {\"outlinewidth\": 0, \"ticks\": \"\"}}, \"type\": \"parcoords\"}], \"pie\": [{\"automargin\": true, \"type\": \"pie\"}], \"scatter\": [{\"marker\": {\"colorbar\": {\"outlinewidth\": 0, \"ticks\": \"\"}}, \"type\": \"scatter\"}], \"scatter3d\": [{\"line\": {\"colorbar\": {\"outlinewidth\": 0, \"ticks\": \"\"}}, \"marker\": {\"colorbar\": {\"outlinewidth\": 0, \"ticks\": \"\"}}, \"type\": \"scatter3d\"}], \"scattercarpet\": [{\"marker\": {\"colorbar\": {\"outlinewidth\": 0, \"ticks\": \"\"}}, \"type\": \"scattercarpet\"}], \"scattergeo\": [{\"marker\": {\"colorbar\": {\"outlinewidth\": 0, \"ticks\": \"\"}}, \"type\": \"scattergeo\"}], \"scattergl\": [{\"marker\": {\"colorbar\": {\"outlinewidth\": 0, \"ticks\": \"\"}}, \"type\": \"scattergl\"}], \"scattermapbox\": [{\"marker\": {\"colorbar\": {\"outlinewidth\": 0, \"ticks\": \"\"}}, \"type\": \"scattermapbox\"}], \"scatterpolar\": [{\"marker\": {\"colorbar\": {\"outlinewidth\": 0, \"ticks\": \"\"}}, \"type\": \"scatterpolar\"}], \"scatterpolargl\": [{\"marker\": {\"colorbar\": {\"outlinewidth\": 0, \"ticks\": \"\"}}, \"type\": \"scatterpolargl\"}], \"scatterternary\": [{\"marker\": {\"colorbar\": {\"outlinewidth\": 0, \"ticks\": \"\"}}, \"type\": \"scatterternary\"}], \"surface\": [{\"colorbar\": {\"outlinewidth\": 0, \"ticks\": \"\"}, \"colorscale\": [[0.0, \"#0d0887\"], [0.1111111111111111, \"#46039f\"], [0.2222222222222222, \"#7201a8\"], [0.3333333333333333, \"#9c179e\"], [0.4444444444444444, \"#bd3786\"], [0.5555555555555556, \"#d8576b\"], [0.6666666666666666, \"#ed7953\"], [0.7777777777777778, \"#fb9f3a\"], [0.8888888888888888, \"#fdca26\"], [1.0, \"#f0f921\"]], \"type\": \"surface\"}], \"table\": [{\"cells\": {\"fill\": {\"color\": \"#EBF0F8\"}, \"line\": {\"color\": \"white\"}}, \"header\": {\"fill\": {\"color\": \"#C8D4E3\"}, \"line\": {\"color\": \"white\"}}, \"type\": \"table\"}]}, \"layout\": {\"annotationdefaults\": {\"arrowcolor\": \"#2a3f5f\", \"arrowhead\": 0, \"arrowwidth\": 1}, \"autotypenumbers\": \"strict\", \"coloraxis\": {\"colorbar\": {\"outlinewidth\": 0, \"ticks\": \"\"}}, \"colorscale\": {\"diverging\": [[0, \"#8e0152\"], [0.1, \"#c51b7d\"], [0.2, \"#de77ae\"], [0.3, \"#f1b6da\"], [0.4, \"#fde0ef\"], [0.5, \"#f7f7f7\"], [0.6, \"#e6f5d0\"], [0.7, \"#b8e186\"], [0.8, \"#7fbc41\"], [0.9, \"#4d9221\"], [1, \"#276419\"]], \"sequential\": [[0.0, \"#0d0887\"], [0.1111111111111111, \"#46039f\"], [0.2222222222222222, \"#7201a8\"], [0.3333333333333333, \"#9c179e\"], [0.4444444444444444, \"#bd3786\"], [0.5555555555555556, \"#d8576b\"], [0.6666666666666666, \"#ed7953\"], [0.7777777777777778, \"#fb9f3a\"], [0.8888888888888888, \"#fdca26\"], [1.0, \"#f0f921\"]], \"sequentialminus\": [[0.0, \"#0d0887\"], [0.1111111111111111, \"#46039f\"], [0.2222222222222222, \"#7201a8\"], [0.3333333333333333, \"#9c179e\"], [0.4444444444444444, \"#bd3786\"], [0.5555555555555556, \"#d8576b\"], [0.6666666666666666, \"#ed7953\"], [0.7777777777777778, \"#fb9f3a\"], [0.8888888888888888, \"#fdca26\"], [1.0, \"#f0f921\"]]}, \"colorway\": [\"#636efa\", \"#EF553B\", \"#00cc96\", \"#ab63fa\", \"#FFA15A\", \"#19d3f3\", \"#FF6692\", \"#B6E880\", \"#FF97FF\", \"#FECB52\"], \"font\": {\"color\": \"#2a3f5f\"}, \"geo\": {\"bgcolor\": \"white\", \"lakecolor\": \"white\", \"landcolor\": \"#E5ECF6\", \"showlakes\": true, \"showland\": true, \"subunitcolor\": \"white\"}, \"hoverlabel\": {\"align\": \"left\"}, \"hovermode\": \"closest\", \"mapbox\": {\"style\": \"light\"}, \"paper_bgcolor\": \"white\", \"plot_bgcolor\": \"#E5ECF6\", \"polar\": {\"angularaxis\": {\"gridcolor\": \"white\", \"linecolor\": \"white\", \"ticks\": \"\"}, \"bgcolor\": \"#E5ECF6\", \"radialaxis\": {\"gridcolor\": \"white\", \"linecolor\": \"white\", \"ticks\": \"\"}}, \"scene\": {\"xaxis\": {\"backgroundcolor\": \"#E5ECF6\", \"gridcolor\": \"white\", \"gridwidth\": 2, \"linecolor\": \"white\", \"showbackground\": true, \"ticks\": \"\", \"zerolinecolor\": \"white\"}, \"yaxis\": {\"backgroundcolor\": \"#E5ECF6\", \"gridcolor\": \"white\", \"gridwidth\": 2, \"linecolor\": \"white\", \"showbackground\": true, \"ticks\": \"\", \"zerolinecolor\": \"white\"}, \"zaxis\": {\"backgroundcolor\": \"#E5ECF6\", \"gridcolor\": \"white\", \"gridwidth\": 2, \"linecolor\": \"white\", \"showbackground\": true, \"ticks\": \"\", \"zerolinecolor\": \"white\"}}, \"shapedefaults\": {\"line\": {\"color\": \"#2a3f5f\"}}, \"ternary\": {\"aaxis\": {\"gridcolor\": \"white\", \"linecolor\": \"white\", \"ticks\": \"\"}, \"baxis\": {\"gridcolor\": \"white\", \"linecolor\": \"white\", \"ticks\": \"\"}, \"bgcolor\": \"#E5ECF6\", \"caxis\": {\"gridcolor\": \"white\", \"linecolor\": \"white\", \"ticks\": \"\"}}, \"title\": {\"x\": 0.05}, \"xaxis\": {\"automargin\": true, \"gridcolor\": \"white\", \"linecolor\": \"white\", \"ticks\": \"\", \"title\": {\"standoff\": 15}, \"zerolinecolor\": \"white\", \"zerolinewidth\": 2}, \"yaxis\": {\"automargin\": true, \"gridcolor\": \"white\", \"linecolor\": \"white\", \"ticks\": \"\", \"title\": {\"standoff\": 15}, \"zerolinecolor\": \"white\", \"zerolinewidth\": 2}}}, \"title\": {\"font\": {\"color\": \"#4D5663\"}}, \"xaxis\": {\"gridcolor\": \"#E1E5ED\", \"showgrid\": true, \"tickfont\": {\"color\": \"#4D5663\"}, \"title\": {\"font\": {\"color\": \"#4D5663\"}, \"text\": \"\"}, \"zerolinecolor\": \"#E1E5ED\"}, \"xaxis2\": {\"anchor\": \"y2\", \"gridcolor\": \"#E1E5ED\", \"showgrid\": true, \"showticklabels\": false, \"tickfont\": {\"color\": \"#4D5663\"}, \"title\": {\"font\": {\"color\": \"#4D5663\"}, \"text\": \"\"}, \"zerolinecolor\": \"#E1E5ED\"}, \"yaxis\": {\"domain\": [0.3, 1], \"gridcolor\": \"#E1E5ED\", \"showgrid\": true, \"tickfont\": {\"color\": \"#4D5663\"}, \"title\": {\"font\": {\"color\": \"#4D5663\"}, \"text\": \"\"}, \"zerolinecolor\": \"#E1E5ED\"}, \"yaxis2\": {\"domain\": [0, 0.25], \"gridcolor\": \"#E1E5ED\", \"showgrid\": true, \"tickfont\": {\"color\": \"#4D5663\"}, \"title\": {\"font\": {\"color\": \"#4D5663\"}, \"text\": \"Spread\"}, \"zerolinecolor\": \"#E1E5ED\"}},                        {\"showLink\": true, \"linkText\": \"Export to plot.ly\", \"plotlyServerURL\": \"https://plot.ly\", \"responsive\": true}                    ).then(function(){\n",
       "                            \n",
       "var gd = document.getElementById('39e4c318-0ad3-4551-b88c-66d1003e1f15');\n",
       "var x = new MutationObserver(function (mutations, observer) {{\n",
       "        var display = window.getComputedStyle(gd).display;\n",
       "        if (!display || display === 'none') {{\n",
       "            console.log([gd, 'removed!']);\n",
       "            Plotly.purge(gd);\n",
       "            observer.disconnect();\n",
       "        }}\n",
       "}});\n",
       "\n",
       "// Listen for the removal of the full notebook cells\n",
       "var notebookContainer = gd.closest('#notebook-container');\n",
       "if (notebookContainer) {{\n",
       "    x.observe(notebookContainer, {childList: true});\n",
       "}}\n",
       "\n",
       "// Listen for the clearing of the current output cell\n",
       "var outputEl = gd.closest('.output');\n",
       "if (outputEl) {{\n",
       "    x.observe(outputEl, {childList: true});\n",
       "}}\n",
       "\n",
       "                        })                };                });            </script>        </div>"
      ]
     },
     "metadata": {},
     "output_type": "display_data"
    }
   ],
   "source": [
    "df[[\"A\",\"B\"]].iplot(kind=\"spread\")"
   ]
  },
  {
   "cell_type": "code",
   "execution_count": 17,
   "metadata": {},
   "outputs": [
    {
     "data": {
      "application/vnd.plotly.v1+json": {
       "config": {
        "linkText": "Export to plot.ly",
        "plotlyServerURL": "https://plot.ly",
        "showLink": true
       },
       "data": [
        {
         "histfunc": "count",
         "histnorm": "",
         "marker": {
          "color": "rgba(255, 153, 51, 1.0)",
          "line": {
           "color": "#4D5663",
           "width": 1.3
          }
         },
         "name": "A",
         "nbinsx": 50,
         "opacity": 0.8,
         "orientation": "v",
         "type": "histogram",
         "x": [
          -0.6915796259609344,
          -0.8872849879301269,
          0.7351331691915325,
          0.0187482624021014,
          -1.3817892822184494,
          1.6276935039887588,
          0.48741645957410107,
          0.7184343185820924,
          -1.9281264806682483,
          -0.8999233502422062,
          -1.7799183101839324,
          0.9008821566604649,
          0.20301832261981306,
          1.8060196231091028,
          -0.2913743722283807,
          -1.0028680571625874,
          -0.7799725268069628,
          -1.0115947811354846,
          1.6690294312418568,
          -1.0396907179959067,
          0.06871544329476185,
          -0.8842237666730386,
          1.224973208704979,
          0.4631385238986198,
          0.740878154820934,
          -0.5813038422552343,
          -0.9383979476151751,
          2.2143189803556362,
          -0.423551427103088,
          -0.42048634304971966,
          0.4524961287844688,
          -0.2849268456346176,
          0.20084633802688698,
          -1.179587520197634,
          -1.2171104780344941,
          1.31260455425112,
          0.07424119953542815,
          1.3428441779852547,
          -2.860036001452457,
          -0.2980548945617647,
          1.7031874742888558,
          0.4039403360775828,
          -0.4530643885339186,
          0.5166202508143846,
          2.5061604436079388,
          -0.22651256670052275,
          -0.4113509392005815,
          0.3844710304962001,
          0.7768993023151984,
          0.3919698813535365,
          -1.2483424611011424,
          0.5757471088717269,
          -0.9586586441077025,
          0.07349496376369483,
          0.4105909975316248,
          0.38694569353694597,
          -0.06808552922896927,
          -0.30962695184908284,
          -0.10858045854730711,
          1.144943808386343,
          -1.1158660861520617,
          -0.8072714792006194,
          -0.8200009118915258,
          0.2406666220789867,
          -0.427222957956366,
          1.772402559856502,
          -0.15284717195228584,
          0.15338364795477655,
          -0.7943165728504842,
          -1.4053685632042303,
          0.8582648769101241,
          -0.7422149276534388,
          -0.983609520312817,
          1.008138822924062,
          -2.812568541347789,
          -0.7667967963565699,
          1.4951803796842733,
          -0.17619436709084627,
          0.39350770109275585,
          0.8172413146696621,
          0.5130245863583023,
          -0.6357411104723741,
          0.1321533298737306,
          1.2371806367240268,
          0.36351975843928164,
          -0.22604926645818205,
          -0.6664127081099145,
          1.3696975147006802,
          0.5798010860119244,
          -0.592057266420742,
          -0.4007257037255129,
          0.0604157024958049,
          0.19956225440633601,
          -0.2386209677915759,
          -0.45382262875168244,
          -0.029871779297502257,
          -0.2860381306203588,
          0.4140082157874592,
          0.5257824581842769,
          -0.369657676375118
         ]
        }
       ],
       "layout": {
        "barmode": "overlay",
        "legend": {
         "bgcolor": "#F5F6F9",
         "font": {
          "color": "#4D5663"
         }
        },
        "paper_bgcolor": "#F5F6F9",
        "plot_bgcolor": "#F5F6F9",
        "template": {
         "data": {
          "bar": [
           {
            "error_x": {
             "color": "#2a3f5f"
            },
            "error_y": {
             "color": "#2a3f5f"
            },
            "marker": {
             "line": {
              "color": "#E5ECF6",
              "width": 0.5
             }
            },
            "type": "bar"
           }
          ],
          "barpolar": [
           {
            "marker": {
             "line": {
              "color": "#E5ECF6",
              "width": 0.5
             }
            },
            "type": "barpolar"
           }
          ],
          "carpet": [
           {
            "aaxis": {
             "endlinecolor": "#2a3f5f",
             "gridcolor": "white",
             "linecolor": "white",
             "minorgridcolor": "white",
             "startlinecolor": "#2a3f5f"
            },
            "baxis": {
             "endlinecolor": "#2a3f5f",
             "gridcolor": "white",
             "linecolor": "white",
             "minorgridcolor": "white",
             "startlinecolor": "#2a3f5f"
            },
            "type": "carpet"
           }
          ],
          "choropleth": [
           {
            "colorbar": {
             "outlinewidth": 0,
             "ticks": ""
            },
            "type": "choropleth"
           }
          ],
          "contour": [
           {
            "colorbar": {
             "outlinewidth": 0,
             "ticks": ""
            },
            "colorscale": [
             [
              0,
              "#0d0887"
             ],
             [
              0.1111111111111111,
              "#46039f"
             ],
             [
              0.2222222222222222,
              "#7201a8"
             ],
             [
              0.3333333333333333,
              "#9c179e"
             ],
             [
              0.4444444444444444,
              "#bd3786"
             ],
             [
              0.5555555555555556,
              "#d8576b"
             ],
             [
              0.6666666666666666,
              "#ed7953"
             ],
             [
              0.7777777777777778,
              "#fb9f3a"
             ],
             [
              0.8888888888888888,
              "#fdca26"
             ],
             [
              1,
              "#f0f921"
             ]
            ],
            "type": "contour"
           }
          ],
          "contourcarpet": [
           {
            "colorbar": {
             "outlinewidth": 0,
             "ticks": ""
            },
            "type": "contourcarpet"
           }
          ],
          "heatmap": [
           {
            "colorbar": {
             "outlinewidth": 0,
             "ticks": ""
            },
            "colorscale": [
             [
              0,
              "#0d0887"
             ],
             [
              0.1111111111111111,
              "#46039f"
             ],
             [
              0.2222222222222222,
              "#7201a8"
             ],
             [
              0.3333333333333333,
              "#9c179e"
             ],
             [
              0.4444444444444444,
              "#bd3786"
             ],
             [
              0.5555555555555556,
              "#d8576b"
             ],
             [
              0.6666666666666666,
              "#ed7953"
             ],
             [
              0.7777777777777778,
              "#fb9f3a"
             ],
             [
              0.8888888888888888,
              "#fdca26"
             ],
             [
              1,
              "#f0f921"
             ]
            ],
            "type": "heatmap"
           }
          ],
          "heatmapgl": [
           {
            "colorbar": {
             "outlinewidth": 0,
             "ticks": ""
            },
            "colorscale": [
             [
              0,
              "#0d0887"
             ],
             [
              0.1111111111111111,
              "#46039f"
             ],
             [
              0.2222222222222222,
              "#7201a8"
             ],
             [
              0.3333333333333333,
              "#9c179e"
             ],
             [
              0.4444444444444444,
              "#bd3786"
             ],
             [
              0.5555555555555556,
              "#d8576b"
             ],
             [
              0.6666666666666666,
              "#ed7953"
             ],
             [
              0.7777777777777778,
              "#fb9f3a"
             ],
             [
              0.8888888888888888,
              "#fdca26"
             ],
             [
              1,
              "#f0f921"
             ]
            ],
            "type": "heatmapgl"
           }
          ],
          "histogram": [
           {
            "marker": {
             "colorbar": {
              "outlinewidth": 0,
              "ticks": ""
             }
            },
            "type": "histogram"
           }
          ],
          "histogram2d": [
           {
            "colorbar": {
             "outlinewidth": 0,
             "ticks": ""
            },
            "colorscale": [
             [
              0,
              "#0d0887"
             ],
             [
              0.1111111111111111,
              "#46039f"
             ],
             [
              0.2222222222222222,
              "#7201a8"
             ],
             [
              0.3333333333333333,
              "#9c179e"
             ],
             [
              0.4444444444444444,
              "#bd3786"
             ],
             [
              0.5555555555555556,
              "#d8576b"
             ],
             [
              0.6666666666666666,
              "#ed7953"
             ],
             [
              0.7777777777777778,
              "#fb9f3a"
             ],
             [
              0.8888888888888888,
              "#fdca26"
             ],
             [
              1,
              "#f0f921"
             ]
            ],
            "type": "histogram2d"
           }
          ],
          "histogram2dcontour": [
           {
            "colorbar": {
             "outlinewidth": 0,
             "ticks": ""
            },
            "colorscale": [
             [
              0,
              "#0d0887"
             ],
             [
              0.1111111111111111,
              "#46039f"
             ],
             [
              0.2222222222222222,
              "#7201a8"
             ],
             [
              0.3333333333333333,
              "#9c179e"
             ],
             [
              0.4444444444444444,
              "#bd3786"
             ],
             [
              0.5555555555555556,
              "#d8576b"
             ],
             [
              0.6666666666666666,
              "#ed7953"
             ],
             [
              0.7777777777777778,
              "#fb9f3a"
             ],
             [
              0.8888888888888888,
              "#fdca26"
             ],
             [
              1,
              "#f0f921"
             ]
            ],
            "type": "histogram2dcontour"
           }
          ],
          "mesh3d": [
           {
            "colorbar": {
             "outlinewidth": 0,
             "ticks": ""
            },
            "type": "mesh3d"
           }
          ],
          "parcoords": [
           {
            "line": {
             "colorbar": {
              "outlinewidth": 0,
              "ticks": ""
             }
            },
            "type": "parcoords"
           }
          ],
          "pie": [
           {
            "automargin": true,
            "type": "pie"
           }
          ],
          "scatter": [
           {
            "marker": {
             "colorbar": {
              "outlinewidth": 0,
              "ticks": ""
             }
            },
            "type": "scatter"
           }
          ],
          "scatter3d": [
           {
            "line": {
             "colorbar": {
              "outlinewidth": 0,
              "ticks": ""
             }
            },
            "marker": {
             "colorbar": {
              "outlinewidth": 0,
              "ticks": ""
             }
            },
            "type": "scatter3d"
           }
          ],
          "scattercarpet": [
           {
            "marker": {
             "colorbar": {
              "outlinewidth": 0,
              "ticks": ""
             }
            },
            "type": "scattercarpet"
           }
          ],
          "scattergeo": [
           {
            "marker": {
             "colorbar": {
              "outlinewidth": 0,
              "ticks": ""
             }
            },
            "type": "scattergeo"
           }
          ],
          "scattergl": [
           {
            "marker": {
             "colorbar": {
              "outlinewidth": 0,
              "ticks": ""
             }
            },
            "type": "scattergl"
           }
          ],
          "scattermapbox": [
           {
            "marker": {
             "colorbar": {
              "outlinewidth": 0,
              "ticks": ""
             }
            },
            "type": "scattermapbox"
           }
          ],
          "scatterpolar": [
           {
            "marker": {
             "colorbar": {
              "outlinewidth": 0,
              "ticks": ""
             }
            },
            "type": "scatterpolar"
           }
          ],
          "scatterpolargl": [
           {
            "marker": {
             "colorbar": {
              "outlinewidth": 0,
              "ticks": ""
             }
            },
            "type": "scatterpolargl"
           }
          ],
          "scatterternary": [
           {
            "marker": {
             "colorbar": {
              "outlinewidth": 0,
              "ticks": ""
             }
            },
            "type": "scatterternary"
           }
          ],
          "surface": [
           {
            "colorbar": {
             "outlinewidth": 0,
             "ticks": ""
            },
            "colorscale": [
             [
              0,
              "#0d0887"
             ],
             [
              0.1111111111111111,
              "#46039f"
             ],
             [
              0.2222222222222222,
              "#7201a8"
             ],
             [
              0.3333333333333333,
              "#9c179e"
             ],
             [
              0.4444444444444444,
              "#bd3786"
             ],
             [
              0.5555555555555556,
              "#d8576b"
             ],
             [
              0.6666666666666666,
              "#ed7953"
             ],
             [
              0.7777777777777778,
              "#fb9f3a"
             ],
             [
              0.8888888888888888,
              "#fdca26"
             ],
             [
              1,
              "#f0f921"
             ]
            ],
            "type": "surface"
           }
          ],
          "table": [
           {
            "cells": {
             "fill": {
              "color": "#EBF0F8"
             },
             "line": {
              "color": "white"
             }
            },
            "header": {
             "fill": {
              "color": "#C8D4E3"
             },
             "line": {
              "color": "white"
             }
            },
            "type": "table"
           }
          ]
         },
         "layout": {
          "annotationdefaults": {
           "arrowcolor": "#2a3f5f",
           "arrowhead": 0,
           "arrowwidth": 1
          },
          "autotypenumbers": "strict",
          "coloraxis": {
           "colorbar": {
            "outlinewidth": 0,
            "ticks": ""
           }
          },
          "colorscale": {
           "diverging": [
            [
             0,
             "#8e0152"
            ],
            [
             0.1,
             "#c51b7d"
            ],
            [
             0.2,
             "#de77ae"
            ],
            [
             0.3,
             "#f1b6da"
            ],
            [
             0.4,
             "#fde0ef"
            ],
            [
             0.5,
             "#f7f7f7"
            ],
            [
             0.6,
             "#e6f5d0"
            ],
            [
             0.7,
             "#b8e186"
            ],
            [
             0.8,
             "#7fbc41"
            ],
            [
             0.9,
             "#4d9221"
            ],
            [
             1,
             "#276419"
            ]
           ],
           "sequential": [
            [
             0,
             "#0d0887"
            ],
            [
             0.1111111111111111,
             "#46039f"
            ],
            [
             0.2222222222222222,
             "#7201a8"
            ],
            [
             0.3333333333333333,
             "#9c179e"
            ],
            [
             0.4444444444444444,
             "#bd3786"
            ],
            [
             0.5555555555555556,
             "#d8576b"
            ],
            [
             0.6666666666666666,
             "#ed7953"
            ],
            [
             0.7777777777777778,
             "#fb9f3a"
            ],
            [
             0.8888888888888888,
             "#fdca26"
            ],
            [
             1,
             "#f0f921"
            ]
           ],
           "sequentialminus": [
            [
             0,
             "#0d0887"
            ],
            [
             0.1111111111111111,
             "#46039f"
            ],
            [
             0.2222222222222222,
             "#7201a8"
            ],
            [
             0.3333333333333333,
             "#9c179e"
            ],
            [
             0.4444444444444444,
             "#bd3786"
            ],
            [
             0.5555555555555556,
             "#d8576b"
            ],
            [
             0.6666666666666666,
             "#ed7953"
            ],
            [
             0.7777777777777778,
             "#fb9f3a"
            ],
            [
             0.8888888888888888,
             "#fdca26"
            ],
            [
             1,
             "#f0f921"
            ]
           ]
          },
          "colorway": [
           "#636efa",
           "#EF553B",
           "#00cc96",
           "#ab63fa",
           "#FFA15A",
           "#19d3f3",
           "#FF6692",
           "#B6E880",
           "#FF97FF",
           "#FECB52"
          ],
          "font": {
           "color": "#2a3f5f"
          },
          "geo": {
           "bgcolor": "white",
           "lakecolor": "white",
           "landcolor": "#E5ECF6",
           "showlakes": true,
           "showland": true,
           "subunitcolor": "white"
          },
          "hoverlabel": {
           "align": "left"
          },
          "hovermode": "closest",
          "mapbox": {
           "style": "light"
          },
          "paper_bgcolor": "white",
          "plot_bgcolor": "#E5ECF6",
          "polar": {
           "angularaxis": {
            "gridcolor": "white",
            "linecolor": "white",
            "ticks": ""
           },
           "bgcolor": "#E5ECF6",
           "radialaxis": {
            "gridcolor": "white",
            "linecolor": "white",
            "ticks": ""
           }
          },
          "scene": {
           "xaxis": {
            "backgroundcolor": "#E5ECF6",
            "gridcolor": "white",
            "gridwidth": 2,
            "linecolor": "white",
            "showbackground": true,
            "ticks": "",
            "zerolinecolor": "white"
           },
           "yaxis": {
            "backgroundcolor": "#E5ECF6",
            "gridcolor": "white",
            "gridwidth": 2,
            "linecolor": "white",
            "showbackground": true,
            "ticks": "",
            "zerolinecolor": "white"
           },
           "zaxis": {
            "backgroundcolor": "#E5ECF6",
            "gridcolor": "white",
            "gridwidth": 2,
            "linecolor": "white",
            "showbackground": true,
            "ticks": "",
            "zerolinecolor": "white"
           }
          },
          "shapedefaults": {
           "line": {
            "color": "#2a3f5f"
           }
          },
          "ternary": {
           "aaxis": {
            "gridcolor": "white",
            "linecolor": "white",
            "ticks": ""
           },
           "baxis": {
            "gridcolor": "white",
            "linecolor": "white",
            "ticks": ""
           },
           "bgcolor": "#E5ECF6",
           "caxis": {
            "gridcolor": "white",
            "linecolor": "white",
            "ticks": ""
           }
          },
          "title": {
           "x": 0.05
          },
          "xaxis": {
           "automargin": true,
           "gridcolor": "white",
           "linecolor": "white",
           "ticks": "",
           "title": {
            "standoff": 15
           },
           "zerolinecolor": "white",
           "zerolinewidth": 2
          },
          "yaxis": {
           "automargin": true,
           "gridcolor": "white",
           "linecolor": "white",
           "ticks": "",
           "title": {
            "standoff": 15
           },
           "zerolinecolor": "white",
           "zerolinewidth": 2
          }
         }
        },
        "title": {
         "font": {
          "color": "#4D5663"
         }
        },
        "xaxis": {
         "gridcolor": "#E1E5ED",
         "showgrid": true,
         "tickfont": {
          "color": "#4D5663"
         },
         "title": {
          "font": {
           "color": "#4D5663"
          },
          "text": ""
         },
         "zerolinecolor": "#E1E5ED"
        },
        "yaxis": {
         "gridcolor": "#E1E5ED",
         "showgrid": true,
         "tickfont": {
          "color": "#4D5663"
         },
         "title": {
          "font": {
           "color": "#4D5663"
          },
          "text": ""
         },
         "zerolinecolor": "#E1E5ED"
        }
       }
      },
      "text/html": [
       "<div>                            <div id=\"2c1fb9b7-00e4-499a-a857-6d2782a6da4b\" class=\"plotly-graph-div\" style=\"height:525px; width:100%;\"></div>            <script type=\"text/javascript\">                require([\"plotly\"], function(Plotly) {                    window.PLOTLYENV=window.PLOTLYENV || {};\n",
       "                    window.PLOTLYENV.BASE_URL='https://plot.ly';                                    if (document.getElementById(\"2c1fb9b7-00e4-499a-a857-6d2782a6da4b\")) {                    Plotly.newPlot(                        \"2c1fb9b7-00e4-499a-a857-6d2782a6da4b\",                        [{\"histfunc\": \"count\", \"histnorm\": \"\", \"marker\": {\"color\": \"rgba(255, 153, 51, 1.0)\", \"line\": {\"color\": \"#4D5663\", \"width\": 1.3}}, \"name\": \"A\", \"nbinsx\": 50, \"opacity\": 0.8, \"orientation\": \"v\", \"type\": \"histogram\", \"x\": [-0.6915796259609344, -0.8872849879301269, 0.7351331691915325, 0.0187482624021014, -1.3817892822184494, 1.6276935039887588, 0.48741645957410107, 0.7184343185820924, -1.9281264806682483, -0.8999233502422062, -1.7799183101839324, 0.9008821566604649, 0.20301832261981306, 1.8060196231091028, -0.2913743722283807, -1.0028680571625874, -0.7799725268069628, -1.0115947811354846, 1.6690294312418568, -1.0396907179959067, 0.06871544329476185, -0.8842237666730386, 1.224973208704979, 0.4631385238986198, 0.740878154820934, -0.5813038422552343, -0.9383979476151751, 2.2143189803556362, -0.423551427103088, -0.42048634304971966, 0.4524961287844688, -0.2849268456346176, 0.20084633802688698, -1.179587520197634, -1.2171104780344941, 1.31260455425112, 0.07424119953542815, 1.3428441779852547, -2.860036001452457, -0.2980548945617647, 1.7031874742888558, 0.4039403360775828, -0.4530643885339186, 0.5166202508143846, 2.5061604436079388, -0.22651256670052275, -0.4113509392005815, 0.3844710304962001, 0.7768993023151984, 0.3919698813535365, -1.2483424611011424, 0.5757471088717269, -0.9586586441077025, 0.07349496376369483, 0.4105909975316248, 0.38694569353694597, -0.06808552922896927, -0.30962695184908284, -0.10858045854730711, 1.144943808386343, -1.1158660861520617, -0.8072714792006194, -0.8200009118915258, 0.2406666220789867, -0.427222957956366, 1.772402559856502, -0.15284717195228584, 0.15338364795477655, -0.7943165728504842, -1.4053685632042303, 0.8582648769101241, -0.7422149276534388, -0.983609520312817, 1.008138822924062, -2.812568541347789, -0.7667967963565699, 1.4951803796842733, -0.17619436709084627, 0.39350770109275585, 0.8172413146696621, 0.5130245863583023, -0.6357411104723741, 0.1321533298737306, 1.2371806367240268, 0.36351975843928164, -0.22604926645818205, -0.6664127081099145, 1.3696975147006802, 0.5798010860119244, -0.592057266420742, -0.4007257037255129, 0.0604157024958049, 0.19956225440633601, -0.2386209677915759, -0.45382262875168244, -0.029871779297502257, -0.2860381306203588, 0.4140082157874592, 0.5257824581842769, -0.369657676375118]}],                        {\"barmode\": \"overlay\", \"legend\": {\"bgcolor\": \"#F5F6F9\", \"font\": {\"color\": \"#4D5663\"}}, \"paper_bgcolor\": \"#F5F6F9\", \"plot_bgcolor\": \"#F5F6F9\", \"template\": {\"data\": {\"bar\": [{\"error_x\": {\"color\": \"#2a3f5f\"}, \"error_y\": {\"color\": \"#2a3f5f\"}, \"marker\": {\"line\": {\"color\": \"#E5ECF6\", \"width\": 0.5}}, \"type\": \"bar\"}], \"barpolar\": [{\"marker\": {\"line\": {\"color\": \"#E5ECF6\", \"width\": 0.5}}, \"type\": \"barpolar\"}], \"carpet\": [{\"aaxis\": {\"endlinecolor\": \"#2a3f5f\", \"gridcolor\": \"white\", \"linecolor\": \"white\", \"minorgridcolor\": \"white\", \"startlinecolor\": \"#2a3f5f\"}, \"baxis\": {\"endlinecolor\": \"#2a3f5f\", \"gridcolor\": \"white\", \"linecolor\": \"white\", \"minorgridcolor\": \"white\", \"startlinecolor\": \"#2a3f5f\"}, \"type\": \"carpet\"}], \"choropleth\": [{\"colorbar\": {\"outlinewidth\": 0, \"ticks\": \"\"}, \"type\": \"choropleth\"}], \"contour\": [{\"colorbar\": {\"outlinewidth\": 0, \"ticks\": \"\"}, \"colorscale\": [[0.0, \"#0d0887\"], [0.1111111111111111, \"#46039f\"], [0.2222222222222222, \"#7201a8\"], [0.3333333333333333, \"#9c179e\"], [0.4444444444444444, \"#bd3786\"], [0.5555555555555556, \"#d8576b\"], [0.6666666666666666, \"#ed7953\"], [0.7777777777777778, \"#fb9f3a\"], [0.8888888888888888, \"#fdca26\"], [1.0, \"#f0f921\"]], \"type\": \"contour\"}], \"contourcarpet\": [{\"colorbar\": {\"outlinewidth\": 0, \"ticks\": \"\"}, \"type\": \"contourcarpet\"}], \"heatmap\": [{\"colorbar\": {\"outlinewidth\": 0, \"ticks\": \"\"}, \"colorscale\": [[0.0, \"#0d0887\"], [0.1111111111111111, \"#46039f\"], [0.2222222222222222, \"#7201a8\"], [0.3333333333333333, \"#9c179e\"], [0.4444444444444444, \"#bd3786\"], [0.5555555555555556, \"#d8576b\"], [0.6666666666666666, \"#ed7953\"], [0.7777777777777778, \"#fb9f3a\"], [0.8888888888888888, \"#fdca26\"], [1.0, \"#f0f921\"]], \"type\": \"heatmap\"}], \"heatmapgl\": [{\"colorbar\": {\"outlinewidth\": 0, \"ticks\": \"\"}, \"colorscale\": [[0.0, \"#0d0887\"], [0.1111111111111111, \"#46039f\"], [0.2222222222222222, \"#7201a8\"], [0.3333333333333333, \"#9c179e\"], [0.4444444444444444, \"#bd3786\"], [0.5555555555555556, \"#d8576b\"], [0.6666666666666666, \"#ed7953\"], [0.7777777777777778, \"#fb9f3a\"], [0.8888888888888888, \"#fdca26\"], [1.0, \"#f0f921\"]], \"type\": \"heatmapgl\"}], \"histogram\": [{\"marker\": {\"colorbar\": {\"outlinewidth\": 0, \"ticks\": \"\"}}, \"type\": \"histogram\"}], \"histogram2d\": [{\"colorbar\": {\"outlinewidth\": 0, \"ticks\": \"\"}, \"colorscale\": [[0.0, \"#0d0887\"], [0.1111111111111111, \"#46039f\"], [0.2222222222222222, \"#7201a8\"], [0.3333333333333333, \"#9c179e\"], [0.4444444444444444, \"#bd3786\"], [0.5555555555555556, \"#d8576b\"], [0.6666666666666666, \"#ed7953\"], [0.7777777777777778, \"#fb9f3a\"], [0.8888888888888888, \"#fdca26\"], [1.0, \"#f0f921\"]], \"type\": \"histogram2d\"}], \"histogram2dcontour\": [{\"colorbar\": {\"outlinewidth\": 0, \"ticks\": \"\"}, \"colorscale\": [[0.0, \"#0d0887\"], [0.1111111111111111, \"#46039f\"], [0.2222222222222222, \"#7201a8\"], [0.3333333333333333, \"#9c179e\"], [0.4444444444444444, \"#bd3786\"], [0.5555555555555556, \"#d8576b\"], [0.6666666666666666, \"#ed7953\"], [0.7777777777777778, \"#fb9f3a\"], [0.8888888888888888, \"#fdca26\"], [1.0, \"#f0f921\"]], \"type\": \"histogram2dcontour\"}], \"mesh3d\": [{\"colorbar\": {\"outlinewidth\": 0, \"ticks\": \"\"}, \"type\": \"mesh3d\"}], \"parcoords\": [{\"line\": {\"colorbar\": {\"outlinewidth\": 0, \"ticks\": \"\"}}, \"type\": \"parcoords\"}], \"pie\": [{\"automargin\": true, \"type\": \"pie\"}], \"scatter\": [{\"marker\": {\"colorbar\": {\"outlinewidth\": 0, \"ticks\": \"\"}}, \"type\": \"scatter\"}], \"scatter3d\": [{\"line\": {\"colorbar\": {\"outlinewidth\": 0, \"ticks\": \"\"}}, \"marker\": {\"colorbar\": {\"outlinewidth\": 0, \"ticks\": \"\"}}, \"type\": \"scatter3d\"}], \"scattercarpet\": [{\"marker\": {\"colorbar\": {\"outlinewidth\": 0, \"ticks\": \"\"}}, \"type\": \"scattercarpet\"}], \"scattergeo\": [{\"marker\": {\"colorbar\": {\"outlinewidth\": 0, \"ticks\": \"\"}}, \"type\": \"scattergeo\"}], \"scattergl\": [{\"marker\": {\"colorbar\": {\"outlinewidth\": 0, \"ticks\": \"\"}}, \"type\": \"scattergl\"}], \"scattermapbox\": [{\"marker\": {\"colorbar\": {\"outlinewidth\": 0, \"ticks\": \"\"}}, \"type\": \"scattermapbox\"}], \"scatterpolar\": [{\"marker\": {\"colorbar\": {\"outlinewidth\": 0, \"ticks\": \"\"}}, \"type\": \"scatterpolar\"}], \"scatterpolargl\": [{\"marker\": {\"colorbar\": {\"outlinewidth\": 0, \"ticks\": \"\"}}, \"type\": \"scatterpolargl\"}], \"scatterternary\": [{\"marker\": {\"colorbar\": {\"outlinewidth\": 0, \"ticks\": \"\"}}, \"type\": \"scatterternary\"}], \"surface\": [{\"colorbar\": {\"outlinewidth\": 0, \"ticks\": \"\"}, \"colorscale\": [[0.0, \"#0d0887\"], [0.1111111111111111, \"#46039f\"], [0.2222222222222222, \"#7201a8\"], [0.3333333333333333, \"#9c179e\"], [0.4444444444444444, \"#bd3786\"], [0.5555555555555556, \"#d8576b\"], [0.6666666666666666, \"#ed7953\"], [0.7777777777777778, \"#fb9f3a\"], [0.8888888888888888, \"#fdca26\"], [1.0, \"#f0f921\"]], \"type\": \"surface\"}], \"table\": [{\"cells\": {\"fill\": {\"color\": \"#EBF0F8\"}, \"line\": {\"color\": \"white\"}}, \"header\": {\"fill\": {\"color\": \"#C8D4E3\"}, \"line\": {\"color\": \"white\"}}, \"type\": \"table\"}]}, \"layout\": {\"annotationdefaults\": {\"arrowcolor\": \"#2a3f5f\", \"arrowhead\": 0, \"arrowwidth\": 1}, \"autotypenumbers\": \"strict\", \"coloraxis\": {\"colorbar\": {\"outlinewidth\": 0, \"ticks\": \"\"}}, \"colorscale\": {\"diverging\": [[0, \"#8e0152\"], [0.1, \"#c51b7d\"], [0.2, \"#de77ae\"], [0.3, \"#f1b6da\"], [0.4, \"#fde0ef\"], [0.5, \"#f7f7f7\"], [0.6, \"#e6f5d0\"], [0.7, \"#b8e186\"], [0.8, \"#7fbc41\"], [0.9, \"#4d9221\"], [1, \"#276419\"]], \"sequential\": [[0.0, \"#0d0887\"], [0.1111111111111111, \"#46039f\"], [0.2222222222222222, \"#7201a8\"], [0.3333333333333333, \"#9c179e\"], [0.4444444444444444, \"#bd3786\"], [0.5555555555555556, \"#d8576b\"], [0.6666666666666666, \"#ed7953\"], [0.7777777777777778, \"#fb9f3a\"], [0.8888888888888888, \"#fdca26\"], [1.0, \"#f0f921\"]], \"sequentialminus\": [[0.0, \"#0d0887\"], [0.1111111111111111, \"#46039f\"], [0.2222222222222222, \"#7201a8\"], [0.3333333333333333, \"#9c179e\"], [0.4444444444444444, \"#bd3786\"], [0.5555555555555556, \"#d8576b\"], [0.6666666666666666, \"#ed7953\"], [0.7777777777777778, \"#fb9f3a\"], [0.8888888888888888, \"#fdca26\"], [1.0, \"#f0f921\"]]}, \"colorway\": [\"#636efa\", \"#EF553B\", \"#00cc96\", \"#ab63fa\", \"#FFA15A\", \"#19d3f3\", \"#FF6692\", \"#B6E880\", \"#FF97FF\", \"#FECB52\"], \"font\": {\"color\": \"#2a3f5f\"}, \"geo\": {\"bgcolor\": \"white\", \"lakecolor\": \"white\", \"landcolor\": \"#E5ECF6\", \"showlakes\": true, \"showland\": true, \"subunitcolor\": \"white\"}, \"hoverlabel\": {\"align\": \"left\"}, \"hovermode\": \"closest\", \"mapbox\": {\"style\": \"light\"}, \"paper_bgcolor\": \"white\", \"plot_bgcolor\": \"#E5ECF6\", \"polar\": {\"angularaxis\": {\"gridcolor\": \"white\", \"linecolor\": \"white\", \"ticks\": \"\"}, \"bgcolor\": \"#E5ECF6\", \"radialaxis\": {\"gridcolor\": \"white\", \"linecolor\": \"white\", \"ticks\": \"\"}}, \"scene\": {\"xaxis\": {\"backgroundcolor\": \"#E5ECF6\", \"gridcolor\": \"white\", \"gridwidth\": 2, \"linecolor\": \"white\", \"showbackground\": true, \"ticks\": \"\", \"zerolinecolor\": \"white\"}, \"yaxis\": {\"backgroundcolor\": \"#E5ECF6\", \"gridcolor\": \"white\", \"gridwidth\": 2, \"linecolor\": \"white\", \"showbackground\": true, \"ticks\": \"\", \"zerolinecolor\": \"white\"}, \"zaxis\": {\"backgroundcolor\": \"#E5ECF6\", \"gridcolor\": \"white\", \"gridwidth\": 2, \"linecolor\": \"white\", \"showbackground\": true, \"ticks\": \"\", \"zerolinecolor\": \"white\"}}, \"shapedefaults\": {\"line\": {\"color\": \"#2a3f5f\"}}, \"ternary\": {\"aaxis\": {\"gridcolor\": \"white\", \"linecolor\": \"white\", \"ticks\": \"\"}, \"baxis\": {\"gridcolor\": \"white\", \"linecolor\": \"white\", \"ticks\": \"\"}, \"bgcolor\": \"#E5ECF6\", \"caxis\": {\"gridcolor\": \"white\", \"linecolor\": \"white\", \"ticks\": \"\"}}, \"title\": {\"x\": 0.05}, \"xaxis\": {\"automargin\": true, \"gridcolor\": \"white\", \"linecolor\": \"white\", \"ticks\": \"\", \"title\": {\"standoff\": 15}, \"zerolinecolor\": \"white\", \"zerolinewidth\": 2}, \"yaxis\": {\"automargin\": true, \"gridcolor\": \"white\", \"linecolor\": \"white\", \"ticks\": \"\", \"title\": {\"standoff\": 15}, \"zerolinecolor\": \"white\", \"zerolinewidth\": 2}}}, \"title\": {\"font\": {\"color\": \"#4D5663\"}}, \"xaxis\": {\"gridcolor\": \"#E1E5ED\", \"showgrid\": true, \"tickfont\": {\"color\": \"#4D5663\"}, \"title\": {\"font\": {\"color\": \"#4D5663\"}, \"text\": \"\"}, \"zerolinecolor\": \"#E1E5ED\"}, \"yaxis\": {\"gridcolor\": \"#E1E5ED\", \"showgrid\": true, \"tickfont\": {\"color\": \"#4D5663\"}, \"title\": {\"font\": {\"color\": \"#4D5663\"}, \"text\": \"\"}, \"zerolinecolor\": \"#E1E5ED\"}},                        {\"showLink\": true, \"linkText\": \"Export to plot.ly\", \"plotlyServerURL\": \"https://plot.ly\", \"responsive\": true}                    ).then(function(){\n",
       "                            \n",
       "var gd = document.getElementById('2c1fb9b7-00e4-499a-a857-6d2782a6da4b');\n",
       "var x = new MutationObserver(function (mutations, observer) {{\n",
       "        var display = window.getComputedStyle(gd).display;\n",
       "        if (!display || display === 'none') {{\n",
       "            console.log([gd, 'removed!']);\n",
       "            Plotly.purge(gd);\n",
       "            observer.disconnect();\n",
       "        }}\n",
       "}});\n",
       "\n",
       "// Listen for the removal of the full notebook cells\n",
       "var notebookContainer = gd.closest('#notebook-container');\n",
       "if (notebookContainer) {{\n",
       "    x.observe(notebookContainer, {childList: true});\n",
       "}}\n",
       "\n",
       "// Listen for the clearing of the current output cell\n",
       "var outputEl = gd.closest('.output');\n",
       "if (outputEl) {{\n",
       "    x.observe(outputEl, {childList: true});\n",
       "}}\n",
       "\n",
       "                        })                };                });            </script>        </div>"
      ]
     },
     "metadata": {},
     "output_type": "display_data"
    }
   ],
   "source": [
    "df[\"A\"].iplot(kind=\"hist\",bins=50)"
   ]
  },
  {
   "cell_type": "code",
   "execution_count": 18,
   "metadata": {},
   "outputs": [
    {
     "data": {
      "application/vnd.plotly.v1+json": {
       "config": {
        "linkText": "Export to plot.ly",
        "plotlyServerURL": "https://plot.ly",
        "showLink": true
       },
       "data": [
        {
         "marker": {
          "color": [
           "rgb(255, 153, 51)",
           "rgb(55, 128, 191)",
           "rgb(50, 171, 96)",
           "rgb(128, 0, 128)",
           "rgb(219, 64, 82)",
           "rgb(0, 128, 128)",
           "rgb(255, 255, 51)",
           "rgb(128, 128, 0)",
           "rgb(251, 128, 114)",
           "rgb(128, 177, 211)"
          ],
          "line": {
           "width": 1.3
          },
          "size": [
           68,
           52,
           40,
           84,
           21,
           15,
           31,
           47,
           39,
           77,
           27,
           15,
           12,
           53,
           39,
           56,
           72,
           50,
           90,
           72,
           60,
           62,
           85,
           36,
           81,
           32,
           55,
           85,
           72,
           16,
           55,
           58,
           77,
           44,
           64,
           82,
           56,
           107,
           25,
           64,
           31,
           18,
           36,
           54,
           62,
           37,
           60,
           55,
           79,
           75,
           65,
           65,
           76,
           55,
           84,
           73,
           63,
           69,
           64,
           112,
           69,
           69,
           83,
           62,
           36,
           68,
           33,
           55,
           56,
           54,
           56,
           43,
           70,
           68,
           20,
           13,
           65,
           91,
           55,
           70,
           59,
           46,
           27,
           73,
           72,
           66,
           37,
           41,
           66,
           69,
           95,
           36,
           16,
           20,
           66,
           96,
           56,
           44,
           84,
           48
          ],
          "symbol": "circle"
         },
         "mode": "markers",
         "text": "",
         "type": "scatter",
         "x": [
          -0.6915796259609344,
          -0.8872849879301269,
          0.7351331691915325,
          0.0187482624021014,
          -1.3817892822184494,
          1.6276935039887588,
          0.48741645957410107,
          0.7184343185820924,
          -1.9281264806682483,
          -0.8999233502422062,
          -1.7799183101839324,
          0.9008821566604649,
          0.20301832261981306,
          1.8060196231091028,
          -0.2913743722283807,
          -1.0028680571625874,
          -0.7799725268069628,
          -1.0115947811354846,
          1.6690294312418568,
          -1.0396907179959067,
          0.06871544329476185,
          -0.8842237666730386,
          1.224973208704979,
          0.4631385238986198,
          0.740878154820934,
          -0.5813038422552343,
          -0.9383979476151751,
          2.2143189803556362,
          -0.423551427103088,
          -0.42048634304971966,
          0.4524961287844688,
          -0.2849268456346176,
          0.20084633802688698,
          -1.179587520197634,
          -1.2171104780344941,
          1.31260455425112,
          0.07424119953542815,
          1.3428441779852547,
          -2.860036001452457,
          -0.2980548945617647,
          1.7031874742888558,
          0.4039403360775828,
          -0.4530643885339186,
          0.5166202508143846,
          2.5061604436079388,
          -0.22651256670052275,
          -0.4113509392005815,
          0.3844710304962001,
          0.7768993023151984,
          0.3919698813535365,
          -1.2483424611011424,
          0.5757471088717269,
          -0.9586586441077025,
          0.07349496376369483,
          0.4105909975316248,
          0.38694569353694597,
          -0.06808552922896927,
          -0.30962695184908284,
          -0.10858045854730711,
          1.144943808386343,
          -1.1158660861520617,
          -0.8072714792006194,
          -0.8200009118915258,
          0.2406666220789867,
          -0.427222957956366,
          1.772402559856502,
          -0.15284717195228584,
          0.15338364795477655,
          -0.7943165728504842,
          -1.4053685632042303,
          0.8582648769101241,
          -0.7422149276534388,
          -0.983609520312817,
          1.008138822924062,
          -2.812568541347789,
          -0.7667967963565699,
          1.4951803796842733,
          -0.17619436709084627,
          0.39350770109275585,
          0.8172413146696621,
          0.5130245863583023,
          -0.6357411104723741,
          0.1321533298737306,
          1.2371806367240268,
          0.36351975843928164,
          -0.22604926645818205,
          -0.6664127081099145,
          1.3696975147006802,
          0.5798010860119244,
          -0.592057266420742,
          -0.4007257037255129,
          0.0604157024958049,
          0.19956225440633601,
          -0.2386209677915759,
          -0.45382262875168244,
          -0.029871779297502257,
          -0.2860381306203588,
          0.4140082157874592,
          0.5257824581842769,
          -0.369657676375118
         ],
         "y": [
          -0.4416109016685977,
          1.5651155798664615,
          -0.486386343433522,
          -2.199567556381776,
          -0.9142935082338941,
          0.06812640059682612,
          0.4776202682694769,
          1.0546625009640556,
          -0.6880548877398517,
          1.8209757828156723,
          1.5571718328009587,
          1.1589728923099107,
          1.163334643980302,
          -0.9964320957995271,
          0.5229700623178248,
          -0.5422628084138779,
          -0.267673267490769,
          -2.542024338097646,
          0.1892572429133559,
          0.9531814741576196,
          0.7493063574421213,
          0.5023472703547277,
          -0.6404279709338484,
          -0.09415765433918766,
          -0.8473289830681051,
          2.4475018491497593,
          -1.2457317162324226,
          -1.3811748213213695,
          0.20239230418083937,
          1.1660197139884207,
          0.4389106508835806,
          -1.5696964379987275,
          -2.1470786229066596,
          -1.2716195718711647,
          -0.32431857246238116,
          -0.48671087904318966,
          0.807176097279996,
          -0.4545226307330017,
          0.9692805152724048,
          -0.5399406974702767,
          -0.9112616777512544,
          -0.714636963502582,
          0.4401518992961405,
          1.2112389619411343,
          -0.36511562219575633,
          -0.823735935608685,
          0.6940529112251567,
          1.2488733228033813,
          -0.8614307813991519,
          2.347537155331469,
          -1.1135489104449754,
          -0.4266769291945704,
          -0.34983112284132795,
          -1.0800241937145774,
          -0.7310272741866767,
          0.6143328644742845,
          -0.24735519775421033,
          0.5218972511065154,
          0.18495767661158455,
          0.03356610062777415,
          -0.9264261222493289,
          -1.1715593013084677,
          1.3667087323756861,
          -0.07870407832879851,
          0.050980863247599886,
          -1.4353282576073432,
          -1.1057379385577595,
          -1.240759569480158,
          -1.435045518952723,
          0.2866146102228182,
          -0.4321199550320402,
          0.20803661832940504,
          -1.637427291219393,
          1.195797731567711,
          0.36417372075511256,
          0.06277847213280971,
          -0.35012964109245687,
          2.45863772791582,
          -0.21262565217949736,
          0.08746166141915754,
          0.11560547765517383,
          -1.75608505564241,
          0.29493286266375646,
          -0.8759852777508496,
          0.6355229301680484,
          -0.019587564842157068,
          -0.4184902249812962,
          0.279985822989887,
          1.0476231961393485,
          -1.4800776423230955,
          0.8336250259779167,
          1.1108395642941793,
          -3.550161594830222,
          -0.3630151021155685,
          -0.4319034238532681,
          1.2014795760785844,
          -0.7163833677385238,
          -0.9322561095076094,
          0.978279984551639,
          0.3454873088830252
         ]
        }
       ],
       "layout": {
        "legend": {
         "bgcolor": "#F5F6F9",
         "font": {
          "color": "#4D5663"
         }
        },
        "paper_bgcolor": "#F5F6F9",
        "plot_bgcolor": "#F5F6F9",
        "template": {
         "data": {
          "bar": [
           {
            "error_x": {
             "color": "#2a3f5f"
            },
            "error_y": {
             "color": "#2a3f5f"
            },
            "marker": {
             "line": {
              "color": "#E5ECF6",
              "width": 0.5
             }
            },
            "type": "bar"
           }
          ],
          "barpolar": [
           {
            "marker": {
             "line": {
              "color": "#E5ECF6",
              "width": 0.5
             }
            },
            "type": "barpolar"
           }
          ],
          "carpet": [
           {
            "aaxis": {
             "endlinecolor": "#2a3f5f",
             "gridcolor": "white",
             "linecolor": "white",
             "minorgridcolor": "white",
             "startlinecolor": "#2a3f5f"
            },
            "baxis": {
             "endlinecolor": "#2a3f5f",
             "gridcolor": "white",
             "linecolor": "white",
             "minorgridcolor": "white",
             "startlinecolor": "#2a3f5f"
            },
            "type": "carpet"
           }
          ],
          "choropleth": [
           {
            "colorbar": {
             "outlinewidth": 0,
             "ticks": ""
            },
            "type": "choropleth"
           }
          ],
          "contour": [
           {
            "colorbar": {
             "outlinewidth": 0,
             "ticks": ""
            },
            "colorscale": [
             [
              0,
              "#0d0887"
             ],
             [
              0.1111111111111111,
              "#46039f"
             ],
             [
              0.2222222222222222,
              "#7201a8"
             ],
             [
              0.3333333333333333,
              "#9c179e"
             ],
             [
              0.4444444444444444,
              "#bd3786"
             ],
             [
              0.5555555555555556,
              "#d8576b"
             ],
             [
              0.6666666666666666,
              "#ed7953"
             ],
             [
              0.7777777777777778,
              "#fb9f3a"
             ],
             [
              0.8888888888888888,
              "#fdca26"
             ],
             [
              1,
              "#f0f921"
             ]
            ],
            "type": "contour"
           }
          ],
          "contourcarpet": [
           {
            "colorbar": {
             "outlinewidth": 0,
             "ticks": ""
            },
            "type": "contourcarpet"
           }
          ],
          "heatmap": [
           {
            "colorbar": {
             "outlinewidth": 0,
             "ticks": ""
            },
            "colorscale": [
             [
              0,
              "#0d0887"
             ],
             [
              0.1111111111111111,
              "#46039f"
             ],
             [
              0.2222222222222222,
              "#7201a8"
             ],
             [
              0.3333333333333333,
              "#9c179e"
             ],
             [
              0.4444444444444444,
              "#bd3786"
             ],
             [
              0.5555555555555556,
              "#d8576b"
             ],
             [
              0.6666666666666666,
              "#ed7953"
             ],
             [
              0.7777777777777778,
              "#fb9f3a"
             ],
             [
              0.8888888888888888,
              "#fdca26"
             ],
             [
              1,
              "#f0f921"
             ]
            ],
            "type": "heatmap"
           }
          ],
          "heatmapgl": [
           {
            "colorbar": {
             "outlinewidth": 0,
             "ticks": ""
            },
            "colorscale": [
             [
              0,
              "#0d0887"
             ],
             [
              0.1111111111111111,
              "#46039f"
             ],
             [
              0.2222222222222222,
              "#7201a8"
             ],
             [
              0.3333333333333333,
              "#9c179e"
             ],
             [
              0.4444444444444444,
              "#bd3786"
             ],
             [
              0.5555555555555556,
              "#d8576b"
             ],
             [
              0.6666666666666666,
              "#ed7953"
             ],
             [
              0.7777777777777778,
              "#fb9f3a"
             ],
             [
              0.8888888888888888,
              "#fdca26"
             ],
             [
              1,
              "#f0f921"
             ]
            ],
            "type": "heatmapgl"
           }
          ],
          "histogram": [
           {
            "marker": {
             "colorbar": {
              "outlinewidth": 0,
              "ticks": ""
             }
            },
            "type": "histogram"
           }
          ],
          "histogram2d": [
           {
            "colorbar": {
             "outlinewidth": 0,
             "ticks": ""
            },
            "colorscale": [
             [
              0,
              "#0d0887"
             ],
             [
              0.1111111111111111,
              "#46039f"
             ],
             [
              0.2222222222222222,
              "#7201a8"
             ],
             [
              0.3333333333333333,
              "#9c179e"
             ],
             [
              0.4444444444444444,
              "#bd3786"
             ],
             [
              0.5555555555555556,
              "#d8576b"
             ],
             [
              0.6666666666666666,
              "#ed7953"
             ],
             [
              0.7777777777777778,
              "#fb9f3a"
             ],
             [
              0.8888888888888888,
              "#fdca26"
             ],
             [
              1,
              "#f0f921"
             ]
            ],
            "type": "histogram2d"
           }
          ],
          "histogram2dcontour": [
           {
            "colorbar": {
             "outlinewidth": 0,
             "ticks": ""
            },
            "colorscale": [
             [
              0,
              "#0d0887"
             ],
             [
              0.1111111111111111,
              "#46039f"
             ],
             [
              0.2222222222222222,
              "#7201a8"
             ],
             [
              0.3333333333333333,
              "#9c179e"
             ],
             [
              0.4444444444444444,
              "#bd3786"
             ],
             [
              0.5555555555555556,
              "#d8576b"
             ],
             [
              0.6666666666666666,
              "#ed7953"
             ],
             [
              0.7777777777777778,
              "#fb9f3a"
             ],
             [
              0.8888888888888888,
              "#fdca26"
             ],
             [
              1,
              "#f0f921"
             ]
            ],
            "type": "histogram2dcontour"
           }
          ],
          "mesh3d": [
           {
            "colorbar": {
             "outlinewidth": 0,
             "ticks": ""
            },
            "type": "mesh3d"
           }
          ],
          "parcoords": [
           {
            "line": {
             "colorbar": {
              "outlinewidth": 0,
              "ticks": ""
             }
            },
            "type": "parcoords"
           }
          ],
          "pie": [
           {
            "automargin": true,
            "type": "pie"
           }
          ],
          "scatter": [
           {
            "marker": {
             "colorbar": {
              "outlinewidth": 0,
              "ticks": ""
             }
            },
            "type": "scatter"
           }
          ],
          "scatter3d": [
           {
            "line": {
             "colorbar": {
              "outlinewidth": 0,
              "ticks": ""
             }
            },
            "marker": {
             "colorbar": {
              "outlinewidth": 0,
              "ticks": ""
             }
            },
            "type": "scatter3d"
           }
          ],
          "scattercarpet": [
           {
            "marker": {
             "colorbar": {
              "outlinewidth": 0,
              "ticks": ""
             }
            },
            "type": "scattercarpet"
           }
          ],
          "scattergeo": [
           {
            "marker": {
             "colorbar": {
              "outlinewidth": 0,
              "ticks": ""
             }
            },
            "type": "scattergeo"
           }
          ],
          "scattergl": [
           {
            "marker": {
             "colorbar": {
              "outlinewidth": 0,
              "ticks": ""
             }
            },
            "type": "scattergl"
           }
          ],
          "scattermapbox": [
           {
            "marker": {
             "colorbar": {
              "outlinewidth": 0,
              "ticks": ""
             }
            },
            "type": "scattermapbox"
           }
          ],
          "scatterpolar": [
           {
            "marker": {
             "colorbar": {
              "outlinewidth": 0,
              "ticks": ""
             }
            },
            "type": "scatterpolar"
           }
          ],
          "scatterpolargl": [
           {
            "marker": {
             "colorbar": {
              "outlinewidth": 0,
              "ticks": ""
             }
            },
            "type": "scatterpolargl"
           }
          ],
          "scatterternary": [
           {
            "marker": {
             "colorbar": {
              "outlinewidth": 0,
              "ticks": ""
             }
            },
            "type": "scatterternary"
           }
          ],
          "surface": [
           {
            "colorbar": {
             "outlinewidth": 0,
             "ticks": ""
            },
            "colorscale": [
             [
              0,
              "#0d0887"
             ],
             [
              0.1111111111111111,
              "#46039f"
             ],
             [
              0.2222222222222222,
              "#7201a8"
             ],
             [
              0.3333333333333333,
              "#9c179e"
             ],
             [
              0.4444444444444444,
              "#bd3786"
             ],
             [
              0.5555555555555556,
              "#d8576b"
             ],
             [
              0.6666666666666666,
              "#ed7953"
             ],
             [
              0.7777777777777778,
              "#fb9f3a"
             ],
             [
              0.8888888888888888,
              "#fdca26"
             ],
             [
              1,
              "#f0f921"
             ]
            ],
            "type": "surface"
           }
          ],
          "table": [
           {
            "cells": {
             "fill": {
              "color": "#EBF0F8"
             },
             "line": {
              "color": "white"
             }
            },
            "header": {
             "fill": {
              "color": "#C8D4E3"
             },
             "line": {
              "color": "white"
             }
            },
            "type": "table"
           }
          ]
         },
         "layout": {
          "annotationdefaults": {
           "arrowcolor": "#2a3f5f",
           "arrowhead": 0,
           "arrowwidth": 1
          },
          "autotypenumbers": "strict",
          "coloraxis": {
           "colorbar": {
            "outlinewidth": 0,
            "ticks": ""
           }
          },
          "colorscale": {
           "diverging": [
            [
             0,
             "#8e0152"
            ],
            [
             0.1,
             "#c51b7d"
            ],
            [
             0.2,
             "#de77ae"
            ],
            [
             0.3,
             "#f1b6da"
            ],
            [
             0.4,
             "#fde0ef"
            ],
            [
             0.5,
             "#f7f7f7"
            ],
            [
             0.6,
             "#e6f5d0"
            ],
            [
             0.7,
             "#b8e186"
            ],
            [
             0.8,
             "#7fbc41"
            ],
            [
             0.9,
             "#4d9221"
            ],
            [
             1,
             "#276419"
            ]
           ],
           "sequential": [
            [
             0,
             "#0d0887"
            ],
            [
             0.1111111111111111,
             "#46039f"
            ],
            [
             0.2222222222222222,
             "#7201a8"
            ],
            [
             0.3333333333333333,
             "#9c179e"
            ],
            [
             0.4444444444444444,
             "#bd3786"
            ],
            [
             0.5555555555555556,
             "#d8576b"
            ],
            [
             0.6666666666666666,
             "#ed7953"
            ],
            [
             0.7777777777777778,
             "#fb9f3a"
            ],
            [
             0.8888888888888888,
             "#fdca26"
            ],
            [
             1,
             "#f0f921"
            ]
           ],
           "sequentialminus": [
            [
             0,
             "#0d0887"
            ],
            [
             0.1111111111111111,
             "#46039f"
            ],
            [
             0.2222222222222222,
             "#7201a8"
            ],
            [
             0.3333333333333333,
             "#9c179e"
            ],
            [
             0.4444444444444444,
             "#bd3786"
            ],
            [
             0.5555555555555556,
             "#d8576b"
            ],
            [
             0.6666666666666666,
             "#ed7953"
            ],
            [
             0.7777777777777778,
             "#fb9f3a"
            ],
            [
             0.8888888888888888,
             "#fdca26"
            ],
            [
             1,
             "#f0f921"
            ]
           ]
          },
          "colorway": [
           "#636efa",
           "#EF553B",
           "#00cc96",
           "#ab63fa",
           "#FFA15A",
           "#19d3f3",
           "#FF6692",
           "#B6E880",
           "#FF97FF",
           "#FECB52"
          ],
          "font": {
           "color": "#2a3f5f"
          },
          "geo": {
           "bgcolor": "white",
           "lakecolor": "white",
           "landcolor": "#E5ECF6",
           "showlakes": true,
           "showland": true,
           "subunitcolor": "white"
          },
          "hoverlabel": {
           "align": "left"
          },
          "hovermode": "closest",
          "mapbox": {
           "style": "light"
          },
          "paper_bgcolor": "white",
          "plot_bgcolor": "#E5ECF6",
          "polar": {
           "angularaxis": {
            "gridcolor": "white",
            "linecolor": "white",
            "ticks": ""
           },
           "bgcolor": "#E5ECF6",
           "radialaxis": {
            "gridcolor": "white",
            "linecolor": "white",
            "ticks": ""
           }
          },
          "scene": {
           "xaxis": {
            "backgroundcolor": "#E5ECF6",
            "gridcolor": "white",
            "gridwidth": 2,
            "linecolor": "white",
            "showbackground": true,
            "ticks": "",
            "zerolinecolor": "white"
           },
           "yaxis": {
            "backgroundcolor": "#E5ECF6",
            "gridcolor": "white",
            "gridwidth": 2,
            "linecolor": "white",
            "showbackground": true,
            "ticks": "",
            "zerolinecolor": "white"
           },
           "zaxis": {
            "backgroundcolor": "#E5ECF6",
            "gridcolor": "white",
            "gridwidth": 2,
            "linecolor": "white",
            "showbackground": true,
            "ticks": "",
            "zerolinecolor": "white"
           }
          },
          "shapedefaults": {
           "line": {
            "color": "#2a3f5f"
           }
          },
          "ternary": {
           "aaxis": {
            "gridcolor": "white",
            "linecolor": "white",
            "ticks": ""
           },
           "baxis": {
            "gridcolor": "white",
            "linecolor": "white",
            "ticks": ""
           },
           "bgcolor": "#E5ECF6",
           "caxis": {
            "gridcolor": "white",
            "linecolor": "white",
            "ticks": ""
           }
          },
          "title": {
           "x": 0.05
          },
          "xaxis": {
           "automargin": true,
           "gridcolor": "white",
           "linecolor": "white",
           "ticks": "",
           "title": {
            "standoff": 15
           },
           "zerolinecolor": "white",
           "zerolinewidth": 2
          },
          "yaxis": {
           "automargin": true,
           "gridcolor": "white",
           "linecolor": "white",
           "ticks": "",
           "title": {
            "standoff": 15
           },
           "zerolinecolor": "white",
           "zerolinewidth": 2
          }
         }
        },
        "title": {
         "font": {
          "color": "#4D5663"
         }
        },
        "xaxis": {
         "gridcolor": "#E1E5ED",
         "showgrid": true,
         "tickfont": {
          "color": "#4D5663"
         },
         "title": {
          "font": {
           "color": "#4D5663"
          },
          "text": ""
         },
         "zerolinecolor": "#E1E5ED"
        },
        "yaxis": {
         "gridcolor": "#E1E5ED",
         "showgrid": true,
         "tickfont": {
          "color": "#4D5663"
         },
         "title": {
          "font": {
           "color": "#4D5663"
          },
          "text": ""
         },
         "zerolinecolor": "#E1E5ED"
        }
       }
      },
      "text/html": [
       "<div>                            <div id=\"556a7817-17da-48ce-8b60-acc50b7d295f\" class=\"plotly-graph-div\" style=\"height:525px; width:100%;\"></div>            <script type=\"text/javascript\">                require([\"plotly\"], function(Plotly) {                    window.PLOTLYENV=window.PLOTLYENV || {};\n",
       "                    window.PLOTLYENV.BASE_URL='https://plot.ly';                                    if (document.getElementById(\"556a7817-17da-48ce-8b60-acc50b7d295f\")) {                    Plotly.newPlot(                        \"556a7817-17da-48ce-8b60-acc50b7d295f\",                        [{\"marker\": {\"color\": [\"rgb(255, 153, 51)\", \"rgb(55, 128, 191)\", \"rgb(50, 171, 96)\", \"rgb(128, 0, 128)\", \"rgb(219, 64, 82)\", \"rgb(0, 128, 128)\", \"rgb(255, 255, 51)\", \"rgb(128, 128, 0)\", \"rgb(251, 128, 114)\", \"rgb(128, 177, 211)\"], \"line\": {\"width\": 1.3}, \"size\": [68, 52, 40, 84, 21, 15, 31, 47, 39, 77, 27, 15, 12, 53, 39, 56, 72, 50, 90, 72, 60, 62, 85, 36, 81, 32, 55, 85, 72, 16, 55, 58, 77, 44, 64, 82, 56, 107, 25, 64, 31, 18, 36, 54, 62, 37, 60, 55, 79, 75, 65, 65, 76, 55, 84, 73, 63, 69, 64, 112, 69, 69, 83, 62, 36, 68, 33, 55, 56, 54, 56, 43, 70, 68, 20, 13, 65, 91, 55, 70, 59, 46, 27, 73, 72, 66, 37, 41, 66, 69, 95, 36, 16, 20, 66, 96, 56, 44, 84, 48], \"symbol\": \"circle\"}, \"mode\": \"markers\", \"text\": \"\", \"type\": \"scatter\", \"x\": [-0.6915796259609344, -0.8872849879301269, 0.7351331691915325, 0.0187482624021014, -1.3817892822184494, 1.6276935039887588, 0.48741645957410107, 0.7184343185820924, -1.9281264806682483, -0.8999233502422062, -1.7799183101839324, 0.9008821566604649, 0.20301832261981306, 1.8060196231091028, -0.2913743722283807, -1.0028680571625874, -0.7799725268069628, -1.0115947811354846, 1.6690294312418568, -1.0396907179959067, 0.06871544329476185, -0.8842237666730386, 1.224973208704979, 0.4631385238986198, 0.740878154820934, -0.5813038422552343, -0.9383979476151751, 2.2143189803556362, -0.423551427103088, -0.42048634304971966, 0.4524961287844688, -0.2849268456346176, 0.20084633802688698, -1.179587520197634, -1.2171104780344941, 1.31260455425112, 0.07424119953542815, 1.3428441779852547, -2.860036001452457, -0.2980548945617647, 1.7031874742888558, 0.4039403360775828, -0.4530643885339186, 0.5166202508143846, 2.5061604436079388, -0.22651256670052275, -0.4113509392005815, 0.3844710304962001, 0.7768993023151984, 0.3919698813535365, -1.2483424611011424, 0.5757471088717269, -0.9586586441077025, 0.07349496376369483, 0.4105909975316248, 0.38694569353694597, -0.06808552922896927, -0.30962695184908284, -0.10858045854730711, 1.144943808386343, -1.1158660861520617, -0.8072714792006194, -0.8200009118915258, 0.2406666220789867, -0.427222957956366, 1.772402559856502, -0.15284717195228584, 0.15338364795477655, -0.7943165728504842, -1.4053685632042303, 0.8582648769101241, -0.7422149276534388, -0.983609520312817, 1.008138822924062, -2.812568541347789, -0.7667967963565699, 1.4951803796842733, -0.17619436709084627, 0.39350770109275585, 0.8172413146696621, 0.5130245863583023, -0.6357411104723741, 0.1321533298737306, 1.2371806367240268, 0.36351975843928164, -0.22604926645818205, -0.6664127081099145, 1.3696975147006802, 0.5798010860119244, -0.592057266420742, -0.4007257037255129, 0.0604157024958049, 0.19956225440633601, -0.2386209677915759, -0.45382262875168244, -0.029871779297502257, -0.2860381306203588, 0.4140082157874592, 0.5257824581842769, -0.369657676375118], \"y\": [-0.4416109016685977, 1.5651155798664615, -0.486386343433522, -2.199567556381776, -0.9142935082338941, 0.06812640059682612, 0.4776202682694769, 1.0546625009640556, -0.6880548877398517, 1.8209757828156723, 1.5571718328009587, 1.1589728923099107, 1.163334643980302, -0.9964320957995271, 0.5229700623178248, -0.5422628084138779, -0.267673267490769, -2.542024338097646, 0.1892572429133559, 0.9531814741576196, 0.7493063574421213, 0.5023472703547277, -0.6404279709338484, -0.09415765433918766, -0.8473289830681051, 2.4475018491497593, -1.2457317162324226, -1.3811748213213695, 0.20239230418083937, 1.1660197139884207, 0.4389106508835806, -1.5696964379987275, -2.1470786229066596, -1.2716195718711647, -0.32431857246238116, -0.48671087904318966, 0.807176097279996, -0.4545226307330017, 0.9692805152724048, -0.5399406974702767, -0.9112616777512544, -0.714636963502582, 0.4401518992961405, 1.2112389619411343, -0.36511562219575633, -0.823735935608685, 0.6940529112251567, 1.2488733228033813, -0.8614307813991519, 2.347537155331469, -1.1135489104449754, -0.4266769291945704, -0.34983112284132795, -1.0800241937145774, -0.7310272741866767, 0.6143328644742845, -0.24735519775421033, 0.5218972511065154, 0.18495767661158455, 0.03356610062777415, -0.9264261222493289, -1.1715593013084677, 1.3667087323756861, -0.07870407832879851, 0.050980863247599886, -1.4353282576073432, -1.1057379385577595, -1.240759569480158, -1.435045518952723, 0.2866146102228182, -0.4321199550320402, 0.20803661832940504, -1.637427291219393, 1.195797731567711, 0.36417372075511256, 0.06277847213280971, -0.35012964109245687, 2.45863772791582, -0.21262565217949736, 0.08746166141915754, 0.11560547765517383, -1.75608505564241, 0.29493286266375646, -0.8759852777508496, 0.6355229301680484, -0.019587564842157068, -0.4184902249812962, 0.279985822989887, 1.0476231961393485, -1.4800776423230955, 0.8336250259779167, 1.1108395642941793, -3.550161594830222, -0.3630151021155685, -0.4319034238532681, 1.2014795760785844, -0.7163833677385238, -0.9322561095076094, 0.978279984551639, 0.3454873088830252]}],                        {\"legend\": {\"bgcolor\": \"#F5F6F9\", \"font\": {\"color\": \"#4D5663\"}}, \"paper_bgcolor\": \"#F5F6F9\", \"plot_bgcolor\": \"#F5F6F9\", \"template\": {\"data\": {\"bar\": [{\"error_x\": {\"color\": \"#2a3f5f\"}, \"error_y\": {\"color\": \"#2a3f5f\"}, \"marker\": {\"line\": {\"color\": \"#E5ECF6\", \"width\": 0.5}}, \"type\": \"bar\"}], \"barpolar\": [{\"marker\": {\"line\": {\"color\": \"#E5ECF6\", \"width\": 0.5}}, \"type\": \"barpolar\"}], \"carpet\": [{\"aaxis\": {\"endlinecolor\": \"#2a3f5f\", \"gridcolor\": \"white\", \"linecolor\": \"white\", \"minorgridcolor\": \"white\", \"startlinecolor\": \"#2a3f5f\"}, \"baxis\": {\"endlinecolor\": \"#2a3f5f\", \"gridcolor\": \"white\", \"linecolor\": \"white\", \"minorgridcolor\": \"white\", \"startlinecolor\": \"#2a3f5f\"}, \"type\": \"carpet\"}], \"choropleth\": [{\"colorbar\": {\"outlinewidth\": 0, \"ticks\": \"\"}, \"type\": \"choropleth\"}], \"contour\": [{\"colorbar\": {\"outlinewidth\": 0, \"ticks\": \"\"}, \"colorscale\": [[0.0, \"#0d0887\"], [0.1111111111111111, \"#46039f\"], [0.2222222222222222, \"#7201a8\"], [0.3333333333333333, \"#9c179e\"], [0.4444444444444444, \"#bd3786\"], [0.5555555555555556, \"#d8576b\"], [0.6666666666666666, \"#ed7953\"], [0.7777777777777778, \"#fb9f3a\"], [0.8888888888888888, \"#fdca26\"], [1.0, \"#f0f921\"]], \"type\": \"contour\"}], \"contourcarpet\": [{\"colorbar\": {\"outlinewidth\": 0, \"ticks\": \"\"}, \"type\": \"contourcarpet\"}], \"heatmap\": [{\"colorbar\": {\"outlinewidth\": 0, \"ticks\": \"\"}, \"colorscale\": [[0.0, \"#0d0887\"], [0.1111111111111111, \"#46039f\"], [0.2222222222222222, \"#7201a8\"], [0.3333333333333333, \"#9c179e\"], [0.4444444444444444, \"#bd3786\"], [0.5555555555555556, \"#d8576b\"], [0.6666666666666666, \"#ed7953\"], [0.7777777777777778, \"#fb9f3a\"], [0.8888888888888888, \"#fdca26\"], [1.0, \"#f0f921\"]], \"type\": \"heatmap\"}], \"heatmapgl\": [{\"colorbar\": {\"outlinewidth\": 0, \"ticks\": \"\"}, \"colorscale\": [[0.0, \"#0d0887\"], [0.1111111111111111, \"#46039f\"], [0.2222222222222222, \"#7201a8\"], [0.3333333333333333, \"#9c179e\"], [0.4444444444444444, \"#bd3786\"], [0.5555555555555556, \"#d8576b\"], [0.6666666666666666, \"#ed7953\"], [0.7777777777777778, \"#fb9f3a\"], [0.8888888888888888, \"#fdca26\"], [1.0, \"#f0f921\"]], \"type\": \"heatmapgl\"}], \"histogram\": [{\"marker\": {\"colorbar\": {\"outlinewidth\": 0, \"ticks\": \"\"}}, \"type\": \"histogram\"}], \"histogram2d\": [{\"colorbar\": {\"outlinewidth\": 0, \"ticks\": \"\"}, \"colorscale\": [[0.0, \"#0d0887\"], [0.1111111111111111, \"#46039f\"], [0.2222222222222222, \"#7201a8\"], [0.3333333333333333, \"#9c179e\"], [0.4444444444444444, \"#bd3786\"], [0.5555555555555556, \"#d8576b\"], [0.6666666666666666, \"#ed7953\"], [0.7777777777777778, \"#fb9f3a\"], [0.8888888888888888, \"#fdca26\"], [1.0, \"#f0f921\"]], \"type\": \"histogram2d\"}], \"histogram2dcontour\": [{\"colorbar\": {\"outlinewidth\": 0, \"ticks\": \"\"}, \"colorscale\": [[0.0, \"#0d0887\"], [0.1111111111111111, \"#46039f\"], [0.2222222222222222, \"#7201a8\"], [0.3333333333333333, \"#9c179e\"], [0.4444444444444444, \"#bd3786\"], [0.5555555555555556, \"#d8576b\"], [0.6666666666666666, \"#ed7953\"], [0.7777777777777778, \"#fb9f3a\"], [0.8888888888888888, \"#fdca26\"], [1.0, \"#f0f921\"]], \"type\": \"histogram2dcontour\"}], \"mesh3d\": [{\"colorbar\": {\"outlinewidth\": 0, \"ticks\": \"\"}, \"type\": \"mesh3d\"}], \"parcoords\": [{\"line\": {\"colorbar\": {\"outlinewidth\": 0, \"ticks\": \"\"}}, \"type\": \"parcoords\"}], \"pie\": [{\"automargin\": true, \"type\": \"pie\"}], \"scatter\": [{\"marker\": {\"colorbar\": {\"outlinewidth\": 0, \"ticks\": \"\"}}, \"type\": \"scatter\"}], \"scatter3d\": [{\"line\": {\"colorbar\": {\"outlinewidth\": 0, \"ticks\": \"\"}}, \"marker\": {\"colorbar\": {\"outlinewidth\": 0, \"ticks\": \"\"}}, \"type\": \"scatter3d\"}], \"scattercarpet\": [{\"marker\": {\"colorbar\": {\"outlinewidth\": 0, \"ticks\": \"\"}}, \"type\": \"scattercarpet\"}], \"scattergeo\": [{\"marker\": {\"colorbar\": {\"outlinewidth\": 0, \"ticks\": \"\"}}, \"type\": \"scattergeo\"}], \"scattergl\": [{\"marker\": {\"colorbar\": {\"outlinewidth\": 0, \"ticks\": \"\"}}, \"type\": \"scattergl\"}], \"scattermapbox\": [{\"marker\": {\"colorbar\": {\"outlinewidth\": 0, \"ticks\": \"\"}}, \"type\": \"scattermapbox\"}], \"scatterpolar\": [{\"marker\": {\"colorbar\": {\"outlinewidth\": 0, \"ticks\": \"\"}}, \"type\": \"scatterpolar\"}], \"scatterpolargl\": [{\"marker\": {\"colorbar\": {\"outlinewidth\": 0, \"ticks\": \"\"}}, \"type\": \"scatterpolargl\"}], \"scatterternary\": [{\"marker\": {\"colorbar\": {\"outlinewidth\": 0, \"ticks\": \"\"}}, \"type\": \"scatterternary\"}], \"surface\": [{\"colorbar\": {\"outlinewidth\": 0, \"ticks\": \"\"}, \"colorscale\": [[0.0, \"#0d0887\"], [0.1111111111111111, \"#46039f\"], [0.2222222222222222, \"#7201a8\"], [0.3333333333333333, \"#9c179e\"], [0.4444444444444444, \"#bd3786\"], [0.5555555555555556, \"#d8576b\"], [0.6666666666666666, \"#ed7953\"], [0.7777777777777778, \"#fb9f3a\"], [0.8888888888888888, \"#fdca26\"], [1.0, \"#f0f921\"]], \"type\": \"surface\"}], \"table\": [{\"cells\": {\"fill\": {\"color\": \"#EBF0F8\"}, \"line\": {\"color\": \"white\"}}, \"header\": {\"fill\": {\"color\": \"#C8D4E3\"}, \"line\": {\"color\": \"white\"}}, \"type\": \"table\"}]}, \"layout\": {\"annotationdefaults\": {\"arrowcolor\": \"#2a3f5f\", \"arrowhead\": 0, \"arrowwidth\": 1}, \"autotypenumbers\": \"strict\", \"coloraxis\": {\"colorbar\": {\"outlinewidth\": 0, \"ticks\": \"\"}}, \"colorscale\": {\"diverging\": [[0, \"#8e0152\"], [0.1, \"#c51b7d\"], [0.2, \"#de77ae\"], [0.3, \"#f1b6da\"], [0.4, \"#fde0ef\"], [0.5, \"#f7f7f7\"], [0.6, \"#e6f5d0\"], [0.7, \"#b8e186\"], [0.8, \"#7fbc41\"], [0.9, \"#4d9221\"], [1, \"#276419\"]], \"sequential\": [[0.0, \"#0d0887\"], [0.1111111111111111, \"#46039f\"], [0.2222222222222222, \"#7201a8\"], [0.3333333333333333, \"#9c179e\"], [0.4444444444444444, \"#bd3786\"], [0.5555555555555556, \"#d8576b\"], [0.6666666666666666, \"#ed7953\"], [0.7777777777777778, \"#fb9f3a\"], [0.8888888888888888, \"#fdca26\"], [1.0, \"#f0f921\"]], \"sequentialminus\": [[0.0, \"#0d0887\"], [0.1111111111111111, \"#46039f\"], [0.2222222222222222, \"#7201a8\"], [0.3333333333333333, \"#9c179e\"], [0.4444444444444444, \"#bd3786\"], [0.5555555555555556, \"#d8576b\"], [0.6666666666666666, \"#ed7953\"], [0.7777777777777778, \"#fb9f3a\"], [0.8888888888888888, \"#fdca26\"], [1.0, \"#f0f921\"]]}, \"colorway\": [\"#636efa\", \"#EF553B\", \"#00cc96\", \"#ab63fa\", \"#FFA15A\", \"#19d3f3\", \"#FF6692\", \"#B6E880\", \"#FF97FF\", \"#FECB52\"], \"font\": {\"color\": \"#2a3f5f\"}, \"geo\": {\"bgcolor\": \"white\", \"lakecolor\": \"white\", \"landcolor\": \"#E5ECF6\", \"showlakes\": true, \"showland\": true, \"subunitcolor\": \"white\"}, \"hoverlabel\": {\"align\": \"left\"}, \"hovermode\": \"closest\", \"mapbox\": {\"style\": \"light\"}, \"paper_bgcolor\": \"white\", \"plot_bgcolor\": \"#E5ECF6\", \"polar\": {\"angularaxis\": {\"gridcolor\": \"white\", \"linecolor\": \"white\", \"ticks\": \"\"}, \"bgcolor\": \"#E5ECF6\", \"radialaxis\": {\"gridcolor\": \"white\", \"linecolor\": \"white\", \"ticks\": \"\"}}, \"scene\": {\"xaxis\": {\"backgroundcolor\": \"#E5ECF6\", \"gridcolor\": \"white\", \"gridwidth\": 2, \"linecolor\": \"white\", \"showbackground\": true, \"ticks\": \"\", \"zerolinecolor\": \"white\"}, \"yaxis\": {\"backgroundcolor\": \"#E5ECF6\", \"gridcolor\": \"white\", \"gridwidth\": 2, \"linecolor\": \"white\", \"showbackground\": true, \"ticks\": \"\", \"zerolinecolor\": \"white\"}, \"zaxis\": {\"backgroundcolor\": \"#E5ECF6\", \"gridcolor\": \"white\", \"gridwidth\": 2, \"linecolor\": \"white\", \"showbackground\": true, \"ticks\": \"\", \"zerolinecolor\": \"white\"}}, \"shapedefaults\": {\"line\": {\"color\": \"#2a3f5f\"}}, \"ternary\": {\"aaxis\": {\"gridcolor\": \"white\", \"linecolor\": \"white\", \"ticks\": \"\"}, \"baxis\": {\"gridcolor\": \"white\", \"linecolor\": \"white\", \"ticks\": \"\"}, \"bgcolor\": \"#E5ECF6\", \"caxis\": {\"gridcolor\": \"white\", \"linecolor\": \"white\", \"ticks\": \"\"}}, \"title\": {\"x\": 0.05}, \"xaxis\": {\"automargin\": true, \"gridcolor\": \"white\", \"linecolor\": \"white\", \"ticks\": \"\", \"title\": {\"standoff\": 15}, \"zerolinecolor\": \"white\", \"zerolinewidth\": 2}, \"yaxis\": {\"automargin\": true, \"gridcolor\": \"white\", \"linecolor\": \"white\", \"ticks\": \"\", \"title\": {\"standoff\": 15}, \"zerolinecolor\": \"white\", \"zerolinewidth\": 2}}}, \"title\": {\"font\": {\"color\": \"#4D5663\"}}, \"xaxis\": {\"gridcolor\": \"#E1E5ED\", \"showgrid\": true, \"tickfont\": {\"color\": \"#4D5663\"}, \"title\": {\"font\": {\"color\": \"#4D5663\"}, \"text\": \"\"}, \"zerolinecolor\": \"#E1E5ED\"}, \"yaxis\": {\"gridcolor\": \"#E1E5ED\", \"showgrid\": true, \"tickfont\": {\"color\": \"#4D5663\"}, \"title\": {\"font\": {\"color\": \"#4D5663\"}, \"text\": \"\"}, \"zerolinecolor\": \"#E1E5ED\"}},                        {\"showLink\": true, \"linkText\": \"Export to plot.ly\", \"plotlyServerURL\": \"https://plot.ly\", \"responsive\": true}                    ).then(function(){\n",
       "                            \n",
       "var gd = document.getElementById('556a7817-17da-48ce-8b60-acc50b7d295f');\n",
       "var x = new MutationObserver(function (mutations, observer) {{\n",
       "        var display = window.getComputedStyle(gd).display;\n",
       "        if (!display || display === 'none') {{\n",
       "            console.log([gd, 'removed!']);\n",
       "            Plotly.purge(gd);\n",
       "            observer.disconnect();\n",
       "        }}\n",
       "}});\n",
       "\n",
       "// Listen for the removal of the full notebook cells\n",
       "var notebookContainer = gd.closest('#notebook-container');\n",
       "if (notebookContainer) {{\n",
       "    x.observe(notebookContainer, {childList: true});\n",
       "}}\n",
       "\n",
       "// Listen for the clearing of the current output cell\n",
       "var outputEl = gd.closest('.output');\n",
       "if (outputEl) {{\n",
       "    x.observe(outputEl, {childList: true});\n",
       "}}\n",
       "\n",
       "                        })                };                });            </script>        </div>"
      ]
     },
     "metadata": {},
     "output_type": "display_data"
    }
   ],
   "source": [
    "df.iplot(kind=\"bubble\",x=\"A\",y=\"B\",size=\"C\")"
   ]
  },
  {
   "cell_type": "code",
   "execution_count": 19,
   "metadata": {},
   "outputs": [
    {
     "data": {
      "application/vnd.plotly.v1+json": {
       "config": {
        "linkText": "Export to plot.ly",
        "plotlyServerURL": "https://plot.ly",
        "showLink": true
       },
       "data": [
        {
         "histfunc": "count",
         "histnorm": "",
         "marker": {
          "color": "rgba(255, 153, 51, 1.0)",
          "line": {
           "color": "#4D5663",
           "width": 1.3
          }
         },
         "name": "A",
         "nbinsx": 10,
         "opacity": 0.8,
         "orientation": "v",
         "type": "histogram",
         "x": [
          -0.6915796259609344,
          -0.8872849879301269,
          0.7351331691915325,
          0.0187482624021014,
          -1.3817892822184494,
          1.6276935039887588,
          0.48741645957410107,
          0.7184343185820924,
          -1.9281264806682483,
          -0.8999233502422062,
          -1.7799183101839324,
          0.9008821566604649,
          0.20301832261981306,
          1.8060196231091028,
          -0.2913743722283807,
          -1.0028680571625874,
          -0.7799725268069628,
          -1.0115947811354846,
          1.6690294312418568,
          -1.0396907179959067,
          0.06871544329476185,
          -0.8842237666730386,
          1.224973208704979,
          0.4631385238986198,
          0.740878154820934,
          -0.5813038422552343,
          -0.9383979476151751,
          2.2143189803556362,
          -0.423551427103088,
          -0.42048634304971966,
          0.4524961287844688,
          -0.2849268456346176,
          0.20084633802688698,
          -1.179587520197634,
          -1.2171104780344941,
          1.31260455425112,
          0.07424119953542815,
          1.3428441779852547,
          -2.860036001452457,
          -0.2980548945617647,
          1.7031874742888558,
          0.4039403360775828,
          -0.4530643885339186,
          0.5166202508143846,
          2.5061604436079388,
          -0.22651256670052275,
          -0.4113509392005815,
          0.3844710304962001,
          0.7768993023151984,
          0.3919698813535365,
          -1.2483424611011424,
          0.5757471088717269,
          -0.9586586441077025,
          0.07349496376369483,
          0.4105909975316248,
          0.38694569353694597,
          -0.06808552922896927,
          -0.30962695184908284,
          -0.10858045854730711,
          1.144943808386343,
          -1.1158660861520617,
          -0.8072714792006194,
          -0.8200009118915258,
          0.2406666220789867,
          -0.427222957956366,
          1.772402559856502,
          -0.15284717195228584,
          0.15338364795477655,
          -0.7943165728504842,
          -1.4053685632042303,
          0.8582648769101241,
          -0.7422149276534388,
          -0.983609520312817,
          1.008138822924062,
          -2.812568541347789,
          -0.7667967963565699,
          1.4951803796842733,
          -0.17619436709084627,
          0.39350770109275585,
          0.8172413146696621,
          0.5130245863583023,
          -0.6357411104723741,
          0.1321533298737306,
          1.2371806367240268,
          0.36351975843928164,
          -0.22604926645818205,
          -0.6664127081099145,
          1.3696975147006802,
          0.5798010860119244,
          -0.592057266420742,
          -0.4007257037255129,
          0.0604157024958049,
          0.19956225440633601,
          -0.2386209677915759,
          -0.45382262875168244,
          -0.029871779297502257,
          -0.2860381306203588,
          0.4140082157874592,
          0.5257824581842769,
          -0.369657676375118
         ],
         "xaxis": "x",
         "yaxis": "y"
        },
        {
         "line": {
          "color": "rgba(128, 128, 128, 1.0)",
          "dash": "solid",
          "shape": "linear",
          "width": 1.3
         },
         "marker": {
          "size": 2,
          "symbol": "circle"
         },
         "mode": "markers",
         "name": "A",
         "text": "",
         "type": "scatter",
         "x": [
          -0.4416109016685977,
          1.5651155798664615,
          -0.486386343433522,
          -2.199567556381776,
          -0.9142935082338941,
          0.06812640059682612,
          0.4776202682694769,
          1.0546625009640556,
          -0.6880548877398517,
          1.8209757828156723,
          1.5571718328009587,
          1.1589728923099107,
          1.163334643980302,
          -0.9964320957995271,
          0.5229700623178248,
          -0.5422628084138779,
          -0.267673267490769,
          -2.542024338097646,
          0.1892572429133559,
          0.9531814741576196,
          0.7493063574421213,
          0.5023472703547277,
          -0.6404279709338484,
          -0.09415765433918766,
          -0.8473289830681051,
          2.4475018491497593,
          -1.2457317162324226,
          -1.3811748213213695,
          0.20239230418083937,
          1.1660197139884207,
          0.4389106508835806,
          -1.5696964379987275,
          -2.1470786229066596,
          -1.2716195718711647,
          -0.32431857246238116,
          -0.48671087904318966,
          0.807176097279996,
          -0.4545226307330017,
          0.9692805152724048,
          -0.5399406974702767,
          -0.9112616777512544,
          -0.714636963502582,
          0.4401518992961405,
          1.2112389619411343,
          -0.36511562219575633,
          -0.823735935608685,
          0.6940529112251567,
          1.2488733228033813,
          -0.8614307813991519,
          2.347537155331469,
          -1.1135489104449754,
          -0.4266769291945704,
          -0.34983112284132795,
          -1.0800241937145774,
          -0.7310272741866767,
          0.6143328644742845,
          -0.24735519775421033,
          0.5218972511065154,
          0.18495767661158455,
          0.03356610062777415,
          -0.9264261222493289,
          -1.1715593013084677,
          1.3667087323756861,
          -0.07870407832879851,
          0.050980863247599886,
          -1.4353282576073432,
          -1.1057379385577595,
          -1.240759569480158,
          -1.435045518952723,
          0.2866146102228182,
          -0.4321199550320402,
          0.20803661832940504,
          -1.637427291219393,
          1.195797731567711,
          0.36417372075511256,
          0.06277847213280971,
          -0.35012964109245687,
          2.45863772791582,
          -0.21262565217949736,
          0.08746166141915754,
          0.11560547765517383,
          -1.75608505564241,
          0.29493286266375646,
          -0.8759852777508496,
          0.6355229301680484,
          -0.019587564842157068,
          -0.4184902249812962,
          0.279985822989887,
          1.0476231961393485,
          -1.4800776423230955,
          0.8336250259779167,
          1.1108395642941793,
          -3.550161594830222,
          -0.3630151021155685,
          -0.4319034238532681,
          1.2014795760785844,
          -0.7163833677385238,
          -0.9322561095076094,
          0.978279984551639,
          0.3454873088830252
         ],
         "xaxis": "x2",
         "y": [
          -0.6915796259609344,
          -0.8872849879301269,
          0.7351331691915325,
          0.0187482624021014,
          -1.3817892822184494,
          1.6276935039887588,
          0.48741645957410107,
          0.7184343185820924,
          -1.9281264806682483,
          -0.8999233502422062,
          -1.7799183101839324,
          0.9008821566604649,
          0.20301832261981306,
          1.8060196231091028,
          -0.2913743722283807,
          -1.0028680571625874,
          -0.7799725268069628,
          -1.0115947811354846,
          1.6690294312418568,
          -1.0396907179959067,
          0.06871544329476185,
          -0.8842237666730386,
          1.224973208704979,
          0.4631385238986198,
          0.740878154820934,
          -0.5813038422552343,
          -0.9383979476151751,
          2.2143189803556362,
          -0.423551427103088,
          -0.42048634304971966,
          0.4524961287844688,
          -0.2849268456346176,
          0.20084633802688698,
          -1.179587520197634,
          -1.2171104780344941,
          1.31260455425112,
          0.07424119953542815,
          1.3428441779852547,
          -2.860036001452457,
          -0.2980548945617647,
          1.7031874742888558,
          0.4039403360775828,
          -0.4530643885339186,
          0.5166202508143846,
          2.5061604436079388,
          -0.22651256670052275,
          -0.4113509392005815,
          0.3844710304962001,
          0.7768993023151984,
          0.3919698813535365,
          -1.2483424611011424,
          0.5757471088717269,
          -0.9586586441077025,
          0.07349496376369483,
          0.4105909975316248,
          0.38694569353694597,
          -0.06808552922896927,
          -0.30962695184908284,
          -0.10858045854730711,
          1.144943808386343,
          -1.1158660861520617,
          -0.8072714792006194,
          -0.8200009118915258,
          0.2406666220789867,
          -0.427222957956366,
          1.772402559856502,
          -0.15284717195228584,
          0.15338364795477655,
          -0.7943165728504842,
          -1.4053685632042303,
          0.8582648769101241,
          -0.7422149276534388,
          -0.983609520312817,
          1.008138822924062,
          -2.812568541347789,
          -0.7667967963565699,
          1.4951803796842733,
          -0.17619436709084627,
          0.39350770109275585,
          0.8172413146696621,
          0.5130245863583023,
          -0.6357411104723741,
          0.1321533298737306,
          1.2371806367240268,
          0.36351975843928164,
          -0.22604926645818205,
          -0.6664127081099145,
          1.3696975147006802,
          0.5798010860119244,
          -0.592057266420742,
          -0.4007257037255129,
          0.0604157024958049,
          0.19956225440633601,
          -0.2386209677915759,
          -0.45382262875168244,
          -0.029871779297502257,
          -0.2860381306203588,
          0.4140082157874592,
          0.5257824581842769,
          -0.369657676375118
         ],
         "yaxis": "y2"
        },
        {
         "line": {
          "color": "rgba(128, 128, 128, 1.0)",
          "dash": "solid",
          "shape": "linear",
          "width": 1.3
         },
         "marker": {
          "size": 2,
          "symbol": "circle"
         },
         "mode": "markers",
         "name": "A",
         "text": "",
         "type": "scatter",
         "x": [
          0.4522545879584659,
          -0.3098883532541913,
          -0.8685915805795065,
          1.2496515690698484,
          -1.7513335542533628,
          -2.0362585016739296,
          -1.3040385922257955,
          -0.5093871032378738,
          -0.913353838111688,
          0.8971050990564488,
          -1.485156501773989,
          -2.0316025172206866,
          -2.218068863798064,
          -0.2472925822811598,
          -0.8902405104136178,
          -0.11429329601199983,
          0.6742287539695303,
          -0.36252696301872683,
          1.5304273493611418,
          0.6444135294669895,
          0.09974417339352815,
          0.19658634501512137,
          1.287392439384835,
          -1.0480474195184937,
          1.0909907861818477,
          -1.2317793804201551,
          -0.12566975721461193,
          1.2909130254442163,
          0.6599109766293723,
          -2.0140894429621694,
          -0.15294953091052038,
          -0.021635097566481014,
          0.8796304546424791,
          -0.6792603957867522,
          0.2945752209531674,
          1.1297471141016806,
          -0.11676254871991425,
          2.347583941514725,
          -1.5781924447410682,
          0.27579871510013204,
          -1.2933996036086985,
          -1.912483689589599,
          -1.0504313141077672,
          -0.20830844283929625,
          0.18513803501323942,
          -0.996047459104622,
          0.08905933592094152,
          -0.1405226541897708,
          0.9943259225215723,
          0.8115351024740861,
          0.35082757968197054,
          0.34746321091398474,
          0.8339728671159397,
          -0.13572412190405891,
          1.215372964946147,
          0.6899434067824541,
          0.251646583188885,
          0.5118398641384256,
          0.28326596553543903,
          2.545421016579426,
          0.5075132599579651,
          0.5087398917009316,
          1.1670523429606985,
          0.2027812050913676,
          -1.074098935456282,
          0.4655297640930342,
          -1.2135089455240367,
          -0.16525202676395842,
          -0.07768556384782098,
          -0.20235544552513945,
          -0.08800485992119174,
          -0.736560482304127,
          0.5474920051755428,
          0.462190481078619,
          -1.8287944197919235,
          -2.136122074828795,
          0.31467548751679214,
          1.569565126547533,
          -0.16294217349948453,
          0.5809867335685517,
          0.056210066261843286,
          -0.5788194006182091,
          -1.4668693903168615,
          0.7265379204783153,
          0.6870289394605951,
          0.3937539131814704,
          -0.9803956898112073,
          -0.8146279825557912,
          0.37984854878028845,
          0.5410058249236476,
          1.7521938557230308,
          -1.0563009039764553,
          -1.9952453346270143,
          -1.8123894331771992,
          0.37598564650114286,
          1.8090871596555738,
          -0.08155816086073539,
          -0.6581872710293829,
          1.2217916891499028,
          -0.45890083340443405
         ],
         "xaxis": "x3",
         "y": [
          -0.6915796259609344,
          -0.8872849879301269,
          0.7351331691915325,
          0.0187482624021014,
          -1.3817892822184494,
          1.6276935039887588,
          0.48741645957410107,
          0.7184343185820924,
          -1.9281264806682483,
          -0.8999233502422062,
          -1.7799183101839324,
          0.9008821566604649,
          0.20301832261981306,
          1.8060196231091028,
          -0.2913743722283807,
          -1.0028680571625874,
          -0.7799725268069628,
          -1.0115947811354846,
          1.6690294312418568,
          -1.0396907179959067,
          0.06871544329476185,
          -0.8842237666730386,
          1.224973208704979,
          0.4631385238986198,
          0.740878154820934,
          -0.5813038422552343,
          -0.9383979476151751,
          2.2143189803556362,
          -0.423551427103088,
          -0.42048634304971966,
          0.4524961287844688,
          -0.2849268456346176,
          0.20084633802688698,
          -1.179587520197634,
          -1.2171104780344941,
          1.31260455425112,
          0.07424119953542815,
          1.3428441779852547,
          -2.860036001452457,
          -0.2980548945617647,
          1.7031874742888558,
          0.4039403360775828,
          -0.4530643885339186,
          0.5166202508143846,
          2.5061604436079388,
          -0.22651256670052275,
          -0.4113509392005815,
          0.3844710304962001,
          0.7768993023151984,
          0.3919698813535365,
          -1.2483424611011424,
          0.5757471088717269,
          -0.9586586441077025,
          0.07349496376369483,
          0.4105909975316248,
          0.38694569353694597,
          -0.06808552922896927,
          -0.30962695184908284,
          -0.10858045854730711,
          1.144943808386343,
          -1.1158660861520617,
          -0.8072714792006194,
          -0.8200009118915258,
          0.2406666220789867,
          -0.427222957956366,
          1.772402559856502,
          -0.15284717195228584,
          0.15338364795477655,
          -0.7943165728504842,
          -1.4053685632042303,
          0.8582648769101241,
          -0.7422149276534388,
          -0.983609520312817,
          1.008138822924062,
          -2.812568541347789,
          -0.7667967963565699,
          1.4951803796842733,
          -0.17619436709084627,
          0.39350770109275585,
          0.8172413146696621,
          0.5130245863583023,
          -0.6357411104723741,
          0.1321533298737306,
          1.2371806367240268,
          0.36351975843928164,
          -0.22604926645818205,
          -0.6664127081099145,
          1.3696975147006802,
          0.5798010860119244,
          -0.592057266420742,
          -0.4007257037255129,
          0.0604157024958049,
          0.19956225440633601,
          -0.2386209677915759,
          -0.45382262875168244,
          -0.029871779297502257,
          -0.2860381306203588,
          0.4140082157874592,
          0.5257824581842769,
          -0.369657676375118
         ],
         "yaxis": "y3"
        },
        {
         "line": {
          "color": "rgba(128, 128, 128, 1.0)",
          "dash": "solid",
          "shape": "linear",
          "width": 1.3
         },
         "marker": {
          "size": 2,
          "symbol": "circle"
         },
         "mode": "markers",
         "name": "A",
         "text": "",
         "type": "scatter",
         "x": [
          -1.0306605709096543,
          -0.1752621732294562,
          -1.3928220006840555,
          -0.4001829936276594,
          0.8024891201013005,
          1.048463155119017,
          0.6775298289407882,
          -1.783840862574793,
          -0.5490506553033939,
          -2.756564892179787,
          0.4947119292473199,
          -1.3374450687095152,
          -1.2918993015358484,
          -0.6533893666818588,
          0.7805657099556595,
          0.26681780728876525,
          -1.7798873417359986,
          0.6723886339722739,
          0.8177184687575915,
          -1.9215280829952912,
          0.3321842699996094,
          1.3301377990939902,
          -0.5457930337240582,
          -1.3837534482925964,
          0.8645492110167224,
          -1.0054946576727923,
          0.2818559611625251,
          0.0035772240944569353,
          1.2229729665859856,
          -1.192623136181325,
          -0.5985598740067203,
          0.5220081460583174,
          0.7172735500222303,
          -2.9155070054398267,
          0.2145744600583689,
          0.4338744489865867,
          -1.4233566395261539,
          -1.7415104733859441,
          -0.5234253418551685,
          -2.399537842193371,
          0.14386601618288897,
          -0.00401638591076631,
          -0.6354545083109396,
          -1.8517092368774808,
          -0.44969971698053335,
          -0.1574671947169798,
          -1.4292170644825395,
          -1.2139998545048707,
          -1.1173414632202152,
          1.438716717538454,
          -1.2552216131544838,
          -0.7447038580280433,
          -0.399436232497645,
          0.9507205946727983,
          -0.08470741143090028,
          0.18803028316262008,
          -0.2582382390610199,
          1.0059991413484877,
          -1.8900520208225555,
          -0.16156819110984721,
          0.8814104867337247,
          -0.21258656399161507,
          1.4110848550461996,
          0.9817766994274616,
          -0.24708653757544896,
          -0.4037757668502509,
          -0.3257817752332432,
          0.3840584491590996,
          -0.6666543463508315,
          -1.3511182297814253,
          -1.372946329912293,
          -0.4931193577594537,
          0.9473803349008856,
          0.5438693985374551,
          1.6913999794747723,
          -0.9956203708574634,
          -0.4098564636956649,
          0.39531073326868843,
          -0.24968403067732653,
          -0.14551797080403323,
          0.3982815575902771,
          -1.1718833576081524,
          -1.0814038546124822,
          -0.8345188061678622,
          -1.6567678718728382,
          -1.3020504259299415,
          1.1438735246629153,
          0.6084456630495041,
          0.4266279077187081,
          0.8680359185399901,
          0.8075987924364346,
          0.3681502183985649,
          -0.1180412052735829,
          1.4356462801667715,
          -0.45425706018736056,
          -1.5954564021703606,
          0.21561546927263744,
          0.8860055832666353,
          0.19574625415171115,
          -0.17862959435754738
         ],
         "xaxis": "x4",
         "y": [
          -0.6915796259609344,
          -0.8872849879301269,
          0.7351331691915325,
          0.0187482624021014,
          -1.3817892822184494,
          1.6276935039887588,
          0.48741645957410107,
          0.7184343185820924,
          -1.9281264806682483,
          -0.8999233502422062,
          -1.7799183101839324,
          0.9008821566604649,
          0.20301832261981306,
          1.8060196231091028,
          -0.2913743722283807,
          -1.0028680571625874,
          -0.7799725268069628,
          -1.0115947811354846,
          1.6690294312418568,
          -1.0396907179959067,
          0.06871544329476185,
          -0.8842237666730386,
          1.224973208704979,
          0.4631385238986198,
          0.740878154820934,
          -0.5813038422552343,
          -0.9383979476151751,
          2.2143189803556362,
          -0.423551427103088,
          -0.42048634304971966,
          0.4524961287844688,
          -0.2849268456346176,
          0.20084633802688698,
          -1.179587520197634,
          -1.2171104780344941,
          1.31260455425112,
          0.07424119953542815,
          1.3428441779852547,
          -2.860036001452457,
          -0.2980548945617647,
          1.7031874742888558,
          0.4039403360775828,
          -0.4530643885339186,
          0.5166202508143846,
          2.5061604436079388,
          -0.22651256670052275,
          -0.4113509392005815,
          0.3844710304962001,
          0.7768993023151984,
          0.3919698813535365,
          -1.2483424611011424,
          0.5757471088717269,
          -0.9586586441077025,
          0.07349496376369483,
          0.4105909975316248,
          0.38694569353694597,
          -0.06808552922896927,
          -0.30962695184908284,
          -0.10858045854730711,
          1.144943808386343,
          -1.1158660861520617,
          -0.8072714792006194,
          -0.8200009118915258,
          0.2406666220789867,
          -0.427222957956366,
          1.772402559856502,
          -0.15284717195228584,
          0.15338364795477655,
          -0.7943165728504842,
          -1.4053685632042303,
          0.8582648769101241,
          -0.7422149276534388,
          -0.983609520312817,
          1.008138822924062,
          -2.812568541347789,
          -0.7667967963565699,
          1.4951803796842733,
          -0.17619436709084627,
          0.39350770109275585,
          0.8172413146696621,
          0.5130245863583023,
          -0.6357411104723741,
          0.1321533298737306,
          1.2371806367240268,
          0.36351975843928164,
          -0.22604926645818205,
          -0.6664127081099145,
          1.3696975147006802,
          0.5798010860119244,
          -0.592057266420742,
          -0.4007257037255129,
          0.0604157024958049,
          0.19956225440633601,
          -0.2386209677915759,
          -0.45382262875168244,
          -0.029871779297502257,
          -0.2860381306203588,
          0.4140082157874592,
          0.5257824581842769,
          -0.369657676375118
         ],
         "yaxis": "y4"
        },
        {
         "line": {
          "color": "rgba(128, 128, 128, 1.0)",
          "dash": "solid",
          "shape": "linear",
          "width": 1.3
         },
         "marker": {
          "size": 2,
          "symbol": "circle"
         },
         "mode": "markers",
         "name": "B",
         "text": "",
         "type": "scatter",
         "x": [
          -0.6915796259609344,
          -0.8872849879301269,
          0.7351331691915325,
          0.0187482624021014,
          -1.3817892822184494,
          1.6276935039887588,
          0.48741645957410107,
          0.7184343185820924,
          -1.9281264806682483,
          -0.8999233502422062,
          -1.7799183101839324,
          0.9008821566604649,
          0.20301832261981306,
          1.8060196231091028,
          -0.2913743722283807,
          -1.0028680571625874,
          -0.7799725268069628,
          -1.0115947811354846,
          1.6690294312418568,
          -1.0396907179959067,
          0.06871544329476185,
          -0.8842237666730386,
          1.224973208704979,
          0.4631385238986198,
          0.740878154820934,
          -0.5813038422552343,
          -0.9383979476151751,
          2.2143189803556362,
          -0.423551427103088,
          -0.42048634304971966,
          0.4524961287844688,
          -0.2849268456346176,
          0.20084633802688698,
          -1.179587520197634,
          -1.2171104780344941,
          1.31260455425112,
          0.07424119953542815,
          1.3428441779852547,
          -2.860036001452457,
          -0.2980548945617647,
          1.7031874742888558,
          0.4039403360775828,
          -0.4530643885339186,
          0.5166202508143846,
          2.5061604436079388,
          -0.22651256670052275,
          -0.4113509392005815,
          0.3844710304962001,
          0.7768993023151984,
          0.3919698813535365,
          -1.2483424611011424,
          0.5757471088717269,
          -0.9586586441077025,
          0.07349496376369483,
          0.4105909975316248,
          0.38694569353694597,
          -0.06808552922896927,
          -0.30962695184908284,
          -0.10858045854730711,
          1.144943808386343,
          -1.1158660861520617,
          -0.8072714792006194,
          -0.8200009118915258,
          0.2406666220789867,
          -0.427222957956366,
          1.772402559856502,
          -0.15284717195228584,
          0.15338364795477655,
          -0.7943165728504842,
          -1.4053685632042303,
          0.8582648769101241,
          -0.7422149276534388,
          -0.983609520312817,
          1.008138822924062,
          -2.812568541347789,
          -0.7667967963565699,
          1.4951803796842733,
          -0.17619436709084627,
          0.39350770109275585,
          0.8172413146696621,
          0.5130245863583023,
          -0.6357411104723741,
          0.1321533298737306,
          1.2371806367240268,
          0.36351975843928164,
          -0.22604926645818205,
          -0.6664127081099145,
          1.3696975147006802,
          0.5798010860119244,
          -0.592057266420742,
          -0.4007257037255129,
          0.0604157024958049,
          0.19956225440633601,
          -0.2386209677915759,
          -0.45382262875168244,
          -0.029871779297502257,
          -0.2860381306203588,
          0.4140082157874592,
          0.5257824581842769,
          -0.369657676375118
         ],
         "xaxis": "x5",
         "y": [
          -0.4416109016685977,
          1.5651155798664615,
          -0.486386343433522,
          -2.199567556381776,
          -0.9142935082338941,
          0.06812640059682612,
          0.4776202682694769,
          1.0546625009640556,
          -0.6880548877398517,
          1.8209757828156723,
          1.5571718328009587,
          1.1589728923099107,
          1.163334643980302,
          -0.9964320957995271,
          0.5229700623178248,
          -0.5422628084138779,
          -0.267673267490769,
          -2.542024338097646,
          0.1892572429133559,
          0.9531814741576196,
          0.7493063574421213,
          0.5023472703547277,
          -0.6404279709338484,
          -0.09415765433918766,
          -0.8473289830681051,
          2.4475018491497593,
          -1.2457317162324226,
          -1.3811748213213695,
          0.20239230418083937,
          1.1660197139884207,
          0.4389106508835806,
          -1.5696964379987275,
          -2.1470786229066596,
          -1.2716195718711647,
          -0.32431857246238116,
          -0.48671087904318966,
          0.807176097279996,
          -0.4545226307330017,
          0.9692805152724048,
          -0.5399406974702767,
          -0.9112616777512544,
          -0.714636963502582,
          0.4401518992961405,
          1.2112389619411343,
          -0.36511562219575633,
          -0.823735935608685,
          0.6940529112251567,
          1.2488733228033813,
          -0.8614307813991519,
          2.347537155331469,
          -1.1135489104449754,
          -0.4266769291945704,
          -0.34983112284132795,
          -1.0800241937145774,
          -0.7310272741866767,
          0.6143328644742845,
          -0.24735519775421033,
          0.5218972511065154,
          0.18495767661158455,
          0.03356610062777415,
          -0.9264261222493289,
          -1.1715593013084677,
          1.3667087323756861,
          -0.07870407832879851,
          0.050980863247599886,
          -1.4353282576073432,
          -1.1057379385577595,
          -1.240759569480158,
          -1.435045518952723,
          0.2866146102228182,
          -0.4321199550320402,
          0.20803661832940504,
          -1.637427291219393,
          1.195797731567711,
          0.36417372075511256,
          0.06277847213280971,
          -0.35012964109245687,
          2.45863772791582,
          -0.21262565217949736,
          0.08746166141915754,
          0.11560547765517383,
          -1.75608505564241,
          0.29493286266375646,
          -0.8759852777508496,
          0.6355229301680484,
          -0.019587564842157068,
          -0.4184902249812962,
          0.279985822989887,
          1.0476231961393485,
          -1.4800776423230955,
          0.8336250259779167,
          1.1108395642941793,
          -3.550161594830222,
          -0.3630151021155685,
          -0.4319034238532681,
          1.2014795760785844,
          -0.7163833677385238,
          -0.9322561095076094,
          0.978279984551639,
          0.3454873088830252
         ],
         "yaxis": "y5"
        },
        {
         "histfunc": "count",
         "histnorm": "",
         "marker": {
          "color": "rgba(55, 128, 191, 1.0)",
          "line": {
           "color": "#4D5663",
           "width": 1.3
          }
         },
         "name": "B",
         "nbinsx": 10,
         "opacity": 0.8,
         "orientation": "v",
         "type": "histogram",
         "x": [
          -0.4416109016685977,
          1.5651155798664615,
          -0.486386343433522,
          -2.199567556381776,
          -0.9142935082338941,
          0.06812640059682612,
          0.4776202682694769,
          1.0546625009640556,
          -0.6880548877398517,
          1.8209757828156723,
          1.5571718328009587,
          1.1589728923099107,
          1.163334643980302,
          -0.9964320957995271,
          0.5229700623178248,
          -0.5422628084138779,
          -0.267673267490769,
          -2.542024338097646,
          0.1892572429133559,
          0.9531814741576196,
          0.7493063574421213,
          0.5023472703547277,
          -0.6404279709338484,
          -0.09415765433918766,
          -0.8473289830681051,
          2.4475018491497593,
          -1.2457317162324226,
          -1.3811748213213695,
          0.20239230418083937,
          1.1660197139884207,
          0.4389106508835806,
          -1.5696964379987275,
          -2.1470786229066596,
          -1.2716195718711647,
          -0.32431857246238116,
          -0.48671087904318966,
          0.807176097279996,
          -0.4545226307330017,
          0.9692805152724048,
          -0.5399406974702767,
          -0.9112616777512544,
          -0.714636963502582,
          0.4401518992961405,
          1.2112389619411343,
          -0.36511562219575633,
          -0.823735935608685,
          0.6940529112251567,
          1.2488733228033813,
          -0.8614307813991519,
          2.347537155331469,
          -1.1135489104449754,
          -0.4266769291945704,
          -0.34983112284132795,
          -1.0800241937145774,
          -0.7310272741866767,
          0.6143328644742845,
          -0.24735519775421033,
          0.5218972511065154,
          0.18495767661158455,
          0.03356610062777415,
          -0.9264261222493289,
          -1.1715593013084677,
          1.3667087323756861,
          -0.07870407832879851,
          0.050980863247599886,
          -1.4353282576073432,
          -1.1057379385577595,
          -1.240759569480158,
          -1.435045518952723,
          0.2866146102228182,
          -0.4321199550320402,
          0.20803661832940504,
          -1.637427291219393,
          1.195797731567711,
          0.36417372075511256,
          0.06277847213280971,
          -0.35012964109245687,
          2.45863772791582,
          -0.21262565217949736,
          0.08746166141915754,
          0.11560547765517383,
          -1.75608505564241,
          0.29493286266375646,
          -0.8759852777508496,
          0.6355229301680484,
          -0.019587564842157068,
          -0.4184902249812962,
          0.279985822989887,
          1.0476231961393485,
          -1.4800776423230955,
          0.8336250259779167,
          1.1108395642941793,
          -3.550161594830222,
          -0.3630151021155685,
          -0.4319034238532681,
          1.2014795760785844,
          -0.7163833677385238,
          -0.9322561095076094,
          0.978279984551639,
          0.3454873088830252
         ],
         "xaxis": "x6",
         "yaxis": "y6"
        },
        {
         "line": {
          "color": "rgba(128, 128, 128, 1.0)",
          "dash": "solid",
          "shape": "linear",
          "width": 1.3
         },
         "marker": {
          "size": 2,
          "symbol": "circle"
         },
         "mode": "markers",
         "name": "B",
         "text": "",
         "type": "scatter",
         "x": [
          0.4522545879584659,
          -0.3098883532541913,
          -0.8685915805795065,
          1.2496515690698484,
          -1.7513335542533628,
          -2.0362585016739296,
          -1.3040385922257955,
          -0.5093871032378738,
          -0.913353838111688,
          0.8971050990564488,
          -1.485156501773989,
          -2.0316025172206866,
          -2.218068863798064,
          -0.2472925822811598,
          -0.8902405104136178,
          -0.11429329601199983,
          0.6742287539695303,
          -0.36252696301872683,
          1.5304273493611418,
          0.6444135294669895,
          0.09974417339352815,
          0.19658634501512137,
          1.287392439384835,
          -1.0480474195184937,
          1.0909907861818477,
          -1.2317793804201551,
          -0.12566975721461193,
          1.2909130254442163,
          0.6599109766293723,
          -2.0140894429621694,
          -0.15294953091052038,
          -0.021635097566481014,
          0.8796304546424791,
          -0.6792603957867522,
          0.2945752209531674,
          1.1297471141016806,
          -0.11676254871991425,
          2.347583941514725,
          -1.5781924447410682,
          0.27579871510013204,
          -1.2933996036086985,
          -1.912483689589599,
          -1.0504313141077672,
          -0.20830844283929625,
          0.18513803501323942,
          -0.996047459104622,
          0.08905933592094152,
          -0.1405226541897708,
          0.9943259225215723,
          0.8115351024740861,
          0.35082757968197054,
          0.34746321091398474,
          0.8339728671159397,
          -0.13572412190405891,
          1.215372964946147,
          0.6899434067824541,
          0.251646583188885,
          0.5118398641384256,
          0.28326596553543903,
          2.545421016579426,
          0.5075132599579651,
          0.5087398917009316,
          1.1670523429606985,
          0.2027812050913676,
          -1.074098935456282,
          0.4655297640930342,
          -1.2135089455240367,
          -0.16525202676395842,
          -0.07768556384782098,
          -0.20235544552513945,
          -0.08800485992119174,
          -0.736560482304127,
          0.5474920051755428,
          0.462190481078619,
          -1.8287944197919235,
          -2.136122074828795,
          0.31467548751679214,
          1.569565126547533,
          -0.16294217349948453,
          0.5809867335685517,
          0.056210066261843286,
          -0.5788194006182091,
          -1.4668693903168615,
          0.7265379204783153,
          0.6870289394605951,
          0.3937539131814704,
          -0.9803956898112073,
          -0.8146279825557912,
          0.37984854878028845,
          0.5410058249236476,
          1.7521938557230308,
          -1.0563009039764553,
          -1.9952453346270143,
          -1.8123894331771992,
          0.37598564650114286,
          1.8090871596555738,
          -0.08155816086073539,
          -0.6581872710293829,
          1.2217916891499028,
          -0.45890083340443405
         ],
         "xaxis": "x7",
         "y": [
          -0.4416109016685977,
          1.5651155798664615,
          -0.486386343433522,
          -2.199567556381776,
          -0.9142935082338941,
          0.06812640059682612,
          0.4776202682694769,
          1.0546625009640556,
          -0.6880548877398517,
          1.8209757828156723,
          1.5571718328009587,
          1.1589728923099107,
          1.163334643980302,
          -0.9964320957995271,
          0.5229700623178248,
          -0.5422628084138779,
          -0.267673267490769,
          -2.542024338097646,
          0.1892572429133559,
          0.9531814741576196,
          0.7493063574421213,
          0.5023472703547277,
          -0.6404279709338484,
          -0.09415765433918766,
          -0.8473289830681051,
          2.4475018491497593,
          -1.2457317162324226,
          -1.3811748213213695,
          0.20239230418083937,
          1.1660197139884207,
          0.4389106508835806,
          -1.5696964379987275,
          -2.1470786229066596,
          -1.2716195718711647,
          -0.32431857246238116,
          -0.48671087904318966,
          0.807176097279996,
          -0.4545226307330017,
          0.9692805152724048,
          -0.5399406974702767,
          -0.9112616777512544,
          -0.714636963502582,
          0.4401518992961405,
          1.2112389619411343,
          -0.36511562219575633,
          -0.823735935608685,
          0.6940529112251567,
          1.2488733228033813,
          -0.8614307813991519,
          2.347537155331469,
          -1.1135489104449754,
          -0.4266769291945704,
          -0.34983112284132795,
          -1.0800241937145774,
          -0.7310272741866767,
          0.6143328644742845,
          -0.24735519775421033,
          0.5218972511065154,
          0.18495767661158455,
          0.03356610062777415,
          -0.9264261222493289,
          -1.1715593013084677,
          1.3667087323756861,
          -0.07870407832879851,
          0.050980863247599886,
          -1.4353282576073432,
          -1.1057379385577595,
          -1.240759569480158,
          -1.435045518952723,
          0.2866146102228182,
          -0.4321199550320402,
          0.20803661832940504,
          -1.637427291219393,
          1.195797731567711,
          0.36417372075511256,
          0.06277847213280971,
          -0.35012964109245687,
          2.45863772791582,
          -0.21262565217949736,
          0.08746166141915754,
          0.11560547765517383,
          -1.75608505564241,
          0.29493286266375646,
          -0.8759852777508496,
          0.6355229301680484,
          -0.019587564842157068,
          -0.4184902249812962,
          0.279985822989887,
          1.0476231961393485,
          -1.4800776423230955,
          0.8336250259779167,
          1.1108395642941793,
          -3.550161594830222,
          -0.3630151021155685,
          -0.4319034238532681,
          1.2014795760785844,
          -0.7163833677385238,
          -0.9322561095076094,
          0.978279984551639,
          0.3454873088830252
         ],
         "yaxis": "y7"
        },
        {
         "line": {
          "color": "rgba(128, 128, 128, 1.0)",
          "dash": "solid",
          "shape": "linear",
          "width": 1.3
         },
         "marker": {
          "size": 2,
          "symbol": "circle"
         },
         "mode": "markers",
         "name": "B",
         "text": "",
         "type": "scatter",
         "x": [
          -1.0306605709096543,
          -0.1752621732294562,
          -1.3928220006840555,
          -0.4001829936276594,
          0.8024891201013005,
          1.048463155119017,
          0.6775298289407882,
          -1.783840862574793,
          -0.5490506553033939,
          -2.756564892179787,
          0.4947119292473199,
          -1.3374450687095152,
          -1.2918993015358484,
          -0.6533893666818588,
          0.7805657099556595,
          0.26681780728876525,
          -1.7798873417359986,
          0.6723886339722739,
          0.8177184687575915,
          -1.9215280829952912,
          0.3321842699996094,
          1.3301377990939902,
          -0.5457930337240582,
          -1.3837534482925964,
          0.8645492110167224,
          -1.0054946576727923,
          0.2818559611625251,
          0.0035772240944569353,
          1.2229729665859856,
          -1.192623136181325,
          -0.5985598740067203,
          0.5220081460583174,
          0.7172735500222303,
          -2.9155070054398267,
          0.2145744600583689,
          0.4338744489865867,
          -1.4233566395261539,
          -1.7415104733859441,
          -0.5234253418551685,
          -2.399537842193371,
          0.14386601618288897,
          -0.00401638591076631,
          -0.6354545083109396,
          -1.8517092368774808,
          -0.44969971698053335,
          -0.1574671947169798,
          -1.4292170644825395,
          -1.2139998545048707,
          -1.1173414632202152,
          1.438716717538454,
          -1.2552216131544838,
          -0.7447038580280433,
          -0.399436232497645,
          0.9507205946727983,
          -0.08470741143090028,
          0.18803028316262008,
          -0.2582382390610199,
          1.0059991413484877,
          -1.8900520208225555,
          -0.16156819110984721,
          0.8814104867337247,
          -0.21258656399161507,
          1.4110848550461996,
          0.9817766994274616,
          -0.24708653757544896,
          -0.4037757668502509,
          -0.3257817752332432,
          0.3840584491590996,
          -0.6666543463508315,
          -1.3511182297814253,
          -1.372946329912293,
          -0.4931193577594537,
          0.9473803349008856,
          0.5438693985374551,
          1.6913999794747723,
          -0.9956203708574634,
          -0.4098564636956649,
          0.39531073326868843,
          -0.24968403067732653,
          -0.14551797080403323,
          0.3982815575902771,
          -1.1718833576081524,
          -1.0814038546124822,
          -0.8345188061678622,
          -1.6567678718728382,
          -1.3020504259299415,
          1.1438735246629153,
          0.6084456630495041,
          0.4266279077187081,
          0.8680359185399901,
          0.8075987924364346,
          0.3681502183985649,
          -0.1180412052735829,
          1.4356462801667715,
          -0.45425706018736056,
          -1.5954564021703606,
          0.21561546927263744,
          0.8860055832666353,
          0.19574625415171115,
          -0.17862959435754738
         ],
         "xaxis": "x8",
         "y": [
          -0.4416109016685977,
          1.5651155798664615,
          -0.486386343433522,
          -2.199567556381776,
          -0.9142935082338941,
          0.06812640059682612,
          0.4776202682694769,
          1.0546625009640556,
          -0.6880548877398517,
          1.8209757828156723,
          1.5571718328009587,
          1.1589728923099107,
          1.163334643980302,
          -0.9964320957995271,
          0.5229700623178248,
          -0.5422628084138779,
          -0.267673267490769,
          -2.542024338097646,
          0.1892572429133559,
          0.9531814741576196,
          0.7493063574421213,
          0.5023472703547277,
          -0.6404279709338484,
          -0.09415765433918766,
          -0.8473289830681051,
          2.4475018491497593,
          -1.2457317162324226,
          -1.3811748213213695,
          0.20239230418083937,
          1.1660197139884207,
          0.4389106508835806,
          -1.5696964379987275,
          -2.1470786229066596,
          -1.2716195718711647,
          -0.32431857246238116,
          -0.48671087904318966,
          0.807176097279996,
          -0.4545226307330017,
          0.9692805152724048,
          -0.5399406974702767,
          -0.9112616777512544,
          -0.714636963502582,
          0.4401518992961405,
          1.2112389619411343,
          -0.36511562219575633,
          -0.823735935608685,
          0.6940529112251567,
          1.2488733228033813,
          -0.8614307813991519,
          2.347537155331469,
          -1.1135489104449754,
          -0.4266769291945704,
          -0.34983112284132795,
          -1.0800241937145774,
          -0.7310272741866767,
          0.6143328644742845,
          -0.24735519775421033,
          0.5218972511065154,
          0.18495767661158455,
          0.03356610062777415,
          -0.9264261222493289,
          -1.1715593013084677,
          1.3667087323756861,
          -0.07870407832879851,
          0.050980863247599886,
          -1.4353282576073432,
          -1.1057379385577595,
          -1.240759569480158,
          -1.435045518952723,
          0.2866146102228182,
          -0.4321199550320402,
          0.20803661832940504,
          -1.637427291219393,
          1.195797731567711,
          0.36417372075511256,
          0.06277847213280971,
          -0.35012964109245687,
          2.45863772791582,
          -0.21262565217949736,
          0.08746166141915754,
          0.11560547765517383,
          -1.75608505564241,
          0.29493286266375646,
          -0.8759852777508496,
          0.6355229301680484,
          -0.019587564842157068,
          -0.4184902249812962,
          0.279985822989887,
          1.0476231961393485,
          -1.4800776423230955,
          0.8336250259779167,
          1.1108395642941793,
          -3.550161594830222,
          -0.3630151021155685,
          -0.4319034238532681,
          1.2014795760785844,
          -0.7163833677385238,
          -0.9322561095076094,
          0.978279984551639,
          0.3454873088830252
         ],
         "yaxis": "y8"
        },
        {
         "line": {
          "color": "rgba(128, 128, 128, 1.0)",
          "dash": "solid",
          "shape": "linear",
          "width": 1.3
         },
         "marker": {
          "size": 2,
          "symbol": "circle"
         },
         "mode": "markers",
         "name": "C",
         "text": "",
         "type": "scatter",
         "x": [
          -0.6915796259609344,
          -0.8872849879301269,
          0.7351331691915325,
          0.0187482624021014,
          -1.3817892822184494,
          1.6276935039887588,
          0.48741645957410107,
          0.7184343185820924,
          -1.9281264806682483,
          -0.8999233502422062,
          -1.7799183101839324,
          0.9008821566604649,
          0.20301832261981306,
          1.8060196231091028,
          -0.2913743722283807,
          -1.0028680571625874,
          -0.7799725268069628,
          -1.0115947811354846,
          1.6690294312418568,
          -1.0396907179959067,
          0.06871544329476185,
          -0.8842237666730386,
          1.224973208704979,
          0.4631385238986198,
          0.740878154820934,
          -0.5813038422552343,
          -0.9383979476151751,
          2.2143189803556362,
          -0.423551427103088,
          -0.42048634304971966,
          0.4524961287844688,
          -0.2849268456346176,
          0.20084633802688698,
          -1.179587520197634,
          -1.2171104780344941,
          1.31260455425112,
          0.07424119953542815,
          1.3428441779852547,
          -2.860036001452457,
          -0.2980548945617647,
          1.7031874742888558,
          0.4039403360775828,
          -0.4530643885339186,
          0.5166202508143846,
          2.5061604436079388,
          -0.22651256670052275,
          -0.4113509392005815,
          0.3844710304962001,
          0.7768993023151984,
          0.3919698813535365,
          -1.2483424611011424,
          0.5757471088717269,
          -0.9586586441077025,
          0.07349496376369483,
          0.4105909975316248,
          0.38694569353694597,
          -0.06808552922896927,
          -0.30962695184908284,
          -0.10858045854730711,
          1.144943808386343,
          -1.1158660861520617,
          -0.8072714792006194,
          -0.8200009118915258,
          0.2406666220789867,
          -0.427222957956366,
          1.772402559856502,
          -0.15284717195228584,
          0.15338364795477655,
          -0.7943165728504842,
          -1.4053685632042303,
          0.8582648769101241,
          -0.7422149276534388,
          -0.983609520312817,
          1.008138822924062,
          -2.812568541347789,
          -0.7667967963565699,
          1.4951803796842733,
          -0.17619436709084627,
          0.39350770109275585,
          0.8172413146696621,
          0.5130245863583023,
          -0.6357411104723741,
          0.1321533298737306,
          1.2371806367240268,
          0.36351975843928164,
          -0.22604926645818205,
          -0.6664127081099145,
          1.3696975147006802,
          0.5798010860119244,
          -0.592057266420742,
          -0.4007257037255129,
          0.0604157024958049,
          0.19956225440633601,
          -0.2386209677915759,
          -0.45382262875168244,
          -0.029871779297502257,
          -0.2860381306203588,
          0.4140082157874592,
          0.5257824581842769,
          -0.369657676375118
         ],
         "xaxis": "x9",
         "y": [
          0.4522545879584659,
          -0.3098883532541913,
          -0.8685915805795065,
          1.2496515690698484,
          -1.7513335542533628,
          -2.0362585016739296,
          -1.3040385922257955,
          -0.5093871032378738,
          -0.913353838111688,
          0.8971050990564488,
          -1.485156501773989,
          -2.0316025172206866,
          -2.218068863798064,
          -0.2472925822811598,
          -0.8902405104136178,
          -0.11429329601199983,
          0.6742287539695303,
          -0.36252696301872683,
          1.5304273493611418,
          0.6444135294669895,
          0.09974417339352815,
          0.19658634501512137,
          1.287392439384835,
          -1.0480474195184937,
          1.0909907861818477,
          -1.2317793804201551,
          -0.12566975721461193,
          1.2909130254442163,
          0.6599109766293723,
          -2.0140894429621694,
          -0.15294953091052038,
          -0.021635097566481014,
          0.8796304546424791,
          -0.6792603957867522,
          0.2945752209531674,
          1.1297471141016806,
          -0.11676254871991425,
          2.347583941514725,
          -1.5781924447410682,
          0.27579871510013204,
          -1.2933996036086985,
          -1.912483689589599,
          -1.0504313141077672,
          -0.20830844283929625,
          0.18513803501323942,
          -0.996047459104622,
          0.08905933592094152,
          -0.1405226541897708,
          0.9943259225215723,
          0.8115351024740861,
          0.35082757968197054,
          0.34746321091398474,
          0.8339728671159397,
          -0.13572412190405891,
          1.215372964946147,
          0.6899434067824541,
          0.251646583188885,
          0.5118398641384256,
          0.28326596553543903,
          2.545421016579426,
          0.5075132599579651,
          0.5087398917009316,
          1.1670523429606985,
          0.2027812050913676,
          -1.074098935456282,
          0.4655297640930342,
          -1.2135089455240367,
          -0.16525202676395842,
          -0.07768556384782098,
          -0.20235544552513945,
          -0.08800485992119174,
          -0.736560482304127,
          0.5474920051755428,
          0.462190481078619,
          -1.8287944197919235,
          -2.136122074828795,
          0.31467548751679214,
          1.569565126547533,
          -0.16294217349948453,
          0.5809867335685517,
          0.056210066261843286,
          -0.5788194006182091,
          -1.4668693903168615,
          0.7265379204783153,
          0.6870289394605951,
          0.3937539131814704,
          -0.9803956898112073,
          -0.8146279825557912,
          0.37984854878028845,
          0.5410058249236476,
          1.7521938557230308,
          -1.0563009039764553,
          -1.9952453346270143,
          -1.8123894331771992,
          0.37598564650114286,
          1.8090871596555738,
          -0.08155816086073539,
          -0.6581872710293829,
          1.2217916891499028,
          -0.45890083340443405
         ],
         "yaxis": "y9"
        },
        {
         "line": {
          "color": "rgba(128, 128, 128, 1.0)",
          "dash": "solid",
          "shape": "linear",
          "width": 1.3
         },
         "marker": {
          "size": 2,
          "symbol": "circle"
         },
         "mode": "markers",
         "name": "C",
         "text": "",
         "type": "scatter",
         "x": [
          -0.4416109016685977,
          1.5651155798664615,
          -0.486386343433522,
          -2.199567556381776,
          -0.9142935082338941,
          0.06812640059682612,
          0.4776202682694769,
          1.0546625009640556,
          -0.6880548877398517,
          1.8209757828156723,
          1.5571718328009587,
          1.1589728923099107,
          1.163334643980302,
          -0.9964320957995271,
          0.5229700623178248,
          -0.5422628084138779,
          -0.267673267490769,
          -2.542024338097646,
          0.1892572429133559,
          0.9531814741576196,
          0.7493063574421213,
          0.5023472703547277,
          -0.6404279709338484,
          -0.09415765433918766,
          -0.8473289830681051,
          2.4475018491497593,
          -1.2457317162324226,
          -1.3811748213213695,
          0.20239230418083937,
          1.1660197139884207,
          0.4389106508835806,
          -1.5696964379987275,
          -2.1470786229066596,
          -1.2716195718711647,
          -0.32431857246238116,
          -0.48671087904318966,
          0.807176097279996,
          -0.4545226307330017,
          0.9692805152724048,
          -0.5399406974702767,
          -0.9112616777512544,
          -0.714636963502582,
          0.4401518992961405,
          1.2112389619411343,
          -0.36511562219575633,
          -0.823735935608685,
          0.6940529112251567,
          1.2488733228033813,
          -0.8614307813991519,
          2.347537155331469,
          -1.1135489104449754,
          -0.4266769291945704,
          -0.34983112284132795,
          -1.0800241937145774,
          -0.7310272741866767,
          0.6143328644742845,
          -0.24735519775421033,
          0.5218972511065154,
          0.18495767661158455,
          0.03356610062777415,
          -0.9264261222493289,
          -1.1715593013084677,
          1.3667087323756861,
          -0.07870407832879851,
          0.050980863247599886,
          -1.4353282576073432,
          -1.1057379385577595,
          -1.240759569480158,
          -1.435045518952723,
          0.2866146102228182,
          -0.4321199550320402,
          0.20803661832940504,
          -1.637427291219393,
          1.195797731567711,
          0.36417372075511256,
          0.06277847213280971,
          -0.35012964109245687,
          2.45863772791582,
          -0.21262565217949736,
          0.08746166141915754,
          0.11560547765517383,
          -1.75608505564241,
          0.29493286266375646,
          -0.8759852777508496,
          0.6355229301680484,
          -0.019587564842157068,
          -0.4184902249812962,
          0.279985822989887,
          1.0476231961393485,
          -1.4800776423230955,
          0.8336250259779167,
          1.1108395642941793,
          -3.550161594830222,
          -0.3630151021155685,
          -0.4319034238532681,
          1.2014795760785844,
          -0.7163833677385238,
          -0.9322561095076094,
          0.978279984551639,
          0.3454873088830252
         ],
         "xaxis": "x10",
         "y": [
          0.4522545879584659,
          -0.3098883532541913,
          -0.8685915805795065,
          1.2496515690698484,
          -1.7513335542533628,
          -2.0362585016739296,
          -1.3040385922257955,
          -0.5093871032378738,
          -0.913353838111688,
          0.8971050990564488,
          -1.485156501773989,
          -2.0316025172206866,
          -2.218068863798064,
          -0.2472925822811598,
          -0.8902405104136178,
          -0.11429329601199983,
          0.6742287539695303,
          -0.36252696301872683,
          1.5304273493611418,
          0.6444135294669895,
          0.09974417339352815,
          0.19658634501512137,
          1.287392439384835,
          -1.0480474195184937,
          1.0909907861818477,
          -1.2317793804201551,
          -0.12566975721461193,
          1.2909130254442163,
          0.6599109766293723,
          -2.0140894429621694,
          -0.15294953091052038,
          -0.021635097566481014,
          0.8796304546424791,
          -0.6792603957867522,
          0.2945752209531674,
          1.1297471141016806,
          -0.11676254871991425,
          2.347583941514725,
          -1.5781924447410682,
          0.27579871510013204,
          -1.2933996036086985,
          -1.912483689589599,
          -1.0504313141077672,
          -0.20830844283929625,
          0.18513803501323942,
          -0.996047459104622,
          0.08905933592094152,
          -0.1405226541897708,
          0.9943259225215723,
          0.8115351024740861,
          0.35082757968197054,
          0.34746321091398474,
          0.8339728671159397,
          -0.13572412190405891,
          1.215372964946147,
          0.6899434067824541,
          0.251646583188885,
          0.5118398641384256,
          0.28326596553543903,
          2.545421016579426,
          0.5075132599579651,
          0.5087398917009316,
          1.1670523429606985,
          0.2027812050913676,
          -1.074098935456282,
          0.4655297640930342,
          -1.2135089455240367,
          -0.16525202676395842,
          -0.07768556384782098,
          -0.20235544552513945,
          -0.08800485992119174,
          -0.736560482304127,
          0.5474920051755428,
          0.462190481078619,
          -1.8287944197919235,
          -2.136122074828795,
          0.31467548751679214,
          1.569565126547533,
          -0.16294217349948453,
          0.5809867335685517,
          0.056210066261843286,
          -0.5788194006182091,
          -1.4668693903168615,
          0.7265379204783153,
          0.6870289394605951,
          0.3937539131814704,
          -0.9803956898112073,
          -0.8146279825557912,
          0.37984854878028845,
          0.5410058249236476,
          1.7521938557230308,
          -1.0563009039764553,
          -1.9952453346270143,
          -1.8123894331771992,
          0.37598564650114286,
          1.8090871596555738,
          -0.08155816086073539,
          -0.6581872710293829,
          1.2217916891499028,
          -0.45890083340443405
         ],
         "yaxis": "y10"
        },
        {
         "histfunc": "count",
         "histnorm": "",
         "marker": {
          "color": "rgba(50, 171, 96, 1.0)",
          "line": {
           "color": "#4D5663",
           "width": 1.3
          }
         },
         "name": "C",
         "nbinsx": 10,
         "opacity": 0.8,
         "orientation": "v",
         "type": "histogram",
         "x": [
          0.4522545879584659,
          -0.3098883532541913,
          -0.8685915805795065,
          1.2496515690698484,
          -1.7513335542533628,
          -2.0362585016739296,
          -1.3040385922257955,
          -0.5093871032378738,
          -0.913353838111688,
          0.8971050990564488,
          -1.485156501773989,
          -2.0316025172206866,
          -2.218068863798064,
          -0.2472925822811598,
          -0.8902405104136178,
          -0.11429329601199983,
          0.6742287539695303,
          -0.36252696301872683,
          1.5304273493611418,
          0.6444135294669895,
          0.09974417339352815,
          0.19658634501512137,
          1.287392439384835,
          -1.0480474195184937,
          1.0909907861818477,
          -1.2317793804201551,
          -0.12566975721461193,
          1.2909130254442163,
          0.6599109766293723,
          -2.0140894429621694,
          -0.15294953091052038,
          -0.021635097566481014,
          0.8796304546424791,
          -0.6792603957867522,
          0.2945752209531674,
          1.1297471141016806,
          -0.11676254871991425,
          2.347583941514725,
          -1.5781924447410682,
          0.27579871510013204,
          -1.2933996036086985,
          -1.912483689589599,
          -1.0504313141077672,
          -0.20830844283929625,
          0.18513803501323942,
          -0.996047459104622,
          0.08905933592094152,
          -0.1405226541897708,
          0.9943259225215723,
          0.8115351024740861,
          0.35082757968197054,
          0.34746321091398474,
          0.8339728671159397,
          -0.13572412190405891,
          1.215372964946147,
          0.6899434067824541,
          0.251646583188885,
          0.5118398641384256,
          0.28326596553543903,
          2.545421016579426,
          0.5075132599579651,
          0.5087398917009316,
          1.1670523429606985,
          0.2027812050913676,
          -1.074098935456282,
          0.4655297640930342,
          -1.2135089455240367,
          -0.16525202676395842,
          -0.07768556384782098,
          -0.20235544552513945,
          -0.08800485992119174,
          -0.736560482304127,
          0.5474920051755428,
          0.462190481078619,
          -1.8287944197919235,
          -2.136122074828795,
          0.31467548751679214,
          1.569565126547533,
          -0.16294217349948453,
          0.5809867335685517,
          0.056210066261843286,
          -0.5788194006182091,
          -1.4668693903168615,
          0.7265379204783153,
          0.6870289394605951,
          0.3937539131814704,
          -0.9803956898112073,
          -0.8146279825557912,
          0.37984854878028845,
          0.5410058249236476,
          1.7521938557230308,
          -1.0563009039764553,
          -1.9952453346270143,
          -1.8123894331771992,
          0.37598564650114286,
          1.8090871596555738,
          -0.08155816086073539,
          -0.6581872710293829,
          1.2217916891499028,
          -0.45890083340443405
         ],
         "xaxis": "x11",
         "yaxis": "y11"
        },
        {
         "line": {
          "color": "rgba(128, 128, 128, 1.0)",
          "dash": "solid",
          "shape": "linear",
          "width": 1.3
         },
         "marker": {
          "size": 2,
          "symbol": "circle"
         },
         "mode": "markers",
         "name": "C",
         "text": "",
         "type": "scatter",
         "x": [
          -1.0306605709096543,
          -0.1752621732294562,
          -1.3928220006840555,
          -0.4001829936276594,
          0.8024891201013005,
          1.048463155119017,
          0.6775298289407882,
          -1.783840862574793,
          -0.5490506553033939,
          -2.756564892179787,
          0.4947119292473199,
          -1.3374450687095152,
          -1.2918993015358484,
          -0.6533893666818588,
          0.7805657099556595,
          0.26681780728876525,
          -1.7798873417359986,
          0.6723886339722739,
          0.8177184687575915,
          -1.9215280829952912,
          0.3321842699996094,
          1.3301377990939902,
          -0.5457930337240582,
          -1.3837534482925964,
          0.8645492110167224,
          -1.0054946576727923,
          0.2818559611625251,
          0.0035772240944569353,
          1.2229729665859856,
          -1.192623136181325,
          -0.5985598740067203,
          0.5220081460583174,
          0.7172735500222303,
          -2.9155070054398267,
          0.2145744600583689,
          0.4338744489865867,
          -1.4233566395261539,
          -1.7415104733859441,
          -0.5234253418551685,
          -2.399537842193371,
          0.14386601618288897,
          -0.00401638591076631,
          -0.6354545083109396,
          -1.8517092368774808,
          -0.44969971698053335,
          -0.1574671947169798,
          -1.4292170644825395,
          -1.2139998545048707,
          -1.1173414632202152,
          1.438716717538454,
          -1.2552216131544838,
          -0.7447038580280433,
          -0.399436232497645,
          0.9507205946727983,
          -0.08470741143090028,
          0.18803028316262008,
          -0.2582382390610199,
          1.0059991413484877,
          -1.8900520208225555,
          -0.16156819110984721,
          0.8814104867337247,
          -0.21258656399161507,
          1.4110848550461996,
          0.9817766994274616,
          -0.24708653757544896,
          -0.4037757668502509,
          -0.3257817752332432,
          0.3840584491590996,
          -0.6666543463508315,
          -1.3511182297814253,
          -1.372946329912293,
          -0.4931193577594537,
          0.9473803349008856,
          0.5438693985374551,
          1.6913999794747723,
          -0.9956203708574634,
          -0.4098564636956649,
          0.39531073326868843,
          -0.24968403067732653,
          -0.14551797080403323,
          0.3982815575902771,
          -1.1718833576081524,
          -1.0814038546124822,
          -0.8345188061678622,
          -1.6567678718728382,
          -1.3020504259299415,
          1.1438735246629153,
          0.6084456630495041,
          0.4266279077187081,
          0.8680359185399901,
          0.8075987924364346,
          0.3681502183985649,
          -0.1180412052735829,
          1.4356462801667715,
          -0.45425706018736056,
          -1.5954564021703606,
          0.21561546927263744,
          0.8860055832666353,
          0.19574625415171115,
          -0.17862959435754738
         ],
         "xaxis": "x12",
         "y": [
          0.4522545879584659,
          -0.3098883532541913,
          -0.8685915805795065,
          1.2496515690698484,
          -1.7513335542533628,
          -2.0362585016739296,
          -1.3040385922257955,
          -0.5093871032378738,
          -0.913353838111688,
          0.8971050990564488,
          -1.485156501773989,
          -2.0316025172206866,
          -2.218068863798064,
          -0.2472925822811598,
          -0.8902405104136178,
          -0.11429329601199983,
          0.6742287539695303,
          -0.36252696301872683,
          1.5304273493611418,
          0.6444135294669895,
          0.09974417339352815,
          0.19658634501512137,
          1.287392439384835,
          -1.0480474195184937,
          1.0909907861818477,
          -1.2317793804201551,
          -0.12566975721461193,
          1.2909130254442163,
          0.6599109766293723,
          -2.0140894429621694,
          -0.15294953091052038,
          -0.021635097566481014,
          0.8796304546424791,
          -0.6792603957867522,
          0.2945752209531674,
          1.1297471141016806,
          -0.11676254871991425,
          2.347583941514725,
          -1.5781924447410682,
          0.27579871510013204,
          -1.2933996036086985,
          -1.912483689589599,
          -1.0504313141077672,
          -0.20830844283929625,
          0.18513803501323942,
          -0.996047459104622,
          0.08905933592094152,
          -0.1405226541897708,
          0.9943259225215723,
          0.8115351024740861,
          0.35082757968197054,
          0.34746321091398474,
          0.8339728671159397,
          -0.13572412190405891,
          1.215372964946147,
          0.6899434067824541,
          0.251646583188885,
          0.5118398641384256,
          0.28326596553543903,
          2.545421016579426,
          0.5075132599579651,
          0.5087398917009316,
          1.1670523429606985,
          0.2027812050913676,
          -1.074098935456282,
          0.4655297640930342,
          -1.2135089455240367,
          -0.16525202676395842,
          -0.07768556384782098,
          -0.20235544552513945,
          -0.08800485992119174,
          -0.736560482304127,
          0.5474920051755428,
          0.462190481078619,
          -1.8287944197919235,
          -2.136122074828795,
          0.31467548751679214,
          1.569565126547533,
          -0.16294217349948453,
          0.5809867335685517,
          0.056210066261843286,
          -0.5788194006182091,
          -1.4668693903168615,
          0.7265379204783153,
          0.6870289394605951,
          0.3937539131814704,
          -0.9803956898112073,
          -0.8146279825557912,
          0.37984854878028845,
          0.5410058249236476,
          1.7521938557230308,
          -1.0563009039764553,
          -1.9952453346270143,
          -1.8123894331771992,
          0.37598564650114286,
          1.8090871596555738,
          -0.08155816086073539,
          -0.6581872710293829,
          1.2217916891499028,
          -0.45890083340443405
         ],
         "yaxis": "y12"
        },
        {
         "line": {
          "color": "rgba(128, 128, 128, 1.0)",
          "dash": "solid",
          "shape": "linear",
          "width": 1.3
         },
         "marker": {
          "size": 2,
          "symbol": "circle"
         },
         "mode": "markers",
         "name": "D",
         "text": "",
         "type": "scatter",
         "x": [
          -0.6915796259609344,
          -0.8872849879301269,
          0.7351331691915325,
          0.0187482624021014,
          -1.3817892822184494,
          1.6276935039887588,
          0.48741645957410107,
          0.7184343185820924,
          -1.9281264806682483,
          -0.8999233502422062,
          -1.7799183101839324,
          0.9008821566604649,
          0.20301832261981306,
          1.8060196231091028,
          -0.2913743722283807,
          -1.0028680571625874,
          -0.7799725268069628,
          -1.0115947811354846,
          1.6690294312418568,
          -1.0396907179959067,
          0.06871544329476185,
          -0.8842237666730386,
          1.224973208704979,
          0.4631385238986198,
          0.740878154820934,
          -0.5813038422552343,
          -0.9383979476151751,
          2.2143189803556362,
          -0.423551427103088,
          -0.42048634304971966,
          0.4524961287844688,
          -0.2849268456346176,
          0.20084633802688698,
          -1.179587520197634,
          -1.2171104780344941,
          1.31260455425112,
          0.07424119953542815,
          1.3428441779852547,
          -2.860036001452457,
          -0.2980548945617647,
          1.7031874742888558,
          0.4039403360775828,
          -0.4530643885339186,
          0.5166202508143846,
          2.5061604436079388,
          -0.22651256670052275,
          -0.4113509392005815,
          0.3844710304962001,
          0.7768993023151984,
          0.3919698813535365,
          -1.2483424611011424,
          0.5757471088717269,
          -0.9586586441077025,
          0.07349496376369483,
          0.4105909975316248,
          0.38694569353694597,
          -0.06808552922896927,
          -0.30962695184908284,
          -0.10858045854730711,
          1.144943808386343,
          -1.1158660861520617,
          -0.8072714792006194,
          -0.8200009118915258,
          0.2406666220789867,
          -0.427222957956366,
          1.772402559856502,
          -0.15284717195228584,
          0.15338364795477655,
          -0.7943165728504842,
          -1.4053685632042303,
          0.8582648769101241,
          -0.7422149276534388,
          -0.983609520312817,
          1.008138822924062,
          -2.812568541347789,
          -0.7667967963565699,
          1.4951803796842733,
          -0.17619436709084627,
          0.39350770109275585,
          0.8172413146696621,
          0.5130245863583023,
          -0.6357411104723741,
          0.1321533298737306,
          1.2371806367240268,
          0.36351975843928164,
          -0.22604926645818205,
          -0.6664127081099145,
          1.3696975147006802,
          0.5798010860119244,
          -0.592057266420742,
          -0.4007257037255129,
          0.0604157024958049,
          0.19956225440633601,
          -0.2386209677915759,
          -0.45382262875168244,
          -0.029871779297502257,
          -0.2860381306203588,
          0.4140082157874592,
          0.5257824581842769,
          -0.369657676375118
         ],
         "xaxis": "x13",
         "y": [
          -1.0306605709096543,
          -0.1752621732294562,
          -1.3928220006840555,
          -0.4001829936276594,
          0.8024891201013005,
          1.048463155119017,
          0.6775298289407882,
          -1.783840862574793,
          -0.5490506553033939,
          -2.756564892179787,
          0.4947119292473199,
          -1.3374450687095152,
          -1.2918993015358484,
          -0.6533893666818588,
          0.7805657099556595,
          0.26681780728876525,
          -1.7798873417359986,
          0.6723886339722739,
          0.8177184687575915,
          -1.9215280829952912,
          0.3321842699996094,
          1.3301377990939902,
          -0.5457930337240582,
          -1.3837534482925964,
          0.8645492110167224,
          -1.0054946576727923,
          0.2818559611625251,
          0.0035772240944569353,
          1.2229729665859856,
          -1.192623136181325,
          -0.5985598740067203,
          0.5220081460583174,
          0.7172735500222303,
          -2.9155070054398267,
          0.2145744600583689,
          0.4338744489865867,
          -1.4233566395261539,
          -1.7415104733859441,
          -0.5234253418551685,
          -2.399537842193371,
          0.14386601618288897,
          -0.00401638591076631,
          -0.6354545083109396,
          -1.8517092368774808,
          -0.44969971698053335,
          -0.1574671947169798,
          -1.4292170644825395,
          -1.2139998545048707,
          -1.1173414632202152,
          1.438716717538454,
          -1.2552216131544838,
          -0.7447038580280433,
          -0.399436232497645,
          0.9507205946727983,
          -0.08470741143090028,
          0.18803028316262008,
          -0.2582382390610199,
          1.0059991413484877,
          -1.8900520208225555,
          -0.16156819110984721,
          0.8814104867337247,
          -0.21258656399161507,
          1.4110848550461996,
          0.9817766994274616,
          -0.24708653757544896,
          -0.4037757668502509,
          -0.3257817752332432,
          0.3840584491590996,
          -0.6666543463508315,
          -1.3511182297814253,
          -1.372946329912293,
          -0.4931193577594537,
          0.9473803349008856,
          0.5438693985374551,
          1.6913999794747723,
          -0.9956203708574634,
          -0.4098564636956649,
          0.39531073326868843,
          -0.24968403067732653,
          -0.14551797080403323,
          0.3982815575902771,
          -1.1718833576081524,
          -1.0814038546124822,
          -0.8345188061678622,
          -1.6567678718728382,
          -1.3020504259299415,
          1.1438735246629153,
          0.6084456630495041,
          0.4266279077187081,
          0.8680359185399901,
          0.8075987924364346,
          0.3681502183985649,
          -0.1180412052735829,
          1.4356462801667715,
          -0.45425706018736056,
          -1.5954564021703606,
          0.21561546927263744,
          0.8860055832666353,
          0.19574625415171115,
          -0.17862959435754738
         ],
         "yaxis": "y13"
        },
        {
         "line": {
          "color": "rgba(128, 128, 128, 1.0)",
          "dash": "solid",
          "shape": "linear",
          "width": 1.3
         },
         "marker": {
          "size": 2,
          "symbol": "circle"
         },
         "mode": "markers",
         "name": "D",
         "text": "",
         "type": "scatter",
         "x": [
          -0.4416109016685977,
          1.5651155798664615,
          -0.486386343433522,
          -2.199567556381776,
          -0.9142935082338941,
          0.06812640059682612,
          0.4776202682694769,
          1.0546625009640556,
          -0.6880548877398517,
          1.8209757828156723,
          1.5571718328009587,
          1.1589728923099107,
          1.163334643980302,
          -0.9964320957995271,
          0.5229700623178248,
          -0.5422628084138779,
          -0.267673267490769,
          -2.542024338097646,
          0.1892572429133559,
          0.9531814741576196,
          0.7493063574421213,
          0.5023472703547277,
          -0.6404279709338484,
          -0.09415765433918766,
          -0.8473289830681051,
          2.4475018491497593,
          -1.2457317162324226,
          -1.3811748213213695,
          0.20239230418083937,
          1.1660197139884207,
          0.4389106508835806,
          -1.5696964379987275,
          -2.1470786229066596,
          -1.2716195718711647,
          -0.32431857246238116,
          -0.48671087904318966,
          0.807176097279996,
          -0.4545226307330017,
          0.9692805152724048,
          -0.5399406974702767,
          -0.9112616777512544,
          -0.714636963502582,
          0.4401518992961405,
          1.2112389619411343,
          -0.36511562219575633,
          -0.823735935608685,
          0.6940529112251567,
          1.2488733228033813,
          -0.8614307813991519,
          2.347537155331469,
          -1.1135489104449754,
          -0.4266769291945704,
          -0.34983112284132795,
          -1.0800241937145774,
          -0.7310272741866767,
          0.6143328644742845,
          -0.24735519775421033,
          0.5218972511065154,
          0.18495767661158455,
          0.03356610062777415,
          -0.9264261222493289,
          -1.1715593013084677,
          1.3667087323756861,
          -0.07870407832879851,
          0.050980863247599886,
          -1.4353282576073432,
          -1.1057379385577595,
          -1.240759569480158,
          -1.435045518952723,
          0.2866146102228182,
          -0.4321199550320402,
          0.20803661832940504,
          -1.637427291219393,
          1.195797731567711,
          0.36417372075511256,
          0.06277847213280971,
          -0.35012964109245687,
          2.45863772791582,
          -0.21262565217949736,
          0.08746166141915754,
          0.11560547765517383,
          -1.75608505564241,
          0.29493286266375646,
          -0.8759852777508496,
          0.6355229301680484,
          -0.019587564842157068,
          -0.4184902249812962,
          0.279985822989887,
          1.0476231961393485,
          -1.4800776423230955,
          0.8336250259779167,
          1.1108395642941793,
          -3.550161594830222,
          -0.3630151021155685,
          -0.4319034238532681,
          1.2014795760785844,
          -0.7163833677385238,
          -0.9322561095076094,
          0.978279984551639,
          0.3454873088830252
         ],
         "xaxis": "x14",
         "y": [
          -1.0306605709096543,
          -0.1752621732294562,
          -1.3928220006840555,
          -0.4001829936276594,
          0.8024891201013005,
          1.048463155119017,
          0.6775298289407882,
          -1.783840862574793,
          -0.5490506553033939,
          -2.756564892179787,
          0.4947119292473199,
          -1.3374450687095152,
          -1.2918993015358484,
          -0.6533893666818588,
          0.7805657099556595,
          0.26681780728876525,
          -1.7798873417359986,
          0.6723886339722739,
          0.8177184687575915,
          -1.9215280829952912,
          0.3321842699996094,
          1.3301377990939902,
          -0.5457930337240582,
          -1.3837534482925964,
          0.8645492110167224,
          -1.0054946576727923,
          0.2818559611625251,
          0.0035772240944569353,
          1.2229729665859856,
          -1.192623136181325,
          -0.5985598740067203,
          0.5220081460583174,
          0.7172735500222303,
          -2.9155070054398267,
          0.2145744600583689,
          0.4338744489865867,
          -1.4233566395261539,
          -1.7415104733859441,
          -0.5234253418551685,
          -2.399537842193371,
          0.14386601618288897,
          -0.00401638591076631,
          -0.6354545083109396,
          -1.8517092368774808,
          -0.44969971698053335,
          -0.1574671947169798,
          -1.4292170644825395,
          -1.2139998545048707,
          -1.1173414632202152,
          1.438716717538454,
          -1.2552216131544838,
          -0.7447038580280433,
          -0.399436232497645,
          0.9507205946727983,
          -0.08470741143090028,
          0.18803028316262008,
          -0.2582382390610199,
          1.0059991413484877,
          -1.8900520208225555,
          -0.16156819110984721,
          0.8814104867337247,
          -0.21258656399161507,
          1.4110848550461996,
          0.9817766994274616,
          -0.24708653757544896,
          -0.4037757668502509,
          -0.3257817752332432,
          0.3840584491590996,
          -0.6666543463508315,
          -1.3511182297814253,
          -1.372946329912293,
          -0.4931193577594537,
          0.9473803349008856,
          0.5438693985374551,
          1.6913999794747723,
          -0.9956203708574634,
          -0.4098564636956649,
          0.39531073326868843,
          -0.24968403067732653,
          -0.14551797080403323,
          0.3982815575902771,
          -1.1718833576081524,
          -1.0814038546124822,
          -0.8345188061678622,
          -1.6567678718728382,
          -1.3020504259299415,
          1.1438735246629153,
          0.6084456630495041,
          0.4266279077187081,
          0.8680359185399901,
          0.8075987924364346,
          0.3681502183985649,
          -0.1180412052735829,
          1.4356462801667715,
          -0.45425706018736056,
          -1.5954564021703606,
          0.21561546927263744,
          0.8860055832666353,
          0.19574625415171115,
          -0.17862959435754738
         ],
         "yaxis": "y14"
        },
        {
         "line": {
          "color": "rgba(128, 128, 128, 1.0)",
          "dash": "solid",
          "shape": "linear",
          "width": 1.3
         },
         "marker": {
          "size": 2,
          "symbol": "circle"
         },
         "mode": "markers",
         "name": "D",
         "text": "",
         "type": "scatter",
         "x": [
          0.4522545879584659,
          -0.3098883532541913,
          -0.8685915805795065,
          1.2496515690698484,
          -1.7513335542533628,
          -2.0362585016739296,
          -1.3040385922257955,
          -0.5093871032378738,
          -0.913353838111688,
          0.8971050990564488,
          -1.485156501773989,
          -2.0316025172206866,
          -2.218068863798064,
          -0.2472925822811598,
          -0.8902405104136178,
          -0.11429329601199983,
          0.6742287539695303,
          -0.36252696301872683,
          1.5304273493611418,
          0.6444135294669895,
          0.09974417339352815,
          0.19658634501512137,
          1.287392439384835,
          -1.0480474195184937,
          1.0909907861818477,
          -1.2317793804201551,
          -0.12566975721461193,
          1.2909130254442163,
          0.6599109766293723,
          -2.0140894429621694,
          -0.15294953091052038,
          -0.021635097566481014,
          0.8796304546424791,
          -0.6792603957867522,
          0.2945752209531674,
          1.1297471141016806,
          -0.11676254871991425,
          2.347583941514725,
          -1.5781924447410682,
          0.27579871510013204,
          -1.2933996036086985,
          -1.912483689589599,
          -1.0504313141077672,
          -0.20830844283929625,
          0.18513803501323942,
          -0.996047459104622,
          0.08905933592094152,
          -0.1405226541897708,
          0.9943259225215723,
          0.8115351024740861,
          0.35082757968197054,
          0.34746321091398474,
          0.8339728671159397,
          -0.13572412190405891,
          1.215372964946147,
          0.6899434067824541,
          0.251646583188885,
          0.5118398641384256,
          0.28326596553543903,
          2.545421016579426,
          0.5075132599579651,
          0.5087398917009316,
          1.1670523429606985,
          0.2027812050913676,
          -1.074098935456282,
          0.4655297640930342,
          -1.2135089455240367,
          -0.16525202676395842,
          -0.07768556384782098,
          -0.20235544552513945,
          -0.08800485992119174,
          -0.736560482304127,
          0.5474920051755428,
          0.462190481078619,
          -1.8287944197919235,
          -2.136122074828795,
          0.31467548751679214,
          1.569565126547533,
          -0.16294217349948453,
          0.5809867335685517,
          0.056210066261843286,
          -0.5788194006182091,
          -1.4668693903168615,
          0.7265379204783153,
          0.6870289394605951,
          0.3937539131814704,
          -0.9803956898112073,
          -0.8146279825557912,
          0.37984854878028845,
          0.5410058249236476,
          1.7521938557230308,
          -1.0563009039764553,
          -1.9952453346270143,
          -1.8123894331771992,
          0.37598564650114286,
          1.8090871596555738,
          -0.08155816086073539,
          -0.6581872710293829,
          1.2217916891499028,
          -0.45890083340443405
         ],
         "xaxis": "x15",
         "y": [
          -1.0306605709096543,
          -0.1752621732294562,
          -1.3928220006840555,
          -0.4001829936276594,
          0.8024891201013005,
          1.048463155119017,
          0.6775298289407882,
          -1.783840862574793,
          -0.5490506553033939,
          -2.756564892179787,
          0.4947119292473199,
          -1.3374450687095152,
          -1.2918993015358484,
          -0.6533893666818588,
          0.7805657099556595,
          0.26681780728876525,
          -1.7798873417359986,
          0.6723886339722739,
          0.8177184687575915,
          -1.9215280829952912,
          0.3321842699996094,
          1.3301377990939902,
          -0.5457930337240582,
          -1.3837534482925964,
          0.8645492110167224,
          -1.0054946576727923,
          0.2818559611625251,
          0.0035772240944569353,
          1.2229729665859856,
          -1.192623136181325,
          -0.5985598740067203,
          0.5220081460583174,
          0.7172735500222303,
          -2.9155070054398267,
          0.2145744600583689,
          0.4338744489865867,
          -1.4233566395261539,
          -1.7415104733859441,
          -0.5234253418551685,
          -2.399537842193371,
          0.14386601618288897,
          -0.00401638591076631,
          -0.6354545083109396,
          -1.8517092368774808,
          -0.44969971698053335,
          -0.1574671947169798,
          -1.4292170644825395,
          -1.2139998545048707,
          -1.1173414632202152,
          1.438716717538454,
          -1.2552216131544838,
          -0.7447038580280433,
          -0.399436232497645,
          0.9507205946727983,
          -0.08470741143090028,
          0.18803028316262008,
          -0.2582382390610199,
          1.0059991413484877,
          -1.8900520208225555,
          -0.16156819110984721,
          0.8814104867337247,
          -0.21258656399161507,
          1.4110848550461996,
          0.9817766994274616,
          -0.24708653757544896,
          -0.4037757668502509,
          -0.3257817752332432,
          0.3840584491590996,
          -0.6666543463508315,
          -1.3511182297814253,
          -1.372946329912293,
          -0.4931193577594537,
          0.9473803349008856,
          0.5438693985374551,
          1.6913999794747723,
          -0.9956203708574634,
          -0.4098564636956649,
          0.39531073326868843,
          -0.24968403067732653,
          -0.14551797080403323,
          0.3982815575902771,
          -1.1718833576081524,
          -1.0814038546124822,
          -0.8345188061678622,
          -1.6567678718728382,
          -1.3020504259299415,
          1.1438735246629153,
          0.6084456630495041,
          0.4266279077187081,
          0.8680359185399901,
          0.8075987924364346,
          0.3681502183985649,
          -0.1180412052735829,
          1.4356462801667715,
          -0.45425706018736056,
          -1.5954564021703606,
          0.21561546927263744,
          0.8860055832666353,
          0.19574625415171115,
          -0.17862959435754738
         ],
         "yaxis": "y15"
        },
        {
         "histfunc": "count",
         "histnorm": "",
         "marker": {
          "color": "rgba(128, 0, 128, 1.0)",
          "line": {
           "color": "#4D5663",
           "width": 1.3
          }
         },
         "name": "D",
         "nbinsx": 10,
         "opacity": 0.8,
         "orientation": "v",
         "type": "histogram",
         "x": [
          -1.0306605709096543,
          -0.1752621732294562,
          -1.3928220006840555,
          -0.4001829936276594,
          0.8024891201013005,
          1.048463155119017,
          0.6775298289407882,
          -1.783840862574793,
          -0.5490506553033939,
          -2.756564892179787,
          0.4947119292473199,
          -1.3374450687095152,
          -1.2918993015358484,
          -0.6533893666818588,
          0.7805657099556595,
          0.26681780728876525,
          -1.7798873417359986,
          0.6723886339722739,
          0.8177184687575915,
          -1.9215280829952912,
          0.3321842699996094,
          1.3301377990939902,
          -0.5457930337240582,
          -1.3837534482925964,
          0.8645492110167224,
          -1.0054946576727923,
          0.2818559611625251,
          0.0035772240944569353,
          1.2229729665859856,
          -1.192623136181325,
          -0.5985598740067203,
          0.5220081460583174,
          0.7172735500222303,
          -2.9155070054398267,
          0.2145744600583689,
          0.4338744489865867,
          -1.4233566395261539,
          -1.7415104733859441,
          -0.5234253418551685,
          -2.399537842193371,
          0.14386601618288897,
          -0.00401638591076631,
          -0.6354545083109396,
          -1.8517092368774808,
          -0.44969971698053335,
          -0.1574671947169798,
          -1.4292170644825395,
          -1.2139998545048707,
          -1.1173414632202152,
          1.438716717538454,
          -1.2552216131544838,
          -0.7447038580280433,
          -0.399436232497645,
          0.9507205946727983,
          -0.08470741143090028,
          0.18803028316262008,
          -0.2582382390610199,
          1.0059991413484877,
          -1.8900520208225555,
          -0.16156819110984721,
          0.8814104867337247,
          -0.21258656399161507,
          1.4110848550461996,
          0.9817766994274616,
          -0.24708653757544896,
          -0.4037757668502509,
          -0.3257817752332432,
          0.3840584491590996,
          -0.6666543463508315,
          -1.3511182297814253,
          -1.372946329912293,
          -0.4931193577594537,
          0.9473803349008856,
          0.5438693985374551,
          1.6913999794747723,
          -0.9956203708574634,
          -0.4098564636956649,
          0.39531073326868843,
          -0.24968403067732653,
          -0.14551797080403323,
          0.3982815575902771,
          -1.1718833576081524,
          -1.0814038546124822,
          -0.8345188061678622,
          -1.6567678718728382,
          -1.3020504259299415,
          1.1438735246629153,
          0.6084456630495041,
          0.4266279077187081,
          0.8680359185399901,
          0.8075987924364346,
          0.3681502183985649,
          -0.1180412052735829,
          1.4356462801667715,
          -0.45425706018736056,
          -1.5954564021703606,
          0.21561546927263744,
          0.8860055832666353,
          0.19574625415171115,
          -0.17862959435754738
         ],
         "xaxis": "x16",
         "yaxis": "y16"
        }
       ],
       "layout": {
        "bargap": 0.02,
        "legend": {
         "bgcolor": "#F5F6F9",
         "font": {
          "color": "#4D5663"
         }
        },
        "paper_bgcolor": "#F5F6F9",
        "plot_bgcolor": "#F5F6F9",
        "showlegend": false,
        "template": {
         "data": {
          "bar": [
           {
            "error_x": {
             "color": "#2a3f5f"
            },
            "error_y": {
             "color": "#2a3f5f"
            },
            "marker": {
             "line": {
              "color": "#E5ECF6",
              "width": 0.5
             }
            },
            "type": "bar"
           }
          ],
          "barpolar": [
           {
            "marker": {
             "line": {
              "color": "#E5ECF6",
              "width": 0.5
             }
            },
            "type": "barpolar"
           }
          ],
          "carpet": [
           {
            "aaxis": {
             "endlinecolor": "#2a3f5f",
             "gridcolor": "white",
             "linecolor": "white",
             "minorgridcolor": "white",
             "startlinecolor": "#2a3f5f"
            },
            "baxis": {
             "endlinecolor": "#2a3f5f",
             "gridcolor": "white",
             "linecolor": "white",
             "minorgridcolor": "white",
             "startlinecolor": "#2a3f5f"
            },
            "type": "carpet"
           }
          ],
          "choropleth": [
           {
            "colorbar": {
             "outlinewidth": 0,
             "ticks": ""
            },
            "type": "choropleth"
           }
          ],
          "contour": [
           {
            "colorbar": {
             "outlinewidth": 0,
             "ticks": ""
            },
            "colorscale": [
             [
              0,
              "#0d0887"
             ],
             [
              0.1111111111111111,
              "#46039f"
             ],
             [
              0.2222222222222222,
              "#7201a8"
             ],
             [
              0.3333333333333333,
              "#9c179e"
             ],
             [
              0.4444444444444444,
              "#bd3786"
             ],
             [
              0.5555555555555556,
              "#d8576b"
             ],
             [
              0.6666666666666666,
              "#ed7953"
             ],
             [
              0.7777777777777778,
              "#fb9f3a"
             ],
             [
              0.8888888888888888,
              "#fdca26"
             ],
             [
              1,
              "#f0f921"
             ]
            ],
            "type": "contour"
           }
          ],
          "contourcarpet": [
           {
            "colorbar": {
             "outlinewidth": 0,
             "ticks": ""
            },
            "type": "contourcarpet"
           }
          ],
          "heatmap": [
           {
            "colorbar": {
             "outlinewidth": 0,
             "ticks": ""
            },
            "colorscale": [
             [
              0,
              "#0d0887"
             ],
             [
              0.1111111111111111,
              "#46039f"
             ],
             [
              0.2222222222222222,
              "#7201a8"
             ],
             [
              0.3333333333333333,
              "#9c179e"
             ],
             [
              0.4444444444444444,
              "#bd3786"
             ],
             [
              0.5555555555555556,
              "#d8576b"
             ],
             [
              0.6666666666666666,
              "#ed7953"
             ],
             [
              0.7777777777777778,
              "#fb9f3a"
             ],
             [
              0.8888888888888888,
              "#fdca26"
             ],
             [
              1,
              "#f0f921"
             ]
            ],
            "type": "heatmap"
           }
          ],
          "heatmapgl": [
           {
            "colorbar": {
             "outlinewidth": 0,
             "ticks": ""
            },
            "colorscale": [
             [
              0,
              "#0d0887"
             ],
             [
              0.1111111111111111,
              "#46039f"
             ],
             [
              0.2222222222222222,
              "#7201a8"
             ],
             [
              0.3333333333333333,
              "#9c179e"
             ],
             [
              0.4444444444444444,
              "#bd3786"
             ],
             [
              0.5555555555555556,
              "#d8576b"
             ],
             [
              0.6666666666666666,
              "#ed7953"
             ],
             [
              0.7777777777777778,
              "#fb9f3a"
             ],
             [
              0.8888888888888888,
              "#fdca26"
             ],
             [
              1,
              "#f0f921"
             ]
            ],
            "type": "heatmapgl"
           }
          ],
          "histogram": [
           {
            "marker": {
             "colorbar": {
              "outlinewidth": 0,
              "ticks": ""
             }
            },
            "type": "histogram"
           }
          ],
          "histogram2d": [
           {
            "colorbar": {
             "outlinewidth": 0,
             "ticks": ""
            },
            "colorscale": [
             [
              0,
              "#0d0887"
             ],
             [
              0.1111111111111111,
              "#46039f"
             ],
             [
              0.2222222222222222,
              "#7201a8"
             ],
             [
              0.3333333333333333,
              "#9c179e"
             ],
             [
              0.4444444444444444,
              "#bd3786"
             ],
             [
              0.5555555555555556,
              "#d8576b"
             ],
             [
              0.6666666666666666,
              "#ed7953"
             ],
             [
              0.7777777777777778,
              "#fb9f3a"
             ],
             [
              0.8888888888888888,
              "#fdca26"
             ],
             [
              1,
              "#f0f921"
             ]
            ],
            "type": "histogram2d"
           }
          ],
          "histogram2dcontour": [
           {
            "colorbar": {
             "outlinewidth": 0,
             "ticks": ""
            },
            "colorscale": [
             [
              0,
              "#0d0887"
             ],
             [
              0.1111111111111111,
              "#46039f"
             ],
             [
              0.2222222222222222,
              "#7201a8"
             ],
             [
              0.3333333333333333,
              "#9c179e"
             ],
             [
              0.4444444444444444,
              "#bd3786"
             ],
             [
              0.5555555555555556,
              "#d8576b"
             ],
             [
              0.6666666666666666,
              "#ed7953"
             ],
             [
              0.7777777777777778,
              "#fb9f3a"
             ],
             [
              0.8888888888888888,
              "#fdca26"
             ],
             [
              1,
              "#f0f921"
             ]
            ],
            "type": "histogram2dcontour"
           }
          ],
          "mesh3d": [
           {
            "colorbar": {
             "outlinewidth": 0,
             "ticks": ""
            },
            "type": "mesh3d"
           }
          ],
          "parcoords": [
           {
            "line": {
             "colorbar": {
              "outlinewidth": 0,
              "ticks": ""
             }
            },
            "type": "parcoords"
           }
          ],
          "pie": [
           {
            "automargin": true,
            "type": "pie"
           }
          ],
          "scatter": [
           {
            "marker": {
             "colorbar": {
              "outlinewidth": 0,
              "ticks": ""
             }
            },
            "type": "scatter"
           }
          ],
          "scatter3d": [
           {
            "line": {
             "colorbar": {
              "outlinewidth": 0,
              "ticks": ""
             }
            },
            "marker": {
             "colorbar": {
              "outlinewidth": 0,
              "ticks": ""
             }
            },
            "type": "scatter3d"
           }
          ],
          "scattercarpet": [
           {
            "marker": {
             "colorbar": {
              "outlinewidth": 0,
              "ticks": ""
             }
            },
            "type": "scattercarpet"
           }
          ],
          "scattergeo": [
           {
            "marker": {
             "colorbar": {
              "outlinewidth": 0,
              "ticks": ""
             }
            },
            "type": "scattergeo"
           }
          ],
          "scattergl": [
           {
            "marker": {
             "colorbar": {
              "outlinewidth": 0,
              "ticks": ""
             }
            },
            "type": "scattergl"
           }
          ],
          "scattermapbox": [
           {
            "marker": {
             "colorbar": {
              "outlinewidth": 0,
              "ticks": ""
             }
            },
            "type": "scattermapbox"
           }
          ],
          "scatterpolar": [
           {
            "marker": {
             "colorbar": {
              "outlinewidth": 0,
              "ticks": ""
             }
            },
            "type": "scatterpolar"
           }
          ],
          "scatterpolargl": [
           {
            "marker": {
             "colorbar": {
              "outlinewidth": 0,
              "ticks": ""
             }
            },
            "type": "scatterpolargl"
           }
          ],
          "scatterternary": [
           {
            "marker": {
             "colorbar": {
              "outlinewidth": 0,
              "ticks": ""
             }
            },
            "type": "scatterternary"
           }
          ],
          "surface": [
           {
            "colorbar": {
             "outlinewidth": 0,
             "ticks": ""
            },
            "colorscale": [
             [
              0,
              "#0d0887"
             ],
             [
              0.1111111111111111,
              "#46039f"
             ],
             [
              0.2222222222222222,
              "#7201a8"
             ],
             [
              0.3333333333333333,
              "#9c179e"
             ],
             [
              0.4444444444444444,
              "#bd3786"
             ],
             [
              0.5555555555555556,
              "#d8576b"
             ],
             [
              0.6666666666666666,
              "#ed7953"
             ],
             [
              0.7777777777777778,
              "#fb9f3a"
             ],
             [
              0.8888888888888888,
              "#fdca26"
             ],
             [
              1,
              "#f0f921"
             ]
            ],
            "type": "surface"
           }
          ],
          "table": [
           {
            "cells": {
             "fill": {
              "color": "#EBF0F8"
             },
             "line": {
              "color": "white"
             }
            },
            "header": {
             "fill": {
              "color": "#C8D4E3"
             },
             "line": {
              "color": "white"
             }
            },
            "type": "table"
           }
          ]
         },
         "layout": {
          "annotationdefaults": {
           "arrowcolor": "#2a3f5f",
           "arrowhead": 0,
           "arrowwidth": 1
          },
          "autotypenumbers": "strict",
          "coloraxis": {
           "colorbar": {
            "outlinewidth": 0,
            "ticks": ""
           }
          },
          "colorscale": {
           "diverging": [
            [
             0,
             "#8e0152"
            ],
            [
             0.1,
             "#c51b7d"
            ],
            [
             0.2,
             "#de77ae"
            ],
            [
             0.3,
             "#f1b6da"
            ],
            [
             0.4,
             "#fde0ef"
            ],
            [
             0.5,
             "#f7f7f7"
            ],
            [
             0.6,
             "#e6f5d0"
            ],
            [
             0.7,
             "#b8e186"
            ],
            [
             0.8,
             "#7fbc41"
            ],
            [
             0.9,
             "#4d9221"
            ],
            [
             1,
             "#276419"
            ]
           ],
           "sequential": [
            [
             0,
             "#0d0887"
            ],
            [
             0.1111111111111111,
             "#46039f"
            ],
            [
             0.2222222222222222,
             "#7201a8"
            ],
            [
             0.3333333333333333,
             "#9c179e"
            ],
            [
             0.4444444444444444,
             "#bd3786"
            ],
            [
             0.5555555555555556,
             "#d8576b"
            ],
            [
             0.6666666666666666,
             "#ed7953"
            ],
            [
             0.7777777777777778,
             "#fb9f3a"
            ],
            [
             0.8888888888888888,
             "#fdca26"
            ],
            [
             1,
             "#f0f921"
            ]
           ],
           "sequentialminus": [
            [
             0,
             "#0d0887"
            ],
            [
             0.1111111111111111,
             "#46039f"
            ],
            [
             0.2222222222222222,
             "#7201a8"
            ],
            [
             0.3333333333333333,
             "#9c179e"
            ],
            [
             0.4444444444444444,
             "#bd3786"
            ],
            [
             0.5555555555555556,
             "#d8576b"
            ],
            [
             0.6666666666666666,
             "#ed7953"
            ],
            [
             0.7777777777777778,
             "#fb9f3a"
            ],
            [
             0.8888888888888888,
             "#fdca26"
            ],
            [
             1,
             "#f0f921"
            ]
           ]
          },
          "colorway": [
           "#636efa",
           "#EF553B",
           "#00cc96",
           "#ab63fa",
           "#FFA15A",
           "#19d3f3",
           "#FF6692",
           "#B6E880",
           "#FF97FF",
           "#FECB52"
          ],
          "font": {
           "color": "#2a3f5f"
          },
          "geo": {
           "bgcolor": "white",
           "lakecolor": "white",
           "landcolor": "#E5ECF6",
           "showlakes": true,
           "showland": true,
           "subunitcolor": "white"
          },
          "hoverlabel": {
           "align": "left"
          },
          "hovermode": "closest",
          "mapbox": {
           "style": "light"
          },
          "paper_bgcolor": "white",
          "plot_bgcolor": "#E5ECF6",
          "polar": {
           "angularaxis": {
            "gridcolor": "white",
            "linecolor": "white",
            "ticks": ""
           },
           "bgcolor": "#E5ECF6",
           "radialaxis": {
            "gridcolor": "white",
            "linecolor": "white",
            "ticks": ""
           }
          },
          "scene": {
           "xaxis": {
            "backgroundcolor": "#E5ECF6",
            "gridcolor": "white",
            "gridwidth": 2,
            "linecolor": "white",
            "showbackground": true,
            "ticks": "",
            "zerolinecolor": "white"
           },
           "yaxis": {
            "backgroundcolor": "#E5ECF6",
            "gridcolor": "white",
            "gridwidth": 2,
            "linecolor": "white",
            "showbackground": true,
            "ticks": "",
            "zerolinecolor": "white"
           },
           "zaxis": {
            "backgroundcolor": "#E5ECF6",
            "gridcolor": "white",
            "gridwidth": 2,
            "linecolor": "white",
            "showbackground": true,
            "ticks": "",
            "zerolinecolor": "white"
           }
          },
          "shapedefaults": {
           "line": {
            "color": "#2a3f5f"
           }
          },
          "ternary": {
           "aaxis": {
            "gridcolor": "white",
            "linecolor": "white",
            "ticks": ""
           },
           "baxis": {
            "gridcolor": "white",
            "linecolor": "white",
            "ticks": ""
           },
           "bgcolor": "#E5ECF6",
           "caxis": {
            "gridcolor": "white",
            "linecolor": "white",
            "ticks": ""
           }
          },
          "title": {
           "x": 0.05
          },
          "xaxis": {
           "automargin": true,
           "gridcolor": "white",
           "linecolor": "white",
           "ticks": "",
           "title": {
            "standoff": 15
           },
           "zerolinecolor": "white",
           "zerolinewidth": 2
          },
          "yaxis": {
           "automargin": true,
           "gridcolor": "white",
           "linecolor": "white",
           "ticks": "",
           "title": {
            "standoff": 15
           },
           "zerolinecolor": "white",
           "zerolinewidth": 2
          }
         }
        },
        "title": {
         "font": {
          "color": "#4D5663"
         }
        },
        "xaxis": {
         "anchor": "y",
         "domain": [
          0,
          0.2125
         ],
         "gridcolor": "#E1E5ED",
         "showgrid": false,
         "tickfont": {
          "color": "#4D5663"
         },
         "title": {
          "font": {
           "color": "#4D5663"
          },
          "text": ""
         },
         "zerolinecolor": "#E1E5ED"
        },
        "xaxis10": {
         "anchor": "y10",
         "domain": [
          0.2625,
          0.475
         ],
         "gridcolor": "#E1E5ED",
         "showgrid": false,
         "tickfont": {
          "color": "#4D5663"
         },
         "title": {
          "font": {
           "color": "#4D5663"
          },
          "text": ""
         },
         "zerolinecolor": "#E1E5ED"
        },
        "xaxis11": {
         "anchor": "y11",
         "domain": [
          0.525,
          0.7375
         ],
         "gridcolor": "#E1E5ED",
         "showgrid": false,
         "tickfont": {
          "color": "#4D5663"
         },
         "title": {
          "font": {
           "color": "#4D5663"
          },
          "text": ""
         },
         "zerolinecolor": "#E1E5ED"
        },
        "xaxis12": {
         "anchor": "y12",
         "domain": [
          0.7875,
          1
         ],
         "gridcolor": "#E1E5ED",
         "showgrid": false,
         "tickfont": {
          "color": "#4D5663"
         },
         "title": {
          "font": {
           "color": "#4D5663"
          },
          "text": ""
         },
         "zerolinecolor": "#E1E5ED"
        },
        "xaxis13": {
         "anchor": "y13",
         "domain": [
          0,
          0.2125
         ],
         "gridcolor": "#E1E5ED",
         "showgrid": false,
         "tickfont": {
          "color": "#4D5663"
         },
         "title": {
          "font": {
           "color": "#4D5663"
          },
          "text": ""
         },
         "zerolinecolor": "#E1E5ED"
        },
        "xaxis14": {
         "anchor": "y14",
         "domain": [
          0.2625,
          0.475
         ],
         "gridcolor": "#E1E5ED",
         "showgrid": false,
         "tickfont": {
          "color": "#4D5663"
         },
         "title": {
          "font": {
           "color": "#4D5663"
          },
          "text": ""
         },
         "zerolinecolor": "#E1E5ED"
        },
        "xaxis15": {
         "anchor": "y15",
         "domain": [
          0.525,
          0.7375
         ],
         "gridcolor": "#E1E5ED",
         "showgrid": false,
         "tickfont": {
          "color": "#4D5663"
         },
         "title": {
          "font": {
           "color": "#4D5663"
          },
          "text": ""
         },
         "zerolinecolor": "#E1E5ED"
        },
        "xaxis16": {
         "anchor": "y16",
         "domain": [
          0.7875,
          1
         ],
         "gridcolor": "#E1E5ED",
         "showgrid": false,
         "tickfont": {
          "color": "#4D5663"
         },
         "title": {
          "font": {
           "color": "#4D5663"
          },
          "text": ""
         },
         "zerolinecolor": "#E1E5ED"
        },
        "xaxis2": {
         "anchor": "y2",
         "domain": [
          0.2625,
          0.475
         ],
         "gridcolor": "#E1E5ED",
         "showgrid": false,
         "tickfont": {
          "color": "#4D5663"
         },
         "title": {
          "font": {
           "color": "#4D5663"
          },
          "text": ""
         },
         "zerolinecolor": "#E1E5ED"
        },
        "xaxis3": {
         "anchor": "y3",
         "domain": [
          0.525,
          0.7375
         ],
         "gridcolor": "#E1E5ED",
         "showgrid": false,
         "tickfont": {
          "color": "#4D5663"
         },
         "title": {
          "font": {
           "color": "#4D5663"
          },
          "text": ""
         },
         "zerolinecolor": "#E1E5ED"
        },
        "xaxis4": {
         "anchor": "y4",
         "domain": [
          0.7875,
          1
         ],
         "gridcolor": "#E1E5ED",
         "showgrid": false,
         "tickfont": {
          "color": "#4D5663"
         },
         "title": {
          "font": {
           "color": "#4D5663"
          },
          "text": ""
         },
         "zerolinecolor": "#E1E5ED"
        },
        "xaxis5": {
         "anchor": "y5",
         "domain": [
          0,
          0.2125
         ],
         "gridcolor": "#E1E5ED",
         "showgrid": false,
         "tickfont": {
          "color": "#4D5663"
         },
         "title": {
          "font": {
           "color": "#4D5663"
          },
          "text": ""
         },
         "zerolinecolor": "#E1E5ED"
        },
        "xaxis6": {
         "anchor": "y6",
         "domain": [
          0.2625,
          0.475
         ],
         "gridcolor": "#E1E5ED",
         "showgrid": false,
         "tickfont": {
          "color": "#4D5663"
         },
         "title": {
          "font": {
           "color": "#4D5663"
          },
          "text": ""
         },
         "zerolinecolor": "#E1E5ED"
        },
        "xaxis7": {
         "anchor": "y7",
         "domain": [
          0.525,
          0.7375
         ],
         "gridcolor": "#E1E5ED",
         "showgrid": false,
         "tickfont": {
          "color": "#4D5663"
         },
         "title": {
          "font": {
           "color": "#4D5663"
          },
          "text": ""
         },
         "zerolinecolor": "#E1E5ED"
        },
        "xaxis8": {
         "anchor": "y8",
         "domain": [
          0.7875,
          1
         ],
         "gridcolor": "#E1E5ED",
         "showgrid": false,
         "tickfont": {
          "color": "#4D5663"
         },
         "title": {
          "font": {
           "color": "#4D5663"
          },
          "text": ""
         },
         "zerolinecolor": "#E1E5ED"
        },
        "xaxis9": {
         "anchor": "y9",
         "domain": [
          0,
          0.2125
         ],
         "gridcolor": "#E1E5ED",
         "showgrid": false,
         "tickfont": {
          "color": "#4D5663"
         },
         "title": {
          "font": {
           "color": "#4D5663"
          },
          "text": ""
         },
         "zerolinecolor": "#E1E5ED"
        },
        "yaxis": {
         "anchor": "x",
         "domain": [
          0.8025,
          1
         ],
         "gridcolor": "#E1E5ED",
         "showgrid": false,
         "tickfont": {
          "color": "#4D5663"
         },
         "title": {
          "font": {
           "color": "#4D5663"
          },
          "text": ""
         },
         "zerolinecolor": "#E1E5ED"
        },
        "yaxis10": {
         "anchor": "x10",
         "domain": [
          0.2675,
          0.465
         ],
         "gridcolor": "#E1E5ED",
         "showgrid": false,
         "tickfont": {
          "color": "#4D5663"
         },
         "title": {
          "font": {
           "color": "#4D5663"
          },
          "text": ""
         },
         "zerolinecolor": "#E1E5ED"
        },
        "yaxis11": {
         "anchor": "x11",
         "domain": [
          0.2675,
          0.465
         ],
         "gridcolor": "#E1E5ED",
         "showgrid": false,
         "tickfont": {
          "color": "#4D5663"
         },
         "title": {
          "font": {
           "color": "#4D5663"
          },
          "text": ""
         },
         "zerolinecolor": "#E1E5ED"
        },
        "yaxis12": {
         "anchor": "x12",
         "domain": [
          0.2675,
          0.465
         ],
         "gridcolor": "#E1E5ED",
         "showgrid": false,
         "tickfont": {
          "color": "#4D5663"
         },
         "title": {
          "font": {
           "color": "#4D5663"
          },
          "text": ""
         },
         "zerolinecolor": "#E1E5ED"
        },
        "yaxis13": {
         "anchor": "x13",
         "domain": [
          0,
          0.1975
         ],
         "gridcolor": "#E1E5ED",
         "showgrid": false,
         "tickfont": {
          "color": "#4D5663"
         },
         "title": {
          "font": {
           "color": "#4D5663"
          },
          "text": ""
         },
         "zerolinecolor": "#E1E5ED"
        },
        "yaxis14": {
         "anchor": "x14",
         "domain": [
          0,
          0.1975
         ],
         "gridcolor": "#E1E5ED",
         "showgrid": false,
         "tickfont": {
          "color": "#4D5663"
         },
         "title": {
          "font": {
           "color": "#4D5663"
          },
          "text": ""
         },
         "zerolinecolor": "#E1E5ED"
        },
        "yaxis15": {
         "anchor": "x15",
         "domain": [
          0,
          0.1975
         ],
         "gridcolor": "#E1E5ED",
         "showgrid": false,
         "tickfont": {
          "color": "#4D5663"
         },
         "title": {
          "font": {
           "color": "#4D5663"
          },
          "text": ""
         },
         "zerolinecolor": "#E1E5ED"
        },
        "yaxis16": {
         "anchor": "x16",
         "domain": [
          0,
          0.1975
         ],
         "gridcolor": "#E1E5ED",
         "showgrid": false,
         "tickfont": {
          "color": "#4D5663"
         },
         "title": {
          "font": {
           "color": "#4D5663"
          },
          "text": ""
         },
         "zerolinecolor": "#E1E5ED"
        },
        "yaxis2": {
         "anchor": "x2",
         "domain": [
          0.8025,
          1
         ],
         "gridcolor": "#E1E5ED",
         "showgrid": false,
         "tickfont": {
          "color": "#4D5663"
         },
         "title": {
          "font": {
           "color": "#4D5663"
          },
          "text": ""
         },
         "zerolinecolor": "#E1E5ED"
        },
        "yaxis3": {
         "anchor": "x3",
         "domain": [
          0.8025,
          1
         ],
         "gridcolor": "#E1E5ED",
         "showgrid": false,
         "tickfont": {
          "color": "#4D5663"
         },
         "title": {
          "font": {
           "color": "#4D5663"
          },
          "text": ""
         },
         "zerolinecolor": "#E1E5ED"
        },
        "yaxis4": {
         "anchor": "x4",
         "domain": [
          0.8025,
          1
         ],
         "gridcolor": "#E1E5ED",
         "showgrid": false,
         "tickfont": {
          "color": "#4D5663"
         },
         "title": {
          "font": {
           "color": "#4D5663"
          },
          "text": ""
         },
         "zerolinecolor": "#E1E5ED"
        },
        "yaxis5": {
         "anchor": "x5",
         "domain": [
          0.535,
          0.7325
         ],
         "gridcolor": "#E1E5ED",
         "showgrid": false,
         "tickfont": {
          "color": "#4D5663"
         },
         "title": {
          "font": {
           "color": "#4D5663"
          },
          "text": ""
         },
         "zerolinecolor": "#E1E5ED"
        },
        "yaxis6": {
         "anchor": "x6",
         "domain": [
          0.535,
          0.7325
         ],
         "gridcolor": "#E1E5ED",
         "showgrid": false,
         "tickfont": {
          "color": "#4D5663"
         },
         "title": {
          "font": {
           "color": "#4D5663"
          },
          "text": ""
         },
         "zerolinecolor": "#E1E5ED"
        },
        "yaxis7": {
         "anchor": "x7",
         "domain": [
          0.535,
          0.7325
         ],
         "gridcolor": "#E1E5ED",
         "showgrid": false,
         "tickfont": {
          "color": "#4D5663"
         },
         "title": {
          "font": {
           "color": "#4D5663"
          },
          "text": ""
         },
         "zerolinecolor": "#E1E5ED"
        },
        "yaxis8": {
         "anchor": "x8",
         "domain": [
          0.535,
          0.7325
         ],
         "gridcolor": "#E1E5ED",
         "showgrid": false,
         "tickfont": {
          "color": "#4D5663"
         },
         "title": {
          "font": {
           "color": "#4D5663"
          },
          "text": ""
         },
         "zerolinecolor": "#E1E5ED"
        },
        "yaxis9": {
         "anchor": "x9",
         "domain": [
          0.2675,
          0.465
         ],
         "gridcolor": "#E1E5ED",
         "showgrid": false,
         "tickfont": {
          "color": "#4D5663"
         },
         "title": {
          "font": {
           "color": "#4D5663"
          },
          "text": ""
         },
         "zerolinecolor": "#E1E5ED"
        }
       }
      },
      "text/html": [
       "<div>                            <div id=\"7d388cb6-086f-4a98-bedd-cb83b9b8f316\" class=\"plotly-graph-div\" style=\"height:525px; width:100%;\"></div>            <script type=\"text/javascript\">                require([\"plotly\"], function(Plotly) {                    window.PLOTLYENV=window.PLOTLYENV || {};\n",
       "                    window.PLOTLYENV.BASE_URL='https://plot.ly';                                    if (document.getElementById(\"7d388cb6-086f-4a98-bedd-cb83b9b8f316\")) {                    Plotly.newPlot(                        \"7d388cb6-086f-4a98-bedd-cb83b9b8f316\",                        [{\"histfunc\": \"count\", \"histnorm\": \"\", \"marker\": {\"color\": \"rgba(255, 153, 51, 1.0)\", \"line\": {\"color\": \"#4D5663\", \"width\": 1.3}}, \"name\": \"A\", \"nbinsx\": 10, \"opacity\": 0.8, \"orientation\": \"v\", \"type\": \"histogram\", \"x\": [-0.6915796259609344, -0.8872849879301269, 0.7351331691915325, 0.0187482624021014, -1.3817892822184494, 1.6276935039887588, 0.48741645957410107, 0.7184343185820924, -1.9281264806682483, -0.8999233502422062, -1.7799183101839324, 0.9008821566604649, 0.20301832261981306, 1.8060196231091028, -0.2913743722283807, -1.0028680571625874, -0.7799725268069628, -1.0115947811354846, 1.6690294312418568, -1.0396907179959067, 0.06871544329476185, -0.8842237666730386, 1.224973208704979, 0.4631385238986198, 0.740878154820934, -0.5813038422552343, -0.9383979476151751, 2.2143189803556362, -0.423551427103088, -0.42048634304971966, 0.4524961287844688, -0.2849268456346176, 0.20084633802688698, -1.179587520197634, -1.2171104780344941, 1.31260455425112, 0.07424119953542815, 1.3428441779852547, -2.860036001452457, -0.2980548945617647, 1.7031874742888558, 0.4039403360775828, -0.4530643885339186, 0.5166202508143846, 2.5061604436079388, -0.22651256670052275, -0.4113509392005815, 0.3844710304962001, 0.7768993023151984, 0.3919698813535365, -1.2483424611011424, 0.5757471088717269, -0.9586586441077025, 0.07349496376369483, 0.4105909975316248, 0.38694569353694597, -0.06808552922896927, -0.30962695184908284, -0.10858045854730711, 1.144943808386343, -1.1158660861520617, -0.8072714792006194, -0.8200009118915258, 0.2406666220789867, -0.427222957956366, 1.772402559856502, -0.15284717195228584, 0.15338364795477655, -0.7943165728504842, -1.4053685632042303, 0.8582648769101241, -0.7422149276534388, -0.983609520312817, 1.008138822924062, -2.812568541347789, -0.7667967963565699, 1.4951803796842733, -0.17619436709084627, 0.39350770109275585, 0.8172413146696621, 0.5130245863583023, -0.6357411104723741, 0.1321533298737306, 1.2371806367240268, 0.36351975843928164, -0.22604926645818205, -0.6664127081099145, 1.3696975147006802, 0.5798010860119244, -0.592057266420742, -0.4007257037255129, 0.0604157024958049, 0.19956225440633601, -0.2386209677915759, -0.45382262875168244, -0.029871779297502257, -0.2860381306203588, 0.4140082157874592, 0.5257824581842769, -0.369657676375118], \"xaxis\": \"x\", \"yaxis\": \"y\"}, {\"line\": {\"color\": \"rgba(128, 128, 128, 1.0)\", \"dash\": \"solid\", \"shape\": \"linear\", \"width\": 1.3}, \"marker\": {\"size\": 2, \"symbol\": \"circle\"}, \"mode\": \"markers\", \"name\": \"A\", \"text\": \"\", \"type\": \"scatter\", \"x\": [-0.4416109016685977, 1.5651155798664615, -0.486386343433522, -2.199567556381776, -0.9142935082338941, 0.06812640059682612, 0.4776202682694769, 1.0546625009640556, -0.6880548877398517, 1.8209757828156723, 1.5571718328009587, 1.1589728923099107, 1.163334643980302, -0.9964320957995271, 0.5229700623178248, -0.5422628084138779, -0.267673267490769, -2.542024338097646, 0.1892572429133559, 0.9531814741576196, 0.7493063574421213, 0.5023472703547277, -0.6404279709338484, -0.09415765433918766, -0.8473289830681051, 2.4475018491497593, -1.2457317162324226, -1.3811748213213695, 0.20239230418083937, 1.1660197139884207, 0.4389106508835806, -1.5696964379987275, -2.1470786229066596, -1.2716195718711647, -0.32431857246238116, -0.48671087904318966, 0.807176097279996, -0.4545226307330017, 0.9692805152724048, -0.5399406974702767, -0.9112616777512544, -0.714636963502582, 0.4401518992961405, 1.2112389619411343, -0.36511562219575633, -0.823735935608685, 0.6940529112251567, 1.2488733228033813, -0.8614307813991519, 2.347537155331469, -1.1135489104449754, -0.4266769291945704, -0.34983112284132795, -1.0800241937145774, -0.7310272741866767, 0.6143328644742845, -0.24735519775421033, 0.5218972511065154, 0.18495767661158455, 0.03356610062777415, -0.9264261222493289, -1.1715593013084677, 1.3667087323756861, -0.07870407832879851, 0.050980863247599886, -1.4353282576073432, -1.1057379385577595, -1.240759569480158, -1.435045518952723, 0.2866146102228182, -0.4321199550320402, 0.20803661832940504, -1.637427291219393, 1.195797731567711, 0.36417372075511256, 0.06277847213280971, -0.35012964109245687, 2.45863772791582, -0.21262565217949736, 0.08746166141915754, 0.11560547765517383, -1.75608505564241, 0.29493286266375646, -0.8759852777508496, 0.6355229301680484, -0.019587564842157068, -0.4184902249812962, 0.279985822989887, 1.0476231961393485, -1.4800776423230955, 0.8336250259779167, 1.1108395642941793, -3.550161594830222, -0.3630151021155685, -0.4319034238532681, 1.2014795760785844, -0.7163833677385238, -0.9322561095076094, 0.978279984551639, 0.3454873088830252], \"xaxis\": \"x2\", \"y\": [-0.6915796259609344, -0.8872849879301269, 0.7351331691915325, 0.0187482624021014, -1.3817892822184494, 1.6276935039887588, 0.48741645957410107, 0.7184343185820924, -1.9281264806682483, -0.8999233502422062, -1.7799183101839324, 0.9008821566604649, 0.20301832261981306, 1.8060196231091028, -0.2913743722283807, -1.0028680571625874, -0.7799725268069628, -1.0115947811354846, 1.6690294312418568, -1.0396907179959067, 0.06871544329476185, -0.8842237666730386, 1.224973208704979, 0.4631385238986198, 0.740878154820934, -0.5813038422552343, -0.9383979476151751, 2.2143189803556362, -0.423551427103088, -0.42048634304971966, 0.4524961287844688, -0.2849268456346176, 0.20084633802688698, -1.179587520197634, -1.2171104780344941, 1.31260455425112, 0.07424119953542815, 1.3428441779852547, -2.860036001452457, -0.2980548945617647, 1.7031874742888558, 0.4039403360775828, -0.4530643885339186, 0.5166202508143846, 2.5061604436079388, -0.22651256670052275, -0.4113509392005815, 0.3844710304962001, 0.7768993023151984, 0.3919698813535365, -1.2483424611011424, 0.5757471088717269, -0.9586586441077025, 0.07349496376369483, 0.4105909975316248, 0.38694569353694597, -0.06808552922896927, -0.30962695184908284, -0.10858045854730711, 1.144943808386343, -1.1158660861520617, -0.8072714792006194, -0.8200009118915258, 0.2406666220789867, -0.427222957956366, 1.772402559856502, -0.15284717195228584, 0.15338364795477655, -0.7943165728504842, -1.4053685632042303, 0.8582648769101241, -0.7422149276534388, -0.983609520312817, 1.008138822924062, -2.812568541347789, -0.7667967963565699, 1.4951803796842733, -0.17619436709084627, 0.39350770109275585, 0.8172413146696621, 0.5130245863583023, -0.6357411104723741, 0.1321533298737306, 1.2371806367240268, 0.36351975843928164, -0.22604926645818205, -0.6664127081099145, 1.3696975147006802, 0.5798010860119244, -0.592057266420742, -0.4007257037255129, 0.0604157024958049, 0.19956225440633601, -0.2386209677915759, -0.45382262875168244, -0.029871779297502257, -0.2860381306203588, 0.4140082157874592, 0.5257824581842769, -0.369657676375118], \"yaxis\": \"y2\"}, {\"line\": {\"color\": \"rgba(128, 128, 128, 1.0)\", \"dash\": \"solid\", \"shape\": \"linear\", \"width\": 1.3}, \"marker\": {\"size\": 2, \"symbol\": \"circle\"}, \"mode\": \"markers\", \"name\": \"A\", \"text\": \"\", \"type\": \"scatter\", \"x\": [0.4522545879584659, -0.3098883532541913, -0.8685915805795065, 1.2496515690698484, -1.7513335542533628, -2.0362585016739296, -1.3040385922257955, -0.5093871032378738, -0.913353838111688, 0.8971050990564488, -1.485156501773989, -2.0316025172206866, -2.218068863798064, -0.2472925822811598, -0.8902405104136178, -0.11429329601199983, 0.6742287539695303, -0.36252696301872683, 1.5304273493611418, 0.6444135294669895, 0.09974417339352815, 0.19658634501512137, 1.287392439384835, -1.0480474195184937, 1.0909907861818477, -1.2317793804201551, -0.12566975721461193, 1.2909130254442163, 0.6599109766293723, -2.0140894429621694, -0.15294953091052038, -0.021635097566481014, 0.8796304546424791, -0.6792603957867522, 0.2945752209531674, 1.1297471141016806, -0.11676254871991425, 2.347583941514725, -1.5781924447410682, 0.27579871510013204, -1.2933996036086985, -1.912483689589599, -1.0504313141077672, -0.20830844283929625, 0.18513803501323942, -0.996047459104622, 0.08905933592094152, -0.1405226541897708, 0.9943259225215723, 0.8115351024740861, 0.35082757968197054, 0.34746321091398474, 0.8339728671159397, -0.13572412190405891, 1.215372964946147, 0.6899434067824541, 0.251646583188885, 0.5118398641384256, 0.28326596553543903, 2.545421016579426, 0.5075132599579651, 0.5087398917009316, 1.1670523429606985, 0.2027812050913676, -1.074098935456282, 0.4655297640930342, -1.2135089455240367, -0.16525202676395842, -0.07768556384782098, -0.20235544552513945, -0.08800485992119174, -0.736560482304127, 0.5474920051755428, 0.462190481078619, -1.8287944197919235, -2.136122074828795, 0.31467548751679214, 1.569565126547533, -0.16294217349948453, 0.5809867335685517, 0.056210066261843286, -0.5788194006182091, -1.4668693903168615, 0.7265379204783153, 0.6870289394605951, 0.3937539131814704, -0.9803956898112073, -0.8146279825557912, 0.37984854878028845, 0.5410058249236476, 1.7521938557230308, -1.0563009039764553, -1.9952453346270143, -1.8123894331771992, 0.37598564650114286, 1.8090871596555738, -0.08155816086073539, -0.6581872710293829, 1.2217916891499028, -0.45890083340443405], \"xaxis\": \"x3\", \"y\": [-0.6915796259609344, -0.8872849879301269, 0.7351331691915325, 0.0187482624021014, -1.3817892822184494, 1.6276935039887588, 0.48741645957410107, 0.7184343185820924, -1.9281264806682483, -0.8999233502422062, -1.7799183101839324, 0.9008821566604649, 0.20301832261981306, 1.8060196231091028, -0.2913743722283807, -1.0028680571625874, -0.7799725268069628, -1.0115947811354846, 1.6690294312418568, -1.0396907179959067, 0.06871544329476185, -0.8842237666730386, 1.224973208704979, 0.4631385238986198, 0.740878154820934, -0.5813038422552343, -0.9383979476151751, 2.2143189803556362, -0.423551427103088, -0.42048634304971966, 0.4524961287844688, -0.2849268456346176, 0.20084633802688698, -1.179587520197634, -1.2171104780344941, 1.31260455425112, 0.07424119953542815, 1.3428441779852547, -2.860036001452457, -0.2980548945617647, 1.7031874742888558, 0.4039403360775828, -0.4530643885339186, 0.5166202508143846, 2.5061604436079388, -0.22651256670052275, -0.4113509392005815, 0.3844710304962001, 0.7768993023151984, 0.3919698813535365, -1.2483424611011424, 0.5757471088717269, -0.9586586441077025, 0.07349496376369483, 0.4105909975316248, 0.38694569353694597, -0.06808552922896927, -0.30962695184908284, -0.10858045854730711, 1.144943808386343, -1.1158660861520617, -0.8072714792006194, -0.8200009118915258, 0.2406666220789867, -0.427222957956366, 1.772402559856502, -0.15284717195228584, 0.15338364795477655, -0.7943165728504842, -1.4053685632042303, 0.8582648769101241, -0.7422149276534388, -0.983609520312817, 1.008138822924062, -2.812568541347789, -0.7667967963565699, 1.4951803796842733, -0.17619436709084627, 0.39350770109275585, 0.8172413146696621, 0.5130245863583023, -0.6357411104723741, 0.1321533298737306, 1.2371806367240268, 0.36351975843928164, -0.22604926645818205, -0.6664127081099145, 1.3696975147006802, 0.5798010860119244, -0.592057266420742, -0.4007257037255129, 0.0604157024958049, 0.19956225440633601, -0.2386209677915759, -0.45382262875168244, -0.029871779297502257, -0.2860381306203588, 0.4140082157874592, 0.5257824581842769, -0.369657676375118], \"yaxis\": \"y3\"}, {\"line\": {\"color\": \"rgba(128, 128, 128, 1.0)\", \"dash\": \"solid\", \"shape\": \"linear\", \"width\": 1.3}, \"marker\": {\"size\": 2, \"symbol\": \"circle\"}, \"mode\": \"markers\", \"name\": \"A\", \"text\": \"\", \"type\": \"scatter\", \"x\": [-1.0306605709096543, -0.1752621732294562, -1.3928220006840555, -0.4001829936276594, 0.8024891201013005, 1.048463155119017, 0.6775298289407882, -1.783840862574793, -0.5490506553033939, -2.756564892179787, 0.4947119292473199, -1.3374450687095152, -1.2918993015358484, -0.6533893666818588, 0.7805657099556595, 0.26681780728876525, -1.7798873417359986, 0.6723886339722739, 0.8177184687575915, -1.9215280829952912, 0.3321842699996094, 1.3301377990939902, -0.5457930337240582, -1.3837534482925964, 0.8645492110167224, -1.0054946576727923, 0.2818559611625251, 0.0035772240944569353, 1.2229729665859856, -1.192623136181325, -0.5985598740067203, 0.5220081460583174, 0.7172735500222303, -2.9155070054398267, 0.2145744600583689, 0.4338744489865867, -1.4233566395261539, -1.7415104733859441, -0.5234253418551685, -2.399537842193371, 0.14386601618288897, -0.00401638591076631, -0.6354545083109396, -1.8517092368774808, -0.44969971698053335, -0.1574671947169798, -1.4292170644825395, -1.2139998545048707, -1.1173414632202152, 1.438716717538454, -1.2552216131544838, -0.7447038580280433, -0.399436232497645, 0.9507205946727983, -0.08470741143090028, 0.18803028316262008, -0.2582382390610199, 1.0059991413484877, -1.8900520208225555, -0.16156819110984721, 0.8814104867337247, -0.21258656399161507, 1.4110848550461996, 0.9817766994274616, -0.24708653757544896, -0.4037757668502509, -0.3257817752332432, 0.3840584491590996, -0.6666543463508315, -1.3511182297814253, -1.372946329912293, -0.4931193577594537, 0.9473803349008856, 0.5438693985374551, 1.6913999794747723, -0.9956203708574634, -0.4098564636956649, 0.39531073326868843, -0.24968403067732653, -0.14551797080403323, 0.3982815575902771, -1.1718833576081524, -1.0814038546124822, -0.8345188061678622, -1.6567678718728382, -1.3020504259299415, 1.1438735246629153, 0.6084456630495041, 0.4266279077187081, 0.8680359185399901, 0.8075987924364346, 0.3681502183985649, -0.1180412052735829, 1.4356462801667715, -0.45425706018736056, -1.5954564021703606, 0.21561546927263744, 0.8860055832666353, 0.19574625415171115, -0.17862959435754738], \"xaxis\": \"x4\", \"y\": [-0.6915796259609344, -0.8872849879301269, 0.7351331691915325, 0.0187482624021014, -1.3817892822184494, 1.6276935039887588, 0.48741645957410107, 0.7184343185820924, -1.9281264806682483, -0.8999233502422062, -1.7799183101839324, 0.9008821566604649, 0.20301832261981306, 1.8060196231091028, -0.2913743722283807, -1.0028680571625874, -0.7799725268069628, -1.0115947811354846, 1.6690294312418568, -1.0396907179959067, 0.06871544329476185, -0.8842237666730386, 1.224973208704979, 0.4631385238986198, 0.740878154820934, -0.5813038422552343, -0.9383979476151751, 2.2143189803556362, -0.423551427103088, -0.42048634304971966, 0.4524961287844688, -0.2849268456346176, 0.20084633802688698, -1.179587520197634, -1.2171104780344941, 1.31260455425112, 0.07424119953542815, 1.3428441779852547, -2.860036001452457, -0.2980548945617647, 1.7031874742888558, 0.4039403360775828, -0.4530643885339186, 0.5166202508143846, 2.5061604436079388, -0.22651256670052275, -0.4113509392005815, 0.3844710304962001, 0.7768993023151984, 0.3919698813535365, -1.2483424611011424, 0.5757471088717269, -0.9586586441077025, 0.07349496376369483, 0.4105909975316248, 0.38694569353694597, -0.06808552922896927, -0.30962695184908284, -0.10858045854730711, 1.144943808386343, -1.1158660861520617, -0.8072714792006194, -0.8200009118915258, 0.2406666220789867, -0.427222957956366, 1.772402559856502, -0.15284717195228584, 0.15338364795477655, -0.7943165728504842, -1.4053685632042303, 0.8582648769101241, -0.7422149276534388, -0.983609520312817, 1.008138822924062, -2.812568541347789, -0.7667967963565699, 1.4951803796842733, -0.17619436709084627, 0.39350770109275585, 0.8172413146696621, 0.5130245863583023, -0.6357411104723741, 0.1321533298737306, 1.2371806367240268, 0.36351975843928164, -0.22604926645818205, -0.6664127081099145, 1.3696975147006802, 0.5798010860119244, -0.592057266420742, -0.4007257037255129, 0.0604157024958049, 0.19956225440633601, -0.2386209677915759, -0.45382262875168244, -0.029871779297502257, -0.2860381306203588, 0.4140082157874592, 0.5257824581842769, -0.369657676375118], \"yaxis\": \"y4\"}, {\"line\": {\"color\": \"rgba(128, 128, 128, 1.0)\", \"dash\": \"solid\", \"shape\": \"linear\", \"width\": 1.3}, \"marker\": {\"size\": 2, \"symbol\": \"circle\"}, \"mode\": \"markers\", \"name\": \"B\", \"text\": \"\", \"type\": \"scatter\", \"x\": [-0.6915796259609344, -0.8872849879301269, 0.7351331691915325, 0.0187482624021014, -1.3817892822184494, 1.6276935039887588, 0.48741645957410107, 0.7184343185820924, -1.9281264806682483, -0.8999233502422062, -1.7799183101839324, 0.9008821566604649, 0.20301832261981306, 1.8060196231091028, -0.2913743722283807, -1.0028680571625874, -0.7799725268069628, -1.0115947811354846, 1.6690294312418568, -1.0396907179959067, 0.06871544329476185, -0.8842237666730386, 1.224973208704979, 0.4631385238986198, 0.740878154820934, -0.5813038422552343, -0.9383979476151751, 2.2143189803556362, -0.423551427103088, -0.42048634304971966, 0.4524961287844688, -0.2849268456346176, 0.20084633802688698, -1.179587520197634, -1.2171104780344941, 1.31260455425112, 0.07424119953542815, 1.3428441779852547, -2.860036001452457, -0.2980548945617647, 1.7031874742888558, 0.4039403360775828, -0.4530643885339186, 0.5166202508143846, 2.5061604436079388, -0.22651256670052275, -0.4113509392005815, 0.3844710304962001, 0.7768993023151984, 0.3919698813535365, -1.2483424611011424, 0.5757471088717269, -0.9586586441077025, 0.07349496376369483, 0.4105909975316248, 0.38694569353694597, -0.06808552922896927, -0.30962695184908284, -0.10858045854730711, 1.144943808386343, -1.1158660861520617, -0.8072714792006194, -0.8200009118915258, 0.2406666220789867, -0.427222957956366, 1.772402559856502, -0.15284717195228584, 0.15338364795477655, -0.7943165728504842, -1.4053685632042303, 0.8582648769101241, -0.7422149276534388, -0.983609520312817, 1.008138822924062, -2.812568541347789, -0.7667967963565699, 1.4951803796842733, -0.17619436709084627, 0.39350770109275585, 0.8172413146696621, 0.5130245863583023, -0.6357411104723741, 0.1321533298737306, 1.2371806367240268, 0.36351975843928164, -0.22604926645818205, -0.6664127081099145, 1.3696975147006802, 0.5798010860119244, -0.592057266420742, -0.4007257037255129, 0.0604157024958049, 0.19956225440633601, -0.2386209677915759, -0.45382262875168244, -0.029871779297502257, -0.2860381306203588, 0.4140082157874592, 0.5257824581842769, -0.369657676375118], \"xaxis\": \"x5\", \"y\": [-0.4416109016685977, 1.5651155798664615, -0.486386343433522, -2.199567556381776, -0.9142935082338941, 0.06812640059682612, 0.4776202682694769, 1.0546625009640556, -0.6880548877398517, 1.8209757828156723, 1.5571718328009587, 1.1589728923099107, 1.163334643980302, -0.9964320957995271, 0.5229700623178248, -0.5422628084138779, -0.267673267490769, -2.542024338097646, 0.1892572429133559, 0.9531814741576196, 0.7493063574421213, 0.5023472703547277, -0.6404279709338484, -0.09415765433918766, -0.8473289830681051, 2.4475018491497593, -1.2457317162324226, -1.3811748213213695, 0.20239230418083937, 1.1660197139884207, 0.4389106508835806, -1.5696964379987275, -2.1470786229066596, -1.2716195718711647, -0.32431857246238116, -0.48671087904318966, 0.807176097279996, -0.4545226307330017, 0.9692805152724048, -0.5399406974702767, -0.9112616777512544, -0.714636963502582, 0.4401518992961405, 1.2112389619411343, -0.36511562219575633, -0.823735935608685, 0.6940529112251567, 1.2488733228033813, -0.8614307813991519, 2.347537155331469, -1.1135489104449754, -0.4266769291945704, -0.34983112284132795, -1.0800241937145774, -0.7310272741866767, 0.6143328644742845, -0.24735519775421033, 0.5218972511065154, 0.18495767661158455, 0.03356610062777415, -0.9264261222493289, -1.1715593013084677, 1.3667087323756861, -0.07870407832879851, 0.050980863247599886, -1.4353282576073432, -1.1057379385577595, -1.240759569480158, -1.435045518952723, 0.2866146102228182, -0.4321199550320402, 0.20803661832940504, -1.637427291219393, 1.195797731567711, 0.36417372075511256, 0.06277847213280971, -0.35012964109245687, 2.45863772791582, -0.21262565217949736, 0.08746166141915754, 0.11560547765517383, -1.75608505564241, 0.29493286266375646, -0.8759852777508496, 0.6355229301680484, -0.019587564842157068, -0.4184902249812962, 0.279985822989887, 1.0476231961393485, -1.4800776423230955, 0.8336250259779167, 1.1108395642941793, -3.550161594830222, -0.3630151021155685, -0.4319034238532681, 1.2014795760785844, -0.7163833677385238, -0.9322561095076094, 0.978279984551639, 0.3454873088830252], \"yaxis\": \"y5\"}, {\"histfunc\": \"count\", \"histnorm\": \"\", \"marker\": {\"color\": \"rgba(55, 128, 191, 1.0)\", \"line\": {\"color\": \"#4D5663\", \"width\": 1.3}}, \"name\": \"B\", \"nbinsx\": 10, \"opacity\": 0.8, \"orientation\": \"v\", \"type\": \"histogram\", \"x\": [-0.4416109016685977, 1.5651155798664615, -0.486386343433522, -2.199567556381776, -0.9142935082338941, 0.06812640059682612, 0.4776202682694769, 1.0546625009640556, -0.6880548877398517, 1.8209757828156723, 1.5571718328009587, 1.1589728923099107, 1.163334643980302, -0.9964320957995271, 0.5229700623178248, -0.5422628084138779, -0.267673267490769, -2.542024338097646, 0.1892572429133559, 0.9531814741576196, 0.7493063574421213, 0.5023472703547277, -0.6404279709338484, -0.09415765433918766, -0.8473289830681051, 2.4475018491497593, -1.2457317162324226, -1.3811748213213695, 0.20239230418083937, 1.1660197139884207, 0.4389106508835806, -1.5696964379987275, -2.1470786229066596, -1.2716195718711647, -0.32431857246238116, -0.48671087904318966, 0.807176097279996, -0.4545226307330017, 0.9692805152724048, -0.5399406974702767, -0.9112616777512544, -0.714636963502582, 0.4401518992961405, 1.2112389619411343, -0.36511562219575633, -0.823735935608685, 0.6940529112251567, 1.2488733228033813, -0.8614307813991519, 2.347537155331469, -1.1135489104449754, -0.4266769291945704, -0.34983112284132795, -1.0800241937145774, -0.7310272741866767, 0.6143328644742845, -0.24735519775421033, 0.5218972511065154, 0.18495767661158455, 0.03356610062777415, -0.9264261222493289, -1.1715593013084677, 1.3667087323756861, -0.07870407832879851, 0.050980863247599886, -1.4353282576073432, -1.1057379385577595, -1.240759569480158, -1.435045518952723, 0.2866146102228182, -0.4321199550320402, 0.20803661832940504, -1.637427291219393, 1.195797731567711, 0.36417372075511256, 0.06277847213280971, -0.35012964109245687, 2.45863772791582, -0.21262565217949736, 0.08746166141915754, 0.11560547765517383, -1.75608505564241, 0.29493286266375646, -0.8759852777508496, 0.6355229301680484, -0.019587564842157068, -0.4184902249812962, 0.279985822989887, 1.0476231961393485, -1.4800776423230955, 0.8336250259779167, 1.1108395642941793, -3.550161594830222, -0.3630151021155685, -0.4319034238532681, 1.2014795760785844, -0.7163833677385238, -0.9322561095076094, 0.978279984551639, 0.3454873088830252], \"xaxis\": \"x6\", \"yaxis\": \"y6\"}, {\"line\": {\"color\": \"rgba(128, 128, 128, 1.0)\", \"dash\": \"solid\", \"shape\": \"linear\", \"width\": 1.3}, \"marker\": {\"size\": 2, \"symbol\": \"circle\"}, \"mode\": \"markers\", \"name\": \"B\", \"text\": \"\", \"type\": \"scatter\", \"x\": [0.4522545879584659, -0.3098883532541913, -0.8685915805795065, 1.2496515690698484, -1.7513335542533628, -2.0362585016739296, -1.3040385922257955, -0.5093871032378738, -0.913353838111688, 0.8971050990564488, -1.485156501773989, -2.0316025172206866, -2.218068863798064, -0.2472925822811598, -0.8902405104136178, -0.11429329601199983, 0.6742287539695303, -0.36252696301872683, 1.5304273493611418, 0.6444135294669895, 0.09974417339352815, 0.19658634501512137, 1.287392439384835, -1.0480474195184937, 1.0909907861818477, -1.2317793804201551, -0.12566975721461193, 1.2909130254442163, 0.6599109766293723, -2.0140894429621694, -0.15294953091052038, -0.021635097566481014, 0.8796304546424791, -0.6792603957867522, 0.2945752209531674, 1.1297471141016806, -0.11676254871991425, 2.347583941514725, -1.5781924447410682, 0.27579871510013204, -1.2933996036086985, -1.912483689589599, -1.0504313141077672, -0.20830844283929625, 0.18513803501323942, -0.996047459104622, 0.08905933592094152, -0.1405226541897708, 0.9943259225215723, 0.8115351024740861, 0.35082757968197054, 0.34746321091398474, 0.8339728671159397, -0.13572412190405891, 1.215372964946147, 0.6899434067824541, 0.251646583188885, 0.5118398641384256, 0.28326596553543903, 2.545421016579426, 0.5075132599579651, 0.5087398917009316, 1.1670523429606985, 0.2027812050913676, -1.074098935456282, 0.4655297640930342, -1.2135089455240367, -0.16525202676395842, -0.07768556384782098, -0.20235544552513945, -0.08800485992119174, -0.736560482304127, 0.5474920051755428, 0.462190481078619, -1.8287944197919235, -2.136122074828795, 0.31467548751679214, 1.569565126547533, -0.16294217349948453, 0.5809867335685517, 0.056210066261843286, -0.5788194006182091, -1.4668693903168615, 0.7265379204783153, 0.6870289394605951, 0.3937539131814704, -0.9803956898112073, -0.8146279825557912, 0.37984854878028845, 0.5410058249236476, 1.7521938557230308, -1.0563009039764553, -1.9952453346270143, -1.8123894331771992, 0.37598564650114286, 1.8090871596555738, -0.08155816086073539, -0.6581872710293829, 1.2217916891499028, -0.45890083340443405], \"xaxis\": \"x7\", \"y\": [-0.4416109016685977, 1.5651155798664615, -0.486386343433522, -2.199567556381776, -0.9142935082338941, 0.06812640059682612, 0.4776202682694769, 1.0546625009640556, -0.6880548877398517, 1.8209757828156723, 1.5571718328009587, 1.1589728923099107, 1.163334643980302, -0.9964320957995271, 0.5229700623178248, -0.5422628084138779, -0.267673267490769, -2.542024338097646, 0.1892572429133559, 0.9531814741576196, 0.7493063574421213, 0.5023472703547277, -0.6404279709338484, -0.09415765433918766, -0.8473289830681051, 2.4475018491497593, -1.2457317162324226, -1.3811748213213695, 0.20239230418083937, 1.1660197139884207, 0.4389106508835806, -1.5696964379987275, -2.1470786229066596, -1.2716195718711647, -0.32431857246238116, -0.48671087904318966, 0.807176097279996, -0.4545226307330017, 0.9692805152724048, -0.5399406974702767, -0.9112616777512544, -0.714636963502582, 0.4401518992961405, 1.2112389619411343, -0.36511562219575633, -0.823735935608685, 0.6940529112251567, 1.2488733228033813, -0.8614307813991519, 2.347537155331469, -1.1135489104449754, -0.4266769291945704, -0.34983112284132795, -1.0800241937145774, -0.7310272741866767, 0.6143328644742845, -0.24735519775421033, 0.5218972511065154, 0.18495767661158455, 0.03356610062777415, -0.9264261222493289, -1.1715593013084677, 1.3667087323756861, -0.07870407832879851, 0.050980863247599886, -1.4353282576073432, -1.1057379385577595, -1.240759569480158, -1.435045518952723, 0.2866146102228182, -0.4321199550320402, 0.20803661832940504, -1.637427291219393, 1.195797731567711, 0.36417372075511256, 0.06277847213280971, -0.35012964109245687, 2.45863772791582, -0.21262565217949736, 0.08746166141915754, 0.11560547765517383, -1.75608505564241, 0.29493286266375646, -0.8759852777508496, 0.6355229301680484, -0.019587564842157068, -0.4184902249812962, 0.279985822989887, 1.0476231961393485, -1.4800776423230955, 0.8336250259779167, 1.1108395642941793, -3.550161594830222, -0.3630151021155685, -0.4319034238532681, 1.2014795760785844, -0.7163833677385238, -0.9322561095076094, 0.978279984551639, 0.3454873088830252], \"yaxis\": \"y7\"}, {\"line\": {\"color\": \"rgba(128, 128, 128, 1.0)\", \"dash\": \"solid\", \"shape\": \"linear\", \"width\": 1.3}, \"marker\": {\"size\": 2, \"symbol\": \"circle\"}, \"mode\": \"markers\", \"name\": \"B\", \"text\": \"\", \"type\": \"scatter\", \"x\": [-1.0306605709096543, -0.1752621732294562, -1.3928220006840555, -0.4001829936276594, 0.8024891201013005, 1.048463155119017, 0.6775298289407882, -1.783840862574793, -0.5490506553033939, -2.756564892179787, 0.4947119292473199, -1.3374450687095152, -1.2918993015358484, -0.6533893666818588, 0.7805657099556595, 0.26681780728876525, -1.7798873417359986, 0.6723886339722739, 0.8177184687575915, -1.9215280829952912, 0.3321842699996094, 1.3301377990939902, -0.5457930337240582, -1.3837534482925964, 0.8645492110167224, -1.0054946576727923, 0.2818559611625251, 0.0035772240944569353, 1.2229729665859856, -1.192623136181325, -0.5985598740067203, 0.5220081460583174, 0.7172735500222303, -2.9155070054398267, 0.2145744600583689, 0.4338744489865867, -1.4233566395261539, -1.7415104733859441, -0.5234253418551685, -2.399537842193371, 0.14386601618288897, -0.00401638591076631, -0.6354545083109396, -1.8517092368774808, -0.44969971698053335, -0.1574671947169798, -1.4292170644825395, -1.2139998545048707, -1.1173414632202152, 1.438716717538454, -1.2552216131544838, -0.7447038580280433, -0.399436232497645, 0.9507205946727983, -0.08470741143090028, 0.18803028316262008, -0.2582382390610199, 1.0059991413484877, -1.8900520208225555, -0.16156819110984721, 0.8814104867337247, -0.21258656399161507, 1.4110848550461996, 0.9817766994274616, -0.24708653757544896, -0.4037757668502509, -0.3257817752332432, 0.3840584491590996, -0.6666543463508315, -1.3511182297814253, -1.372946329912293, -0.4931193577594537, 0.9473803349008856, 0.5438693985374551, 1.6913999794747723, -0.9956203708574634, -0.4098564636956649, 0.39531073326868843, -0.24968403067732653, -0.14551797080403323, 0.3982815575902771, -1.1718833576081524, -1.0814038546124822, -0.8345188061678622, -1.6567678718728382, -1.3020504259299415, 1.1438735246629153, 0.6084456630495041, 0.4266279077187081, 0.8680359185399901, 0.8075987924364346, 0.3681502183985649, -0.1180412052735829, 1.4356462801667715, -0.45425706018736056, -1.5954564021703606, 0.21561546927263744, 0.8860055832666353, 0.19574625415171115, -0.17862959435754738], \"xaxis\": \"x8\", \"y\": [-0.4416109016685977, 1.5651155798664615, -0.486386343433522, -2.199567556381776, -0.9142935082338941, 0.06812640059682612, 0.4776202682694769, 1.0546625009640556, -0.6880548877398517, 1.8209757828156723, 1.5571718328009587, 1.1589728923099107, 1.163334643980302, -0.9964320957995271, 0.5229700623178248, -0.5422628084138779, -0.267673267490769, -2.542024338097646, 0.1892572429133559, 0.9531814741576196, 0.7493063574421213, 0.5023472703547277, -0.6404279709338484, -0.09415765433918766, -0.8473289830681051, 2.4475018491497593, -1.2457317162324226, -1.3811748213213695, 0.20239230418083937, 1.1660197139884207, 0.4389106508835806, -1.5696964379987275, -2.1470786229066596, -1.2716195718711647, -0.32431857246238116, -0.48671087904318966, 0.807176097279996, -0.4545226307330017, 0.9692805152724048, -0.5399406974702767, -0.9112616777512544, -0.714636963502582, 0.4401518992961405, 1.2112389619411343, -0.36511562219575633, -0.823735935608685, 0.6940529112251567, 1.2488733228033813, -0.8614307813991519, 2.347537155331469, -1.1135489104449754, -0.4266769291945704, -0.34983112284132795, -1.0800241937145774, -0.7310272741866767, 0.6143328644742845, -0.24735519775421033, 0.5218972511065154, 0.18495767661158455, 0.03356610062777415, -0.9264261222493289, -1.1715593013084677, 1.3667087323756861, -0.07870407832879851, 0.050980863247599886, -1.4353282576073432, -1.1057379385577595, -1.240759569480158, -1.435045518952723, 0.2866146102228182, -0.4321199550320402, 0.20803661832940504, -1.637427291219393, 1.195797731567711, 0.36417372075511256, 0.06277847213280971, -0.35012964109245687, 2.45863772791582, -0.21262565217949736, 0.08746166141915754, 0.11560547765517383, -1.75608505564241, 0.29493286266375646, -0.8759852777508496, 0.6355229301680484, -0.019587564842157068, -0.4184902249812962, 0.279985822989887, 1.0476231961393485, -1.4800776423230955, 0.8336250259779167, 1.1108395642941793, -3.550161594830222, -0.3630151021155685, -0.4319034238532681, 1.2014795760785844, -0.7163833677385238, -0.9322561095076094, 0.978279984551639, 0.3454873088830252], \"yaxis\": \"y8\"}, {\"line\": {\"color\": \"rgba(128, 128, 128, 1.0)\", \"dash\": \"solid\", \"shape\": \"linear\", \"width\": 1.3}, \"marker\": {\"size\": 2, \"symbol\": \"circle\"}, \"mode\": \"markers\", \"name\": \"C\", \"text\": \"\", \"type\": \"scatter\", \"x\": [-0.6915796259609344, -0.8872849879301269, 0.7351331691915325, 0.0187482624021014, -1.3817892822184494, 1.6276935039887588, 0.48741645957410107, 0.7184343185820924, -1.9281264806682483, -0.8999233502422062, -1.7799183101839324, 0.9008821566604649, 0.20301832261981306, 1.8060196231091028, -0.2913743722283807, -1.0028680571625874, -0.7799725268069628, -1.0115947811354846, 1.6690294312418568, -1.0396907179959067, 0.06871544329476185, -0.8842237666730386, 1.224973208704979, 0.4631385238986198, 0.740878154820934, -0.5813038422552343, -0.9383979476151751, 2.2143189803556362, -0.423551427103088, -0.42048634304971966, 0.4524961287844688, -0.2849268456346176, 0.20084633802688698, -1.179587520197634, -1.2171104780344941, 1.31260455425112, 0.07424119953542815, 1.3428441779852547, -2.860036001452457, -0.2980548945617647, 1.7031874742888558, 0.4039403360775828, -0.4530643885339186, 0.5166202508143846, 2.5061604436079388, -0.22651256670052275, -0.4113509392005815, 0.3844710304962001, 0.7768993023151984, 0.3919698813535365, -1.2483424611011424, 0.5757471088717269, -0.9586586441077025, 0.07349496376369483, 0.4105909975316248, 0.38694569353694597, -0.06808552922896927, -0.30962695184908284, -0.10858045854730711, 1.144943808386343, -1.1158660861520617, -0.8072714792006194, -0.8200009118915258, 0.2406666220789867, -0.427222957956366, 1.772402559856502, -0.15284717195228584, 0.15338364795477655, -0.7943165728504842, -1.4053685632042303, 0.8582648769101241, -0.7422149276534388, -0.983609520312817, 1.008138822924062, -2.812568541347789, -0.7667967963565699, 1.4951803796842733, -0.17619436709084627, 0.39350770109275585, 0.8172413146696621, 0.5130245863583023, -0.6357411104723741, 0.1321533298737306, 1.2371806367240268, 0.36351975843928164, -0.22604926645818205, -0.6664127081099145, 1.3696975147006802, 0.5798010860119244, -0.592057266420742, -0.4007257037255129, 0.0604157024958049, 0.19956225440633601, -0.2386209677915759, -0.45382262875168244, -0.029871779297502257, -0.2860381306203588, 0.4140082157874592, 0.5257824581842769, -0.369657676375118], \"xaxis\": \"x9\", \"y\": [0.4522545879584659, -0.3098883532541913, -0.8685915805795065, 1.2496515690698484, -1.7513335542533628, -2.0362585016739296, -1.3040385922257955, -0.5093871032378738, -0.913353838111688, 0.8971050990564488, -1.485156501773989, -2.0316025172206866, -2.218068863798064, -0.2472925822811598, -0.8902405104136178, -0.11429329601199983, 0.6742287539695303, -0.36252696301872683, 1.5304273493611418, 0.6444135294669895, 0.09974417339352815, 0.19658634501512137, 1.287392439384835, -1.0480474195184937, 1.0909907861818477, -1.2317793804201551, -0.12566975721461193, 1.2909130254442163, 0.6599109766293723, -2.0140894429621694, -0.15294953091052038, -0.021635097566481014, 0.8796304546424791, -0.6792603957867522, 0.2945752209531674, 1.1297471141016806, -0.11676254871991425, 2.347583941514725, -1.5781924447410682, 0.27579871510013204, -1.2933996036086985, -1.912483689589599, -1.0504313141077672, -0.20830844283929625, 0.18513803501323942, -0.996047459104622, 0.08905933592094152, -0.1405226541897708, 0.9943259225215723, 0.8115351024740861, 0.35082757968197054, 0.34746321091398474, 0.8339728671159397, -0.13572412190405891, 1.215372964946147, 0.6899434067824541, 0.251646583188885, 0.5118398641384256, 0.28326596553543903, 2.545421016579426, 0.5075132599579651, 0.5087398917009316, 1.1670523429606985, 0.2027812050913676, -1.074098935456282, 0.4655297640930342, -1.2135089455240367, -0.16525202676395842, -0.07768556384782098, -0.20235544552513945, -0.08800485992119174, -0.736560482304127, 0.5474920051755428, 0.462190481078619, -1.8287944197919235, -2.136122074828795, 0.31467548751679214, 1.569565126547533, -0.16294217349948453, 0.5809867335685517, 0.056210066261843286, -0.5788194006182091, -1.4668693903168615, 0.7265379204783153, 0.6870289394605951, 0.3937539131814704, -0.9803956898112073, -0.8146279825557912, 0.37984854878028845, 0.5410058249236476, 1.7521938557230308, -1.0563009039764553, -1.9952453346270143, -1.8123894331771992, 0.37598564650114286, 1.8090871596555738, -0.08155816086073539, -0.6581872710293829, 1.2217916891499028, -0.45890083340443405], \"yaxis\": \"y9\"}, {\"line\": {\"color\": \"rgba(128, 128, 128, 1.0)\", \"dash\": \"solid\", \"shape\": \"linear\", \"width\": 1.3}, \"marker\": {\"size\": 2, \"symbol\": \"circle\"}, \"mode\": \"markers\", \"name\": \"C\", \"text\": \"\", \"type\": \"scatter\", \"x\": [-0.4416109016685977, 1.5651155798664615, -0.486386343433522, -2.199567556381776, -0.9142935082338941, 0.06812640059682612, 0.4776202682694769, 1.0546625009640556, -0.6880548877398517, 1.8209757828156723, 1.5571718328009587, 1.1589728923099107, 1.163334643980302, -0.9964320957995271, 0.5229700623178248, -0.5422628084138779, -0.267673267490769, -2.542024338097646, 0.1892572429133559, 0.9531814741576196, 0.7493063574421213, 0.5023472703547277, -0.6404279709338484, -0.09415765433918766, -0.8473289830681051, 2.4475018491497593, -1.2457317162324226, -1.3811748213213695, 0.20239230418083937, 1.1660197139884207, 0.4389106508835806, -1.5696964379987275, -2.1470786229066596, -1.2716195718711647, -0.32431857246238116, -0.48671087904318966, 0.807176097279996, -0.4545226307330017, 0.9692805152724048, -0.5399406974702767, -0.9112616777512544, -0.714636963502582, 0.4401518992961405, 1.2112389619411343, -0.36511562219575633, -0.823735935608685, 0.6940529112251567, 1.2488733228033813, -0.8614307813991519, 2.347537155331469, -1.1135489104449754, -0.4266769291945704, -0.34983112284132795, -1.0800241937145774, -0.7310272741866767, 0.6143328644742845, -0.24735519775421033, 0.5218972511065154, 0.18495767661158455, 0.03356610062777415, -0.9264261222493289, -1.1715593013084677, 1.3667087323756861, -0.07870407832879851, 0.050980863247599886, -1.4353282576073432, -1.1057379385577595, -1.240759569480158, -1.435045518952723, 0.2866146102228182, -0.4321199550320402, 0.20803661832940504, -1.637427291219393, 1.195797731567711, 0.36417372075511256, 0.06277847213280971, -0.35012964109245687, 2.45863772791582, -0.21262565217949736, 0.08746166141915754, 0.11560547765517383, -1.75608505564241, 0.29493286266375646, -0.8759852777508496, 0.6355229301680484, -0.019587564842157068, -0.4184902249812962, 0.279985822989887, 1.0476231961393485, -1.4800776423230955, 0.8336250259779167, 1.1108395642941793, -3.550161594830222, -0.3630151021155685, -0.4319034238532681, 1.2014795760785844, -0.7163833677385238, -0.9322561095076094, 0.978279984551639, 0.3454873088830252], \"xaxis\": \"x10\", \"y\": [0.4522545879584659, -0.3098883532541913, -0.8685915805795065, 1.2496515690698484, -1.7513335542533628, -2.0362585016739296, -1.3040385922257955, -0.5093871032378738, -0.913353838111688, 0.8971050990564488, -1.485156501773989, -2.0316025172206866, -2.218068863798064, -0.2472925822811598, -0.8902405104136178, -0.11429329601199983, 0.6742287539695303, -0.36252696301872683, 1.5304273493611418, 0.6444135294669895, 0.09974417339352815, 0.19658634501512137, 1.287392439384835, -1.0480474195184937, 1.0909907861818477, -1.2317793804201551, -0.12566975721461193, 1.2909130254442163, 0.6599109766293723, -2.0140894429621694, -0.15294953091052038, -0.021635097566481014, 0.8796304546424791, -0.6792603957867522, 0.2945752209531674, 1.1297471141016806, -0.11676254871991425, 2.347583941514725, -1.5781924447410682, 0.27579871510013204, -1.2933996036086985, -1.912483689589599, -1.0504313141077672, -0.20830844283929625, 0.18513803501323942, -0.996047459104622, 0.08905933592094152, -0.1405226541897708, 0.9943259225215723, 0.8115351024740861, 0.35082757968197054, 0.34746321091398474, 0.8339728671159397, -0.13572412190405891, 1.215372964946147, 0.6899434067824541, 0.251646583188885, 0.5118398641384256, 0.28326596553543903, 2.545421016579426, 0.5075132599579651, 0.5087398917009316, 1.1670523429606985, 0.2027812050913676, -1.074098935456282, 0.4655297640930342, -1.2135089455240367, -0.16525202676395842, -0.07768556384782098, -0.20235544552513945, -0.08800485992119174, -0.736560482304127, 0.5474920051755428, 0.462190481078619, -1.8287944197919235, -2.136122074828795, 0.31467548751679214, 1.569565126547533, -0.16294217349948453, 0.5809867335685517, 0.056210066261843286, -0.5788194006182091, -1.4668693903168615, 0.7265379204783153, 0.6870289394605951, 0.3937539131814704, -0.9803956898112073, -0.8146279825557912, 0.37984854878028845, 0.5410058249236476, 1.7521938557230308, -1.0563009039764553, -1.9952453346270143, -1.8123894331771992, 0.37598564650114286, 1.8090871596555738, -0.08155816086073539, -0.6581872710293829, 1.2217916891499028, -0.45890083340443405], \"yaxis\": \"y10\"}, {\"histfunc\": \"count\", \"histnorm\": \"\", \"marker\": {\"color\": \"rgba(50, 171, 96, 1.0)\", \"line\": {\"color\": \"#4D5663\", \"width\": 1.3}}, \"name\": \"C\", \"nbinsx\": 10, \"opacity\": 0.8, \"orientation\": \"v\", \"type\": \"histogram\", \"x\": [0.4522545879584659, -0.3098883532541913, -0.8685915805795065, 1.2496515690698484, -1.7513335542533628, -2.0362585016739296, -1.3040385922257955, -0.5093871032378738, -0.913353838111688, 0.8971050990564488, -1.485156501773989, -2.0316025172206866, -2.218068863798064, -0.2472925822811598, -0.8902405104136178, -0.11429329601199983, 0.6742287539695303, -0.36252696301872683, 1.5304273493611418, 0.6444135294669895, 0.09974417339352815, 0.19658634501512137, 1.287392439384835, -1.0480474195184937, 1.0909907861818477, -1.2317793804201551, -0.12566975721461193, 1.2909130254442163, 0.6599109766293723, -2.0140894429621694, -0.15294953091052038, -0.021635097566481014, 0.8796304546424791, -0.6792603957867522, 0.2945752209531674, 1.1297471141016806, -0.11676254871991425, 2.347583941514725, -1.5781924447410682, 0.27579871510013204, -1.2933996036086985, -1.912483689589599, -1.0504313141077672, -0.20830844283929625, 0.18513803501323942, -0.996047459104622, 0.08905933592094152, -0.1405226541897708, 0.9943259225215723, 0.8115351024740861, 0.35082757968197054, 0.34746321091398474, 0.8339728671159397, -0.13572412190405891, 1.215372964946147, 0.6899434067824541, 0.251646583188885, 0.5118398641384256, 0.28326596553543903, 2.545421016579426, 0.5075132599579651, 0.5087398917009316, 1.1670523429606985, 0.2027812050913676, -1.074098935456282, 0.4655297640930342, -1.2135089455240367, -0.16525202676395842, -0.07768556384782098, -0.20235544552513945, -0.08800485992119174, -0.736560482304127, 0.5474920051755428, 0.462190481078619, -1.8287944197919235, -2.136122074828795, 0.31467548751679214, 1.569565126547533, -0.16294217349948453, 0.5809867335685517, 0.056210066261843286, -0.5788194006182091, -1.4668693903168615, 0.7265379204783153, 0.6870289394605951, 0.3937539131814704, -0.9803956898112073, -0.8146279825557912, 0.37984854878028845, 0.5410058249236476, 1.7521938557230308, -1.0563009039764553, -1.9952453346270143, -1.8123894331771992, 0.37598564650114286, 1.8090871596555738, -0.08155816086073539, -0.6581872710293829, 1.2217916891499028, -0.45890083340443405], \"xaxis\": \"x11\", \"yaxis\": \"y11\"}, {\"line\": {\"color\": \"rgba(128, 128, 128, 1.0)\", \"dash\": \"solid\", \"shape\": \"linear\", \"width\": 1.3}, \"marker\": {\"size\": 2, \"symbol\": \"circle\"}, \"mode\": \"markers\", \"name\": \"C\", \"text\": \"\", \"type\": \"scatter\", \"x\": [-1.0306605709096543, -0.1752621732294562, -1.3928220006840555, -0.4001829936276594, 0.8024891201013005, 1.048463155119017, 0.6775298289407882, -1.783840862574793, -0.5490506553033939, -2.756564892179787, 0.4947119292473199, -1.3374450687095152, -1.2918993015358484, -0.6533893666818588, 0.7805657099556595, 0.26681780728876525, -1.7798873417359986, 0.6723886339722739, 0.8177184687575915, -1.9215280829952912, 0.3321842699996094, 1.3301377990939902, -0.5457930337240582, -1.3837534482925964, 0.8645492110167224, -1.0054946576727923, 0.2818559611625251, 0.0035772240944569353, 1.2229729665859856, -1.192623136181325, -0.5985598740067203, 0.5220081460583174, 0.7172735500222303, -2.9155070054398267, 0.2145744600583689, 0.4338744489865867, -1.4233566395261539, -1.7415104733859441, -0.5234253418551685, -2.399537842193371, 0.14386601618288897, -0.00401638591076631, -0.6354545083109396, -1.8517092368774808, -0.44969971698053335, -0.1574671947169798, -1.4292170644825395, -1.2139998545048707, -1.1173414632202152, 1.438716717538454, -1.2552216131544838, -0.7447038580280433, -0.399436232497645, 0.9507205946727983, -0.08470741143090028, 0.18803028316262008, -0.2582382390610199, 1.0059991413484877, -1.8900520208225555, -0.16156819110984721, 0.8814104867337247, -0.21258656399161507, 1.4110848550461996, 0.9817766994274616, -0.24708653757544896, -0.4037757668502509, -0.3257817752332432, 0.3840584491590996, -0.6666543463508315, -1.3511182297814253, -1.372946329912293, -0.4931193577594537, 0.9473803349008856, 0.5438693985374551, 1.6913999794747723, -0.9956203708574634, -0.4098564636956649, 0.39531073326868843, -0.24968403067732653, -0.14551797080403323, 0.3982815575902771, -1.1718833576081524, -1.0814038546124822, -0.8345188061678622, -1.6567678718728382, -1.3020504259299415, 1.1438735246629153, 0.6084456630495041, 0.4266279077187081, 0.8680359185399901, 0.8075987924364346, 0.3681502183985649, -0.1180412052735829, 1.4356462801667715, -0.45425706018736056, -1.5954564021703606, 0.21561546927263744, 0.8860055832666353, 0.19574625415171115, -0.17862959435754738], \"xaxis\": \"x12\", \"y\": [0.4522545879584659, -0.3098883532541913, -0.8685915805795065, 1.2496515690698484, -1.7513335542533628, -2.0362585016739296, -1.3040385922257955, -0.5093871032378738, -0.913353838111688, 0.8971050990564488, -1.485156501773989, -2.0316025172206866, -2.218068863798064, -0.2472925822811598, -0.8902405104136178, -0.11429329601199983, 0.6742287539695303, -0.36252696301872683, 1.5304273493611418, 0.6444135294669895, 0.09974417339352815, 0.19658634501512137, 1.287392439384835, -1.0480474195184937, 1.0909907861818477, -1.2317793804201551, -0.12566975721461193, 1.2909130254442163, 0.6599109766293723, -2.0140894429621694, -0.15294953091052038, -0.021635097566481014, 0.8796304546424791, -0.6792603957867522, 0.2945752209531674, 1.1297471141016806, -0.11676254871991425, 2.347583941514725, -1.5781924447410682, 0.27579871510013204, -1.2933996036086985, -1.912483689589599, -1.0504313141077672, -0.20830844283929625, 0.18513803501323942, -0.996047459104622, 0.08905933592094152, -0.1405226541897708, 0.9943259225215723, 0.8115351024740861, 0.35082757968197054, 0.34746321091398474, 0.8339728671159397, -0.13572412190405891, 1.215372964946147, 0.6899434067824541, 0.251646583188885, 0.5118398641384256, 0.28326596553543903, 2.545421016579426, 0.5075132599579651, 0.5087398917009316, 1.1670523429606985, 0.2027812050913676, -1.074098935456282, 0.4655297640930342, -1.2135089455240367, -0.16525202676395842, -0.07768556384782098, -0.20235544552513945, -0.08800485992119174, -0.736560482304127, 0.5474920051755428, 0.462190481078619, -1.8287944197919235, -2.136122074828795, 0.31467548751679214, 1.569565126547533, -0.16294217349948453, 0.5809867335685517, 0.056210066261843286, -0.5788194006182091, -1.4668693903168615, 0.7265379204783153, 0.6870289394605951, 0.3937539131814704, -0.9803956898112073, -0.8146279825557912, 0.37984854878028845, 0.5410058249236476, 1.7521938557230308, -1.0563009039764553, -1.9952453346270143, -1.8123894331771992, 0.37598564650114286, 1.8090871596555738, -0.08155816086073539, -0.6581872710293829, 1.2217916891499028, -0.45890083340443405], \"yaxis\": \"y12\"}, {\"line\": {\"color\": \"rgba(128, 128, 128, 1.0)\", \"dash\": \"solid\", \"shape\": \"linear\", \"width\": 1.3}, \"marker\": {\"size\": 2, \"symbol\": \"circle\"}, \"mode\": \"markers\", \"name\": \"D\", \"text\": \"\", \"type\": \"scatter\", \"x\": [-0.6915796259609344, -0.8872849879301269, 0.7351331691915325, 0.0187482624021014, -1.3817892822184494, 1.6276935039887588, 0.48741645957410107, 0.7184343185820924, -1.9281264806682483, -0.8999233502422062, -1.7799183101839324, 0.9008821566604649, 0.20301832261981306, 1.8060196231091028, -0.2913743722283807, -1.0028680571625874, -0.7799725268069628, -1.0115947811354846, 1.6690294312418568, -1.0396907179959067, 0.06871544329476185, -0.8842237666730386, 1.224973208704979, 0.4631385238986198, 0.740878154820934, -0.5813038422552343, -0.9383979476151751, 2.2143189803556362, -0.423551427103088, -0.42048634304971966, 0.4524961287844688, -0.2849268456346176, 0.20084633802688698, -1.179587520197634, -1.2171104780344941, 1.31260455425112, 0.07424119953542815, 1.3428441779852547, -2.860036001452457, -0.2980548945617647, 1.7031874742888558, 0.4039403360775828, -0.4530643885339186, 0.5166202508143846, 2.5061604436079388, -0.22651256670052275, -0.4113509392005815, 0.3844710304962001, 0.7768993023151984, 0.3919698813535365, -1.2483424611011424, 0.5757471088717269, -0.9586586441077025, 0.07349496376369483, 0.4105909975316248, 0.38694569353694597, -0.06808552922896927, -0.30962695184908284, -0.10858045854730711, 1.144943808386343, -1.1158660861520617, -0.8072714792006194, -0.8200009118915258, 0.2406666220789867, -0.427222957956366, 1.772402559856502, -0.15284717195228584, 0.15338364795477655, -0.7943165728504842, -1.4053685632042303, 0.8582648769101241, -0.7422149276534388, -0.983609520312817, 1.008138822924062, -2.812568541347789, -0.7667967963565699, 1.4951803796842733, -0.17619436709084627, 0.39350770109275585, 0.8172413146696621, 0.5130245863583023, -0.6357411104723741, 0.1321533298737306, 1.2371806367240268, 0.36351975843928164, -0.22604926645818205, -0.6664127081099145, 1.3696975147006802, 0.5798010860119244, -0.592057266420742, -0.4007257037255129, 0.0604157024958049, 0.19956225440633601, -0.2386209677915759, -0.45382262875168244, -0.029871779297502257, -0.2860381306203588, 0.4140082157874592, 0.5257824581842769, -0.369657676375118], \"xaxis\": \"x13\", \"y\": [-1.0306605709096543, -0.1752621732294562, -1.3928220006840555, -0.4001829936276594, 0.8024891201013005, 1.048463155119017, 0.6775298289407882, -1.783840862574793, -0.5490506553033939, -2.756564892179787, 0.4947119292473199, -1.3374450687095152, -1.2918993015358484, -0.6533893666818588, 0.7805657099556595, 0.26681780728876525, -1.7798873417359986, 0.6723886339722739, 0.8177184687575915, -1.9215280829952912, 0.3321842699996094, 1.3301377990939902, -0.5457930337240582, -1.3837534482925964, 0.8645492110167224, -1.0054946576727923, 0.2818559611625251, 0.0035772240944569353, 1.2229729665859856, -1.192623136181325, -0.5985598740067203, 0.5220081460583174, 0.7172735500222303, -2.9155070054398267, 0.2145744600583689, 0.4338744489865867, -1.4233566395261539, -1.7415104733859441, -0.5234253418551685, -2.399537842193371, 0.14386601618288897, -0.00401638591076631, -0.6354545083109396, -1.8517092368774808, -0.44969971698053335, -0.1574671947169798, -1.4292170644825395, -1.2139998545048707, -1.1173414632202152, 1.438716717538454, -1.2552216131544838, -0.7447038580280433, -0.399436232497645, 0.9507205946727983, -0.08470741143090028, 0.18803028316262008, -0.2582382390610199, 1.0059991413484877, -1.8900520208225555, -0.16156819110984721, 0.8814104867337247, -0.21258656399161507, 1.4110848550461996, 0.9817766994274616, -0.24708653757544896, -0.4037757668502509, -0.3257817752332432, 0.3840584491590996, -0.6666543463508315, -1.3511182297814253, -1.372946329912293, -0.4931193577594537, 0.9473803349008856, 0.5438693985374551, 1.6913999794747723, -0.9956203708574634, -0.4098564636956649, 0.39531073326868843, -0.24968403067732653, -0.14551797080403323, 0.3982815575902771, -1.1718833576081524, -1.0814038546124822, -0.8345188061678622, -1.6567678718728382, -1.3020504259299415, 1.1438735246629153, 0.6084456630495041, 0.4266279077187081, 0.8680359185399901, 0.8075987924364346, 0.3681502183985649, -0.1180412052735829, 1.4356462801667715, -0.45425706018736056, -1.5954564021703606, 0.21561546927263744, 0.8860055832666353, 0.19574625415171115, -0.17862959435754738], \"yaxis\": \"y13\"}, {\"line\": {\"color\": \"rgba(128, 128, 128, 1.0)\", \"dash\": \"solid\", \"shape\": \"linear\", \"width\": 1.3}, \"marker\": {\"size\": 2, \"symbol\": \"circle\"}, \"mode\": \"markers\", \"name\": \"D\", \"text\": \"\", \"type\": \"scatter\", \"x\": [-0.4416109016685977, 1.5651155798664615, -0.486386343433522, -2.199567556381776, -0.9142935082338941, 0.06812640059682612, 0.4776202682694769, 1.0546625009640556, -0.6880548877398517, 1.8209757828156723, 1.5571718328009587, 1.1589728923099107, 1.163334643980302, -0.9964320957995271, 0.5229700623178248, -0.5422628084138779, -0.267673267490769, -2.542024338097646, 0.1892572429133559, 0.9531814741576196, 0.7493063574421213, 0.5023472703547277, -0.6404279709338484, -0.09415765433918766, -0.8473289830681051, 2.4475018491497593, -1.2457317162324226, -1.3811748213213695, 0.20239230418083937, 1.1660197139884207, 0.4389106508835806, -1.5696964379987275, -2.1470786229066596, -1.2716195718711647, -0.32431857246238116, -0.48671087904318966, 0.807176097279996, -0.4545226307330017, 0.9692805152724048, -0.5399406974702767, -0.9112616777512544, -0.714636963502582, 0.4401518992961405, 1.2112389619411343, -0.36511562219575633, -0.823735935608685, 0.6940529112251567, 1.2488733228033813, -0.8614307813991519, 2.347537155331469, -1.1135489104449754, -0.4266769291945704, -0.34983112284132795, -1.0800241937145774, -0.7310272741866767, 0.6143328644742845, -0.24735519775421033, 0.5218972511065154, 0.18495767661158455, 0.03356610062777415, -0.9264261222493289, -1.1715593013084677, 1.3667087323756861, -0.07870407832879851, 0.050980863247599886, -1.4353282576073432, -1.1057379385577595, -1.240759569480158, -1.435045518952723, 0.2866146102228182, -0.4321199550320402, 0.20803661832940504, -1.637427291219393, 1.195797731567711, 0.36417372075511256, 0.06277847213280971, -0.35012964109245687, 2.45863772791582, -0.21262565217949736, 0.08746166141915754, 0.11560547765517383, -1.75608505564241, 0.29493286266375646, -0.8759852777508496, 0.6355229301680484, -0.019587564842157068, -0.4184902249812962, 0.279985822989887, 1.0476231961393485, -1.4800776423230955, 0.8336250259779167, 1.1108395642941793, -3.550161594830222, -0.3630151021155685, -0.4319034238532681, 1.2014795760785844, -0.7163833677385238, -0.9322561095076094, 0.978279984551639, 0.3454873088830252], \"xaxis\": \"x14\", \"y\": [-1.0306605709096543, -0.1752621732294562, -1.3928220006840555, -0.4001829936276594, 0.8024891201013005, 1.048463155119017, 0.6775298289407882, -1.783840862574793, -0.5490506553033939, -2.756564892179787, 0.4947119292473199, -1.3374450687095152, -1.2918993015358484, -0.6533893666818588, 0.7805657099556595, 0.26681780728876525, -1.7798873417359986, 0.6723886339722739, 0.8177184687575915, -1.9215280829952912, 0.3321842699996094, 1.3301377990939902, -0.5457930337240582, -1.3837534482925964, 0.8645492110167224, -1.0054946576727923, 0.2818559611625251, 0.0035772240944569353, 1.2229729665859856, -1.192623136181325, -0.5985598740067203, 0.5220081460583174, 0.7172735500222303, -2.9155070054398267, 0.2145744600583689, 0.4338744489865867, -1.4233566395261539, -1.7415104733859441, -0.5234253418551685, -2.399537842193371, 0.14386601618288897, -0.00401638591076631, -0.6354545083109396, -1.8517092368774808, -0.44969971698053335, -0.1574671947169798, -1.4292170644825395, -1.2139998545048707, -1.1173414632202152, 1.438716717538454, -1.2552216131544838, -0.7447038580280433, -0.399436232497645, 0.9507205946727983, -0.08470741143090028, 0.18803028316262008, -0.2582382390610199, 1.0059991413484877, -1.8900520208225555, -0.16156819110984721, 0.8814104867337247, -0.21258656399161507, 1.4110848550461996, 0.9817766994274616, -0.24708653757544896, -0.4037757668502509, -0.3257817752332432, 0.3840584491590996, -0.6666543463508315, -1.3511182297814253, -1.372946329912293, -0.4931193577594537, 0.9473803349008856, 0.5438693985374551, 1.6913999794747723, -0.9956203708574634, -0.4098564636956649, 0.39531073326868843, -0.24968403067732653, -0.14551797080403323, 0.3982815575902771, -1.1718833576081524, -1.0814038546124822, -0.8345188061678622, -1.6567678718728382, -1.3020504259299415, 1.1438735246629153, 0.6084456630495041, 0.4266279077187081, 0.8680359185399901, 0.8075987924364346, 0.3681502183985649, -0.1180412052735829, 1.4356462801667715, -0.45425706018736056, -1.5954564021703606, 0.21561546927263744, 0.8860055832666353, 0.19574625415171115, -0.17862959435754738], \"yaxis\": \"y14\"}, {\"line\": {\"color\": \"rgba(128, 128, 128, 1.0)\", \"dash\": \"solid\", \"shape\": \"linear\", \"width\": 1.3}, \"marker\": {\"size\": 2, \"symbol\": \"circle\"}, \"mode\": \"markers\", \"name\": \"D\", \"text\": \"\", \"type\": \"scatter\", \"x\": [0.4522545879584659, -0.3098883532541913, -0.8685915805795065, 1.2496515690698484, -1.7513335542533628, -2.0362585016739296, -1.3040385922257955, -0.5093871032378738, -0.913353838111688, 0.8971050990564488, -1.485156501773989, -2.0316025172206866, -2.218068863798064, -0.2472925822811598, -0.8902405104136178, -0.11429329601199983, 0.6742287539695303, -0.36252696301872683, 1.5304273493611418, 0.6444135294669895, 0.09974417339352815, 0.19658634501512137, 1.287392439384835, -1.0480474195184937, 1.0909907861818477, -1.2317793804201551, -0.12566975721461193, 1.2909130254442163, 0.6599109766293723, -2.0140894429621694, -0.15294953091052038, -0.021635097566481014, 0.8796304546424791, -0.6792603957867522, 0.2945752209531674, 1.1297471141016806, -0.11676254871991425, 2.347583941514725, -1.5781924447410682, 0.27579871510013204, -1.2933996036086985, -1.912483689589599, -1.0504313141077672, -0.20830844283929625, 0.18513803501323942, -0.996047459104622, 0.08905933592094152, -0.1405226541897708, 0.9943259225215723, 0.8115351024740861, 0.35082757968197054, 0.34746321091398474, 0.8339728671159397, -0.13572412190405891, 1.215372964946147, 0.6899434067824541, 0.251646583188885, 0.5118398641384256, 0.28326596553543903, 2.545421016579426, 0.5075132599579651, 0.5087398917009316, 1.1670523429606985, 0.2027812050913676, -1.074098935456282, 0.4655297640930342, -1.2135089455240367, -0.16525202676395842, -0.07768556384782098, -0.20235544552513945, -0.08800485992119174, -0.736560482304127, 0.5474920051755428, 0.462190481078619, -1.8287944197919235, -2.136122074828795, 0.31467548751679214, 1.569565126547533, -0.16294217349948453, 0.5809867335685517, 0.056210066261843286, -0.5788194006182091, -1.4668693903168615, 0.7265379204783153, 0.6870289394605951, 0.3937539131814704, -0.9803956898112073, -0.8146279825557912, 0.37984854878028845, 0.5410058249236476, 1.7521938557230308, -1.0563009039764553, -1.9952453346270143, -1.8123894331771992, 0.37598564650114286, 1.8090871596555738, -0.08155816086073539, -0.6581872710293829, 1.2217916891499028, -0.45890083340443405], \"xaxis\": \"x15\", \"y\": [-1.0306605709096543, -0.1752621732294562, -1.3928220006840555, -0.4001829936276594, 0.8024891201013005, 1.048463155119017, 0.6775298289407882, -1.783840862574793, -0.5490506553033939, -2.756564892179787, 0.4947119292473199, -1.3374450687095152, -1.2918993015358484, -0.6533893666818588, 0.7805657099556595, 0.26681780728876525, -1.7798873417359986, 0.6723886339722739, 0.8177184687575915, -1.9215280829952912, 0.3321842699996094, 1.3301377990939902, -0.5457930337240582, -1.3837534482925964, 0.8645492110167224, -1.0054946576727923, 0.2818559611625251, 0.0035772240944569353, 1.2229729665859856, -1.192623136181325, -0.5985598740067203, 0.5220081460583174, 0.7172735500222303, -2.9155070054398267, 0.2145744600583689, 0.4338744489865867, -1.4233566395261539, -1.7415104733859441, -0.5234253418551685, -2.399537842193371, 0.14386601618288897, -0.00401638591076631, -0.6354545083109396, -1.8517092368774808, -0.44969971698053335, -0.1574671947169798, -1.4292170644825395, -1.2139998545048707, -1.1173414632202152, 1.438716717538454, -1.2552216131544838, -0.7447038580280433, -0.399436232497645, 0.9507205946727983, -0.08470741143090028, 0.18803028316262008, -0.2582382390610199, 1.0059991413484877, -1.8900520208225555, -0.16156819110984721, 0.8814104867337247, -0.21258656399161507, 1.4110848550461996, 0.9817766994274616, -0.24708653757544896, -0.4037757668502509, -0.3257817752332432, 0.3840584491590996, -0.6666543463508315, -1.3511182297814253, -1.372946329912293, -0.4931193577594537, 0.9473803349008856, 0.5438693985374551, 1.6913999794747723, -0.9956203708574634, -0.4098564636956649, 0.39531073326868843, -0.24968403067732653, -0.14551797080403323, 0.3982815575902771, -1.1718833576081524, -1.0814038546124822, -0.8345188061678622, -1.6567678718728382, -1.3020504259299415, 1.1438735246629153, 0.6084456630495041, 0.4266279077187081, 0.8680359185399901, 0.8075987924364346, 0.3681502183985649, -0.1180412052735829, 1.4356462801667715, -0.45425706018736056, -1.5954564021703606, 0.21561546927263744, 0.8860055832666353, 0.19574625415171115, -0.17862959435754738], \"yaxis\": \"y15\"}, {\"histfunc\": \"count\", \"histnorm\": \"\", \"marker\": {\"color\": \"rgba(128, 0, 128, 1.0)\", \"line\": {\"color\": \"#4D5663\", \"width\": 1.3}}, \"name\": \"D\", \"nbinsx\": 10, \"opacity\": 0.8, \"orientation\": \"v\", \"type\": \"histogram\", \"x\": [-1.0306605709096543, -0.1752621732294562, -1.3928220006840555, -0.4001829936276594, 0.8024891201013005, 1.048463155119017, 0.6775298289407882, -1.783840862574793, -0.5490506553033939, -2.756564892179787, 0.4947119292473199, -1.3374450687095152, -1.2918993015358484, -0.6533893666818588, 0.7805657099556595, 0.26681780728876525, -1.7798873417359986, 0.6723886339722739, 0.8177184687575915, -1.9215280829952912, 0.3321842699996094, 1.3301377990939902, -0.5457930337240582, -1.3837534482925964, 0.8645492110167224, -1.0054946576727923, 0.2818559611625251, 0.0035772240944569353, 1.2229729665859856, -1.192623136181325, -0.5985598740067203, 0.5220081460583174, 0.7172735500222303, -2.9155070054398267, 0.2145744600583689, 0.4338744489865867, -1.4233566395261539, -1.7415104733859441, -0.5234253418551685, -2.399537842193371, 0.14386601618288897, -0.00401638591076631, -0.6354545083109396, -1.8517092368774808, -0.44969971698053335, -0.1574671947169798, -1.4292170644825395, -1.2139998545048707, -1.1173414632202152, 1.438716717538454, -1.2552216131544838, -0.7447038580280433, -0.399436232497645, 0.9507205946727983, -0.08470741143090028, 0.18803028316262008, -0.2582382390610199, 1.0059991413484877, -1.8900520208225555, -0.16156819110984721, 0.8814104867337247, -0.21258656399161507, 1.4110848550461996, 0.9817766994274616, -0.24708653757544896, -0.4037757668502509, -0.3257817752332432, 0.3840584491590996, -0.6666543463508315, -1.3511182297814253, -1.372946329912293, -0.4931193577594537, 0.9473803349008856, 0.5438693985374551, 1.6913999794747723, -0.9956203708574634, -0.4098564636956649, 0.39531073326868843, -0.24968403067732653, -0.14551797080403323, 0.3982815575902771, -1.1718833576081524, -1.0814038546124822, -0.8345188061678622, -1.6567678718728382, -1.3020504259299415, 1.1438735246629153, 0.6084456630495041, 0.4266279077187081, 0.8680359185399901, 0.8075987924364346, 0.3681502183985649, -0.1180412052735829, 1.4356462801667715, -0.45425706018736056, -1.5954564021703606, 0.21561546927263744, 0.8860055832666353, 0.19574625415171115, -0.17862959435754738], \"xaxis\": \"x16\", \"yaxis\": \"y16\"}],                        {\"bargap\": 0.02, \"legend\": {\"bgcolor\": \"#F5F6F9\", \"font\": {\"color\": \"#4D5663\"}}, \"paper_bgcolor\": \"#F5F6F9\", \"plot_bgcolor\": \"#F5F6F9\", \"showlegend\": false, \"template\": {\"data\": {\"bar\": [{\"error_x\": {\"color\": \"#2a3f5f\"}, \"error_y\": {\"color\": \"#2a3f5f\"}, \"marker\": {\"line\": {\"color\": \"#E5ECF6\", \"width\": 0.5}}, \"type\": \"bar\"}], \"barpolar\": [{\"marker\": {\"line\": {\"color\": \"#E5ECF6\", \"width\": 0.5}}, \"type\": \"barpolar\"}], \"carpet\": [{\"aaxis\": {\"endlinecolor\": \"#2a3f5f\", \"gridcolor\": \"white\", \"linecolor\": \"white\", \"minorgridcolor\": \"white\", \"startlinecolor\": \"#2a3f5f\"}, \"baxis\": {\"endlinecolor\": \"#2a3f5f\", \"gridcolor\": \"white\", \"linecolor\": \"white\", \"minorgridcolor\": \"white\", \"startlinecolor\": \"#2a3f5f\"}, \"type\": \"carpet\"}], \"choropleth\": [{\"colorbar\": {\"outlinewidth\": 0, \"ticks\": \"\"}, \"type\": \"choropleth\"}], \"contour\": [{\"colorbar\": {\"outlinewidth\": 0, \"ticks\": \"\"}, \"colorscale\": [[0.0, \"#0d0887\"], [0.1111111111111111, \"#46039f\"], [0.2222222222222222, \"#7201a8\"], [0.3333333333333333, \"#9c179e\"], [0.4444444444444444, \"#bd3786\"], [0.5555555555555556, \"#d8576b\"], [0.6666666666666666, \"#ed7953\"], [0.7777777777777778, \"#fb9f3a\"], [0.8888888888888888, \"#fdca26\"], [1.0, \"#f0f921\"]], \"type\": \"contour\"}], \"contourcarpet\": [{\"colorbar\": {\"outlinewidth\": 0, \"ticks\": \"\"}, \"type\": \"contourcarpet\"}], \"heatmap\": [{\"colorbar\": {\"outlinewidth\": 0, \"ticks\": \"\"}, \"colorscale\": [[0.0, \"#0d0887\"], [0.1111111111111111, \"#46039f\"], [0.2222222222222222, \"#7201a8\"], [0.3333333333333333, \"#9c179e\"], [0.4444444444444444, \"#bd3786\"], [0.5555555555555556, \"#d8576b\"], [0.6666666666666666, \"#ed7953\"], [0.7777777777777778, \"#fb9f3a\"], [0.8888888888888888, \"#fdca26\"], [1.0, \"#f0f921\"]], \"type\": \"heatmap\"}], \"heatmapgl\": [{\"colorbar\": {\"outlinewidth\": 0, \"ticks\": \"\"}, \"colorscale\": [[0.0, \"#0d0887\"], [0.1111111111111111, \"#46039f\"], [0.2222222222222222, \"#7201a8\"], [0.3333333333333333, \"#9c179e\"], [0.4444444444444444, \"#bd3786\"], [0.5555555555555556, \"#d8576b\"], [0.6666666666666666, \"#ed7953\"], [0.7777777777777778, \"#fb9f3a\"], [0.8888888888888888, \"#fdca26\"], [1.0, \"#f0f921\"]], \"type\": \"heatmapgl\"}], \"histogram\": [{\"marker\": {\"colorbar\": {\"outlinewidth\": 0, \"ticks\": \"\"}}, \"type\": \"histogram\"}], \"histogram2d\": [{\"colorbar\": {\"outlinewidth\": 0, \"ticks\": \"\"}, \"colorscale\": [[0.0, \"#0d0887\"], [0.1111111111111111, \"#46039f\"], [0.2222222222222222, \"#7201a8\"], [0.3333333333333333, \"#9c179e\"], [0.4444444444444444, \"#bd3786\"], [0.5555555555555556, \"#d8576b\"], [0.6666666666666666, \"#ed7953\"], [0.7777777777777778, \"#fb9f3a\"], [0.8888888888888888, \"#fdca26\"], [1.0, \"#f0f921\"]], \"type\": \"histogram2d\"}], \"histogram2dcontour\": [{\"colorbar\": {\"outlinewidth\": 0, \"ticks\": \"\"}, \"colorscale\": [[0.0, \"#0d0887\"], [0.1111111111111111, \"#46039f\"], [0.2222222222222222, \"#7201a8\"], [0.3333333333333333, \"#9c179e\"], [0.4444444444444444, \"#bd3786\"], [0.5555555555555556, \"#d8576b\"], [0.6666666666666666, \"#ed7953\"], [0.7777777777777778, \"#fb9f3a\"], [0.8888888888888888, \"#fdca26\"], [1.0, \"#f0f921\"]], \"type\": \"histogram2dcontour\"}], \"mesh3d\": [{\"colorbar\": {\"outlinewidth\": 0, \"ticks\": \"\"}, \"type\": \"mesh3d\"}], \"parcoords\": [{\"line\": {\"colorbar\": {\"outlinewidth\": 0, \"ticks\": \"\"}}, \"type\": \"parcoords\"}], \"pie\": [{\"automargin\": true, \"type\": \"pie\"}], \"scatter\": [{\"marker\": {\"colorbar\": {\"outlinewidth\": 0, \"ticks\": \"\"}}, \"type\": \"scatter\"}], \"scatter3d\": [{\"line\": {\"colorbar\": {\"outlinewidth\": 0, \"ticks\": \"\"}}, \"marker\": {\"colorbar\": {\"outlinewidth\": 0, \"ticks\": \"\"}}, \"type\": \"scatter3d\"}], \"scattercarpet\": [{\"marker\": {\"colorbar\": {\"outlinewidth\": 0, \"ticks\": \"\"}}, \"type\": \"scattercarpet\"}], \"scattergeo\": [{\"marker\": {\"colorbar\": {\"outlinewidth\": 0, \"ticks\": \"\"}}, \"type\": \"scattergeo\"}], \"scattergl\": [{\"marker\": {\"colorbar\": {\"outlinewidth\": 0, \"ticks\": \"\"}}, \"type\": \"scattergl\"}], \"scattermapbox\": [{\"marker\": {\"colorbar\": {\"outlinewidth\": 0, \"ticks\": \"\"}}, \"type\": \"scattermapbox\"}], \"scatterpolar\": [{\"marker\": {\"colorbar\": {\"outlinewidth\": 0, \"ticks\": \"\"}}, \"type\": \"scatterpolar\"}], \"scatterpolargl\": [{\"marker\": {\"colorbar\": {\"outlinewidth\": 0, \"ticks\": \"\"}}, \"type\": \"scatterpolargl\"}], \"scatterternary\": [{\"marker\": {\"colorbar\": {\"outlinewidth\": 0, \"ticks\": \"\"}}, \"type\": \"scatterternary\"}], \"surface\": [{\"colorbar\": {\"outlinewidth\": 0, \"ticks\": \"\"}, \"colorscale\": [[0.0, \"#0d0887\"], [0.1111111111111111, \"#46039f\"], [0.2222222222222222, \"#7201a8\"], [0.3333333333333333, \"#9c179e\"], [0.4444444444444444, \"#bd3786\"], [0.5555555555555556, \"#d8576b\"], [0.6666666666666666, \"#ed7953\"], [0.7777777777777778, \"#fb9f3a\"], [0.8888888888888888, \"#fdca26\"], [1.0, \"#f0f921\"]], \"type\": \"surface\"}], \"table\": [{\"cells\": {\"fill\": {\"color\": \"#EBF0F8\"}, \"line\": {\"color\": \"white\"}}, \"header\": {\"fill\": {\"color\": \"#C8D4E3\"}, \"line\": {\"color\": \"white\"}}, \"type\": \"table\"}]}, \"layout\": {\"annotationdefaults\": {\"arrowcolor\": \"#2a3f5f\", \"arrowhead\": 0, \"arrowwidth\": 1}, \"autotypenumbers\": \"strict\", \"coloraxis\": {\"colorbar\": {\"outlinewidth\": 0, \"ticks\": \"\"}}, \"colorscale\": {\"diverging\": [[0, \"#8e0152\"], [0.1, \"#c51b7d\"], [0.2, \"#de77ae\"], [0.3, \"#f1b6da\"], [0.4, \"#fde0ef\"], [0.5, \"#f7f7f7\"], [0.6, \"#e6f5d0\"], [0.7, \"#b8e186\"], [0.8, \"#7fbc41\"], [0.9, \"#4d9221\"], [1, \"#276419\"]], \"sequential\": [[0.0, \"#0d0887\"], [0.1111111111111111, \"#46039f\"], [0.2222222222222222, \"#7201a8\"], [0.3333333333333333, \"#9c179e\"], [0.4444444444444444, \"#bd3786\"], [0.5555555555555556, \"#d8576b\"], [0.6666666666666666, \"#ed7953\"], [0.7777777777777778, \"#fb9f3a\"], [0.8888888888888888, \"#fdca26\"], [1.0, \"#f0f921\"]], \"sequentialminus\": [[0.0, \"#0d0887\"], [0.1111111111111111, \"#46039f\"], [0.2222222222222222, \"#7201a8\"], [0.3333333333333333, \"#9c179e\"], [0.4444444444444444, \"#bd3786\"], [0.5555555555555556, \"#d8576b\"], [0.6666666666666666, \"#ed7953\"], [0.7777777777777778, \"#fb9f3a\"], [0.8888888888888888, \"#fdca26\"], [1.0, \"#f0f921\"]]}, \"colorway\": [\"#636efa\", \"#EF553B\", \"#00cc96\", \"#ab63fa\", \"#FFA15A\", \"#19d3f3\", \"#FF6692\", \"#B6E880\", \"#FF97FF\", \"#FECB52\"], \"font\": {\"color\": \"#2a3f5f\"}, \"geo\": {\"bgcolor\": \"white\", \"lakecolor\": \"white\", \"landcolor\": \"#E5ECF6\", \"showlakes\": true, \"showland\": true, \"subunitcolor\": \"white\"}, \"hoverlabel\": {\"align\": \"left\"}, \"hovermode\": \"closest\", \"mapbox\": {\"style\": \"light\"}, \"paper_bgcolor\": \"white\", \"plot_bgcolor\": \"#E5ECF6\", \"polar\": {\"angularaxis\": {\"gridcolor\": \"white\", \"linecolor\": \"white\", \"ticks\": \"\"}, \"bgcolor\": \"#E5ECF6\", \"radialaxis\": {\"gridcolor\": \"white\", \"linecolor\": \"white\", \"ticks\": \"\"}}, \"scene\": {\"xaxis\": {\"backgroundcolor\": \"#E5ECF6\", \"gridcolor\": \"white\", \"gridwidth\": 2, \"linecolor\": \"white\", \"showbackground\": true, \"ticks\": \"\", \"zerolinecolor\": \"white\"}, \"yaxis\": {\"backgroundcolor\": \"#E5ECF6\", \"gridcolor\": \"white\", \"gridwidth\": 2, \"linecolor\": \"white\", \"showbackground\": true, \"ticks\": \"\", \"zerolinecolor\": \"white\"}, \"zaxis\": {\"backgroundcolor\": \"#E5ECF6\", \"gridcolor\": \"white\", \"gridwidth\": 2, \"linecolor\": \"white\", \"showbackground\": true, \"ticks\": \"\", \"zerolinecolor\": \"white\"}}, \"shapedefaults\": {\"line\": {\"color\": \"#2a3f5f\"}}, \"ternary\": {\"aaxis\": {\"gridcolor\": \"white\", \"linecolor\": \"white\", \"ticks\": \"\"}, \"baxis\": {\"gridcolor\": \"white\", \"linecolor\": \"white\", \"ticks\": \"\"}, \"bgcolor\": \"#E5ECF6\", \"caxis\": {\"gridcolor\": \"white\", \"linecolor\": \"white\", \"ticks\": \"\"}}, \"title\": {\"x\": 0.05}, \"xaxis\": {\"automargin\": true, \"gridcolor\": \"white\", \"linecolor\": \"white\", \"ticks\": \"\", \"title\": {\"standoff\": 15}, \"zerolinecolor\": \"white\", \"zerolinewidth\": 2}, \"yaxis\": {\"automargin\": true, \"gridcolor\": \"white\", \"linecolor\": \"white\", \"ticks\": \"\", \"title\": {\"standoff\": 15}, \"zerolinecolor\": \"white\", \"zerolinewidth\": 2}}}, \"title\": {\"font\": {\"color\": \"#4D5663\"}}, \"xaxis\": {\"anchor\": \"y\", \"domain\": [0.0, 0.2125], \"gridcolor\": \"#E1E5ED\", \"showgrid\": false, \"tickfont\": {\"color\": \"#4D5663\"}, \"title\": {\"font\": {\"color\": \"#4D5663\"}, \"text\": \"\"}, \"zerolinecolor\": \"#E1E5ED\"}, \"xaxis10\": {\"anchor\": \"y10\", \"domain\": [0.2625, 0.475], \"gridcolor\": \"#E1E5ED\", \"showgrid\": false, \"tickfont\": {\"color\": \"#4D5663\"}, \"title\": {\"font\": {\"color\": \"#4D5663\"}, \"text\": \"\"}, \"zerolinecolor\": \"#E1E5ED\"}, \"xaxis11\": {\"anchor\": \"y11\", \"domain\": [0.525, 0.7375], \"gridcolor\": \"#E1E5ED\", \"showgrid\": false, \"tickfont\": {\"color\": \"#4D5663\"}, \"title\": {\"font\": {\"color\": \"#4D5663\"}, \"text\": \"\"}, \"zerolinecolor\": \"#E1E5ED\"}, \"xaxis12\": {\"anchor\": \"y12\", \"domain\": [0.7875, 1.0], \"gridcolor\": \"#E1E5ED\", \"showgrid\": false, \"tickfont\": {\"color\": \"#4D5663\"}, \"title\": {\"font\": {\"color\": \"#4D5663\"}, \"text\": \"\"}, \"zerolinecolor\": \"#E1E5ED\"}, \"xaxis13\": {\"anchor\": \"y13\", \"domain\": [0.0, 0.2125], \"gridcolor\": \"#E1E5ED\", \"showgrid\": false, \"tickfont\": {\"color\": \"#4D5663\"}, \"title\": {\"font\": {\"color\": \"#4D5663\"}, \"text\": \"\"}, \"zerolinecolor\": \"#E1E5ED\"}, \"xaxis14\": {\"anchor\": \"y14\", \"domain\": [0.2625, 0.475], \"gridcolor\": \"#E1E5ED\", \"showgrid\": false, \"tickfont\": {\"color\": \"#4D5663\"}, \"title\": {\"font\": {\"color\": \"#4D5663\"}, \"text\": \"\"}, \"zerolinecolor\": \"#E1E5ED\"}, \"xaxis15\": {\"anchor\": \"y15\", \"domain\": [0.525, 0.7375], \"gridcolor\": \"#E1E5ED\", \"showgrid\": false, \"tickfont\": {\"color\": \"#4D5663\"}, \"title\": {\"font\": {\"color\": \"#4D5663\"}, \"text\": \"\"}, \"zerolinecolor\": \"#E1E5ED\"}, \"xaxis16\": {\"anchor\": \"y16\", \"domain\": [0.7875, 1.0], \"gridcolor\": \"#E1E5ED\", \"showgrid\": false, \"tickfont\": {\"color\": \"#4D5663\"}, \"title\": {\"font\": {\"color\": \"#4D5663\"}, \"text\": \"\"}, \"zerolinecolor\": \"#E1E5ED\"}, \"xaxis2\": {\"anchor\": \"y2\", \"domain\": [0.2625, 0.475], \"gridcolor\": \"#E1E5ED\", \"showgrid\": false, \"tickfont\": {\"color\": \"#4D5663\"}, \"title\": {\"font\": {\"color\": \"#4D5663\"}, \"text\": \"\"}, \"zerolinecolor\": \"#E1E5ED\"}, \"xaxis3\": {\"anchor\": \"y3\", \"domain\": [0.525, 0.7375], \"gridcolor\": \"#E1E5ED\", \"showgrid\": false, \"tickfont\": {\"color\": \"#4D5663\"}, \"title\": {\"font\": {\"color\": \"#4D5663\"}, \"text\": \"\"}, \"zerolinecolor\": \"#E1E5ED\"}, \"xaxis4\": {\"anchor\": \"y4\", \"domain\": [0.7875, 1.0], \"gridcolor\": \"#E1E5ED\", \"showgrid\": false, \"tickfont\": {\"color\": \"#4D5663\"}, \"title\": {\"font\": {\"color\": \"#4D5663\"}, \"text\": \"\"}, \"zerolinecolor\": \"#E1E5ED\"}, \"xaxis5\": {\"anchor\": \"y5\", \"domain\": [0.0, 0.2125], \"gridcolor\": \"#E1E5ED\", \"showgrid\": false, \"tickfont\": {\"color\": \"#4D5663\"}, \"title\": {\"font\": {\"color\": \"#4D5663\"}, \"text\": \"\"}, \"zerolinecolor\": \"#E1E5ED\"}, \"xaxis6\": {\"anchor\": \"y6\", \"domain\": [0.2625, 0.475], \"gridcolor\": \"#E1E5ED\", \"showgrid\": false, \"tickfont\": {\"color\": \"#4D5663\"}, \"title\": {\"font\": {\"color\": \"#4D5663\"}, \"text\": \"\"}, \"zerolinecolor\": \"#E1E5ED\"}, \"xaxis7\": {\"anchor\": \"y7\", \"domain\": [0.525, 0.7375], \"gridcolor\": \"#E1E5ED\", \"showgrid\": false, \"tickfont\": {\"color\": \"#4D5663\"}, \"title\": {\"font\": {\"color\": \"#4D5663\"}, \"text\": \"\"}, \"zerolinecolor\": \"#E1E5ED\"}, \"xaxis8\": {\"anchor\": \"y8\", \"domain\": [0.7875, 1.0], \"gridcolor\": \"#E1E5ED\", \"showgrid\": false, \"tickfont\": {\"color\": \"#4D5663\"}, \"title\": {\"font\": {\"color\": \"#4D5663\"}, \"text\": \"\"}, \"zerolinecolor\": \"#E1E5ED\"}, \"xaxis9\": {\"anchor\": \"y9\", \"domain\": [0.0, 0.2125], \"gridcolor\": \"#E1E5ED\", \"showgrid\": false, \"tickfont\": {\"color\": \"#4D5663\"}, \"title\": {\"font\": {\"color\": \"#4D5663\"}, \"text\": \"\"}, \"zerolinecolor\": \"#E1E5ED\"}, \"yaxis\": {\"anchor\": \"x\", \"domain\": [0.8025, 1.0], \"gridcolor\": \"#E1E5ED\", \"showgrid\": false, \"tickfont\": {\"color\": \"#4D5663\"}, \"title\": {\"font\": {\"color\": \"#4D5663\"}, \"text\": \"\"}, \"zerolinecolor\": \"#E1E5ED\"}, \"yaxis10\": {\"anchor\": \"x10\", \"domain\": [0.2675, 0.465], \"gridcolor\": \"#E1E5ED\", \"showgrid\": false, \"tickfont\": {\"color\": \"#4D5663\"}, \"title\": {\"font\": {\"color\": \"#4D5663\"}, \"text\": \"\"}, \"zerolinecolor\": \"#E1E5ED\"}, \"yaxis11\": {\"anchor\": \"x11\", \"domain\": [0.2675, 0.465], \"gridcolor\": \"#E1E5ED\", \"showgrid\": false, \"tickfont\": {\"color\": \"#4D5663\"}, \"title\": {\"font\": {\"color\": \"#4D5663\"}, \"text\": \"\"}, \"zerolinecolor\": \"#E1E5ED\"}, \"yaxis12\": {\"anchor\": \"x12\", \"domain\": [0.2675, 0.465], \"gridcolor\": \"#E1E5ED\", \"showgrid\": false, \"tickfont\": {\"color\": \"#4D5663\"}, \"title\": {\"font\": {\"color\": \"#4D5663\"}, \"text\": \"\"}, \"zerolinecolor\": \"#E1E5ED\"}, \"yaxis13\": {\"anchor\": \"x13\", \"domain\": [0.0, 0.1975], \"gridcolor\": \"#E1E5ED\", \"showgrid\": false, \"tickfont\": {\"color\": \"#4D5663\"}, \"title\": {\"font\": {\"color\": \"#4D5663\"}, \"text\": \"\"}, \"zerolinecolor\": \"#E1E5ED\"}, \"yaxis14\": {\"anchor\": \"x14\", \"domain\": [0.0, 0.1975], \"gridcolor\": \"#E1E5ED\", \"showgrid\": false, \"tickfont\": {\"color\": \"#4D5663\"}, \"title\": {\"font\": {\"color\": \"#4D5663\"}, \"text\": \"\"}, \"zerolinecolor\": \"#E1E5ED\"}, \"yaxis15\": {\"anchor\": \"x15\", \"domain\": [0.0, 0.1975], \"gridcolor\": \"#E1E5ED\", \"showgrid\": false, \"tickfont\": {\"color\": \"#4D5663\"}, \"title\": {\"font\": {\"color\": \"#4D5663\"}, \"text\": \"\"}, \"zerolinecolor\": \"#E1E5ED\"}, \"yaxis16\": {\"anchor\": \"x16\", \"domain\": [0.0, 0.1975], \"gridcolor\": \"#E1E5ED\", \"showgrid\": false, \"tickfont\": {\"color\": \"#4D5663\"}, \"title\": {\"font\": {\"color\": \"#4D5663\"}, \"text\": \"\"}, \"zerolinecolor\": \"#E1E5ED\"}, \"yaxis2\": {\"anchor\": \"x2\", \"domain\": [0.8025, 1.0], \"gridcolor\": \"#E1E5ED\", \"showgrid\": false, \"tickfont\": {\"color\": \"#4D5663\"}, \"title\": {\"font\": {\"color\": \"#4D5663\"}, \"text\": \"\"}, \"zerolinecolor\": \"#E1E5ED\"}, \"yaxis3\": {\"anchor\": \"x3\", \"domain\": [0.8025, 1.0], \"gridcolor\": \"#E1E5ED\", \"showgrid\": false, \"tickfont\": {\"color\": \"#4D5663\"}, \"title\": {\"font\": {\"color\": \"#4D5663\"}, \"text\": \"\"}, \"zerolinecolor\": \"#E1E5ED\"}, \"yaxis4\": {\"anchor\": \"x4\", \"domain\": [0.8025, 1.0], \"gridcolor\": \"#E1E5ED\", \"showgrid\": false, \"tickfont\": {\"color\": \"#4D5663\"}, \"title\": {\"font\": {\"color\": \"#4D5663\"}, \"text\": \"\"}, \"zerolinecolor\": \"#E1E5ED\"}, \"yaxis5\": {\"anchor\": \"x5\", \"domain\": [0.535, 0.7325], \"gridcolor\": \"#E1E5ED\", \"showgrid\": false, \"tickfont\": {\"color\": \"#4D5663\"}, \"title\": {\"font\": {\"color\": \"#4D5663\"}, \"text\": \"\"}, \"zerolinecolor\": \"#E1E5ED\"}, \"yaxis6\": {\"anchor\": \"x6\", \"domain\": [0.535, 0.7325], \"gridcolor\": \"#E1E5ED\", \"showgrid\": false, \"tickfont\": {\"color\": \"#4D5663\"}, \"title\": {\"font\": {\"color\": \"#4D5663\"}, \"text\": \"\"}, \"zerolinecolor\": \"#E1E5ED\"}, \"yaxis7\": {\"anchor\": \"x7\", \"domain\": [0.535, 0.7325], \"gridcolor\": \"#E1E5ED\", \"showgrid\": false, \"tickfont\": {\"color\": \"#4D5663\"}, \"title\": {\"font\": {\"color\": \"#4D5663\"}, \"text\": \"\"}, \"zerolinecolor\": \"#E1E5ED\"}, \"yaxis8\": {\"anchor\": \"x8\", \"domain\": [0.535, 0.7325], \"gridcolor\": \"#E1E5ED\", \"showgrid\": false, \"tickfont\": {\"color\": \"#4D5663\"}, \"title\": {\"font\": {\"color\": \"#4D5663\"}, \"text\": \"\"}, \"zerolinecolor\": \"#E1E5ED\"}, \"yaxis9\": {\"anchor\": \"x9\", \"domain\": [0.2675, 0.465], \"gridcolor\": \"#E1E5ED\", \"showgrid\": false, \"tickfont\": {\"color\": \"#4D5663\"}, \"title\": {\"font\": {\"color\": \"#4D5663\"}, \"text\": \"\"}, \"zerolinecolor\": \"#E1E5ED\"}},                        {\"showLink\": true, \"linkText\": \"Export to plot.ly\", \"plotlyServerURL\": \"https://plot.ly\", \"responsive\": true}                    ).then(function(){\n",
       "                            \n",
       "var gd = document.getElementById('7d388cb6-086f-4a98-bedd-cb83b9b8f316');\n",
       "var x = new MutationObserver(function (mutations, observer) {{\n",
       "        var display = window.getComputedStyle(gd).display;\n",
       "        if (!display || display === 'none') {{\n",
       "            console.log([gd, 'removed!']);\n",
       "            Plotly.purge(gd);\n",
       "            observer.disconnect();\n",
       "        }}\n",
       "}});\n",
       "\n",
       "// Listen for the removal of the full notebook cells\n",
       "var notebookContainer = gd.closest('#notebook-container');\n",
       "if (notebookContainer) {{\n",
       "    x.observe(notebookContainer, {childList: true});\n",
       "}}\n",
       "\n",
       "// Listen for the clearing of the current output cell\n",
       "var outputEl = gd.closest('.output');\n",
       "if (outputEl) {{\n",
       "    x.observe(outputEl, {childList: true});\n",
       "}}\n",
       "\n",
       "                        })                };                });            </script>        </div>"
      ]
     },
     "metadata": {},
     "output_type": "display_data"
    }
   ],
   "source": [
    "df.scatter_matrix()"
   ]
  },
  {
   "cell_type": "code",
   "execution_count": 21,
   "metadata": {},
   "outputs": [
    {
     "data": {
      "application/vnd.plotly.v1+json": {
       "config": {
        "linkText": "Export to plot.ly",
        "plotlyServerURL": "https://plot.ly",
        "showLink": true
       },
       "data": [
        {
         "colorscale": [
          [
           0,
           "rgb(165,0,38)"
          ],
          [
           0.1,
           "rgb(215,48,39)"
          ],
          [
           0.2,
           "rgb(244,109,67)"
          ],
          [
           0.3,
           "rgb(253,174,97)"
          ],
          [
           0.4,
           "rgb(254,224,144)"
          ],
          [
           0.5,
           "rgb(255,255,191)"
          ],
          [
           0.6,
           "rgb(224,243,248)"
          ],
          [
           0.7,
           "rgb(171,217,233)"
          ],
          [
           0.8,
           "rgb(116,173,209)"
          ],
          [
           0.9,
           "rgb(69,117,180)"
          ],
          [
           1,
           "rgb(49,54,149)"
          ]
         ],
         "type": "surface",
         "x": [
          0,
          1,
          2,
          3,
          4
         ],
         "y": [
          "x",
          "y",
          "z"
         ],
         "z": [
          [
           1,
           2,
           3,
           4,
           5
          ],
          [
           10,
           20,
           30,
           20,
           10
          ],
          [
           5,
           4,
           3,
           2,
           1
          ]
         ]
        }
       ],
       "layout": {
        "legend": {
         "bgcolor": "#F5F6F9",
         "font": {
          "color": "#4D5663"
         }
        },
        "paper_bgcolor": "#F5F6F9",
        "plot_bgcolor": "#F5F6F9",
        "template": {
         "data": {
          "bar": [
           {
            "error_x": {
             "color": "#2a3f5f"
            },
            "error_y": {
             "color": "#2a3f5f"
            },
            "marker": {
             "line": {
              "color": "#E5ECF6",
              "width": 0.5
             }
            },
            "type": "bar"
           }
          ],
          "barpolar": [
           {
            "marker": {
             "line": {
              "color": "#E5ECF6",
              "width": 0.5
             }
            },
            "type": "barpolar"
           }
          ],
          "carpet": [
           {
            "aaxis": {
             "endlinecolor": "#2a3f5f",
             "gridcolor": "white",
             "linecolor": "white",
             "minorgridcolor": "white",
             "startlinecolor": "#2a3f5f"
            },
            "baxis": {
             "endlinecolor": "#2a3f5f",
             "gridcolor": "white",
             "linecolor": "white",
             "minorgridcolor": "white",
             "startlinecolor": "#2a3f5f"
            },
            "type": "carpet"
           }
          ],
          "choropleth": [
           {
            "colorbar": {
             "outlinewidth": 0,
             "ticks": ""
            },
            "type": "choropleth"
           }
          ],
          "contour": [
           {
            "colorbar": {
             "outlinewidth": 0,
             "ticks": ""
            },
            "colorscale": [
             [
              0,
              "#0d0887"
             ],
             [
              0.1111111111111111,
              "#46039f"
             ],
             [
              0.2222222222222222,
              "#7201a8"
             ],
             [
              0.3333333333333333,
              "#9c179e"
             ],
             [
              0.4444444444444444,
              "#bd3786"
             ],
             [
              0.5555555555555556,
              "#d8576b"
             ],
             [
              0.6666666666666666,
              "#ed7953"
             ],
             [
              0.7777777777777778,
              "#fb9f3a"
             ],
             [
              0.8888888888888888,
              "#fdca26"
             ],
             [
              1,
              "#f0f921"
             ]
            ],
            "type": "contour"
           }
          ],
          "contourcarpet": [
           {
            "colorbar": {
             "outlinewidth": 0,
             "ticks": ""
            },
            "type": "contourcarpet"
           }
          ],
          "heatmap": [
           {
            "colorbar": {
             "outlinewidth": 0,
             "ticks": ""
            },
            "colorscale": [
             [
              0,
              "#0d0887"
             ],
             [
              0.1111111111111111,
              "#46039f"
             ],
             [
              0.2222222222222222,
              "#7201a8"
             ],
             [
              0.3333333333333333,
              "#9c179e"
             ],
             [
              0.4444444444444444,
              "#bd3786"
             ],
             [
              0.5555555555555556,
              "#d8576b"
             ],
             [
              0.6666666666666666,
              "#ed7953"
             ],
             [
              0.7777777777777778,
              "#fb9f3a"
             ],
             [
              0.8888888888888888,
              "#fdca26"
             ],
             [
              1,
              "#f0f921"
             ]
            ],
            "type": "heatmap"
           }
          ],
          "heatmapgl": [
           {
            "colorbar": {
             "outlinewidth": 0,
             "ticks": ""
            },
            "colorscale": [
             [
              0,
              "#0d0887"
             ],
             [
              0.1111111111111111,
              "#46039f"
             ],
             [
              0.2222222222222222,
              "#7201a8"
             ],
             [
              0.3333333333333333,
              "#9c179e"
             ],
             [
              0.4444444444444444,
              "#bd3786"
             ],
             [
              0.5555555555555556,
              "#d8576b"
             ],
             [
              0.6666666666666666,
              "#ed7953"
             ],
             [
              0.7777777777777778,
              "#fb9f3a"
             ],
             [
              0.8888888888888888,
              "#fdca26"
             ],
             [
              1,
              "#f0f921"
             ]
            ],
            "type": "heatmapgl"
           }
          ],
          "histogram": [
           {
            "marker": {
             "colorbar": {
              "outlinewidth": 0,
              "ticks": ""
             }
            },
            "type": "histogram"
           }
          ],
          "histogram2d": [
           {
            "colorbar": {
             "outlinewidth": 0,
             "ticks": ""
            },
            "colorscale": [
             [
              0,
              "#0d0887"
             ],
             [
              0.1111111111111111,
              "#46039f"
             ],
             [
              0.2222222222222222,
              "#7201a8"
             ],
             [
              0.3333333333333333,
              "#9c179e"
             ],
             [
              0.4444444444444444,
              "#bd3786"
             ],
             [
              0.5555555555555556,
              "#d8576b"
             ],
             [
              0.6666666666666666,
              "#ed7953"
             ],
             [
              0.7777777777777778,
              "#fb9f3a"
             ],
             [
              0.8888888888888888,
              "#fdca26"
             ],
             [
              1,
              "#f0f921"
             ]
            ],
            "type": "histogram2d"
           }
          ],
          "histogram2dcontour": [
           {
            "colorbar": {
             "outlinewidth": 0,
             "ticks": ""
            },
            "colorscale": [
             [
              0,
              "#0d0887"
             ],
             [
              0.1111111111111111,
              "#46039f"
             ],
             [
              0.2222222222222222,
              "#7201a8"
             ],
             [
              0.3333333333333333,
              "#9c179e"
             ],
             [
              0.4444444444444444,
              "#bd3786"
             ],
             [
              0.5555555555555556,
              "#d8576b"
             ],
             [
              0.6666666666666666,
              "#ed7953"
             ],
             [
              0.7777777777777778,
              "#fb9f3a"
             ],
             [
              0.8888888888888888,
              "#fdca26"
             ],
             [
              1,
              "#f0f921"
             ]
            ],
            "type": "histogram2dcontour"
           }
          ],
          "mesh3d": [
           {
            "colorbar": {
             "outlinewidth": 0,
             "ticks": ""
            },
            "type": "mesh3d"
           }
          ],
          "parcoords": [
           {
            "line": {
             "colorbar": {
              "outlinewidth": 0,
              "ticks": ""
             }
            },
            "type": "parcoords"
           }
          ],
          "pie": [
           {
            "automargin": true,
            "type": "pie"
           }
          ],
          "scatter": [
           {
            "marker": {
             "colorbar": {
              "outlinewidth": 0,
              "ticks": ""
             }
            },
            "type": "scatter"
           }
          ],
          "scatter3d": [
           {
            "line": {
             "colorbar": {
              "outlinewidth": 0,
              "ticks": ""
             }
            },
            "marker": {
             "colorbar": {
              "outlinewidth": 0,
              "ticks": ""
             }
            },
            "type": "scatter3d"
           }
          ],
          "scattercarpet": [
           {
            "marker": {
             "colorbar": {
              "outlinewidth": 0,
              "ticks": ""
             }
            },
            "type": "scattercarpet"
           }
          ],
          "scattergeo": [
           {
            "marker": {
             "colorbar": {
              "outlinewidth": 0,
              "ticks": ""
             }
            },
            "type": "scattergeo"
           }
          ],
          "scattergl": [
           {
            "marker": {
             "colorbar": {
              "outlinewidth": 0,
              "ticks": ""
             }
            },
            "type": "scattergl"
           }
          ],
          "scattermapbox": [
           {
            "marker": {
             "colorbar": {
              "outlinewidth": 0,
              "ticks": ""
             }
            },
            "type": "scattermapbox"
           }
          ],
          "scatterpolar": [
           {
            "marker": {
             "colorbar": {
              "outlinewidth": 0,
              "ticks": ""
             }
            },
            "type": "scatterpolar"
           }
          ],
          "scatterpolargl": [
           {
            "marker": {
             "colorbar": {
              "outlinewidth": 0,
              "ticks": ""
             }
            },
            "type": "scatterpolargl"
           }
          ],
          "scatterternary": [
           {
            "marker": {
             "colorbar": {
              "outlinewidth": 0,
              "ticks": ""
             }
            },
            "type": "scatterternary"
           }
          ],
          "surface": [
           {
            "colorbar": {
             "outlinewidth": 0,
             "ticks": ""
            },
            "colorscale": [
             [
              0,
              "#0d0887"
             ],
             [
              0.1111111111111111,
              "#46039f"
             ],
             [
              0.2222222222222222,
              "#7201a8"
             ],
             [
              0.3333333333333333,
              "#9c179e"
             ],
             [
              0.4444444444444444,
              "#bd3786"
             ],
             [
              0.5555555555555556,
              "#d8576b"
             ],
             [
              0.6666666666666666,
              "#ed7953"
             ],
             [
              0.7777777777777778,
              "#fb9f3a"
             ],
             [
              0.8888888888888888,
              "#fdca26"
             ],
             [
              1,
              "#f0f921"
             ]
            ],
            "type": "surface"
           }
          ],
          "table": [
           {
            "cells": {
             "fill": {
              "color": "#EBF0F8"
             },
             "line": {
              "color": "white"
             }
            },
            "header": {
             "fill": {
              "color": "#C8D4E3"
             },
             "line": {
              "color": "white"
             }
            },
            "type": "table"
           }
          ]
         },
         "layout": {
          "annotationdefaults": {
           "arrowcolor": "#2a3f5f",
           "arrowhead": 0,
           "arrowwidth": 1
          },
          "autotypenumbers": "strict",
          "coloraxis": {
           "colorbar": {
            "outlinewidth": 0,
            "ticks": ""
           }
          },
          "colorscale": {
           "diverging": [
            [
             0,
             "#8e0152"
            ],
            [
             0.1,
             "#c51b7d"
            ],
            [
             0.2,
             "#de77ae"
            ],
            [
             0.3,
             "#f1b6da"
            ],
            [
             0.4,
             "#fde0ef"
            ],
            [
             0.5,
             "#f7f7f7"
            ],
            [
             0.6,
             "#e6f5d0"
            ],
            [
             0.7,
             "#b8e186"
            ],
            [
             0.8,
             "#7fbc41"
            ],
            [
             0.9,
             "#4d9221"
            ],
            [
             1,
             "#276419"
            ]
           ],
           "sequential": [
            [
             0,
             "#0d0887"
            ],
            [
             0.1111111111111111,
             "#46039f"
            ],
            [
             0.2222222222222222,
             "#7201a8"
            ],
            [
             0.3333333333333333,
             "#9c179e"
            ],
            [
             0.4444444444444444,
             "#bd3786"
            ],
            [
             0.5555555555555556,
             "#d8576b"
            ],
            [
             0.6666666666666666,
             "#ed7953"
            ],
            [
             0.7777777777777778,
             "#fb9f3a"
            ],
            [
             0.8888888888888888,
             "#fdca26"
            ],
            [
             1,
             "#f0f921"
            ]
           ],
           "sequentialminus": [
            [
             0,
             "#0d0887"
            ],
            [
             0.1111111111111111,
             "#46039f"
            ],
            [
             0.2222222222222222,
             "#7201a8"
            ],
            [
             0.3333333333333333,
             "#9c179e"
            ],
            [
             0.4444444444444444,
             "#bd3786"
            ],
            [
             0.5555555555555556,
             "#d8576b"
            ],
            [
             0.6666666666666666,
             "#ed7953"
            ],
            [
             0.7777777777777778,
             "#fb9f3a"
            ],
            [
             0.8888888888888888,
             "#fdca26"
            ],
            [
             1,
             "#f0f921"
            ]
           ]
          },
          "colorway": [
           "#636efa",
           "#EF553B",
           "#00cc96",
           "#ab63fa",
           "#FFA15A",
           "#19d3f3",
           "#FF6692",
           "#B6E880",
           "#FF97FF",
           "#FECB52"
          ],
          "font": {
           "color": "#2a3f5f"
          },
          "geo": {
           "bgcolor": "white",
           "lakecolor": "white",
           "landcolor": "#E5ECF6",
           "showlakes": true,
           "showland": true,
           "subunitcolor": "white"
          },
          "hoverlabel": {
           "align": "left"
          },
          "hovermode": "closest",
          "mapbox": {
           "style": "light"
          },
          "paper_bgcolor": "white",
          "plot_bgcolor": "#E5ECF6",
          "polar": {
           "angularaxis": {
            "gridcolor": "white",
            "linecolor": "white",
            "ticks": ""
           },
           "bgcolor": "#E5ECF6",
           "radialaxis": {
            "gridcolor": "white",
            "linecolor": "white",
            "ticks": ""
           }
          },
          "scene": {
           "xaxis": {
            "backgroundcolor": "#E5ECF6",
            "gridcolor": "white",
            "gridwidth": 2,
            "linecolor": "white",
            "showbackground": true,
            "ticks": "",
            "zerolinecolor": "white"
           },
           "yaxis": {
            "backgroundcolor": "#E5ECF6",
            "gridcolor": "white",
            "gridwidth": 2,
            "linecolor": "white",
            "showbackground": true,
            "ticks": "",
            "zerolinecolor": "white"
           },
           "zaxis": {
            "backgroundcolor": "#E5ECF6",
            "gridcolor": "white",
            "gridwidth": 2,
            "linecolor": "white",
            "showbackground": true,
            "ticks": "",
            "zerolinecolor": "white"
           }
          },
          "shapedefaults": {
           "line": {
            "color": "#2a3f5f"
           }
          },
          "ternary": {
           "aaxis": {
            "gridcolor": "white",
            "linecolor": "white",
            "ticks": ""
           },
           "baxis": {
            "gridcolor": "white",
            "linecolor": "white",
            "ticks": ""
           },
           "bgcolor": "#E5ECF6",
           "caxis": {
            "gridcolor": "white",
            "linecolor": "white",
            "ticks": ""
           }
          },
          "title": {
           "x": 0.05
          },
          "xaxis": {
           "automargin": true,
           "gridcolor": "white",
           "linecolor": "white",
           "ticks": "",
           "title": {
            "standoff": 15
           },
           "zerolinecolor": "white",
           "zerolinewidth": 2
          },
          "yaxis": {
           "automargin": true,
           "gridcolor": "white",
           "linecolor": "white",
           "ticks": "",
           "title": {
            "standoff": 15
           },
           "zerolinecolor": "white",
           "zerolinewidth": 2
          }
         }
        },
        "title": {
         "font": {
          "color": "#4D5663"
         }
        },
        "xaxis": {
         "gridcolor": "#E1E5ED",
         "showgrid": true,
         "tickfont": {
          "color": "#4D5663"
         },
         "title": {
          "font": {
           "color": "#4D5663"
          },
          "text": ""
         },
         "zerolinecolor": "#E1E5ED"
        },
        "yaxis": {
         "gridcolor": "#E1E5ED",
         "showgrid": true,
         "tickfont": {
          "color": "#4D5663"
         },
         "title": {
          "font": {
           "color": "#4D5663"
          },
          "text": ""
         },
         "zerolinecolor": "#E1E5ED"
        }
       }
      },
      "text/html": [
       "<div>                            <div id=\"ff51d070-1755-4033-a590-122d3fe071c8\" class=\"plotly-graph-div\" style=\"height:525px; width:100%;\"></div>            <script type=\"text/javascript\">                require([\"plotly\"], function(Plotly) {                    window.PLOTLYENV=window.PLOTLYENV || {};\n",
       "                    window.PLOTLYENV.BASE_URL='https://plot.ly';                                    if (document.getElementById(\"ff51d070-1755-4033-a590-122d3fe071c8\")) {                    Plotly.newPlot(                        \"ff51d070-1755-4033-a590-122d3fe071c8\",                        [{\"colorscale\": [[0.0, \"rgb(165,0,38)\"], [0.1, \"rgb(215,48,39)\"], [0.2, \"rgb(244,109,67)\"], [0.3, \"rgb(253,174,97)\"], [0.4, \"rgb(254,224,144)\"], [0.5, \"rgb(255,255,191)\"], [0.6, \"rgb(224,243,248)\"], [0.7, \"rgb(171,217,233)\"], [0.8, \"rgb(116,173,209)\"], [0.9, \"rgb(69,117,180)\"], [1.0, \"rgb(49,54,149)\"]], \"type\": \"surface\", \"x\": [0, 1, 2, 3, 4], \"y\": [\"x\", \"y\", \"z\"], \"z\": [[1, 2, 3, 4, 5], [10, 20, 30, 20, 10], [5, 4, 3, 2, 1]]}],                        {\"legend\": {\"bgcolor\": \"#F5F6F9\", \"font\": {\"color\": \"#4D5663\"}}, \"paper_bgcolor\": \"#F5F6F9\", \"plot_bgcolor\": \"#F5F6F9\", \"template\": {\"data\": {\"bar\": [{\"error_x\": {\"color\": \"#2a3f5f\"}, \"error_y\": {\"color\": \"#2a3f5f\"}, \"marker\": {\"line\": {\"color\": \"#E5ECF6\", \"width\": 0.5}}, \"type\": \"bar\"}], \"barpolar\": [{\"marker\": {\"line\": {\"color\": \"#E5ECF6\", \"width\": 0.5}}, \"type\": \"barpolar\"}], \"carpet\": [{\"aaxis\": {\"endlinecolor\": \"#2a3f5f\", \"gridcolor\": \"white\", \"linecolor\": \"white\", \"minorgridcolor\": \"white\", \"startlinecolor\": \"#2a3f5f\"}, \"baxis\": {\"endlinecolor\": \"#2a3f5f\", \"gridcolor\": \"white\", \"linecolor\": \"white\", \"minorgridcolor\": \"white\", \"startlinecolor\": \"#2a3f5f\"}, \"type\": \"carpet\"}], \"choropleth\": [{\"colorbar\": {\"outlinewidth\": 0, \"ticks\": \"\"}, \"type\": \"choropleth\"}], \"contour\": [{\"colorbar\": {\"outlinewidth\": 0, \"ticks\": \"\"}, \"colorscale\": [[0.0, \"#0d0887\"], [0.1111111111111111, \"#46039f\"], [0.2222222222222222, \"#7201a8\"], [0.3333333333333333, \"#9c179e\"], [0.4444444444444444, \"#bd3786\"], [0.5555555555555556, \"#d8576b\"], [0.6666666666666666, \"#ed7953\"], [0.7777777777777778, \"#fb9f3a\"], [0.8888888888888888, \"#fdca26\"], [1.0, \"#f0f921\"]], \"type\": \"contour\"}], \"contourcarpet\": [{\"colorbar\": {\"outlinewidth\": 0, \"ticks\": \"\"}, \"type\": \"contourcarpet\"}], \"heatmap\": [{\"colorbar\": {\"outlinewidth\": 0, \"ticks\": \"\"}, \"colorscale\": [[0.0, \"#0d0887\"], [0.1111111111111111, \"#46039f\"], [0.2222222222222222, \"#7201a8\"], [0.3333333333333333, \"#9c179e\"], [0.4444444444444444, \"#bd3786\"], [0.5555555555555556, \"#d8576b\"], [0.6666666666666666, \"#ed7953\"], [0.7777777777777778, \"#fb9f3a\"], [0.8888888888888888, \"#fdca26\"], [1.0, \"#f0f921\"]], \"type\": \"heatmap\"}], \"heatmapgl\": [{\"colorbar\": {\"outlinewidth\": 0, \"ticks\": \"\"}, \"colorscale\": [[0.0, \"#0d0887\"], [0.1111111111111111, \"#46039f\"], [0.2222222222222222, \"#7201a8\"], [0.3333333333333333, \"#9c179e\"], [0.4444444444444444, \"#bd3786\"], [0.5555555555555556, \"#d8576b\"], [0.6666666666666666, \"#ed7953\"], [0.7777777777777778, \"#fb9f3a\"], [0.8888888888888888, \"#fdca26\"], [1.0, \"#f0f921\"]], \"type\": \"heatmapgl\"}], \"histogram\": [{\"marker\": {\"colorbar\": {\"outlinewidth\": 0, \"ticks\": \"\"}}, \"type\": \"histogram\"}], \"histogram2d\": [{\"colorbar\": {\"outlinewidth\": 0, \"ticks\": \"\"}, \"colorscale\": [[0.0, \"#0d0887\"], [0.1111111111111111, \"#46039f\"], [0.2222222222222222, \"#7201a8\"], [0.3333333333333333, \"#9c179e\"], [0.4444444444444444, \"#bd3786\"], [0.5555555555555556, \"#d8576b\"], [0.6666666666666666, \"#ed7953\"], [0.7777777777777778, \"#fb9f3a\"], [0.8888888888888888, \"#fdca26\"], [1.0, \"#f0f921\"]], \"type\": \"histogram2d\"}], \"histogram2dcontour\": [{\"colorbar\": {\"outlinewidth\": 0, \"ticks\": \"\"}, \"colorscale\": [[0.0, \"#0d0887\"], [0.1111111111111111, \"#46039f\"], [0.2222222222222222, \"#7201a8\"], [0.3333333333333333, \"#9c179e\"], [0.4444444444444444, \"#bd3786\"], [0.5555555555555556, \"#d8576b\"], [0.6666666666666666, \"#ed7953\"], [0.7777777777777778, \"#fb9f3a\"], [0.8888888888888888, \"#fdca26\"], [1.0, \"#f0f921\"]], \"type\": \"histogram2dcontour\"}], \"mesh3d\": [{\"colorbar\": {\"outlinewidth\": 0, \"ticks\": \"\"}, \"type\": \"mesh3d\"}], \"parcoords\": [{\"line\": {\"colorbar\": {\"outlinewidth\": 0, \"ticks\": \"\"}}, \"type\": \"parcoords\"}], \"pie\": [{\"automargin\": true, \"type\": \"pie\"}], \"scatter\": [{\"marker\": {\"colorbar\": {\"outlinewidth\": 0, \"ticks\": \"\"}}, \"type\": \"scatter\"}], \"scatter3d\": [{\"line\": {\"colorbar\": {\"outlinewidth\": 0, \"ticks\": \"\"}}, \"marker\": {\"colorbar\": {\"outlinewidth\": 0, \"ticks\": \"\"}}, \"type\": \"scatter3d\"}], \"scattercarpet\": [{\"marker\": {\"colorbar\": {\"outlinewidth\": 0, \"ticks\": \"\"}}, \"type\": \"scattercarpet\"}], \"scattergeo\": [{\"marker\": {\"colorbar\": {\"outlinewidth\": 0, \"ticks\": \"\"}}, \"type\": \"scattergeo\"}], \"scattergl\": [{\"marker\": {\"colorbar\": {\"outlinewidth\": 0, \"ticks\": \"\"}}, \"type\": \"scattergl\"}], \"scattermapbox\": [{\"marker\": {\"colorbar\": {\"outlinewidth\": 0, \"ticks\": \"\"}}, \"type\": \"scattermapbox\"}], \"scatterpolar\": [{\"marker\": {\"colorbar\": {\"outlinewidth\": 0, \"ticks\": \"\"}}, \"type\": \"scatterpolar\"}], \"scatterpolargl\": [{\"marker\": {\"colorbar\": {\"outlinewidth\": 0, \"ticks\": \"\"}}, \"type\": \"scatterpolargl\"}], \"scatterternary\": [{\"marker\": {\"colorbar\": {\"outlinewidth\": 0, \"ticks\": \"\"}}, \"type\": \"scatterternary\"}], \"surface\": [{\"colorbar\": {\"outlinewidth\": 0, \"ticks\": \"\"}, \"colorscale\": [[0.0, \"#0d0887\"], [0.1111111111111111, \"#46039f\"], [0.2222222222222222, \"#7201a8\"], [0.3333333333333333, \"#9c179e\"], [0.4444444444444444, \"#bd3786\"], [0.5555555555555556, \"#d8576b\"], [0.6666666666666666, \"#ed7953\"], [0.7777777777777778, \"#fb9f3a\"], [0.8888888888888888, \"#fdca26\"], [1.0, \"#f0f921\"]], \"type\": \"surface\"}], \"table\": [{\"cells\": {\"fill\": {\"color\": \"#EBF0F8\"}, \"line\": {\"color\": \"white\"}}, \"header\": {\"fill\": {\"color\": \"#C8D4E3\"}, \"line\": {\"color\": \"white\"}}, \"type\": \"table\"}]}, \"layout\": {\"annotationdefaults\": {\"arrowcolor\": \"#2a3f5f\", \"arrowhead\": 0, \"arrowwidth\": 1}, \"autotypenumbers\": \"strict\", \"coloraxis\": {\"colorbar\": {\"outlinewidth\": 0, \"ticks\": \"\"}}, \"colorscale\": {\"diverging\": [[0, \"#8e0152\"], [0.1, \"#c51b7d\"], [0.2, \"#de77ae\"], [0.3, \"#f1b6da\"], [0.4, \"#fde0ef\"], [0.5, \"#f7f7f7\"], [0.6, \"#e6f5d0\"], [0.7, \"#b8e186\"], [0.8, \"#7fbc41\"], [0.9, \"#4d9221\"], [1, \"#276419\"]], \"sequential\": [[0.0, \"#0d0887\"], [0.1111111111111111, \"#46039f\"], [0.2222222222222222, \"#7201a8\"], [0.3333333333333333, \"#9c179e\"], [0.4444444444444444, \"#bd3786\"], [0.5555555555555556, \"#d8576b\"], [0.6666666666666666, \"#ed7953\"], [0.7777777777777778, \"#fb9f3a\"], [0.8888888888888888, \"#fdca26\"], [1.0, \"#f0f921\"]], \"sequentialminus\": [[0.0, \"#0d0887\"], [0.1111111111111111, \"#46039f\"], [0.2222222222222222, \"#7201a8\"], [0.3333333333333333, \"#9c179e\"], [0.4444444444444444, \"#bd3786\"], [0.5555555555555556, \"#d8576b\"], [0.6666666666666666, \"#ed7953\"], [0.7777777777777778, \"#fb9f3a\"], [0.8888888888888888, \"#fdca26\"], [1.0, \"#f0f921\"]]}, \"colorway\": [\"#636efa\", \"#EF553B\", \"#00cc96\", \"#ab63fa\", \"#FFA15A\", \"#19d3f3\", \"#FF6692\", \"#B6E880\", \"#FF97FF\", \"#FECB52\"], \"font\": {\"color\": \"#2a3f5f\"}, \"geo\": {\"bgcolor\": \"white\", \"lakecolor\": \"white\", \"landcolor\": \"#E5ECF6\", \"showlakes\": true, \"showland\": true, \"subunitcolor\": \"white\"}, \"hoverlabel\": {\"align\": \"left\"}, \"hovermode\": \"closest\", \"mapbox\": {\"style\": \"light\"}, \"paper_bgcolor\": \"white\", \"plot_bgcolor\": \"#E5ECF6\", \"polar\": {\"angularaxis\": {\"gridcolor\": \"white\", \"linecolor\": \"white\", \"ticks\": \"\"}, \"bgcolor\": \"#E5ECF6\", \"radialaxis\": {\"gridcolor\": \"white\", \"linecolor\": \"white\", \"ticks\": \"\"}}, \"scene\": {\"xaxis\": {\"backgroundcolor\": \"#E5ECF6\", \"gridcolor\": \"white\", \"gridwidth\": 2, \"linecolor\": \"white\", \"showbackground\": true, \"ticks\": \"\", \"zerolinecolor\": \"white\"}, \"yaxis\": {\"backgroundcolor\": \"#E5ECF6\", \"gridcolor\": \"white\", \"gridwidth\": 2, \"linecolor\": \"white\", \"showbackground\": true, \"ticks\": \"\", \"zerolinecolor\": \"white\"}, \"zaxis\": {\"backgroundcolor\": \"#E5ECF6\", \"gridcolor\": \"white\", \"gridwidth\": 2, \"linecolor\": \"white\", \"showbackground\": true, \"ticks\": \"\", \"zerolinecolor\": \"white\"}}, \"shapedefaults\": {\"line\": {\"color\": \"#2a3f5f\"}}, \"ternary\": {\"aaxis\": {\"gridcolor\": \"white\", \"linecolor\": \"white\", \"ticks\": \"\"}, \"baxis\": {\"gridcolor\": \"white\", \"linecolor\": \"white\", \"ticks\": \"\"}, \"bgcolor\": \"#E5ECF6\", \"caxis\": {\"gridcolor\": \"white\", \"linecolor\": \"white\", \"ticks\": \"\"}}, \"title\": {\"x\": 0.05}, \"xaxis\": {\"automargin\": true, \"gridcolor\": \"white\", \"linecolor\": \"white\", \"ticks\": \"\", \"title\": {\"standoff\": 15}, \"zerolinecolor\": \"white\", \"zerolinewidth\": 2}, \"yaxis\": {\"automargin\": true, \"gridcolor\": \"white\", \"linecolor\": \"white\", \"ticks\": \"\", \"title\": {\"standoff\": 15}, \"zerolinecolor\": \"white\", \"zerolinewidth\": 2}}}, \"title\": {\"font\": {\"color\": \"#4D5663\"}}, \"xaxis\": {\"gridcolor\": \"#E1E5ED\", \"showgrid\": true, \"tickfont\": {\"color\": \"#4D5663\"}, \"title\": {\"font\": {\"color\": \"#4D5663\"}, \"text\": \"\"}, \"zerolinecolor\": \"#E1E5ED\"}, \"yaxis\": {\"gridcolor\": \"#E1E5ED\", \"showgrid\": true, \"tickfont\": {\"color\": \"#4D5663\"}, \"title\": {\"font\": {\"color\": \"#4D5663\"}, \"text\": \"\"}, \"zerolinecolor\": \"#E1E5ED\"}},                        {\"showLink\": true, \"linkText\": \"Export to plot.ly\", \"plotlyServerURL\": \"https://plot.ly\", \"responsive\": true}                    ).then(function(){\n",
       "                            \n",
       "var gd = document.getElementById('ff51d070-1755-4033-a590-122d3fe071c8');\n",
       "var x = new MutationObserver(function (mutations, observer) {{\n",
       "        var display = window.getComputedStyle(gd).display;\n",
       "        if (!display || display === 'none') {{\n",
       "            console.log([gd, 'removed!']);\n",
       "            Plotly.purge(gd);\n",
       "            observer.disconnect();\n",
       "        }}\n",
       "}});\n",
       "\n",
       "// Listen for the removal of the full notebook cells\n",
       "var notebookContainer = gd.closest('#notebook-container');\n",
       "if (notebookContainer) {{\n",
       "    x.observe(notebookContainer, {childList: true});\n",
       "}}\n",
       "\n",
       "// Listen for the clearing of the current output cell\n",
       "var outputEl = gd.closest('.output');\n",
       "if (outputEl) {{\n",
       "    x.observe(outputEl, {childList: true});\n",
       "}}\n",
       "\n",
       "                        })                };                });            </script>        </div>"
      ]
     },
     "metadata": {},
     "output_type": "display_data"
    }
   ],
   "source": [
    "df3 = pd.DataFrame({'x':[1,2,3,4,5],'y':[10,20,30,20,10],'z':[5,4,3,2,1]})\n",
    "df3.iplot(kind='surface',colorscale='rdylbu')"
   ]
  },
  {
   "cell_type": "code",
   "execution_count": null,
   "metadata": {},
   "outputs": [],
   "source": []
  }
 ],
 "metadata": {
  "kernelspec": {
   "display_name": "Python 3",
   "language": "python",
   "name": "python3"
  },
  "language_info": {
   "codemirror_mode": {
    "name": "ipython",
    "version": 3
   },
   "file_extension": ".py",
   "mimetype": "text/x-python",
   "name": "python",
   "nbconvert_exporter": "python",
   "pygments_lexer": "ipython3",
   "version": "3.8.5"
  }
 },
 "nbformat": 4,
 "nbformat_minor": 4
}
